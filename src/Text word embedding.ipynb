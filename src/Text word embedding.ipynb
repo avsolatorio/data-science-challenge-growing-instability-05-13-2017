{
 "cells": [
  {
   "cell_type": "code",
   "execution_count": 132,
   "metadata": {
    "collapsed": true
   },
   "outputs": [],
   "source": [
    "import fasttext\n",
    "import pandas as pd\n",
    "import numpy as np\n",
    "from gensim.models.word2vec import Word2Vec\n",
    "import re\n",
    "from datetime import datetime, timedelta\n",
    "import glob\n",
    "import json\n",
    "import tensorflow\n",
    "import keras\n",
    "import multiprocessing as mp\n",
    "from joblib import Parallel, delayed\n",
    "import os\n",
    "from wordsegment import segment\n",
    "from sklearn.metrics.pairwise import cosine_similarity\n",
    "import ijson\n",
    "from sklearn.metrics import f1_score\n",
    "# http://thinknook.com/10-ways-to-improve-your-classification-algorithm-performance-2013-01-21/"
   ]
  },
  {
   "cell_type": "code",
   "execution_count": 3,
   "metadata": {
    "collapsed": true
   },
   "outputs": [],
   "source": [
    "def transform_text(df, retain_special_chars=False):\n",
    "    body = df.bodyText\\\n",
    "    .str.replace(\"I'm \", \"I am \")\\\n",
    "    .str.replace(\"It's \", 'It is ')\\\n",
    "    .str.replace(\"'ve \", \" have \")\\\n",
    "    .str.replace(\"'re \", ' are ')\\\n",
    "    .str.replace(\"n't \", \" not \")\\\n",
    "    .str.replace(\" ([a-z]+)('s) \", ur' \\1 is ')\\\n",
    "    .str.lower()\n",
    "\n",
    "    if retain_special_chars:\n",
    "        body = body\\\n",
    "        .str.replace('([a-zA-Z0-9]+)(\\W)', ur'\\1 \\2')\\\n",
    "        .str.replace('(\\W)([a-zA-Z0-9])', ur'\\1 \\2')\n",
    "    else:\n",
    "        body = body\\\n",
    "        .str.replace('\\W', ' ')\n",
    "\n",
    "    body = body\\\n",
    "    .str.replace('\\s\\s+', ' ')\n",
    "    \n",
    "    return body\n",
    "    \n",
    "\n",
    "def normalize_for_fasttext(df, topics, fname='fasttext_normalized_train_body_data.csv', retain_special_chars=False, with_labels=True):\n",
    "    body = transform_text(df, retain_special_chars=retain_special_chars)\n",
    "    labels = df.topics.map(topics.intersection)\n",
    "\n",
    "    if with_labels:\n",
    "        if not topics:\n",
    "            raise ValueError('Topics must not be empty if with_labels is set to True!')\n",
    "        \n",
    "        labels = labels.map(\n",
    "            lambda x: u' , '.join([u'__label__{}'.format(i) for i in x if i in topics]) if x else u'__label__null'\n",
    "        )\n",
    "\n",
    "        body = labels + ' , ' + body\n",
    "\n",
    "    if fname:\n",
    "        body.to_csv(fname, mode='a', index=False, encoding='utf-8')\n",
    "        return labels.reset_index()\n",
    "    else:\n",
    "        return body"
   ]
  },
  {
   "cell_type": "code",
   "execution_count": 4,
   "metadata": {},
   "outputs": [
    {
     "data": {
      "text/plain": [
       "160"
      ]
     },
     "execution_count": 4,
     "metadata": {},
     "output_type": "execute_result"
    }
   ],
   "source": [
    "sample_sub = pd.read_csv('../data/sampleSubmission.csv')\n",
    "topics = set(sample_sub.columns.difference(['id']))\n",
    "\n",
    "topic2actual = {}\n",
    "for i in sample_sub.columns:\n",
    "    if 'id' == i:\n",
    "        continue\n",
    "    topic2actual[i] = segment(i)\n",
    "    \n",
    "len(topics)"
   ]
  },
  {
   "cell_type": "code",
   "execution_count": 5,
   "metadata": {
    "collapsed": true
   },
   "outputs": [],
   "source": [
    "num_proc = mp.cpu_count() - 1\n",
    "\n",
    "def parallel_corpus_processor(samp, normalize_for_fasttext, batch, num_proc, processing_kwargs):\n",
    "\n",
    "    with Parallel(n_jobs=num_proc) as parallel:\n",
    "        dataset = []\n",
    "        is_break = False\n",
    "        i = 0\n",
    "        \n",
    "        base_dir = './corpus'\n",
    "        base_name = 'train_body_data-with_labels_{with_labels}-retain_special_chars_{retain_special_chars}'.format(**processing_kwargs)\n",
    "        base_name = os.path.join(base_dir, base_name)\n",
    "\n",
    "        while not is_break:\n",
    "            payload = []\n",
    "\n",
    "            for j in xrange(num_proc):\n",
    "                t_df = samp[(i + j) * batch: (i + 1 + j) * batch]\n",
    "\n",
    "                if t_df.empty:\n",
    "                    is_break = True\n",
    "                    continue\n",
    "\n",
    "                payload.append(\n",
    "                    delayed(normalize_for_fasttext)(\n",
    "                        t_df, fname=base_name + '_{}.csv'.format(j), **processing_kwargs\n",
    "                    )\n",
    "                )\n",
    "\n",
    "            print('Current batch in main thread: {}'.format((i + j) * batch))\n",
    "\n",
    "            if payload:\n",
    "                results = parallel(payload)\n",
    "                dataset.extend(results)\n",
    "                i += num_proc\n",
    "\n",
    "    return pd.concat(dataset)"
   ]
  },
  {
   "cell_type": "code",
   "execution_count": 76,
   "metadata": {
    "scrolled": true
   },
   "outputs": [
    {
     "name": "stdout",
     "output_type": "stream",
     "text": [
      "Processing ../data/TrainingData/1999a_TrainingData.json...\n",
      "Current batch in main thread: 30000\n",
      "Processing ../data/TrainingData/1999b_TrainingData.json...\n",
      "Current batch in main thread: 30000\n",
      "Processing ../data/TrainingData/2000a_TrainingData.json...\n",
      "Current batch in main thread: 30000\n",
      "Current batch in main thread: 65000\n",
      "Processing ../data/TrainingData/2000b_TrainingData.json...\n",
      "Current batch in main thread: 30000\n",
      "Current batch in main thread: 65000\n",
      "Processing ../data/TrainingData/2001a_TrainingData.json...\n",
      "Current batch in main thread: 30000\n",
      "Current batch in main thread: 65000\n",
      "Processing ../data/TrainingData/2001b_TrainingData.json...\n",
      "Current batch in main thread: 30000\n",
      "Current batch in main thread: 65000\n",
      "Processing ../data/TrainingData/2002a_TrainingData.json...\n",
      "Current batch in main thread: 30000\n",
      "Current batch in main thread: 65000\n",
      "Processing ../data/TrainingData/2002b_TrainingData.json...\n",
      "Current batch in main thread: 30000\n",
      "Current batch in main thread: 65000\n",
      "Processing ../data/TrainingData/2003a_TrainingData.json...\n",
      "Current batch in main thread: 30000\n",
      "Current batch in main thread: 65000\n",
      "Processing ../data/TrainingData/2003b_TrainingData.json...\n",
      "Current batch in main thread: 30000\n",
      "Current batch in main thread: 65000\n",
      "Processing ../data/TrainingData/2004a_TrainingData.json...\n",
      "Current batch in main thread: 30000\n",
      "Current batch in main thread: 65000\n",
      "Processing ../data/TrainingData/2004b_TrainingData.json...\n",
      "Current batch in main thread: 30000\n",
      "Current batch in main thread: 65000\n",
      "Processing ../data/TrainingData/2005a_TrainingData.json...\n",
      "Current batch in main thread: 30000\n",
      "Current batch in main thread: 65000\n",
      "Processing ../data/TrainingData/2005b_TrainingData.json...\n",
      "Current batch in main thread: 30000\n",
      "Current batch in main thread: 65000\n",
      "Processing ../data/TrainingData/2006a_TrainingData.json...\n",
      "Current batch in main thread: 30000\n",
      "Current batch in main thread: 65000\n",
      "Processing ../data/TrainingData/2006b_TrainingData.json...\n",
      "Current batch in main thread: 30000\n",
      "Current batch in main thread: 65000\n",
      "Processing ../data/TrainingData/2007a_TrainingData.json...\n",
      "Current batch in main thread: 30000\n",
      "Current batch in main thread: 65000\n",
      "Processing ../data/TrainingData/2007b_TrainingData.json...\n",
      "Current batch in main thread: 30000\n",
      "Current batch in main thread: 65000\n",
      "Processing ../data/TrainingData/2008a_TrainingData.json...\n",
      "Current batch in main thread: 30000\n",
      "Current batch in main thread: 65000\n",
      "Current batch in main thread: 100000\n",
      "Processing ../data/TrainingData/2008b_TrainingData.json...\n",
      "Current batch in main thread: 30000\n",
      "Current batch in main thread: 65000\n",
      "Current batch in main thread: 100000\n",
      "Processing ../data/TrainingData/2009a_TrainingData.json...\n",
      "Current batch in main thread: 30000\n",
      "Current batch in main thread: 65000\n",
      "Current batch in main thread: 100000\n",
      "Processing ../data/TrainingData/2009b_TrainingData.json...\n",
      "Current batch in main thread: 30000\n",
      "Current batch in main thread: 65000\n",
      "Processing ../data/TrainingData/2010a_TrainingData.json...\n",
      "Current batch in main thread: 30000\n",
      "Current batch in main thread: 65000\n",
      "Processing ../data/TrainingData/2010b_TrainingData.json...\n",
      "Current batch in main thread: 30000\n",
      "Current batch in main thread: 65000\n",
      "Processing ../data/TrainingData/2011a_TrainingData.json...\n",
      "Current batch in main thread: 30000\n",
      "Current batch in main thread: 65000\n",
      "Processing ../data/TrainingData/2011b_TrainingData.json...\n",
      "Current batch in main thread: 30000\n",
      "Current batch in main thread: 65000\n",
      "Processing ../data/TrainingData/2012a_TrainingData.json...\n",
      "Current batch in main thread: 30000\n",
      "Current batch in main thread: 65000\n",
      "Processing ../data/TrainingData/2012b_TrainingData.json...\n",
      "Current batch in main thread: 30000\n",
      "Current batch in main thread: 65000\n",
      "Processing ../data/TrainingData/2013a_TrainingData.json...\n",
      "Current batch in main thread: 30000\n",
      "Current batch in main thread: 65000\n",
      "Processing ../data/TrainingData/2013b_TrainingData.json...\n",
      "Current batch in main thread: 30000\n",
      "Current batch in main thread: 65000\n",
      "Processing ../data/TrainingData/2014a_TrainingData.json...\n",
      "Current batch in main thread: 30000\n",
      "Current batch in main thread: 65000\n",
      "Processing ../data/TrainingData/2014b_TrainingData.json...\n",
      "Current batch in main thread: 30000\n",
      "Current batch in main thread: 65000\n",
      "Current batch in main thread: 30000\n",
      "CPU times: user 3min 5s, sys: 41.2 s, total: 3min 46s\n",
      "Wall time: 8min 28s\n"
     ]
    }
   ],
   "source": [
    "# %%time\n",
    "# train_df = pd.DataFrame()\n",
    "# valid_labels_df = pd.DataFrame()\n",
    "# batch = 5000\n",
    "# store_fasttext = True\n",
    "# compile_df = True\n",
    "\n",
    "\n",
    "# processing_kwargs = dict(\n",
    "#     with_labels=False,\n",
    "#     retain_special_chars=False,\n",
    "#     topics=topics\n",
    "# )\n",
    "\n",
    "\n",
    "# for fname in sorted(glob.glob('../data/TrainingData/*.json')):\n",
    "#     print('Processing {}...'.format(fname))\n",
    "#     with open(fname) as fl:\n",
    "#         data = json.load(fl)\n",
    "#         df = pd.DataFrame(data['TrainingData'])\n",
    "#         df = df.T\n",
    "\n",
    "#         if store_fasttext:\n",
    "#             # for i in range(0, df.shape[0] + batch, batch):\n",
    "#             #     ddf = df[i: i + batch]\n",
    "\n",
    "#             #     if not ddf.empty:\n",
    "#             #         normalize_for_fasttext(ddf, topics, fname='fasttext_normalized_train_body_data.csv', with_labels=True)\n",
    "#             lf = parallel_corpus_processor(\n",
    "#                 df, normalize_for_fasttext=normalize_for_fasttext,\n",
    "#                 batch=batch, num_proc=num_proc, processing_kwargs=processing_kwargs,\n",
    "#             )\n",
    "            \n",
    "#             if lf.empty:\n",
    "#                 valid_labels_df = lf\n",
    "#             else:\n",
    "#                 valid_labels_df = valid_labels_df.append(lf)\n",
    "\n",
    "#         if compile_df:\n",
    "#             cols = ['topics', 'webPublicationDate']\n",
    "#             if train_df.empty:\n",
    "#                 train_df = df[cols]\n",
    "#             else:\n",
    "#                 train_df = train_df.append(df[cols])\n",
    "\n",
    "\n",
    "# with open('../data/TestData.json') as fl:\n",
    "#     data = json.load(fl)\n",
    "#     test_df = pd.DataFrame(data['TestData']).T\n",
    "#     if store_fasttext:\n",
    "#         parallel_corpus_processor(\n",
    "#             test_df, normalize_for_fasttext=normalize_for_fasttext,\n",
    "#             batch=batch, num_proc=num_proc, processing_kwargs=processing_kwargs,\n",
    "#         )\n",
    "\n",
    "# if train_df.shape[0] == 1600462:\n",
    "#     if (train_df.columns == [u'topics', u'webPublicationDate']).sum() == 2:\n",
    "#         train_df.to_json('../data/training_id_topics.json')"
   ]
  },
  {
   "cell_type": "code",
   "execution_count": 6,
   "metadata": {
    "collapsed": true
   },
   "outputs": [],
   "source": [
    "train_df = pd.read_json('../data/training_id_topics.json')\n",
    "valid_labels_df = train_df.topics.map(topics.intersection).reset_index()"
   ]
  },
  {
   "cell_type": "code",
   "execution_count": 7,
   "metadata": {
    "collapsed": true
   },
   "outputs": [],
   "source": [
    "train_topics = reduce(lambda x, y: x.union(y), valid_labels_df.topics)"
   ]
  },
  {
   "cell_type": "code",
   "execution_count": 100,
   "metadata": {
    "scrolled": true
   },
   "outputs": [
    {
     "name": "stdout",
     "output_type": "stream",
     "text": [
      "0\n",
      "1000\n",
      "2000\n",
      "3000\n",
      "4000\n",
      "5000\n",
      "6000\n",
      "7000\n",
      "8000\n",
      "9000\n",
      "10000\n",
      "11000\n",
      "12000\n",
      "13000\n",
      "14000\n",
      "15000\n",
      "16000\n",
      "17000\n",
      "18000\n",
      "19000\n",
      "20000\n",
      "21000\n",
      "22000\n",
      "23000\n",
      "24000\n",
      "25000\n",
      "26000\n",
      "27000\n",
      "28000\n",
      "29000\n",
      "30000\n",
      "31000\n",
      "32000\n",
      "33000\n",
      "34000\n",
      "35000\n",
      "36000\n",
      "37000\n",
      "38000\n",
      "39000\n",
      "40000\n",
      "41000\n",
      "42000\n",
      "43000\n",
      "44000\n",
      "45000\n",
      "46000\n",
      "47000\n",
      "48000\n",
      "49000\n",
      "50000\n",
      "51000\n",
      "52000\n",
      "53000\n",
      "54000\n",
      "55000\n",
      "56000\n",
      "57000\n",
      "58000\n",
      "59000\n",
      "60000\n",
      "61000\n",
      "62000\n",
      "63000\n",
      "64000\n",
      "65000\n",
      "66000\n",
      "67000\n",
      "68000\n",
      "69000\n",
      "70000\n",
      "71000\n",
      "72000\n",
      "73000\n",
      "74000\n",
      "75000\n",
      "76000\n",
      "77000\n",
      "78000\n",
      "79000\n",
      "80000\n",
      "81000\n",
      "82000\n",
      "83000\n",
      "84000\n",
      "85000\n",
      "86000\n",
      "87000\n",
      "88000\n",
      "89000\n",
      "90000\n",
      "91000\n",
      "92000\n",
      "93000\n",
      "94000\n",
      "95000\n",
      "96000\n",
      "97000\n",
      "98000\n",
      "99000\n",
      "100000\n",
      "101000\n",
      "102000\n",
      "103000\n",
      "104000\n",
      "105000\n",
      "106000\n",
      "107000\n",
      "108000\n",
      "109000\n",
      "110000\n",
      "111000\n",
      "112000\n",
      "113000\n",
      "114000\n",
      "115000\n",
      "116000\n",
      "117000\n",
      "118000\n",
      "119000\n",
      "120000\n",
      "121000\n",
      "122000\n",
      "123000\n",
      "124000\n",
      "125000\n",
      "126000\n",
      "127000\n",
      "128000\n",
      "129000\n",
      "130000\n",
      "131000\n",
      "132000\n",
      "133000\n",
      "134000\n",
      "135000\n",
      "136000\n",
      "137000\n",
      "138000\n",
      "139000\n",
      "140000\n",
      "141000\n",
      "142000\n",
      "143000\n",
      "144000\n",
      "145000\n",
      "146000\n",
      "147000\n",
      "148000\n",
      "149000\n",
      "150000\n",
      "151000\n",
      "152000\n",
      "153000\n",
      "154000\n",
      "155000\n",
      "156000\n",
      "157000\n",
      "158000\n",
      "159000\n",
      "160000\n",
      "161000\n",
      "162000\n",
      "163000\n",
      "164000\n",
      "165000\n",
      "166000\n",
      "167000\n",
      "168000\n",
      "169000\n",
      "170000\n",
      "171000\n",
      "172000\n",
      "173000\n",
      "174000\n",
      "175000\n",
      "176000\n",
      "177000\n",
      "178000\n",
      "179000\n",
      "180000\n",
      "181000\n",
      "182000\n",
      "183000\n",
      "184000\n",
      "185000\n",
      "186000\n",
      "187000\n",
      "188000\n",
      "189000\n",
      "190000\n",
      "191000\n",
      "192000\n",
      "193000\n",
      "194000\n",
      "195000\n",
      "196000\n",
      "197000\n",
      "198000\n",
      "199000\n",
      "200000\n",
      "201000\n",
      "202000\n",
      "203000\n",
      "204000\n",
      "205000\n",
      "206000\n",
      "207000\n",
      "208000\n",
      "209000\n",
      "210000\n",
      "211000\n",
      "212000\n",
      "213000\n",
      "214000\n",
      "215000\n",
      "216000\n",
      "217000\n",
      "218000\n",
      "219000\n",
      "220000\n",
      "221000\n",
      "222000\n",
      "223000\n",
      "224000\n",
      "225000\n",
      "226000\n",
      "227000\n",
      "228000\n",
      "229000\n",
      "230000\n",
      "231000\n",
      "232000\n",
      "233000\n",
      "234000\n",
      "235000\n",
      "236000\n",
      "CPU times: user 9min 46s, sys: 1min 19s, total: 11min 6s\n",
      "Wall time: 9min 51s\n"
     ]
    }
   ],
   "source": [
    "%%time\n",
    "data = []\n",
    "index = []\n",
    "\n",
    "for ix, row in enumerate(valid_labels_df[valid_labels_df.topics.map(len) != 0].iterrows()):\n",
    "    _, row = row\n",
    "\n",
    "    index.append(row['index'])\n",
    "    data.append([1 if i in row.topics else np.nan for i in sorted(topics)])\n",
    "    \n",
    "    if ix % 1000 == 0: print ix\n",
    "        \n",
    "topic_train_index = pd.DataFrame(data, columns=sorted(topics), index=index)\n",
    "topic_train_index.head()"
   ]
  },
  {
   "cell_type": "code",
   "execution_count": 125,
   "metadata": {
    "scrolled": true
   },
   "outputs": [
    {
     "data": {
      "text/plain": [
       "Index([u'australianguncontrol'], dtype='object')"
      ]
     },
     "execution_count": 125,
     "metadata": {},
     "output_type": "execute_result"
    }
   ],
   "source": [
    "topic_train_index.columns[topic_train_index.sum() == 3]"
   ]
  },
  {
   "cell_type": "code",
   "execution_count": null,
   "metadata": {
    "collapsed": true
   },
   "outputs": [],
   "source": [
    "from sklearn.decomposition import PCA\n",
    "\n",
    "data = np.vstack(topic2vec_df.mean_topic_word_vec.values)\n",
    "n_components = 10\n",
    "n_delta = 10\n",
    "topic_pca = PCA(n_components=n_components)\n",
    "topic_pca.fit(data)\n",
    "\n",
    "while topic_pca.explained_variance_ratio_.sum() < 0.90:\n",
    "    n_components += n_delta\n",
    "    topic_pca = PCA(n_components=n_components)\n",
    "    topic_pca.fit(data)"
   ]
  },
  {
   "cell_type": "code",
   "execution_count": 133,
   "metadata": {
    "collapsed": true
   },
   "outputs": [],
   "source": [
    "def parse_training_data(path, keys=[], topics=[], limit=None):\n",
    "    with open(path) as fl:\n",
    "        parser = ijson.parse(fl)\n",
    "        dataset = {}\n",
    "        curr_index = None\n",
    "        skip_index = None\n",
    "\n",
    "        for prefix, event, value in parser:\n",
    "            if 'map_key' == event and '_TrainingData_' in value:\n",
    "                if limit:\n",
    "                    if len(dataset) > limit:\n",
    "                        break\n",
    "            \n",
    "            template = prefix.replace('TrainingData.', '').replace('.topics.item', '.topics')\n",
    "            template = template.split('.')\n",
    "\n",
    "            if event == 'string':\n",
    "                for i in template:\n",
    "                    if i == skip_index:\n",
    "                        break\n",
    "\n",
    "                    if '_TrainingData_' in i:\n",
    "                        if keys and i not in keys:\n",
    "                            skip_index = i\n",
    "                            break\n",
    "\n",
    "                        if curr_index != i:\n",
    "                            if curr_index and dataset[curr_index].keys() == ['bodyText', 'webPublicationDate']:\n",
    "                                dataset.pop(curr_index)\n",
    "\n",
    "                            curr_index = i\n",
    "                            dataset[curr_index] = {}\n",
    "                        \n",
    "                    elif 'bodyText' == i:\n",
    "                        dataset[curr_index]['bodyText'] = value\n",
    "                        \n",
    "                    elif 'topics' == i:\n",
    "                        if topics and value not in topics:\n",
    "                            continue\n",
    "\n",
    "                        dataset[curr_index][value] = 1\n",
    "                    elif 'webPublicationDate' == i:\n",
    "                        dataset[curr_index]['webPublicationDate'] = value\n",
    "\n",
    "    return dataset"
   ]
  },
  {
   "cell_type": "code",
   "execution_count": 547,
   "metadata": {},
   "outputs": [
    {
     "name": "stdout",
     "output_type": "stream",
     "text": [
      "CPU times: user 32.7 s, sys: 700 ms, total: 33.4 s\n",
      "Wall time: 32.9 s\n"
     ]
    }
   ],
   "source": [
    "%%time\n",
    "\n",
    "ds = parse_training_data('../data/TrainingData/2014b_TrainingData.json', topics=topics)\n",
    "ds = pd.DataFrame(ds).T\n",
    "\n",
    "for t in topics.difference(ds.columns):\n",
    "    ds[t] = np.nan"
   ]
  },
  {
   "cell_type": "code",
   "execution_count": 632,
   "metadata": {
    "scrolled": false
   },
   "outputs": [
    {
     "name": "stdout",
     "output_type": "stream",
     "text": [
      "Processing 1. ../data/TrainingData/2003b_TrainingData.json...\n",
      "Processing 2. ../data/TrainingData/2004b_TrainingData.json...\n",
      "Processing 3. ../data/TrainingData/2005a_TrainingData.json...\n",
      "Processing 4. ../data/TrainingData/1999b_TrainingData.json...\n",
      "Processing 5. ../data/TrainingData/2003a_TrainingData.json...\n",
      "Processing 6. ../data/TrainingData/2008b_TrainingData.json...\n",
      "Done parsing 10799 docs with valid topics...\n",
      "Computing features...\n"
     ]
    },
    {
     "name": "stderr",
     "output_type": "stream",
     "text": [
      "/home/avsolatorio/ml-ai/lib/python2.7/site-packages/ipykernel_launcher.py:1: RuntimeWarning: Mean of empty slice.\n",
      "  \"\"\"Entry point for launching an IPython kernel.\n"
     ]
    },
    {
     "name": "stdout",
     "output_type": "stream",
     "text": [
      "CPU times: user 9min 18s, sys: 4.31 s, total: 9min 23s\n",
      "Wall time: 9min 16s\n",
      "Current training size is 42039...\n"
     ]
    },
    {
     "name": "stderr",
     "output_type": "stream",
     "text": [
      "/home/avsolatorio/ml-ai/local/lib/python2.7/site-packages/pandas/core/generic.py:1138: PerformanceWarning: \n",
      "your performance may suffer as PyTables will pickle object types that it cannot\n",
      "map directly to c-types [inferred_type->mixed-integer-float,key->block1_values] [items->[u'afghanistan', u'alqaida', 'alshabaab', u'antiwar', u'armstrade', u'belgium', u'biometrics', u'britisharmy', 'cameroon', 'carers', u'chemicalweapons', u'clusterbombs', 'controversy', u'criminaljustice', u'cybercrime', 'cyberwar', u'dataprotection', u'defence', 'deflation', 'drones', u'drugs', u'drugspolicy', u'drugstrade', u'earthquakes', u'ebola', u'economy', 'egypt', u'energy', u'espionage', u'ethics', 'europeanarrestwarrant', 'events', u'extradition', u'famine', u'farright', u'firefighters', u'forensicscience', u'france', u'freedomofspeech', u'genevaconventions', u'germany', u'guncrime', u'hacking', u'helicoptercrashes', u'humanitarianresponse', u'humanrights', u'humantrafficking', u'immigration', u'india', u'indonesia', 'internallydisplacedpeople', 'internationalcourtofjustice', u'internationalcriminaljustice', u'internetsafety', u'iraq', u'israel', u'jordan', u'judiciary', 'july7', u'kenya', u'knifecrime', u'lebanon', u'libya', u'localgovernment', u'london', u'malaysia', 'mali', u'metropolitanpolice', u'military', u'morocco', 'mrsa', 'mumbaiterrorattacks', u'naturaldisasters', 'nigeria', u'nuclearweapons', u'organisedcrime', u'osamabinladen', u'philippines', 'piracy', u'planecrashes', u'police', u'protest', u'refugees', u'religion', u'retirementage', u'royalairforce', u'royalnavy', u'russia', u'saudiarabia', u'september11', u'slavery', u'somalia', u'southafrica', 'southchinasea', u'stopandsearch', u'surveillance', u'syria', u'taliban', u'terrorism', u'thailand', u'torture', 'traincrashes', u'transport', u'turkey', u'ukcrime', u'uksecurity', u'undercoverpoliceandpolicing', u'unitednations', u'usguncontrol', u'warcrimes', u'warreporting', u'weaponstechnology', u'worldmigration']]\n",
      "\n",
      "  return pytables.to_hdf(path_or_buf, key, self, **kwargs)\n"
     ]
    },
    {
     "name": "stdout",
     "output_type": "stream",
     "text": [
      "Completed extracting data from ../data/TrainingData/2008b_TrainingData.json...\n",
      "\n",
      "Processing 7. ../data/TrainingData/2009a_TrainingData.json...\n",
      "Done parsing 10804 docs with valid topics...\n",
      "Computing features...\n",
      "CPU times: user 9min 45s, sys: 4.64 s, total: 9min 50s\n",
      "Wall time: 9min 43s\n",
      "Current training size is 52029...\n"
     ]
    },
    {
     "name": "stderr",
     "output_type": "stream",
     "text": [
      "/home/avsolatorio/ml-ai/local/lib/python2.7/site-packages/pandas/core/generic.py:1138: PerformanceWarning: \n",
      "your performance may suffer as PyTables will pickle object types that it cannot\n",
      "map directly to c-types [inferred_type->mixed-integer-float,key->block1_values] [items->[u'afghanistan', u'alqaida', 'alshabaab', u'antiwar', u'armstrade', u'belgium', u'biometrics', u'britisharmy', 'cameroon', 'carers', u'chemicalweapons', u'clusterbombs', 'controversy', u'criminaljustice', u'cybercrime', 'cyberwar', u'dataprotection', u'defence', 'deflation', 'drones', u'drugs', u'drugspolicy', u'drugstrade', u'earthquakes', u'ebola', u'economy', 'egypt', u'energy', u'espionage', u'ethics', 'europeanarrestwarrant', 'europeancourtofhumanrights', 'events', u'extradition', u'famine', u'farright', u'firefighters', u'forensicscience', u'france', u'freedomofspeech', u'genevaconventions', u'germany', u'guncrime', u'hacking', u'helicoptercrashes', u'humanitarianresponse', u'humanrights', 'humanrightsact', u'humantrafficking', u'immigration', u'india', u'indonesia', 'internallydisplacedpeople', 'internationalcourtofjustice', u'internationalcriminaljustice', u'internetsafety', u'iraq', u'israel', u'jordan', u'judiciary', 'july7', u'kenya', u'knifecrime', u'lebanon', u'libya', u'localgovernment', u'london', u'malaysia', 'mali', u'metropolitanpolice', 'middleeastpeacetalks', u'military', u'morocco', 'mrsa', 'mumbaiterrorattacks', u'naturaldisasters', 'nigeria', u'nuclearweapons', u'organisedcrime', u'osamabinladen', u'philippines', 'piracy', u'planecrashes', u'police', u'protest', u'refugees', u'religion', u'retirementage', u'royalairforce', u'royalnavy', u'russia', u'saudiarabia', u'september11', u'slavery', u'somalia', u'southafrica', 'southchinasea', u'stopandsearch', u'surveillance', u'syria', u'taliban', u'terrorism', u'thailand', u'torture', 'traincrashes', u'transport', u'turkey', u'ukcrime', u'uksecurity', 'uksupremecourt', u'undercoverpoliceandpolicing', u'unitednations', u'usguncontrol', u'warcrimes', u'warreporting', u'weaponstechnology', u'worldmigration']]\n",
      "\n",
      "  return pytables.to_hdf(path_or_buf, key, self, **kwargs)\n"
     ]
    },
    {
     "name": "stdout",
     "output_type": "stream",
     "text": [
      "Completed extracting data from ../data/TrainingData/2009a_TrainingData.json...\n",
      "\n",
      "Processing 8. ../data/TrainingData/1999a_TrainingData.json...\n",
      "Done parsing 970 docs with valid topics...\n",
      "Computing features...\n",
      "CPU times: user 1min 4s, sys: 540 ms, total: 1min 4s\n",
      "Wall time: 1min 3s\n",
      "Current training size is 52999...\n",
      "Completed extracting data from ../data/TrainingData/1999a_TrainingData.json...\n",
      "\n",
      "Processing 9. ../data/TrainingData/2002a_TrainingData.json...\n",
      "Done parsing 5573 docs with valid topics...\n",
      "Computing features...\n",
      "CPU times: user 5min 34s, sys: 2.53 s, total: 5min 36s\n",
      "Wall time: 5min 32s\n",
      "Current training size is 58572...\n"
     ]
    },
    {
     "name": "stderr",
     "output_type": "stream",
     "text": [
      "/home/avsolatorio/ml-ai/local/lib/python2.7/site-packages/pandas/core/generic.py:1138: PerformanceWarning: \n",
      "your performance may suffer as PyTables will pickle object types that it cannot\n",
      "map directly to c-types [inferred_type->mixed-integer-float,key->block1_values] [items->[u'afghanistan', u'alqaida', 'alshabaab', u'antiwar', u'armstrade', u'belgium', u'biometrics', u'britisharmy', 'cameroon', 'carers', u'chemicalweapons', u'clusterbombs', 'controversy', u'criminaljustice', u'cybercrime', 'cyberwar', u'dataprotection', u'defence', 'deflation', 'drones', u'drugs', u'drugspolicy', u'drugstrade', u'earthquakes', u'ebola', u'economy', 'egypt', u'energy', u'espionage', u'ethics', 'europeanarrestwarrant', 'europeancourtofhumanrights', 'events', u'extradition', u'famine', u'farright', u'firefighters', u'forensicscience', u'france', u'freedomofspeech', u'genevaconventions', u'germany', u'guncrime', u'hacking', u'helicoptercrashes', u'humanitarianresponse', u'humanrights', 'humanrightsact', u'humantrafficking', u'immigration', u'india', u'indonesia', 'internallydisplacedpeople', 'internationalcourtofjustice', u'internationalcriminaljustice', u'internetsafety', u'iraq', u'israel', u'jordan', 'jubilee', u'judiciary', 'july7', u'kenya', u'knifecrime', u'lebanon', u'libya', u'localgovernment', u'london', u'malaysia', 'mali', u'metropolitanpolice', 'middleeastpeacetalks', u'military', u'morocco', 'mrsa', 'mumbaiterrorattacks', u'naturaldisasters', 'nigeria', u'nuclearweapons', u'organisedcrime', u'osamabinladen', u'philippines', 'piracy', u'planecrashes', u'police', u'protest', u'refugees', u'religion', u'retirementage', u'royalairforce', u'royalnavy', u'russia', u'saudiarabia', u'september11', u'slavery', u'somalia', u'southafrica', 'southchinasea', u'stopandsearch', u'surveillance', u'syria', u'taliban', u'terrorism', u'thailand', u'torture', 'traincrashes', u'transport', u'turkey', u'ukcrime', u'uksecurity', 'uksupremecourt', u'undercoverpoliceandpolicing', u'unitednations', u'usguncontrol', u'warcrimes', u'warreporting', u'weaponstechnology', u'worldmigration']]\n",
      "\n",
      "  return pytables.to_hdf(path_or_buf, key, self, **kwargs)\n"
     ]
    },
    {
     "name": "stdout",
     "output_type": "stream",
     "text": [
      "Completed extracting data from ../data/TrainingData/2002a_TrainingData.json...\n",
      "\n",
      "Processing 10. ../data/TrainingData/2012a_TrainingData.json...\n",
      "Done parsing 9237 docs with valid topics...\n",
      "Computing features...\n",
      "CPU times: user 11min 16s, sys: 5.6 s, total: 11min 21s\n",
      "Wall time: 11min 13s\n",
      "Current training size is 67804...\n"
     ]
    },
    {
     "name": "stderr",
     "output_type": "stream",
     "text": [
      "/home/avsolatorio/ml-ai/local/lib/python2.7/site-packages/pandas/core/generic.py:1138: PerformanceWarning: \n",
      "your performance may suffer as PyTables will pickle object types that it cannot\n",
      "map directly to c-types [inferred_type->mixed-integer-float,key->block1_values] [items->[u'afghanistan', 'aid', u'alqaida', 'alshabaab', u'antiwar', 'arabandmiddleeastprotests', u'armstrade', u'belgium', 'bigdata', u'biometrics', 'bokoharam', u'britisharmy', 'cameroon', 'carers', u'chemicalweapons', u'clusterbombs', 'cobra', 'conflictanddevelopment', 'controversy', u'criminaljustice', u'cybercrime', 'cyberwar', u'dataprotection', u'defence', 'deflation', 'drones', u'drugs', u'drugspolicy', u'drugstrade', u'earthquakes', u'ebola', u'economy', 'egypt', u'energy', u'espionage', u'ethics', 'europeanarrestwarrant', 'europeancourtofhumanrights', 'events', u'extradition', u'famine', u'farright', u'firefighters', u'forensicscience', u'france', u'freedomofspeech', u'genevaconventions', u'germany', u'guncrime', u'hacking', u'helicoptercrashes', u'humanitarianresponse', u'humanrights', 'humanrightsact', u'humantrafficking', u'immigration', u'india', u'indonesia', 'internallydisplacedpeople', 'internationalcourtofjustice', u'internationalcriminaljustice', u'internetsafety', u'iraq', u'israel', u'jordan', 'jubilee', u'judiciary', 'july7', 'justiceandsecurity', u'kenya', u'knifecrime', u'lebanon', u'libya', u'localgovernment', 'logistics', u'london', 'londonriots', u'malaysia', 'mali', 'malware', u'metropolitanpolice', 'middleeastpeacetalks', 'migration', u'military', 'ministryofdefence', u'morocco', 'mrsa', 'mumbaiterrorattacks', u'naturaldisasters', 'nigeria', u'nuclearweapons', 'occupy', u'organisedcrime', u'osamabinladen', 'paris', u'philippines', 'piracy', u'planecrashes', u'police', u'protest', u'refugees', u'religion', u'retirementage', 'rio20earthsummit', u'royalairforce', u'royalnavy', u'russia', u'saudiarabia', u'september11', u'slavery', u'somalia', u'southafrica', 'southchinasea', u'stopandsearch', u'surveillance', u'syria', u'taliban', u'terrorism', u'thailand', u'torture', 'traincrashes', u'transport', u'turkey', u'ukcrime', u'uksecurity', 'uksupremecourt', u'undercoverpoliceandpolicing', u'unitednations', u'usguncontrol', 'values', u'warcrimes', u'warreporting', u'weaponstechnology', u'worldmigration']]\n",
      "\n",
      "  return pytables.to_hdf(path_or_buf, key, self, **kwargs)\n"
     ]
    },
    {
     "name": "stdout",
     "output_type": "stream",
     "text": [
      "Completed extracting data from ../data/TrainingData/2012a_TrainingData.json...\n",
      "\n",
      "Processing 11. ../data/TrainingData/2004a_TrainingData.json...\n",
      "Done parsing 7483 docs with valid topics...\n",
      "Computing features...\n",
      "CPU times: user 7min 53s, sys: 4.06 s, total: 7min 57s\n",
      "Wall time: 7min 50s\n",
      "Current training size is 75287...\n"
     ]
    },
    {
     "name": "stderr",
     "output_type": "stream",
     "text": [
      "/home/avsolatorio/ml-ai/local/lib/python2.7/site-packages/pandas/core/generic.py:1138: PerformanceWarning: \n",
      "your performance may suffer as PyTables will pickle object types that it cannot\n",
      "map directly to c-types [inferred_type->mixed-integer-float,key->block1_values] [items->[u'afghanistan', 'aid', u'alqaida', 'alshabaab', u'antiwar', 'arabandmiddleeastprotests', u'armstrade', u'belgium', 'bigdata', u'biometrics', 'bokoharam', u'britisharmy', 'cameroon', 'carers', u'chemicalweapons', u'clusterbombs', 'cobra', 'conflictanddevelopment', 'controversy', u'criminaljustice', u'cybercrime', 'cyberwar', 'darknet', u'dataprotection', u'defence', 'deflation', 'drones', u'drugs', u'drugspolicy', u'drugstrade', u'earthquakes', u'ebola', u'economy', 'egypt', u'energy', u'espionage', u'ethics', 'europeanarrestwarrant', 'europeancourtofhumanrights', 'events', u'extradition', u'famine', u'farright', u'firefighters', u'forensicscience', u'france', u'freedomofspeech', u'genevaconventions', u'germany', u'guncrime', u'hacking', u'helicoptercrashes', u'humanitarianresponse', u'humanrights', 'humanrightsact', u'humantrafficking', u'immigration', u'india', u'indonesia', 'internallydisplacedpeople', 'internationalcourtofjustice', u'internationalcriminaljustice', u'internetsafety', u'iraq', u'israel', u'jordan', 'jubilee', u'judiciary', 'july7', 'justiceandsecurity', u'kenya', u'knifecrime', u'lebanon', u'libya', u'localgovernment', 'logistics', u'london', 'londonriots', u'malaysia', 'mali', 'malware', u'metropolitanpolice', 'middleeastpeacetalks', 'migration', u'military', 'ministryofdefence', u'morocco', 'mrsa', 'mumbaiterrorattacks', u'naturaldisasters', 'nigeria', u'nuclearweapons', 'occupy', u'organisedcrime', u'osamabinladen', 'paris', u'philippines', 'piracy', u'planecrashes', u'police', u'protest', u'refugees', u'religion', u'retirementage', 'rio20earthsummit', u'royalairforce', u'royalnavy', u'russia', u'saudiarabia', u'september11', u'slavery', u'somalia', u'southafrica', 'southchinasea', u'stopandsearch', u'surveillance', u'syria', u'taliban', u'terrorism', u'thailand', u'torture', 'traincrashes', u'transport', u'turkey', u'ukcrime', u'uksecurity', 'uksupremecourt', u'undercoverpoliceandpolicing', u'unitednations', u'usguncontrol', 'values', u'warcrimes', u'warreporting', u'weaponstechnology', u'worldmigration']]\n",
      "\n",
      "  return pytables.to_hdf(path_or_buf, key, self, **kwargs)\n"
     ]
    },
    {
     "name": "stdout",
     "output_type": "stream",
     "text": [
      "Completed extracting data from ../data/TrainingData/2004a_TrainingData.json...\n",
      "\n",
      "Processing 12. ../data/TrainingData/2014a_TrainingData.json...\n",
      "Done parsing 9978 docs with valid topics...\n",
      "Computing features...\n",
      "CPU times: user 12min 17s, sys: 6.35 s, total: 12min 23s\n",
      "Wall time: 12min 14s\n",
      "Current training size is 85250...\n"
     ]
    },
    {
     "name": "stderr",
     "output_type": "stream",
     "text": [
      "/home/avsolatorio/ml-ai/local/lib/python2.7/site-packages/pandas/core/generic.py:1138: PerformanceWarning: \n",
      "your performance may suffer as PyTables will pickle object types that it cannot\n",
      "map directly to c-types [inferred_type->mixed-integer-float,key->block1_values] [items->[u'afghanistan', 'aid', u'alqaida', 'alshabaab', u'antiwar', 'arabandmiddleeastprotests', u'armstrade', u'belgium', 'bigdata', u'biometrics', 'bokoharam', u'britisharmy', 'cameroon', 'carers', u'chemicalweapons', u'clusterbombs', 'cobra', 'conflictanddevelopment', 'controversy', u'criminaljustice', u'cybercrime', 'cyberwar', 'darknet', u'dataprotection', 'debate', u'defence', 'deflation', 'drones', u'drugs', u'drugspolicy', u'drugstrade', u'earthquakes', u'ebola', u'economy', 'egypt', 'encryption', u'energy', u'espionage', u'ethics', 'europeanarrestwarrant', 'europeancourtofhumanrights', 'events', u'extradition', u'famine', u'farright', u'firefighters', u'forensicscience', u'france', u'freedomofspeech', u'genevaconventions', u'germany', u'guncrime', u'hacking', 'hashtags', u'helicoptercrashes', u'humanitarianresponse', u'humanrights', 'humanrightsact', u'humantrafficking', u'immigration', u'india', u'indonesia', 'internallydisplacedpeople', 'internationalcourtofjustice', u'internationalcriminaljustice', u'internetsafety', u'iraq', 'isis', u'israel', u'jordan', 'jubilee', u'judiciary', 'july7', 'justiceandsecurity', u'kenya', u'knifecrime', u'lebanon', u'libya', u'localgovernment', 'logistics', u'london', 'londonriots', u'malaysia', 'mali', 'malware', u'metropolitanpolice', 'middleeastpeacetalks', 'migration', u'military', 'ministryofdefence', u'morocco', 'mrsa', 'mumbaiterrorattacks', u'naturaldisasters', 'nigeria', u'nuclearweapons', 'occupy', u'organisedcrime', u'osamabinladen', 'paris', u'philippines', 'piracy', u'planecrashes', u'police', u'protest', u'refugees', u'religion', u'retirementage', 'rio20earthsummit', u'royalairforce', u'royalnavy', u'russia', u'saudiarabia', u'september11', u'slavery', u'somalia', u'southafrica', 'southchinasea', u'stopandsearch', u'surveillance', u'syria', u'taliban', u'terrorism', u'thailand', u'torture', 'traincrashes', u'transport', u'turkey', u'ukcrime', u'uksecurity', 'uksupremecourt', u'undercoverpoliceandpolicing', u'unitednations', u'usguncontrol', 'values', u'warcrimes', u'warreporting', u'weaponstechnology', 'womeninbusiness', 'woolwichattack', u'worldmigration']]\n",
      "\n",
      "  return pytables.to_hdf(path_or_buf, key, self, **kwargs)\n"
     ]
    },
    {
     "name": "stdout",
     "output_type": "stream",
     "text": [
      "Completed extracting data from ../data/TrainingData/2014a_TrainingData.json...\n",
      "\n",
      "Processing 13. ../data/TrainingData/2008a_TrainingData.json...\n",
      "Done parsing 9033 docs with valid topics...\n",
      "Computing features...\n",
      "CPU times: user 8min 42s, sys: 4.57 s, total: 8min 46s\n",
      "Wall time: 8min 40s\n",
      "Current training size is 94281...\n",
      "Completed extracting data from ../data/TrainingData/2008a_TrainingData.json...\n",
      "\n",
      "Processing 14. ../data/TrainingData/2013a_TrainingData.json...\n",
      "Done parsing 8956 docs with valid topics...\n",
      "Computing features...\n",
      "CPU times: user 10min 53s, sys: 5.85 s, total: 10min 59s\n",
      "Wall time: 10min 51s\n",
      "Current training size is 103234...\n"
     ]
    },
    {
     "name": "stderr",
     "output_type": "stream",
     "text": [
      "/home/avsolatorio/ml-ai/local/lib/python2.7/site-packages/pandas/core/generic.py:1138: PerformanceWarning: \n",
      "your performance may suffer as PyTables will pickle object types that it cannot\n",
      "map directly to c-types [inferred_type->mixed-integer-float,key->block1_values] [items->[u'afghanistan', 'aid', 'algerianhostagecrisis', u'alqaida', 'alshabaab', u'antiwar', 'arabandmiddleeastprotests', u'armstrade', u'belgium', 'bigdata', u'biometrics', 'bokoharam', 'bostonmarathonbombing', u'britisharmy', 'cameroon', 'carers', u'chemicalweapons', u'clusterbombs', 'cobra', 'conflictanddevelopment', 'controversy', u'criminaljustice', u'cybercrime', 'cyberwar', 'darknet', u'dataprotection', 'debate', u'defence', 'deflation', 'drones', u'drugs', u'drugspolicy', u'drugstrade', u'earthquakes', u'ebola', u'economy', 'egypt', 'encryption', u'energy', u'espionage', u'ethics', 'europeanarrestwarrant', 'europeancourtofhumanrights', 'events', u'extradition', u'famine', u'farright', u'firefighters', u'forensicscience', u'france', u'freedomofspeech', u'genevaconventions', u'germany', u'guncrime', u'hacking', 'hashtags', u'helicoptercrashes', u'humanitarianresponse', u'humanrights', 'humanrightsact', u'humantrafficking', u'immigration', u'india', u'indonesia', 'internallydisplacedpeople', 'internationalcourtofjustice', u'internationalcriminaljustice', u'internetsafety', u'iraq', 'isis', u'israel', u'jordan', 'jubilee', u'judiciary', 'july7', 'justiceandsecurity', u'kenya', u'knifecrime', u'lebanon', u'libya', u'localgovernment', 'logistics', u'london', 'londonriots', u'malaysia', 'mali', 'malware', u'metropolitanpolice', 'middleeastpeacetalks', 'migration', u'military', 'ministryofdefence', u'morocco', 'mrsa', 'mumbaiterrorattacks', u'naturaldisasters', 'nigeria', u'nuclearweapons', 'occupy', u'organisedcrime', u'osamabinladen', 'paris', u'philippines', 'piracy', u'planecrashes', u'police', u'protest', u'refugees', u'religion', u'retirementage', 'rio20earthsummit', u'royalairforce', u'royalnavy', u'russia', u'saudiarabia', u'september11', u'slavery', u'somalia', u'southafrica', 'southchinasea', u'stopandsearch', u'surveillance', u'syria', u'taliban', u'terrorism', u'thailand', u'torture', 'traincrashes', u'transport', u'turkey', u'ukcrime', u'uksecurity', 'uksupremecourt', u'undercoverpoliceandpolicing', u'unitednations', u'usguncontrol', 'values', u'warcrimes', u'warreporting', u'weaponstechnology', 'womeninbusiness', 'woolwichattack', u'worldmigration']]\n",
      "\n",
      "  return pytables.to_hdf(path_or_buf, key, self, **kwargs)\n"
     ]
    },
    {
     "name": "stdout",
     "output_type": "stream",
     "text": [
      "Completed extracting data from ../data/TrainingData/2013a_TrainingData.json...\n",
      "\n",
      "Processing 15. ../data/TrainingData/2000b_TrainingData.json...\n",
      "Done parsing 2179 docs with valid topics...\n",
      "Computing features...\n",
      "CPU times: user 2min 5s, sys: 1.06 s, total: 2min 6s\n",
      "Wall time: 2min 4s\n",
      "Current training size is 105413...\n",
      "Completed extracting data from ../data/TrainingData/2000b_TrainingData.json...\n",
      "\n",
      "Processing 16. ../data/TrainingData/2001a_TrainingData.json...\n",
      "Done parsing 2826 docs with valid topics...\n",
      "Computing features...\n",
      "CPU times: user 2min 55s, sys: 1.6 s, total: 2min 57s\n",
      "Wall time: 2min 55s\n",
      "Current training size is 108239...\n",
      "Completed extracting data from ../data/TrainingData/2001a_TrainingData.json...\n",
      "\n",
      "Processing 17. ../data/TrainingData/2005b_TrainingData.json...\n",
      "Done parsing 6714 docs with valid topics...\n",
      "Computing features...\n",
      "CPU times: user 6min 7s, sys: 3.4 s, total: 6min 10s\n",
      "Wall time: 6min 5s\n",
      "Current training size is 114953...\n",
      "Completed extracting data from ../data/TrainingData/2005b_TrainingData.json...\n",
      "\n",
      "Processing 18. ../data/TrainingData/2001b_TrainingData.json...\n",
      "Done parsing 6479 docs with valid topics...\n",
      "Computing features...\n",
      "CPU times: user 6min 26s, sys: 3.76 s, total: 6min 30s\n",
      "Wall time: 6min 25s\n",
      "Current training size is 121432...\n",
      "Completed extracting data from ../data/TrainingData/2001b_TrainingData.json...\n",
      "\n",
      "Processing 19. ../data/TrainingData/2010b_TrainingData.json...\n",
      "Done parsing 9562 docs with valid topics...\n",
      "Computing features...\n",
      "CPU times: user 11min 21s, sys: 6.18 s, total: 11min 27s\n",
      "Wall time: 11min 18s\n",
      "Current training size is 130990...\n",
      "Completed extracting data from ../data/TrainingData/2010b_TrainingData.json...\n",
      "\n",
      "Processing 20. ../data/TrainingData/2002b_TrainingData.json...\n",
      "Done parsing 6181 docs with valid topics...\n",
      "Computing features...\n",
      "CPU times: user 5min 46s, sys: 3.04 s, total: 5min 49s\n",
      "Wall time: 5min 45s\n",
      "Current training size is 137171...\n",
      "Completed extracting data from ../data/TrainingData/2002b_TrainingData.json...\n",
      "\n",
      "Processing 21. ../data/TrainingData/2006a_TrainingData.json...\n",
      "Done parsing 6785 docs with valid topics...\n",
      "Computing features...\n",
      "CPU times: user 6min 6s, sys: 3.2 s, total: 6min 9s\n",
      "Wall time: 6min 5s\n",
      "Current training size is 143956...\n",
      "Completed extracting data from ../data/TrainingData/2006a_TrainingData.json...\n",
      "\n",
      "Processing 22. ../data/TrainingData/2009b_TrainingData.json...\n",
      "Done parsing 8126 docs with valid topics...\n",
      "Computing features...\n",
      "CPU times: user 7min 57s, sys: 4.52 s, total: 8min 2s\n",
      "Wall time: 7min 56s\n",
      "Current training size is 152081...\n",
      "Completed extracting data from ../data/TrainingData/2009b_TrainingData.json...\n",
      "\n",
      "Processing 23. ../data/TrainingData/2014b_TrainingData.json...\n",
      "Done parsing 9437 docs with valid topics...\n",
      "Computing features...\n",
      "CPU times: user 11min 6s, sys: 6.09 s, total: 11min 12s\n",
      "Wall time: 11min 3s\n",
      "Current training size is 161506...\n"
     ]
    },
    {
     "name": "stderr",
     "output_type": "stream",
     "text": [
      "/home/avsolatorio/ml-ai/local/lib/python2.7/site-packages/pandas/core/generic.py:1138: PerformanceWarning: \n",
      "your performance may suffer as PyTables will pickle object types that it cannot\n",
      "map directly to c-types [inferred_type->mixed-integer-float,key->block1_values] [items->[u'afghanistan', 'aid', 'algerianhostagecrisis', u'alqaida', 'alshabaab', u'antiwar', 'arabandmiddleeastprotests', u'armstrade', 'australianguncontrol', 'australiansecurityandcounterterrorism', u'belgium', 'bigdata', u'biometrics', 'bokoharam', 'bostonmarathonbombing', u'britisharmy', 'cameroon', 'carers', u'chemicalweapons', u'clusterbombs', 'cobra', 'conflictanddevelopment', 'controversy', u'criminaljustice', u'cybercrime', 'cyberwar', 'darknet', u'dataprotection', 'debate', u'defence', 'deflation', 'drones', u'drugs', u'drugspolicy', u'drugstrade', u'earthquakes', u'ebola', u'economy', 'egypt', 'encryption', u'energy', u'espionage', u'ethics', 'europeanarrestwarrant', 'europeancourtofhumanrights', 'events', u'extradition', u'famine', u'farright', u'firefighters', u'forensicscience', u'france', u'freedomofspeech', u'genevaconventions', u'germany', u'guncrime', u'hacking', 'hashtags', u'helicoptercrashes', u'humanitarianresponse', u'humanrights', 'humanrightsact', u'humantrafficking', u'immigration', u'india', u'indonesia', 'internallydisplacedpeople', 'internationalcourtofjustice', u'internationalcriminaljustice', u'internetsafety', u'iraq', 'isis', u'israel', u'jordan', 'jubilee', u'judiciary', 'july7', 'justiceandsecurity', u'kenya', u'knifecrime', u'lebanon', u'libya', u'localgovernment', 'logistics', u'london', 'londonriots', u'malaysia', 'mali', 'malware', u'metropolitanpolice', 'middleeastpeacetalks', 'migration', u'military', 'ministryofdefence', u'morocco', 'mrsa', 'mumbaiterrorattacks', u'naturaldisasters', 'nigeria', u'nuclearweapons', 'occupy', u'organisedcrime', u'osamabinladen', 'paris', u'philippines', 'piracy', u'planecrashes', u'police', u'protest', u'refugees', u'religion', u'retirementage', 'rio20earthsummit', u'royalairforce', u'royalnavy', u'russia', u'saudiarabia', u'september11', u'slavery', u'somalia', u'southafrica', 'southchinasea', u'stopandsearch', u'surveillance', 'sydneysiege', u'syria', u'taliban', u'terrorism', u'thailand', u'torture', 'traincrashes', u'transport', u'turkey', u'ukcrime', u'uksecurity', 'uksupremecourt', u'undercoverpoliceandpolicing', u'unitednations', u'usguncontrol', 'values', u'warcrimes', u'warreporting', u'weaponstechnology', 'womeninbusiness', 'woolwichattack', u'worldmigration']]\n",
      "\n",
      "  return pytables.to_hdf(path_or_buf, key, self, **kwargs)\n"
     ]
    },
    {
     "name": "stdout",
     "output_type": "stream",
     "text": [
      "Completed extracting data from ../data/TrainingData/2014b_TrainingData.json...\n",
      "\n",
      "Processing 24. ../data/TrainingData/2006b_TrainingData.json...\n",
      "Done parsing 7426 docs with valid topics...\n",
      "Computing features...\n",
      "CPU times: user 7min 5s, sys: 4.03 s, total: 7min 9s\n",
      "Wall time: 7min 4s\n",
      "Current training size is 168932...\n",
      "Completed extracting data from ../data/TrainingData/2006b_TrainingData.json...\n",
      "\n",
      "Processing 25. ../data/TrainingData/2007b_TrainingData.json...\n",
      "Done parsing 8011 docs with valid topics...\n",
      "Computing features...\n",
      "CPU times: user 7min 22s, sys: 4.08 s, total: 7min 26s\n",
      "Wall time: 7min 21s\n",
      "Current training size is 176943...\n",
      "Completed extracting data from ../data/TrainingData/2007b_TrainingData.json...\n",
      "\n",
      "Processing 26. ../data/TrainingData/2000a_TrainingData.json...\n",
      "Done parsing 2044 docs with valid topics...\n",
      "Computing features...\n",
      "CPU times: user 1min 55s, sys: 988 ms, total: 1min 56s\n",
      "Wall time: 1min 54s\n",
      "Current training size is 178987...\n",
      "Completed extracting data from ../data/TrainingData/2000a_TrainingData.json...\n",
      "\n",
      "Processing 27. ../data/TrainingData/2011a_TrainingData.json...\n",
      "Done parsing 10359 docs with valid topics...\n",
      "Computing features...\n",
      "CPU times: user 6min 54s, sys: 3.18 s, total: 6min 58s\n",
      "Wall time: 6min 53s\n",
      "Current training size is 188987...\n",
      "Completed extracting data from ../data/TrainingData/2011a_TrainingData.json...\n",
      "\n",
      "Processing 28. ../data/TrainingData/2012b_TrainingData.json...\n",
      "Done parsing 9148 docs with valid topics...\n",
      "Computing features...\n",
      "CPU times: user 2min 27s, sys: 332 ms, total: 2min 27s\n",
      "Wall time: 2min 26s\n",
      "Current training size is 198132...\n",
      "Completed extracting data from ../data/TrainingData/2012b_TrainingData.json...\n",
      "\n",
      "Processing 29. ../data/TrainingData/2013b_TrainingData.json...\n",
      "Done parsing 10171 docs with valid topics...\n",
      "Computing features...\n",
      "CPU times: user 2min 45s, sys: 548 ms, total: 2min 46s\n",
      "Wall time: 2min 47s\n",
      "Current training size is 208124...\n",
      "Completed extracting data from ../data/TrainingData/2013b_TrainingData.json...\n",
      "\n",
      "Processing 30. ../data/TrainingData/2007a_TrainingData.json...\n",
      "Done parsing 8113 docs with valid topics...\n",
      "Computing features...\n",
      "CPU times: user 1min 48s, sys: 296 ms, total: 1min 49s\n",
      "Wall time: 1min 48s\n",
      "Current training size is 216237...\n",
      "Completed extracting data from ../data/TrainingData/2007a_TrainingData.json...\n",
      "\n",
      "Processing 31. ../data/TrainingData/2010a_TrainingData.json...\n",
      "Done parsing 7856 docs with valid topics...\n",
      "Computing features...\n",
      "CPU times: user 3min 9s, sys: 604 ms, total: 3min 9s\n",
      "Wall time: 3min 11s\n",
      "Current training size is 224092...\n",
      "Completed extracting data from ../data/TrainingData/2010a_TrainingData.json...\n",
      "\n",
      "Processing 32. ../data/TrainingData/2011b_TrainingData.json...\n",
      "Done parsing 10094 docs with valid topics...\n",
      "Computing features...\n",
      "CPU times: user 5min 31s, sys: 1.42 s, total: 5min 33s\n",
      "Wall time: 5min 42s\n",
      "Current training size is 234083...\n",
      "Completed extracting data from ../data/TrainingData/2011b_TrainingData.json...\n",
      "\n",
      "CPU times: user 3h 11min 14s, sys: 2min 32s, total: 3h 13min 47s\n",
      "Wall time: 3h 12min 7s\n"
     ]
    }
   ],
   "source": [
    "%%time\n",
    "\n",
    "# processed_tname = {\n",
    "#     '../data/TrainingData/2003b_TrainingData.json',\n",
    "#     '../data/TrainingData/2004b_TrainingData.json',\n",
    "#     '../data/TrainingData/2005a_TrainingData.json',\n",
    "# }\n",
    "# nan_rows = set()\n",
    "# target_columns = sorted(topics)\n",
    "# trainingX = pd.DataFrame()\n",
    "# trainingY = pd.DataFrame()\n",
    "\n",
    "for ix, tname in enumerate(glob.iglob('../data/TrainingData/*_TrainingData.json')):\n",
    "    print('Processing {}. {}...'.format(ix + 1, tname))\n",
    "\n",
    "    if ix <= 2 or tname in processed_tname:\n",
    "        continue\n",
    "\n",
    "    ds = parse_training_data(tname, topics=topics)\n",
    "    ds = pd.DataFrame(ds).T\n",
    "\n",
    "    for t in topics.difference(ds.columns):\n",
    "        ds[t] = np.nan\n",
    "\n",
    "    print('Done parsing {} docs with valid topics...'.format(ds.shape[0]))\n",
    "\n",
    "    print('Computing features...')\n",
    "    %time feature_vec = transform_text(ds.head(ts)).map(lambda x: np.array([fs_model[w] for w in x.split()]).mean(axis=0))\n",
    "\n",
    "    nan_rows.update(feature_vec[feature_vec.isnull()].index.values)\n",
    "\n",
    "    feature_vec = feature_vec[feature_vec.notnull()]\n",
    "\n",
    "    if trainingX.empty:\n",
    "        trainingX = feature_vec\n",
    "    else:\n",
    "        trainingX = trainingX.append(feature_vec)\n",
    "\n",
    "    print('Current training size is {}...'.format(trainingX.shape[0]))\n",
    "\n",
    "    targets = ds[target_columns].ix[feature_vec.index]  # .fillna(0).as_matrix()\n",
    "\n",
    "    if trainingY.empty:\n",
    "        trainingY = targets\n",
    "    else:\n",
    "        trainingY = trainingY.append(targets)\n",
    "\n",
    "    trainingX.to_hdf('training_data_2', 'trainingX_fasttext')\n",
    "    trainingY.to_hdf('training_data_2', 'trainingY_fasttext')\n",
    "    \n",
    "    print('Completed extracting data from {}...'.format(tname))\n",
    "    print\n",
    "    processed_tname.add(tname)"
   ]
  },
  {
   "cell_type": "code",
   "execution_count": null,
   "metadata": {
    "collapsed": true
   },
   "outputs": [],
   "source": []
  },
  {
   "cell_type": "code",
   "execution_count": 636,
   "metadata": {
    "collapsed": true
   },
   "outputs": [],
   "source": [
    "from sklearn.preprocessing import StandardScaler\n",
    "sc = StandardScaler()"
   ]
  },
  {
   "cell_type": "code",
   "execution_count": 637,
   "metadata": {
    "collapsed": true,
    "scrolled": true
   },
   "outputs": [],
   "source": [
    "# %%time\n",
    "# ts = 10000\n",
    "# # feature_vec = transform_text(ds.head(100)).map(lambda x: fs_model[x])\n",
    "# feature_vec = transform_text(ds.head(ts)).map(lambda x: np.array([fs_model[w] for w in x.split()]).mean(axis=0))"
   ]
  },
  {
   "cell_type": "code",
   "execution_count": 664,
   "metadata": {},
   "outputs": [
    {
     "data": {
      "text/plain": [
       "(234083,)"
      ]
     },
     "execution_count": 664,
     "metadata": {},
     "output_type": "execute_result"
    }
   ],
   "source": [
    "fv = trainingX[trainingX.notnull()]\n",
    "sc.fit(np.vstack(fv))\n",
    "fv.shape"
   ]
  },
  {
   "cell_type": "code",
   "execution_count": 669,
   "metadata": {},
   "outputs": [
    {
     "data": {
      "text/plain": [
       "[u'2004b_TrainingData_07009',\n",
       " u'2011b_TrainingData_39186',\n",
       " u'2003a_TrainingData_32386',\n",
       " u'1999a_TrainingData_17802',\n",
       " u'2003b_TrainingData_21454',\n",
       " u'2009a_TrainingData_23565',\n",
       " u'2007a_TrainingData_08685',\n",
       " u'2002b_TrainingData_34862',\n",
       " u'2003b_TrainingData_18985',\n",
       " u'2014a_TrainingData_00193']"
      ]
     },
     "execution_count": 669,
     "metadata": {},
     "output_type": "execute_result"
    }
   ],
   "source": [
    "train_index = sorted(fv.index)\n",
    "np.random.shuffle(train_index)\n",
    "train_index[:10]"
   ]
  },
  {
   "cell_type": "code",
   "execution_count": 529,
   "metadata": {},
   "outputs": [
    {
     "data": {
      "text/plain": [
       "792000000.0"
      ]
     },
     "execution_count": 529,
     "metadata": {},
     "output_type": "execute_result"
    }
   ],
   "source": [
    "(300 * 8) * 10000. * 33"
   ]
  },
  {
   "cell_type": "code",
   "execution_count": 189,
   "metadata": {
    "collapsed": true
   },
   "outputs": [],
   "source": [
    "# sims = cosine_similarity(\n",
    "#     np.vstack(feature_vec), np.vstack(topic2vec_df.mean_topic_word_vec)\n",
    "# )\n",
    "\n",
    "# ix = 65\n",
    "# print ds.iloc[ix][ds.iloc[ix].notnull()]\n",
    "# for i in np.argsort(sims[ix])[::-1]:\n",
    "#     print topic2vec_df.index[i], sims[ix][i]"
   ]
  },
  {
   "cell_type": "code",
   "execution_count": null,
   "metadata": {
    "collapsed": true
   },
   "outputs": [],
   "source": []
  },
  {
   "cell_type": "code",
   "execution_count": 834,
   "metadata": {},
   "outputs": [
    {
     "name": "stdout",
     "output_type": "stream",
     "text": [
      "_________________________________________________________________\n",
      "Layer (type)                 Output Shape              Param #   \n",
      "=================================================================\n",
      "dense_116 (Dense)            (None, 128)               38528     \n",
      "_________________________________________________________________\n",
      "dropout_37 (Dropout)         (None, 128)               0         \n",
      "_________________________________________________________________\n",
      "activation_107 (Activation)  (None, 128)               0         \n",
      "_________________________________________________________________\n",
      "dense_117 (Dense)            (None, 256)               33024     \n",
      "_________________________________________________________________\n",
      "dropout_38 (Dropout)         (None, 256)               0         \n",
      "_________________________________________________________________\n",
      "activation_108 (Activation)  (None, 256)               0         \n",
      "_________________________________________________________________\n",
      "dense_118 (Dense)            (None, 128)               32896     \n",
      "_________________________________________________________________\n",
      "dropout_39 (Dropout)         (None, 128)               0         \n",
      "_________________________________________________________________\n",
      "activation_109 (Activation)  (None, 128)               0         \n",
      "_________________________________________________________________\n",
      "dense_119 (Dense)            (None, 160)               20640     \n",
      "_________________________________________________________________\n",
      "activation_110 (Activation)  (None, 160)               0         \n",
      "=================================================================\n",
      "Total params: 125,088\n",
      "Trainable params: 125,088\n",
      "Non-trainable params: 0\n",
      "_________________________________________________________________\n"
     ]
    }
   ],
   "source": [
    "kmodel = keras.models.Sequential()\n",
    "\n",
    "kmodel.add(keras.layers.Dense(128, input_dim=300))\n",
    "kmodel.add(keras.layers.Dropout(0.3))\n",
    "kmodel.add(keras.layers.Activation('relu'))\n",
    "\n",
    "kmodel.add(keras.layers.Dense(256))\n",
    "kmodel.add(keras.layers.Dropout(0.3))\n",
    "kmodel.add(keras.layers.Activation('relu'))\n",
    "\n",
    "kmodel.add(keras.layers.Dense(128))\n",
    "kmodel.add(keras.layers.Dropout(0.3))\n",
    "kmodel.add(keras.layers.Activation('relu'))\n",
    "\n",
    "kmodel.add(keras.layers.Dense(len(topics)))\n",
    "kmodel.add(keras.layers.Activation('sigmoid'))\n",
    "\n",
    "kmodel.compile(\n",
    "    optimizer='rmsprop',\n",
    "    loss='binary_crossentropy',\n",
    "    metrics=['accuracy', 'categorical_crossentropy'],\n",
    ")\n",
    "kmodel.summary()"
   ]
  },
  {
   "cell_type": "code",
   "execution_count": 960,
   "metadata": {
    "scrolled": true
   },
   "outputs": [
    {
     "name": "stdout",
     "output_type": "stream",
     "text": [
      "Train on 187266 samples, validate on 46817 samples\n",
      "Epoch 1/10\n",
      "187266/187266 [==============================] - 2s - loss: 0.0143 - acc: 0.9954 - categorical_crossentropy: 2.0442 - val_loss: 0.0125 - val_acc: 0.9958 - val_categorical_crossentropy: 1.8389\n",
      "Epoch 2/10\n",
      "187266/187266 [==============================] - 2s - loss: 0.0142 - acc: 0.9954 - categorical_crossentropy: 2.0411 - val_loss: 0.0125 - val_acc: 0.9958 - val_categorical_crossentropy: 1.8360\n",
      "Epoch 3/10\n",
      "187266/187266 [==============================] - 2s - loss: 0.0142 - acc: 0.9954 - categorical_crossentropy: 2.0428 - val_loss: 0.0125 - val_acc: 0.9958 - val_categorical_crossentropy: 1.8370\n",
      "Epoch 4/10\n",
      "187266/187266 [==============================] - 2s - loss: 0.0142 - acc: 0.9954 - categorical_crossentropy: 2.0410 - val_loss: 0.0125 - val_acc: 0.9958 - val_categorical_crossentropy: 1.8338\n",
      "Epoch 5/10\n",
      "187266/187266 [==============================] - 2s - loss: 0.0142 - acc: 0.9954 - categorical_crossentropy: 2.0360 - val_loss: 0.0125 - val_acc: 0.9958 - val_categorical_crossentropy: 1.8350\n",
      "Epoch 6/10\n",
      "187266/187266 [==============================] - 2s - loss: 0.0142 - acc: 0.9954 - categorical_crossentropy: 2.0404 - val_loss: 0.0125 - val_acc: 0.9958 - val_categorical_crossentropy: 1.8331\n",
      "Epoch 7/10\n",
      "187266/187266 [==============================] - 2s - loss: 0.0142 - acc: 0.9954 - categorical_crossentropy: 2.0345 - val_loss: 0.0125 - val_acc: 0.9958 - val_categorical_crossentropy: 1.8327\n",
      "Epoch 8/10\n",
      "187266/187266 [==============================] - 2s - loss: 0.0142 - acc: 0.9954 - categorical_crossentropy: 2.0339 - val_loss: 0.0125 - val_acc: 0.9958 - val_categorical_crossentropy: 1.8319\n",
      "Epoch 9/10\n",
      "187266/187266 [==============================] - 2s - loss: 0.0142 - acc: 0.9954 - categorical_crossentropy: 2.0347 - val_loss: 0.0124 - val_acc: 0.9958 - val_categorical_crossentropy: 1.8308\n",
      "Epoch 10/10\n",
      "187266/187266 [==============================] - 2s - loss: 0.0142 - acc: 0.9954 - categorical_crossentropy: 2.0326 - val_loss: 0.0124 - val_acc: 0.9958 - val_categorical_crossentropy: 1.8313\n",
      "CPU times: user 25.3 s, sys: 2.42 s, total: 27.7 s\n",
      "Wall time: 29.2 s\n"
     ]
    },
    {
     "data": {
      "text/plain": [
       "<keras.callbacks.History at 0x7fa3af67e690>"
      ]
     },
     "execution_count": 960,
     "metadata": {},
     "output_type": "execute_result"
    }
   ],
   "source": [
    "%%time\n",
    "kmodel.fit(\n",
    "    sc.transform(np.vstack(fv.ix[train_index])),\n",
    "    trainingY.ix[train_index].fillna(0).as_matrix(), batch_size=10000, epochs=10,\n",
    "    validation_split=0.2,\n",
    ")"
   ]
  },
  {
   "cell_type": "code",
   "execution_count": 959,
   "metadata": {},
   "outputs": [
    {
     "name": "stdout",
     "output_type": "stream",
     "text": [
      "234080/234083 [============================>.] - ETA: 0s"
     ]
    }
   ],
   "source": [
    "preds = kmodel.predict_proba(sc.transform(np.vstack(fv)))"
   ]
  },
  {
   "cell_type": "code",
   "execution_count": 937,
   "metadata": {},
   "outputs": [
    {
     "name": "stdout",
     "output_type": "stream",
     "text": [
      "0.0072626743284\n"
     ]
    },
    {
     "name": "stderr",
     "output_type": "stream",
     "text": [
      "/home/avsolatorio/ml-ai/local/lib/python2.7/site-packages/sklearn/metrics/classification.py:1113: UndefinedMetricWarning: F-score is ill-defined and being set to 0.0 in labels with no predicted samples.\n",
      "  'precision', 'predicted', average, warn_for)\n",
      "/home/avsolatorio/ml-ai/local/lib/python2.7/site-packages/sklearn/metrics/classification.py:1115: UndefinedMetricWarning: F-score is ill-defined and being set to 0.0 in labels with no true samples.\n",
      "  'recall', 'true', average, warn_for)\n"
     ]
    }
   ],
   "source": [
    "thresh = 0.01\n",
    "preds[preds>=thresh] = 1\n",
    "preds[preds<thresh] = 0\n",
    "\n",
    "print f1_score(trainingY.ix[train_index].fillna(0).as_matrix(), preds, average='micro')"
   ]
  },
  {
   "cell_type": "code",
   "execution_count": null,
   "metadata": {
    "collapsed": true
   },
   "outputs": [],
   "source": []
  },
  {
   "cell_type": "code",
   "execution_count": null,
   "metadata": {
    "collapsed": true
   },
   "outputs": [],
   "source": []
  },
  {
   "cell_type": "code",
   "execution_count": 961,
   "metadata": {
    "collapsed": true
   },
   "outputs": [],
   "source": [
    "bb = trainingY[trainingY.sum(axis=1) > 5].head(100)"
   ]
  },
  {
   "cell_type": "code",
   "execution_count": 962,
   "metadata": {},
   "outputs": [
    {
     "name": "stdout",
     "output_type": "stream",
     "text": [
      "\r",
      " 32/100 [========>.....................] - ETA: 0s"
     ]
    }
   ],
   "source": [
    "pred = kmodel.predict_proba(sc.transform(np.vstack(fv.ix[bb.index])))"
   ]
  },
  {
   "cell_type": "code",
   "execution_count": 963,
   "metadata": {},
   "outputs": [
    {
     "data": {
      "text/plain": [
       "0.016841393"
      ]
     },
     "execution_count": 963,
     "metadata": {},
     "output_type": "execute_result"
    }
   ],
   "source": [
    "pred.mean()"
   ]
  },
  {
   "cell_type": "code",
   "execution_count": 964,
   "metadata": {},
   "outputs": [
    {
     "data": {
      "text/plain": [
       "<matplotlib.axes._subplots.AxesSubplot at 0x7fa3693f5a10>"
      ]
     },
     "execution_count": 964,
     "metadata": {},
     "output_type": "execute_result"
    },
    {
     "data": {
      "image/png": "[encoded data removed]",
      "text/plain": [
       "<matplotlib.figure.Figure at 0x7fa3af6f3dd0>"
      ]
     },
     "metadata": {},
     "output_type": "display_data"
    }
   ],
   "source": [
    "ix = 90\n",
    "pd.Series(pred[ix]).plot()"
   ]
  },
  {
   "cell_type": "code",
   "execution_count": 965,
   "metadata": {},
   "outputs": [
    {
     "name": "stdout",
     "output_type": "stream",
     "text": [
      "(array([ 26,  84, 105, 130, 131, 154]),)\n",
      "(array([  2,  52,  84, 105, 130, 131]),)\n"
     ]
    }
   ],
   "source": [
    "print np.where(bb.iloc[ix] > 0)\n",
    "print np.where(pred[ix] >  (pred[ix].mean() + 0.75 * pred[ix].std()))"
   ]
  },
  {
   "cell_type": "code",
   "execution_count": 966,
   "metadata": {},
   "outputs": [
    {
     "name": "stdout",
     "output_type": "stream",
     "text": [
      "(array([ 26,  84, 105, 130, 131, 154]),)\n",
      "(array([  2,  84, 105, 130, 131]),)\n"
     ]
    }
   ],
   "source": [
    "print np.where(bb.iloc[ix] > 0)\n",
    "print np.where(pred[ix] >  pred[ix][np.where(pred[ix] > 0.001)].mean())  # (pred[ix].mean() + 0.75 * pred[ix].std()))"
   ]
  },
  {
   "cell_type": "code",
   "execution_count": 902,
   "metadata": {},
   "outputs": [
    {
     "name": "stdout",
     "output_type": "stream",
     "text": [
      "\r",
      " 32/100 [========>.....................] - ETA: 0s"
     ]
    }
   ],
   "source": [
    "be = trainingY[trainingY.sum(axis=1) == 2].head(100)\n",
    "epred = kmodel.predict_proba(sc.transform(np.vstack(fv.ix[be.index])))"
   ]
  },
  {
   "cell_type": "code",
   "execution_count": 928,
   "metadata": {},
   "outputs": [
    {
     "data": {
      "text/plain": [
       "<matplotlib.axes._subplots.AxesSubplot at 0x7fa3695217d0>"
      ]
     },
     "execution_count": 928,
     "metadata": {},
     "output_type": "execute_result"
    },
    {
     "data": {
      "image/png": "[encoded data removed]",
      "text/plain": [
       "<matplotlib.figure.Figure at 0x7fa3694bfbd0>"
      ]
     },
     "metadata": {},
     "output_type": "display_data"
    }
   ],
   "source": [
    "ix = \n",
    "pd.Series(epred[ix]).plot()"
   ]
  },
  {
   "cell_type": "code",
   "execution_count": 929,
   "metadata": {},
   "outputs": [
    {
     "name": "stdout",
     "output_type": "stream",
     "text": [
      "(array([42, 90]),)\n",
      "(array([ 90, 142]),)\n"
     ]
    }
   ],
   "source": [
    "print np.where(be.iloc[ix] > 0)\n",
    "print np.where(epred[ix] > (epred[ix].mean() + 1 * epred[ix].std()))"
   ]
  },
  {
   "cell_type": "code",
   "execution_count": 930,
   "metadata": {},
   "outputs": [
    {
     "name": "stdout",
     "output_type": "stream",
     "text": [
      "(array([42, 90]),)\n",
      "(array([ 90, 142]),)\n"
     ]
    }
   ],
   "source": [
    "print np.where(be.iloc[ix] > 0)\n",
    "print np.where(epred[ix] >  epred[ix][np.where(epred[ix] > 0.001)].mean())  # (pred[ix].mean() + 0.75 * pred[ix].std()))"
   ]
  },
  {
   "cell_type": "code",
   "execution_count": 939,
   "metadata": {},
   "outputs": [
    {
     "data": {
      "text/plain": [
       "0.19934334"
      ]
     },
     "execution_count": 939,
     "metadata": {},
     "output_type": "execute_result"
    }
   ],
   "source": [
    "epred[ix][(epred[ix] > 0.001)].mean()"
   ]
  },
  {
   "cell_type": "code",
   "execution_count": null,
   "metadata": {
    "collapsed": true
   },
   "outputs": [],
   "source": []
  },
  {
   "cell_type": "code",
   "execution_count": null,
   "metadata": {
    "collapsed": true
   },
   "outputs": [],
   "source": []
  },
  {
   "cell_type": "code",
   "execution_count": null,
   "metadata": {
    "collapsed": true
   },
   "outputs": [],
   "source": []
  },
  {
   "cell_type": "code",
   "execution_count": null,
   "metadata": {
    "collapsed": true,
    "scrolled": true
   },
   "outputs": [],
   "source": [
    "test_df.ix['TestData_07579'].bodyText"
   ]
  },
  {
   "cell_type": "code",
   "execution_count": null,
   "metadata": {
    "collapsed": true
   },
   "outputs": [],
   "source": [
    "test_sub_df.ix['TestData_07579'][test_sub_df.ix['TestData_07579'] == 1]"
   ]
  },
  {
   "cell_type": "code",
   "execution_count": null,
   "metadata": {
    "collapsed": true
   },
   "outputs": [],
   "source": []
  },
  {
   "cell_type": "code",
   "execution_count": 978,
   "metadata": {
    "collapsed": true
   },
   "outputs": [],
   "source": [
    "def get_classes(pred, scale_param=0.75, min_thresh=0.05):\n",
    "    return np.where(pred > max((pred.mean() + scale_param * pred.std()), min_thresh))[0]\n",
    "#     return np.where(pred > max((pred[pred > 0.001].mean()), min_thresh))[0]"
   ]
  },
  {
   "cell_type": "code",
   "execution_count": 979,
   "metadata": {},
   "outputs": [
    {
     "name": "stdout",
     "output_type": "stream",
     "text": [
      "7520/7578 [============================>.] - ETA: 0sCPU times: user 768 ms, sys: 52 ms, total: 820 ms\n",
      "Wall time: 881 ms\n"
     ]
    }
   ],
   "source": [
    "%%time\n",
    "# valid_test_feature_vec found below!\n",
    "\n",
    "test_values = np.zeros([valid_test_feature_vec.shape[0], len(topics)])\n",
    "for ix, pred in enumerate(kmodel.predict_proba(sc.transform(np.vstack(valid_test_feature_vec)))):\n",
    "    for v in get_classes(pred, scale_param=0.75):\n",
    "        test_values[ix][v] = 1\n",
    "\n",
    "test_sub_df = pd.DataFrame(test_values, columns=sorted(topics), index=valid_test_feature_vec.index)\n",
    "for i in test_feature_vec[test_feature_vec.isnull()].index:\n",
    "    test_sub_df.ix[i] = np.zeros(len(topics))"
   ]
  },
  {
   "cell_type": "code",
   "execution_count": 980,
   "metadata": {
    "collapsed": true
   },
   "outputs": [],
   "source": [
    "test_sub_df.astype(int).reset_index().rename(columns={'index': 'id'}).sort_values('id').to_csv('basic_nn_submission_full_training_data_0.9958_validation_accuracy_binary_crossentropy.csv', index=False)"
   ]
  },
  {
   "cell_type": "code",
   "execution_count": 974,
   "metadata": {
    "scrolled": true
   },
   "outputs": [
    {
     "data": {
      "text/plain": [
       "36870.0"
      ]
     },
     "execution_count": 974,
     "metadata": {},
     "output_type": "execute_result"
    }
   ],
   "source": [
    "test_sub_df.sum(axis=1).sum()"
   ]
  },
  {
   "cell_type": "code",
   "execution_count": 977,
   "metadata": {
    "scrolled": true
   },
   "outputs": [
    {
     "data": {
      "text/plain": [
       "34952.0"
      ]
     },
     "execution_count": 977,
     "metadata": {},
     "output_type": "execute_result"
    }
   ],
   "source": [
    "test_sub_df.sum(axis=1).sum()"
   ]
  },
  {
   "cell_type": "code",
   "execution_count": 729,
   "metadata": {
    "collapsed": true
   },
   "outputs": [],
   "source": [
    "top_submission = pd.read_csv('basic_nn_submission_0.649_accuracy_multi_class.csv')"
   ]
  },
  {
   "cell_type": "code",
   "execution_count": 732,
   "metadata": {
    "scrolled": true
   },
   "outputs": [
    {
     "data": {
      "text/plain": [
       "id\n",
       "TestData_00001    1\n",
       "TestData_00002    5\n",
       "TestData_00003    6\n",
       "TestData_00004    0\n",
       "TestData_00005    2\n",
       "TestData_00006    4\n",
       "TestData_00007    0\n",
       "TestData_00008    0\n",
       "TestData_00009    4\n",
       "TestData_00010    3\n",
       "TestData_00011    0\n",
       "TestData_00012    0\n",
       "TestData_00013    7\n",
       "TestData_00014    0\n",
       "TestData_00015    0\n",
       "TestData_00016    1\n",
       "TestData_00017    1\n",
       "TestData_00018    5\n",
       "TestData_00019    0\n",
       "TestData_00020    0\n",
       "TestData_00021    5\n",
       "TestData_00022    2\n",
       "TestData_00023    0\n",
       "TestData_00024    1\n",
       "TestData_00025    1\n",
       "TestData_00026    2\n",
       "TestData_00027    3\n",
       "TestData_00028    4\n",
       "TestData_00029    0\n",
       "TestData_00030    1\n",
       "                 ..\n",
       "TestData_07552    2\n",
       "TestData_07553    0\n",
       "TestData_07554    3\n",
       "TestData_07555    2\n",
       "TestData_07556    5\n",
       "TestData_07557    0\n",
       "TestData_07558    1\n",
       "TestData_07559    0\n",
       "TestData_07560    2\n",
       "TestData_07561    0\n",
       "TestData_07562    0\n",
       "TestData_07563    1\n",
       "TestData_07564    1\n",
       "TestData_07565    0\n",
       "TestData_07566    0\n",
       "TestData_07567    1\n",
       "TestData_07568    0\n",
       "TestData_07569    0\n",
       "TestData_07570    0\n",
       "TestData_07571    3\n",
       "TestData_07572    1\n",
       "TestData_07573    7\n",
       "TestData_07574    1\n",
       "TestData_07575    3\n",
       "TestData_07576    1\n",
       "TestData_07577    3\n",
       "TestData_07578    1\n",
       "TestData_07579    6\n",
       "TestData_07580    2\n",
       "TestData_07581    3\n",
       "dtype: int64"
      ]
     },
     "execution_count": 732,
     "metadata": {},
     "output_type": "execute_result"
    }
   ],
   "source": [
    "top_submission.set_index('id').sum(axis=1)"
   ]
  },
  {
   "cell_type": "code",
   "execution_count": 654,
   "metadata": {},
   "outputs": [
    {
     "data": {
      "text/html": [
       "<div>\n",
       "<table border=\"1\" class=\"dataframe\">\n",
       "  <thead>\n",
       "    <tr style=\"text-align: right;\">\n",
       "      <th></th>\n",
       "      <th>activism</th>\n",
       "      <th>afghanistan</th>\n",
       "      <th>aid</th>\n",
       "      <th>algerianhostagecrisis</th>\n",
       "      <th>alqaida</th>\n",
       "      <th>alshabaab</th>\n",
       "      <th>antiwar</th>\n",
       "      <th>arabandmiddleeastprotests</th>\n",
       "      <th>armstrade</th>\n",
       "      <th>australianguncontrol</th>\n",
       "      <th>...</th>\n",
       "      <th>unitednations</th>\n",
       "      <th>usguncontrol</th>\n",
       "      <th>values</th>\n",
       "      <th>warcrimes</th>\n",
       "      <th>warreporting</th>\n",
       "      <th>weaponstechnology</th>\n",
       "      <th>womeninbusiness</th>\n",
       "      <th>woolwichattack</th>\n",
       "      <th>worldmigration</th>\n",
       "      <th>zikavirus</th>\n",
       "    </tr>\n",
       "  </thead>\n",
       "  <tbody>\n",
       "    <tr>\n",
       "      <th>2003b_TrainingData_00068</th>\n",
       "      <td>NaN</td>\n",
       "      <td>NaN</td>\n",
       "      <td>NaN</td>\n",
       "      <td>NaN</td>\n",
       "      <td>NaN</td>\n",
       "      <td>NaN</td>\n",
       "      <td>NaN</td>\n",
       "      <td>NaN</td>\n",
       "      <td>NaN</td>\n",
       "      <td>NaN</td>\n",
       "      <td>...</td>\n",
       "      <td>NaN</td>\n",
       "      <td>NaN</td>\n",
       "      <td>NaN</td>\n",
       "      <td>NaN</td>\n",
       "      <td>NaN</td>\n",
       "      <td>NaN</td>\n",
       "      <td>NaN</td>\n",
       "      <td>NaN</td>\n",
       "      <td>NaN</td>\n",
       "      <td>NaN</td>\n",
       "    </tr>\n",
       "    <tr>\n",
       "      <th>2003b_TrainingData_00093</th>\n",
       "      <td>NaN</td>\n",
       "      <td>NaN</td>\n",
       "      <td>NaN</td>\n",
       "      <td>NaN</td>\n",
       "      <td>NaN</td>\n",
       "      <td>NaN</td>\n",
       "      <td>NaN</td>\n",
       "      <td>NaN</td>\n",
       "      <td>NaN</td>\n",
       "      <td>NaN</td>\n",
       "      <td>...</td>\n",
       "      <td>NaN</td>\n",
       "      <td>NaN</td>\n",
       "      <td>NaN</td>\n",
       "      <td>NaN</td>\n",
       "      <td>NaN</td>\n",
       "      <td>NaN</td>\n",
       "      <td>NaN</td>\n",
       "      <td>NaN</td>\n",
       "      <td>NaN</td>\n",
       "      <td>NaN</td>\n",
       "    </tr>\n",
       "    <tr>\n",
       "      <th>2003b_TrainingData_00100</th>\n",
       "      <td>NaN</td>\n",
       "      <td>NaN</td>\n",
       "      <td>NaN</td>\n",
       "      <td>NaN</td>\n",
       "      <td>NaN</td>\n",
       "      <td>NaN</td>\n",
       "      <td>NaN</td>\n",
       "      <td>NaN</td>\n",
       "      <td>NaN</td>\n",
       "      <td>NaN</td>\n",
       "      <td>...</td>\n",
       "      <td>NaN</td>\n",
       "      <td>NaN</td>\n",
       "      <td>NaN</td>\n",
       "      <td>NaN</td>\n",
       "      <td>NaN</td>\n",
       "      <td>NaN</td>\n",
       "      <td>NaN</td>\n",
       "      <td>NaN</td>\n",
       "      <td>NaN</td>\n",
       "      <td>NaN</td>\n",
       "    </tr>\n",
       "    <tr>\n",
       "      <th>2003b_TrainingData_00127</th>\n",
       "      <td>NaN</td>\n",
       "      <td>NaN</td>\n",
       "      <td>NaN</td>\n",
       "      <td>NaN</td>\n",
       "      <td>NaN</td>\n",
       "      <td>NaN</td>\n",
       "      <td>NaN</td>\n",
       "      <td>NaN</td>\n",
       "      <td>NaN</td>\n",
       "      <td>NaN</td>\n",
       "      <td>...</td>\n",
       "      <td>NaN</td>\n",
       "      <td>NaN</td>\n",
       "      <td>NaN</td>\n",
       "      <td>NaN</td>\n",
       "      <td>NaN</td>\n",
       "      <td>NaN</td>\n",
       "      <td>NaN</td>\n",
       "      <td>NaN</td>\n",
       "      <td>NaN</td>\n",
       "      <td>NaN</td>\n",
       "    </tr>\n",
       "    <tr>\n",
       "      <th>2003b_TrainingData_00132</th>\n",
       "      <td>NaN</td>\n",
       "      <td>NaN</td>\n",
       "      <td>NaN</td>\n",
       "      <td>NaN</td>\n",
       "      <td>NaN</td>\n",
       "      <td>NaN</td>\n",
       "      <td>NaN</td>\n",
       "      <td>NaN</td>\n",
       "      <td>NaN</td>\n",
       "      <td>NaN</td>\n",
       "      <td>...</td>\n",
       "      <td>NaN</td>\n",
       "      <td>NaN</td>\n",
       "      <td>NaN</td>\n",
       "      <td>NaN</td>\n",
       "      <td>NaN</td>\n",
       "      <td>NaN</td>\n",
       "      <td>NaN</td>\n",
       "      <td>NaN</td>\n",
       "      <td>NaN</td>\n",
       "      <td>NaN</td>\n",
       "    </tr>\n",
       "  </tbody>\n",
       "</table>\n",
       "<p>5 rows × 160 columns</p>\n",
       "</div>"
      ],
      "text/plain": [
       "                          activism afghanistan  aid algerianhostagecrisis  \\\n",
       "2003b_TrainingData_00068       NaN         NaN  NaN                   NaN   \n",
       "2003b_TrainingData_00093       NaN         NaN  NaN                   NaN   \n",
       "2003b_TrainingData_00100       NaN         NaN  NaN                   NaN   \n",
       "2003b_TrainingData_00127       NaN         NaN  NaN                   NaN   \n",
       "2003b_TrainingData_00132       NaN         NaN  NaN                   NaN   \n",
       "\n",
       "                         alqaida alshabaab antiwar arabandmiddleeastprotests  \\\n",
       "2003b_TrainingData_00068     NaN       NaN     NaN                       NaN   \n",
       "2003b_TrainingData_00093     NaN       NaN     NaN                       NaN   \n",
       "2003b_TrainingData_00100     NaN       NaN     NaN                       NaN   \n",
       "2003b_TrainingData_00127     NaN       NaN     NaN                       NaN   \n",
       "2003b_TrainingData_00132     NaN       NaN     NaN                       NaN   \n",
       "\n",
       "                         armstrade australianguncontrol    ...      \\\n",
       "2003b_TrainingData_00068       NaN                  NaN    ...       \n",
       "2003b_TrainingData_00093       NaN                  NaN    ...       \n",
       "2003b_TrainingData_00100       NaN                  NaN    ...       \n",
       "2003b_TrainingData_00127       NaN                  NaN    ...       \n",
       "2003b_TrainingData_00132       NaN                  NaN    ...       \n",
       "\n",
       "                         unitednations  usguncontrol values  warcrimes  \\\n",
       "2003b_TrainingData_00068           NaN           NaN    NaN        NaN   \n",
       "2003b_TrainingData_00093           NaN           NaN    NaN        NaN   \n",
       "2003b_TrainingData_00100           NaN           NaN    NaN        NaN   \n",
       "2003b_TrainingData_00127           NaN           NaN    NaN        NaN   \n",
       "2003b_TrainingData_00132           NaN           NaN    NaN        NaN   \n",
       "\n",
       "                         warreporting weaponstechnology womeninbusiness  \\\n",
       "2003b_TrainingData_00068          NaN               NaN             NaN   \n",
       "2003b_TrainingData_00093          NaN               NaN             NaN   \n",
       "2003b_TrainingData_00100          NaN               NaN             NaN   \n",
       "2003b_TrainingData_00127          NaN               NaN             NaN   \n",
       "2003b_TrainingData_00132          NaN               NaN             NaN   \n",
       "\n",
       "                         woolwichattack worldmigration  zikavirus  \n",
       "2003b_TrainingData_00068            NaN            NaN        NaN  \n",
       "2003b_TrainingData_00093            NaN            NaN        NaN  \n",
       "2003b_TrainingData_00100            NaN            NaN        NaN  \n",
       "2003b_TrainingData_00127            NaN            NaN        NaN  \n",
       "2003b_TrainingData_00132            NaN            NaN        NaN  \n",
       "\n",
       "[5 rows x 160 columns]"
      ]
     },
     "execution_count": 654,
     "metadata": {},
     "output_type": "execute_result"
    }
   ],
   "source": [
    "s = trainingY.head()[sorted(topics)]\n",
    "s[s.notnull()]"
   ]
  },
  {
   "cell_type": "code",
   "execution_count": 657,
   "metadata": {
    "scrolled": true
   },
   "outputs": [
    {
     "data": {
      "text/plain": [
       "(array([76]),)"
      ]
     },
     "execution_count": 657,
     "metadata": {},
     "output_type": "execute_result"
    }
   ],
   "source": [
    "np.where(s.values[0] == 1)"
   ]
  },
  {
   "cell_type": "code",
   "execution_count": 658,
   "metadata": {},
   "outputs": [
    {
     "data": {
      "text/plain": [
       "(array([0, 1, 2, 3, 4]), array([ 76,  76, 120,  76,  76]))"
      ]
     },
     "execution_count": 658,
     "metadata": {},
     "output_type": "execute_result"
    }
   ],
   "source": [
    "np.where(s.values == 1)"
   ]
  },
  {
   "cell_type": "code",
   "execution_count": 648,
   "metadata": {},
   "outputs": [
    {
     "name": "stdout",
     "output_type": "stream",
     "text": [
      "5/5 [==============================] - 0s\n"
     ]
    },
    {
     "data": {
      "text/plain": [
       "array([20, 22,  4, 25, 15])"
      ]
     },
     "execution_count": 648,
     "metadata": {},
     "output_type": "execute_result"
    }
   ],
   "source": [
    "(kmodel.predict_proba(sc.transform(np.vstack(fv.head()))) > 0.00035).sum(axis=1)  #.argmax(axis=1)"
   ]
  },
  {
   "cell_type": "code",
   "execution_count": 649,
   "metadata": {},
   "outputs": [
    {
     "name": "stdout",
     "output_type": "stream",
     "text": [
      "5/5 [==============================] - 0s\n"
     ]
    },
    {
     "data": {
      "text/plain": [
       "array([  8,   6, 120,  66,   6])"
      ]
     },
     "execution_count": 649,
     "metadata": {},
     "output_type": "execute_result"
    }
   ],
   "source": [
    "(kmodel.predict_proba(sc.transform(np.vstack(fv.head()))) > 0.002).argmax(axis=1)"
   ]
  },
  {
   "cell_type": "code",
   "execution_count": 660,
   "metadata": {},
   "outputs": [
    {
     "name": "stdout",
     "output_type": "stream",
     "text": [
      "5/5 [==============================] - 0s\n"
     ]
    },
    {
     "data": {
      "text/plain": [
       "(array([0, 0, 0, 1, 2, 3, 4]), array([ 34,  76,  98,  76, 120,  76,  76]))"
      ]
     },
     "execution_count": 660,
     "metadata": {},
     "output_type": "execute_result"
    }
   ],
   "source": [
    "p = (kmodel.predict_proba(sc.transform(np.vstack(fv.head()))) > 0.05)\n",
    "np.where(p == 1)"
   ]
  },
  {
   "cell_type": "code",
   "execution_count": 520,
   "metadata": {},
   "outputs": [
    {
     "name": "stdout",
     "output_type": "stream",
     "text": [
      "5/5 [==============================] - 0s\n"
     ]
    },
    {
     "data": {
      "text/plain": [
       "(array([0, 1, 2, 2, 3, 3, 4, 4, 4, 4]),\n",
       " array([ 66,  41,  70, 131, 116, 125,  56,  60, 104, 125]))"
      ]
     },
     "execution_count": 520,
     "metadata": {},
     "output_type": "execute_result"
    }
   ],
   "source": [
    "p = (kmodel.predict_proba(sc.transform(np.vstack(fv.head()))) > 0.1)\n",
    "np.where(p == 1)"
   ]
  },
  {
   "cell_type": "code",
   "execution_count": 623,
   "metadata": {},
   "outputs": [
    {
     "name": "stdout",
     "output_type": "stream",
     "text": [
      "19744/20000 [============================>.] - ETA: 0s"
     ]
    }
   ],
   "source": [
    "pred = kmodel.predict_proba(sc.transform(np.vstack(fv.head(20000))))"
   ]
  },
  {
   "cell_type": "code",
   "execution_count": 615,
   "metadata": {},
   "outputs": [
    {
     "data": {
      "text/plain": [
       "1097"
      ]
     },
     "execution_count": 615,
     "metadata": {},
     "output_type": "execute_result"
    }
   ],
   "source": [
    "w = trainingY.sum(axis=1)\n",
    "w[w > 4]\n",
    "list(trainingY.index).index('2003b_TrainingData_06155')"
   ]
  },
  {
   "cell_type": "code",
   "execution_count": 626,
   "metadata": {},
   "outputs": [
    {
     "data": {
      "text/plain": [
       "array([ 0.00528145,  0.00133199,  0.00523172, ...,  0.02053957,\n",
       "        0.00371951,  0.02733777], dtype=float32)"
      ]
     },
     "execution_count": 626,
     "metadata": {},
     "output_type": "execute_result"
    }
   ],
   "source": [
    "(pred.mean(axis=1) + pred.std(axis=1))"
   ]
  },
  {
   "cell_type": "code",
   "execution_count": 619,
   "metadata": {},
   "outputs": [
    {
     "data": {
      "text/plain": [
       "<matplotlib.axes._subplots.AxesSubplot at 0x7fa3bcaa2490>"
      ]
     },
     "execution_count": 619,
     "metadata": {},
     "output_type": "execute_result"
    },
    {
     "data": {
      "image/png": "[encoded data removed]",
      "text/plain": [
       "<matplotlib.figure.Figure at 0x7fa3bcab6410>"
      ]
     },
     "metadata": {},
     "output_type": "display_data"
    }
   ],
   "source": [
    "%matplotlib inline\n",
    "\n",
    "d = pd.Series(pred[1097])\n",
    "d.plot()"
   ]
  },
  {
   "cell_type": "code",
   "execution_count": 611,
   "metadata": {},
   "outputs": [
    {
     "data": {
      "text/plain": [
       "mean_topic_word_vec    [0.0123051404953, 0.206452871983, -0.198155286...\n",
       "topic_vec              [0.0357510633767, 0.139327511191, -0.103679254...\n",
       "Name: womeninbusiness, dtype: object"
      ]
     },
     "execution_count": 611,
     "metadata": {},
     "output_type": "execute_result"
    }
   ],
   "source": [
    "topic2vec_df.iloc[156]"
   ]
  },
  {
   "cell_type": "code",
   "execution_count": 12,
   "metadata": {
    "collapsed": true
   },
   "outputs": [],
   "source": [
    "fs_model = fasttext.load_model('./corpus/models/model_train_body_data-with_labels_False-retain_special_chars_False.bin')"
   ]
  },
  {
   "cell_type": "code",
   "execution_count": 177,
   "metadata": {
    "collapsed": true
   },
   "outputs": [],
   "source": [
    "topic2actual\n",
    "topic2vec = {}\n",
    "\n",
    "for topic, actual in topic2actual.items():\n",
    "    topic_vec = np.array(fs_model[' '.join(actual)])\n",
    "    mean_topic_word_vec = np.array([fs_model[w] for w in actual if w not in ['and', 'in', 'of']]).mean(axis=0)\n",
    "    topic2vec[topic] = dict(\n",
    "        topic_vec=topic_vec,\n",
    "        mean_topic_word_vec=mean_topic_word_vec\n",
    "    )\n",
    "\n",
    "topic2vec_df = pd.DataFrame(topic2vec).T"
   ]
  },
  {
   "cell_type": "code",
   "execution_count": 84,
   "metadata": {
    "collapsed": true
   },
   "outputs": [],
   "source": [
    "term = 'carers'"
   ]
  },
  {
   "cell_type": "code",
   "execution_count": 85,
   "metadata": {},
   "outputs": [
    {
     "name": "stdout",
     "output_type": "stream",
     "text": [
      "0 carers 1.0\n",
      "1 refugees 0.389063198824\n",
      "2 localgovernment 0.37627013214\n",
      "3 internallydisplacedpeople 0.375560678373\n",
      "4 dataprotection 0.370663159257\n",
      "5 retirementage 0.349338655313\n",
      "6 womeninbusiness 0.343153673513\n",
      "7 internetsafety 0.336918630343\n",
      "8 humanrightsact 0.324758771034\n",
      "9 firefighters 0.322804412595\n",
      "10 stopandsearch 0.315840280675\n",
      "11 criminaljustice 0.310002540059\n",
      "12 humanrights 0.300932104298\n",
      "13 mrsa 0.295473746111\n",
      "14 aid 0.291590101467\n",
      "15 humantrafficking 0.287508626751\n",
      "16 tunisiaattack2015 0.284361925195\n",
      "17 conflictanddevelopment 0.284118755384\n",
      "18 arabandmiddleeastprotests 0.281470078213\n",
      "19 police 0.273878529706\n",
      "20 alshabaab 0.273604113167\n",
      "21 internationalcriminaljustice 0.270351269405\n",
      "22 drugs 0.268149501116\n",
      "23 immigration 0.267945141669\n",
      "24 organisedcrime 0.267628911836\n",
      "25 australiansecurityandcounterterrorism 0.267393702181\n",
      "26 peaceandreconciliation 0.266238809818\n",
      "27 migration 0.264363322042\n",
      "28 justiceandsecurity 0.262459314732\n",
      "29 europeancourtofhumanrights 0.257851881452\n",
      "30 humanitarianresponse 0.25702501298\n",
      "31 algerianhostagecrisis 0.255992462707\n",
      "32 ukcrime 0.251456566252\n",
      "33 ebola 0.244765703426\n",
      "34 undercoverpoliceandpolicing 0.243723472528\n",
      "35 worldmigration 0.24102979381\n",
      "36 naturaldisasters 0.236176530237\n",
      "37 middleeastpeacetalks 0.235600228267\n",
      "38 internationalcourtofjustice 0.234958838005\n",
      "39 torture 0.233123210707\n",
      "40 afghanistan 0.229978564797\n",
      "41 royalairforce 0.229193500608\n",
      "42 britisharmy 0.228464174506\n",
      "43 judiciary 0.227924910242\n",
      "44 berlinchristmasmarketattack 0.226927564804\n",
      "45 warcrimes 0.224552705631\n",
      "46 biometrics 0.22451007967\n",
      "47 somalia 0.222209660678\n",
      "48 bigdata 0.221696598017\n",
      "49 surveillance 0.221036926884\n",
      "50 uksecurity 0.220259555469\n",
      "51 farright 0.218681934847\n",
      "52 drugstrade 0.217289930347\n",
      "53 famine 0.212778458112\n",
      "54 orlandoterrorattack 0.212211942401\n",
      "55 drugspolicy 0.211775666045\n",
      "56 transport 0.211132050541\n",
      "57 syria 0.206938723268\n",
      "58 extradition 0.206900232922\n",
      "59 southchinasea 0.203043383126\n",
      "60 iraq 0.199571778678\n",
      "61 freedomofspeech 0.19945256847\n",
      "62 metropolitanpolice 0.199330262691\n",
      "63 israel 0.196795951225\n",
      "64 londonriots 0.196556466692\n",
      "65 libya 0.195419970647\n",
      "66 energy 0.194776823419\n",
      "67 philippines 0.194287566715\n",
      "68 terrorism 0.191004089466\n",
      "69 july7 0.189829242349\n",
      "70 weaponstechnology 0.188245737531\n",
      "71 bostonmarathonbombing 0.187732509558\n",
      "72 cybercrime 0.183788700703\n",
      "73 economy 0.183473620752\n",
      "74 religion 0.18272916305\n",
      "75 unitednations 0.179082303815\n",
      "76 clusterbombs 0.177395391027\n",
      "77 lebanon 0.177188971796\n",
      "78 royalnavy 0.17603165385\n",
      "79 taliban 0.175487714994\n",
      "80 southafrica 0.175182874633\n",
      "81 forensicscience 0.174812291906\n",
      "82 logistics 0.17212562852\n",
      "83 kenya 0.170889733109\n",
      "84 encryption 0.169716161921\n",
      "85 europeanarrestwarrant 0.169366016643\n",
      "86 slavery 0.168180207055\n",
      "87 warreporting 0.166580745609\n",
      "88 armstrade 0.166096954335\n",
      "89 brusselsattacks 0.165402346331\n",
      "90 francetrainattack 0.165181199519\n",
      "91 jubilee 0.164307627074\n",
      "92 knifecrime 0.163878381056\n",
      "93 thailand 0.163218440812\n",
      "94 australianguncontrol 0.162486707379\n",
      "95 london 0.161452084291\n",
      "96 mumbaiterrorattacks 0.160800367715\n",
      "97 malware 0.160544690925\n",
      "98 activism 0.159940224737\n",
      "99 guncrime 0.159684889361\n",
      "100 charliehebdoattack 0.159306576665\n",
      "101 osamabinladen 0.15908299945\n",
      "102 usguncontrol 0.158312253115\n",
      "103 darknet 0.156947189201\n",
      "104 september11 0.156418859734\n",
      "105 saudiarabia 0.156156284504\n",
      "106 uksupremecourt 0.15491153984\n",
      "107 alqaida 0.154870856361\n",
      "108 zikavirus 0.154588817045\n",
      "109 morocco 0.152132361102\n",
      "110 turkey 0.151976160565\n",
      "111 sanbernardinoshooting 0.151974860775\n",
      "112 parisattacks 0.15168394599\n",
      "113 woolwichattack 0.150909017084\n",
      "114 germany 0.146454326968\n",
      "115 events 0.145994824076\n",
      "116 values 0.145823420527\n",
      "117 munichshooting 0.145822794295\n",
      "118 hacking 0.144079815205\n",
      "119 debate 0.141637178606\n",
      "120 nigeria 0.14106803426\n",
      "121 genevaconventions 0.139143606604\n",
      "122 traincrashes 0.138507784719\n",
      "123 military 0.1370545901\n",
      "124 defence 0.131212268233\n",
      "125 antiwar 0.129918397047\n",
      "126 protest 0.127401615173\n",
      "127 russia 0.126519074846\n",
      "128 ethics 0.126095532121\n",
      "129 deflation 0.124886697444\n",
      "130 helicoptercrashes 0.124071525867\n",
      "131 chemicalweapons 0.123284755894\n",
      "132 france 0.123274084614\n",
      "133 mali 0.122959484646\n",
      "134 hashtags 0.122414510253\n",
      "135 india 0.119401281857\n",
      "136 cameroon 0.117568097375\n",
      "137 bastilledaytruckattack 0.117166424355\n",
      "138 egypt 0.114210260454\n",
      "139 drones 0.111350643101\n",
      "140 occupy 0.111227542989\n",
      "141 earthquakes 0.107907683023\n",
      "142 belgium 0.107751083277\n",
      "143 nuclearweapons 0.106672402582\n",
      "144 jordan 0.102704276621\n",
      "145 indonesia 0.101644505276\n",
      "146 planecrashes 0.0992924195943\n",
      "147 piracy 0.0972797766757\n",
      "148 bokoharam 0.0961798701694\n",
      "149 malaysia 0.0951325857933\n",
      "150 cyberwar 0.0945181764578\n",
      "151 rio20earthsummit 0.092128926766\n",
      "152 cobra 0.0889238028569\n",
      "153 sydneysiege 0.0856551698965\n",
      "154 ministryofdefence 0.0841185334521\n",
      "155 espionage 0.0793626180241\n",
      "156 turkeycoupattempt 0.0694743606145\n",
      "157 isis 0.0684717626497\n",
      "158 controversy 0.0560096051827\n",
      "159 paris 0.0462010102292\n"
     ]
    }
   ],
   "source": [
    "sim = cosine_similarity(topic2vec_df.ix[term].topic_vec.reshape(1, -1), np.vstack(topic2vec_df.topic_vec.values))\n",
    "for ix, i in enumerate(np.argsort(\n",
    "    sim,\n",
    ")[0][::-1]):\n",
    "    print ix, topic2vec_df.index[i], sim[0][i]"
   ]
  },
  {
   "cell_type": "code",
   "execution_count": 86,
   "metadata": {},
   "outputs": [
    {
     "name": "stdout",
     "output_type": "stream",
     "text": [
      "0 carers 1.0\n",
      "1 internallydisplacedpeople 0.407761171205\n",
      "2 refugees 0.389063198824\n",
      "3 localgovernment 0.363489016847\n",
      "4 womeninbusiness 0.355865897416\n",
      "5 dataprotection 0.350053618282\n",
      "6 retirementage 0.326280335061\n",
      "7 internetsafety 0.324591185233\n",
      "8 firefighters 0.322804412595\n",
      "9 justiceandsecurity 0.320618047704\n",
      "10 undercoverpoliceandpolicing 0.304777436573\n",
      "11 uksecurity 0.301790086298\n",
      "12 drugspolicy 0.296293663022\n",
      "13 mrsa 0.295473746111\n",
      "14 aid 0.291590101467\n",
      "15 humantrafficking 0.286392048106\n",
      "16 humanitarianresponse 0.28126094325\n",
      "17 ukcrime 0.281058875485\n",
      "18 conflictanddevelopment 0.279718137845\n",
      "19 humanrightsact 0.277735681261\n",
      "20 europeancourtofhumanrights 0.276791697228\n",
      "21 australiansecurityandcounterterrorism 0.274789561109\n",
      "22 police 0.273878529706\n",
      "23 criminaljustice 0.273558151121\n",
      "24 drugs 0.268149501116\n",
      "25 peaceandreconciliation 0.268063891638\n",
      "26 immigration 0.267945141669\n",
      "27 drugstrade 0.267841766765\n",
      "28 internationalcourtofjustice 0.265763738898\n",
      "29 migration 0.264363322042\n",
      "30 freedomofspeech 0.261435955059\n",
      "31 internationalcriminaljustice 0.253557313378\n",
      "32 metropolitanpolice 0.253386495268\n",
      "33 ebola 0.244765703426\n",
      "34 humanrights 0.243939929837\n",
      "35 stopandsearch 0.241938870304\n",
      "36 worldmigration 0.236715933523\n",
      "37 torture 0.233123210707\n",
      "38 afghanistan 0.229978564797\n",
      "39 judiciary 0.227924910242\n",
      "40 orlandoterrorattack 0.224654704834\n",
      "41 biometrics 0.22451007967\n",
      "42 uksupremecourt 0.224348806175\n",
      "43 somalia 0.222209660678\n",
      "44 francetrainattack 0.221772171239\n",
      "45 surveillance 0.221036926884\n",
      "46 berlinchristmasmarketattack 0.220080909084\n",
      "47 britisharmy 0.219350176353\n",
      "48 famine 0.212778458112\n",
      "49 bigdata 0.211898655672\n",
      "50 transport 0.211132050541\n",
      "51 syria 0.206938723268\n",
      "52 extradition 0.206900232922\n",
      "53 brusselsattacks 0.206259543808\n",
      "54 mumbaiterrorattacks 0.203514167064\n",
      "55 organisedcrime 0.20075273853\n",
      "56 iraq 0.199571778678\n",
      "57 zikavirus 0.199300353031\n",
      "58 farright 0.198693244794\n",
      "59 israel 0.196795951225\n",
      "60 forensicscience 0.196495927868\n",
      "61 traincrashes 0.196316924319\n",
      "62 libya 0.195419970647\n",
      "63 energy 0.194776823419\n",
      "64 algerianhostagecrisis 0.194319048412\n",
      "65 philippines 0.194287566715\n",
      "66 warreporting 0.194081129568\n",
      "67 warcrimes 0.193142556583\n",
      "68 terrorism 0.191004089466\n",
      "69 armstrade 0.188432162424\n",
      "70 arabandmiddleeastprotests 0.187616453834\n",
      "71 saudiarabia 0.184647219092\n",
      "72 royalairforce 0.184229305823\n",
      "73 cybercrime 0.183788700703\n",
      "74 economy 0.183473620752\n",
      "75 religion 0.18272916305\n",
      "76 weaponstechnology 0.181846518908\n",
      "77 usguncontrol 0.181481332137\n",
      "78 tunisiaattack2015 0.180500990242\n",
      "79 ministryofdefence 0.180222968328\n",
      "80 unitednations 0.180099863743\n",
      "81 middleeastpeacetalks 0.178283251206\n",
      "82 lebanon 0.177188971796\n",
      "83 july7 0.17623071187\n",
      "84 taliban 0.175487714994\n",
      "85 woolwichattack 0.173920659667\n",
      "86 logistics 0.17212562852\n",
      "87 rio20earthsummit 0.172038126403\n",
      "88 kenya 0.170889733109\n",
      "89 encryption 0.169716161921\n",
      "90 londonriots 0.168782309464\n",
      "91 bostonmarathonbombing 0.168684485438\n",
      "92 slavery 0.168180207055\n",
      "93 guncrime 0.167925469689\n",
      "94 royalnavy 0.167435364592\n",
      "95 alshabaab 0.166239766661\n",
      "96 jubilee 0.164307627074\n",
      "97 southchinasea 0.163780414008\n",
      "98 thailand 0.163218440812\n",
      "99 september11 0.161721826945\n",
      "100 knifecrime 0.161578173272\n",
      "101 london 0.161452084291\n",
      "102 malware 0.160544690925\n",
      "103 activism 0.159940224737\n",
      "104 bokoharam 0.157211140942\n",
      "105 darknet 0.156947189201\n",
      "106 nuclearweapons 0.155442121479\n",
      "107 charliehebdoattack 0.153630391444\n",
      "108 naturaldisasters 0.15358414766\n",
      "109 europeanarrestwarrant 0.152627077297\n",
      "110 morocco 0.152132361102\n",
      "111 turkey 0.151976160565\n",
      "112 genevaconventions 0.151198474549\n",
      "113 australianguncontrol 0.148638914822\n",
      "114 southafrica 0.147075022648\n",
      "115 germany 0.146454326968\n",
      "116 events 0.145994824076\n",
      "117 values 0.145823420527\n",
      "118 chemicalweapons 0.145233999687\n",
      "119 bastilledaytruckattack 0.14498558264\n",
      "120 hacking 0.144079815205\n",
      "121 alqaida 0.144074718561\n",
      "122 parisattacks 0.141882406192\n",
      "123 debate 0.141637178606\n",
      "124 nigeria 0.14106803426\n",
      "125 clusterbombs 0.138068897533\n",
      "126 military 0.1370545901\n",
      "127 helicoptercrashes 0.135135524652\n",
      "128 defence 0.131212268233\n",
      "129 sydneysiege 0.130192035416\n",
      "130 antiwar 0.129918397047\n",
      "131 protest 0.127401615173\n",
      "132 russia 0.126519074846\n",
      "133 ethics 0.126095532121\n",
      "134 osamabinladen 0.125072374375\n",
      "135 deflation 0.124886697444\n",
      "136 france 0.123274084614\n",
      "137 mali 0.122959484646\n",
      "138 india 0.119401281857\n",
      "139 cameroon 0.117568097375\n",
      "140 egypt 0.114210260454\n",
      "141 planecrashes 0.113915152412\n",
      "142 sanbernardinoshooting 0.113894209033\n",
      "143 drones 0.111350643101\n",
      "144 occupy 0.111227542989\n",
      "145 earthquakes 0.107907683023\n",
      "146 belgium 0.107751083277\n",
      "147 jordan 0.102704276621\n",
      "148 turkeycoupattempt 0.1024874403\n",
      "149 indonesia 0.101644505276\n",
      "150 piracy 0.0972797766757\n",
      "151 munichshooting 0.0959061054864\n",
      "152 malaysia 0.0951325857933\n",
      "153 cyberwar 0.0945181764578\n",
      "154 hashtags 0.0909540133748\n",
      "155 cobra 0.0889238028569\n",
      "156 espionage 0.0793626180241\n",
      "157 isis 0.0684717626497\n",
      "158 controversy 0.0560096051827\n",
      "159 paris 0.0462010102292\n"
     ]
    }
   ],
   "source": [
    "sim = cosine_similarity(topic2vec_df.ix[term].mean_topic_word_vec.reshape(1, -1), np.vstack(topic2vec_df.mean_topic_word_vec.values))\n",
    "\n",
    "for ix, i in enumerate(np.argsort(\n",
    "    sim\n",
    ")[0][::-1]):\n",
    "    print ix, topic2vec_df.index[i], sim[0][i]"
   ]
  },
  {
   "cell_type": "code",
   "execution_count": 83,
   "metadata": {},
   "outputs": [
    {
     "name": "stdout",
     "output_type": "stream",
     "text": [
      "helicoptercrashes 188\n",
      "cobra 35\n",
      "naturaldisasters 3760\n",
      "protest 6736\n",
      "retirementage 224\n",
      "london 15138\n",
      "biometrics 170\n",
      "debate 18\n",
      "police 8019\n",
      "saudiarabia 1664\n",
      "europeanarrestwarrant 87\n",
      "paris 219\n",
      "justiceandsecurity 152\n",
      "alqaida 3194\n",
      "earthquakes 872\n",
      "extradition 904\n",
      "dataprotection 1355\n",
      "torture 1839\n",
      "mumbaiterrorattacks 338\n",
      "judiciary 421\n",
      "taliban 2335\n",
      "genevaconventions 84\n",
      "warcrimes 1859\n",
      "freedomofspeech 1401\n",
      "carers 234\n",
      "usguncontrol 496\n",
      "alshabaab 149\n",
      "southchinasea 34\n",
      "australianguncontrol 3\n",
      "philippines 569\n",
      "slavery 660\n",
      "warreporting 688\n",
      "middleeastpeacetalks 219\n",
      "refugees 2710\n",
      "metropolitanpolice 2059\n",
      "logistics 151\n",
      "ukcrime 20516\n",
      "energy 720\n",
      "drones 579\n",
      "lebanon 1375\n",
      "chemicalweapons 344\n",
      "malaysia 597\n",
      "uksupremecourt 320\n",
      "migration 366\n",
      "humantrafficking 399\n",
      "guncrime 2710\n",
      "transport 11298\n",
      "afghanistan 10033\n",
      "defence 2467\n",
      "antiwar 645\n",
      "australiansecurityandcounterterrorism 92\n",
      "bigdata 141\n",
      "religion 16955\n",
      "organisedcrime 843\n",
      "somalia 1089\n",
      "ebola 506\n",
      "values 18\n",
      "bostonmarathonbombing 178\n",
      "espionage 815\n",
      "osamabinladen 925\n",
      "deflation 86\n",
      "darknet 24\n",
      "unitednations 5818\n",
      "aid 1892\n",
      "humanrights 7941\n",
      "iraq 20345\n",
      "algerianhostagecrisis 58\n",
      "libya 2859\n",
      "criminaljustice 3503\n",
      "controversy 173\n",
      "internationalcriminaljustice 867\n",
      "ministryofdefence 489\n",
      "encryption 34\n",
      "military 7570\n",
      "womeninbusiness 182\n",
      "woolwichattack 141\n",
      "egypt 2708\n",
      "royalairforce 582\n",
      "mrsa 270\n",
      "thailand 1040\n",
      "internetsafety 120\n",
      "arabandmiddleeastprotests 3578\n",
      "turkey 2232\n",
      "jubilee 175\n",
      "stopandsearch 211\n",
      "knifecrime 680\n",
      "france 9758\n",
      "occupy 681\n",
      "southafrica 3289\n",
      "royalnavy 359\n",
      "nigeria 1116\n",
      "israel 12793\n",
      "drugspolicy 842\n",
      "firefighters 615\n",
      "immigration 15302\n",
      "planecrashes 554\n",
      "belgium 496\n",
      "weaponstechnology 258\n",
      "clusterbombs 109\n",
      "famine 441\n",
      "isis 933\n",
      "morocco 266\n",
      "uksecurity 6841\n",
      "sydneysiege 42\n",
      "mali 347\n",
      "cybercrime 553\n",
      "hacking 1509\n",
      "farright 1892\n",
      "russia 9365\n",
      "drugstrade 1357\n",
      "internallydisplacedpeople 44\n",
      "hashtags 20\n",
      "india 5611\n",
      "europeancourtofhumanrights 530\n",
      "undercoverpoliceandpolicing 225\n",
      "kenya 1440\n",
      "bokoharam 187\n",
      "malware 211\n",
      "worldmigration 311\n",
      "piracy 948\n",
      "armstrade 1255\n",
      "localgovernment 3943\n",
      "humanitarianresponse 331\n",
      "surveillance 2227\n",
      "drugs 931\n",
      "britisharmy 498\n",
      "terrorism 4598\n",
      "cameroon 102\n",
      "events 579\n",
      "economy 14692\n",
      "nuclearweapons 1887\n",
      "traincrashes 50\n",
      "cyberwar 101\n",
      "germany 6059\n",
      "syria 4786\n",
      "ethics 695\n",
      "humanrightsact 342\n",
      "londonriots 1084\n",
      "rio20earthsummit 199\n",
      "indonesia 2035\n",
      "september11 4210\n",
      "conflictanddevelopment 592\n",
      "july7 1564\n",
      "forensicscience 178\n",
      "jordan 442\n",
      "internationalcourtofjustice 70\n"
     ]
    }
   ],
   "source": [
    "for i, j in topic_train_index.items():\n",
    "    print i, len(j)"
   ]
  },
  {
   "cell_type": "code",
   "execution_count": null,
   "metadata": {
    "collapsed": true
   },
   "outputs": [],
   "source": []
  },
  {
   "cell_type": "code",
   "execution_count": null,
   "metadata": {
    "collapsed": true
   },
   "outputs": [],
   "source": [
    "import fasttext\n",
    "from gensim.models.wrappers.fasttext import FastText\n",
    "import os\n",
    "from gensim.models import Word2Vec\n",
    "\n",
    "# MODELS_DIR = 'models/'\n",
    "# !mkdir -p {MODELS_DIR}\n",
    "\n",
    "num_proc = 7\n",
    "lr = 0.05\n",
    "dim = 300\n",
    "ws = 5\n",
    "epoch = 6\n",
    "minCount = 5\n",
    "neg = 10\n",
    "loss = 'ns'\n",
    "t = 1e-4\n",
    "\n",
    "# Same values as used for fastText training above\n",
    "params = {\n",
    "    'alpha': lr,\n",
    "    'size': dim,\n",
    "    'window': ws,\n",
    "    'iter': epoch,\n",
    "    'min_count': minCount,\n",
    "    'sample': t,\n",
    "    'sg': 1,\n",
    "    'hs': 0,\n",
    "    'negative': neg,\n",
    "    'workers': num_proc,\n",
    "}\n",
    "\n",
    "ft_params = {\n",
    "    'dim': dim,\n",
    "    'neg': neg,\n",
    "    'epoch': epoch,\n",
    "    'thread': num_proc,\n",
    "    'word_ngrams': 2,\n",
    "    'silent':0,\n",
    "    't': t,\n",
    "    'loss': loss,\n",
    "    'min_count': minCount,\n",
    "    'ws': ws,\n",
    "    'lr': lr,\n",
    "    'thread': num_proc,\n",
    "}\n",
    "\n",
    "# %time fs_model = fasttext.skipgram('train_body_data-with_labels_False-retain_special_chars_False.with_test_data.csv', 'train_body_data-with_labels_False-retain_special_chars_False.with_test_data.csv.fasttext.model', **ft_params)"
   ]
  },
  {
   "cell_type": "code",
   "execution_count": 57,
   "metadata": {},
   "outputs": [
    {
     "data": {
      "text/plain": [
       "(1600462, 3)"
      ]
     },
     "execution_count": 57,
     "metadata": {},
     "output_type": "execute_result"
    }
   ],
   "source": [
    "train_df.shape"
   ]
  },
  {
   "cell_type": "code",
   "execution_count": 30,
   "metadata": {
    "scrolled": true
   },
   "outputs": [
    {
     "data": {
      "text/plain": [
       "True"
      ]
     },
     "execution_count": 30,
     "metadata": {},
     "output_type": "execute_result"
    }
   ],
   "source": [
    "train_df.shape[0] == 1600462"
   ]
  },
  {
   "cell_type": "code",
   "execution_count": 431,
   "metadata": {
    "collapsed": true
   },
   "outputs": [],
   "source": [
    "with open('../data/TestData.json') as fl:\n",
    "    data = json.load(fl)\n",
    "    test_df = pd.DataFrame(data['TestData']).T"
   ]
  },
  {
   "cell_type": "code",
   "execution_count": null,
   "metadata": {},
   "outputs": [
    {
     "name": "stderr",
     "output_type": "stream",
     "text": [
      "/home/avsolatorio/ml-ai/lib/python2.7/site-packages/ipykernel_launcher.py:1: RuntimeWarning: Mean of empty slice.\n",
      "  \"\"\"Entry point for launching an IPython kernel.\n"
     ]
    },
    {
     "name": "stdout",
     "output_type": "stream",
     "text": [
      "CPU times: user 10min 5s, sys: 5.07 s, total: 10min 10s\n",
      "Wall time: 10min 3s\n"
     ]
    }
   ],
   "source": [
    "%%time\n",
    "test_feature_vec = transform_text(test_df).map(lambda x: np.array([fs_model[w] for w in x.split()]).mean(axis=0))"
   ]
  },
  {
   "cell_type": "code",
   "execution_count": 454,
   "metadata": {
    "collapsed": true
   },
   "outputs": [],
   "source": [
    "valid_test_feature_vec = test_feature_vec[test_feature_vec.notnull()]"
   ]
  },
  {
   "cell_type": "code",
   "execution_count": 444,
   "metadata": {},
   "outputs": [
    {
     "name": "stdout",
     "output_type": "stream",
     "text": [
      "\r",
      " 32/100 [========>.....................] - ETA: 0s"
     ]
    },
    {
     "data": {
      "text/plain": [
       "array([ 61,  10,  29,   0,  56,  76,   0, 118,  29,  29,  41,   0,   4,\n",
       "       117,   0,  60,  60,   4,   0,   0,   1,  61,   0,  90, 147,   2,\n",
       "        29,   1, 117, 118,   4,  77, 104,   2,  56,  56,   4,  56,   0,\n",
       "         0,  76,  56,  29,   0,   4,  56, 120, 120, 150,  56,   0,   0,\n",
       "        56,  10,  56,  56,   0,  56,  56,  56, 120,   0,  78,  56,   0,\n",
       "        76,  56,  56,  56,  56, 120,   0,   0,  56,  10,  56,  56,  56,\n",
       "        56,  56,  10,  56,   0,  56,   0, 120, 120,   0,   0,   0, 117,\n",
       "        56, 134, 118,  90,  56, 120,  56, 105,  32])"
      ]
     },
     "execution_count": 444,
     "metadata": {},
     "output_type": "execute_result"
    }
   ],
   "source": [
    "(kmodel.predict_proba(sc.transform(np.vstack(test_feature_vec.head(100)))) > 0.04).argmax(axis=1)"
   ]
  },
  {
   "cell_type": "code",
   "execution_count": 449,
   "metadata": {},
   "outputs": [
    {
     "name": "stdout",
     "output_type": "stream",
     "text": [
      "\r",
      " 32/100 [========>.....................] - ETA: 0s"
     ]
    },
    {
     "data": {
      "text/plain": [
       "array([ 61,  32,  29,   0,  56,  76,   0,   0,  29,  29,  41,   0,   4,\n",
       "         0,   0,  60,  60,   4,   0,   0,   1,  61,   0,  90, 147,   2,\n",
       "        29,   1,   0, 118,   4,  77, 104,  41,  56,  56,   4,  56,   0,\n",
       "         0,  76,   4,  29,   0,   4,  56,   0,   0, 119,  56,  56,   0,\n",
       "         4,  77,  56,  56,   0,  56,  56,  56,   0,   0,  77,  56,   0,\n",
       "        77,  56,  56,  56,  56, 120,   0, 147,  56,  77,  56,  56,  56,\n",
       "        56,  56,  32,  56,   0,  56,   0, 120,   0,   0,   0,   0, 146,\n",
       "         0, 147, 118,  90,  56,  77,  56,  16,  32])"
      ]
     },
     "execution_count": 449,
     "metadata": {},
     "output_type": "execute_result"
    }
   ],
   "source": [
    "(kmodel.predict_proba(sc.transform(np.vstack(test_feature_vec.head(100)))) > 0.04).argmax(axis=1)"
   ]
  },
  {
   "cell_type": "code",
   "execution_count": 451,
   "metadata": {
    "scrolled": true
   },
   "outputs": [
    {
     "data": {
      "text/html": [
       "<div>\n",
       "<table border=\"1\" class=\"dataframe\">\n",
       "  <thead>\n",
       "    <tr style=\"text-align: right;\">\n",
       "      <th></th>\n",
       "      <th>bodyText</th>\n",
       "      <th>topics</th>\n",
       "      <th>webPublicationDate</th>\n",
       "    </tr>\n",
       "  </thead>\n",
       "  <tbody>\n",
       "    <tr>\n",
       "      <th>TestData_00001</th>\n",
       "      <td>On 5 April, a two-year-old accidentally squeez...</td>\n",
       "      <td>[]</td>\n",
       "      <td>01-01-2015</td>\n",
       "    </tr>\n",
       "    <tr>\n",
       "      <th>TestData_00002</th>\n",
       "      <td>Looking back at 2014 from the perspective of a...</td>\n",
       "      <td>[]</td>\n",
       "      <td>01-01-2015</td>\n",
       "    </tr>\n",
       "    <tr>\n",
       "      <th>TestData_00003</th>\n",
       "      <td>A 22-year-old man arrested by police investiga...</td>\n",
       "      <td>[]</td>\n",
       "      <td>01-01-2015</td>\n",
       "    </tr>\n",
       "    <tr>\n",
       "      <th>TestData_00004</th>\n",
       "      <td>The place where nine-year-old Najia Warshaga l...</td>\n",
       "      <td>[]</td>\n",
       "      <td>01-01-2015</td>\n",
       "    </tr>\n",
       "    <tr>\n",
       "      <th>TestData_00005</th>\n",
       "      <td>The annual Beaujolais contest, the showcase fo...</td>\n",
       "      <td>[]</td>\n",
       "      <td>01-01-2015</td>\n",
       "    </tr>\n",
       "    <tr>\n",
       "      <th>TestData_00006</th>\n",
       "      <td>It would be comforting to think 2015 will brin...</td>\n",
       "      <td>[]</td>\n",
       "      <td>01-01-2015</td>\n",
       "    </tr>\n",
       "    <tr>\n",
       "      <th>TestData_00007</th>\n",
       "      <td>Just after 7pm on the evening of Saturday 28 M...</td>\n",
       "      <td>[]</td>\n",
       "      <td>02-01-2015</td>\n",
       "    </tr>\n",
       "    <tr>\n",
       "      <th>TestData_00008</th>\n",
       "      <td>Police are hunting gunmen who fired at a crowd...</td>\n",
       "      <td>[]</td>\n",
       "      <td>02-01-2015</td>\n",
       "    </tr>\n",
       "    <tr>\n",
       "      <th>TestData_00009</th>\n",
       "      <td>The US has imposed economic sanctions against ...</td>\n",
       "      <td>[]</td>\n",
       "      <td>02-01-2015</td>\n",
       "    </tr>\n",
       "    <tr>\n",
       "      <th>TestData_00010</th>\n",
       "      <td>Sony Entertainment is unable to confirm that h...</td>\n",
       "      <td>[]</td>\n",
       "      <td>02-01-2015</td>\n",
       "    </tr>\n",
       "    <tr>\n",
       "      <th>TestData_00011</th>\n",
       "      <td>HM: Hugh Muir JV: John Vidal SG: Suzanne Golde...</td>\n",
       "      <td>[]</td>\n",
       "      <td>02-01-2015</td>\n",
       "    </tr>\n",
       "    <tr>\n",
       "      <th>TestData_00012</th>\n",
       "      <td>January 5 Costa prize category winners announc...</td>\n",
       "      <td>[]</td>\n",
       "      <td>02-01-2015</td>\n",
       "    </tr>\n",
       "    <tr>\n",
       "      <th>TestData_00013</th>\n",
       "      <td>A Libyan man accused of masterminding the 1998...</td>\n",
       "      <td>[]</td>\n",
       "      <td>03-01-2015</td>\n",
       "    </tr>\n",
       "    <tr>\n",
       "      <th>TestData_00014</th>\n",
       "      <td>An African pensioner whose house was targeted ...</td>\n",
       "      <td>[]</td>\n",
       "      <td>04-01-2015</td>\n",
       "    </tr>\n",
       "    <tr>\n",
       "      <th>TestData_00015</th>\n",
       "      <td>He remains one of the most controversial scien...</td>\n",
       "      <td>[]</td>\n",
       "      <td>04-01-2015</td>\n",
       "    </tr>\n",
       "    <tr>\n",
       "      <th>TestData_00016</th>\n",
       "      <td>Dresden, the city where I lived for 10 years, ...</td>\n",
       "      <td>[]</td>\n",
       "      <td>04-01-2015</td>\n",
       "    </tr>\n",
       "    <tr>\n",
       "      <th>TestData_00017</th>\n",
       "      <td>Sitting on a wooden bench on a Dresden square ...</td>\n",
       "      <td>[]</td>\n",
       "      <td>04-01-2015</td>\n",
       "    </tr>\n",
       "    <tr>\n",
       "      <th>TestData_00018</th>\n",
       "      <td>Saudi Arabia is on alert for jihadi attacks af...</td>\n",
       "      <td>[]</td>\n",
       "      <td>05-01-2015</td>\n",
       "    </tr>\n",
       "    <tr>\n",
       "      <th>TestData_00019</th>\n",
       "      <td>Bright winter sunshine drenched the John Josep...</td>\n",
       "      <td>[]</td>\n",
       "      <td>05-01-2015</td>\n",
       "    </tr>\n",
       "    <tr>\n",
       "      <th>TestData_00020</th>\n",
       "      <td>First Valencia laid on a guard of honour for R...</td>\n",
       "      <td>[]</td>\n",
       "      <td>05-01-2015</td>\n",
       "    </tr>\n",
       "    <tr>\n",
       "      <th>TestData_00021</th>\n",
       "      <td>Whether the men on the fishing boat that sank ...</td>\n",
       "      <td>[]</td>\n",
       "      <td>05-01-2015</td>\n",
       "    </tr>\n",
       "    <tr>\n",
       "      <th>TestData_00022</th>\n",
       "      <td>Cleveland’s mayor says he doesn’t trust the st...</td>\n",
       "      <td>[]</td>\n",
       "      <td>05-01-2015</td>\n",
       "    </tr>\n",
       "    <tr>\n",
       "      <th>TestData_00023</th>\n",
       "      <td>Madonna is the original queen of pop media. Na...</td>\n",
       "      <td>[]</td>\n",
       "      <td>05-01-2015</td>\n",
       "    </tr>\n",
       "    <tr>\n",
       "      <th>TestData_00024</th>\n",
       "      <td>The Green party would scrap the building of ne...</td>\n",
       "      <td>[]</td>\n",
       "      <td>05-01-2015</td>\n",
       "    </tr>\n",
       "    <tr>\n",
       "      <th>TestData_00025</th>\n",
       "      <td>A fresh coalition row has broken out after Nic...</td>\n",
       "      <td>[]</td>\n",
       "      <td>06-01-2015</td>\n",
       "    </tr>\n",
       "    <tr>\n",
       "      <th>TestData_00026</th>\n",
       "      <td>In conjunction with the joint military action ...</td>\n",
       "      <td>[]</td>\n",
       "      <td>06-01-2015</td>\n",
       "    </tr>\n",
       "    <tr>\n",
       "      <th>TestData_00027</th>\n",
       "      <td>Sony’s CEO, Kaz Hirai, has spoken out about th...</td>\n",
       "      <td>[]</td>\n",
       "      <td>06-01-2015</td>\n",
       "    </tr>\n",
       "    <tr>\n",
       "      <th>TestData_00028</th>\n",
       "      <td>Special courts run by Pakistan’s army will try...</td>\n",
       "      <td>[]</td>\n",
       "      <td>06-01-2015</td>\n",
       "    </tr>\n",
       "    <tr>\n",
       "      <th>TestData_00029</th>\n",
       "      <td>The mother of a 12-year-old Cleveland boy shot...</td>\n",
       "      <td>[]</td>\n",
       "      <td>06-01-2015</td>\n",
       "    </tr>\n",
       "    <tr>\n",
       "      <th>TestData_00030</th>\n",
       "      <td>Los Angeles police broke up a protest outside ...</td>\n",
       "      <td>[]</td>\n",
       "      <td>06-01-2015</td>\n",
       "    </tr>\n",
       "    <tr>\n",
       "      <th>...</th>\n",
       "      <td>...</td>\n",
       "      <td>...</td>\n",
       "      <td>...</td>\n",
       "    </tr>\n",
       "    <tr>\n",
       "      <th>TestData_07552</th>\n",
       "      <td>The Aleppo Thaer al-Halabi left behind was a g...</td>\n",
       "      <td>[]</td>\n",
       "      <td>23-12-2016</td>\n",
       "    </tr>\n",
       "    <tr>\n",
       "      <th>TestData_07553</th>\n",
       "      <td>As the police officers looked at the body on P...</td>\n",
       "      <td>[]</td>\n",
       "      <td>23-12-2016</td>\n",
       "    </tr>\n",
       "    <tr>\n",
       "      <th>TestData_07554</th>\n",
       "      <td>British policy on Syria has been “wrong every ...</td>\n",
       "      <td>[]</td>\n",
       "      <td>23-12-2016</td>\n",
       "    </tr>\n",
       "    <tr>\n",
       "      <th>TestData_07555</th>\n",
       "      <td>A Serbian woman who survived what was said to ...</td>\n",
       "      <td>[]</td>\n",
       "      <td>24-12-2016</td>\n",
       "    </tr>\n",
       "    <tr>\n",
       "      <th>TestData_07556</th>\n",
       "      <td>Islamic State commanders in Syria have communi...</td>\n",
       "      <td>[]</td>\n",
       "      <td>24-12-2016</td>\n",
       "    </tr>\n",
       "    <tr>\n",
       "      <th>TestData_07557</th>\n",
       "      <td>Chibok girls are released by Boko Haram With a...</td>\n",
       "      <td>[]</td>\n",
       "      <td>24-12-2016</td>\n",
       "    </tr>\n",
       "    <tr>\n",
       "      <th>TestData_07558</th>\n",
       "      <td>The world must harness the power of love rathe...</td>\n",
       "      <td>[]</td>\n",
       "      <td>25-12-2016</td>\n",
       "    </tr>\n",
       "    <tr>\n",
       "      <th>TestData_07559</th>\n",
       "      <td>It has become known as the first genocide of t...</td>\n",
       "      <td>[]</td>\n",
       "      <td>25-12-2016</td>\n",
       "    </tr>\n",
       "    <tr>\n",
       "      <th>TestData_07560</th>\n",
       "      <td>A typhoon slammed into central Philippines lat...</td>\n",
       "      <td>[]</td>\n",
       "      <td>25-12-2016</td>\n",
       "    </tr>\n",
       "    <tr>\n",
       "      <th>TestData_07561</th>\n",
       "      <td>The Donald Trump victory, the fallout from Bre...</td>\n",
       "      <td>[]</td>\n",
       "      <td>26-12-2016</td>\n",
       "    </tr>\n",
       "    <tr>\n",
       "      <th>TestData_07562</th>\n",
       "      <td>A former News Corp journalist says she was for...</td>\n",
       "      <td>[]</td>\n",
       "      <td>27-12-2016</td>\n",
       "    </tr>\n",
       "    <tr>\n",
       "      <th>TestData_07563</th>\n",
       "      <td>Indian police arrested four men on Monday on s...</td>\n",
       "      <td>[]</td>\n",
       "      <td>27-12-2016</td>\n",
       "    </tr>\n",
       "    <tr>\n",
       "      <th>TestData_07564</th>\n",
       "      <td>The Palestinian president has expressed hope t...</td>\n",
       "      <td>[]</td>\n",
       "      <td>27-12-2016</td>\n",
       "    </tr>\n",
       "    <tr>\n",
       "      <th>TestData_07565</th>\n",
       "      <td>A Facebook safety check for Bangkok, which the...</td>\n",
       "      <td>[]</td>\n",
       "      <td>28-12-2016</td>\n",
       "    </tr>\n",
       "    <tr>\n",
       "      <th>TestData_07566</th>\n",
       "      <td>There is no evidence of a successful cyberatta...</td>\n",
       "      <td>[]</td>\n",
       "      <td>28-12-2016</td>\n",
       "    </tr>\n",
       "    <tr>\n",
       "      <th>TestData_07567</th>\n",
       "      <td>The Czech government is to set up a specialist...</td>\n",
       "      <td>[]</td>\n",
       "      <td>28-12-2016</td>\n",
       "    </tr>\n",
       "    <tr>\n",
       "      <th>TestData_07568</th>\n",
       "      <td>The Todd Carney cup for bad publicity in the N...</td>\n",
       "      <td>[]</td>\n",
       "      <td>28-12-2016</td>\n",
       "    </tr>\n",
       "    <tr>\n",
       "      <th>TestData_07569</th>\n",
       "      <td>The birth of Americana This year marked 40 yea...</td>\n",
       "      <td>[]</td>\n",
       "      <td>28-12-2016</td>\n",
       "    </tr>\n",
       "    <tr>\n",
       "      <th>TestData_07570</th>\n",
       "      <td>Naveed Baloch was crossing a road in central B...</td>\n",
       "      <td>[]</td>\n",
       "      <td>29-12-2016</td>\n",
       "    </tr>\n",
       "    <tr>\n",
       "      <th>TestData_07571</th>\n",
       "      <td>An airstrike by the US-led coalition operating...</td>\n",
       "      <td>[]</td>\n",
       "      <td>29-12-2016</td>\n",
       "    </tr>\n",
       "    <tr>\n",
       "      <th>TestData_07572</th>\n",
       "      <td>A century, a hundred years, a ton: whatever it...</td>\n",
       "      <td>[]</td>\n",
       "      <td>29-12-2016</td>\n",
       "    </tr>\n",
       "    <tr>\n",
       "      <th>TestData_07573</th>\n",
       "      <td>Six months after the international criminal co...</td>\n",
       "      <td>[]</td>\n",
       "      <td>29-12-2016</td>\n",
       "    </tr>\n",
       "    <tr>\n",
       "      <th>TestData_07574</th>\n",
       "      <td>As Lord Dubs has himself reflected (A&amp;nbsp;hos...</td>\n",
       "      <td>[]</td>\n",
       "      <td>29-12-2016</td>\n",
       "    </tr>\n",
       "    <tr>\n",
       "      <th>TestData_07575</th>\n",
       "      <td>Major western cities are tightening security f...</td>\n",
       "      <td>[]</td>\n",
       "      <td>30-12-2016</td>\n",
       "    </tr>\n",
       "    <tr>\n",
       "      <th>TestData_07576</th>\n",
       "      <td>What was Theresa May thinking in attacking the...</td>\n",
       "      <td>[]</td>\n",
       "      <td>30-12-2016</td>\n",
       "    </tr>\n",
       "    <tr>\n",
       "      <th>TestData_07577</th>\n",
       "      <td>Guards at the Faslane submarine base on the Cl...</td>\n",
       "      <td>[]</td>\n",
       "      <td>30-12-2016</td>\n",
       "    </tr>\n",
       "    <tr>\n",
       "      <th>TestData_07578</th>\n",
       "      <td>A ceasefire across Syria appeared to be holdin...</td>\n",
       "      <td>[]</td>\n",
       "      <td>30-12-2016</td>\n",
       "    </tr>\n",
       "    <tr>\n",
       "      <th>TestData_07579</th>\n",
       "      <td>Civil war. Climate change. Starvation. Natural...</td>\n",
       "      <td>[]</td>\n",
       "      <td>31-12-2016</td>\n",
       "    </tr>\n",
       "    <tr>\n",
       "      <th>TestData_07580</th>\n",
       "      <td>A tentative ceasefire is holding in most parts...</td>\n",
       "      <td>[]</td>\n",
       "      <td>31-12-2016</td>\n",
       "    </tr>\n",
       "    <tr>\n",
       "      <th>TestData_07581</th>\n",
       "      <td>The UN security council has unanimously adopte...</td>\n",
       "      <td>[]</td>\n",
       "      <td>31-12-2016</td>\n",
       "    </tr>\n",
       "  </tbody>\n",
       "</table>\n",
       "<p>7581 rows × 3 columns</p>\n",
       "</div>"
      ],
      "text/plain": [
       "                                                         bodyText topics  \\\n",
       "TestData_00001  On 5 April, a two-year-old accidentally squeez...     []   \n",
       "TestData_00002  Looking back at 2014 from the perspective of a...     []   \n",
       "TestData_00003  A 22-year-old man arrested by police investiga...     []   \n",
       "TestData_00004  The place where nine-year-old Najia Warshaga l...     []   \n",
       "TestData_00005  The annual Beaujolais contest, the showcase fo...     []   \n",
       "TestData_00006  It would be comforting to think 2015 will brin...     []   \n",
       "TestData_00007  Just after 7pm on the evening of Saturday 28 M...     []   \n",
       "TestData_00008  Police are hunting gunmen who fired at a crowd...     []   \n",
       "TestData_00009  The US has imposed economic sanctions against ...     []   \n",
       "TestData_00010  Sony Entertainment is unable to confirm that h...     []   \n",
       "TestData_00011  HM: Hugh Muir JV: John Vidal SG: Suzanne Golde...     []   \n",
       "TestData_00012  January 5 Costa prize category winners announc...     []   \n",
       "TestData_00013  A Libyan man accused of masterminding the 1998...     []   \n",
       "TestData_00014  An African pensioner whose house was targeted ...     []   \n",
       "TestData_00015  He remains one of the most controversial scien...     []   \n",
       "TestData_00016  Dresden, the city where I lived for 10 years, ...     []   \n",
       "TestData_00017  Sitting on a wooden bench on a Dresden square ...     []   \n",
       "TestData_00018  Saudi Arabia is on alert for jihadi attacks af...     []   \n",
       "TestData_00019  Bright winter sunshine drenched the John Josep...     []   \n",
       "TestData_00020  First Valencia laid on a guard of honour for R...     []   \n",
       "TestData_00021  Whether the men on the fishing boat that sank ...     []   \n",
       "TestData_00022  Cleveland’s mayor says he doesn’t trust the st...     []   \n",
       "TestData_00023  Madonna is the original queen of pop media. Na...     []   \n",
       "TestData_00024  The Green party would scrap the building of ne...     []   \n",
       "TestData_00025  A fresh coalition row has broken out after Nic...     []   \n",
       "TestData_00026  In conjunction with the joint military action ...     []   \n",
       "TestData_00027  Sony’s CEO, Kaz Hirai, has spoken out about th...     []   \n",
       "TestData_00028  Special courts run by Pakistan’s army will try...     []   \n",
       "TestData_00029  The mother of a 12-year-old Cleveland boy shot...     []   \n",
       "TestData_00030  Los Angeles police broke up a protest outside ...     []   \n",
       "...                                                           ...    ...   \n",
       "TestData_07552  The Aleppo Thaer al-Halabi left behind was a g...     []   \n",
       "TestData_07553  As the police officers looked at the body on P...     []   \n",
       "TestData_07554  British policy on Syria has been “wrong every ...     []   \n",
       "TestData_07555  A Serbian woman who survived what was said to ...     []   \n",
       "TestData_07556  Islamic State commanders in Syria have communi...     []   \n",
       "TestData_07557  Chibok girls are released by Boko Haram With a...     []   \n",
       "TestData_07558  The world must harness the power of love rathe...     []   \n",
       "TestData_07559  It has become known as the first genocide of t...     []   \n",
       "TestData_07560  A typhoon slammed into central Philippines lat...     []   \n",
       "TestData_07561  The Donald Trump victory, the fallout from Bre...     []   \n",
       "TestData_07562  A former News Corp journalist says she was for...     []   \n",
       "TestData_07563  Indian police arrested four men on Monday on s...     []   \n",
       "TestData_07564  The Palestinian president has expressed hope t...     []   \n",
       "TestData_07565  A Facebook safety check for Bangkok, which the...     []   \n",
       "TestData_07566  There is no evidence of a successful cyberatta...     []   \n",
       "TestData_07567  The Czech government is to set up a specialist...     []   \n",
       "TestData_07568  The Todd Carney cup for bad publicity in the N...     []   \n",
       "TestData_07569  The birth of Americana This year marked 40 yea...     []   \n",
       "TestData_07570  Naveed Baloch was crossing a road in central B...     []   \n",
       "TestData_07571  An airstrike by the US-led coalition operating...     []   \n",
       "TestData_07572  A century, a hundred years, a ton: whatever it...     []   \n",
       "TestData_07573  Six months after the international criminal co...     []   \n",
       "TestData_07574  As Lord Dubs has himself reflected (A&nbsp;hos...     []   \n",
       "TestData_07575  Major western cities are tightening security f...     []   \n",
       "TestData_07576  What was Theresa May thinking in attacking the...     []   \n",
       "TestData_07577  Guards at the Faslane submarine base on the Cl...     []   \n",
       "TestData_07578  A ceasefire across Syria appeared to be holdin...     []   \n",
       "TestData_07579  Civil war. Climate change. Starvation. Natural...     []   \n",
       "TestData_07580  A tentative ceasefire is holding in most parts...     []   \n",
       "TestData_07581  The UN security council has unanimously adopte...     []   \n",
       "\n",
       "               webPublicationDate  \n",
       "TestData_00001         01-01-2015  \n",
       "TestData_00002         01-01-2015  \n",
       "TestData_00003         01-01-2015  \n",
       "TestData_00004         01-01-2015  \n",
       "TestData_00005         01-01-2015  \n",
       "TestData_00006         01-01-2015  \n",
       "TestData_00007         02-01-2015  \n",
       "TestData_00008         02-01-2015  \n",
       "TestData_00009         02-01-2015  \n",
       "TestData_00010         02-01-2015  \n",
       "TestData_00011         02-01-2015  \n",
       "TestData_00012         02-01-2015  \n",
       "TestData_00013         03-01-2015  \n",
       "TestData_00014         04-01-2015  \n",
       "TestData_00015         04-01-2015  \n",
       "TestData_00016         04-01-2015  \n",
       "TestData_00017         04-01-2015  \n",
       "TestData_00018         05-01-2015  \n",
       "TestData_00019         05-01-2015  \n",
       "TestData_00020         05-01-2015  \n",
       "TestData_00021         05-01-2015  \n",
       "TestData_00022         05-01-2015  \n",
       "TestData_00023         05-01-2015  \n",
       "TestData_00024         05-01-2015  \n",
       "TestData_00025         06-01-2015  \n",
       "TestData_00026         06-01-2015  \n",
       "TestData_00027         06-01-2015  \n",
       "TestData_00028         06-01-2015  \n",
       "TestData_00029         06-01-2015  \n",
       "TestData_00030         06-01-2015  \n",
       "...                           ...  \n",
       "TestData_07552         23-12-2016  \n",
       "TestData_07553         23-12-2016  \n",
       "TestData_07554         23-12-2016  \n",
       "TestData_07555         24-12-2016  \n",
       "TestData_07556         24-12-2016  \n",
       "TestData_07557         24-12-2016  \n",
       "TestData_07558         25-12-2016  \n",
       "TestData_07559         25-12-2016  \n",
       "TestData_07560         25-12-2016  \n",
       "TestData_07561         26-12-2016  \n",
       "TestData_07562         27-12-2016  \n",
       "TestData_07563         27-12-2016  \n",
       "TestData_07564         27-12-2016  \n",
       "TestData_07565         28-12-2016  \n",
       "TestData_07566         28-12-2016  \n",
       "TestData_07567         28-12-2016  \n",
       "TestData_07568         28-12-2016  \n",
       "TestData_07569         28-12-2016  \n",
       "TestData_07570         29-12-2016  \n",
       "TestData_07571         29-12-2016  \n",
       "TestData_07572         29-12-2016  \n",
       "TestData_07573         29-12-2016  \n",
       "TestData_07574         29-12-2016  \n",
       "TestData_07575         30-12-2016  \n",
       "TestData_07576         30-12-2016  \n",
       "TestData_07577         30-12-2016  \n",
       "TestData_07578         30-12-2016  \n",
       "TestData_07579         31-12-2016  \n",
       "TestData_07580         31-12-2016  \n",
       "TestData_07581         31-12-2016  \n",
       "\n",
       "[7581 rows x 3 columns]"
      ]
     },
     "execution_count": 451,
     "metadata": {},
     "output_type": "execute_result"
    }
   ],
   "source": [
    "probe_sub = pd.DataFrame(columns=sample_sub.columns)\n",
    "probe_sub['id'] = test_df.index.values\n",
    "\n",
    "probe_sub[probe_sub.columns[1:]] = np.random.randint(2, size=(7581, 160))"
   ]
  },
  {
   "cell_type": "code",
   "execution_count": 493,
   "metadata": {},
   "outputs": [
    {
     "name": "stdout",
     "output_type": "stream",
     "text": [
      "7360/7578 [============================>.] - ETA: 0s"
     ]
    },
    {
     "data": {
      "text/plain": [
       "(array([   0,    1,    1, ..., 7577, 7577, 7577]),\n",
       " array([ 61,  32,  44, ...,  78, 136, 150]))"
      ]
     },
     "execution_count": 493,
     "metadata": {},
     "output_type": "execute_result"
    }
   ],
   "source": [
    "res = (kmodel.predict_proba(sc.transform(np.vstack(valid_test_feature_vec))) > 0.04)\n",
    "np.where(res == 1)"
   ]
  },
  {
   "cell_type": "code",
   "execution_count": 489,
   "metadata": {},
   "outputs": [
    {
     "name": "stdout",
     "output_type": "stream",
     "text": [
      "7488/7578 [============================>.] - ETA: 0s"
     ]
    }
   ],
   "source": [
    "test_values = np.zeros([valid_test_feature_vec.shape[0], len(topics)])\n",
    "for ix, v in enumerate((kmodel.predict_proba(sc.transform(np.vstack(valid_test_feature_vec))) > 0.04).argmax(axis=1)):\n",
    "    test_values[ix][v] = 1"
   ]
  },
  {
   "cell_type": "code",
   "execution_count": 505,
   "metadata": {},
   "outputs": [
    {
     "name": "stdout",
     "output_type": "stream",
     "text": [
      "7200/7578 [===========================>..] - ETA: 0s"
     ]
    }
   ],
   "source": [
    "test_values = np.zeros([valid_test_feature_vec.shape[0], len(topics)])\n",
    "for ix, v in zip(*np.where((kmodel.predict_proba(sc.transform(np.vstack(valid_test_feature_vec))) > 0.04))):\n",
    "    test_values[ix][v] = 1"
   ]
  },
  {
   "cell_type": "code",
   "execution_count": 627,
   "metadata": {},
   "outputs": [
    {
     "name": "stdout",
     "output_type": "stream",
     "text": [
      "7328/7578 [============================>.] - ETA: 0s"
     ]
    }
   ],
   "source": [
    "test_values = np.zeros([valid_test_feature_vec.shape[0], len(topics)])\n",
    "for ix, v in zip(*np.where((kmodel.predict_proba(sc.transform(np.vstack(valid_test_feature_vec))) > 0.002))):\n",
    "    test_values[ix][v] = 1"
   ]
  },
  {
   "cell_type": "code",
   "execution_count": 628,
   "metadata": {
    "collapsed": true,
    "scrolled": true
   },
   "outputs": [],
   "source": [
    "test_values = np.zeros([valid_test_feature_vec.shape[0], len(topics)])\n",
    "for ix, v in zip(*np.where((kmodel.predict_proba(sc.transform(np.vstack(valid_test_feature_vec))) > 0.002))):\n",
    "    test_values[ix][v] = 1\n",
    "\n",
    "test_sub_df = pd.DataFrame(test_values, columns=sorted(topics), index=valid_test_feature_vec.index)\n",
    "for i in test_feature_vec[test_feature_vec.isnull()].index:\n",
    "    test_sub_df.ix[i] = np.zeros(len(topics))"
   ]
  },
  {
   "cell_type": "code",
   "execution_count": null,
   "metadata": {
    "collapsed": true
   },
   "outputs": [],
   "source": []
  },
  {
   "cell_type": "code",
   "execution_count": 629,
   "metadata": {
    "collapsed": true
   },
   "outputs": [],
   "source": [
    "test_sub_df.astype(int).reset_index().rename(columns={'index': 'id'}).sort_values('id').to_csv('basic_nn_submission_0.7271_accuracy_multi_class_2003-2005_training_data.csv', index=False)"
   ]
  },
  {
   "cell_type": "code",
   "execution_count": null,
   "metadata": {
    "collapsed": true,
    "scrolled": true
   },
   "outputs": [],
   "source": []
  },
  {
   "cell_type": "code",
   "execution_count": null,
   "metadata": {
    "collapsed": true
   },
   "outputs": [],
   "source": []
  },
  {
   "cell_type": "code",
   "execution_count": null,
   "metadata": {
    "collapsed": true
   },
   "outputs": [],
   "source": []
  },
  {
   "cell_type": "code",
   "execution_count": 50,
   "metadata": {
    "collapsed": true,
    "scrolled": true
   },
   "outputs": [],
   "source": [
    "probe_sub = pd.DataFrame(columns=sample_sub.columns)\n",
    "probe_sub['id'] = test_df.index.values"
   ]
  },
  {
   "cell_type": "code",
   "execution_count": 63,
   "metadata": {
    "collapsed": true
   },
   "outputs": [],
   "source": [
    "probe_sub[probe_sub.columns[1:]] = np.random.randint(2, size=(7581, 160))"
   ]
  },
  {
   "cell_type": "code",
   "execution_count": 65,
   "metadata": {
    "collapsed": true
   },
   "outputs": [],
   "source": [
    "probe_sub.to_csv('probe_submission.csv', index=False)"
   ]
  },
  {
   "cell_type": "code",
   "execution_count": 120,
   "metadata": {},
   "outputs": [
    {
     "ename": "NameError",
     "evalue": "name 'test_df' is not defined",
     "output_type": "error",
     "traceback": [
      "\u001b[0;31m---------------------------------------------------------------------------\u001b[0m",
      "\u001b[0;31mNameError\u001b[0m                                 Traceback (most recent call last)",
      "\u001b[0;32m<ipython-input-120-fed9066f56a2>\u001b[0m in \u001b[0;36m<module>\u001b[0;34m()\u001b[0m\n\u001b[0;32m----> 1\u001b[0;31m \u001b[0mtest_df\u001b[0m\u001b[0;34m.\u001b[0m\u001b[0mhead\u001b[0m\u001b[0;34m(\u001b[0m\u001b[0;34m)\u001b[0m\u001b[0;34m\u001b[0m\u001b[0m\n\u001b[0m",
      "\u001b[0;31mNameError\u001b[0m: name 'test_df' is not defined"
     ]
    }
   ],
   "source": []
  },
  {
   "cell_type": "code",
   "execution_count": 119,
   "metadata": {},
   "outputs": [
    {
     "data": {
      "text/plain": [
       "3.933333333333333"
      ]
     },
     "execution_count": 119,
     "metadata": {},
     "output_type": "execute_result"
    }
   ],
   "source": [
    "(491.20 - 255.20) / 60"
   ]
  },
  {
   "cell_type": "code",
   "execution_count": null,
   "metadata": {
    "collapsed": true
   },
   "outputs": [],
   "source": []
  }
 ],
 "metadata": {
  "kernelspec": {
   "display_name": "Python 2",
   "language": "python",
   "name": "python2"
  },
  "language_info": {
   "codemirror_mode": {
    "name": "ipython",
    "version": 2
   },
   "file_extension": ".py",
   "mimetype": "text/x-python",
   "name": "python",
   "nbconvert_exporter": "python",
   "pygments_lexer": "ipython2",
   "version": "2.7.12"
  }
 },
 "nbformat": 4,
 "nbformat_minor": 2
}
