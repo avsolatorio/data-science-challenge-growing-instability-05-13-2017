{
 "cells": [
  {
   "cell_type": "code",
   "execution_count": 1,
   "metadata": {},
   "outputs": [
    {
     "name": "stderr",
     "output_type": "stream",
     "text": [
      "Using TensorFlow backend.\n"
     ]
    }
   ],
   "source": [
    "'''Trains a LSTM on the IMDB sentiment classification task.\n",
    "The dataset is actually too small for LSTM to be of any advantage\n",
    "compared to simpler, much faster methods such as TF-IDF + LogReg.\n",
    "Notes:\n",
    "- RNNs are tricky. Choice of batch size is important,\n",
    "choice of loss and optimizer is critical, etc.\n",
    "Some configurations won't converge.\n",
    "- LSTM loss decrease patterns during training can be quite different\n",
    "from what you see with CNNs/MLPs/etc.\n",
    "'''\n",
    "from __future__ import print_function\n",
    "\n",
    "from keras.preprocessing import sequence\n",
    "from keras.models import Sequential\n",
    "from keras.layers import Dense, Embedding\n",
    "from keras.layers import LSTM\n",
    "from keras.datasets import imdb"
   ]
  },
  {
   "cell_type": "code",
   "execution_count": 8,
   "metadata": {},
   "outputs": [
    {
     "name": "stdout",
     "output_type": "stream",
     "text": [
      "Loading data...\n",
      "25000 train sequences\n",
      "25000 test sequences\n"
     ]
    }
   ],
   "source": [
    "max_features = 20000\n",
    "maxlen = 80  # cut texts after this number of words (among top max_features most common words)\n",
    "batch_size = 32\n",
    "\n",
    "print('Loading data...')\n",
    "(x_train, y_train), (x_test, y_test) = imdb.load_data(num_words=max_features)\n",
    "print(len(x_train), 'train sequences')\n",
    "print(len(x_test), 'test sequences')"
   ]
  },
  {
   "cell_type": "code",
   "execution_count": 12,
   "metadata": {},
   "outputs": [
    {
     "name": "stdout",
     "output_type": "stream",
     "text": [
      "Pad sequences (samples x time)\n",
      "x_train shape: (25000, 80)\n",
      "x_test shape: (25000, 80)\n"
     ]
    }
   ],
   "source": [
    "print('Pad sequences (samples x time)')\n",
    "x_train = sequence.pad_sequences(x_train, maxlen=maxlen)\n",
    "x_test = sequence.pad_sequences(x_test, maxlen=maxlen)\n",
    "print('x_train shape:', x_train.shape)\n",
    "print('x_test shape:', x_test.shape)"
   ]
  },
  {
   "cell_type": "code",
   "execution_count": null,
   "metadata": {},
   "outputs": [],
   "source": []
  },
  {
   "cell_type": "code",
   "execution_count": null,
   "metadata": {
    "collapsed": true
   },
   "outputs": [],
   "source": []
  },
  {
   "cell_type": "code",
   "execution_count": 13,
   "metadata": {},
   "outputs": [
    {
     "name": "stdout",
     "output_type": "stream",
     "text": [
      "Build model...\n",
      "Train...\n",
      "Train on 25000 samples, validate on 25000 samples\n",
      "Epoch 1/15\n",
      "25000/25000 [==============================] - 62s - loss: 0.4543 - acc: 0.7840 - val_loss: 0.3830 - val_acc: 0.8314\n",
      "Epoch 2/15\n",
      "25000/25000 [==============================] - 62s - loss: 0.2922 - acc: 0.8807 - val_loss: 0.3854 - val_acc: 0.8324\n",
      "Epoch 3/15\n",
      "25000/25000 [==============================] - 62s - loss: 0.2078 - acc: 0.9209 - val_loss: 0.4099 - val_acc: 0.8300\n",
      "Epoch 4/15\n",
      "25000/25000 [==============================] - 62s - loss: 0.1388 - acc: 0.9489 - val_loss: 0.4936 - val_acc: 0.8336\n",
      "Epoch 5/15\n",
      "25000/25000 [==============================] - 62s - loss: 0.0964 - acc: 0.9660 - val_loss: 0.5927 - val_acc: 0.8178\n",
      "Epoch 6/15\n",
      "25000/25000 [==============================] - 62s - loss: 0.0749 - acc: 0.9741 - val_loss: 0.6644 - val_acc: 0.8226\n",
      "Epoch 7/15\n",
      "25000/25000 [==============================] - 62s - loss: 0.0644 - acc: 0.9780 - val_loss: 0.6556 - val_acc: 0.8193\n",
      "Epoch 8/15\n",
      "25000/25000 [==============================] - 62s - loss: 0.0437 - acc: 0.9854 - val_loss: 0.7339 - val_acc: 0.8192\n",
      "Epoch 9/15\n",
      "25000/25000 [==============================] - 62s - loss: 0.0345 - acc: 0.9886 - val_loss: 0.8578 - val_acc: 0.8148\n",
      "Epoch 10/15\n",
      "25000/25000 [==============================] - 62s - loss: 0.0204 - acc: 0.9936 - val_loss: 0.9368 - val_acc: 0.8178\n",
      "Epoch 11/15\n",
      "25000/25000 [==============================] - 62s - loss: 0.0194 - acc: 0.9936 - val_loss: 0.9656 - val_acc: 0.8215\n",
      "Epoch 12/15\n",
      "25000/25000 [==============================] - 62s - loss: 0.0171 - acc: 0.9942 - val_loss: 0.9828 - val_acc: 0.8167\n",
      "Epoch 13/15\n",
      "25000/25000 [==============================] - 62s - loss: 0.0122 - acc: 0.9958 - val_loss: 1.0138 - val_acc: 0.8152\n",
      "Epoch 14/15\n",
      "25000/25000 [==============================] - 62s - loss: 0.0141 - acc: 0.9955 - val_loss: 1.0836 - val_acc: 0.8180\n",
      "Epoch 15/15\n",
      "25000/25000 [==============================] - 62s - loss: 0.0072 - acc: 0.9978 - val_loss: 1.1089 - val_acc: 0.8098\n",
      "24960/25000 [============================>.] - ETA: 0sTest score: 1.10885762797\n",
      "Test accuracy: 0.80984\n",
      "CPU times: user 23min 54s, sys: 1min 8s, total: 25min 3s\n",
      "Wall time: 15min 48s\n"
     ]
    }
   ],
   "source": [
    "%%time\n",
    "print('Build model...')\n",
    "model = Sequential()\n",
    "model.add(Embedding(max_features, 128))\n",
    "model.add(LSTM(128, dropout=0.2, recurrent_dropout=0.2))\n",
    "model.add(Dense(1, activation='sigmoid'))\n",
    "\n",
    "# try using different optimizers and different optimizer configs\n",
    "model.compile(loss='binary_crossentropy',\n",
    "              optimizer='adam',\n",
    "              metrics=['accuracy'])\n",
    "\n",
    "print('Train...')\n",
    "model.fit(x_train, y_train,\n",
    "          batch_size=batch_size,\n",
    "          epochs=15,\n",
    "          validation_data=(x_test, y_test))\n",
    "score, acc = model.evaluate(x_test, y_test,\n",
    "                            batch_size=batch_size)\n",
    "print('Test score:', score)\n",
    "print('Test accuracy:', acc)"
   ]
  },
  {
   "cell_type": "markdown",
   "metadata": {},
   "source": [
    "Use LSTM.\n",
    "\n",
    "Process data by getting overlapping segments of `maxlen` length subsequence of words as independent training samples.\n",
    "\n",
    "Perform over sampling to classes with small absolute training data.\n",
    "\n",
    "When making the predictions, split the text in N overlapping segments as well and average the predictions for each segment to get the likely class distribution.\n",
    "\n"
   ]
  },
  {
   "cell_type": "code",
   "execution_count": 14,
   "metadata": {},
   "outputs": [
    {
     "name": "stdout",
     "output_type": "stream",
     "text": [
      "10/10 [==============================] - 0s\n"
     ]
    },
    {
     "data": {
      "text/plain": [
       "array([[  9.99938130e-01],\n",
       "       [  3.69773549e-03],\n",
       "       [  4.69944971e-05],\n",
       "       [  9.99998927e-01],\n",
       "       [  2.76938827e-05],\n",
       "       [  1.89894181e-05],\n",
       "       [  9.99962568e-01],\n",
       "       [  1.75047462e-05],\n",
       "       [  9.99999642e-01],\n",
       "       [  7.29953026e-05]], dtype=float32)"
      ]
     },
     "execution_count": 14,
     "metadata": {},
     "output_type": "execute_result"
    }
   ],
   "source": [
    "model.predict_proba(x_train[:10])"
   ]
  },
  {
   "cell_type": "code",
   "execution_count": 15,
   "metadata": {},
   "outputs": [
    {
     "data": {
      "text/plain": [
       "array([1, 0, 0, 1, 0, 0, 1, 0, 1, 0])"
      ]
     },
     "execution_count": 15,
     "metadata": {},
     "output_type": "execute_result"
    }
   ],
   "source": [
    "y_train[:10]"
   ]
  },
  {
   "cell_type": "code",
   "execution_count": null,
   "metadata": {
    "collapsed": true
   },
   "outputs": [],
   "source": []
  }
 ],
 "metadata": {
  "kernelspec": {
   "display_name": "Python 2",
   "language": "python",
   "name": "python2"
  },
  "language_info": {
   "codemirror_mode": {
    "name": "ipython",
    "version": 2
   },
   "file_extension": ".py",
   "mimetype": "text/x-python",
   "name": "python",
   "nbconvert_exporter": "python",
   "pygments_lexer": "ipython2",
   "version": "2.7.12"
  }
 },
 "nbformat": 4,
 "nbformat_minor": 2
}
