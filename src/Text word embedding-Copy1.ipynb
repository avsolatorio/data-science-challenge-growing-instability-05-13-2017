{
 "cells": [
  {
   "cell_type": "code",
   "execution_count": 1,
   "metadata": {},
   "outputs": [
    {
     "name": "stderr",
     "output_type": "stream",
     "text": [
      "Using TensorFlow backend.\n"
     ]
    }
   ],
   "source": [
    "from growing_instability_lib import *"
   ]
  },
  {
   "cell_type": "code",
   "execution_count": 2,
   "metadata": {
    "collapsed": true
   },
   "outputs": [],
   "source": []
  },
  {
   "cell_type": "code",
   "execution_count": 3,
   "metadata": {},
   "outputs": [
    {
     "data": {
      "text/plain": [
       "160"
      ]
     },
     "execution_count": 3,
     "metadata": {},
     "output_type": "execute_result"
    }
   ],
   "source": [
    "sample_sub = pd.read_csv('../data/sampleSubmission.csv')\n",
    "topics = set(sample_sub.columns.difference(['id']))\n",
    "\n",
    "topic2actual = {}\n",
    "for i in sample_sub.columns:\n",
    "    if 'id' == i:\n",
    "        continue\n",
    "    topic2actual[i] = segment(i)\n",
    "    \n",
    "len(topics)"
   ]
  },
  {
   "cell_type": "code",
   "execution_count": 4,
   "metadata": {
    "collapsed": true
   },
   "outputs": [],
   "source": []
  },
  {
   "cell_type": "code",
   "execution_count": 5,
   "metadata": {
    "collapsed": true,
    "scrolled": true
   },
   "outputs": [],
   "source": []
  },
  {
   "cell_type": "code",
   "execution_count": 6,
   "metadata": {
    "collapsed": true
   },
   "outputs": [],
   "source": [
    "# train_df = pd.read_json('../data/training_id_topics.json')\n",
    "# valid_labels_df = train_df.topics.map(topics.intersection).reset_index()"
   ]
  },
  {
   "cell_type": "code",
   "execution_count": 7,
   "metadata": {
    "collapsed": true
   },
   "outputs": [],
   "source": [
    "# train_topics = reduce(lambda x, y: x.union(y), valid_labels_df.topics)"
   ]
  },
  {
   "cell_type": "code",
   "execution_count": 8,
   "metadata": {
    "collapsed": true,
    "scrolled": true
   },
   "outputs": [],
   "source": [
    "# %%time\n",
    "# data = []\n",
    "# index = []\n",
    "\n",
    "# for ix, row in enumerate(valid_labels_df[valid_labels_df.topics.map(len) != 0].iterrows()):\n",
    "#     _, row = row\n",
    "\n",
    "#     index.append(row['index'])\n",
    "#     data.append([1 if i in row.topics else np.nan for i in sorted(topics)])\n",
    "    \n",
    "#     if ix % 1000 == 0: print ix\n",
    "        \n",
    "# topic_train_index = pd.DataFrame(data, columns=sorted(topics), index=index)\n",
    "# topic_train_index.head()"
   ]
  },
  {
   "cell_type": "code",
   "execution_count": 9,
   "metadata": {
    "collapsed": true,
    "scrolled": true
   },
   "outputs": [],
   "source": [
    "# topic_train_index.columns[topic_train_index.sum() == 3]"
   ]
  },
  {
   "cell_type": "code",
   "execution_count": 10,
   "metadata": {
    "collapsed": true
   },
   "outputs": [],
   "source": [
    "fs_model = fasttext.load_model('./corpus/models/model_train_body_data-with_labels_False-retain_special_chars_False.bin')\n",
    "\n",
    "topic2actual\n",
    "topic2vec = {}\n",
    "\n",
    "for topic, actual in topic2actual.items():\n",
    "    topic_vec = np.array(fs_model[' '.join(actual)])\n",
    "    mean_topic_word_vec = np.array([fs_model[w] for w in actual if w not in ['and', 'in', 'of']]).mean(axis=0)\n",
    "    topic2vec[topic] = dict(\n",
    "        topic_vec=topic_vec,\n",
    "        mean_topic_word_vec=mean_topic_word_vec\n",
    "    )\n",
    "\n",
    "topic2vec_df = pd.DataFrame(topic2vec).T"
   ]
  },
  {
   "cell_type": "code",
   "execution_count": 11,
   "metadata": {
    "collapsed": true
   },
   "outputs": [],
   "source": [
    "data = np.vstack(topic2vec_df.mean_topic_word_vec.values)\n",
    "\n",
    "n_components = 10\n",
    "n_delta = 10\n",
    "topic_pca = PCA(n_components=n_components)\n",
    "topic_pca.fit(data)\n",
    "\n",
    "while topic_pca.explained_variance_ratio_.sum() < 0.90:\n",
    "    n_components += n_delta\n",
    "    topic_pca = PCA(n_components=n_components)\n",
    "    topic_pca.fit(data)"
   ]
  },
  {
   "cell_type": "code",
   "execution_count": 12,
   "metadata": {
    "collapsed": true
   },
   "outputs": [],
   "source": []
  },
  {
   "cell_type": "code",
   "execution_count": 13,
   "metadata": {
    "collapsed": true
   },
   "outputs": [],
   "source": [
    "# %%time\n",
    "\n",
    "# ds = parse_training_data('../data/TrainingData/2014b_TrainingData.json', topics=topics)\n",
    "# ds = pd.DataFrame(ds).T\n",
    "\n",
    "# for t in topics.difference(ds.columns):\n",
    "#     ds[t] = np.nan"
   ]
  },
  {
   "cell_type": "code",
   "execution_count": 14,
   "metadata": {
    "scrolled": true
   },
   "outputs": [
    {
     "name": "stdout",
     "output_type": "stream",
     "text": [
      "CPU times: user 0 ns, sys: 0 ns, total: 0 ns\n",
      "Wall time: 5.96 µs\n"
     ]
    }
   ],
   "source": [
    "%%time\n",
    "\n",
    "# processed_tname = {\n",
    "#     '../data/TrainingData/2003b_TrainingData.json',\n",
    "#     '../data/TrainingData/2004b_TrainingData.json',\n",
    "#     '../data/TrainingData/2005a_TrainingData.json',\n",
    "# }\n",
    "# nan_rows = set()\n",
    "# target_columns = sorted(topics)\n",
    "# trainingX = pd.DataFrame()\n",
    "# trainingY = pd.DataFrame()\n",
    "\n",
    "# for ix, tname in enumerate(glob.iglob('../data/TrainingData/*_TrainingData.json')):\n",
    "#     print('Processing {}. {}...'.format(ix + 1, tname))\n",
    "\n",
    "#     if ix <= 2 or tname in processed_tname:\n",
    "#         continue\n",
    "\n",
    "#     ds = parse_training_data(tname, topics=topics)\n",
    "#     ds = pd.DataFrame(ds).T\n",
    "\n",
    "#     for t in topics.difference(ds.columns):\n",
    "#         ds[t] = np.nan\n",
    "\n",
    "#     print('Done parsing {} docs with valid topics...'.format(ds.shape[0]))\n",
    "\n",
    "#     print('Computing features...')\n",
    "#     %time feature_vec = transform_text(ds.head(ts)).map(lambda x: np.array([fs_model[w] for w in x.split()]).mean(axis=0))\n",
    "\n",
    "#     nan_rows.update(feature_vec[feature_vec.isnull()].index.values)\n",
    "\n",
    "#     feature_vec = feature_vec[feature_vec.notnull()]\n",
    "\n",
    "#     if trainingX.empty:\n",
    "#         trainingX = feature_vec\n",
    "#     else:\n",
    "#         trainingX = trainingX.append(feature_vec)\n",
    "\n",
    "#     print('Current training size is {}...'.format(trainingX.shape[0]))\n",
    "\n",
    "#     targets = ds[target_columns].ix[feature_vec.index]  # .fillna(0).as_matrix()\n",
    "\n",
    "#     if trainingY.empty:\n",
    "#         trainingY = targets\n",
    "#     else:\n",
    "#         trainingY = trainingY.append(targets)\n",
    "\n",
    "#     trainingX.to_hdf('training_data_2', 'trainingX_fasttext')\n",
    "#     trainingY.to_hdf('training_data_2', 'trainingY_fasttext')\n",
    "    \n",
    "#     print('Completed extracting data from {}...'.format(tname))\n",
    "#     print\n",
    "#     processed_tname.add(tname)\n",
    "\n",
    "# CPU times: user 3h 11min 14s, sys: 2min 32s, total: 3h 13min 47s\n",
    "# Wall time: 3h 12min 7s"
   ]
  },
  {
   "cell_type": "code",
   "execution_count": 15,
   "metadata": {},
   "outputs": [
    {
     "name": "stdout",
     "output_type": "stream",
     "text": [
      "CPU times: user 3.74 s, sys: 2.45 s, total: 6.19 s\n",
      "Wall time: 7.59 s\n"
     ]
    }
   ],
   "source": [
    "%%time\n",
    "target_columns = sorted(topics)\n",
    "\n",
    "trainingX = pd.read_hdf('training_data', 'trainingX_fasttext')\n",
    "trainingY = pd.read_hdf('training_data', 'trainingY_fasttext')"
   ]
  },
  {
   "cell_type": "code",
   "execution_count": null,
   "metadata": {
    "collapsed": true
   },
   "outputs": [],
   "source": []
  },
  {
   "cell_type": "code",
   "execution_count": 18,
   "metadata": {
    "collapsed": true
   },
   "outputs": [],
   "source": [
    "sc = StandardScaler()"
   ]
  },
  {
   "cell_type": "code",
   "execution_count": 637,
   "metadata": {
    "collapsed": true,
    "scrolled": true
   },
   "outputs": [],
   "source": [
    "# %%time\n",
    "# ts = 10000\n",
    "# # feature_vec = transform_text(ds.head(100)).map(lambda x: fs_model[x])\n",
    "# feature_vec = transform_text(ds.head(ts)).map(lambda x: np.array([fs_model[w] for w in x.split()]).mean(axis=0))"
   ]
  },
  {
   "cell_type": "code",
   "execution_count": 230,
   "metadata": {},
   "outputs": [
    {
     "data": {
      "text/plain": [
       "2012a_TrainingData_00032    [-0.00692703751691, 0.0131925829391, -0.089119...\n",
       "2012a_TrainingData_00039    [0.0035624366887, 0.0022468659725, -0.10892507...\n",
       "2012a_TrainingData_00042    [0.0104933364357, -0.0152433813058, -0.0976779...\n",
       "2012a_TrainingData_00158    [0.00417700874113, -0.0146518261804, -0.109971...\n",
       "2012a_TrainingData_00159    [0.0178861558763, -0.00213977157183, -0.089794...\n",
       "2012a_TrainingData_00164    [-0.00215727231838, -0.029372796515, -0.104526...\n",
       "2012a_TrainingData_00178    [-0.00167258449805, -0.00776067049913, -0.0987...\n",
       "2012a_TrainingData_00198    [0.0103993472402, -0.00557831160293, -0.117735...\n",
       "2012a_TrainingData_00203    [0.0170870022889, 0.0190197932512, -0.09403973...\n",
       "2012a_TrainingData_00204    [0.0209888687456, 0.00754286840269, -0.0985630...\n",
       "2012a_TrainingData_00205    [0.0384351295266, -0.0265857949472, -0.1022910...\n",
       "2012a_TrainingData_00206    [0.0121699556043, -0.00836345299248, -0.093227...\n",
       "2012a_TrainingData_00207    [0.0283674945273, 0.0111215487018, -0.08648998...\n",
       "2012a_TrainingData_00208    [0.00399387117939, -0.0207544934018, -0.094305...\n",
       "2012a_TrainingData_00209    [0.0159954328604, 0.000984598649568, -0.097063...\n",
       "2012a_TrainingData_00210    [0.00674542741019, -0.00352462806148, -0.09494...\n",
       "2012a_TrainingData_00211    [0.00456482474413, -0.0140970336939, -0.101914...\n",
       "2012a_TrainingData_00212    [0.0101939664413, -0.00423755464375, -0.085983...\n",
       "2012a_TrainingData_00213    [0.0120482407613, 0.00191274404911, -0.1095058...\n",
       "2012a_TrainingData_00214    [0.00296629679049, -0.00773092677951, -0.09009...\n",
       "2012a_TrainingData_00215    [0.0379070526338, 0.0180287085889, -0.11056945...\n",
       "2012a_TrainingData_00216    [0.0164538366029, -0.0274510241549, -0.0694718...\n",
       "2012a_TrainingData_00217    [0.0277408701039, 0.0196721052305, -0.08616206...\n",
       "2012a_TrainingData_00218    [0.0176217561298, -0.000891463838673, -0.08814...\n",
       "2012a_TrainingData_00219    [0.0069800559256, -0.0125065962269, -0.0868368...\n",
       "2012a_TrainingData_00220    [0.0337388022279, 0.0119492928416, -0.10302194...\n",
       "2012a_TrainingData_00221    [0.018044751935, 0.0201498424645, -0.096998755...\n",
       "2012a_TrainingData_00222    [0.0268368237111, 0.0090429730258, -0.10013849...\n",
       "2012a_TrainingData_00223    [0.0386144544466, 0.0119658844338, -0.11497045...\n",
       "2012a_TrainingData_00224    [0.0201100252846, 0.00913301985399, -0.0809549...\n",
       "                                                  ...                        \n",
       "2011b_TrainingData_52465    [0.0493625344511, -0.0222481589221, -0.0778410...\n",
       "2011b_TrainingData_52474    [0.0266040290024, 0.00587070398068, -0.1026476...\n",
       "2011b_TrainingData_52489    [0.0176333813951, -0.0176106686571, -0.0917032...\n",
       "2011b_TrainingData_52502    [-0.0228861784667, -0.00580488135928, -0.07323...\n",
       "2011b_TrainingData_52503    [0.00306516081466, 0.00413568201678, -0.079120...\n",
       "2011b_TrainingData_52506    [0.00486629644654, 0.0188744678843, -0.0744712...\n",
       "2011b_TrainingData_52525    [0.0257615307756, 0.013475501227, -0.100871567...\n",
       "2011b_TrainingData_52542    [0.0266863646962, -0.0108101037104, -0.1088927...\n",
       "2011b_TrainingData_52585    [0.0435973158706, 0.00675275165739, -0.1008267...\n",
       "2011b_TrainingData_52603    [0.0257615307756, 0.013475501227, -0.100871567...\n",
       "2011b_TrainingData_52627    [0.0229843803546, 0.000640516061985, -0.084750...\n",
       "2011b_TrainingData_52638    [0.0357081305276, 0.0132069478237, -0.09155551...\n",
       "2011b_TrainingData_52690    [0.0315620199936, 0.000729488831786, -0.108677...\n",
       "2011b_TrainingData_52811    [0.0435973158706, 0.00675275165739, -0.1008267...\n",
       "2011b_TrainingData_52827    [0.0127830959628, -0.00357754696582, -0.102665...\n",
       "2011b_TrainingData_52831    [0.0227505621151, -0.0128260631014, -0.0946667...\n",
       "2011b_TrainingData_52898    [0.00983709164435, -0.010820116917, -0.0903351...\n",
       "2011b_TrainingData_52907    [0.0456208046955, 0.033615802788, -0.069562753...\n",
       "2011b_TrainingData_52910    [0.0340573398271, -0.0162608992029, -0.1039349...\n",
       "2011b_TrainingData_52911    [0.0242965989598, 0.0161566360104, -0.06235720...\n",
       "2011b_TrainingData_52935    [0.0364661899099, -0.0042812245851, -0.1049583...\n",
       "2011b_TrainingData_52955    [0.000761113401982, -0.00165659675179, -0.0954...\n",
       "2011b_TrainingData_53003    [0.0400756355344, 0.0220967102744, -0.12015481...\n",
       "2011b_TrainingData_53005    [0.00983709164435, -0.010820116917, -0.0903351...\n",
       "2011b_TrainingData_53035    [0.0345783059606, -0.000361892665834, -0.10655...\n",
       "2011b_TrainingData_53044    [0.0271853056614, 0.00534497897973, -0.0575943...\n",
       "2011b_TrainingData_53093    [-0.00069284135553, -0.00991202421548, -0.1088...\n",
       "2011b_TrainingData_53097    [-0.02656923411, 0.0136556201416, -0.023445675...\n",
       "2011b_TrainingData_53098    [0.0341678033255, 0.00523721165101, -0.1109669...\n",
       "2011b_TrainingData_53110    [0.0126882367639, -0.0050374295316, -0.0542176...\n",
       "Name: bodyText, dtype: object"
      ]
     },
     "execution_count": 230,
     "metadata": {},
     "output_type": "execute_result"
    }
   ],
   "source": [
    "trainingX.ix[trainingX.index.str.contains('^201[0-4]')]"
   ]
  },
  {
   "cell_type": "code",
   "execution_count": 231,
   "metadata": {},
   "outputs": [
    {
     "data": {
      "text/plain": [
       "(94114,)"
      ]
     },
     "execution_count": 231,
     "metadata": {},
     "output_type": "execute_result"
    }
   ],
   "source": [
    "fv = trainingX[trainingX.notnull()]\n",
    "fv = trainingX.ix[trainingX.index.str.contains('^201[0-4]')]\n",
    "\n",
    "fv = fv[fv.notnull()]\n",
    "sc.fit(np.vstack(fv))\n",
    "fv.shape"
   ]
  },
  {
   "cell_type": "code",
   "execution_count": 232,
   "metadata": {},
   "outputs": [
    {
     "data": {
      "text/plain": [
       "[u'2010b_TrainingData_34968',\n",
       " u'2010a_TrainingData_08642',\n",
       " u'2014a_TrainingData_55697',\n",
       " u'2014a_TrainingData_53916',\n",
       " u'2013a_TrainingData_21558',\n",
       " u'2011b_TrainingData_49778',\n",
       " u'2010a_TrainingData_40048',\n",
       " u'2013a_TrainingData_08216',\n",
       " u'2014a_TrainingData_31996',\n",
       " u'2010b_TrainingData_06058']"
      ]
     },
     "execution_count": 232,
     "metadata": {},
     "output_type": "execute_result"
    }
   ],
   "source": [
    "train_index = sorted(fv.index)\n",
    "np.random.shuffle(train_index)\n",
    "train_index[:10]"
   ]
  },
  {
   "cell_type": "code",
   "execution_count": 233,
   "metadata": {},
   "outputs": [
    {
     "data": {
      "text/plain": [
       "792000000.0"
      ]
     },
     "execution_count": 233,
     "metadata": {},
     "output_type": "execute_result"
    }
   ],
   "source": [
    "(300 * 8) * 10000. * 33"
   ]
  },
  {
   "cell_type": "code",
   "execution_count": 234,
   "metadata": {
    "collapsed": true
   },
   "outputs": [],
   "source": [
    "# sims = cosine_similarity(\n",
    "#     np.vstack(feature_vec), np.vstack(topic2vec_df.mean_topic_word_vec)\n",
    "# )\n",
    "\n",
    "# ix = 65\n",
    "# print ds.iloc[ix][ds.iloc[ix].notnull()]\n",
    "# for i in np.argsort(sims[ix])[::-1]:\n",
    "#     print topic2vec_df.index[i], sims[ix][i]"
   ]
  },
  {
   "cell_type": "code",
   "execution_count": null,
   "metadata": {
    "collapsed": true
   },
   "outputs": [],
   "source": []
  },
  {
   "cell_type": "code",
   "execution_count": 235,
   "metadata": {},
   "outputs": [
    {
     "name": "stdout",
     "output_type": "stream",
     "text": [
      "_________________________________________________________________\n",
      "Layer (type)                 Output Shape              Param #   \n",
      "=================================================================\n",
      "dense_41 (Dense)             (None, 128)               38528     \n",
      "_________________________________________________________________\n",
      "dropout_31 (Dropout)         (None, 128)               0         \n",
      "_________________________________________________________________\n",
      "activation_39 (Activation)   (None, 128)               0         \n",
      "_________________________________________________________________\n",
      "dense_42 (Dense)             (None, 256)               33024     \n",
      "_________________________________________________________________\n",
      "dropout_32 (Dropout)         (None, 256)               0         \n",
      "_________________________________________________________________\n",
      "activation_40 (Activation)   (None, 256)               0         \n",
      "_________________________________________________________________\n",
      "dense_43 (Dense)             (None, 128)               32896     \n",
      "_________________________________________________________________\n",
      "dropout_33 (Dropout)         (None, 128)               0         \n",
      "_________________________________________________________________\n",
      "activation_41 (Activation)   (None, 128)               0         \n",
      "_________________________________________________________________\n",
      "dense_44 (Dense)             (None, 256)               33024     \n",
      "_________________________________________________________________\n",
      "dropout_34 (Dropout)         (None, 256)               0         \n",
      "_________________________________________________________________\n",
      "activation_42 (Activation)   (None, 256)               0         \n",
      "_________________________________________________________________\n",
      "dense_45 (Dense)             (None, 160)               41120     \n",
      "_________________________________________________________________\n",
      "activation_43 (Activation)   (None, 160)               0         \n",
      "=================================================================\n",
      "Total params: 178,592\n",
      "Trainable params: 178,592\n",
      "Non-trainable params: 0\n",
      "_________________________________________________________________\n"
     ]
    }
   ],
   "source": [
    "kmodel = keras.models.Sequential()\n",
    "\n",
    "kmodel.add(keras.layers.Dense(128, input_dim=300))\n",
    "kmodel.add(keras.layers.Dropout(0.3))\n",
    "kmodel.add(keras.layers.Activation('relu'))\n",
    "\n",
    "kmodel.add(keras.layers.Dense(256))\n",
    "kmodel.add(keras.layers.Dropout(0.5))\n",
    "kmodel.add(keras.layers.Activation('relu'))\n",
    "\n",
    "kmodel.add(keras.layers.Dense(128))\n",
    "kmodel.add(keras.layers.Dropout(0.4))\n",
    "kmodel.add(keras.layers.Activation('relu'))\n",
    "\n",
    "kmodel.add(keras.layers.Dense(256))\n",
    "kmodel.add(keras.layers.Dropout(0.4))\n",
    "kmodel.add(keras.layers.Activation('relu'))\n",
    "\n",
    "\n",
    "kmodel.add(keras.layers.Dense(len(topics)))  # , activity_regularizer=keras.regularizers.l1(1)))\n",
    "kmodel.add(keras.layers.Activation('sigmoid'))\n",
    "\n",
    "kmodel.compile(\n",
    "    optimizer='rmsprop',\n",
    "    loss='categorical_crossentropy',\n",
    "    metrics=['accuracy', 'binary_crossentropy'],\n",
    ")\n",
    "kmodel.summary()"
   ]
  },
  {
   "cell_type": "code",
   "execution_count": 87,
   "metadata": {
    "collapsed": true
   },
   "outputs": [],
   "source": [
    "kmodel.reset_states()"
   ]
  },
  {
   "cell_type": "code",
   "execution_count": 237,
   "metadata": {
    "scrolled": true
   },
   "outputs": [
    {
     "name": "stdout",
     "output_type": "stream",
     "text": [
      "Train on 75291 samples, validate on 18823 samples\n",
      "Epoch 1/100\n",
      "75291/75291 [==============================] - 1s - loss: 3.1780 - acc: 0.5180 - binary_crossentropy: 0.0230 - val_loss: 2.7548 - val_acc: 0.5772 - val_binary_crossentropy: 0.0196\n",
      "Epoch 2/100\n",
      "75291/75291 [==============================] - 1s - loss: 3.1326 - acc: 0.5224 - binary_crossentropy: 0.0227 - val_loss: 2.7186 - val_acc: 0.5815 - val_binary_crossentropy: 0.0190\n",
      "Epoch 3/100\n",
      "75291/75291 [==============================] - 1s - loss: 3.0959 - acc: 0.5310 - binary_crossentropy: 0.0225 - val_loss: 2.6880 - val_acc: 0.5819 - val_binary_crossentropy: 0.0186\n",
      "Epoch 4/100\n",
      "75291/75291 [==============================] - 1s - loss: 3.0751 - acc: 0.5314 - binary_crossentropy: 0.0224 - val_loss: 2.6901 - val_acc: 0.5821 - val_binary_crossentropy: 0.0186\n",
      "Epoch 5/100\n",
      "75291/75291 [==============================] - 1s - loss: 3.0376 - acc: 0.5350 - binary_crossentropy: 0.0222 - val_loss: 2.6471 - val_acc: 0.5853 - val_binary_crossentropy: 0.0182\n",
      "Epoch 6/100\n",
      "75291/75291 [==============================] - 1s - loss: 3.0143 - acc: 0.5402 - binary_crossentropy: 0.0222 - val_loss: 2.6155 - val_acc: 0.5911 - val_binary_crossentropy: 0.0179\n",
      "Epoch 7/100\n",
      "75291/75291 [==============================] - 1s - loss: 2.9981 - acc: 0.5394 - binary_crossentropy: 0.0222 - val_loss: 2.6213 - val_acc: 0.5917 - val_binary_crossentropy: 0.0180\n",
      "Epoch 8/100\n",
      "75291/75291 [==============================] - 1s - loss: 2.9759 - acc: 0.5457 - binary_crossentropy: 0.0221 - val_loss: 2.6066 - val_acc: 0.5908 - val_binary_crossentropy: 0.0179\n",
      "Epoch 9/100\n",
      "75291/75291 [==============================] - 1s - loss: 2.9565 - acc: 0.5461 - binary_crossentropy: 0.0222 - val_loss: 2.5927 - val_acc: 0.5906 - val_binary_crossentropy: 0.0179\n",
      "Epoch 10/100\n",
      "75291/75291 [==============================] - 1s - loss: 2.9385 - acc: 0.5492 - binary_crossentropy: 0.0222 - val_loss: 2.5812 - val_acc: 0.5919 - val_binary_crossentropy: 0.0178\n",
      "Epoch 11/100\n",
      "75291/75291 [==============================] - 1s - loss: 2.9219 - acc: 0.5510 - binary_crossentropy: 0.0222 - val_loss: 2.5559 - val_acc: 0.5952 - val_binary_crossentropy: 0.0177\n",
      "Epoch 12/100\n",
      "75291/75291 [==============================] - 1s - loss: 2.9067 - acc: 0.5532 - binary_crossentropy: 0.0223 - val_loss: 2.5529 - val_acc: 0.5977 - val_binary_crossentropy: 0.0177\n",
      "Epoch 13/100\n",
      "75291/75291 [==============================] - 1s - loss: 2.8948 - acc: 0.5547 - binary_crossentropy: 0.0224 - val_loss: 2.5386 - val_acc: 0.6017 - val_binary_crossentropy: 0.0178\n",
      "Epoch 14/100\n",
      "75291/75291 [==============================] - 1s - loss: 2.8801 - acc: 0.5563 - binary_crossentropy: 0.0225 - val_loss: 2.5326 - val_acc: 0.6007 - val_binary_crossentropy: 0.0178\n",
      "Epoch 15/100\n",
      "75291/75291 [==============================] - 1s - loss: 2.8784 - acc: 0.5579 - binary_crossentropy: 0.0227 - val_loss: 2.5206 - val_acc: 0.6011 - val_binary_crossentropy: 0.0181\n",
      "Epoch 16/100\n",
      "75291/75291 [==============================] - 1s - loss: 2.8638 - acc: 0.5589 - binary_crossentropy: 0.0229 - val_loss: 2.5237 - val_acc: 0.5991 - val_binary_crossentropy: 0.0180\n",
      "Epoch 17/100\n",
      "75291/75291 [==============================] - 1s - loss: 2.8516 - acc: 0.5614 - binary_crossentropy: 0.0229 - val_loss: 2.5112 - val_acc: 0.6035 - val_binary_crossentropy: 0.0180\n",
      "Epoch 18/100\n",
      "75291/75291 [==============================] - 1s - loss: 2.8459 - acc: 0.5617 - binary_crossentropy: 0.0230 - val_loss: 2.4944 - val_acc: 0.6058 - val_binary_crossentropy: 0.0182\n",
      "Epoch 19/100\n",
      "75291/75291 [==============================] - 1s - loss: 2.8302 - acc: 0.5636 - binary_crossentropy: 0.0232 - val_loss: 2.4932 - val_acc: 0.6062 - val_binary_crossentropy: 0.0183\n",
      "Epoch 20/100\n",
      "75291/75291 [==============================] - 1s - loss: 2.8329 - acc: 0.5643 - binary_crossentropy: 0.0234 - val_loss: 2.4933 - val_acc: 0.6070 - val_binary_crossentropy: 0.0183\n",
      "Epoch 21/100\n",
      "75291/75291 [==============================] - 1s - loss: 2.8156 - acc: 0.5673 - binary_crossentropy: 0.0235 - val_loss: 2.4810 - val_acc: 0.6065 - val_binary_crossentropy: 0.0183\n",
      "Epoch 22/100\n",
      "75291/75291 [==============================] - 1s - loss: 2.8112 - acc: 0.5646 - binary_crossentropy: 0.0237 - val_loss: 2.4853 - val_acc: 0.6107 - val_binary_crossentropy: 0.0186\n",
      "Epoch 23/100\n",
      "75291/75291 [==============================] - 1s - loss: 2.8016 - acc: 0.5690 - binary_crossentropy: 0.0241 - val_loss: 2.4776 - val_acc: 0.6095 - val_binary_crossentropy: 0.0189\n",
      "Epoch 24/100\n",
      "75291/75291 [==============================] - 1s - loss: 2.7973 - acc: 0.5695 - binary_crossentropy: 0.0243 - val_loss: 2.4740 - val_acc: 0.6035 - val_binary_crossentropy: 0.0189\n",
      "Epoch 25/100\n",
      "75291/75291 [==============================] - 1s - loss: 2.7861 - acc: 0.5714 - binary_crossentropy: 0.0244 - val_loss: 2.4745 - val_acc: 0.6088 - val_binary_crossentropy: 0.0192\n",
      "Epoch 26/100\n",
      "75291/75291 [==============================] - 1s - loss: 2.7827 - acc: 0.5697 - binary_crossentropy: 0.0245 - val_loss: 2.4647 - val_acc: 0.6062 - val_binary_crossentropy: 0.0192\n",
      "Epoch 27/100\n",
      "75291/75291 [==============================] - 1s - loss: 2.7734 - acc: 0.5722 - binary_crossentropy: 0.0248 - val_loss: 2.4614 - val_acc: 0.6110 - val_binary_crossentropy: 0.0194\n",
      "Epoch 28/100\n",
      "75291/75291 [==============================] - 1s - loss: 2.7655 - acc: 0.5722 - binary_crossentropy: 0.0249 - val_loss: 2.4530 - val_acc: 0.6105 - val_binary_crossentropy: 0.0195\n",
      "Epoch 29/100\n",
      "75291/75291 [==============================] - 1s - loss: 2.7654 - acc: 0.5743 - binary_crossentropy: 0.0253 - val_loss: 2.4566 - val_acc: 0.6074 - val_binary_crossentropy: 0.0197\n",
      "Epoch 30/100\n",
      "75291/75291 [==============================] - 1s - loss: 2.7604 - acc: 0.5714 - binary_crossentropy: 0.0256 - val_loss: 2.4432 - val_acc: 0.6105 - val_binary_crossentropy: 0.0202\n",
      "Epoch 31/100\n",
      "75291/75291 [==============================] - 1s - loss: 2.7500 - acc: 0.5769 - binary_crossentropy: 0.0259 - val_loss: 2.4544 - val_acc: 0.6131 - val_binary_crossentropy: 0.0201\n",
      "Epoch 32/100\n",
      "75291/75291 [==============================] - 1s - loss: 2.7569 - acc: 0.5765 - binary_crossentropy: 0.0260 - val_loss: 2.4426 - val_acc: 0.6143 - val_binary_crossentropy: 0.0203\n",
      "Epoch 33/100\n",
      "75291/75291 [==============================] - 1s - loss: 2.7481 - acc: 0.5741 - binary_crossentropy: 0.0264 - val_loss: 2.4441 - val_acc: 0.6133 - val_binary_crossentropy: 0.0204\n",
      "Epoch 34/100\n",
      "75291/75291 [==============================] - 1s - loss: 2.7494 - acc: 0.5758 - binary_crossentropy: 0.0267 - val_loss: 2.4342 - val_acc: 0.6114 - val_binary_crossentropy: 0.0210\n",
      "Epoch 35/100\n",
      "75291/75291 [==============================] - 1s - loss: 2.7399 - acc: 0.5787 - binary_crossentropy: 0.0270 - val_loss: 2.4368 - val_acc: 0.6136 - val_binary_crossentropy: 0.0211\n",
      "Epoch 36/100\n",
      "75291/75291 [==============================] - 1s - loss: 2.7373 - acc: 0.5768 - binary_crossentropy: 0.0271 - val_loss: 2.4373 - val_acc: 0.6166 - val_binary_crossentropy: 0.0210\n",
      "Epoch 37/100\n",
      "75291/75291 [==============================] - 1s - loss: 2.7329 - acc: 0.5781 - binary_crossentropy: 0.0274 - val_loss: 2.4364 - val_acc: 0.6154 - val_binary_crossentropy: 0.0213\n",
      "Epoch 38/100\n",
      "75291/75291 [==============================] - 1s - loss: 2.7312 - acc: 0.5792 - binary_crossentropy: 0.0278 - val_loss: 2.4357 - val_acc: 0.6065 - val_binary_crossentropy: 0.0217\n",
      "Epoch 39/100\n",
      "75291/75291 [==============================] - 1s - loss: 2.7243 - acc: 0.5792 - binary_crossentropy: 0.0281 - val_loss: 2.4336 - val_acc: 0.6148 - val_binary_crossentropy: 0.0219\n",
      "Epoch 40/100\n",
      "75291/75291 [==============================] - 1s - loss: 2.7218 - acc: 0.5790 - binary_crossentropy: 0.0284 - val_loss: 2.4257 - val_acc: 0.6125 - val_binary_crossentropy: 0.0221\n",
      "Epoch 41/100\n",
      "75291/75291 [==============================] - 1s - loss: 2.7142 - acc: 0.5792 - binary_crossentropy: 0.0288 - val_loss: 2.4252 - val_acc: 0.6124 - val_binary_crossentropy: 0.0225\n",
      "Epoch 42/100\n",
      "75291/75291 [==============================] - 1s - loss: 2.7134 - acc: 0.5809 - binary_crossentropy: 0.0292 - val_loss: 2.4251 - val_acc: 0.6113 - val_binary_crossentropy: 0.0228\n",
      "Epoch 43/100\n",
      "75291/75291 [==============================] - 1s - loss: 2.7152 - acc: 0.5809 - binary_crossentropy: 0.0295 - val_loss: 2.4229 - val_acc: 0.6112 - val_binary_crossentropy: 0.0230\n",
      "Epoch 44/100\n",
      "75291/75291 [==============================] - 1s - loss: 2.7061 - acc: 0.5810 - binary_crossentropy: 0.0297 - val_loss: 2.4184 - val_acc: 0.6195 - val_binary_crossentropy: 0.0234\n",
      "Epoch 45/100\n",
      "75291/75291 [==============================] - 1s - loss: 2.6994 - acc: 0.5814 - binary_crossentropy: 0.0301 - val_loss: 2.4187 - val_acc: 0.6135 - val_binary_crossentropy: 0.0235\n",
      "Epoch 46/100\n",
      "75291/75291 [==============================] - 1s - loss: 2.7026 - acc: 0.5805 - binary_crossentropy: 0.0306 - val_loss: 2.4177 - val_acc: 0.6122 - val_binary_crossentropy: 0.0233\n",
      "Epoch 47/100\n",
      "75291/75291 [==============================] - 1s - loss: 2.7015 - acc: 0.5821 - binary_crossentropy: 0.0306 - val_loss: 2.4074 - val_acc: 0.6124 - val_binary_crossentropy: 0.0242\n",
      "Epoch 48/100\n",
      "75291/75291 [==============================] - 1s - loss: 2.6956 - acc: 0.5817 - binary_crossentropy: 0.0311 - val_loss: 2.4151 - val_acc: 0.6135 - val_binary_crossentropy: 0.0242\n",
      "Epoch 49/100\n",
      "75291/75291 [==============================] - 1s - loss: 2.6916 - acc: 0.5836 - binary_crossentropy: 0.0316 - val_loss: 2.4019 - val_acc: 0.6144 - val_binary_crossentropy: 0.0248\n",
      "Epoch 50/100\n",
      "75291/75291 [==============================] - 1s - loss: 2.6945 - acc: 0.5818 - binary_crossentropy: 0.0321 - val_loss: 2.4115 - val_acc: 0.6158 - val_binary_crossentropy: 0.0248\n",
      "Epoch 51/100\n",
      "75291/75291 [==============================] - 1s - loss: 2.6880 - acc: 0.5853 - binary_crossentropy: 0.0323 - val_loss: 2.4056 - val_acc: 0.6150 - val_binary_crossentropy: 0.0250\n",
      "Epoch 52/100\n",
      "75291/75291 [==============================] - 1s - loss: 2.6831 - acc: 0.5853 - binary_crossentropy: 0.0328 - val_loss: 2.4077 - val_acc: 0.6177 - val_binary_crossentropy: 0.0254\n",
      "Epoch 53/100\n",
      "75291/75291 [==============================] - 1s - loss: 2.6830 - acc: 0.5843 - binary_crossentropy: 0.0332 - val_loss: 2.4062 - val_acc: 0.6152 - val_binary_crossentropy: 0.0257\n",
      "Epoch 54/100\n",
      "75291/75291 [==============================] - 1s - loss: 2.6810 - acc: 0.5848 - binary_crossentropy: 0.0335 - val_loss: 2.4071 - val_acc: 0.6173 - val_binary_crossentropy: 0.0264\n",
      "Epoch 55/100\n",
      "75291/75291 [==============================] - 1s - loss: 2.6751 - acc: 0.5848 - binary_crossentropy: 0.0340 - val_loss: 2.3967 - val_acc: 0.6183 - val_binary_crossentropy: 0.0272\n",
      "Epoch 56/100\n",
      "75291/75291 [==============================] - 1s - loss: 2.6796 - acc: 0.5836 - binary_crossentropy: 0.0346 - val_loss: 2.4034 - val_acc: 0.6220 - val_binary_crossentropy: 0.0270\n",
      "Epoch 57/100\n",
      "75291/75291 [==============================] - 1s - loss: 2.6789 - acc: 0.5842 - binary_crossentropy: 0.0350 - val_loss: 2.4078 - val_acc: 0.6199 - val_binary_crossentropy: 0.0274\n",
      "Epoch 58/100\n",
      "75291/75291 [==============================] - 1s - loss: 2.6821 - acc: 0.5829 - binary_crossentropy: 0.0352 - val_loss: 2.4083 - val_acc: 0.6218 - val_binary_crossentropy: 0.0272\n",
      "Epoch 59/100\n",
      "75291/75291 [==============================] - 1s - loss: 2.6694 - acc: 0.5858 - binary_crossentropy: 0.0354 - val_loss: 2.3993 - val_acc: 0.6191 - val_binary_crossentropy: 0.0280\n",
      "Epoch 60/100\n",
      "75291/75291 [==============================] - 1s - loss: 2.6744 - acc: 0.5830 - binary_crossentropy: 0.0360 - val_loss: 2.4027 - val_acc: 0.6211 - val_binary_crossentropy: 0.0285\n",
      "Epoch 61/100\n",
      "75291/75291 [==============================] - 1s - loss: 2.6667 - acc: 0.5839 - binary_crossentropy: 0.0365 - val_loss: 2.4014 - val_acc: 0.6192 - val_binary_crossentropy: 0.0282\n",
      "Epoch 62/100\n",
      "75291/75291 [==============================] - 1s - loss: 2.6656 - acc: 0.5872 - binary_crossentropy: 0.0368 - val_loss: 2.4037 - val_acc: 0.6172 - val_binary_crossentropy: 0.0285\n",
      "Epoch 63/100\n",
      "75291/75291 [==============================] - 1s - loss: 2.6708 - acc: 0.5869 - binary_crossentropy: 0.0373 - val_loss: 2.4025 - val_acc: 0.6158 - val_binary_crossentropy: 0.0288\n",
      "Epoch 64/100\n",
      "75291/75291 [==============================] - 1s - loss: 2.6635 - acc: 0.5854 - binary_crossentropy: 0.0376 - val_loss: 2.4031 - val_acc: 0.6198 - val_binary_crossentropy: 0.0293\n",
      "Epoch 65/100\n",
      "75291/75291 [==============================] - 1s - loss: 2.6593 - acc: 0.5861 - binary_crossentropy: 0.0382 - val_loss: 2.3903 - val_acc: 0.6218 - val_binary_crossentropy: 0.0301\n",
      "Epoch 66/100\n",
      "75291/75291 [==============================] - 1s - loss: 2.6562 - acc: 0.5887 - binary_crossentropy: 0.0385 - val_loss: 2.3947 - val_acc: 0.6178 - val_binary_crossentropy: 0.0298\n",
      "Epoch 67/100\n",
      "75291/75291 [==============================] - 1s - loss: 2.6615 - acc: 0.5879 - binary_crossentropy: 0.0388 - val_loss: 2.3905 - val_acc: 0.6229 - val_binary_crossentropy: 0.0305\n",
      "Epoch 68/100\n",
      "75291/75291 [==============================] - 1s - loss: 2.6559 - acc: 0.5902 - binary_crossentropy: 0.0393 - val_loss: 2.3895 - val_acc: 0.6204 - val_binary_crossentropy: 0.0305\n",
      "Epoch 69/100\n",
      "75291/75291 [==============================] - 1s - loss: 2.6588 - acc: 0.5863 - binary_crossentropy: 0.0393 - val_loss: 2.3849 - val_acc: 0.6206 - val_binary_crossentropy: 0.0314\n",
      "Epoch 70/100\n",
      "75291/75291 [==============================] - 1s - loss: 2.6579 - acc: 0.5885 - binary_crossentropy: 0.0400 - val_loss: 2.3948 - val_acc: 0.6133 - val_binary_crossentropy: 0.0318\n",
      "Epoch 71/100\n",
      "75291/75291 [==============================] - 1s - loss: 2.6526 - acc: 0.5863 - binary_crossentropy: 0.0404 - val_loss: 2.3897 - val_acc: 0.6217 - val_binary_crossentropy: 0.0321\n",
      "Epoch 72/100\n",
      "75291/75291 [==============================] - 1s - loss: 2.6565 - acc: 0.5876 - binary_crossentropy: 0.0410 - val_loss: 2.3861 - val_acc: 0.6179 - val_binary_crossentropy: 0.0323\n",
      "Epoch 73/100\n",
      "75291/75291 [==============================] - 1s - loss: 2.6536 - acc: 0.5888 - binary_crossentropy: 0.0412 - val_loss: 2.3911 - val_acc: 0.6215 - val_binary_crossentropy: 0.0331\n",
      "Epoch 74/100\n",
      "75291/75291 [==============================] - 1s - loss: 2.6498 - acc: 0.5886 - binary_crossentropy: 0.0415 - val_loss: 2.3884 - val_acc: 0.6196 - val_binary_crossentropy: 0.0332\n",
      "Epoch 75/100\n",
      "75291/75291 [==============================] - 1s - loss: 2.6374 - acc: 0.5874 - binary_crossentropy: 0.0418 - val_loss: 2.3873 - val_acc: 0.6220 - val_binary_crossentropy: 0.0338\n",
      "Epoch 76/100\n",
      "75291/75291 [==============================] - 1s - loss: 2.6490 - acc: 0.5873 - binary_crossentropy: 0.0423 - val_loss: 2.3926 - val_acc: 0.6179 - val_binary_crossentropy: 0.0336\n",
      "Epoch 77/100\n",
      "75291/75291 [==============================] - 1s - loss: 2.6428 - acc: 0.5901 - binary_crossentropy: 0.0428 - val_loss: 2.3876 - val_acc: 0.6204 - val_binary_crossentropy: 0.0336\n",
      "Epoch 78/100\n",
      "75291/75291 [==============================] - 1s - loss: 2.6390 - acc: 0.5882 - binary_crossentropy: 0.0432 - val_loss: 2.3833 - val_acc: 0.6212 - val_binary_crossentropy: 0.0342\n",
      "Epoch 79/100\n",
      "75291/75291 [==============================] - 1s - loss: 2.6408 - acc: 0.5906 - binary_crossentropy: 0.0434 - val_loss: 2.3874 - val_acc: 0.6158 - val_binary_crossentropy: 0.0341\n",
      "Epoch 80/100\n",
      "75291/75291 [==============================] - 1s - loss: 2.6446 - acc: 0.5895 - binary_crossentropy: 0.0437 - val_loss: 2.3970 - val_acc: 0.6112 - val_binary_crossentropy: 0.0349\n",
      "Epoch 81/100\n",
      "75291/75291 [==============================] - 1s - loss: 2.6418 - acc: 0.5875 - binary_crossentropy: 0.0442 - val_loss: 2.3842 - val_acc: 0.6213 - val_binary_crossentropy: 0.0353\n",
      "Epoch 82/100\n",
      "75291/75291 [==============================] - 1s - loss: 2.6381 - acc: 0.5914 - binary_crossentropy: 0.0444 - val_loss: 2.3776 - val_acc: 0.6241 - val_binary_crossentropy: 0.0350\n",
      "Epoch 83/100\n",
      "75291/75291 [==============================] - 1s - loss: 2.6343 - acc: 0.5928 - binary_crossentropy: 0.0448 - val_loss: 2.3781 - val_acc: 0.6215 - val_binary_crossentropy: 0.0355\n",
      "Epoch 84/100\n",
      "75291/75291 [==============================] - 1s - loss: 2.6349 - acc: 0.5900 - binary_crossentropy: 0.0450 - val_loss: 2.3849 - val_acc: 0.6191 - val_binary_crossentropy: 0.0354\n",
      "Epoch 85/100\n"
     ]
    },
    {
     "name": "stdout",
     "output_type": "stream",
     "text": [
      "75291/75291 [==============================] - 1s - loss: 2.6383 - acc: 0.5898 - binary_crossentropy: 0.0452 - val_loss: 2.3779 - val_acc: 0.6201 - val_binary_crossentropy: 0.0367\n",
      "Epoch 86/100\n",
      "75291/75291 [==============================] - 1s - loss: 2.6342 - acc: 0.5906 - binary_crossentropy: 0.0458 - val_loss: 2.3804 - val_acc: 0.6215 - val_binary_crossentropy: 0.0365\n",
      "Epoch 87/100\n",
      "75291/75291 [==============================] - 1s - loss: 2.6357 - acc: 0.5899 - binary_crossentropy: 0.0461 - val_loss: 2.3805 - val_acc: 0.6206 - val_binary_crossentropy: 0.0366\n",
      "Epoch 88/100\n",
      "75291/75291 [==============================] - 1s - loss: 2.6387 - acc: 0.5881 - binary_crossentropy: 0.0463 - val_loss: 2.3777 - val_acc: 0.6218 - val_binary_crossentropy: 0.0372\n",
      "Epoch 89/100\n",
      "75291/75291 [==============================] - 1s - loss: 2.6289 - acc: 0.5922 - binary_crossentropy: 0.0466 - val_loss: 2.3845 - val_acc: 0.6240 - val_binary_crossentropy: 0.0369\n",
      "Epoch 90/100\n",
      "75291/75291 [==============================] - 1s - loss: 2.6364 - acc: 0.5913 - binary_crossentropy: 0.0468 - val_loss: 2.3756 - val_acc: 0.6183 - val_binary_crossentropy: 0.0375\n",
      "Epoch 91/100\n",
      "75291/75291 [==============================] - 1s - loss: 2.6259 - acc: 0.5914 - binary_crossentropy: 0.0471 - val_loss: 2.3817 - val_acc: 0.6195 - val_binary_crossentropy: 0.0385\n",
      "Epoch 92/100\n",
      "75291/75291 [==============================] - 1s - loss: 2.6369 - acc: 0.5890 - binary_crossentropy: 0.0476 - val_loss: 2.3735 - val_acc: 0.6228 - val_binary_crossentropy: 0.0376\n",
      "Epoch 93/100\n",
      "75291/75291 [==============================] - 1s - loss: 2.6349 - acc: 0.5910 - binary_crossentropy: 0.0478 - val_loss: 2.3857 - val_acc: 0.6220 - val_binary_crossentropy: 0.0383\n",
      "Epoch 94/100\n",
      "75291/75291 [==============================] - 1s - loss: 2.6268 - acc: 0.5890 - binary_crossentropy: 0.0479 - val_loss: 2.3791 - val_acc: 0.6241 - val_binary_crossentropy: 0.0387\n",
      "Epoch 95/100\n",
      "75291/75291 [==============================] - 1s - loss: 2.6316 - acc: 0.5903 - binary_crossentropy: 0.0481 - val_loss: 2.3753 - val_acc: 0.6230 - val_binary_crossentropy: 0.0392\n",
      "Epoch 96/100\n",
      "75291/75291 [==============================] - 1s - loss: 2.6292 - acc: 0.5914 - binary_crossentropy: 0.0485 - val_loss: 2.3792 - val_acc: 0.6184 - val_binary_crossentropy: 0.0378\n",
      "Epoch 97/100\n",
      "75291/75291 [==============================] - 1s - loss: 2.6190 - acc: 0.5941 - binary_crossentropy: 0.0487 - val_loss: 2.3767 - val_acc: 0.6184 - val_binary_crossentropy: 0.0390\n",
      "Epoch 98/100\n",
      "75291/75291 [==============================] - 1s - loss: 2.6254 - acc: 0.5910 - binary_crossentropy: 0.0490 - val_loss: 2.3822 - val_acc: 0.6196 - val_binary_crossentropy: 0.0393\n",
      "Epoch 99/100\n",
      "75291/75291 [==============================] - 1s - loss: 2.6280 - acc: 0.5919 - binary_crossentropy: 0.0492 - val_loss: 2.3839 - val_acc: 0.6206 - val_binary_crossentropy: 0.0380\n",
      "Epoch 100/100\n",
      "75291/75291 [==============================] - 1s - loss: 2.6197 - acc: 0.5923 - binary_crossentropy: 0.0493 - val_loss: 2.3802 - val_acc: 0.6217 - val_binary_crossentropy: 0.0398\n",
      "CPU times: user 2min 2s, sys: 3.46 s, total: 2min 5s\n",
      "Wall time: 2min 6s\n"
     ]
    },
    {
     "data": {
      "text/plain": [
       "<keras.callbacks.History at 0x7f12f579dc90>"
      ]
     },
     "execution_count": 237,
     "metadata": {},
     "output_type": "execute_result"
    }
   ],
   "source": [
    "%%time\n",
    "kmodel.fit(\n",
    "    sc.transform(np.vstack(fv.ix[train_index])),\n",
    "    trainingY.ix[train_index].fillna(0).as_matrix(), batch_size=1000, epochs=100,\n",
    "    validation_split=0.2,\n",
    ")"
   ]
  },
  {
   "cell_type": "code",
   "execution_count": 59,
   "metadata": {},
   "outputs": [
    {
     "name": "stdout",
     "output_type": "stream",
     "text": [
      "233376/234083 [============================>.] - ETA: 0s"
     ]
    }
   ],
   "source": [
    "preds = kmodel.predict_proba(sc.transform(np.vstack(fv)))  # 5742"
   ]
  },
  {
   "cell_type": "code",
   "execution_count": 60,
   "metadata": {},
   "outputs": [
    {
     "name": "stdout",
     "output_type": "stream",
     "text": [
      "0.0105418681888\n"
     ]
    }
   ],
   "source": [
    "thresh = 0.01\n",
    "preds[preds>=thresh] = 1\n",
    "preds[preds<thresh] = 0\n",
    "\n",
    "print f1_score(trainingY.ix[train_index].fillna(0).as_matrix(), preds, average='micro')"
   ]
  },
  {
   "cell_type": "code",
   "execution_count": null,
   "metadata": {
    "collapsed": true
   },
   "outputs": [],
   "source": []
  },
  {
   "cell_type": "code",
   "execution_count": null,
   "metadata": {
    "collapsed": true
   },
   "outputs": [],
   "source": []
  },
  {
   "cell_type": "code",
   "execution_count": 238,
   "metadata": {
    "collapsed": true
   },
   "outputs": [],
   "source": [
    "bb = trainingY[trainingY.sum(axis=1) > 5].head(100)"
   ]
  },
  {
   "cell_type": "code",
   "execution_count": 240,
   "metadata": {},
   "outputs": [
    {
     "name": "stdout",
     "output_type": "stream",
     "text": [
      "\r",
      " 32/100 [========>.....................] - ETA: 0s"
     ]
    }
   ],
   "source": [
    "pred = kmodel.predict_proba(sc.transform(np.vstack(trainingX.ix[bb.index])))"
   ]
  },
  {
   "cell_type": "code",
   "execution_count": 241,
   "metadata": {},
   "outputs": [
    {
     "data": {
      "text/plain": [
       "0.0017541413"
      ]
     },
     "execution_count": 241,
     "metadata": {},
     "output_type": "execute_result"
    }
   ],
   "source": [
    "pred.mean()"
   ]
  },
  {
   "cell_type": "code",
   "execution_count": 249,
   "metadata": {},
   "outputs": [
    {
     "data": {
      "text/plain": [
       "<matplotlib.axes._subplots.AxesSubplot at 0x7f12f503c8d0>"
      ]
     },
     "execution_count": 249,
     "metadata": {},
     "output_type": "execute_result"
    },
    {
     "data": {
      "image/png": "[encoded data removed]",
      "text/plain": [
       "<matplotlib.figure.Figure at 0x7f12f5edba10>"
      ]
     },
     "metadata": {},
     "output_type": "display_data"
    }
   ],
   "source": [
    "%matplotlib inline\n",
    "ix = 50\n",
    "pd.Series(pred[ix]).plot()"
   ]
  },
  {
   "cell_type": "code",
   "execution_count": 250,
   "metadata": {},
   "outputs": [
    {
     "name": "stdout",
     "output_type": "stream",
     "text": [
      "(array([ 49,  66,  69,  79, 138, 140, 147]),)\n",
      "(array([  4,  28,  49,  51,  66,  67,  69,  79,  83, 138, 140, 147]),)\n"
     ]
    }
   ],
   "source": [
    "print np.where(bb.iloc[ix] > 0)\n",
    "print np.where(pred[ix] >  (pred[ix].mean()))  # + 0.1 * pred[ix].std()))"
   ]
  },
  {
   "cell_type": "code",
   "execution_count": 251,
   "metadata": {},
   "outputs": [
    {
     "name": "stdout",
     "output_type": "stream",
     "text": [
      "(array([ 49,  66,  69,  79, 138, 140, 147]),)\n",
      "(array([ 28,  49,  51,  66,  67,  69,  79, 138, 140, 147]),)\n"
     ]
    }
   ],
   "source": [
    "print np.where(bb.iloc[ix] > 0)\n",
    "print np.where(pred[ix] >  pred[ix][np.where(pred[ix] > np.mean(sorted(pred[ix])[:100]))].mean())  # (pred[ix].mean() + 0.75 * pred[ix].std()))"
   ]
  },
  {
   "cell_type": "code",
   "execution_count": 245,
   "metadata": {},
   "outputs": [
    {
     "data": {
      "text/plain": [
       "9.0"
      ]
     },
     "execution_count": 245,
     "metadata": {},
     "output_type": "execute_result"
    }
   ],
   "source": [
    "bb.sum(axis=1).max()"
   ]
  },
  {
   "cell_type": "code",
   "execution_count": 902,
   "metadata": {},
   "outputs": [
    {
     "name": "stdout",
     "output_type": "stream",
     "text": [
      "\r",
      " 32/100 [========>.....................] - ETA: 0s"
     ]
    }
   ],
   "source": [
    "be = trainingY[trainingY.sum(axis=1) == 2].head(100)\n",
    "epred = kmodel.predict_proba(sc.transform(np.vstack(fv.ix[be.index])))"
   ]
  },
  {
   "cell_type": "code",
   "execution_count": 928,
   "metadata": {},
   "outputs": [
    {
     "data": {
      "text/plain": [
       "<matplotlib.axes._subplots.AxesSubplot at 0x7fa3695217d0>"
      ]
     },
     "execution_count": 928,
     "metadata": {},
     "output_type": "execute_result"
    },
    {
     "data": {
      "image/png": "[encoded data removed]",
      "text/plain": [
       "<matplotlib.figure.Figure at 0x7fa3694bfbd0>"
      ]
     },
     "metadata": {},
     "output_type": "display_data"
    }
   ],
   "source": [
    "ix = \n",
    "pd.Series(epred[ix]).plot()"
   ]
  },
  {
   "cell_type": "code",
   "execution_count": 929,
   "metadata": {},
   "outputs": [
    {
     "name": "stdout",
     "output_type": "stream",
     "text": [
      "(array([42, 90]),)\n",
      "(array([ 90, 142]),)\n"
     ]
    }
   ],
   "source": [
    "print np.where(be.iloc[ix] > 0)\n",
    "print np.where(epred[ix] > (epred[ix].mean() + 1 * epred[ix].std()))"
   ]
  },
  {
   "cell_type": "code",
   "execution_count": 930,
   "metadata": {},
   "outputs": [
    {
     "name": "stdout",
     "output_type": "stream",
     "text": [
      "(array([42, 90]),)\n",
      "(array([ 90, 142]),)\n"
     ]
    }
   ],
   "source": [
    "print np.where(be.iloc[ix] > 0)\n",
    "print np.where(epred[ix] >  epred[ix][np.where(epred[ix] > 0.001)].mean())  # (pred[ix].mean() + 0.75 * pred[ix].std()))"
   ]
  },
  {
   "cell_type": "code",
   "execution_count": 939,
   "metadata": {},
   "outputs": [
    {
     "data": {
      "text/plain": [
       "0.19934334"
      ]
     },
     "execution_count": 939,
     "metadata": {},
     "output_type": "execute_result"
    }
   ],
   "source": [
    "epred[ix][(epred[ix] > 0.001)].mean()"
   ]
  },
  {
   "cell_type": "code",
   "execution_count": 200,
   "metadata": {},
   "outputs": [
    {
     "data": {
      "text/plain": [
       "0.00059701549"
      ]
     },
     "execution_count": 200,
     "metadata": {},
     "output_type": "execute_result"
    }
   ],
   "source": [
    "pred.std(axis=1).mean()"
   ]
  },
  {
   "cell_type": "code",
   "execution_count": 203,
   "metadata": {},
   "outputs": [
    {
     "data": {
      "text/plain": [
       "0.00056228437"
      ]
     },
     "execution_count": 203,
     "metadata": {},
     "output_type": "execute_result"
    }
   ],
   "source": [
    "pred.mean(axis=1).mean()"
   ]
  },
  {
   "cell_type": "code",
   "execution_count": 209,
   "metadata": {},
   "outputs": [
    {
     "data": {
      "text/plain": [
       "65233468.0"
      ]
     },
     "execution_count": 209,
     "metadata": {},
     "output_type": "execute_result"
    }
   ],
   "source": [
    "np.mean(sorted(pred[ix])[120:]) / np.mean(sorted(pred[ix])[:120])"
   ]
  },
  {
   "cell_type": "code",
   "execution_count": 205,
   "metadata": {},
   "outputs": [
    {
     "data": {
      "text/plain": [
       "1.2087504e-09"
      ]
     },
     "execution_count": 205,
     "metadata": {},
     "output_type": "execute_result"
    }
   ],
   "source": [
    "pred[ix][np.where(pred[ix] > np.mean(sorted(pred[ix])[:100]))].mean()"
   ]
  },
  {
   "cell_type": "code",
   "execution_count": null,
   "metadata": {
    "collapsed": true,
    "scrolled": true
   },
   "outputs": [],
   "source": [
    "test_df.ix['TestData_07579'].bodyText"
   ]
  },
  {
   "cell_type": "code",
   "execution_count": null,
   "metadata": {
    "collapsed": true
   },
   "outputs": [],
   "source": [
    "test_sub_df.ix['TestData_07579'][test_sub_df.ix['TestData_07579'] == 1]"
   ]
  },
  {
   "cell_type": "code",
   "execution_count": null,
   "metadata": {
    "collapsed": true
   },
   "outputs": [],
   "source": []
  },
  {
   "cell_type": "code",
   "execution_count": 293,
   "metadata": {
    "collapsed": true
   },
   "outputs": [],
   "source": [
    "def get_classes(pred, scale_param=0.75, min_thresh=0.05):\n",
    "#     return np.where(pred > max((pred.mean() + scale_param * pred.std()), min_thresh))[0]\n",
    "#     return np.where(pred > max((pred[pred > 0.001].mean()), min_thresh))[0]\n",
    "#     return np.where(pred > max((pred.mean() + scale_param * pred.std()), min_thresh))[0]\n",
    "    mx = pred[np.where(pred > np.mean(sorted(pred)[:100]))].mean()\n",
    "    return np.where(pred > 0.04)[0]  # max(mx, 1e-9))[0]"
   ]
  },
  {
   "cell_type": "code",
   "execution_count": 294,
   "metadata": {},
   "outputs": [
    {
     "name": "stdout",
     "output_type": "stream",
     "text": [
      "5664/7578 [=====================>........] - ETA: 0sCPU times: user 712 ms, sys: 52 ms, total: 764 ms\n",
      "Wall time: 621 ms\n"
     ]
    }
   ],
   "source": [
    "%%time\n",
    "# valid_test_feature_vec found below!\n",
    "\n",
    "test_values = np.zeros([valid_test_feature_vec.shape[0], len(topics)])\n",
    "for ix, pred in enumerate(kmodel.predict_proba(sc.transform(np.vstack(valid_test_feature_vec)))):\n",
    "    for v in get_classes(pred, scale_param=0.75):\n",
    "        test_values[ix][v] = 1\n",
    "\n",
    "test_sub_df = pd.DataFrame(test_values, columns=sorted(topics), index=valid_test_feature_vec.index)\n",
    "for i in test_feature_vec[test_feature_vec.isnull()].index:\n",
    "    test_sub_df.ix[i] = np.zeros(len(topics))"
   ]
  },
  {
   "cell_type": "code",
   "execution_count": 295,
   "metadata": {},
   "outputs": [
    {
     "data": {
      "text/plain": [
       "10318.0"
      ]
     },
     "execution_count": 295,
     "metadata": {},
     "output_type": "execute_result"
    }
   ],
   "source": [
    "test_sub_df.sum(axis=1).sum()"
   ]
  },
  {
   "cell_type": "code",
   "execution_count": 296,
   "metadata": {
    "collapsed": true
   },
   "outputs": [],
   "source": [
    "test_sub_df.astype(int).reset_index().rename(columns={'index': 'id'}).sort_values('id').to_csv('basic_nn_submission_full_training_data_0.6217_validation_accuracy_categorical_crossentropy_fixed_threshold_0.04.csv', index=False)"
   ]
  },
  {
   "cell_type": "code",
   "execution_count": 254,
   "metadata": {
    "scrolled": true
   },
   "outputs": [
    {
     "data": {
      "text/plain": [
       "74677.0"
      ]
     },
     "execution_count": 254,
     "metadata": {},
     "output_type": "execute_result"
    }
   ],
   "source": [
    "test_sub_df.sum(axis=1).sum()"
   ]
  },
  {
   "cell_type": "code",
   "execution_count": 977,
   "metadata": {
    "scrolled": true
   },
   "outputs": [
    {
     "data": {
      "text/plain": [
       "34952.0"
      ]
     },
     "execution_count": 977,
     "metadata": {},
     "output_type": "execute_result"
    }
   ],
   "source": [
    "test_sub_df.sum(axis=1).sum()"
   ]
  },
  {
   "cell_type": "code",
   "execution_count": 219,
   "metadata": {
    "collapsed": true
   },
   "outputs": [],
   "source": [
    "top_submission = pd.read_csv('basic_nn_submission_0.649_accuracy_multi_class.csv')"
   ]
  },
  {
   "cell_type": "code",
   "execution_count": 220,
   "metadata": {
    "scrolled": true
   },
   "outputs": [
    {
     "data": {
      "text/plain": [
       "14328"
      ]
     },
     "execution_count": 220,
     "metadata": {},
     "output_type": "execute_result"
    }
   ],
   "source": [
    "top_submission.set_index('id').sum(axis=1).sum()"
   ]
  },
  {
   "cell_type": "code",
   "execution_count": 654,
   "metadata": {},
   "outputs": [
    {
     "data": {
      "text/html": [
       "<div>\n",
       "<table border=\"1\" class=\"dataframe\">\n",
       "  <thead>\n",
       "    <tr style=\"text-align: right;\">\n",
       "      <th></th>\n",
       "      <th>activism</th>\n",
       "      <th>afghanistan</th>\n",
       "      <th>aid</th>\n",
       "      <th>algerianhostagecrisis</th>\n",
       "      <th>alqaida</th>\n",
       "      <th>alshabaab</th>\n",
       "      <th>antiwar</th>\n",
       "      <th>arabandmiddleeastprotests</th>\n",
       "      <th>armstrade</th>\n",
       "      <th>australianguncontrol</th>\n",
       "      <th>...</th>\n",
       "      <th>unitednations</th>\n",
       "      <th>usguncontrol</th>\n",
       "      <th>values</th>\n",
       "      <th>warcrimes</th>\n",
       "      <th>warreporting</th>\n",
       "      <th>weaponstechnology</th>\n",
       "      <th>womeninbusiness</th>\n",
       "      <th>woolwichattack</th>\n",
       "      <th>worldmigration</th>\n",
       "      <th>zikavirus</th>\n",
       "    </tr>\n",
       "  </thead>\n",
       "  <tbody>\n",
       "    <tr>\n",
       "      <th>2003b_TrainingData_00068</th>\n",
       "      <td>NaN</td>\n",
       "      <td>NaN</td>\n",
       "      <td>NaN</td>\n",
       "      <td>NaN</td>\n",
       "      <td>NaN</td>\n",
       "      <td>NaN</td>\n",
       "      <td>NaN</td>\n",
       "      <td>NaN</td>\n",
       "      <td>NaN</td>\n",
       "      <td>NaN</td>\n",
       "      <td>...</td>\n",
       "      <td>NaN</td>\n",
       "      <td>NaN</td>\n",
       "      <td>NaN</td>\n",
       "      <td>NaN</td>\n",
       "      <td>NaN</td>\n",
       "      <td>NaN</td>\n",
       "      <td>NaN</td>\n",
       "      <td>NaN</td>\n",
       "      <td>NaN</td>\n",
       "      <td>NaN</td>\n",
       "    </tr>\n",
       "    <tr>\n",
       "      <th>2003b_TrainingData_00093</th>\n",
       "      <td>NaN</td>\n",
       "      <td>NaN</td>\n",
       "      <td>NaN</td>\n",
       "      <td>NaN</td>\n",
       "      <td>NaN</td>\n",
       "      <td>NaN</td>\n",
       "      <td>NaN</td>\n",
       "      <td>NaN</td>\n",
       "      <td>NaN</td>\n",
       "      <td>NaN</td>\n",
       "      <td>...</td>\n",
       "      <td>NaN</td>\n",
       "      <td>NaN</td>\n",
       "      <td>NaN</td>\n",
       "      <td>NaN</td>\n",
       "      <td>NaN</td>\n",
       "      <td>NaN</td>\n",
       "      <td>NaN</td>\n",
       "      <td>NaN</td>\n",
       "      <td>NaN</td>\n",
       "      <td>NaN</td>\n",
       "    </tr>\n",
       "    <tr>\n",
       "      <th>2003b_TrainingData_00100</th>\n",
       "      <td>NaN</td>\n",
       "      <td>NaN</td>\n",
       "      <td>NaN</td>\n",
       "      <td>NaN</td>\n",
       "      <td>NaN</td>\n",
       "      <td>NaN</td>\n",
       "      <td>NaN</td>\n",
       "      <td>NaN</td>\n",
       "      <td>NaN</td>\n",
       "      <td>NaN</td>\n",
       "      <td>...</td>\n",
       "      <td>NaN</td>\n",
       "      <td>NaN</td>\n",
       "      <td>NaN</td>\n",
       "      <td>NaN</td>\n",
       "      <td>NaN</td>\n",
       "      <td>NaN</td>\n",
       "      <td>NaN</td>\n",
       "      <td>NaN</td>\n",
       "      <td>NaN</td>\n",
       "      <td>NaN</td>\n",
       "    </tr>\n",
       "    <tr>\n",
       "      <th>2003b_TrainingData_00127</th>\n",
       "      <td>NaN</td>\n",
       "      <td>NaN</td>\n",
       "      <td>NaN</td>\n",
       "      <td>NaN</td>\n",
       "      <td>NaN</td>\n",
       "      <td>NaN</td>\n",
       "      <td>NaN</td>\n",
       "      <td>NaN</td>\n",
       "      <td>NaN</td>\n",
       "      <td>NaN</td>\n",
       "      <td>...</td>\n",
       "      <td>NaN</td>\n",
       "      <td>NaN</td>\n",
       "      <td>NaN</td>\n",
       "      <td>NaN</td>\n",
       "      <td>NaN</td>\n",
       "      <td>NaN</td>\n",
       "      <td>NaN</td>\n",
       "      <td>NaN</td>\n",
       "      <td>NaN</td>\n",
       "      <td>NaN</td>\n",
       "    </tr>\n",
       "    <tr>\n",
       "      <th>2003b_TrainingData_00132</th>\n",
       "      <td>NaN</td>\n",
       "      <td>NaN</td>\n",
       "      <td>NaN</td>\n",
       "      <td>NaN</td>\n",
       "      <td>NaN</td>\n",
       "      <td>NaN</td>\n",
       "      <td>NaN</td>\n",
       "      <td>NaN</td>\n",
       "      <td>NaN</td>\n",
       "      <td>NaN</td>\n",
       "      <td>...</td>\n",
       "      <td>NaN</td>\n",
       "      <td>NaN</td>\n",
       "      <td>NaN</td>\n",
       "      <td>NaN</td>\n",
       "      <td>NaN</td>\n",
       "      <td>NaN</td>\n",
       "      <td>NaN</td>\n",
       "      <td>NaN</td>\n",
       "      <td>NaN</td>\n",
       "      <td>NaN</td>\n",
       "    </tr>\n",
       "  </tbody>\n",
       "</table>\n",
       "<p>5 rows × 160 columns</p>\n",
       "</div>"
      ],
      "text/plain": [
       "                          activism afghanistan  aid algerianhostagecrisis  \\\n",
       "2003b_TrainingData_00068       NaN         NaN  NaN                   NaN   \n",
       "2003b_TrainingData_00093       NaN         NaN  NaN                   NaN   \n",
       "2003b_TrainingData_00100       NaN         NaN  NaN                   NaN   \n",
       "2003b_TrainingData_00127       NaN         NaN  NaN                   NaN   \n",
       "2003b_TrainingData_00132       NaN         NaN  NaN                   NaN   \n",
       "\n",
       "                         alqaida alshabaab antiwar arabandmiddleeastprotests  \\\n",
       "2003b_TrainingData_00068     NaN       NaN     NaN                       NaN   \n",
       "2003b_TrainingData_00093     NaN       NaN     NaN                       NaN   \n",
       "2003b_TrainingData_00100     NaN       NaN     NaN                       NaN   \n",
       "2003b_TrainingData_00127     NaN       NaN     NaN                       NaN   \n",
       "2003b_TrainingData_00132     NaN       NaN     NaN                       NaN   \n",
       "\n",
       "                         armstrade australianguncontrol    ...      \\\n",
       "2003b_TrainingData_00068       NaN                  NaN    ...       \n",
       "2003b_TrainingData_00093       NaN                  NaN    ...       \n",
       "2003b_TrainingData_00100       NaN                  NaN    ...       \n",
       "2003b_TrainingData_00127       NaN                  NaN    ...       \n",
       "2003b_TrainingData_00132       NaN                  NaN    ...       \n",
       "\n",
       "                         unitednations  usguncontrol values  warcrimes  \\\n",
       "2003b_TrainingData_00068           NaN           NaN    NaN        NaN   \n",
       "2003b_TrainingData_00093           NaN           NaN    NaN        NaN   \n",
       "2003b_TrainingData_00100           NaN           NaN    NaN        NaN   \n",
       "2003b_TrainingData_00127           NaN           NaN    NaN        NaN   \n",
       "2003b_TrainingData_00132           NaN           NaN    NaN        NaN   \n",
       "\n",
       "                         warreporting weaponstechnology womeninbusiness  \\\n",
       "2003b_TrainingData_00068          NaN               NaN             NaN   \n",
       "2003b_TrainingData_00093          NaN               NaN             NaN   \n",
       "2003b_TrainingData_00100          NaN               NaN             NaN   \n",
       "2003b_TrainingData_00127          NaN               NaN             NaN   \n",
       "2003b_TrainingData_00132          NaN               NaN             NaN   \n",
       "\n",
       "                         woolwichattack worldmigration  zikavirus  \n",
       "2003b_TrainingData_00068            NaN            NaN        NaN  \n",
       "2003b_TrainingData_00093            NaN            NaN        NaN  \n",
       "2003b_TrainingData_00100            NaN            NaN        NaN  \n",
       "2003b_TrainingData_00127            NaN            NaN        NaN  \n",
       "2003b_TrainingData_00132            NaN            NaN        NaN  \n",
       "\n",
       "[5 rows x 160 columns]"
      ]
     },
     "execution_count": 654,
     "metadata": {},
     "output_type": "execute_result"
    }
   ],
   "source": [
    "s = trainingY.head()[sorted(topics)]\n",
    "s[s.notnull()]"
   ]
  },
  {
   "cell_type": "code",
   "execution_count": 657,
   "metadata": {
    "scrolled": true
   },
   "outputs": [
    {
     "data": {
      "text/plain": [
       "(array([76]),)"
      ]
     },
     "execution_count": 657,
     "metadata": {},
     "output_type": "execute_result"
    }
   ],
   "source": [
    "np.where(s.values[0] == 1)"
   ]
  },
  {
   "cell_type": "code",
   "execution_count": 658,
   "metadata": {},
   "outputs": [
    {
     "data": {
      "text/plain": [
       "(array([0, 1, 2, 3, 4]), array([ 76,  76, 120,  76,  76]))"
      ]
     },
     "execution_count": 658,
     "metadata": {},
     "output_type": "execute_result"
    }
   ],
   "source": [
    "np.where(s.values == 1)"
   ]
  },
  {
   "cell_type": "code",
   "execution_count": 648,
   "metadata": {},
   "outputs": [
    {
     "name": "stdout",
     "output_type": "stream",
     "text": [
      "5/5 [==============================] - 0s\n"
     ]
    },
    {
     "data": {
      "text/plain": [
       "array([20, 22,  4, 25, 15])"
      ]
     },
     "execution_count": 648,
     "metadata": {},
     "output_type": "execute_result"
    }
   ],
   "source": [
    "(kmodel.predict_proba(sc.transform(np.vstack(fv.head()))) > 0.00035).sum(axis=1)  #.argmax(axis=1)"
   ]
  },
  {
   "cell_type": "code",
   "execution_count": 649,
   "metadata": {},
   "outputs": [
    {
     "name": "stdout",
     "output_type": "stream",
     "text": [
      "5/5 [==============================] - 0s\n"
     ]
    },
    {
     "data": {
      "text/plain": [
       "array([  8,   6, 120,  66,   6])"
      ]
     },
     "execution_count": 649,
     "metadata": {},
     "output_type": "execute_result"
    }
   ],
   "source": [
    "(kmodel.predict_proba(sc.transform(np.vstack(fv.head()))) > 0.002).argmax(axis=1)"
   ]
  },
  {
   "cell_type": "code",
   "execution_count": 660,
   "metadata": {},
   "outputs": [
    {
     "name": "stdout",
     "output_type": "stream",
     "text": [
      "5/5 [==============================] - 0s\n"
     ]
    },
    {
     "data": {
      "text/plain": [
       "(array([0, 0, 0, 1, 2, 3, 4]), array([ 34,  76,  98,  76, 120,  76,  76]))"
      ]
     },
     "execution_count": 660,
     "metadata": {},
     "output_type": "execute_result"
    }
   ],
   "source": [
    "p = (kmodel.predict_proba(sc.transform(np.vstack(fv.head()))) > 0.05)\n",
    "np.where(p == 1)"
   ]
  },
  {
   "cell_type": "code",
   "execution_count": 520,
   "metadata": {},
   "outputs": [
    {
     "name": "stdout",
     "output_type": "stream",
     "text": [
      "5/5 [==============================] - 0s\n"
     ]
    },
    {
     "data": {
      "text/plain": [
       "(array([0, 1, 2, 2, 3, 3, 4, 4, 4, 4]),\n",
       " array([ 66,  41,  70, 131, 116, 125,  56,  60, 104, 125]))"
      ]
     },
     "execution_count": 520,
     "metadata": {},
     "output_type": "execute_result"
    }
   ],
   "source": [
    "p = (kmodel.predict_proba(sc.transform(np.vstack(fv.head()))) > 0.1)\n",
    "np.where(p == 1)"
   ]
  },
  {
   "cell_type": "code",
   "execution_count": 623,
   "metadata": {},
   "outputs": [
    {
     "name": "stdout",
     "output_type": "stream",
     "text": [
      "19744/20000 [============================>.] - ETA: 0s"
     ]
    }
   ],
   "source": [
    "pred = kmodel.predict_proba(sc.transform(np.vstack(fv.head(20000))))"
   ]
  },
  {
   "cell_type": "code",
   "execution_count": 615,
   "metadata": {},
   "outputs": [
    {
     "data": {
      "text/plain": [
       "1097"
      ]
     },
     "execution_count": 615,
     "metadata": {},
     "output_type": "execute_result"
    }
   ],
   "source": [
    "w = trainingY.sum(axis=1)\n",
    "w[w > 4]\n",
    "list(trainingY.index).index('2003b_TrainingData_06155')"
   ]
  },
  {
   "cell_type": "code",
   "execution_count": 626,
   "metadata": {},
   "outputs": [
    {
     "data": {
      "text/plain": [
       "array([ 0.00528145,  0.00133199,  0.00523172, ...,  0.02053957,\n",
       "        0.00371951,  0.02733777], dtype=float32)"
      ]
     },
     "execution_count": 626,
     "metadata": {},
     "output_type": "execute_result"
    }
   ],
   "source": [
    "(pred.mean(axis=1) + pred.std(axis=1))"
   ]
  },
  {
   "cell_type": "code",
   "execution_count": 619,
   "metadata": {},
   "outputs": [
    {
     "data": {
      "text/plain": [
       "<matplotlib.axes._subplots.AxesSubplot at 0x7fa3bcaa2490>"
      ]
     },
     "execution_count": 619,
     "metadata": {},
     "output_type": "execute_result"
    },
    {
     "data": {
      "image/png": "[encoded data removed]",
      "text/plain": [
       "<matplotlib.figure.Figure at 0x7fa3bcab6410>"
      ]
     },
     "metadata": {},
     "output_type": "display_data"
    }
   ],
   "source": [
    "%matplotlib inline\n",
    "\n",
    "d = pd.Series(pred[1097])\n",
    "d.plot()"
   ]
  },
  {
   "cell_type": "code",
   "execution_count": 611,
   "metadata": {},
   "outputs": [
    {
     "data": {
      "text/plain": [
       "mean_topic_word_vec    [0.0123051404953, 0.206452871983, -0.198155286...\n",
       "topic_vec              [0.0357510633767, 0.139327511191, -0.103679254...\n",
       "Name: womeninbusiness, dtype: object"
      ]
     },
     "execution_count": 611,
     "metadata": {},
     "output_type": "execute_result"
    }
   ],
   "source": [
    "topic2vec_df.iloc[156]"
   ]
  },
  {
   "cell_type": "code",
   "execution_count": 12,
   "metadata": {
    "collapsed": true
   },
   "outputs": [],
   "source": []
  },
  {
   "cell_type": "code",
   "execution_count": 177,
   "metadata": {
    "collapsed": true
   },
   "outputs": [],
   "source": []
  },
  {
   "cell_type": "code",
   "execution_count": 84,
   "metadata": {
    "collapsed": true
   },
   "outputs": [],
   "source": [
    "term = 'carers'"
   ]
  },
  {
   "cell_type": "code",
   "execution_count": 85,
   "metadata": {},
   "outputs": [
    {
     "name": "stdout",
     "output_type": "stream",
     "text": [
      "0 carers 1.0\n",
      "1 refugees 0.389063198824\n",
      "2 localgovernment 0.37627013214\n",
      "3 internallydisplacedpeople 0.375560678373\n",
      "4 dataprotection 0.370663159257\n",
      "5 retirementage 0.349338655313\n",
      "6 womeninbusiness 0.343153673513\n",
      "7 internetsafety 0.336918630343\n",
      "8 humanrightsact 0.324758771034\n",
      "9 firefighters 0.322804412595\n",
      "10 stopandsearch 0.315840280675\n",
      "11 criminaljustice 0.310002540059\n",
      "12 humanrights 0.300932104298\n",
      "13 mrsa 0.295473746111\n",
      "14 aid 0.291590101467\n",
      "15 humantrafficking 0.287508626751\n",
      "16 tunisiaattack2015 0.284361925195\n",
      "17 conflictanddevelopment 0.284118755384\n",
      "18 arabandmiddleeastprotests 0.281470078213\n",
      "19 police 0.273878529706\n",
      "20 alshabaab 0.273604113167\n",
      "21 internationalcriminaljustice 0.270351269405\n",
      "22 drugs 0.268149501116\n",
      "23 immigration 0.267945141669\n",
      "24 organisedcrime 0.267628911836\n",
      "25 australiansecurityandcounterterrorism 0.267393702181\n",
      "26 peaceandreconciliation 0.266238809818\n",
      "27 migration 0.264363322042\n",
      "28 justiceandsecurity 0.262459314732\n",
      "29 europeancourtofhumanrights 0.257851881452\n",
      "30 humanitarianresponse 0.25702501298\n",
      "31 algerianhostagecrisis 0.255992462707\n",
      "32 ukcrime 0.251456566252\n",
      "33 ebola 0.244765703426\n",
      "34 undercoverpoliceandpolicing 0.243723472528\n",
      "35 worldmigration 0.24102979381\n",
      "36 naturaldisasters 0.236176530237\n",
      "37 middleeastpeacetalks 0.235600228267\n",
      "38 internationalcourtofjustice 0.234958838005\n",
      "39 torture 0.233123210707\n",
      "40 afghanistan 0.229978564797\n",
      "41 royalairforce 0.229193500608\n",
      "42 britisharmy 0.228464174506\n",
      "43 judiciary 0.227924910242\n",
      "44 berlinchristmasmarketattack 0.226927564804\n",
      "45 warcrimes 0.224552705631\n",
      "46 biometrics 0.22451007967\n",
      "47 somalia 0.222209660678\n",
      "48 bigdata 0.221696598017\n",
      "49 surveillance 0.221036926884\n",
      "50 uksecurity 0.220259555469\n",
      "51 farright 0.218681934847\n",
      "52 drugstrade 0.217289930347\n",
      "53 famine 0.212778458112\n",
      "54 orlandoterrorattack 0.212211942401\n",
      "55 drugspolicy 0.211775666045\n",
      "56 transport 0.211132050541\n",
      "57 syria 0.206938723268\n",
      "58 extradition 0.206900232922\n",
      "59 southchinasea 0.203043383126\n",
      "60 iraq 0.199571778678\n",
      "61 freedomofspeech 0.19945256847\n",
      "62 metropolitanpolice 0.199330262691\n",
      "63 israel 0.196795951225\n",
      "64 londonriots 0.196556466692\n",
      "65 libya 0.195419970647\n",
      "66 energy 0.194776823419\n",
      "67 philippines 0.194287566715\n",
      "68 terrorism 0.191004089466\n",
      "69 july7 0.189829242349\n",
      "70 weaponstechnology 0.188245737531\n",
      "71 bostonmarathonbombing 0.187732509558\n",
      "72 cybercrime 0.183788700703\n",
      "73 economy 0.183473620752\n",
      "74 religion 0.18272916305\n",
      "75 unitednations 0.179082303815\n",
      "76 clusterbombs 0.177395391027\n",
      "77 lebanon 0.177188971796\n",
      "78 royalnavy 0.17603165385\n",
      "79 taliban 0.175487714994\n",
      "80 southafrica 0.175182874633\n",
      "81 forensicscience 0.174812291906\n",
      "82 logistics 0.17212562852\n",
      "83 kenya 0.170889733109\n",
      "84 encryption 0.169716161921\n",
      "85 europeanarrestwarrant 0.169366016643\n",
      "86 slavery 0.168180207055\n",
      "87 warreporting 0.166580745609\n",
      "88 armstrade 0.166096954335\n",
      "89 brusselsattacks 0.165402346331\n",
      "90 francetrainattack 0.165181199519\n",
      "91 jubilee 0.164307627074\n",
      "92 knifecrime 0.163878381056\n",
      "93 thailand 0.163218440812\n",
      "94 australianguncontrol 0.162486707379\n",
      "95 london 0.161452084291\n",
      "96 mumbaiterrorattacks 0.160800367715\n",
      "97 malware 0.160544690925\n",
      "98 activism 0.159940224737\n",
      "99 guncrime 0.159684889361\n",
      "100 charliehebdoattack 0.159306576665\n",
      "101 osamabinladen 0.15908299945\n",
      "102 usguncontrol 0.158312253115\n",
      "103 darknet 0.156947189201\n",
      "104 september11 0.156418859734\n",
      "105 saudiarabia 0.156156284504\n",
      "106 uksupremecourt 0.15491153984\n",
      "107 alqaida 0.154870856361\n",
      "108 zikavirus 0.154588817045\n",
      "109 morocco 0.152132361102\n",
      "110 turkey 0.151976160565\n",
      "111 sanbernardinoshooting 0.151974860775\n",
      "112 parisattacks 0.15168394599\n",
      "113 woolwichattack 0.150909017084\n",
      "114 germany 0.146454326968\n",
      "115 events 0.145994824076\n",
      "116 values 0.145823420527\n",
      "117 munichshooting 0.145822794295\n",
      "118 hacking 0.144079815205\n",
      "119 debate 0.141637178606\n",
      "120 nigeria 0.14106803426\n",
      "121 genevaconventions 0.139143606604\n",
      "122 traincrashes 0.138507784719\n",
      "123 military 0.1370545901\n",
      "124 defence 0.131212268233\n",
      "125 antiwar 0.129918397047\n",
      "126 protest 0.127401615173\n",
      "127 russia 0.126519074846\n",
      "128 ethics 0.126095532121\n",
      "129 deflation 0.124886697444\n",
      "130 helicoptercrashes 0.124071525867\n",
      "131 chemicalweapons 0.123284755894\n",
      "132 france 0.123274084614\n",
      "133 mali 0.122959484646\n",
      "134 hashtags 0.122414510253\n",
      "135 india 0.119401281857\n",
      "136 cameroon 0.117568097375\n",
      "137 bastilledaytruckattack 0.117166424355\n",
      "138 egypt 0.114210260454\n",
      "139 drones 0.111350643101\n",
      "140 occupy 0.111227542989\n",
      "141 earthquakes 0.107907683023\n",
      "142 belgium 0.107751083277\n",
      "143 nuclearweapons 0.106672402582\n",
      "144 jordan 0.102704276621\n",
      "145 indonesia 0.101644505276\n",
      "146 planecrashes 0.0992924195943\n",
      "147 piracy 0.0972797766757\n",
      "148 bokoharam 0.0961798701694\n",
      "149 malaysia 0.0951325857933\n",
      "150 cyberwar 0.0945181764578\n",
      "151 rio20earthsummit 0.092128926766\n",
      "152 cobra 0.0889238028569\n",
      "153 sydneysiege 0.0856551698965\n",
      "154 ministryofdefence 0.0841185334521\n",
      "155 espionage 0.0793626180241\n",
      "156 turkeycoupattempt 0.0694743606145\n",
      "157 isis 0.0684717626497\n",
      "158 controversy 0.0560096051827\n",
      "159 paris 0.0462010102292\n"
     ]
    }
   ],
   "source": [
    "sim = cosine_similarity(topic2vec_df.ix[term].topic_vec.reshape(1, -1), np.vstack(topic2vec_df.topic_vec.values))\n",
    "for ix, i in enumerate(np.argsort(\n",
    "    sim,\n",
    ")[0][::-1]):\n",
    "    print ix, topic2vec_df.index[i], sim[0][i]"
   ]
  },
  {
   "cell_type": "code",
   "execution_count": 86,
   "metadata": {},
   "outputs": [
    {
     "name": "stdout",
     "output_type": "stream",
     "text": [
      "0 carers 1.0\n",
      "1 internallydisplacedpeople 0.407761171205\n",
      "2 refugees 0.389063198824\n",
      "3 localgovernment 0.363489016847\n",
      "4 womeninbusiness 0.355865897416\n",
      "5 dataprotection 0.350053618282\n",
      "6 retirementage 0.326280335061\n",
      "7 internetsafety 0.324591185233\n",
      "8 firefighters 0.322804412595\n",
      "9 justiceandsecurity 0.320618047704\n",
      "10 undercoverpoliceandpolicing 0.304777436573\n",
      "11 uksecurity 0.301790086298\n",
      "12 drugspolicy 0.296293663022\n",
      "13 mrsa 0.295473746111\n",
      "14 aid 0.291590101467\n",
      "15 humantrafficking 0.286392048106\n",
      "16 humanitarianresponse 0.28126094325\n",
      "17 ukcrime 0.281058875485\n",
      "18 conflictanddevelopment 0.279718137845\n",
      "19 humanrightsact 0.277735681261\n",
      "20 europeancourtofhumanrights 0.276791697228\n",
      "21 australiansecurityandcounterterrorism 0.274789561109\n",
      "22 police 0.273878529706\n",
      "23 criminaljustice 0.273558151121\n",
      "24 drugs 0.268149501116\n",
      "25 peaceandreconciliation 0.268063891638\n",
      "26 immigration 0.267945141669\n",
      "27 drugstrade 0.267841766765\n",
      "28 internationalcourtofjustice 0.265763738898\n",
      "29 migration 0.264363322042\n",
      "30 freedomofspeech 0.261435955059\n",
      "31 internationalcriminaljustice 0.253557313378\n",
      "32 metropolitanpolice 0.253386495268\n",
      "33 ebola 0.244765703426\n",
      "34 humanrights 0.243939929837\n",
      "35 stopandsearch 0.241938870304\n",
      "36 worldmigration 0.236715933523\n",
      "37 torture 0.233123210707\n",
      "38 afghanistan 0.229978564797\n",
      "39 judiciary 0.227924910242\n",
      "40 orlandoterrorattack 0.224654704834\n",
      "41 biometrics 0.22451007967\n",
      "42 uksupremecourt 0.224348806175\n",
      "43 somalia 0.222209660678\n",
      "44 francetrainattack 0.221772171239\n",
      "45 surveillance 0.221036926884\n",
      "46 berlinchristmasmarketattack 0.220080909084\n",
      "47 britisharmy 0.219350176353\n",
      "48 famine 0.212778458112\n",
      "49 bigdata 0.211898655672\n",
      "50 transport 0.211132050541\n",
      "51 syria 0.206938723268\n",
      "52 extradition 0.206900232922\n",
      "53 brusselsattacks 0.206259543808\n",
      "54 mumbaiterrorattacks 0.203514167064\n",
      "55 organisedcrime 0.20075273853\n",
      "56 iraq 0.199571778678\n",
      "57 zikavirus 0.199300353031\n",
      "58 farright 0.198693244794\n",
      "59 israel 0.196795951225\n",
      "60 forensicscience 0.196495927868\n",
      "61 traincrashes 0.196316924319\n",
      "62 libya 0.195419970647\n",
      "63 energy 0.194776823419\n",
      "64 algerianhostagecrisis 0.194319048412\n",
      "65 philippines 0.194287566715\n",
      "66 warreporting 0.194081129568\n",
      "67 warcrimes 0.193142556583\n",
      "68 terrorism 0.191004089466\n",
      "69 armstrade 0.188432162424\n",
      "70 arabandmiddleeastprotests 0.187616453834\n",
      "71 saudiarabia 0.184647219092\n",
      "72 royalairforce 0.184229305823\n",
      "73 cybercrime 0.183788700703\n",
      "74 economy 0.183473620752\n",
      "75 religion 0.18272916305\n",
      "76 weaponstechnology 0.181846518908\n",
      "77 usguncontrol 0.181481332137\n",
      "78 tunisiaattack2015 0.180500990242\n",
      "79 ministryofdefence 0.180222968328\n",
      "80 unitednations 0.180099863743\n",
      "81 middleeastpeacetalks 0.178283251206\n",
      "82 lebanon 0.177188971796\n",
      "83 july7 0.17623071187\n",
      "84 taliban 0.175487714994\n",
      "85 woolwichattack 0.173920659667\n",
      "86 logistics 0.17212562852\n",
      "87 rio20earthsummit 0.172038126403\n",
      "88 kenya 0.170889733109\n",
      "89 encryption 0.169716161921\n",
      "90 londonriots 0.168782309464\n",
      "91 bostonmarathonbombing 0.168684485438\n",
      "92 slavery 0.168180207055\n",
      "93 guncrime 0.167925469689\n",
      "94 royalnavy 0.167435364592\n",
      "95 alshabaab 0.166239766661\n",
      "96 jubilee 0.164307627074\n",
      "97 southchinasea 0.163780414008\n",
      "98 thailand 0.163218440812\n",
      "99 september11 0.161721826945\n",
      "100 knifecrime 0.161578173272\n",
      "101 london 0.161452084291\n",
      "102 malware 0.160544690925\n",
      "103 activism 0.159940224737\n",
      "104 bokoharam 0.157211140942\n",
      "105 darknet 0.156947189201\n",
      "106 nuclearweapons 0.155442121479\n",
      "107 charliehebdoattack 0.153630391444\n",
      "108 naturaldisasters 0.15358414766\n",
      "109 europeanarrestwarrant 0.152627077297\n",
      "110 morocco 0.152132361102\n",
      "111 turkey 0.151976160565\n",
      "112 genevaconventions 0.151198474549\n",
      "113 australianguncontrol 0.148638914822\n",
      "114 southafrica 0.147075022648\n",
      "115 germany 0.146454326968\n",
      "116 events 0.145994824076\n",
      "117 values 0.145823420527\n",
      "118 chemicalweapons 0.145233999687\n",
      "119 bastilledaytruckattack 0.14498558264\n",
      "120 hacking 0.144079815205\n",
      "121 alqaida 0.144074718561\n",
      "122 parisattacks 0.141882406192\n",
      "123 debate 0.141637178606\n",
      "124 nigeria 0.14106803426\n",
      "125 clusterbombs 0.138068897533\n",
      "126 military 0.1370545901\n",
      "127 helicoptercrashes 0.135135524652\n",
      "128 defence 0.131212268233\n",
      "129 sydneysiege 0.130192035416\n",
      "130 antiwar 0.129918397047\n",
      "131 protest 0.127401615173\n",
      "132 russia 0.126519074846\n",
      "133 ethics 0.126095532121\n",
      "134 osamabinladen 0.125072374375\n",
      "135 deflation 0.124886697444\n",
      "136 france 0.123274084614\n",
      "137 mali 0.122959484646\n",
      "138 india 0.119401281857\n",
      "139 cameroon 0.117568097375\n",
      "140 egypt 0.114210260454\n",
      "141 planecrashes 0.113915152412\n",
      "142 sanbernardinoshooting 0.113894209033\n",
      "143 drones 0.111350643101\n",
      "144 occupy 0.111227542989\n",
      "145 earthquakes 0.107907683023\n",
      "146 belgium 0.107751083277\n",
      "147 jordan 0.102704276621\n",
      "148 turkeycoupattempt 0.1024874403\n",
      "149 indonesia 0.101644505276\n",
      "150 piracy 0.0972797766757\n",
      "151 munichshooting 0.0959061054864\n",
      "152 malaysia 0.0951325857933\n",
      "153 cyberwar 0.0945181764578\n",
      "154 hashtags 0.0909540133748\n",
      "155 cobra 0.0889238028569\n",
      "156 espionage 0.0793626180241\n",
      "157 isis 0.0684717626497\n",
      "158 controversy 0.0560096051827\n",
      "159 paris 0.0462010102292\n"
     ]
    }
   ],
   "source": [
    "sim = cosine_similarity(topic2vec_df.ix[term].mean_topic_word_vec.reshape(1, -1), np.vstack(topic2vec_df.mean_topic_word_vec.values))\n",
    "\n",
    "for ix, i in enumerate(np.argsort(\n",
    "    sim\n",
    ")[0][::-1]):\n",
    "    print ix, topic2vec_df.index[i], sim[0][i]"
   ]
  },
  {
   "cell_type": "code",
   "execution_count": 83,
   "metadata": {},
   "outputs": [
    {
     "name": "stdout",
     "output_type": "stream",
     "text": [
      "helicoptercrashes 188\n",
      "cobra 35\n",
      "naturaldisasters 3760\n",
      "protest 6736\n",
      "retirementage 224\n",
      "london 15138\n",
      "biometrics 170\n",
      "debate 18\n",
      "police 8019\n",
      "saudiarabia 1664\n",
      "europeanarrestwarrant 87\n",
      "paris 219\n",
      "justiceandsecurity 152\n",
      "alqaida 3194\n",
      "earthquakes 872\n",
      "extradition 904\n",
      "dataprotection 1355\n",
      "torture 1839\n",
      "mumbaiterrorattacks 338\n",
      "judiciary 421\n",
      "taliban 2335\n",
      "genevaconventions 84\n",
      "warcrimes 1859\n",
      "freedomofspeech 1401\n",
      "carers 234\n",
      "usguncontrol 496\n",
      "alshabaab 149\n",
      "southchinasea 34\n",
      "australianguncontrol 3\n",
      "philippines 569\n",
      "slavery 660\n",
      "warreporting 688\n",
      "middleeastpeacetalks 219\n",
      "refugees 2710\n",
      "metropolitanpolice 2059\n",
      "logistics 151\n",
      "ukcrime 20516\n",
      "energy 720\n",
      "drones 579\n",
      "lebanon 1375\n",
      "chemicalweapons 344\n",
      "malaysia 597\n",
      "uksupremecourt 320\n",
      "migration 366\n",
      "humantrafficking 399\n",
      "guncrime 2710\n",
      "transport 11298\n",
      "afghanistan 10033\n",
      "defence 2467\n",
      "antiwar 645\n",
      "australiansecurityandcounterterrorism 92\n",
      "bigdata 141\n",
      "religion 16955\n",
      "organisedcrime 843\n",
      "somalia 1089\n",
      "ebola 506\n",
      "values 18\n",
      "bostonmarathonbombing 178\n",
      "espionage 815\n",
      "osamabinladen 925\n",
      "deflation 86\n",
      "darknet 24\n",
      "unitednations 5818\n",
      "aid 1892\n",
      "humanrights 7941\n",
      "iraq 20345\n",
      "algerianhostagecrisis 58\n",
      "libya 2859\n",
      "criminaljustice 3503\n",
      "controversy 173\n",
      "internationalcriminaljustice 867\n",
      "ministryofdefence 489\n",
      "encryption 34\n",
      "military 7570\n",
      "womeninbusiness 182\n",
      "woolwichattack 141\n",
      "egypt 2708\n",
      "royalairforce 582\n",
      "mrsa 270\n",
      "thailand 1040\n",
      "internetsafety 120\n",
      "arabandmiddleeastprotests 3578\n",
      "turkey 2232\n",
      "jubilee 175\n",
      "stopandsearch 211\n",
      "knifecrime 680\n",
      "france 9758\n",
      "occupy 681\n",
      "southafrica 3289\n",
      "royalnavy 359\n",
      "nigeria 1116\n",
      "israel 12793\n",
      "drugspolicy 842\n",
      "firefighters 615\n",
      "immigration 15302\n",
      "planecrashes 554\n",
      "belgium 496\n",
      "weaponstechnology 258\n",
      "clusterbombs 109\n",
      "famine 441\n",
      "isis 933\n",
      "morocco 266\n",
      "uksecurity 6841\n",
      "sydneysiege 42\n",
      "mali 347\n",
      "cybercrime 553\n",
      "hacking 1509\n",
      "farright 1892\n",
      "russia 9365\n",
      "drugstrade 1357\n",
      "internallydisplacedpeople 44\n",
      "hashtags 20\n",
      "india 5611\n",
      "europeancourtofhumanrights 530\n",
      "undercoverpoliceandpolicing 225\n",
      "kenya 1440\n",
      "bokoharam 187\n",
      "malware 211\n",
      "worldmigration 311\n",
      "piracy 948\n",
      "armstrade 1255\n",
      "localgovernment 3943\n",
      "humanitarianresponse 331\n",
      "surveillance 2227\n",
      "drugs 931\n",
      "britisharmy 498\n",
      "terrorism 4598\n",
      "cameroon 102\n",
      "events 579\n",
      "economy 14692\n",
      "nuclearweapons 1887\n",
      "traincrashes 50\n",
      "cyberwar 101\n",
      "germany 6059\n",
      "syria 4786\n",
      "ethics 695\n",
      "humanrightsact 342\n",
      "londonriots 1084\n",
      "rio20earthsummit 199\n",
      "indonesia 2035\n",
      "september11 4210\n",
      "conflictanddevelopment 592\n",
      "july7 1564\n",
      "forensicscience 178\n",
      "jordan 442\n",
      "internationalcourtofjustice 70\n"
     ]
    }
   ],
   "source": [
    "for i, j in topic_train_index.items():\n",
    "    print i, len(j)"
   ]
  },
  {
   "cell_type": "code",
   "execution_count": null,
   "metadata": {
    "collapsed": true
   },
   "outputs": [],
   "source": []
  },
  {
   "cell_type": "code",
   "execution_count": null,
   "metadata": {
    "collapsed": true
   },
   "outputs": [],
   "source": [
    "import fasttext\n",
    "from gensim.models.wrappers.fasttext import FastText\n",
    "import os\n",
    "from gensim.models import Word2Vec\n",
    "\n",
    "# MODELS_DIR = 'models/'\n",
    "# !mkdir -p {MODELS_DIR}\n",
    "\n",
    "num_proc = 7\n",
    "lr = 0.05\n",
    "dim = 300\n",
    "ws = 5\n",
    "epoch = 6\n",
    "minCount = 5\n",
    "neg = 10\n",
    "loss = 'ns'\n",
    "t = 1e-4\n",
    "\n",
    "# Same values as used for fastText training above\n",
    "params = {\n",
    "    'alpha': lr,\n",
    "    'size': dim,\n",
    "    'window': ws,\n",
    "    'iter': epoch,\n",
    "    'min_count': minCount,\n",
    "    'sample': t,\n",
    "    'sg': 1,\n",
    "    'hs': 0,\n",
    "    'negative': neg,\n",
    "    'workers': num_proc,\n",
    "}\n",
    "\n",
    "ft_params = {\n",
    "    'dim': dim,\n",
    "    'neg': neg,\n",
    "    'epoch': epoch,\n",
    "    'thread': num_proc,\n",
    "    'word_ngrams': 2,\n",
    "    'silent':0,\n",
    "    't': t,\n",
    "    'loss': loss,\n",
    "    'min_count': minCount,\n",
    "    'ws': ws,\n",
    "    'lr': lr,\n",
    "    'thread': num_proc,\n",
    "}\n",
    "\n",
    "# %time fs_model = fasttext.skipgram('train_body_data-with_labels_False-retain_special_chars_False.with_test_data.csv', 'train_body_data-with_labels_False-retain_special_chars_False.with_test_data.csv.fasttext.model', **ft_params)"
   ]
  },
  {
   "cell_type": "code",
   "execution_count": 57,
   "metadata": {},
   "outputs": [
    {
     "data": {
      "text/plain": [
       "(1600462, 3)"
      ]
     },
     "execution_count": 57,
     "metadata": {},
     "output_type": "execute_result"
    }
   ],
   "source": [
    "train_df.shape"
   ]
  },
  {
   "cell_type": "code",
   "execution_count": 30,
   "metadata": {
    "scrolled": true
   },
   "outputs": [
    {
     "data": {
      "text/plain": [
       "True"
      ]
     },
     "execution_count": 30,
     "metadata": {},
     "output_type": "execute_result"
    }
   ],
   "source": [
    "train_df.shape[0] == 1600462"
   ]
  },
  {
   "cell_type": "code",
   "execution_count": 212,
   "metadata": {
    "collapsed": true
   },
   "outputs": [],
   "source": [
    "with open('../data/TestData.json') as fl:\n",
    "    data = json.load(fl)\n",
    "    test_df = pd.DataFrame(data['TestData']).T"
   ]
  },
  {
   "cell_type": "code",
   "execution_count": 213,
   "metadata": {},
   "outputs": [
    {
     "name": "stderr",
     "output_type": "stream",
     "text": [
      "/home/avsolatorio/ml-ai/lib/python2.7/site-packages/ipykernel_launcher.py:1: RuntimeWarning: Mean of empty slice.\n",
      "  \"\"\"Entry point for launching an IPython kernel.\n",
      "/home/avsolatorio/ml-ai/local/lib/python2.7/site-packages/numpy/core/_methods.py:80: RuntimeWarning: invalid value encountered in double_scalars\n",
      "  ret = ret.dtype.type(ret / rcount)\n"
     ]
    },
    {
     "name": "stdout",
     "output_type": "stream",
     "text": [
      "CPU times: user 4min 50s, sys: 3.14 s, total: 4min 53s\n",
      "Wall time: 5min 25s\n"
     ]
    }
   ],
   "source": [
    "%%time\n",
    "test_feature_vec = transform_text(test_df).map(lambda x: np.array([fs_model[w] for w in x.split()]).mean(axis=0))"
   ]
  },
  {
   "cell_type": "code",
   "execution_count": 214,
   "metadata": {
    "collapsed": true
   },
   "outputs": [],
   "source": [
    "valid_test_feature_vec = test_feature_vec[test_feature_vec.notnull()]"
   ]
  },
  {
   "cell_type": "code",
   "execution_count": 444,
   "metadata": {},
   "outputs": [
    {
     "name": "stdout",
     "output_type": "stream",
     "text": [
      "\r",
      " 32/100 [========>.....................] - ETA: 0s"
     ]
    },
    {
     "data": {
      "text/plain": [
       "array([ 61,  10,  29,   0,  56,  76,   0, 118,  29,  29,  41,   0,   4,\n",
       "       117,   0,  60,  60,   4,   0,   0,   1,  61,   0,  90, 147,   2,\n",
       "        29,   1, 117, 118,   4,  77, 104,   2,  56,  56,   4,  56,   0,\n",
       "         0,  76,  56,  29,   0,   4,  56, 120, 120, 150,  56,   0,   0,\n",
       "        56,  10,  56,  56,   0,  56,  56,  56, 120,   0,  78,  56,   0,\n",
       "        76,  56,  56,  56,  56, 120,   0,   0,  56,  10,  56,  56,  56,\n",
       "        56,  56,  10,  56,   0,  56,   0, 120, 120,   0,   0,   0, 117,\n",
       "        56, 134, 118,  90,  56, 120,  56, 105,  32])"
      ]
     },
     "execution_count": 444,
     "metadata": {},
     "output_type": "execute_result"
    }
   ],
   "source": [
    "(kmodel.predict_proba(sc.transform(np.vstack(test_feature_vec.head(100)))) > 0.04).argmax(axis=1)"
   ]
  },
  {
   "cell_type": "code",
   "execution_count": 449,
   "metadata": {},
   "outputs": [
    {
     "name": "stdout",
     "output_type": "stream",
     "text": [
      "\r",
      " 32/100 [========>.....................] - ETA: 0s"
     ]
    },
    {
     "data": {
      "text/plain": [
       "array([ 61,  32,  29,   0,  56,  76,   0,   0,  29,  29,  41,   0,   4,\n",
       "         0,   0,  60,  60,   4,   0,   0,   1,  61,   0,  90, 147,   2,\n",
       "        29,   1,   0, 118,   4,  77, 104,  41,  56,  56,   4,  56,   0,\n",
       "         0,  76,   4,  29,   0,   4,  56,   0,   0, 119,  56,  56,   0,\n",
       "         4,  77,  56,  56,   0,  56,  56,  56,   0,   0,  77,  56,   0,\n",
       "        77,  56,  56,  56,  56, 120,   0, 147,  56,  77,  56,  56,  56,\n",
       "        56,  56,  32,  56,   0,  56,   0, 120,   0,   0,   0,   0, 146,\n",
       "         0, 147, 118,  90,  56,  77,  56,  16,  32])"
      ]
     },
     "execution_count": 449,
     "metadata": {},
     "output_type": "execute_result"
    }
   ],
   "source": [
    "(kmodel.predict_proba(sc.transform(np.vstack(test_feature_vec.head(100)))) > 0.04).argmax(axis=1)"
   ]
  },
  {
   "cell_type": "code",
   "execution_count": 451,
   "metadata": {
    "scrolled": true
   },
   "outputs": [
    {
     "data": {
      "text/html": [
       "<div>\n",
       "<table border=\"1\" class=\"dataframe\">\n",
       "  <thead>\n",
       "    <tr style=\"text-align: right;\">\n",
       "      <th></th>\n",
       "      <th>bodyText</th>\n",
       "      <th>topics</th>\n",
       "      <th>webPublicationDate</th>\n",
       "    </tr>\n",
       "  </thead>\n",
       "  <tbody>\n",
       "    <tr>\n",
       "      <th>TestData_00001</th>\n",
       "      <td>On 5 April, a two-year-old accidentally squeez...</td>\n",
       "      <td>[]</td>\n",
       "      <td>01-01-2015</td>\n",
       "    </tr>\n",
       "    <tr>\n",
       "      <th>TestData_00002</th>\n",
       "      <td>Looking back at 2014 from the perspective of a...</td>\n",
       "      <td>[]</td>\n",
       "      <td>01-01-2015</td>\n",
       "    </tr>\n",
       "    <tr>\n",
       "      <th>TestData_00003</th>\n",
       "      <td>A 22-year-old man arrested by police investiga...</td>\n",
       "      <td>[]</td>\n",
       "      <td>01-01-2015</td>\n",
       "    </tr>\n",
       "    <tr>\n",
       "      <th>TestData_00004</th>\n",
       "      <td>The place where nine-year-old Najia Warshaga l...</td>\n",
       "      <td>[]</td>\n",
       "      <td>01-01-2015</td>\n",
       "    </tr>\n",
       "    <tr>\n",
       "      <th>TestData_00005</th>\n",
       "      <td>The annual Beaujolais contest, the showcase fo...</td>\n",
       "      <td>[]</td>\n",
       "      <td>01-01-2015</td>\n",
       "    </tr>\n",
       "    <tr>\n",
       "      <th>TestData_00006</th>\n",
       "      <td>It would be comforting to think 2015 will brin...</td>\n",
       "      <td>[]</td>\n",
       "      <td>01-01-2015</td>\n",
       "    </tr>\n",
       "    <tr>\n",
       "      <th>TestData_00007</th>\n",
       "      <td>Just after 7pm on the evening of Saturday 28 M...</td>\n",
       "      <td>[]</td>\n",
       "      <td>02-01-2015</td>\n",
       "    </tr>\n",
       "    <tr>\n",
       "      <th>TestData_00008</th>\n",
       "      <td>Police are hunting gunmen who fired at a crowd...</td>\n",
       "      <td>[]</td>\n",
       "      <td>02-01-2015</td>\n",
       "    </tr>\n",
       "    <tr>\n",
       "      <th>TestData_00009</th>\n",
       "      <td>The US has imposed economic sanctions against ...</td>\n",
       "      <td>[]</td>\n",
       "      <td>02-01-2015</td>\n",
       "    </tr>\n",
       "    <tr>\n",
       "      <th>TestData_00010</th>\n",
       "      <td>Sony Entertainment is unable to confirm that h...</td>\n",
       "      <td>[]</td>\n",
       "      <td>02-01-2015</td>\n",
       "    </tr>\n",
       "    <tr>\n",
       "      <th>TestData_00011</th>\n",
       "      <td>HM: Hugh Muir JV: John Vidal SG: Suzanne Golde...</td>\n",
       "      <td>[]</td>\n",
       "      <td>02-01-2015</td>\n",
       "    </tr>\n",
       "    <tr>\n",
       "      <th>TestData_00012</th>\n",
       "      <td>January 5 Costa prize category winners announc...</td>\n",
       "      <td>[]</td>\n",
       "      <td>02-01-2015</td>\n",
       "    </tr>\n",
       "    <tr>\n",
       "      <th>TestData_00013</th>\n",
       "      <td>A Libyan man accused of masterminding the 1998...</td>\n",
       "      <td>[]</td>\n",
       "      <td>03-01-2015</td>\n",
       "    </tr>\n",
       "    <tr>\n",
       "      <th>TestData_00014</th>\n",
       "      <td>An African pensioner whose house was targeted ...</td>\n",
       "      <td>[]</td>\n",
       "      <td>04-01-2015</td>\n",
       "    </tr>\n",
       "    <tr>\n",
       "      <th>TestData_00015</th>\n",
       "      <td>He remains one of the most controversial scien...</td>\n",
       "      <td>[]</td>\n",
       "      <td>04-01-2015</td>\n",
       "    </tr>\n",
       "    <tr>\n",
       "      <th>TestData_00016</th>\n",
       "      <td>Dresden, the city where I lived for 10 years, ...</td>\n",
       "      <td>[]</td>\n",
       "      <td>04-01-2015</td>\n",
       "    </tr>\n",
       "    <tr>\n",
       "      <th>TestData_00017</th>\n",
       "      <td>Sitting on a wooden bench on a Dresden square ...</td>\n",
       "      <td>[]</td>\n",
       "      <td>04-01-2015</td>\n",
       "    </tr>\n",
       "    <tr>\n",
       "      <th>TestData_00018</th>\n",
       "      <td>Saudi Arabia is on alert for jihadi attacks af...</td>\n",
       "      <td>[]</td>\n",
       "      <td>05-01-2015</td>\n",
       "    </tr>\n",
       "    <tr>\n",
       "      <th>TestData_00019</th>\n",
       "      <td>Bright winter sunshine drenched the John Josep...</td>\n",
       "      <td>[]</td>\n",
       "      <td>05-01-2015</td>\n",
       "    </tr>\n",
       "    <tr>\n",
       "      <th>TestData_00020</th>\n",
       "      <td>First Valencia laid on a guard of honour for R...</td>\n",
       "      <td>[]</td>\n",
       "      <td>05-01-2015</td>\n",
       "    </tr>\n",
       "    <tr>\n",
       "      <th>TestData_00021</th>\n",
       "      <td>Whether the men on the fishing boat that sank ...</td>\n",
       "      <td>[]</td>\n",
       "      <td>05-01-2015</td>\n",
       "    </tr>\n",
       "    <tr>\n",
       "      <th>TestData_00022</th>\n",
       "      <td>Cleveland’s mayor says he doesn’t trust the st...</td>\n",
       "      <td>[]</td>\n",
       "      <td>05-01-2015</td>\n",
       "    </tr>\n",
       "    <tr>\n",
       "      <th>TestData_00023</th>\n",
       "      <td>Madonna is the original queen of pop media. Na...</td>\n",
       "      <td>[]</td>\n",
       "      <td>05-01-2015</td>\n",
       "    </tr>\n",
       "    <tr>\n",
       "      <th>TestData_00024</th>\n",
       "      <td>The Green party would scrap the building of ne...</td>\n",
       "      <td>[]</td>\n",
       "      <td>05-01-2015</td>\n",
       "    </tr>\n",
       "    <tr>\n",
       "      <th>TestData_00025</th>\n",
       "      <td>A fresh coalition row has broken out after Nic...</td>\n",
       "      <td>[]</td>\n",
       "      <td>06-01-2015</td>\n",
       "    </tr>\n",
       "    <tr>\n",
       "      <th>TestData_00026</th>\n",
       "      <td>In conjunction with the joint military action ...</td>\n",
       "      <td>[]</td>\n",
       "      <td>06-01-2015</td>\n",
       "    </tr>\n",
       "    <tr>\n",
       "      <th>TestData_00027</th>\n",
       "      <td>Sony’s CEO, Kaz Hirai, has spoken out about th...</td>\n",
       "      <td>[]</td>\n",
       "      <td>06-01-2015</td>\n",
       "    </tr>\n",
       "    <tr>\n",
       "      <th>TestData_00028</th>\n",
       "      <td>Special courts run by Pakistan’s army will try...</td>\n",
       "      <td>[]</td>\n",
       "      <td>06-01-2015</td>\n",
       "    </tr>\n",
       "    <tr>\n",
       "      <th>TestData_00029</th>\n",
       "      <td>The mother of a 12-year-old Cleveland boy shot...</td>\n",
       "      <td>[]</td>\n",
       "      <td>06-01-2015</td>\n",
       "    </tr>\n",
       "    <tr>\n",
       "      <th>TestData_00030</th>\n",
       "      <td>Los Angeles police broke up a protest outside ...</td>\n",
       "      <td>[]</td>\n",
       "      <td>06-01-2015</td>\n",
       "    </tr>\n",
       "    <tr>\n",
       "      <th>...</th>\n",
       "      <td>...</td>\n",
       "      <td>...</td>\n",
       "      <td>...</td>\n",
       "    </tr>\n",
       "    <tr>\n",
       "      <th>TestData_07552</th>\n",
       "      <td>The Aleppo Thaer al-Halabi left behind was a g...</td>\n",
       "      <td>[]</td>\n",
       "      <td>23-12-2016</td>\n",
       "    </tr>\n",
       "    <tr>\n",
       "      <th>TestData_07553</th>\n",
       "      <td>As the police officers looked at the body on P...</td>\n",
       "      <td>[]</td>\n",
       "      <td>23-12-2016</td>\n",
       "    </tr>\n",
       "    <tr>\n",
       "      <th>TestData_07554</th>\n",
       "      <td>British policy on Syria has been “wrong every ...</td>\n",
       "      <td>[]</td>\n",
       "      <td>23-12-2016</td>\n",
       "    </tr>\n",
       "    <tr>\n",
       "      <th>TestData_07555</th>\n",
       "      <td>A Serbian woman who survived what was said to ...</td>\n",
       "      <td>[]</td>\n",
       "      <td>24-12-2016</td>\n",
       "    </tr>\n",
       "    <tr>\n",
       "      <th>TestData_07556</th>\n",
       "      <td>Islamic State commanders in Syria have communi...</td>\n",
       "      <td>[]</td>\n",
       "      <td>24-12-2016</td>\n",
       "    </tr>\n",
       "    <tr>\n",
       "      <th>TestData_07557</th>\n",
       "      <td>Chibok girls are released by Boko Haram With a...</td>\n",
       "      <td>[]</td>\n",
       "      <td>24-12-2016</td>\n",
       "    </tr>\n",
       "    <tr>\n",
       "      <th>TestData_07558</th>\n",
       "      <td>The world must harness the power of love rathe...</td>\n",
       "      <td>[]</td>\n",
       "      <td>25-12-2016</td>\n",
       "    </tr>\n",
       "    <tr>\n",
       "      <th>TestData_07559</th>\n",
       "      <td>It has become known as the first genocide of t...</td>\n",
       "      <td>[]</td>\n",
       "      <td>25-12-2016</td>\n",
       "    </tr>\n",
       "    <tr>\n",
       "      <th>TestData_07560</th>\n",
       "      <td>A typhoon slammed into central Philippines lat...</td>\n",
       "      <td>[]</td>\n",
       "      <td>25-12-2016</td>\n",
       "    </tr>\n",
       "    <tr>\n",
       "      <th>TestData_07561</th>\n",
       "      <td>The Donald Trump victory, the fallout from Bre...</td>\n",
       "      <td>[]</td>\n",
       "      <td>26-12-2016</td>\n",
       "    </tr>\n",
       "    <tr>\n",
       "      <th>TestData_07562</th>\n",
       "      <td>A former News Corp journalist says she was for...</td>\n",
       "      <td>[]</td>\n",
       "      <td>27-12-2016</td>\n",
       "    </tr>\n",
       "    <tr>\n",
       "      <th>TestData_07563</th>\n",
       "      <td>Indian police arrested four men on Monday on s...</td>\n",
       "      <td>[]</td>\n",
       "      <td>27-12-2016</td>\n",
       "    </tr>\n",
       "    <tr>\n",
       "      <th>TestData_07564</th>\n",
       "      <td>The Palestinian president has expressed hope t...</td>\n",
       "      <td>[]</td>\n",
       "      <td>27-12-2016</td>\n",
       "    </tr>\n",
       "    <tr>\n",
       "      <th>TestData_07565</th>\n",
       "      <td>A Facebook safety check for Bangkok, which the...</td>\n",
       "      <td>[]</td>\n",
       "      <td>28-12-2016</td>\n",
       "    </tr>\n",
       "    <tr>\n",
       "      <th>TestData_07566</th>\n",
       "      <td>There is no evidence of a successful cyberatta...</td>\n",
       "      <td>[]</td>\n",
       "      <td>28-12-2016</td>\n",
       "    </tr>\n",
       "    <tr>\n",
       "      <th>TestData_07567</th>\n",
       "      <td>The Czech government is to set up a specialist...</td>\n",
       "      <td>[]</td>\n",
       "      <td>28-12-2016</td>\n",
       "    </tr>\n",
       "    <tr>\n",
       "      <th>TestData_07568</th>\n",
       "      <td>The Todd Carney cup for bad publicity in the N...</td>\n",
       "      <td>[]</td>\n",
       "      <td>28-12-2016</td>\n",
       "    </tr>\n",
       "    <tr>\n",
       "      <th>TestData_07569</th>\n",
       "      <td>The birth of Americana This year marked 40 yea...</td>\n",
       "      <td>[]</td>\n",
       "      <td>28-12-2016</td>\n",
       "    </tr>\n",
       "    <tr>\n",
       "      <th>TestData_07570</th>\n",
       "      <td>Naveed Baloch was crossing a road in central B...</td>\n",
       "      <td>[]</td>\n",
       "      <td>29-12-2016</td>\n",
       "    </tr>\n",
       "    <tr>\n",
       "      <th>TestData_07571</th>\n",
       "      <td>An airstrike by the US-led coalition operating...</td>\n",
       "      <td>[]</td>\n",
       "      <td>29-12-2016</td>\n",
       "    </tr>\n",
       "    <tr>\n",
       "      <th>TestData_07572</th>\n",
       "      <td>A century, a hundred years, a ton: whatever it...</td>\n",
       "      <td>[]</td>\n",
       "      <td>29-12-2016</td>\n",
       "    </tr>\n",
       "    <tr>\n",
       "      <th>TestData_07573</th>\n",
       "      <td>Six months after the international criminal co...</td>\n",
       "      <td>[]</td>\n",
       "      <td>29-12-2016</td>\n",
       "    </tr>\n",
       "    <tr>\n",
       "      <th>TestData_07574</th>\n",
       "      <td>As Lord Dubs has himself reflected (A&amp;nbsp;hos...</td>\n",
       "      <td>[]</td>\n",
       "      <td>29-12-2016</td>\n",
       "    </tr>\n",
       "    <tr>\n",
       "      <th>TestData_07575</th>\n",
       "      <td>Major western cities are tightening security f...</td>\n",
       "      <td>[]</td>\n",
       "      <td>30-12-2016</td>\n",
       "    </tr>\n",
       "    <tr>\n",
       "      <th>TestData_07576</th>\n",
       "      <td>What was Theresa May thinking in attacking the...</td>\n",
       "      <td>[]</td>\n",
       "      <td>30-12-2016</td>\n",
       "    </tr>\n",
       "    <tr>\n",
       "      <th>TestData_07577</th>\n",
       "      <td>Guards at the Faslane submarine base on the Cl...</td>\n",
       "      <td>[]</td>\n",
       "      <td>30-12-2016</td>\n",
       "    </tr>\n",
       "    <tr>\n",
       "      <th>TestData_07578</th>\n",
       "      <td>A ceasefire across Syria appeared to be holdin...</td>\n",
       "      <td>[]</td>\n",
       "      <td>30-12-2016</td>\n",
       "    </tr>\n",
       "    <tr>\n",
       "      <th>TestData_07579</th>\n",
       "      <td>Civil war. Climate change. Starvation. Natural...</td>\n",
       "      <td>[]</td>\n",
       "      <td>31-12-2016</td>\n",
       "    </tr>\n",
       "    <tr>\n",
       "      <th>TestData_07580</th>\n",
       "      <td>A tentative ceasefire is holding in most parts...</td>\n",
       "      <td>[]</td>\n",
       "      <td>31-12-2016</td>\n",
       "    </tr>\n",
       "    <tr>\n",
       "      <th>TestData_07581</th>\n",
       "      <td>The UN security council has unanimously adopte...</td>\n",
       "      <td>[]</td>\n",
       "      <td>31-12-2016</td>\n",
       "    </tr>\n",
       "  </tbody>\n",
       "</table>\n",
       "<p>7581 rows × 3 columns</p>\n",
       "</div>"
      ],
      "text/plain": [
       "                                                         bodyText topics  \\\n",
       "TestData_00001  On 5 April, a two-year-old accidentally squeez...     []   \n",
       "TestData_00002  Looking back at 2014 from the perspective of a...     []   \n",
       "TestData_00003  A 22-year-old man arrested by police investiga...     []   \n",
       "TestData_00004  The place where nine-year-old Najia Warshaga l...     []   \n",
       "TestData_00005  The annual Beaujolais contest, the showcase fo...     []   \n",
       "TestData_00006  It would be comforting to think 2015 will brin...     []   \n",
       "TestData_00007  Just after 7pm on the evening of Saturday 28 M...     []   \n",
       "TestData_00008  Police are hunting gunmen who fired at a crowd...     []   \n",
       "TestData_00009  The US has imposed economic sanctions against ...     []   \n",
       "TestData_00010  Sony Entertainment is unable to confirm that h...     []   \n",
       "TestData_00011  HM: Hugh Muir JV: John Vidal SG: Suzanne Golde...     []   \n",
       "TestData_00012  January 5 Costa prize category winners announc...     []   \n",
       "TestData_00013  A Libyan man accused of masterminding the 1998...     []   \n",
       "TestData_00014  An African pensioner whose house was targeted ...     []   \n",
       "TestData_00015  He remains one of the most controversial scien...     []   \n",
       "TestData_00016  Dresden, the city where I lived for 10 years, ...     []   \n",
       "TestData_00017  Sitting on a wooden bench on a Dresden square ...     []   \n",
       "TestData_00018  Saudi Arabia is on alert for jihadi attacks af...     []   \n",
       "TestData_00019  Bright winter sunshine drenched the John Josep...     []   \n",
       "TestData_00020  First Valencia laid on a guard of honour for R...     []   \n",
       "TestData_00021  Whether the men on the fishing boat that sank ...     []   \n",
       "TestData_00022  Cleveland’s mayor says he doesn’t trust the st...     []   \n",
       "TestData_00023  Madonna is the original queen of pop media. Na...     []   \n",
       "TestData_00024  The Green party would scrap the building of ne...     []   \n",
       "TestData_00025  A fresh coalition row has broken out after Nic...     []   \n",
       "TestData_00026  In conjunction with the joint military action ...     []   \n",
       "TestData_00027  Sony’s CEO, Kaz Hirai, has spoken out about th...     []   \n",
       "TestData_00028  Special courts run by Pakistan’s army will try...     []   \n",
       "TestData_00029  The mother of a 12-year-old Cleveland boy shot...     []   \n",
       "TestData_00030  Los Angeles police broke up a protest outside ...     []   \n",
       "...                                                           ...    ...   \n",
       "TestData_07552  The Aleppo Thaer al-Halabi left behind was a g...     []   \n",
       "TestData_07553  As the police officers looked at the body on P...     []   \n",
       "TestData_07554  British policy on Syria has been “wrong every ...     []   \n",
       "TestData_07555  A Serbian woman who survived what was said to ...     []   \n",
       "TestData_07556  Islamic State commanders in Syria have communi...     []   \n",
       "TestData_07557  Chibok girls are released by Boko Haram With a...     []   \n",
       "TestData_07558  The world must harness the power of love rathe...     []   \n",
       "TestData_07559  It has become known as the first genocide of t...     []   \n",
       "TestData_07560  A typhoon slammed into central Philippines lat...     []   \n",
       "TestData_07561  The Donald Trump victory, the fallout from Bre...     []   \n",
       "TestData_07562  A former News Corp journalist says she was for...     []   \n",
       "TestData_07563  Indian police arrested four men on Monday on s...     []   \n",
       "TestData_07564  The Palestinian president has expressed hope t...     []   \n",
       "TestData_07565  A Facebook safety check for Bangkok, which the...     []   \n",
       "TestData_07566  There is no evidence of a successful cyberatta...     []   \n",
       "TestData_07567  The Czech government is to set up a specialist...     []   \n",
       "TestData_07568  The Todd Carney cup for bad publicity in the N...     []   \n",
       "TestData_07569  The birth of Americana This year marked 40 yea...     []   \n",
       "TestData_07570  Naveed Baloch was crossing a road in central B...     []   \n",
       "TestData_07571  An airstrike by the US-led coalition operating...     []   \n",
       "TestData_07572  A century, a hundred years, a ton: whatever it...     []   \n",
       "TestData_07573  Six months after the international criminal co...     []   \n",
       "TestData_07574  As Lord Dubs has himself reflected (A&nbsp;hos...     []   \n",
       "TestData_07575  Major western cities are tightening security f...     []   \n",
       "TestData_07576  What was Theresa May thinking in attacking the...     []   \n",
       "TestData_07577  Guards at the Faslane submarine base on the Cl...     []   \n",
       "TestData_07578  A ceasefire across Syria appeared to be holdin...     []   \n",
       "TestData_07579  Civil war. Climate change. Starvation. Natural...     []   \n",
       "TestData_07580  A tentative ceasefire is holding in most parts...     []   \n",
       "TestData_07581  The UN security council has unanimously adopte...     []   \n",
       "\n",
       "               webPublicationDate  \n",
       "TestData_00001         01-01-2015  \n",
       "TestData_00002         01-01-2015  \n",
       "TestData_00003         01-01-2015  \n",
       "TestData_00004         01-01-2015  \n",
       "TestData_00005         01-01-2015  \n",
       "TestData_00006         01-01-2015  \n",
       "TestData_00007         02-01-2015  \n",
       "TestData_00008         02-01-2015  \n",
       "TestData_00009         02-01-2015  \n",
       "TestData_00010         02-01-2015  \n",
       "TestData_00011         02-01-2015  \n",
       "TestData_00012         02-01-2015  \n",
       "TestData_00013         03-01-2015  \n",
       "TestData_00014         04-01-2015  \n",
       "TestData_00015         04-01-2015  \n",
       "TestData_00016         04-01-2015  \n",
       "TestData_00017         04-01-2015  \n",
       "TestData_00018         05-01-2015  \n",
       "TestData_00019         05-01-2015  \n",
       "TestData_00020         05-01-2015  \n",
       "TestData_00021         05-01-2015  \n",
       "TestData_00022         05-01-2015  \n",
       "TestData_00023         05-01-2015  \n",
       "TestData_00024         05-01-2015  \n",
       "TestData_00025         06-01-2015  \n",
       "TestData_00026         06-01-2015  \n",
       "TestData_00027         06-01-2015  \n",
       "TestData_00028         06-01-2015  \n",
       "TestData_00029         06-01-2015  \n",
       "TestData_00030         06-01-2015  \n",
       "...                           ...  \n",
       "TestData_07552         23-12-2016  \n",
       "TestData_07553         23-12-2016  \n",
       "TestData_07554         23-12-2016  \n",
       "TestData_07555         24-12-2016  \n",
       "TestData_07556         24-12-2016  \n",
       "TestData_07557         24-12-2016  \n",
       "TestData_07558         25-12-2016  \n",
       "TestData_07559         25-12-2016  \n",
       "TestData_07560         25-12-2016  \n",
       "TestData_07561         26-12-2016  \n",
       "TestData_07562         27-12-2016  \n",
       "TestData_07563         27-12-2016  \n",
       "TestData_07564         27-12-2016  \n",
       "TestData_07565         28-12-2016  \n",
       "TestData_07566         28-12-2016  \n",
       "TestData_07567         28-12-2016  \n",
       "TestData_07568         28-12-2016  \n",
       "TestData_07569         28-12-2016  \n",
       "TestData_07570         29-12-2016  \n",
       "TestData_07571         29-12-2016  \n",
       "TestData_07572         29-12-2016  \n",
       "TestData_07573         29-12-2016  \n",
       "TestData_07574         29-12-2016  \n",
       "TestData_07575         30-12-2016  \n",
       "TestData_07576         30-12-2016  \n",
       "TestData_07577         30-12-2016  \n",
       "TestData_07578         30-12-2016  \n",
       "TestData_07579         31-12-2016  \n",
       "TestData_07580         31-12-2016  \n",
       "TestData_07581         31-12-2016  \n",
       "\n",
       "[7581 rows x 3 columns]"
      ]
     },
     "execution_count": 451,
     "metadata": {},
     "output_type": "execute_result"
    }
   ],
   "source": [
    "probe_sub = pd.DataFrame(columns=sample_sub.columns)\n",
    "probe_sub['id'] = test_df.index.values\n",
    "\n",
    "probe_sub[probe_sub.columns[1:]] = np.random.randint(2, size=(7581, 160))"
   ]
  },
  {
   "cell_type": "code",
   "execution_count": 493,
   "metadata": {},
   "outputs": [
    {
     "name": "stdout",
     "output_type": "stream",
     "text": [
      "7360/7578 [============================>.] - ETA: 0s"
     ]
    },
    {
     "data": {
      "text/plain": [
       "(array([   0,    1,    1, ..., 7577, 7577, 7577]),\n",
       " array([ 61,  32,  44, ...,  78, 136, 150]))"
      ]
     },
     "execution_count": 493,
     "metadata": {},
     "output_type": "execute_result"
    }
   ],
   "source": [
    "res = (kmodel.predict_proba(sc.transform(np.vstack(valid_test_feature_vec))) > 0.04)\n",
    "np.where(res == 1)"
   ]
  },
  {
   "cell_type": "code",
   "execution_count": 489,
   "metadata": {},
   "outputs": [
    {
     "name": "stdout",
     "output_type": "stream",
     "text": [
      "7488/7578 [============================>.] - ETA: 0s"
     ]
    }
   ],
   "source": [
    "test_values = np.zeros([valid_test_feature_vec.shape[0], len(topics)])\n",
    "for ix, v in enumerate((kmodel.predict_proba(sc.transform(np.vstack(valid_test_feature_vec))) > 0.04).argmax(axis=1)):\n",
    "    test_values[ix][v] = 1"
   ]
  },
  {
   "cell_type": "code",
   "execution_count": 505,
   "metadata": {},
   "outputs": [
    {
     "name": "stdout",
     "output_type": "stream",
     "text": [
      "7200/7578 [===========================>..] - ETA: 0s"
     ]
    }
   ],
   "source": [
    "test_values = np.zeros([valid_test_feature_vec.shape[0], len(topics)])\n",
    "for ix, v in zip(*np.where((kmodel.predict_proba(sc.transform(np.vstack(valid_test_feature_vec))) > 0.04))):\n",
    "    test_values[ix][v] = 1"
   ]
  },
  {
   "cell_type": "code",
   "execution_count": 627,
   "metadata": {},
   "outputs": [
    {
     "name": "stdout",
     "output_type": "stream",
     "text": [
      "7328/7578 [============================>.] - ETA: 0s"
     ]
    }
   ],
   "source": [
    "test_values = np.zeros([valid_test_feature_vec.shape[0], len(topics)])\n",
    "for ix, v in zip(*np.where((kmodel.predict_proba(sc.transform(np.vstack(valid_test_feature_vec))) > 0.002))):\n",
    "    test_values[ix][v] = 1"
   ]
  },
  {
   "cell_type": "code",
   "execution_count": 628,
   "metadata": {
    "collapsed": true,
    "scrolled": true
   },
   "outputs": [],
   "source": [
    "test_values = np.zeros([valid_test_feature_vec.shape[0], len(topics)])\n",
    "for ix, v in zip(*np.where((kmodel.predict_proba(sc.transform(np.vstack(valid_test_feature_vec))) > 0.002))):\n",
    "    test_values[ix][v] = 1\n",
    "\n",
    "test_sub_df = pd.DataFrame(test_values, columns=sorted(topics), index=valid_test_feature_vec.index)\n",
    "for i in test_feature_vec[test_feature_vec.isnull()].index:\n",
    "    test_sub_df.ix[i] = np.zeros(len(topics))"
   ]
  },
  {
   "cell_type": "code",
   "execution_count": null,
   "metadata": {
    "collapsed": true
   },
   "outputs": [],
   "source": []
  },
  {
   "cell_type": "code",
   "execution_count": 629,
   "metadata": {
    "collapsed": true
   },
   "outputs": [],
   "source": [
    "test_sub_df.astype(int).reset_index().rename(columns={'index': 'id'}).sort_values('id').to_csv('basic_nn_submission_0.7271_accuracy_multi_class_2003-2005_training_data.csv', index=False)"
   ]
  },
  {
   "cell_type": "code",
   "execution_count": null,
   "metadata": {
    "collapsed": true,
    "scrolled": true
   },
   "outputs": [],
   "source": []
  },
  {
   "cell_type": "code",
   "execution_count": null,
   "metadata": {
    "collapsed": true
   },
   "outputs": [],
   "source": []
  },
  {
   "cell_type": "code",
   "execution_count": null,
   "metadata": {
    "collapsed": true
   },
   "outputs": [],
   "source": []
  },
  {
   "cell_type": "code",
   "execution_count": 50,
   "metadata": {
    "collapsed": true,
    "scrolled": true
   },
   "outputs": [],
   "source": [
    "probe_sub = pd.DataFrame(columns=sample_sub.columns)\n",
    "probe_sub['id'] = test_df.index.values"
   ]
  },
  {
   "cell_type": "code",
   "execution_count": 63,
   "metadata": {
    "collapsed": true
   },
   "outputs": [],
   "source": [
    "probe_sub[probe_sub.columns[1:]] = np.random.randint(2, size=(7581, 160))"
   ]
  },
  {
   "cell_type": "code",
   "execution_count": 65,
   "metadata": {
    "collapsed": true
   },
   "outputs": [],
   "source": [
    "probe_sub.to_csv('probe_submission.csv', index=False)"
   ]
  },
  {
   "cell_type": "code",
   "execution_count": 120,
   "metadata": {},
   "outputs": [
    {
     "ename": "NameError",
     "evalue": "name 'test_df' is not defined",
     "output_type": "error",
     "traceback": [
      "\u001b[0;31m---------------------------------------------------------------------------\u001b[0m",
      "\u001b[0;31mNameError\u001b[0m                                 Traceback (most recent call last)",
      "\u001b[0;32m<ipython-input-120-fed9066f56a2>\u001b[0m in \u001b[0;36m<module>\u001b[0;34m()\u001b[0m\n\u001b[0;32m----> 1\u001b[0;31m \u001b[0mtest_df\u001b[0m\u001b[0;34m.\u001b[0m\u001b[0mhead\u001b[0m\u001b[0;34m(\u001b[0m\u001b[0;34m)\u001b[0m\u001b[0;34m\u001b[0m\u001b[0m\n\u001b[0m",
      "\u001b[0;31mNameError\u001b[0m: name 'test_df' is not defined"
     ]
    }
   ],
   "source": []
  },
  {
   "cell_type": "code",
   "execution_count": 119,
   "metadata": {},
   "outputs": [
    {
     "data": {
      "text/plain": [
       "3.933333333333333"
      ]
     },
     "execution_count": 119,
     "metadata": {},
     "output_type": "execute_result"
    }
   ],
   "source": [
    "(491.20 - 255.20) / 60"
   ]
  },
  {
   "cell_type": "code",
   "execution_count": null,
   "metadata": {
    "collapsed": true
   },
   "outputs": [],
   "source": []
  }
 ],
 "metadata": {
  "kernelspec": {
   "display_name": "Python 2",
   "language": "python",
   "name": "python2"
  },
  "language_info": {
   "codemirror_mode": {
    "name": "ipython",
    "version": 2
   },
   "file_extension": ".py",
   "mimetype": "text/x-python",
   "name": "python",
   "nbconvert_exporter": "python",
   "pygments_lexer": "ipython2",
   "version": "2.7.12"
  }
 },
 "nbformat": 4,
 "nbformat_minor": 2
}
