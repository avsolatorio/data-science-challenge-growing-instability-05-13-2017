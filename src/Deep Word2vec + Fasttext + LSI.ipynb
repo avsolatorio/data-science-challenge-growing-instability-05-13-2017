{
 "cells": [
  {
   "cell_type": "code",
   "execution_count": 1,
   "metadata": {},
   "outputs": [
    {
     "name": "stderr",
     "output_type": "stream",
     "text": [
      "Using TensorFlow backend.\n"
     ]
    }
   ],
   "source": [
    "from growing_instability_lib import *"
   ]
  },
  {
   "cell_type": "code",
   "execution_count": 2,
   "metadata": {},
   "outputs": [
    {
     "data": {
      "text/plain": [
       "160"
      ]
     },
     "execution_count": 2,
     "metadata": {},
     "output_type": "execute_result"
    }
   ],
   "source": [
    "sample_sub = pd.read_csv('../data/sampleSubmission.csv')\n",
    "topics = sorted(set(sample_sub.columns.difference(['id'])))\n",
    "\n",
    "topic2actual = {}\n",
    "for i in sample_sub.columns:\n",
    "    if 'id' == i:\n",
    "        continue\n",
    "    topic2actual[i] = segment(i)\n",
    "    \n",
    "target_columns = sorted(topics)\n",
    "len(topics)"
   ]
  },
  {
   "cell_type": "code",
   "execution_count": 4,
   "metadata": {},
   "outputs": [
    {
     "name": "stdout",
     "output_type": "stream",
     "text": [
      "CPU times: user 10.2 s, sys: 4.21 s, total: 14.4 s\n",
      "Wall time: 18.1 s\n"
     ]
    }
   ],
   "source": [
    "%%time\n",
    "wvec_trainingX = pd.read_hdf('training_data_wv_fs_lsi_no_stopwords.hdf', 'wvec_trainingX')\n",
    "fvec_trainingX = pd.read_hdf('training_data_wv_fs_lsi_no_stopwords.hdf', 'fvec_trainingX')\n",
    "\n",
    "tfidf_wvec_trainingX = pd.read_hdf('training_data_wv_fs_lsi_no_stopwords.hdf', 'tfidf_wvec_trainingX')\n",
    "tfidf_fvec_trainingX = pd.read_hdf('training_data_wv_fs_lsi_no_stopwords.hdf', 'tfidf_fvec_trainingX')\n",
    "tfidf_lsi_trainingX = pd.read_hdf('training_data_wv_fs_lsi_no_stopwords.hdf', 'tfidf_lsi_trainingX')\n",
    "\n",
    "word2idx_trainingX = pd.read_hdf('training_data_wv_fs_lsi_no_stopwords.hdf', 'word2idx_trainingX')\n",
    "_word2idx = pd.read_hdf('training_data_wv_fs_lsi_no_stopwords.hdf', '_word2idx')\n",
    "trainingY = pd.read_hdf('training_data_wv_fs_lsi_no_stopwords.hdf', 'trainingY')"
   ]
  },
  {
   "cell_type": "code",
   "execution_count": 5,
   "metadata": {
    "collapsed": true
   },
   "outputs": [],
   "source": [
    "# https://192.168.1.25:9999/notebooks/kaggle/data-science-challenge-growing-instability-05-13-2017/src/Topic%20Modeling%20and%20Clustering.ipynb\n",
    "train_test_df = pd.read_hdf('train_test_df_3.hdf', 'train_test_df')"
   ]
  },
  {
   "cell_type": "code",
   "execution_count": 6,
   "metadata": {
    "collapsed": true
   },
   "outputs": [],
   "source": [
    "def transform_topics(df, topics):\n",
    "    topics = sorted(topics)\n",
    "#     v = np.zeros(shape=(df.shape[0], len(topics)))\n",
    "    v = []\n",
    "    for ix, tp in enumerate(df.topics):\n",
    "        tt = []\n",
    "        for t in tp:\n",
    "            tt.append(topics.index(t))\n",
    "#             v[ix][topics.index(t)] = 1\n",
    "        v.append(tt)\n",
    "\n",
    "    return pd.Series(v, index=df.index)"
   ]
  },
  {
   "cell_type": "code",
   "execution_count": 16,
   "metadata": {},
   "outputs": [
    {
     "name": "stdout",
     "output_type": "stream",
     "text": [
      "Computing fs features...\n",
      "Current batch in main thread: 102\n",
      "Current batch in main thread: 221\n",
      "Computing wv features...\n",
      "Current batch in main thread: 102\n",
      "Current batch in main thread: 221\n",
      "Mapping word indices...\n",
      "Computing tfidf fs features...\n",
      "Current batch in main thread: 102\n",
      "Current batch in main thread: 221\n",
      "Computing tfidf wv features...\n",
      "Current batch in main thread: 102\n",
      "Current batch in main thread: 221\n",
      "Computing tfidf lsi features...\n",
      "Current batch in main thread: 102\n",
      "Current batch in main thread: 221\n"
     ]
    }
   ],
   "source": [
    "train_test_word_indices, train_test_wvec, train_test_fvec, train_test_tfidf_wvec, train_test_tfidf_fvec, train_test_tfidf_lsi = extract_features_for(\n",
    "    train_test_df\n",
    ")\n",
    "\n",
    "train_test_y = transform_topics(train_test_df, topics)"
   ]
  },
  {
   "cell_type": "code",
   "execution_count": 17,
   "metadata": {},
   "outputs": [
    {
     "name": "stdout",
     "output_type": "stream",
     "text": [
      "CPU times: user 11.3 s, sys: 252 ms, total: 11.6 s\n",
      "Wall time: 11.5 s\n"
     ]
    }
   ],
   "source": [
    "%%time\n",
    "ind2word = {j:i for i, j in _word2idx.iteritems()}\n",
    "ind2class = dict(enumerate(topics))\n",
    "class2ind = {j: i for i, j in ind2class.items()}\n",
    "\n",
    "num_samples = trainingY.shape[0]\n",
    "\n",
    "# ---------------------------------\n",
    "training_X = word2idx_trainingX.head(num_samples)\n",
    "training_Y = pd.DataFrame(zip(*np.where(trainingY.head(num_samples) == 1)), columns=['iloc', 'topics'])\n",
    "\n",
    "training_WV = wvec_trainingX.head(num_samples)\n",
    "training_FS = fvec_trainingX.head(num_samples)\n",
    "\n",
    "training_tfidf_WV = tfidf_wvec_trainingX.head(num_samples)\n",
    "training_tfidf_FS = tfidf_fvec_trainingX.head(num_samples)\n",
    "training_tfidf_LSI = tfidf_lsi_trainingX.head(num_samples)\n",
    "# ---------------------------------\n",
    "\n",
    "\n",
    "# ---------------------------------\n",
    "training_Y = training_Y.groupby('iloc')['topics'].apply(list)\n",
    "training_Y.index = trainingY.head(num_samples).index\n",
    "\n",
    "indices = sorted(training_Y.index[training_Y.index.str.contains('^201[0-9]')])\n",
    "# np.random.shuffle(indices)\n",
    "indices = pd.Index(indices)\n",
    "# ---------------------------------\n",
    "\n",
    "\n",
    "# ---------------------------------\n",
    "training_X = training_X.ix[indices]\n",
    "training_Y = training_Y.ix[indices]\n",
    "\n",
    "training_WV = training_WV.ix[indices]\n",
    "training_FS = training_FS.ix[indices]\n",
    "\n",
    "training_tfidf_WV = training_tfidf_WV.ix[indices]\n",
    "training_tfidf_FS = training_tfidf_FS.ix[indices]\n",
    "training_tfidf_LSI = training_tfidf_LSI.ix[indices]\n",
    "# ---------------------------------"
   ]
  },
  {
   "cell_type": "code",
   "execution_count": 18,
   "metadata": {},
   "outputs": [
    {
     "name": "stdout",
     "output_type": "stream",
     "text": [
      "CPU times: user 0 ns, sys: 0 ns, total: 0 ns\n",
      "Wall time: 9.06 µs\n"
     ]
    }
   ],
   "source": [
    "%%time\n",
    "wv_sc = StandardScaler()\n",
    "fs_sc = StandardScaler()\n",
    "\n",
    "tfidf_wv_sc = StandardScaler()\n",
    "tfidf_fs_sc = StandardScaler()\n",
    "tfidf_lsi_sc = StandardScaler()"
   ]
  },
  {
   "cell_type": "code",
   "execution_count": 162,
   "metadata": {
    "scrolled": true
   },
   "outputs": [
    {
     "name": "stdout",
     "output_type": "stream",
     "text": [
      "CPU times: user 1.78 s, sys: 228 ms, total: 2 s\n",
      "Wall time: 1.98 s\n"
     ]
    }
   ],
   "source": [
    "%%time\n",
    "\n",
    "from keras.preprocessing import sequence\n",
    "maxlen = 500\n",
    "\n",
    "\n",
    "def build_target(y, size):\n",
    "    e = np.zeros(size)\n",
    "    e[y] = 1\n",
    "    return e\n",
    "\n",
    "\n",
    "def build_input_output_data(X, WV, FS, TWV, TFS, TLSI, Y, maxlen):\n",
    "    x = sequence.pad_sequences(X, maxlen=maxlen)\n",
    "    y = np.vstack(Y.map(lambda x: build_target(x, len(topics))))\n",
    "\n",
    "    wv = np.vstack(WV)\n",
    "    fs = np.vstack(FS)\n",
    "\n",
    "    twv = np.vstack(TWV)\n",
    "    tfs = np.vstack(TFS)\n",
    "    tlsi = np.vstack(TLSI)\n",
    "\n",
    "    return x, wv, fs, twv, tfs, tlsi, y\n",
    "\n",
    "\n",
    "# ---------------------------------\n",
    "train_ix = training_Y.index.str.contains('^201[2-4]')\n",
    "val_ix = training_Y.index.str.contains('^2014[b]')\n",
    "# ---------------------------------\n",
    "\n",
    "\n",
    "# ---------------------------------\n",
    "x_train, wv_train, fs_train, tfidf_wv_train, tfidf_fs_train, tfidf_lsi_train, y_train = build_input_output_data(\n",
    "    training_X.ix[train_ix],\n",
    "\n",
    "    training_WV.ix[train_ix],\n",
    "    training_FS.ix[train_ix],\n",
    "\n",
    "    training_tfidf_WV.ix[train_ix],\n",
    "    training_tfidf_FS.ix[train_ix],\n",
    "    training_tfidf_LSI.ix[train_ix],\n",
    "\n",
    "    training_Y.ix[train_ix],\n",
    "    maxlen=maxlen\n",
    ")\n",
    "# ---------------------------------\n",
    "\n",
    "\n",
    "# ---------------------------------\n",
    "x_val, wv_val, fs_val, tfidf_wv_val, tfidf_fs_val, tfidf_lsi_val, y_val = build_input_output_data(\n",
    "    training_X.ix[val_ix],\n",
    "\n",
    "    training_WV.ix[val_ix],\n",
    "    training_FS.ix[val_ix],\n",
    "\n",
    "    training_tfidf_WV.ix[val_ix],\n",
    "    training_tfidf_FS.ix[val_ix],\n",
    "    training_tfidf_LSI.ix[val_ix],\n",
    "\n",
    "    training_Y.ix[val_ix],\n",
    "    maxlen=maxlen\n",
    ")\n",
    "# ---------------------------------"
   ]
  },
  {
   "cell_type": "code",
   "execution_count": 20,
   "metadata": {
    "collapsed": true
   },
   "outputs": [],
   "source": [
    "# ---------------------------------\n",
    "train_test_x_train, train_test_wv_train, train_test_fs_train, train_test_tfidf_wv_train, train_test_tfidf_fs_train, train_test_tfidf_lsi_train, train_test_y_train = build_input_output_data(\n",
    "    train_test_word_indices,\n",
    "\n",
    "    train_test_wvec,\n",
    "    train_test_fvec,\n",
    "\n",
    "    train_test_tfidf_wvec,\n",
    "    train_test_tfidf_fvec,\n",
    "    train_test_tfidf_lsi,\n",
    "\n",
    "    train_test_y,\n",
    "    maxlen=maxlen\n",
    ")\n",
    "# ---------------------------------"
   ]
  },
  {
   "cell_type": "code",
   "execution_count": 21,
   "metadata": {
    "collapsed": true
   },
   "outputs": [],
   "source": [
    "def upsample(x, N=3):\n",
    "    return np.vstack([x for i in xrange(N)])"
   ]
  },
  {
   "cell_type": "code",
   "execution_count": 163,
   "metadata": {
    "collapsed": true
   },
   "outputs": [],
   "source": [
    "x_train = np.vstack([x_train, upsample(train_test_x_train)])\n",
    "\n",
    "wv_train = np.vstack([wv_train, upsample(train_test_wv_train)])\n",
    "fs_train = np.vstack([fs_train, upsample(train_test_fs_train)])\n",
    "\n",
    "tfidf_wv_train = np.vstack([tfidf_wv_train, upsample(train_test_tfidf_wv_train)])\n",
    "tfidf_fs_train = np.vstack([tfidf_fs_train, upsample(train_test_tfidf_fs_train)])\n",
    "tfidf_lsi_train = np.vstack([tfidf_lsi_train, upsample(train_test_tfidf_lsi_train)])\n",
    "\n",
    "y_train = np.vstack([y_train, upsample(train_test_y_train)])"
   ]
  },
  {
   "cell_type": "code",
   "execution_count": 164,
   "metadata": {
    "collapsed": true
   },
   "outputs": [],
   "source": [
    "# ---------------------------------\n",
    "wv_train = wv_sc.fit_transform(wv_train)\n",
    "fs_train = fs_sc.fit_transform(fs_train)\n",
    "\n",
    "tfidf_wv_train = tfidf_wv_sc.fit_transform(tfidf_wv_train)\n",
    "tfidf_fs_train = tfidf_fs_sc.fit_transform(tfidf_fs_train)\n",
    "tfidf_lsi_train = tfidf_lsi_sc.fit_transform(tfidf_lsi_train)\n",
    "# ---------------------------------\n",
    "\n",
    "\n",
    "# ---------------------------------\n",
    "wv_val = wv_sc.transform(wv_val)\n",
    "fs_val = fs_sc.transform(fs_val)\n",
    "\n",
    "tfidf_wv_val = tfidf_wv_sc.transform(tfidf_wv_val)\n",
    "tfidf_fs_val = tfidf_fs_sc.transform(tfidf_fs_val)\n",
    "tfidf_lsi_val = tfidf_lsi_sc.transform(tfidf_lsi_val)\n",
    "# ---------------------------------"
   ]
  },
  {
   "cell_type": "code",
   "execution_count": 165,
   "metadata": {},
   "outputs": [
    {
     "data": {
      "text/plain": [
       "((94731,), (9424,))"
      ]
     },
     "execution_count": 165,
     "metadata": {},
     "output_type": "execute_result"
    }
   ],
   "source": [
    "training_Y.shape, training_Y.ix[training_Y.index.str.contains('^2014[b]')].shape"
   ]
  },
  {
   "cell_type": "code",
   "execution_count": 166,
   "metadata": {
    "collapsed": true
   },
   "outputs": [],
   "source": [
    "q = pd.DataFrame(y_train, columns=topics).sum()  #, index=training_Y.ix[train_ix].index).sum()"
   ]
  },
  {
   "cell_type": "code",
   "execution_count": 167,
   "metadata": {
    "scrolled": true
   },
   "outputs": [
    {
     "data": {
      "text/plain": [
       "afghanistan                              1430.0\n",
       "aid                                      1179.0\n",
       "algerianhostagecrisis                      58.0\n",
       "alqaida                                   641.0\n",
       "alshabaab                                 116.0\n",
       "antiwar                                    10.0\n",
       "arabandmiddleeastprotests                1474.0\n",
       "armstrade                                 239.0\n",
       "australianguncontrol                        3.0\n",
       "australiansecurityandcounterterrorism      92.0\n",
       "bastilledaytruckattack                     21.0\n",
       "belgium                                   118.0\n",
       "berlinchristmasmarketattack                15.0\n",
       "bigdata                                   141.0\n",
       "biometrics                                 22.0\n",
       "bokoharam                                 172.0\n",
       "bostonmarathonbombing                     178.0\n",
       "britisharmy                               226.0\n",
       "brusselsattacks                            45.0\n",
       "cameroon                                   46.0\n",
       "carers                                    135.0\n",
       "charliehebdoattack                         45.0\n",
       "chemicalweapons                           206.0\n",
       "clusterbombs                                6.0\n",
       "cobra                                      23.0\n",
       "conflictanddevelopment                    504.0\n",
       "controversy                                33.0\n",
       "criminaljustice                          1464.0\n",
       "cybercrime                                300.0\n",
       "cyberwar                                   73.0\n",
       "                                          ...  \n",
       "somalia                                   376.0\n",
       "southafrica                              1136.0\n",
       "southchinasea                              13.0\n",
       "stopandsearch                              47.0\n",
       "surveillance                             1468.0\n",
       "sydneysiege                                42.0\n",
       "syria                                    2848.0\n",
       "taliban                                   486.0\n",
       "terrorism                                 454.0\n",
       "thailand                                  269.0\n",
       "torture                                   421.0\n",
       "traincrashes                               28.0\n",
       "transport                                1687.0\n",
       "tunisiaattack2015                          45.0\n",
       "turkey                                    609.0\n",
       "turkeycoupattempt                          45.0\n",
       "ukcrime                                  3246.0\n",
       "uksecurity                               1211.0\n",
       "uksupremecourt                            145.0\n",
       "undercoverpoliceandpolicing               148.0\n",
       "unitednations                            1820.0\n",
       "usguncontrol                              401.0\n",
       "values                                     18.0\n",
       "warcrimes                                 272.0\n",
       "warreporting                              110.0\n",
       "weaponstechnology                          74.0\n",
       "womeninbusiness                           182.0\n",
       "woolwichattack                            141.0\n",
       "worldmigration                            176.0\n",
       "zikavirus                                  12.0\n",
       "dtype: float64"
      ]
     },
     "execution_count": 167,
     "metadata": {},
     "output_type": "execute_result"
    }
   ],
   "source": [
    "q[q > 0]"
   ]
  },
  {
   "cell_type": "code",
   "execution_count": 154,
   "metadata": {
    "scrolled": true
   },
   "outputs": [
    {
     "name": "stdout",
     "output_type": "stream",
     "text": [
      "45.0\n"
     ]
    }
   ],
   "source": [
    "print q[q > 0]['parisattacks']"
   ]
  },
  {
   "cell_type": "code",
   "execution_count": 156,
   "metadata": {
    "collapsed": true
   },
   "outputs": [],
   "source": [
    "# Compute for co-occurence probability and apply to the predictions"
   ]
  },
  {
   "cell_type": "code",
   "execution_count": 168,
   "metadata": {
    "scrolled": true
   },
   "outputs": [
    {
     "data": {
      "text/plain": [
       "array([  0.00000000e+00,   1.43000000e+03,   1.17900000e+03,\n",
       "         5.80000000e+01,   6.41000000e+02,   1.16000000e+02,\n",
       "         1.00000000e+01,   1.47400000e+03,   2.39000000e+02,\n",
       "         3.00000000e+00,   9.20000000e+01,   2.10000000e+01,\n",
       "         1.18000000e+02,   1.50000000e+01,   1.41000000e+02,\n",
       "         2.20000000e+01,   1.72000000e+02,   1.78000000e+02,\n",
       "         2.26000000e+02,   4.50000000e+01,   4.60000000e+01,\n",
       "         1.35000000e+02,   4.50000000e+01,   2.06000000e+02,\n",
       "         6.00000000e+00,   2.30000000e+01,   5.04000000e+02,\n",
       "         3.30000000e+01,   1.46400000e+03,   3.00000000e+02,\n",
       "         7.30000000e+01,   2.20000000e+01,   8.71000000e+02,\n",
       "         1.80000000e+01,   6.14000000e+02,   2.90000000e+01,\n",
       "         4.79000000e+02,   3.47000000e+02,   2.92000000e+02,\n",
       "         4.39000000e+02,   8.60000000e+01,   4.70000000e+02,\n",
       "         3.08600000e+03,   1.26700000e+03,   3.40000000e+01,\n",
       "         2.14000000e+02,   5.29000000e+02,   1.91000000e+02,\n",
       "         4.70000000e+01,   3.21000000e+02,   1.17000000e+02,\n",
       "         2.64000000e+02,   5.80000000e+01,   3.98000000e+02,\n",
       "         6.50000000e+01,   4.50000000e+01,   2.78100000e+03,\n",
       "         0.00000000e+00,   3.84000000e+02,   2.40000000e+01,\n",
       "         1.80200000e+03,   7.45000000e+02,   7.66000000e+02,\n",
       "         1.50000000e+01,   5.70000000e+01,   2.29000000e+02,\n",
       "         2.71600000e+03,   1.44000000e+02,   2.22000000e+02,\n",
       "         1.52800000e+03,   1.61500000e+03,   5.92000000e+02,\n",
       "         3.40000000e+01,   2.10000000e+01,   1.54000000e+02,\n",
       "         7.20000000e+01,   1.39200000e+03,   9.32000000e+02,\n",
       "         1.93000000e+03,   2.01000000e+02,   3.00000000e+00,\n",
       "         1.92000000e+02,   2.30000000e+01,   1.51000000e+02,\n",
       "         5.13000000e+02,   8.10000000e+01,   2.14000000e+02,\n",
       "         6.25000000e+02,   6.62000000e+02,   1.48000000e+02,\n",
       "         5.65300000e+03,   2.02000000e+02,   3.05000000e+02,\n",
       "         2.94000000e+02,   1.46000000e+02,   1.05000000e+03,\n",
       "         1.03000000e+02,   3.40000000e+02,   1.27200000e+03,\n",
       "         2.79000000e+02,   6.90000000e+01,   2.40000000e+01,\n",
       "         1.70000000e+01,   1.80000000e+01,   1.18700000e+03,\n",
       "         5.88000000e+02,   7.16000000e+02,   2.57000000e+02,\n",
       "         8.00000000e+01,   2.70000000e+01,   1.61000000e+02,\n",
       "         2.18000000e+02,   4.50000000e+01,   1.20000000e+01,\n",
       "         2.60000000e+02,   2.16000000e+02,   1.61000000e+02,\n",
       "         2.88200000e+03,   2.22700000e+03,   8.69000000e+02,\n",
       "         3.92600000e+03,   7.60000000e+01,   1.93000000e+02,\n",
       "         1.31000000e+02,   1.73000000e+02,   3.04100000e+03,\n",
       "         3.60000000e+01,   3.78000000e+02,   1.07000000e+02,\n",
       "         3.94000000e+02,   3.76000000e+02,   1.13600000e+03,\n",
       "         1.30000000e+01,   4.70000000e+01,   1.46800000e+03,\n",
       "         4.20000000e+01,   2.84800000e+03,   4.86000000e+02,\n",
       "         4.54000000e+02,   2.69000000e+02,   4.21000000e+02,\n",
       "         2.80000000e+01,   1.68700000e+03,   4.50000000e+01,\n",
       "         6.09000000e+02,   4.50000000e+01,   3.24600000e+03,\n",
       "         1.21100000e+03,   1.45000000e+02,   1.48000000e+02,\n",
       "         1.82000000e+03,   4.01000000e+02,   1.80000000e+01,\n",
       "         2.72000000e+02,   1.10000000e+02,   7.40000000e+01,\n",
       "         1.82000000e+02,   1.41000000e+02,   1.76000000e+02,\n",
       "         1.20000000e+01])"
      ]
     },
     "execution_count": 168,
     "metadata": {},
     "output_type": "execute_result"
    }
   ],
   "source": [
    "y_train.sum(axis=0)"
   ]
  },
  {
   "cell_type": "code",
   "execution_count": 170,
   "metadata": {},
   "outputs": [
    {
     "data": {
      "text/plain": [
       "array([ 1.,  2.,  1., ...,  1.,  1.,  1.])"
      ]
     },
     "execution_count": 170,
     "metadata": {},
     "output_type": "execute_result"
    }
   ],
   "source": [
    "y_train.sum(axis=1)"
   ]
  },
  {
   "cell_type": "code",
   "execution_count": null,
   "metadata": {
    "collapsed": true
   },
   "outputs": [],
   "source": []
  },
  {
   "cell_type": "code",
   "execution_count": 29,
   "metadata": {
    "collapsed": true
   },
   "outputs": [],
   "source": [
    "import tensorflow as K\n",
    "import keras.backend as KB\n",
    "\n",
    "\n",
    "def f1_micro(y_true, y_pred):\n",
    "    TP = K.metrics.true_positives(y_true, K.round(y_pred))\n",
    "    FP = K.metrics.false_positives(y_true, K.round(y_pred))\n",
    "    FN = K.metrics.false_negatives(y_true, K.round(y_pred))\n",
    "    \n",
    "    p = K.reduce_sum(TP) / (K.reduce_sum(TP) + K.reduce_sum(FP))\n",
    "    r = K.reduce_sum(TP) / (K.reduce_sum(TP) + K.reduce_sum(FN))\n",
    "    \n",
    "    return (2.0 * p * r) / (p + r)\n",
    "\n",
    "\n",
    "def f1_score(y_true, y_pred):\n",
    "    # http://stackoverflow.com/questions/43345909/when-using-mectrics-in-model-compile-in-keras-report-valueerror-unknown-metr\n",
    "    # Count positive samples.\n",
    "    c1 = KB.sum(KB.round(KB.clip(y_true * y_pred, 0, 1)))\n",
    "    c2 = KB.sum(KB.round(KB.clip(y_pred, 0, 1)))\n",
    "    c3 = KB.sum(KB.round(KB.clip(y_true, 0, 1)))\n",
    "\n",
    "    # If there are no true samples, fix the F1 score at 0.\n",
    "    if c3 == 0:\n",
    "        return 0\n",
    "\n",
    "    # How many selected items are relevant?\n",
    "    precision = c1 / c2\n",
    "\n",
    "    # How many relevant items are selected?\n",
    "    recall = c1 / c3\n",
    "\n",
    "    # Calculate f1_score\n",
    "    f1_score = 2 * (precision * recall) / (precision + recall)\n",
    "    return f1_score"
   ]
  },
  {
   "cell_type": "code",
   "execution_count": 277,
   "metadata": {
    "collapsed": true,
    "scrolled": true
   },
   "outputs": [],
   "source": [
    "from keras.layers import Input, Embedding, LSTM, Dense, Dropout, Convolution1D, MaxPooling1D, Flatten\n",
    "from keras.models import Model\n",
    "import itertools as it\n",
    "\n",
    "\n",
    "def build_deep_input_stack(input_node):\n",
    "    x = Dense(128, activation='tanh')(input_node)\n",
    "    x = Dropout(0.3)(x)\n",
    "    x = Dense(256, activation='relu')(input_node)\n",
    "    x = Dropout(0)(x)\n",
    "    x = Dense(512, activation='relu')(x)\n",
    "    x = Dropout(0.3)(x)\n",
    "    return x\n",
    "\n",
    "\n",
    "def entangle_inputs(input_nodes=[]):\n",
    "    assert(len(input_nodes) > 1)\n",
    "    \n",
    "    entangled_inputs = []\n",
    "\n",
    "    for n1, n2 in it.combinations(input_nodes, 2):\n",
    "        entangled_inputs.append(\n",
    "            keras.layers.dot([n1, n2], 1, normalize=True)\n",
    "        )\n",
    "    \n",
    "    return entangled_inputs\n",
    "\n",
    "\n",
    "wv_input = Input(shape=(300,), name='wv_input')\n",
    "fs_input = Input(shape=(300,), name='fs_input')\n",
    "\n",
    "tfidf_wv_input = Input(shape=(300,), name='tfidf_wv_input')\n",
    "tfidf_fs_input = Input(shape=(300,), name='tfidf_fs_input')\n",
    "tfidf_lsi_input = Input(shape=(300,), name='tfidf_lsi_input')\n",
    "\n",
    "\n",
    "wv_x = build_deep_input_stack(wv_input)\n",
    "fs_x = build_deep_input_stack(fs_input)\n",
    "tfidf_wv_x = build_deep_input_stack(tfidf_wv_input)\n",
    "tfidf_fs_x = build_deep_input_stack(tfidf_fs_input)\n",
    "tfidf_lsi_x = build_deep_input_stack(tfidf_wv_input)\n",
    "\n",
    "stacked_inputs_x = [wv_x, fs_x, tfidf_wv_x, tfidf_fs_x, tfidf_lsi_x]\n",
    "# stacked_inputs_x = [tfidf_wv_x, tfidf_fs_x, tfidf_lsi_x]\n",
    "entangled_inputs_x = entangle_inputs(stacked_inputs_x)\n",
    "\n",
    "e = keras.layers.concatenate(entangled_inputs_x)\n",
    "e = Dense(64, activation='tanh')(e)\n",
    "e = Dropout(0.5)(e)\n",
    "e = Dense(64, activation='relu')(e)\n",
    "e = Dropout(0.5)(e)\n",
    "\n",
    "# x = keras.layers.concatenate(stacked_inputs_x + entangled_inputs_x)\n",
    "x = keras.layers.concatenate(stacked_inputs_x + [e])\n",
    "\n",
    "\n",
    "# We stack a deep densely-connected network on top\n",
    "x = Dense(128, activation='tanh')(x)\n",
    "x = Dropout(0.3)(x)\n",
    "x = Dense(256, activation='relu')(x)\n",
    "x = Dropout(0)(x)\n",
    "x = Dense(256, activation='relu')(x)\n",
    "x = Dropout(0.3)(x)\n",
    "x = Dense(128, activation='relu')(x)\n",
    "x = Dropout(0)(x)\n",
    "\n",
    "# And finally we add the main logistic regression layer\n",
    "main_output = Dense(len(class2ind), activation='softmax', name='main_output')(x)\n",
    "\n",
    "model = Model(\n",
    "    inputs=[\n",
    "        wv_input,\n",
    "        fs_input,\n",
    "        tfidf_wv_input,\n",
    "        tfidf_fs_input,\n",
    "        tfidf_lsi_input,\n",
    "    ],\n",
    "    outputs=[main_output]\n",
    ")"
   ]
  },
  {
   "cell_type": "code",
   "execution_count": 278,
   "metadata": {},
   "outputs": [
    {
     "data": {
      "text/plain": [
       "[<tf.Tensor 'dot_41/ExpandDims:0' shape=(?, 1) dtype=float32>,\n",
       " <tf.Tensor 'dot_42/ExpandDims:0' shape=(?, 1) dtype=float32>,\n",
       " <tf.Tensor 'dot_43/ExpandDims:0' shape=(?, 1) dtype=float32>,\n",
       " <tf.Tensor 'dot_44/ExpandDims:0' shape=(?, 1) dtype=float32>,\n",
       " <tf.Tensor 'dot_45/ExpandDims:0' shape=(?, 1) dtype=float32>,\n",
       " <tf.Tensor 'dot_46/ExpandDims:0' shape=(?, 1) dtype=float32>,\n",
       " <tf.Tensor 'dot_47/ExpandDims:0' shape=(?, 1) dtype=float32>,\n",
       " <tf.Tensor 'dot_48/ExpandDims:0' shape=(?, 1) dtype=float32>,\n",
       " <tf.Tensor 'dot_49/ExpandDims:0' shape=(?, 1) dtype=float32>,\n",
       " <tf.Tensor 'dot_50/ExpandDims:0' shape=(?, 1) dtype=float32>]"
      ]
     },
     "execution_count": 278,
     "metadata": {},
     "output_type": "execute_result"
    }
   ],
   "source": [
    "entangled_inputs_x"
   ]
  },
  {
   "cell_type": "code",
   "execution_count": 279,
   "metadata": {
    "scrolled": true
   },
   "outputs": [
    {
     "name": "stdout",
     "output_type": "stream",
     "text": [
      "____________________________________________________________________________________________________\n",
      "Layer (type)                     Output Shape          Param #     Connected to                     \n",
      "====================================================================================================\n",
      "wv_input (InputLayer)            (None, 300)           0                                            \n",
      "____________________________________________________________________________________________________\n",
      "fs_input (InputLayer)            (None, 300)           0                                            \n",
      "____________________________________________________________________________________________________\n",
      "tfidf_wv_input (InputLayer)      (None, 300)           0                                            \n",
      "____________________________________________________________________________________________________\n",
      "tfidf_fs_input (InputLayer)      (None, 300)           0                                            \n",
      "____________________________________________________________________________________________________\n",
      "dense_84 (Dense)                 (None, 256)           77056                                        \n",
      "____________________________________________________________________________________________________\n",
      "dense_87 (Dense)                 (None, 256)           77056                                        \n",
      "____________________________________________________________________________________________________\n",
      "dense_90 (Dense)                 (None, 256)           77056                                        \n",
      "____________________________________________________________________________________________________\n",
      "dense_93 (Dense)                 (None, 256)           77056                                        \n",
      "____________________________________________________________________________________________________\n",
      "dense_96 (Dense)                 (None, 256)           77056                                        \n",
      "____________________________________________________________________________________________________\n",
      "dropout_84 (Dropout)             (None, 256)           0                                            \n",
      "____________________________________________________________________________________________________\n",
      "dropout_87 (Dropout)             (None, 256)           0                                            \n",
      "____________________________________________________________________________________________________\n",
      "dropout_90 (Dropout)             (None, 256)           0                                            \n",
      "____________________________________________________________________________________________________\n",
      "dropout_93 (Dropout)             (None, 256)           0                                            \n",
      "____________________________________________________________________________________________________\n",
      "dropout_96 (Dropout)             (None, 256)           0                                            \n",
      "____________________________________________________________________________________________________\n",
      "dense_85 (Dense)                 (None, 512)           131584                                       \n",
      "____________________________________________________________________________________________________\n",
      "dense_88 (Dense)                 (None, 512)           131584                                       \n",
      "____________________________________________________________________________________________________\n",
      "dense_91 (Dense)                 (None, 512)           131584                                       \n",
      "____________________________________________________________________________________________________\n",
      "dense_94 (Dense)                 (None, 512)           131584                                       \n",
      "____________________________________________________________________________________________________\n",
      "dense_97 (Dense)                 (None, 512)           131584                                       \n",
      "____________________________________________________________________________________________________\n",
      "dropout_85 (Dropout)             (None, 512)           0                                            \n",
      "____________________________________________________________________________________________________\n",
      "dropout_88 (Dropout)             (None, 512)           0                                            \n",
      "____________________________________________________________________________________________________\n",
      "dropout_91 (Dropout)             (None, 512)           0                                            \n",
      "____________________________________________________________________________________________________\n",
      "dropout_94 (Dropout)             (None, 512)           0                                            \n",
      "____________________________________________________________________________________________________\n",
      "dropout_97 (Dropout)             (None, 512)           0                                            \n",
      "____________________________________________________________________________________________________\n",
      "dot_41 (Dot)                     (None, 1)             0                                            \n",
      "____________________________________________________________________________________________________\n",
      "dot_42 (Dot)                     (None, 1)             0                                            \n",
      "____________________________________________________________________________________________________\n",
      "dot_43 (Dot)                     (None, 1)             0                                            \n",
      "____________________________________________________________________________________________________\n",
      "dot_44 (Dot)                     (None, 1)             0                                            \n",
      "____________________________________________________________________________________________________\n",
      "dot_45 (Dot)                     (None, 1)             0                                            \n",
      "____________________________________________________________________________________________________\n",
      "dot_46 (Dot)                     (None, 1)             0                                            \n",
      "____________________________________________________________________________________________________\n",
      "dot_47 (Dot)                     (None, 1)             0                                            \n",
      "____________________________________________________________________________________________________\n",
      "dot_48 (Dot)                     (None, 1)             0                                            \n",
      "____________________________________________________________________________________________________\n",
      "dot_49 (Dot)                     (None, 1)             0                                            \n",
      "____________________________________________________________________________________________________\n",
      "dot_50 (Dot)                     (None, 1)             0                                            \n",
      "____________________________________________________________________________________________________\n",
      "concatenate_8 (Concatenate)      (None, 10)            0                                            \n",
      "____________________________________________________________________________________________________\n",
      "dense_98 (Dense)                 (None, 64)            704                                          \n",
      "____________________________________________________________________________________________________\n",
      "dropout_98 (Dropout)             (None, 64)            0                                            \n",
      "____________________________________________________________________________________________________\n",
      "dense_99 (Dense)                 (None, 64)            4160                                         \n",
      "____________________________________________________________________________________________________\n",
      "dropout_99 (Dropout)             (None, 64)            0                                            \n",
      "____________________________________________________________________________________________________\n",
      "concatenate_9 (Concatenate)      (None, 2624)          0                                            \n",
      "____________________________________________________________________________________________________\n",
      "dense_100 (Dense)                (None, 128)           336000                                       \n",
      "____________________________________________________________________________________________________\n",
      "dropout_100 (Dropout)            (None, 128)           0                                            \n",
      "____________________________________________________________________________________________________\n",
      "dense_101 (Dense)                (None, 256)           33024                                        \n",
      "____________________________________________________________________________________________________\n",
      "dropout_101 (Dropout)            (None, 256)           0                                            \n",
      "____________________________________________________________________________________________________\n",
      "dense_102 (Dense)                (None, 256)           65792                                        \n",
      "____________________________________________________________________________________________________\n",
      "dropout_102 (Dropout)            (None, 256)           0                                            \n",
      "____________________________________________________________________________________________________\n",
      "dense_103 (Dense)                (None, 128)           32896                                        \n",
      "____________________________________________________________________________________________________\n",
      "dropout_103 (Dropout)            (None, 128)           0                                            \n",
      "____________________________________________________________________________________________________\n",
      "main_output (Dense)              (None, 160)           20640                                        \n",
      "====================================================================================================\n",
      "Total params: 1,536,416\n",
      "Trainable params: 1,536,416\n",
      "Non-trainable params: 0\n",
      "____________________________________________________________________________________________________\n"
     ]
    }
   ],
   "source": [
    "model.compile(\n",
    "    optimizer='rmsprop',  # keras.optimizers.RMSprop(lr=0.005),  # , rho=0.9, epsilon=1e-08, decay=0.0, clipnorm=1),\n",
    "    loss={'main_output': 'categorical_crossentropy'},\n",
    "    loss_weights={'main_output': 1.},\n",
    "    metrics=['accuracy', f1_micro]\n",
    ")\n",
    "\n",
    "model.summary()"
   ]
  },
  {
   "cell_type": "code",
   "execution_count": 280,
   "metadata": {
    "collapsed": true
   },
   "outputs": [],
   "source": [
    "# from keras.callbacks import EarlyStopping\n",
    "# early_stopping = EarlyStopping(monitor='val_loss', patience=2)\n",
    "# model.fit(X, y, validation_split=0.2, callbacks=[early_stopping])"
   ]
  },
  {
   "cell_type": "code",
   "execution_count": 281,
   "metadata": {
    "collapsed": true
   },
   "outputs": [],
   "source": [
    "def build_training_inputs(wv, fs, tfidf_wv, tfidf_fs, tfidf_lsi):\n",
    "    training_inputs = {\n",
    "        'wv_input': wv,\n",
    "        'fs_input': fs,\n",
    "        'tfidf_wv_input': tfidf_wv,\n",
    "        'tfidf_fs_input': tfidf_fs,\n",
    "        'tfidf_lsi_input': tfidf_lsi,\n",
    "    }\n",
    "    \n",
    "    return training_inputs\n",
    "    \n",
    "\n",
    "training_inputs = build_training_inputs(\n",
    "    wv_train,\n",
    "    fs_train,\n",
    "    tfidf_wv_train,\n",
    "    tfidf_fs_train,\n",
    "    tfidf_lsi_train,\n",
    ")\n",
    "\n",
    "training_outputs = {\n",
    "    'main_output': y_train,\n",
    "}\n",
    "\n",
    "# train_test_shape = train_test_df.shape[0]\n",
    "# train_test_training_inputs = build_training_inputs(\n",
    "#     wv_train[-train_test_shape:],\n",
    "#     fs_train[-train_test_shape:],\n",
    "#     tfidf_wv_train[-train_test_shape:],\n",
    "#     tfidf_fs_train[-train_test_shape:],\n",
    "#     tfidf_lsi_train[-train_test_shape:],\n",
    "# )\n",
    "\n",
    "# train_test_training_outputs = {\n",
    "#     'main_output': y_train[-train_test_shape:],\n",
    "# }\n",
    "\n",
    "\n",
    "validation_data=(\n",
    "    build_training_inputs(\n",
    "        wv_val,\n",
    "        fs_val,\n",
    "        tfidf_wv_val,\n",
    "        tfidf_fs_val,\n",
    "        tfidf_lsi_val,\n",
    "    ),\n",
    "    {\n",
    "        'main_output': y_val,\n",
    "    }\n",
    ")"
   ]
  },
  {
   "cell_type": "code",
   "execution_count": null,
   "metadata": {
    "collapsed": true
   },
   "outputs": [],
   "source": []
  },
  {
   "cell_type": "code",
   "execution_count": 294,
   "metadata": {
    "scrolled": true
   },
   "outputs": [
    {
     "name": "stdout",
     "output_type": "stream",
     "text": [
      "Train on 57243 samples, validate on 9424 samples\n",
      "Epoch 1/100\n",
      "57243/57243 [==============================] - 1s - loss: 1.1914 - acc: 0.7843 - f1_micro: 0.6585 - val_loss: 1.0730 - val_acc: 0.7926 - val_f1_micro: 0.6587\n",
      "Epoch 2/100\n",
      "57243/57243 [==============================] - 1s - loss: 1.1797 - acc: 0.7853 - f1_micro: 0.6589 - val_loss: 1.0622 - val_acc: 0.7989 - val_f1_micro: 0.6592\n",
      "Epoch 3/100\n",
      "57243/57243 [==============================] - 1s - loss: 1.1823 - acc: 0.7851 - f1_micro: 0.6594 - val_loss: 1.0717 - val_acc: 0.8011 - val_f1_micro: 0.6597\n",
      "Epoch 4/100\n",
      "57243/57243 [==============================] - 1s - loss: 1.1802 - acc: 0.7870 - f1_micro: 0.6599 - val_loss: 1.0717 - val_acc: 0.7971 - val_f1_micro: 0.6601\n",
      "Epoch 5/100\n",
      "57243/57243 [==============================] - 1s - loss: 1.1820 - acc: 0.7857 - f1_micro: 0.6603 - val_loss: 1.0843 - val_acc: 0.8075 - val_f1_micro: 0.6606\n",
      "Epoch 6/100\n",
      "57243/57243 [==============================] - 1s - loss: 1.1812 - acc: 0.7880 - f1_micro: 0.6608 - val_loss: 1.0851 - val_acc: 0.8328 - val_f1_micro: 0.6610\n",
      "Epoch 7/100\n",
      "57243/57243 [==============================] - 1s - loss: 1.1742 - acc: 0.7866 - f1_micro: 0.6612 - val_loss: 1.0670 - val_acc: 0.7972 - val_f1_micro: 0.6614\n",
      "Epoch 8/100\n",
      "57243/57243 [==============================] - 1s - loss: 1.1745 - acc: 0.7877 - f1_micro: 0.6616 - val_loss: 1.0705 - val_acc: 0.7882 - val_f1_micro: 0.6619\n",
      "Epoch 9/100\n",
      "57243/57243 [==============================] - 1s - loss: 1.1719 - acc: 0.7860 - f1_micro: 0.6621 - val_loss: 1.0825 - val_acc: 0.7923 - val_f1_micro: 0.6623\n",
      "Epoch 10/100\n",
      "57243/57243 [==============================] - 1s - loss: 1.1713 - acc: 0.7882 - f1_micro: 0.6625 - val_loss: 1.0829 - val_acc: 0.8183 - val_f1_micro: 0.6627\n",
      "Epoch 11/100\n",
      "57243/57243 [==============================] - 1s - loss: 1.1688 - acc: 0.7876 - f1_micro: 0.6629 - val_loss: 1.0627 - val_acc: 0.8245 - val_f1_micro: 0.6631\n",
      "Epoch 12/100\n",
      "57243/57243 [==============================] - 1s - loss: 1.1665 - acc: 0.7882 - f1_micro: 0.6633 - val_loss: 1.0618 - val_acc: 0.8127 - val_f1_micro: 0.6635\n",
      "Epoch 13/100\n",
      "57243/57243 [==============================] - 1s - loss: 1.1672 - acc: 0.7854 - f1_micro: 0.6637 - val_loss: 1.0573 - val_acc: 0.7935 - val_f1_micro: 0.6639\n",
      "Epoch 14/100\n",
      "57243/57243 [==============================] - 1s - loss: 1.1661 - acc: 0.7864 - f1_micro: 0.6641 - val_loss: 1.0524 - val_acc: 0.8007 - val_f1_micro: 0.6643\n",
      "Epoch 15/100\n",
      "57243/57243 [==============================] - 1s - loss: 1.1581 - acc: 0.7869 - f1_micro: 0.6645 - val_loss: 1.0609 - val_acc: 0.7910 - val_f1_micro: 0.6647\n",
      "Epoch 16/100\n",
      "57243/57243 [==============================] - 1s - loss: 1.1584 - acc: 0.7882 - f1_micro: 0.6649 - val_loss: 1.0618 - val_acc: 0.7849 - val_f1_micro: 0.6651\n",
      "Epoch 17/100\n",
      "57243/57243 [==============================] - 1s - loss: 1.1585 - acc: 0.7907 - f1_micro: 0.6653 - val_loss: 1.0446 - val_acc: 0.8110 - val_f1_micro: 0.6655\n",
      "Epoch 18/100\n",
      "57243/57243 [==============================] - 1s - loss: 1.1559 - acc: 0.7877 - f1_micro: 0.6656 - val_loss: 1.0544 - val_acc: 0.8131 - val_f1_micro: 0.6658\n",
      "Epoch 19/100\n",
      "57243/57243 [==============================] - 1s - loss: 1.1562 - acc: 0.7891 - f1_micro: 0.6660 - val_loss: 1.0479 - val_acc: 0.8326 - val_f1_micro: 0.6662\n",
      "Epoch 20/100\n",
      "57243/57243 [==============================] - 1s - loss: 1.1510 - acc: 0.7893 - f1_micro: 0.6664 - val_loss: 1.0454 - val_acc: 0.7909 - val_f1_micro: 0.6666\n",
      "Epoch 21/100\n",
      "57243/57243 [==============================] - 1s - loss: 1.1511 - acc: 0.7883 - f1_micro: 0.6668 - val_loss: 1.0471 - val_acc: 0.8348 - val_f1_micro: 0.6669\n",
      "Epoch 22/100\n",
      "57243/57243 [==============================] - 1s - loss: 1.1492 - acc: 0.7887 - f1_micro: 0.6671 - val_loss: 1.0343 - val_acc: 0.8025 - val_f1_micro: 0.6673\n",
      "Epoch 23/100\n",
      "57243/57243 [==============================] - 1s - loss: 1.1553 - acc: 0.7896 - f1_micro: 0.6674 - val_loss: 1.0350 - val_acc: 0.7978 - val_f1_micro: 0.6676\n",
      "Epoch 24/100\n",
      "57243/57243 [==============================] - 1s - loss: 1.1479 - acc: 0.7897 - f1_micro: 0.6678 - val_loss: 1.0457 - val_acc: 0.8051 - val_f1_micro: 0.6680\n",
      "Epoch 25/100\n",
      "57243/57243 [==============================] - 1s - loss: 1.1493 - acc: 0.7897 - f1_micro: 0.6681 - val_loss: 1.0493 - val_acc: 0.8086 - val_f1_micro: 0.6683\n",
      "Epoch 26/100\n",
      "57243/57243 [==============================] - 1s - loss: 1.1479 - acc: 0.7912 - f1_micro: 0.6685 - val_loss: 1.0367 - val_acc: 0.8200 - val_f1_micro: 0.6686\n",
      "Epoch 27/100\n",
      "57243/57243 [==============================] - 1s - loss: 1.1443 - acc: 0.7903 - f1_micro: 0.6688 - val_loss: 1.0438 - val_acc: 0.8139 - val_f1_micro: 0.6690\n",
      "Epoch 28/100\n",
      "57243/57243 [==============================] - 1s - loss: 1.1418 - acc: 0.7898 - f1_micro: 0.6691 - val_loss: 1.0452 - val_acc: 0.8343 - val_f1_micro: 0.6693\n",
      "Epoch 29/100\n",
      "57243/57243 [==============================] - 1s - loss: 1.1395 - acc: 0.7914 - f1_micro: 0.6695 - val_loss: 1.0352 - val_acc: 0.7840 - val_f1_micro: 0.6696\n",
      "Epoch 30/100\n",
      "57243/57243 [==============================] - 1s - loss: 1.1420 - acc: 0.7884 - f1_micro: 0.6698 - val_loss: 1.0361 - val_acc: 0.8072 - val_f1_micro: 0.6699\n",
      "Epoch 31/100\n",
      "57243/57243 [==============================] - 1s - loss: 1.1408 - acc: 0.7919 - f1_micro: 0.6701 - val_loss: 1.0344 - val_acc: 0.7953 - val_f1_micro: 0.6703\n",
      "Epoch 32/100\n",
      "57243/57243 [==============================] - 1s - loss: 1.1378 - acc: 0.7895 - f1_micro: 0.6704 - val_loss: 1.0555 - val_acc: 0.8319 - val_f1_micro: 0.6706\n",
      "Epoch 33/100\n",
      "57243/57243 [==============================] - 1s - loss: 1.1392 - acc: 0.7902 - f1_micro: 0.6707 - val_loss: 1.0239 - val_acc: 0.8121 - val_f1_micro: 0.6709\n",
      "Epoch 34/100\n",
      "57243/57243 [==============================] - 1s - loss: 1.1359 - acc: 0.7894 - f1_micro: 0.6710 - val_loss: 1.0242 - val_acc: 0.7907 - val_f1_micro: 0.6712\n",
      "Epoch 35/100\n",
      "57243/57243 [==============================] - 1s - loss: 1.1345 - acc: 0.7884 - f1_micro: 0.6713 - val_loss: 1.0201 - val_acc: 0.7948 - val_f1_micro: 0.6715\n",
      "Epoch 36/100\n",
      "57243/57243 [==============================] - 1s - loss: 1.1304 - acc: 0.7910 - f1_micro: 0.6716 - val_loss: 1.0460 - val_acc: 0.8334 - val_f1_micro: 0.6718\n",
      "Epoch 37/100\n",
      "57243/57243 [==============================] - 1s - loss: 1.1318 - acc: 0.7909 - f1_micro: 0.6719 - val_loss: 1.0414 - val_acc: 0.8057 - val_f1_micro: 0.6721\n",
      "Epoch 38/100\n",
      "57243/57243 [==============================] - 1s - loss: 1.1323 - acc: 0.7902 - f1_micro: 0.6722 - val_loss: 1.0242 - val_acc: 0.8101 - val_f1_micro: 0.6724\n",
      "Epoch 39/100\n",
      "57243/57243 [==============================] - 1s - loss: 1.1288 - acc: 0.7907 - f1_micro: 0.6725 - val_loss: 1.0268 - val_acc: 0.8081 - val_f1_micro: 0.6726\n",
      "Epoch 40/100\n",
      "57243/57243 [==============================] - 1s - loss: 1.1308 - acc: 0.7919 - f1_micro: 0.6728 - val_loss: 1.0354 - val_acc: 0.8075 - val_f1_micro: 0.6729\n",
      "Epoch 41/100\n",
      "57243/57243 [==============================] - 1s - loss: 1.1312 - acc: 0.7911 - f1_micro: 0.6731 - val_loss: 1.0402 - val_acc: 0.7979 - val_f1_micro: 0.6732\n",
      "Epoch 42/100\n",
      "57243/57243 [==============================] - 1s - loss: 1.1319 - acc: 0.7926 - f1_micro: 0.6733 - val_loss: 1.0274 - val_acc: 0.8214 - val_f1_micro: 0.6735\n",
      "Epoch 43/100\n",
      "57243/57243 [==============================] - 1s - loss: 1.1275 - acc: 0.7923 - f1_micro: 0.6736 - val_loss: 1.0215 - val_acc: 0.7948 - val_f1_micro: 0.6737\n",
      "Epoch 44/100\n",
      "57243/57243 [==============================] - 1s - loss: 1.1239 - acc: 0.7909 - f1_micro: 0.6739 - val_loss: 1.0423 - val_acc: 0.8061 - val_f1_micro: 0.6740\n",
      "Epoch 45/100\n",
      "57243/57243 [==============================] - 1s - loss: 1.1276 - acc: 0.7922 - f1_micro: 0.6741 - val_loss: 1.0177 - val_acc: 0.8207 - val_f1_micro: 0.6743\n",
      "Epoch 46/100\n",
      "57243/57243 [==============================] - 1s - loss: 1.1205 - acc: 0.7934 - f1_micro: 0.6744 - val_loss: 1.0170 - val_acc: 0.8256 - val_f1_micro: 0.6746\n",
      "Epoch 47/100\n",
      "57243/57243 [==============================] - 1s - loss: 1.1157 - acc: 0.7946 - f1_micro: 0.6747 - val_loss: 1.0285 - val_acc: 0.7935 - val_f1_micro: 0.6748\n",
      "Epoch 48/100\n"
     ]
    },
    {
     "name": "stdout",
     "output_type": "stream",
     "text": [
      "57243/57243 [==============================] - 1s - loss: 1.1241 - acc: 0.7930 - f1_micro: 0.6749 - val_loss: 1.0174 - val_acc: 0.8018 - val_f1_micro: 0.6751\n",
      "Epoch 49/100\n",
      "57243/57243 [==============================] - 1s - loss: 1.1197 - acc: 0.7925 - f1_micro: 0.6752 - val_loss: 1.0272 - val_acc: 0.7973 - val_f1_micro: 0.6753\n",
      "Epoch 50/100\n",
      "57243/57243 [==============================] - 1s - loss: 1.1204 - acc: 0.7898 - f1_micro: 0.6754 - val_loss: 1.0283 - val_acc: 0.8276 - val_f1_micro: 0.6756\n",
      "Epoch 51/100\n",
      "57243/57243 [==============================] - 1s - loss: 1.1225 - acc: 0.7920 - f1_micro: 0.6757 - val_loss: 1.0170 - val_acc: 0.8021 - val_f1_micro: 0.6758\n",
      "Epoch 52/100\n",
      "57243/57243 [==============================] - 1s - loss: 1.1199 - acc: 0.7922 - f1_micro: 0.6759 - val_loss: 1.0115 - val_acc: 0.7843 - val_f1_micro: 0.6760\n",
      "Epoch 53/100\n",
      "57243/57243 [==============================] - 1s - loss: 1.1181 - acc: 0.7897 - f1_micro: 0.6761 - val_loss: 1.0151 - val_acc: 0.7930 - val_f1_micro: 0.6763\n",
      "Epoch 54/100\n",
      "57243/57243 [==============================] - 1s - loss: 1.1171 - acc: 0.7923 - f1_micro: 0.6764 - val_loss: 1.0081 - val_acc: 0.7921 - val_f1_micro: 0.6765\n",
      "Epoch 55/100\n",
      "57243/57243 [==============================] - 1s - loss: 1.1142 - acc: 0.7917 - f1_micro: 0.6766 - val_loss: 1.0110 - val_acc: 0.7905 - val_f1_micro: 0.6767\n",
      "Epoch 56/100\n",
      "57243/57243 [==============================] - 1s - loss: 1.1152 - acc: 0.7947 - f1_micro: 0.6769 - val_loss: 1.0101 - val_acc: 0.8133 - val_f1_micro: 0.6770\n",
      "Epoch 57/100\n",
      "57243/57243 [==============================] - 1s - loss: 1.1129 - acc: 0.7921 - f1_micro: 0.6771 - val_loss: 1.0129 - val_acc: 0.8224 - val_f1_micro: 0.6772\n",
      "Epoch 58/100\n",
      "57243/57243 [==============================] - 1s - loss: 1.1137 - acc: 0.7954 - f1_micro: 0.6773 - val_loss: 1.0067 - val_acc: 0.8174 - val_f1_micro: 0.6774\n",
      "Epoch 59/100\n",
      "57243/57243 [==============================] - 1s - loss: 1.1122 - acc: 0.7934 - f1_micro: 0.6775 - val_loss: 1.0059 - val_acc: 0.8083 - val_f1_micro: 0.6776\n",
      "Epoch 60/100\n",
      "57243/57243 [==============================] - 1s - loss: 1.1110 - acc: 0.7924 - f1_micro: 0.6777 - val_loss: 1.0042 - val_acc: 0.8142 - val_f1_micro: 0.6779\n",
      "Epoch 61/100\n",
      "57243/57243 [==============================] - 1s - loss: 1.1095 - acc: 0.7950 - f1_micro: 0.6780 - val_loss: 1.0152 - val_acc: 0.8254 - val_f1_micro: 0.6781\n",
      "Epoch 62/100\n",
      "57243/57243 [==============================] - 1s - loss: 1.1108 - acc: 0.7953 - f1_micro: 0.6782 - val_loss: 1.0086 - val_acc: 0.8115 - val_f1_micro: 0.6783\n",
      "Epoch 63/100\n",
      "57243/57243 [==============================] - 1s - loss: 1.1123 - acc: 0.7927 - f1_micro: 0.6784 - val_loss: 1.0061 - val_acc: 0.7950 - val_f1_micro: 0.6785\n",
      "Epoch 64/100\n",
      "57243/57243 [==============================] - 1s - loss: 1.1155 - acc: 0.7916 - f1_micro: 0.6786 - val_loss: 1.0225 - val_acc: 0.8137 - val_f1_micro: 0.6787\n",
      "Epoch 65/100\n",
      "57243/57243 [==============================] - 1s - loss: 1.1119 - acc: 0.7946 - f1_micro: 0.6788 - val_loss: 1.0281 - val_acc: 0.8006 - val_f1_micro: 0.6789\n",
      "Epoch 66/100\n",
      "57243/57243 [==============================] - 1s - loss: 1.1068 - acc: 0.7941 - f1_micro: 0.6790 - val_loss: 1.0134 - val_acc: 0.8010 - val_f1_micro: 0.6791\n",
      "Epoch 67/100\n",
      "57243/57243 [==============================] - 1s - loss: 1.1096 - acc: 0.7939 - f1_micro: 0.6792 - val_loss: 1.0067 - val_acc: 0.7938 - val_f1_micro: 0.6793\n",
      "Epoch 68/100\n",
      "57243/57243 [==============================] - 1s - loss: 1.1110 - acc: 0.7946 - f1_micro: 0.6794 - val_loss: 1.0145 - val_acc: 0.8009 - val_f1_micro: 0.6795\n",
      "Epoch 69/100\n",
      "57243/57243 [==============================] - 1s - loss: 1.1051 - acc: 0.7933 - f1_micro: 0.6796 - val_loss: 1.0050 - val_acc: 0.7991 - val_f1_micro: 0.6797\n",
      "Epoch 70/100\n",
      "57243/57243 [==============================] - 1s - loss: 1.1045 - acc: 0.7945 - f1_micro: 0.6798 - val_loss: 0.9966 - val_acc: 0.8043 - val_f1_micro: 0.6799\n",
      "Epoch 71/100\n",
      "57243/57243 [==============================] - 1s - loss: 1.1028 - acc: 0.7931 - f1_micro: 0.6800 - val_loss: 0.9993 - val_acc: 0.8310 - val_f1_micro: 0.6801\n",
      "Epoch 72/100\n",
      "57243/57243 [==============================] - 1s - loss: 1.1016 - acc: 0.7945 - f1_micro: 0.6802 - val_loss: 0.9957 - val_acc: 0.7898 - val_f1_micro: 0.6803\n",
      "Epoch 73/100\n",
      "57243/57243 [==============================] - 1s - loss: 1.1010 - acc: 0.7944 - f1_micro: 0.6804 - val_loss: 1.0066 - val_acc: 0.8043 - val_f1_micro: 0.6805\n",
      "Epoch 74/100\n",
      "57243/57243 [==============================] - 1s - loss: 1.1016 - acc: 0.7921 - f1_micro: 0.6806 - val_loss: 1.0043 - val_acc: 0.8305 - val_f1_micro: 0.6807\n",
      "Epoch 75/100\n",
      "57243/57243 [==============================] - 1s - loss: 1.0997 - acc: 0.7942 - f1_micro: 0.6808 - val_loss: 0.9972 - val_acc: 0.8236 - val_f1_micro: 0.6809\n",
      "Epoch 76/100\n",
      "57243/57243 [==============================] - 1s - loss: 1.1042 - acc: 0.7919 - f1_micro: 0.6810 - val_loss: 0.9975 - val_acc: 0.8049 - val_f1_micro: 0.6811\n",
      "Epoch 77/100\n",
      "57243/57243 [==============================] - 1s - loss: 1.1027 - acc: 0.7963 - f1_micro: 0.6812 - val_loss: 1.0037 - val_acc: 0.8008 - val_f1_micro: 0.6812\n",
      "Epoch 78/100\n",
      "57243/57243 [==============================] - 1s - loss: 1.0973 - acc: 0.7931 - f1_micro: 0.6813 - val_loss: 1.0090 - val_acc: 0.8384 - val_f1_micro: 0.6814\n",
      "Epoch 79/100\n",
      "57243/57243 [==============================] - 1s - loss: 1.1061 - acc: 0.7935 - f1_micro: 0.6815 - val_loss: 1.0017 - val_acc: 0.8400 - val_f1_micro: 0.6816\n",
      "Epoch 80/100\n",
      "57243/57243 [==============================] - 1s - loss: 1.1003 - acc: 0.7948 - f1_micro: 0.6817 - val_loss: 1.0056 - val_acc: 0.7988 - val_f1_micro: 0.6818\n",
      "Epoch 81/100\n",
      "57243/57243 [==============================] - 1s - loss: 1.0976 - acc: 0.7936 - f1_micro: 0.6819 - val_loss: 0.9959 - val_acc: 0.8237 - val_f1_micro: 0.6820\n",
      "Epoch 82/100\n",
      "57243/57243 [==============================] - 1s - loss: 1.0974 - acc: 0.7932 - f1_micro: 0.6820 - val_loss: 0.9949 - val_acc: 0.7909 - val_f1_micro: 0.6821\n",
      "Epoch 83/100\n",
      "57243/57243 [==============================] - 1s - loss: 1.0994 - acc: 0.7933 - f1_micro: 0.6822 - val_loss: 0.9953 - val_acc: 0.8274 - val_f1_micro: 0.6823\n",
      "Epoch 84/100\n",
      "57243/57243 [==============================] - 1s - loss: 1.0938 - acc: 0.7950 - f1_micro: 0.6824 - val_loss: 0.9955 - val_acc: 0.8261 - val_f1_micro: 0.6825\n",
      "Epoch 85/100\n",
      "57243/57243 [==============================] - 1s - loss: 1.0977 - acc: 0.7949 - f1_micro: 0.6826 - val_loss: 1.0199 - val_acc: 0.8171 - val_f1_micro: 0.6827\n",
      "Epoch 86/100\n",
      "57243/57243 [==============================] - 1s - loss: 1.0961 - acc: 0.7949 - f1_micro: 0.6827 - val_loss: 0.9914 - val_acc: 0.8102 - val_f1_micro: 0.6828\n",
      "Epoch 87/100\n",
      "57243/57243 [==============================] - 1s - loss: 1.0954 - acc: 0.7945 - f1_micro: 0.6829 - val_loss: 0.9955 - val_acc: 0.7870 - val_f1_micro: 0.6830\n",
      "Epoch 88/100\n",
      "57243/57243 [==============================] - 1s - loss: 1.0954 - acc: 0.7931 - f1_micro: 0.6831 - val_loss: 0.9880 - val_acc: 0.8149 - val_f1_micro: 0.6832\n",
      "Epoch 89/100\n",
      "57243/57243 [==============================] - 1s - loss: 1.0962 - acc: 0.7945 - f1_micro: 0.6832 - val_loss: 0.9911 - val_acc: 0.8267 - val_f1_micro: 0.6833\n",
      "Epoch 90/100\n",
      "57243/57243 [==============================] - 1s - loss: 1.0905 - acc: 0.7938 - f1_micro: 0.6834 - val_loss: 0.9988 - val_acc: 0.8208 - val_f1_micro: 0.6835\n",
      "Epoch 91/100\n",
      "57243/57243 [==============================] - 1s - loss: 1.0943 - acc: 0.7973 - f1_micro: 0.6836 - val_loss: 0.9855 - val_acc: 0.7877 - val_f1_micro: 0.6836\n",
      "Epoch 92/100\n",
      "57243/57243 [==============================] - 1s - loss: 1.0959 - acc: 0.7959 - f1_micro: 0.6837 - val_loss: 0.9869 - val_acc: 0.7992 - val_f1_micro: 0.6838\n",
      "Epoch 93/100\n",
      "57243/57243 [==============================] - 1s - loss: 1.0887 - acc: 0.7947 - f1_micro: 0.6839 - val_loss: 0.9952 - val_acc: 0.8174 - val_f1_micro: 0.6839\n",
      "Epoch 94/100\n",
      "57243/57243 [==============================] - 1s - loss: 1.0936 - acc: 0.7953 - f1_micro: 0.6840 - val_loss: 1.0020 - val_acc: 0.8362 - val_f1_micro: 0.6841\n",
      "Epoch 95/100\n"
     ]
    },
    {
     "name": "stdout",
     "output_type": "stream",
     "text": [
      "57243/57243 [==============================] - 1s - loss: 1.0928 - acc: 0.7953 - f1_micro: 0.6842 - val_loss: 0.9926 - val_acc: 0.8215 - val_f1_micro: 0.6843\n",
      "Epoch 96/100\n",
      "57243/57243 [==============================] - 1s - loss: 1.0936 - acc: 0.7949 - f1_micro: 0.6843 - val_loss: 1.0002 - val_acc: 0.7872 - val_f1_micro: 0.6844\n",
      "Epoch 97/100\n",
      "57243/57243 [==============================] - 1s - loss: 1.0925 - acc: 0.7953 - f1_micro: 0.6845 - val_loss: 0.9902 - val_acc: 0.8121 - val_f1_micro: 0.6846\n",
      "Epoch 98/100\n",
      "57243/57243 [==============================] - 1s - loss: 1.0911 - acc: 0.7938 - f1_micro: 0.6846 - val_loss: 1.0044 - val_acc: 0.8340 - val_f1_micro: 0.6847\n",
      "Epoch 99/100\n",
      "57243/57243 [==============================] - 1s - loss: 1.0892 - acc: 0.7977 - f1_micro: 0.6848 - val_loss: 0.9856 - val_acc: 0.8110 - val_f1_micro: 0.6848\n",
      "Epoch 100/100\n",
      "57243/57243 [==============================] - 1s - loss: 1.0907 - acc: 0.7974 - f1_micro: 0.6849 - val_loss: 0.9910 - val_acc: 0.8309 - val_f1_micro: 0.6850\n",
      "CPU times: user 2min 35s, sys: 25.6 s, total: 3min 1s\n",
      "Wall time: 2min 46s\n"
     ]
    }
   ],
   "source": [
    "%%time\n",
    "# And trained it via:\n",
    "batch_size = 1000\n",
    "epochs = 100\n",
    "\n",
    "hist = model.fit(\n",
    "    training_inputs,\n",
    "    training_outputs,\n",
    "    epochs=epochs,\n",
    "    batch_size=batch_size,\n",
    "    validation_split=0.2,\n",
    "    validation_data=validation_data,\n",
    ")"
   ]
  },
  {
   "cell_type": "code",
   "execution_count": null,
   "metadata": {
    "collapsed": true,
    "scrolled": true
   },
   "outputs": [],
   "source": [
    "# %%time\n",
    "# # And trained it via:\n",
    "# batch_size = 10\n",
    "# epochs = 50\n",
    "\n",
    "# hist = model.fit(\n",
    "#     train_test_training_inputs,\n",
    "#     train_test_training_outputs,\n",
    "#     epochs=epochs,\n",
    "#     batch_size=batch_size,\n",
    "#     validation_split=0.2,\n",
    "#     validation_data=validation_data,\n",
    "# )"
   ]
  },
  {
   "cell_type": "code",
   "execution_count": 295,
   "metadata": {},
   "outputs": [
    {
     "data": {
      "text/plain": [
       "0.68492339109825917"
      ]
     },
     "execution_count": 295,
     "metadata": {},
     "output_type": "execute_result"
    }
   ],
   "source": [
    "hist.history['f1_micro'][-1]"
   ]
  },
  {
   "cell_type": "code",
   "execution_count": 296,
   "metadata": {
    "collapsed": true,
    "scrolled": true
   },
   "outputs": [],
   "source": [
    "# %%time\n",
    "# log_history_file = 'lstm-word2vec-fasttext-lsi.epoch.csv'\n",
    "# model_name = 'models/tfidf-wv-fs-lsi-2010-2014-data_cat-crossentropy-2014-b-val-sc_tfidf_wv_fs_lsi.model'\n",
    "# batch_size = 1200\n",
    "# epochs = 5\n",
    "# total_epochs = 100\n",
    "\n",
    "# for i in xrange(0, total_epochs // epochs):\n",
    "#     hist = model.fit(\n",
    "#         training_inputs,\n",
    "#         training_outputs,\n",
    "#         epochs=epochs,\n",
    "#         batch_size=batch_size,\n",
    "#         validation_split=0.2,\n",
    "#         validation_data=validation_data,\n",
    "#     )\n",
    "\n",
    "#     model.save(model_name.format(i))\n",
    "#     print\n",
    "#     print('Done with epoch: {}'.format((i + 1) * epochs))\n",
    "#     with open(log_history_file, 'a') as fl:\n",
    "#         fl.write(model_name + '\\n')\n",
    "#         fl.write('Epoch {}\\n'.format((i + 1) * epochs))\n",
    "#         fl.write('{}\\n'.format(datetime.now()))\n",
    "#         fl.write('\\n'.join(['{}: {}'.format(k, v[0]) for k, v in hist.history.items()]))\n",
    "#         fl.write('\\n\\n')\n",
    "#     print"
   ]
  },
  {
   "cell_type": "code",
   "execution_count": 297,
   "metadata": {
    "collapsed": true,
    "scrolled": true
   },
   "outputs": [],
   "source": [
    "# %%time\n",
    "# total_epochs = 100\n",
    "# for j in xrange(i, i + (total_epochs // epochs)):\n",
    "#     hist = model.fit(\n",
    "#         training_inputs,\n",
    "#         training_outputs,\n",
    "#         epochs=epochs,\n",
    "#         batch_size=batch_size,\n",
    "#         validation_split=0.2,\n",
    "#         validation_data=validation_data,\n",
    "#     )\n",
    "\n",
    "#     model.save(model_name.format(i))\n",
    "#     print\n",
    "#     print('Done with epoch: {}'.format((j + 1) * epochs))\n",
    "#     with open(log_history_file, 'a') as fl:\n",
    "#         fl.write(model_name + '\\n')\n",
    "#         fl.write('Epoch {}\\n'.format((j + 1) * epochs))\n",
    "#         fl.write('{}\\n'.format(datetime.now()))\n",
    "#         fl.write('\\n'.join(['{}: {}'.format(k, v[0]) for k, v in hist.history.items()]))\n",
    "#         fl.write('\\n\\n')\n",
    "#     print"
   ]
  },
  {
   "cell_type": "code",
   "execution_count": 298,
   "metadata": {
    "collapsed": true
   },
   "outputs": [],
   "source": [
    "# model = keras.models.load_model(\n",
    "#     'models/lstm-word2vec-fasttext_2010-2014-data_categorical-crossentropy-2014-b-val-standard_scaled_wv_fs.model',\n",
    "#     custom_objects={'f1_micro': f1_micro}\n",
    "# )"
   ]
  },
  {
   "cell_type": "code",
   "execution_count": 299,
   "metadata": {},
   "outputs": [
    {
     "data": {
      "text/plain": [
       "array([[ 0.03813962,  0.03924445,  0.01078178, ..., -0.01237437,\n",
       "         0.02493855,  0.07059716],\n",
       "       [ 0.03226105,  0.02995624,  0.01302993, ..., -0.0236891 ,\n",
       "         0.0608551 ,  0.07977729],\n",
       "       [ 0.07431702,  0.03298545, -0.00425562, ..., -0.01267929,\n",
       "         0.04209182,  0.04650359],\n",
       "       ..., \n",
       "       [ 0.07996251,  0.045093  , -0.03295682, ..., -0.04117523,\n",
       "         0.04513018,  0.08138604],\n",
       "       [ 0.05964114,  0.02435937, -0.0322964 , ..., -0.04092426,\n",
       "         0.05557768,  0.08133566],\n",
       "       [ 0.03230976,  0.02333395,  0.01637686, ..., -0.02427473,\n",
       "         0.02545349,  0.10226892]], dtype=float32)"
      ]
     },
     "execution_count": 299,
     "metadata": {},
     "output_type": "execute_result"
    }
   ],
   "source": [
    "train_test_wv_train"
   ]
  },
  {
   "cell_type": "code",
   "execution_count": 302,
   "metadata": {},
   "outputs": [],
   "source": [
    "# i = j"
   ]
  },
  {
   "cell_type": "code",
   "execution_count": 301,
   "metadata": {
    "collapsed": true
   },
   "outputs": [],
   "source": [
    "g = model.predict(\n",
    "    build_training_inputs(\n",
    "        wv_train,\n",
    "        fs_train,\n",
    "        tfidf_wv_train,\n",
    "        tfidf_fs_train,\n",
    "        tfidf_lsi_train,\n",
    "    )\n",
    ")"
   ]
  },
  {
   "cell_type": "code",
   "execution_count": 303,
   "metadata": {},
   "outputs": [
    {
     "data": {
      "text/plain": [
       "array([[  2.03598625e-28,   3.76616117e-06,   4.63100706e-18, ...,\n",
       "          3.39816115e-18,   1.38156271e-23,   2.05191728e-19],\n",
       "       [  3.74055624e-26,   5.66687973e-13,   2.87727389e-13, ...,\n",
       "          7.95163848e-13,   6.57172947e-16,   0.00000000e+00],\n",
       "       [  5.19789026e-32,   3.12272842e-12,   2.09660838e-16, ...,\n",
       "          3.08920497e-15,   1.71926781e-18,   1.22176209e-37],\n",
       "       ..., \n",
       "       [  6.92706847e-25,   6.91474167e-13,   1.78735954e-12, ...,\n",
       "          2.22442052e-17,   2.51436087e-21,   9.99967456e-01],\n",
       "       [  7.61684836e-23,   1.45586321e-11,   2.60981422e-13, ...,\n",
       "          1.31826808e-16,   7.33155199e-19,   9.99948382e-01],\n",
       "       [  6.46085816e-22,   1.81578927e-12,   1.93479591e-13, ...,\n",
       "          9.26993255e-17,   1.21788713e-16,   9.99768436e-01]], dtype=float32)"
      ]
     },
     "execution_count": 303,
     "metadata": {},
     "output_type": "execute_result"
    }
   ],
   "source": [
    "g"
   ]
  },
  {
   "cell_type": "code",
   "execution_count": 304,
   "metadata": {
    "collapsed": true
   },
   "outputs": [],
   "source": [
    "from sklearn.metrics import f1_score as sk_f1_score"
   ]
  },
  {
   "cell_type": "code",
   "execution_count": null,
   "metadata": {
    "collapsed": true
   },
   "outputs": [],
   "source": []
  },
  {
   "cell_type": "code",
   "execution_count": 305,
   "metadata": {
    "scrolled": true
   },
   "outputs": [
    {
     "name": "stdout",
     "output_type": "stream",
     "text": [
      "CPU times: user 884 ms, sys: 36 ms, total: 920 ms\n",
      "Wall time: 919 ms\n",
      "CPU times: user 424 ms, sys: 12 ms, total: 436 ms\n",
      "Wall time: 433 ms\n",
      "CPU times: user 432 ms, sys: 4 ms, total: 436 ms\n",
      "Wall time: 433 ms\n",
      "CPU times: user 428 ms, sys: 8 ms, total: 436 ms\n",
      "Wall time: 431 ms\n",
      "CPU times: user 436 ms, sys: 4 ms, total: 440 ms\n",
      "Wall time: 437 ms\n",
      "CPU times: user 424 ms, sys: 12 ms, total: 436 ms\n",
      "Wall time: 434 ms\n",
      "CPU times: user 428 ms, sys: 4 ms, total: 432 ms\n",
      "Wall time: 431 ms\n",
      "CPU times: user 424 ms, sys: 8 ms, total: 432 ms\n",
      "Wall time: 431 ms\n",
      "CPU times: user 420 ms, sys: 16 ms, total: 436 ms\n",
      "Wall time: 432 ms\n",
      "CPU times: user 432 ms, sys: 0 ns, total: 432 ms\n",
      "Wall time: 430 ms\n",
      "CPU times: user 432 ms, sys: 0 ns, total: 432 ms\n",
      "Wall time: 431 ms\n",
      "CPU times: user 420 ms, sys: 16 ms, total: 436 ms\n",
      "Wall time: 431 ms\n",
      "CPU times: user 420 ms, sys: 16 ms, total: 436 ms\n",
      "Wall time: 431 ms\n",
      "CPU times: user 432 ms, sys: 0 ns, total: 432 ms\n",
      "Wall time: 431 ms\n",
      "CPU times: user 424 ms, sys: 12 ms, total: 436 ms\n",
      "Wall time: 430 ms\n",
      "CPU times: user 428 ms, sys: 4 ms, total: 432 ms\n",
      "Wall time: 430 ms\n",
      "CPU times: user 424 ms, sys: 8 ms, total: 432 ms\n",
      "Wall time: 430 ms\n",
      "CPU times: user 432 ms, sys: 4 ms, total: 436 ms\n",
      "Wall time: 431 ms\n",
      "CPU times: user 416 ms, sys: 16 ms, total: 432 ms\n",
      "Wall time: 431 ms\n",
      "CPU times: user 420 ms, sys: 12 ms, total: 432 ms\n",
      "Wall time: 431 ms\n",
      "CPU times: user 428 ms, sys: 4 ms, total: 432 ms\n",
      "Wall time: 430 ms\n",
      "CPU times: user 428 ms, sys: 4 ms, total: 432 ms\n",
      "Wall time: 431 ms\n",
      "CPU times: user 420 ms, sys: 16 ms, total: 436 ms\n",
      "Wall time: 431 ms\n",
      "CPU times: user 424 ms, sys: 8 ms, total: 432 ms\n",
      "Wall time: 431 ms\n",
      "CPU times: user 424 ms, sys: 8 ms, total: 432 ms\n",
      "Wall time: 431 ms\n",
      "CPU times: user 428 ms, sys: 8 ms, total: 436 ms\n",
      "Wall time: 430 ms\n",
      "CPU times: user 424 ms, sys: 8 ms, total: 432 ms\n",
      "Wall time: 429 ms\n",
      "CPU times: user 428 ms, sys: 8 ms, total: 436 ms\n",
      "Wall time: 430 ms\n",
      "CPU times: user 428 ms, sys: 4 ms, total: 432 ms\n",
      "Wall time: 430 ms\n",
      "CPU times: user 424 ms, sys: 8 ms, total: 432 ms\n",
      "Wall time: 430 ms\n",
      "CPU times: user 428 ms, sys: 4 ms, total: 432 ms\n",
      "Wall time: 430 ms\n",
      "CPU times: user 428 ms, sys: 4 ms, total: 432 ms\n",
      "Wall time: 429 ms\n",
      "CPU times: user 424 ms, sys: 8 ms, total: 432 ms\n",
      "Wall time: 429 ms\n",
      "CPU times: user 420 ms, sys: 8 ms, total: 428 ms\n",
      "Wall time: 428 ms\n",
      "CPU times: user 428 ms, sys: 4 ms, total: 432 ms\n",
      "Wall time: 429 ms\n",
      "CPU times: user 432 ms, sys: 0 ns, total: 432 ms\n",
      "Wall time: 429 ms\n",
      "CPU times: user 424 ms, sys: 8 ms, total: 432 ms\n",
      "Wall time: 429 ms\n",
      "CPU times: user 432 ms, sys: 0 ns, total: 432 ms\n",
      "Wall time: 429 ms\n",
      "CPU times: user 424 ms, sys: 8 ms, total: 432 ms\n",
      "Wall time: 428 ms\n",
      "CPU times: user 428 ms, sys: 4 ms, total: 432 ms\n",
      "Wall time: 429 ms\n",
      "CPU times: user 432 ms, sys: 0 ns, total: 432 ms\n",
      "Wall time: 429 ms\n",
      "CPU times: user 420 ms, sys: 12 ms, total: 432 ms\n",
      "Wall time: 429 ms\n",
      "CPU times: user 416 ms, sys: 16 ms, total: 432 ms\n",
      "Wall time: 429 ms\n",
      "CPU times: user 420 ms, sys: 12 ms, total: 432 ms\n",
      "Wall time: 428 ms\n",
      "CPU times: user 424 ms, sys: 8 ms, total: 432 ms\n",
      "Wall time: 427 ms\n",
      "CPU times: user 424 ms, sys: 8 ms, total: 432 ms\n",
      "Wall time: 428 ms\n",
      "CPU times: user 416 ms, sys: 12 ms, total: 428 ms\n",
      "Wall time: 428 ms\n",
      "CPU times: user 424 ms, sys: 4 ms, total: 428 ms\n",
      "Wall time: 428 ms\n",
      "CPU times: user 416 ms, sys: 16 ms, total: 432 ms\n",
      "Wall time: 427 ms\n",
      "CPU times: user 428 ms, sys: 4 ms, total: 432 ms\n",
      "Wall time: 428 ms\n",
      "CPU times: user 432 ms, sys: 0 ns, total: 432 ms\n",
      "Wall time: 428 ms\n",
      "CPU times: user 424 ms, sys: 8 ms, total: 432 ms\n",
      "Wall time: 428 ms\n",
      "CPU times: user 424 ms, sys: 8 ms, total: 432 ms\n",
      "Wall time: 428 ms\n",
      "CPU times: user 420 ms, sys: 12 ms, total: 432 ms\n",
      "Wall time: 427 ms\n",
      "CPU times: user 424 ms, sys: 8 ms, total: 432 ms\n",
      "Wall time: 427 ms\n",
      "CPU times: user 424 ms, sys: 4 ms, total: 428 ms\n",
      "Wall time: 427 ms\n",
      "CPU times: user 424 ms, sys: 4 ms, total: 428 ms\n",
      "Wall time: 426 ms\n",
      "CPU times: user 424 ms, sys: 8 ms, total: 432 ms\n",
      "Wall time: 428 ms\n",
      "CPU times: user 432 ms, sys: 0 ns, total: 432 ms\n",
      "Wall time: 427 ms\n",
      "CPU times: user 420 ms, sys: 8 ms, total: 428 ms\n",
      "Wall time: 427 ms\n",
      "CPU times: user 420 ms, sys: 8 ms, total: 428 ms\n",
      "Wall time: 426 ms\n",
      "CPU times: user 26.4 s, sys: 492 ms, total: 26.9 s\n",
      "Wall time: 26.7 s\n"
     ]
    }
   ],
   "source": [
    "%%time\n",
    "dt = 0.01\n",
    "s = 0.0\n",
    "e = 0.6\n",
    "th = np.arange(s, e + dt, dt)\n",
    "mean_fscores = []\n",
    "for t in th:\n",
    "#     fscores = []\n",
    "#     for ix in range(g.shape[0]):\n",
    "#         y_a = y_train[ix]\n",
    "#         y_p = 1.0 * (g[ix] > t)\n",
    "#         fscores.append(sk_f1_score(y_a, y_p))\n",
    "#     mean_fscores.append(np.mean(fscores))\n",
    "    %time mean_fscores.append((t, sk_f1_score(y_train, 1.0 * (g > t), average='micro')))"
   ]
  },
  {
   "cell_type": "code",
   "execution_count": 306,
   "metadata": {
    "scrolled": true
   },
   "outputs": [
    {
     "data": {
      "text/plain": [
       "(0.11, 0.97097661544444369)"
      ]
     },
     "execution_count": 306,
     "metadata": {},
     "output_type": "execute_result"
    }
   ],
   "source": [
    "thresh, thresh_score = sorted(mean_fscores, key=lambda x: x[1], reverse=True)[0]\n",
    "thresh, thresh_score"
   ]
  },
  {
   "cell_type": "code",
   "execution_count": 307,
   "metadata": {
    "scrolled": true
   },
   "outputs": [
    {
     "data": {
      "text/plain": [
       "0.11"
      ]
     },
     "execution_count": 307,
     "metadata": {},
     "output_type": "execute_result"
    }
   ],
   "source": [
    "thresh"
   ]
  },
  {
   "cell_type": "code",
   "execution_count": 308,
   "metadata": {
    "collapsed": true,
    "scrolled": true
   },
   "outputs": [],
   "source": [
    "# train_test_df.iloc[ix].bodyText"
   ]
  },
  {
   "cell_type": "code",
   "execution_count": 309,
   "metadata": {},
   "outputs": [
    {
     "data": {
      "text/plain": [
       "'charliehebdoattack'"
      ]
     },
     "execution_count": 309,
     "metadata": {},
     "output_type": "execute_result"
    }
   ],
   "source": [
    "topics[22]"
   ]
  },
  {
   "cell_type": "code",
   "execution_count": 310,
   "metadata": {},
   "outputs": [
    {
     "data": {
      "text/plain": [
       "[78, 87, 125, 136, 150]"
      ]
     },
     "execution_count": 310,
     "metadata": {},
     "output_type": "execute_result"
    }
   ],
   "source": [
    "training_Y.ix[train_ix].iloc[15]"
   ]
  },
  {
   "cell_type": "code",
   "execution_count": 311,
   "metadata": {
    "scrolled": true
   },
   "outputs": [
    {
     "data": {
      "text/plain": [
       "<matplotlib.axes._subplots.AxesSubplot at 0x7fa9ca302f90>"
      ]
     },
     "execution_count": 311,
     "metadata": {},
     "output_type": "execute_result"
    },
    {
     "data": {
      "image/png": "[encoded data removed]",
      "text/plain": [
       "<matplotlib.figure.Figure at 0x7fa9cbe98b50>"
      ]
     },
     "metadata": {},
     "output_type": "display_data"
    }
   ],
   "source": [
    "%matplotlib inline\n",
    "ix = 15\n",
    "sd = -0\n",
    "pd.Series(g[sd:][ix]).plot()"
   ]
  },
  {
   "cell_type": "code",
   "execution_count": 312,
   "metadata": {
    "scrolled": true
   },
   "outputs": [
    {
     "data": {
      "text/plain": [
       "((array([ 78,  87, 125, 136, 150]),), (array([ 78,  87, 125, 136, 150]),))"
      ]
     },
     "execution_count": 312,
     "metadata": {},
     "output_type": "execute_result"
    }
   ],
   "source": [
    "# thresh = 0.5\n",
    "np.where(y_train[sd:][ix] == 1), np.where(g[sd:][ix] > thresh)"
   ]
  },
  {
   "cell_type": "code",
   "execution_count": 313,
   "metadata": {
    "collapsed": true
   },
   "outputs": [],
   "source": [
    "from gensim.models.tfidfmodel import TfidfModel\n",
    "from gensim.models.lsimodel import LsiModel\n",
    "from gensim.corpora import Dictionary"
   ]
  },
  {
   "cell_type": "code",
   "execution_count": 8,
   "metadata": {
    "collapsed": true
   },
   "outputs": [],
   "source": [
    "dictionary = TfidfModel.load('corpus/train_body_data-with_labels_False-retain_special_chars_False.with_test_data.csv.dictionary')\n",
    "tfidf = TfidfModel.load('corpus/train_body_data-with_labels_False-retain_special_chars_False.with_test_data.csv.tfidf')\n",
    "lsi = LsiModel.load('corpus/train_body_data-with_labels_False-retain_special_chars_False.with_test_data.csv.lsi')"
   ]
  },
  {
   "cell_type": "code",
   "execution_count": 9,
   "metadata": {
    "collapsed": true
   },
   "outputs": [],
   "source": [
    "wvmodel = Word2Vec.load('corpus/train_body_data-with_labels_False-retain_special_chars_False.with_test_data.csv.w2v.model')"
   ]
  },
  {
   "cell_type": "code",
   "execution_count": 10,
   "metadata": {
    "collapsed": true
   },
   "outputs": [],
   "source": [
    "fsmodel = fasttext.load_model('corpus/train_body_data-with_labels_False-retain_special_chars_False.with_test_data.csv.fasttext.model.bin')"
   ]
  },
  {
   "cell_type": "code",
   "execution_count": 11,
   "metadata": {
    "collapsed": true
   },
   "outputs": [],
   "source": [
    "_fsmodel_cache = {}\n",
    "def get_fsvec(word):\n",
    "    if word in _fsmodel_cache:\n",
    "        fv = _fsmodel_cache[word]\n",
    "    else:\n",
    "        fv = fsmodel[word]\n",
    "        _fsmodel_cache[word] = fv\n",
    "\n",
    "    return fv"
   ]
  },
  {
   "cell_type": "code",
   "execution_count": 12,
   "metadata": {
    "collapsed": true
   },
   "outputs": [],
   "source": [
    "def transform_tfidf_word2vec(tokens, stopwords=[]):\n",
    "#     global wvmodel\n",
    "#     global tfidf\n",
    "    # This requires wvmodel to be present in the namespace.\n",
    "    wv_feature_vec = tokens.map(\n",
    "        lambda x: [w for w in x.split() if (w not in stopwords and w in wvmodel.wv.vocab)]\n",
    "    ).map(\n",
    "        lambda x: tfidf[dictionary.doc2bow(x)]\n",
    "    ).map(\n",
    "        lambda x: np.array([wvmodel[dictionary.id2token[id]] * w for id, w in x]).mean(axis=0) if len(x) > 0 else np.nan\n",
    "    )\n",
    "\n",
    "    return wv_feature_vec\n",
    "\n",
    "\n",
    "def transform_tfidf_fasttext(tokens, stopwords=[]):\n",
    "#     global fsmodel\n",
    "#     global tfidf\n",
    "    # This requires wvmodel to be present in the namespace.\n",
    "    fs_feature_vec = tokens.map(\n",
    "        lambda x: [w for w in x.split() if (w not in stopwords)]\n",
    "    ).map(\n",
    "        lambda x: tfidf[dictionary.doc2bow(x)]\n",
    "    ).map(\n",
    "        lambda x: np.array([np.array(get_fsvec(dictionary.id2token[id])) * w for id, w in x]).mean(axis=0) if len(x) > 0 else np.nan\n",
    "    )\n",
    "\n",
    "    return fs_feature_vec\n",
    "\n",
    "\n",
    "def build_lsi_vector(l):\n",
    "    v = np.zeros(lsi.num_topics)\n",
    "    \n",
    "    for ix, vv in lsi[tfidf[dictionary.doc2bow(l)]]:\n",
    "        v[ix] = vv\n",
    "        \n",
    "    return v\n",
    "\n",
    "\n",
    "def transform_tfidf_lsi(tokens, stopwords=[]):\n",
    "#     global fsmodel\n",
    "#     global tfidf\n",
    "    # This requires wvmodel to be present in the namespace.\n",
    "    lsi_feature_vec = tokens.map(\n",
    "        lambda x: [w for w in x.split() if (w not in stopwords)]\n",
    "    ).map(\n",
    "        lambda x: build_lsi_vector(x) if len(x) > 0 else np.nan\n",
    "    )\n",
    "\n",
    "    return lsi_feature_vec\n",
    "\n",
    "\n",
    "def transform_fasttext(tokens, stopwords=[]):\n",
    "    global fsmodel\n",
    "    # This requires fsmodel to be present in the namespace.\n",
    "    fs_feature_vec = tokens.map(\n",
    "        lambda x: [w for w in x.split() if (w not in stopwords)]\n",
    "    ).map(lambda x: np.array([get_fsvec(w) for w in x]).mean(axis=0) if len(x) > 0 else np.nan)\n",
    "\n",
    "    return fs_feature_vec\n",
    "\n",
    "\n",
    "def transform_unsupervised_sentiment_neuron(tokens, stopwords=[]):\n",
    "    # This requires fsmodel to be present in the namespace.\n",
    "    \n",
    "    usn_feature_vec = usnmodel.transform(tokens)\n",
    "\n",
    "    # usn_feature_vec = tokens.map(\n",
    "    #     lambda x: [w for w in x.split() if (w not in stopwords)]\n",
    "    # ).map(lambda x: np.array([usnmodel[w] for w in x]).mean(axis=0) if len(x) > 0 else np.nan)\n",
    "\n",
    "    return usn_feature_vec\n",
    "\n",
    "\n",
    "def transform_word2vec(tokens, stopwords=[]):\n",
    "    global wvmodel\n",
    "    # This requires wvmodel to be present in the namespace.\n",
    "    wv_feature_vec = tokens.map(\n",
    "        lambda x: [w for w in x.split() if (w not in stopwords and w in wvmodel.wv.vocab)]\n",
    "    ).map(lambda x: np.array([wvmodel[w] for w in x]).mean(axis=0) if len(x) > 0 else np.nan)\n",
    "\n",
    "    return wv_feature_vec\n",
    "\n",
    "\n",
    "def parallel_generate_word_vectors(samp, transformer, stopwords, batch, num_proc):\n",
    "    with Parallel(n_jobs=num_proc) as parallel:\n",
    "        dataset = []\n",
    "        is_break = False\n",
    "        i = 0\n",
    "\n",
    "        while not is_break:\n",
    "            payload = []\n",
    "\n",
    "            for j in xrange(num_proc):\n",
    "                t_df = samp[(i + j) * batch: (i + 1 + j) * batch]\n",
    "\n",
    "                if t_df.empty:\n",
    "                    is_break = True\n",
    "                    continue\n",
    "\n",
    "                payload.append(\n",
    "                    delayed(transformer)(\n",
    "                        t_df, stopwords\n",
    "                    )\n",
    "                )\n",
    "\n",
    "            print('Current batch in main thread: {}'.format((i + j) * batch))\n",
    "\n",
    "            if payload:\n",
    "                results = parallel(payload)\n",
    "                dataset.extend(results)\n",
    "                i += num_proc\n",
    "\n",
    "    return pd.concat(dataset)\n"
   ]
  },
  {
   "cell_type": "code",
   "execution_count": 13,
   "metadata": {
    "collapsed": true
   },
   "outputs": [],
   "source": [
    "def get_classes(pred, scale_param=0.75, min_thresh=0.05, thresh = 0.5):\n",
    "#     mx = pred.mean() + 3 * pred.std()\n",
    "    return np.where(pred > thresh)[0]  "
   ]
  },
  {
   "cell_type": "code",
   "execution_count": 14,
   "metadata": {
    "collapsed": true
   },
   "outputs": [],
   "source": [
    "def word2idx_transform(word, _word2idx):\n",
    "    return _word2idx.get(word, 0)\n"
   ]
  },
  {
   "cell_type": "code",
   "execution_count": 15,
   "metadata": {
    "collapsed": true
   },
   "outputs": [],
   "source": [
    "def extract_features_for(df, min_batch=2000, stopwords=[], num_proc=7):\n",
    "    df_tokens = transform_text(df)\n",
    "    \n",
    "    batch = min(df_tokens.shape[0] / num_proc, min_batch)\n",
    "\n",
    "    print('Computing fs features...')\n",
    "    fvec = parallel_generate_word_vectors(df_tokens, transform_fasttext, stopwords=stopwords, batch=batch, num_proc=num_proc)\n",
    "\n",
    "    print('Computing wv features...')\n",
    "    wvec = parallel_generate_word_vectors(df_tokens, transform_word2vec, stopwords=stopwords, batch=batch, num_proc=num_proc)\n",
    "\n",
    "    print('Mapping word indices...')\n",
    "    word_indices = df_tokens.map(lambda x: [word2idx_transform(i, _word2idx) for i in x.split()])\n",
    "\n",
    "    print('Computing tfidf fs features...')\n",
    "    tfidf_fvec = parallel_generate_word_vectors(df_tokens, transform_tfidf_fasttext, stopwords=stopwords, batch=batch, num_proc=num_proc)\n",
    "\n",
    "    print('Computing tfidf wv features...')\n",
    "    tfidf_wvec = parallel_generate_word_vectors(df_tokens, transform_tfidf_word2vec, stopwords=stopwords, batch=batch, num_proc=num_proc)\n",
    "\n",
    "    print('Computing tfidf lsi features...')\n",
    "    tfidf_lsi = parallel_generate_word_vectors(df_tokens, transform_tfidf_lsi, stopwords=stopwords, batch=batch, num_proc=num_proc)\n",
    "    \n",
    "    return word_indices, wvec, fvec, tfidf_wvec, tfidf_fvec, tfidf_lsi"
   ]
  },
  {
   "cell_type": "code",
   "execution_count": 74,
   "metadata": {
    "collapsed": true
   },
   "outputs": [],
   "source": [
    "with open('../data/TestData.json') as fl:\n",
    "    data = json.load(fl)\n",
    "    test_df = pd.DataFrame(data['TestData']).T\n",
    "    del(data)"
   ]
  },
  {
   "cell_type": "code",
   "execution_count": 75,
   "metadata": {
    "scrolled": true
   },
   "outputs": [
    {
     "name": "stdout",
     "output_type": "stream",
     "text": [
      "Computing fs features...\n",
      "Current batch in main thread: 6498\n",
      "Current batch in main thread: 14079\n",
      "Computing wv features...\n",
      "Current batch in main thread: 6498\n",
      "Current batch in main thread: 14079\n",
      "Mapping word indices...\n",
      "Computing tfidf fs features...\n",
      "Current batch in main thread: 6498\n",
      "Current batch in main thread: 14079\n",
      "Computing tfidf wv features...\n",
      "Current batch in main thread: 6498\n",
      "Current batch in main thread: 14079\n",
      "Computing tfidf lsi features...\n",
      "Current batch in main thread: 6498\n",
      "Current batch in main thread: 14079\n",
      "CPU times: user 52.2 s, sys: 4.41 s, total: 56.6 s\n",
      "Wall time: 1min 26s\n"
     ]
    }
   ],
   "source": [
    "%%time\n",
    "test_word_indices,test_wvec, test_fvec, test_tfidf_wvec, test_tfidf_fvec, test_tfidf_lsi = extract_features_for(\n",
    "    test_df\n",
    ")"
   ]
  },
  {
   "cell_type": "code",
   "execution_count": 76,
   "metadata": {
    "collapsed": true
   },
   "outputs": [],
   "source": [
    "assert(np.all(test_wvec[test_wvec.isnull()].index == test_fvec[test_fvec.isnull()].index))\n",
    "test_null_index = test_wvec[test_wvec.isnull()].index.union(test_fvec[test_fvec.isnull()].index)"
   ]
  },
  {
   "cell_type": "code",
   "execution_count": 77,
   "metadata": {},
   "outputs": [
    {
     "data": {
      "text/plain": [
       "Index([u'TestData_02543', u'TestData_05012', u'TestData_05830'], dtype='object')"
      ]
     },
     "execution_count": 77,
     "metadata": {},
     "output_type": "execute_result"
    }
   ],
   "source": [
    "test_null_index"
   ]
  },
  {
   "cell_type": "code",
   "execution_count": null,
   "metadata": {
    "collapsed": true,
    "scrolled": true
   },
   "outputs": [],
   "source": []
  },
  {
   "cell_type": "code",
   "execution_count": 78,
   "metadata": {
    "scrolled": true
   },
   "outputs": [
    {
     "name": "stdout",
     "output_type": "stream",
     "text": [
      "CPU times: user 348 ms, sys: 28 ms, total: 376 ms\n",
      "Wall time: 377 ms\n"
     ]
    }
   ],
   "source": [
    "%%time\n",
    "valid_test_index = test_word_indices.index.difference(test_null_index)\n",
    "x_test = test_word_indices.ix[valid_test_index]  # .map(lambda x: [top_token2ind.get(i, 0) for i in x])\n",
    "\n",
    "x_test = sequence.pad_sequences(x_test, maxlen=maxlen)\n",
    "\n",
    "wv_test = np.vstack(test_wvec.ix[valid_test_index])\n",
    "fs_test = np.vstack(test_fvec.ix[valid_test_index])\n",
    "\n",
    "tfidf_wv_test = np.vstack(test_tfidf_wvec.ix[valid_test_index])\n",
    "tfidf_fs_test = np.vstack(test_tfidf_fvec.ix[valid_test_index])\n",
    "tfidf_lsi_test = np.vstack(test_tfidf_lsi.ix[valid_test_index])\n",
    "\n",
    "wv_test = wv_sc.transform(wv_test)\n",
    "fs_test = fs_sc.transform(fs_test)\n",
    "\n",
    "tfidf_wv_test = tfidf_wv_sc.transform(tfidf_wv_test)\n",
    "tfidf_fs_test = tfidf_fs_sc.transform(tfidf_fs_test)\n",
    "tfidf_lsi_test = tfidf_lsi_sc.transform(tfidf_lsi_test)\n",
    "\n",
    "test_inputs = build_training_inputs(\n",
    "    wv_test,\n",
    "    fs_test,\n",
    "    tfidf_wv_test,\n",
    "    tfidf_fs_test,\n",
    "    tfidf_lsi_test,\n",
    ")"
   ]
  },
  {
   "cell_type": "code",
   "execution_count": 314,
   "metadata": {
    "collapsed": true
   },
   "outputs": [],
   "source": [
    "test_probas = model.predict(test_inputs, batch_size=batch_size)"
   ]
  },
  {
   "cell_type": "code",
   "execution_count": 315,
   "metadata": {
    "collapsed": true
   },
   "outputs": [],
   "source": [
    "main_test_probas = test_probas"
   ]
  },
  {
   "cell_type": "code",
   "execution_count": 316,
   "metadata": {},
   "outputs": [
    {
     "data": {
      "text/plain": [
       "array([[  2.58936287e-23,   9.28907529e-09,   1.87407316e-12, ...,\n",
       "          2.28863456e-07,   9.44955274e-23,   6.83111784e-25],\n",
       "       [  3.46332688e-23,   7.86858495e-11,   1.24222410e-07, ...,\n",
       "          2.91542485e-11,   1.11193996e-15,   5.46794863e-28],\n",
       "       [  1.20677856e-21,   1.28202277e-12,   3.17083027e-11, ...,\n",
       "          3.90021565e-12,   3.12699422e-10,   5.82013044e-28],\n",
       "       ..., \n",
       "       [  2.04408566e-14,   2.86376098e-06,   5.69812628e-03, ...,\n",
       "          9.11024169e-16,   1.01153626e-06,   2.81746718e-12],\n",
       "       [  1.29001516e-16,   1.67610124e-03,   6.77362300e-09, ...,\n",
       "          2.68127831e-09,   6.72738948e-12,   8.74426326e-20],\n",
       "       [  7.67384553e-19,   7.88867474e-05,   7.86182852e-08, ...,\n",
       "          1.87310566e-17,   9.17428134e-13,   1.22831542e-30]], dtype=float32)"
      ]
     },
     "execution_count": 316,
     "metadata": {},
     "output_type": "execute_result"
    }
   ],
   "source": [
    "main_test_probas"
   ]
  },
  {
   "cell_type": "code",
   "execution_count": 317,
   "metadata": {},
   "outputs": [
    {
     "data": {
      "text/plain": [
       "[2542, 5011, 5829]"
      ]
     },
     "execution_count": 317,
     "metadata": {},
     "output_type": "execute_result"
    }
   ],
   "source": [
    "skip_index = [int(s.split('_')[1]) - 1 for s in test_null_index]  # Subtract 1 since test index starts at 1 while enumerate starts at 0\n",
    "skip_index"
   ]
  },
  {
   "cell_type": "code",
   "execution_count": 318,
   "metadata": {},
   "outputs": [
    {
     "data": {
      "text/plain": [
       "((7578, 160), (7581, 3))"
      ]
     },
     "execution_count": 318,
     "metadata": {},
     "output_type": "execute_result"
    }
   ],
   "source": [
    "main_test_probas.shape, test_df.shape"
   ]
  },
  {
   "cell_type": "code",
   "execution_count": 329,
   "metadata": {},
   "outputs": [
    {
     "name": "stdout",
     "output_type": "stream",
     "text": [
      "CPU times: user 28 ms, sys: 4 ms, total: 32 ms\n",
      "Wall time: 29.5 ms\n"
     ]
    }
   ],
   "source": [
    "%%time\n",
    "# valid_test_feature_vec found below!\n",
    "thresh = 0.3\n",
    "test_values = np.zeros([main_test_probas.shape[0], len(topics)])\n",
    "for ix, pred in enumerate(main_test_probas):\n",
    "    for v in get_classes(pred, thresh=thresh):\n",
    "        test_values[ix][v] = 1\n",
    "\n",
    "test_sub_df = pd.DataFrame(\n",
    "    test_values,\n",
    "    index=test_df.ix[test_df.index.difference(test_null_index)].index,\n",
    "    columns=topics\n",
    ")\n",
    "\n",
    "null_test_df = pd.DataFrame(\n",
    "    np.zeros((len(test_null_index), len(topics))),\n",
    "    index=test_null_index,\n",
    "    columns=topics\n",
    ")\n",
    "\n",
    "test_sub_df = test_sub_df.append(null_test_df)\n",
    "test_sub_df = test_sub_df.sort_index()"
   ]
  },
  {
   "cell_type": "code",
   "execution_count": 320,
   "metadata": {
    "collapsed": true,
    "scrolled": true
   },
   "outputs": [],
   "source": [
    "# train_test_df[train_test_df.topics.map(lambda x: 'parisattacks' in x)]"
   ]
  },
  {
   "cell_type": "code",
   "execution_count": 321,
   "metadata": {
    "collapsed": true
   },
   "outputs": [],
   "source": [
    "# topics"
   ]
  },
  {
   "cell_type": "code",
   "execution_count": 322,
   "metadata": {},
   "outputs": [
    {
     "data": {
      "text/plain": [
       "1.0"
      ]
     },
     "execution_count": 322,
     "metadata": {},
     "output_type": "execute_result"
    }
   ],
   "source": [
    "test_sub_df.iloc[3319].sum()"
   ]
  },
  {
   "cell_type": "code",
   "execution_count": 331,
   "metadata": {},
   "outputs": [
    {
     "name": "stdout",
     "output_type": "stream",
     "text": [
      "(28, 160)\n"
     ]
    },
    {
     "data": {
      "text/plain": [
       "32.0"
      ]
     },
     "execution_count": 331,
     "metadata": {},
     "output_type": "execute_result"
    }
   ],
   "source": [
    "u = test_sub_df[test_sub_df.berlinchristmasmarketattack == 1]\n",
    "print u.shape\n",
    "u.sum().sum()"
   ]
  },
  {
   "cell_type": "code",
   "execution_count": 324,
   "metadata": {},
   "outputs": [
    {
     "data": {
      "text/plain": [
       "Index([u'berlinchristmasmarketattack', u'brusselsattacks', u'farright',\n",
       "       u'germany', u'isis', u'military', u'munichshooting', u'police',\n",
       "       u'refugees', u'uksecurity'],\n",
       "      dtype='object')"
      ]
     },
     "execution_count": 324,
     "metadata": {},
     "output_type": "execute_result"
    }
   ],
   "source": [
    "uu = u[u.sum(axis=1) > 1]\n",
    "uu.columns[uu.sum(axis=0) > 0]"
   ]
  },
  {
   "cell_type": "code",
   "execution_count": 184,
   "metadata": {},
   "outputs": [
    {
     "data": {
      "text/plain": [
       "112"
      ]
     },
     "execution_count": 184,
     "metadata": {},
     "output_type": "execute_result"
    }
   ],
   "source": [
    "topics.index('parisattacks')"
   ]
  },
  {
   "cell_type": "code",
   "execution_count": 266,
   "metadata": {},
   "outputs": [
    {
     "data": {
      "text/plain": [
       "(6552, 0.56000000000000005)"
      ]
     },
     "execution_count": 266,
     "metadata": {},
     "output_type": "execute_result"
    }
   ],
   "source": [
    "6552, thresh"
   ]
  },
  {
   "cell_type": "code",
   "execution_count": 129,
   "metadata": {
    "collapsed": true
   },
   "outputs": [],
   "source": [
    "# 9627 (0.5), 14297 (0.3)"
   ]
  },
  {
   "cell_type": "code",
   "execution_count": 273,
   "metadata": {
    "scrolled": true
   },
   "outputs": [
    {
     "data": {
      "text/plain": [
       "11106.0"
      ]
     },
     "execution_count": 273,
     "metadata": {},
     "output_type": "execute_result"
    }
   ],
   "source": [
    "test_sub_df.sum().sum()"
   ]
  },
  {
   "cell_type": "code",
   "execution_count": 332,
   "metadata": {
    "scrolled": true
   },
   "outputs": [
    {
     "data": {
      "text/plain": [
       "9053.0"
      ]
     },
     "execution_count": 332,
     "metadata": {},
     "output_type": "execute_result"
    }
   ],
   "source": [
    "test_sub_df.sum().sum()"
   ]
  },
  {
   "cell_type": "code",
   "execution_count": 334,
   "metadata": {},
   "outputs": [
    {
     "data": {
      "text/plain": [
       "count    7581.000000\n",
       "mean        1.194170\n",
       "std         0.584562\n",
       "min         0.000000\n",
       "25%         1.000000\n",
       "50%         1.000000\n",
       "75%         2.000000\n",
       "max         3.000000\n",
       "dtype: float64"
      ]
     },
     "execution_count": 334,
     "metadata": {},
     "output_type": "execute_result"
    }
   ],
   "source": [
    "test_sub_df.sum(axis=1).describe()"
   ]
  },
  {
   "cell_type": "code",
   "execution_count": 336,
   "metadata": {},
   "outputs": [
    {
     "data": {
      "text/plain": [
       "count    57243.000000\n",
       "mean         1.508464\n",
       "std          0.903861\n",
       "min          1.000000\n",
       "25%          1.000000\n",
       "50%          1.000000\n",
       "75%          2.000000\n",
       "max         15.000000\n",
       "dtype: float64"
      ]
     },
     "execution_count": 336,
     "metadata": {},
     "output_type": "execute_result"
    }
   ],
   "source": [
    "pd.Series(y_train.sum(axis=1)).describe()"
   ]
  },
  {
   "cell_type": "code",
   "execution_count": 105,
   "metadata": {
    "scrolled": true
   },
   "outputs": [
    {
     "data": {
      "text/plain": [
       "(0.5, 12803.0)"
      ]
     },
     "execution_count": 105,
     "metadata": {},
     "output_type": "execute_result"
    }
   ],
   "source": [
    "thresh, test_sub_df.sum().sum()"
   ]
  },
  {
   "cell_type": "code",
   "execution_count": 73,
   "metadata": {
    "scrolled": true
   },
   "outputs": [
    {
     "data": {
      "text/plain": [
       "13897.0"
      ]
     },
     "execution_count": 73,
     "metadata": {},
     "output_type": "execute_result"
    }
   ],
   "source": [
    "test_sub_df.sum().sum()"
   ]
  },
  {
   "cell_type": "code",
   "execution_count": 109,
   "metadata": {
    "scrolled": true
   },
   "outputs": [
    {
     "data": {
      "text/plain": [
       "12489.0"
      ]
     },
     "execution_count": 109,
     "metadata": {},
     "output_type": "execute_result"
    }
   ],
   "source": [
    "test_sub_df.sum().sum()"
   ]
  },
  {
   "cell_type": "code",
   "execution_count": 133,
   "metadata": {},
   "outputs": [
    {
     "data": {
      "text/plain": [
       "count    7581.000000\n",
       "mean      882.691070\n",
       "std       621.585386\n",
       "min         0.000000\n",
       "25%       552.000000\n",
       "50%       770.000000\n",
       "75%      1026.000000\n",
       "max      8171.000000\n",
       "Name: bodyText, dtype: float64"
      ]
     },
     "execution_count": 133,
     "metadata": {},
     "output_type": "execute_result"
    }
   ],
   "source": [
    "test_word_indices.map(len).describe()"
   ]
  },
  {
   "cell_type": "code",
   "execution_count": 134,
   "metadata": {},
   "outputs": [
    {
     "data": {
      "text/plain": [
       "1382.0"
      ]
     },
     "execution_count": 134,
     "metadata": {},
     "output_type": "execute_result"
    }
   ],
   "source": [
    "test_word_indices.map(len).quantile(0.9)"
   ]
  },
  {
   "cell_type": "code",
   "execution_count": 130,
   "metadata": {},
   "outputs": [
    {
     "data": {
      "text/plain": [
       "1223"
      ]
     },
     "execution_count": 130,
     "metadata": {},
     "output_type": "execute_result"
    }
   ],
   "source": [
    "len(test_df.ix['TestData_04490'].bodyText.split())"
   ]
  },
  {
   "cell_type": "code",
   "execution_count": 274,
   "metadata": {
    "scrolled": true
   },
   "outputs": [
    {
     "data": {
      "text/plain": [
       "activism                                    0.0\n",
       "afghanistan                               114.0\n",
       "aid                                        48.0\n",
       "algerianhostagecrisis                      20.0\n",
       "alqaida                                   111.0\n",
       "alshabaab                                  28.0\n",
       "antiwar                                     0.0\n",
       "arabandmiddleeastprotests                 113.0\n",
       "armstrade                                 101.0\n",
       "australianguncontrol                        0.0\n",
       "australiansecurityandcounterterrorism      48.0\n",
       "bastilledaytruckattack                     21.0\n",
       "belgium                                     2.0\n",
       "berlinchristmasmarketattack                18.0\n",
       "bigdata                                     7.0\n",
       "biometrics                                  0.0\n",
       "bokoharam                                  32.0\n",
       "bostonmarathonbombing                      64.0\n",
       "britisharmy                                 3.0\n",
       "brusselsattacks                            51.0\n",
       "cameroon                                    4.0\n",
       "carers                                      2.0\n",
       "charliehebdoattack                         52.0\n",
       "chemicalweapons                            20.0\n",
       "clusterbombs                                4.0\n",
       "cobra                                       0.0\n",
       "conflictanddevelopment                     78.0\n",
       "controversy                                 3.0\n",
       "criminaljustice                            35.0\n",
       "cybercrime                                 54.0\n",
       "                                          ...  \n",
       "somalia                                    33.0\n",
       "southafrica                                36.0\n",
       "southchinasea                               4.0\n",
       "stopandsearch                               0.0\n",
       "surveillance                              110.0\n",
       "sydneysiege                                17.0\n",
       "syria                                    1205.0\n",
       "taliban                                    41.0\n",
       "terrorism                                 113.0\n",
       "thailand                                   30.0\n",
       "torture                                    14.0\n",
       "traincrashes                                2.0\n",
       "transport                                  91.0\n",
       "tunisiaattack2015                          43.0\n",
       "turkey                                    198.0\n",
       "turkeycoupattempt                          33.0\n",
       "ukcrime                                   235.0\n",
       "uksecurity                                313.0\n",
       "uksupremecourt                              5.0\n",
       "undercoverpoliceandpolicing                 4.0\n",
       "unitednations                             224.0\n",
       "usguncontrol                              218.0\n",
       "values                                      0.0\n",
       "warcrimes                                  20.0\n",
       "warreporting                               11.0\n",
       "weaponstechnology                          11.0\n",
       "womeninbusiness                             0.0\n",
       "woolwichattack                              8.0\n",
       "worldmigration                             17.0\n",
       "zikavirus                                   4.0\n",
       "dtype: float64"
      ]
     },
     "execution_count": 274,
     "metadata": {},
     "output_type": "execute_result"
    }
   ],
   "source": [
    "test_sub_df.sum()"
   ]
  },
  {
   "cell_type": "code",
   "execution_count": 91,
   "metadata": {
    "scrolled": true
   },
   "outputs": [
    {
     "data": {
      "text/plain": [
       "activism                                    0.0\n",
       "afghanistan                                95.0\n",
       "aid                                        89.0\n",
       "algerianhostagecrisis                      24.0\n",
       "alqaida                                   136.0\n",
       "alshabaab                                  38.0\n",
       "antiwar                                     0.0\n",
       "arabandmiddleeastprotests                 162.0\n",
       "armstrade                                  96.0\n",
       "australianguncontrol                        0.0\n",
       "australiansecurityandcounterterrorism      39.0\n",
       "bastilledaytruckattack                     38.0\n",
       "belgium                                     7.0\n",
       "berlinchristmasmarketattack                16.0\n",
       "bigdata                                     6.0\n",
       "biometrics                                  1.0\n",
       "bokoharam                                  37.0\n",
       "bostonmarathonbombing                      51.0\n",
       "britisharmy                                 4.0\n",
       "brusselsattacks                            71.0\n",
       "cameroon                                    0.0\n",
       "carers                                      0.0\n",
       "charliehebdoattack                         47.0\n",
       "chemicalweapons                            27.0\n",
       "clusterbombs                                1.0\n",
       "cobra                                       6.0\n",
       "conflictanddevelopment                     86.0\n",
       "controversy                                 1.0\n",
       "criminaljustice                            39.0\n",
       "cybercrime                                 66.0\n",
       "                                          ...  \n",
       "somalia                                    40.0\n",
       "southafrica                                30.0\n",
       "southchinasea                               7.0\n",
       "stopandsearch                               1.0\n",
       "surveillance                               86.0\n",
       "sydneysiege                                14.0\n",
       "syria                                    1055.0\n",
       "taliban                                    41.0\n",
       "terrorism                                 138.0\n",
       "thailand                                   34.0\n",
       "torture                                    15.0\n",
       "traincrashes                                5.0\n",
       "transport                                  86.0\n",
       "tunisiaattack2015                          43.0\n",
       "turkey                                    257.0\n",
       "turkeycoupattempt                          41.0\n",
       "ukcrime                                   188.0\n",
       "uksecurity                                366.0\n",
       "uksupremecourt                              5.0\n",
       "undercoverpoliceandpolicing                 2.0\n",
       "unitednations                             258.0\n",
       "usguncontrol                              176.0\n",
       "values                                      0.0\n",
       "warcrimes                                  10.0\n",
       "warreporting                                2.0\n",
       "weaponstechnology                          11.0\n",
       "womeninbusiness                             1.0\n",
       "woolwichattack                              8.0\n",
       "worldmigration                             13.0\n",
       "zikavirus                                   3.0\n",
       "dtype: float64"
      ]
     },
     "execution_count": 91,
     "metadata": {},
     "output_type": "execute_result"
    }
   ],
   "source": [
    "test_sub_df.sum()"
   ]
  },
  {
   "cell_type": "code",
   "execution_count": 67,
   "metadata": {
    "scrolled": true
   },
   "outputs": [
    {
     "data": {
      "text/plain": [
       "activism                                    0.0\n",
       "afghanistan                                96.0\n",
       "aid                                        70.0\n",
       "algerianhostagecrisis                      31.0\n",
       "alqaida                                   151.0\n",
       "alshabaab                                  35.0\n",
       "antiwar                                     2.0\n",
       "arabandmiddleeastprotests                 239.0\n",
       "armstrade                                  78.0\n",
       "australianguncontrol                        0.0\n",
       "australiansecurityandcounterterrorism      79.0\n",
       "bastilledaytruckattack                      0.0\n",
       "belgium                                    87.0\n",
       "berlinchristmasmarketattack                 0.0\n",
       "bigdata                                     8.0\n",
       "biometrics                                  2.0\n",
       "bokoharam                                  38.0\n",
       "bostonmarathonbombing                     104.0\n",
       "britisharmy                                 4.0\n",
       "brusselsattacks                             0.0\n",
       "cameroon                                    1.0\n",
       "carers                                      3.0\n",
       "charliehebdoattack                          0.0\n",
       "chemicalweapons                            38.0\n",
       "clusterbombs                                3.0\n",
       "cobra                                       0.0\n",
       "conflictanddevelopment                     55.0\n",
       "controversy                                 4.0\n",
       "criminaljustice                            39.0\n",
       "cybercrime                                 55.0\n",
       "                                          ...  \n",
       "somalia                                    40.0\n",
       "southafrica                                36.0\n",
       "southchinasea                               6.0\n",
       "stopandsearch                               2.0\n",
       "surveillance                              129.0\n",
       "sydneysiege                                38.0\n",
       "syria                                    1399.0\n",
       "taliban                                    54.0\n",
       "terrorism                                 180.0\n",
       "thailand                                   32.0\n",
       "torture                                    12.0\n",
       "traincrashes                                3.0\n",
       "transport                                  85.0\n",
       "tunisiaattack2015                           0.0\n",
       "turkey                                    255.0\n",
       "turkeycoupattempt                           0.0\n",
       "ukcrime                                   266.0\n",
       "uksecurity                                415.0\n",
       "uksupremecourt                              9.0\n",
       "undercoverpoliceandpolicing                 3.0\n",
       "unitednations                             214.0\n",
       "usguncontrol                              263.0\n",
       "values                                      0.0\n",
       "warcrimes                                  24.0\n",
       "warreporting                               17.0\n",
       "weaponstechnology                           6.0\n",
       "womeninbusiness                             0.0\n",
       "woolwichattack                             35.0\n",
       "worldmigration                             13.0\n",
       "zikavirus                                   0.0\n",
       "dtype: float64"
      ]
     },
     "execution_count": 67,
     "metadata": {},
     "output_type": "execute_result"
    }
   ],
   "source": [
    "test_sub_df.sum()"
   ]
  },
  {
   "cell_type": "code",
   "execution_count": 88,
   "metadata": {
    "scrolled": true
   },
   "outputs": [
    {
     "data": {
      "text/plain": [
       "activism                                    0.0\n",
       "afghanistan                               106.0\n",
       "aid                                        95.0\n",
       "algerianhostagecrisis                      14.0\n",
       "alqaida                                   226.0\n",
       "alshabaab                                  41.0\n",
       "antiwar                                     1.0\n",
       "arabandmiddleeastprotests                 170.0\n",
       "armstrade                                  88.0\n",
       "australianguncontrol                        0.0\n",
       "australiansecurityandcounterterrorism      81.0\n",
       "bastilledaytruckattack                     22.0\n",
       "belgium                                     7.0\n",
       "berlinchristmasmarketattack                18.0\n",
       "bigdata                                     7.0\n",
       "biometrics                                  1.0\n",
       "bokoharam                                  44.0\n",
       "bostonmarathonbombing                      65.0\n",
       "britisharmy                                12.0\n",
       "brusselsattacks                            23.0\n",
       "cameroon                                    3.0\n",
       "carers                                      3.0\n",
       "charliehebdoattack                         60.0\n",
       "chemicalweapons                            56.0\n",
       "clusterbombs                                2.0\n",
       "cobra                                       2.0\n",
       "conflictanddevelopment                     85.0\n",
       "controversy                                 1.0\n",
       "criminaljustice                            31.0\n",
       "cybercrime                                 79.0\n",
       "                                          ...  \n",
       "somalia                                    54.0\n",
       "southafrica                                39.0\n",
       "southchinasea                               5.0\n",
       "stopandsearch                               2.0\n",
       "surveillance                              125.0\n",
       "sydneysiege                                16.0\n",
       "syria                                    1371.0\n",
       "taliban                                    52.0\n",
       "terrorism                                 174.0\n",
       "thailand                                   38.0\n",
       "torture                                    15.0\n",
       "traincrashes                                3.0\n",
       "transport                                  84.0\n",
       "tunisiaattack2015                          42.0\n",
       "turkey                                    225.0\n",
       "turkeycoupattempt                          33.0\n",
       "ukcrime                                   318.0\n",
       "uksecurity                                411.0\n",
       "uksupremecourt                              8.0\n",
       "undercoverpoliceandpolicing                 2.0\n",
       "unitednations                             276.0\n",
       "usguncontrol                              181.0\n",
       "values                                      0.0\n",
       "warcrimes                                  48.0\n",
       "warreporting                               16.0\n",
       "weaponstechnology                          10.0\n",
       "womeninbusiness                             0.0\n",
       "woolwichattack                             48.0\n",
       "worldmigration                             15.0\n",
       "zikavirus                                   4.0\n",
       "dtype: float64"
      ]
     },
     "execution_count": 88,
     "metadata": {},
     "output_type": "execute_result"
    }
   ],
   "source": [
    "test_sub_df.sum()"
   ]
  },
  {
   "cell_type": "code",
   "execution_count": 91,
   "metadata": {
    "scrolled": true
   },
   "outputs": [
    {
     "data": {
      "text/plain": [
       "activism                                    0.0\n",
       "afghanistan                               113.0\n",
       "aid                                       101.0\n",
       "algerianhostagecrisis                      14.0\n",
       "alqaida                                   254.0\n",
       "alshabaab                                  43.0\n",
       "antiwar                                     4.0\n",
       "arabandmiddleeastprotests                 204.0\n",
       "armstrade                                  93.0\n",
       "australianguncontrol                        0.0\n",
       "australiansecurityandcounterterrorism      83.0\n",
       "bastilledaytruckattack                     23.0\n",
       "belgium                                     9.0\n",
       "berlinchristmasmarketattack                18.0\n",
       "bigdata                                     8.0\n",
       "biometrics                                  1.0\n",
       "bokoharam                                  44.0\n",
       "bostonmarathonbombing                      68.0\n",
       "britisharmy                                15.0\n",
       "brusselsattacks                            24.0\n",
       "cameroon                                    3.0\n",
       "carers                                      3.0\n",
       "charliehebdoattack                         61.0\n",
       "chemicalweapons                            61.0\n",
       "clusterbombs                                2.0\n",
       "cobra                                       2.0\n",
       "conflictanddevelopment                     97.0\n",
       "controversy                                 3.0\n",
       "criminaljustice                            33.0\n",
       "cybercrime                                 82.0\n",
       "                                          ...  \n",
       "somalia                                    61.0\n",
       "southafrica                                41.0\n",
       "southchinasea                               5.0\n",
       "stopandsearch                               2.0\n",
       "surveillance                              132.0\n",
       "sydneysiege                                16.0\n",
       "syria                                    1411.0\n",
       "taliban                                    54.0\n",
       "terrorism                                 187.0\n",
       "thailand                                   39.0\n",
       "torture                                    19.0\n",
       "traincrashes                                3.0\n",
       "transport                                  86.0\n",
       "tunisiaattack2015                          44.0\n",
       "turkey                                    238.0\n",
       "turkeycoupattempt                          35.0\n",
       "ukcrime                                   330.0\n",
       "uksecurity                                430.0\n",
       "uksupremecourt                              8.0\n",
       "undercoverpoliceandpolicing                 2.0\n",
       "unitednations                             296.0\n",
       "usguncontrol                              184.0\n",
       "values                                      0.0\n",
       "warcrimes                                  50.0\n",
       "warreporting                               16.0\n",
       "weaponstechnology                          12.0\n",
       "womeninbusiness                             0.0\n",
       "woolwichattack                             51.0\n",
       "worldmigration                             18.0\n",
       "zikavirus                                   4.0\n",
       "dtype: float64"
      ]
     },
     "execution_count": 91,
     "metadata": {},
     "output_type": "execute_result"
    }
   ],
   "source": [
    "test_sub_df.sum()"
   ]
  },
  {
   "cell_type": "code",
   "execution_count": 222,
   "metadata": {},
   "outputs": [
    {
     "name": "stdout",
     "output_type": "stream",
     "text": [
      "95811/95811 [==============================] - 2s - loss: 1.7367 - acc: 0.7069 - f1_micro: 0.5886 - val_loss: 1.4146 - val_acc: 0.7645 - val_f1_micro: 0.5889\n"
     ]
    }
   ],
   "source": [
    "print '95811/95811 [==============================] - 2s - loss: 1.7367 - acc: 0.7069 - f1_micro: 0.5886 - val_loss: 1.4146 - val_acc: 0.7645 - val_f1_micro: 0.5889'"
   ]
  },
  {
   "cell_type": "code",
   "execution_count": 275,
   "metadata": {},
   "outputs": [
    {
     "name": "stdout",
     "output_type": "stream",
     "text": [
      "tfidf_wv_300-fs_300-lsi_300-deep_stack_net-low_dropout-rmsprop-epochs_300-tanh_init_activation-f1_0.7891-loss_1.1745-data_2012_2014_test_augmented_3_upsample-val_data_2014-thresh_0.56-with_sc_wv_fs_lsi.csv\n"
     ]
    }
   ],
   "source": [
    "# 1.1745 - acc: 0.7750 - f1_micro: 0.7891\n",
    "sub_filename = 'tfidf_wv_300-fs_300-lsi_300-deep_stack_net-low_dropout-rmsprop-epochs_300-tanh_init_activation-f1_0.7891-loss_1.1745-data_2012_2014_test_augmented_3_upsample-val_data_2014-thresh_{}-with_sc_wv_fs_lsi.csv'.format(thresh)\n",
    "print sub_filename"
   ]
  },
  {
   "cell_type": "code",
   "execution_count": 276,
   "metadata": {
    "collapsed": true,
    "scrolled": true
   },
   "outputs": [],
   "source": [
    "test_sub_df.astype(int).reset_index().rename(\n",
    "    columns={'index': 'id'}\n",
    ").sort_values('id').to_csv(\n",
    "    sub_filename, \n",
    "    index=False\n",
    ")"
   ]
  },
  {
   "cell_type": "code",
   "execution_count": 225,
   "metadata": {},
   "outputs": [
    {
     "data": {
      "text/plain": [
       "(7581, 160)"
      ]
     },
     "execution_count": 225,
     "metadata": {},
     "output_type": "execute_result"
    }
   ],
   "source": [
    "test_sub_df.shape"
   ]
  },
  {
   "cell_type": "code",
   "execution_count": 108,
   "metadata": {
    "collapsed": true
   },
   "outputs": [],
   "source": [
    "dfd = pd.read_csv('tfidf_wv_300-fs_300-lsi_300-deep_stack_net-low_dropout-rmsprop-epochs_110-tanh_init_activation-f1_0.7528-data_2012_2014_test_augmented_10_upsample-val_data_2014-thresh_0.48-with_sc_wv_fs_lsi.csv')"
   ]
  },
  {
   "cell_type": "code",
   "execution_count": 110,
   "metadata": {},
   "outputs": [
    {
     "data": {
      "text/plain": [
       "12282"
      ]
     },
     "execution_count": 110,
     "metadata": {},
     "output_type": "execute_result"
    }
   ],
   "source": [
    "dfd.set_index('id').sum().sum()"
   ]
  },
  {
   "cell_type": "code",
   "execution_count": null,
   "metadata": {
    "collapsed": true
   },
   "outputs": [],
   "source": [
    "TestData_04490\tThe World Health Organisation has convened an ...\t[]\t28-01-2016\n",
    "TestData_04550\tSpraying pesticides will fail to deal with the...\t[]\t02-02-2016\n",
    "TestData_05683\tViolent protests at Trump rally in California ...\t[]\t03-06-2016\n",
    "TestData_05869\tLast weekend, we saw the darkest side of human...\t[]\t17-06-2016\n",
    "TestData_06148\tAs dusk falls over Copacabana beach, Ubira San...\t[]\t16-07-2016\n",
    "TestData_06291\tIt is 3pm and yet another patient is brought t...\t[]\t27-07-2016\n",
    "TestData_06610\tHuddled around their hives, beekeepers around ...\t[]\t04-09-2016\n",
    "TestData_06708\tA United Nations high-level panel on access to...\t[]\t14-09-2016\n",
    "TestData_07263\tWHO: Zika virus is no longer a world threat Th...\t[]\t19-11-2016\n",
    "TestData_07478\t1 World Health Organisation declares a public ...\t[]\t18-12-2016"
   ]
  },
  {
   "cell_type": "code",
   "execution_count": 82,
   "metadata": {},
   "outputs": [
    {
     "data": {
      "text/plain": [
       "guncrime        1.0\n",
       "usguncontrol    1.0\n",
       "Name: TestData_05869, dtype: float64"
      ]
     },
     "execution_count": 82,
     "metadata": {},
     "output_type": "execute_result"
    }
   ],
   "source": [
    "ix = 5868\n",
    "test_sub_df.iloc[ix][test_sub_df.iloc[ix] == 1]"
   ]
  },
  {
   "cell_type": "code",
   "execution_count": 111,
   "metadata": {},
   "outputs": [
    {
     "name": "stdout",
     "output_type": "stream",
     "text": [
      "CPU times: user 36 ms, sys: 0 ns, total: 36 ms\n",
      "Wall time: 32.6 ms\n"
     ]
    }
   ],
   "source": [
    "# %%time\n",
    "# adjust_index = 0\n",
    "# # valid_test_feature_vec found below!\n",
    "# test_values = np.zeros([test_df.shape[0], len(topics)])\n",
    "# for ix, pred in enumerate(main_test_probas):\n",
    "#     if ix in skip_index:\n",
    "#         test_values[ix] = np.nan\n",
    "#         # Increment adjust index so that we have the correct index for other samples\n",
    "#         adjust_index += 1\n",
    "#         continue\n",
    "\n",
    "#     for v in get_classes(pred, thresh=0.05):\n",
    "#         test_values[ix + adjust_index][v] = 1\n",
    "\n",
    "# test_sub_df = pd.DataFrame(test_values, columns=sorted(topics), index=test_df.index)\n",
    "\n",
    "# q = test_sub_df.sum(axis=1)\n",
    "# assert(len(q[q.isnull()].index.difference(test_null_index)) == 0)\n",
    "\n",
    "# test_sub_df = test_sub_df.fillna(0)\n",
    "\n",
    "# # for i in test_feature_vec[test_feature_vec.isnull()].index:\n",
    "# #     test_sub_df.ix[i] = np.zeros(len(topics))"
   ]
  },
  {
   "cell_type": "code",
   "execution_count": 40,
   "metadata": {},
   "outputs": [
    {
     "data": {
      "text/plain": [
       "TestData_02543    0.0\n",
       "TestData_05012    0.0\n",
       "TestData_05830    0.0\n",
       "dtype: float64"
      ]
     },
     "execution_count": 40,
     "metadata": {},
     "output_type": "execute_result"
    }
   ],
   "source": [
    "test_sub_df.ix[test_null_index].sum(axis=1)"
   ]
  },
  {
   "cell_type": "code",
   "execution_count": 41,
   "metadata": {},
   "outputs": [
    {
     "data": {
      "text/plain": [
       "11656.0"
      ]
     },
     "execution_count": 41,
     "metadata": {},
     "output_type": "execute_result"
    }
   ],
   "source": [
    "test_sub_df.sum().sum()"
   ]
  },
  {
   "cell_type": "code",
   "execution_count": 124,
   "metadata": {
    "collapsed": true
   },
   "outputs": [],
   "source": [
    "test_sub_df.astype(int).reset_index().rename(\n",
    "    columns={'index': 'id'}\n",
    ").sort_values('id').to_csv(\n",
    "    'lstm_300-word2vec_300-fasttext_300-maxlen_500-dense_64_64_64-cat_cross-epoch_210-batch_size_750-val_main_output_f1_micro_0.5760-main_output_f1_micro_0.5751-main_output_loss_0.9143-data_2010_2013-val_data_2014-thresh_0.05.csv', \n",
    "    index=False\n",
    ")"
   ]
  },
  {
   "cell_type": "code",
   "execution_count": 86,
   "metadata": {},
   "outputs": [
    {
     "data": {
      "text/plain": [
       "Series([], Name: zikavirus, dtype: float64)"
      ]
     },
     "execution_count": 86,
     "metadata": {},
     "output_type": "execute_result"
    }
   ],
   "source": [
    "e = test_sub_df['zikavirus']\n",
    "e[e==1]"
   ]
  },
  {
   "cell_type": "code",
   "execution_count": 87,
   "metadata": {},
   "outputs": [
    {
     "data": {
      "text/plain": [
       "14328"
      ]
     },
     "execution_count": 87,
     "metadata": {},
     "output_type": "execute_result"
    }
   ],
   "source": [
    "top_submission = pd.read_csv('basic_nn_submission_0.649_accuracy_multi_class.csv')\n",
    "top_submission.set_index('id').sum().sum()"
   ]
  },
  {
   "cell_type": "code",
   "execution_count": 88,
   "metadata": {},
   "outputs": [
    {
     "data": {
      "text/plain": [
       "9280"
      ]
     },
     "execution_count": 88,
     "metadata": {},
     "output_type": "execute_result"
    }
   ],
   "source": [
    "wrong_index_lstm_sub = pd.read_csv('lstm.2014b_training_700_maxlen_64cell_100epochs_0.0025_threshold.csv')\n",
    "wrong_index_lstm_sub.set_index('id').sum().sum()"
   ]
  },
  {
   "cell_type": "code",
   "execution_count": 89,
   "metadata": {},
   "outputs": [
    {
     "data": {
      "text/plain": [
       "34952"
      ]
     },
     "execution_count": 89,
     "metadata": {},
     "output_type": "execute_result"
    }
   ],
   "source": [
    "some_sub = pd.read_csv('basic_nn_submission_full_training_data_0.9958_validation_accuracy_binary_crossentropy.csv')\n",
    "some_sub.set_index('id').sum().sum()"
   ]
  },
  {
   "cell_type": "code",
   "execution_count": 90,
   "metadata": {},
   "outputs": [
    {
     "name": "stdout",
     "output_type": "stream",
     "text": [
      "(2197, 160)\n",
      "(3957, 160)\n",
      "(12, 160)\n",
      "(1503, 160)\n"
     ]
    }
   ],
   "source": [
    "print top_submission.set_index('id')[top_submission.set_index('id').sum(axis=1) == 0].shape\n",
    "\n",
    "print wrong_index_lstm_sub.set_index('id')[wrong_index_lstm_sub.set_index('id').sum(axis=1) == 0].shape\n",
    "\n",
    "print some_sub.set_index('id')[some_sub.set_index('id').sum(axis=1) == 0].shape\n",
    "\n",
    "print test_sub_df[test_sub_df.sum(axis=1) == 0].shape"
   ]
  },
  {
   "cell_type": "code",
   "execution_count": 106,
   "metadata": {
    "scrolled": true
   },
   "outputs": [
    {
     "data": {
      "text/plain": [
       "TestData_00011     0\n",
       "TestData_00012     0\n",
       "TestData_00015     0\n",
       "TestData_00027     3\n",
       "TestData_00029     0\n",
       "TestData_00038     1\n",
       "TestData_00042     5\n",
       "TestData_00053     4\n",
       "TestData_00056     1\n",
       "TestData_00060     1\n",
       "TestData_00066     0\n",
       "TestData_00085     0\n",
       "TestData_00087     1\n",
       "TestData_00090     0\n",
       "TestData_00092     0\n",
       "TestData_00107     3\n",
       "TestData_00111     0\n",
       "TestData_00114     0\n",
       "TestData_00115     1\n",
       "TestData_00118     0\n",
       "TestData_00119     0\n",
       "TestData_00121     0\n",
       "TestData_00123     0\n",
       "TestData_00125     0\n",
       "TestData_00127     0\n",
       "TestData_00128     1\n",
       "TestData_00139     1\n",
       "TestData_00140     1\n",
       "TestData_00144     0\n",
       "TestData_00147     2\n",
       "                  ..\n",
       "TestData_07445     0\n",
       "TestData_07456     3\n",
       "TestData_07461     1\n",
       "TestData_07462     4\n",
       "TestData_07465     0\n",
       "TestData_07468     0\n",
       "TestData_07471     1\n",
       "TestData_07475     0\n",
       "TestData_07486    10\n",
       "TestData_07495     1\n",
       "TestData_07509     0\n",
       "TestData_07514     3\n",
       "TestData_07515     1\n",
       "TestData_07523     0\n",
       "TestData_07533     2\n",
       "TestData_07534     2\n",
       "TestData_07542     1\n",
       "TestData_07544     2\n",
       "TestData_07545     0\n",
       "TestData_07552     2\n",
       "TestData_07556     5\n",
       "TestData_07563     1\n",
       "TestData_07565     0\n",
       "TestData_07566     0\n",
       "TestData_07569     0\n",
       "TestData_07571     3\n",
       "TestData_07572     1\n",
       "TestData_07579     6\n",
       "TestData_07580     2\n",
       "TestData_07581     3\n",
       "dtype: int64"
      ]
     },
     "execution_count": 106,
     "metadata": {},
     "output_type": "execute_result"
    }
   ],
   "source": [
    "top_submission.set_index('id').ix[q[q == 0].index].sum(axis=1)"
   ]
  },
  {
   "cell_type": "code",
   "execution_count": 91,
   "metadata": {},
   "outputs": [
    {
     "data": {
      "text/plain": [
       "(1222,)"
      ]
     },
     "execution_count": 91,
     "metadata": {},
     "output_type": "execute_result"
    }
   ],
   "source": [
    "q = test_sub_df.sum(axis=1)\n",
    "q[q==0].shape"
   ]
  },
  {
   "cell_type": "code",
   "execution_count": 92,
   "metadata": {},
   "outputs": [
    {
     "data": {
      "text/plain": [
       "count    7581.000000\n",
       "mean        2.160929\n",
       "std         1.739411\n",
       "min         0.000000\n",
       "25%         1.000000\n",
       "50%         2.000000\n",
       "75%         3.000000\n",
       "max        13.000000\n",
       "dtype: float64"
      ]
     },
     "execution_count": 92,
     "metadata": {},
     "output_type": "execute_result"
    }
   ],
   "source": [
    "q.describe()"
   ]
  },
  {
   "cell_type": "code",
   "execution_count": 157,
   "metadata": {
    "collapsed": true
   },
   "outputs": [],
   "source": [
    "q = trainingY.sum(axis=1)"
   ]
  },
  {
   "cell_type": "code",
   "execution_count": 158,
   "metadata": {},
   "outputs": [
    {
     "data": {
      "text/plain": [
       "count    236286.000000\n",
       "mean          1.392787\n",
       "std           0.762577\n",
       "min           1.000000\n",
       "25%           1.000000\n",
       "50%           1.000000\n",
       "75%           2.000000\n",
       "max          15.000000\n",
       "dtype: float64"
      ]
     },
     "execution_count": 158,
     "metadata": {},
     "output_type": "execute_result"
    }
   ],
   "source": [
    "q.describe()"
   ]
  },
  {
   "cell_type": "code",
   "execution_count": 82,
   "metadata": {},
   "outputs": [
    {
     "data": {
      "text/html": [
       "<div>\n",
       "<table border=\"1\" class=\"dataframe\">\n",
       "  <thead>\n",
       "    <tr style=\"text-align: right;\">\n",
       "      <th></th>\n",
       "      <th>bodyText</th>\n",
       "      <th>topics</th>\n",
       "      <th>webPublicationDate</th>\n",
       "    </tr>\n",
       "  </thead>\n",
       "  <tbody>\n",
       "    <tr>\n",
       "      <th>TestData_03241</th>\n",
       "      <td>A special British police unit was put on stand...</td>\n",
       "      <td>[]</td>\n",
       "      <td>15-11-2015</td>\n",
       "    </tr>\n",
       "    <tr>\n",
       "      <th>TestData_04088</th>\n",
       "      <td>The youngest convict in a fatal gang-rape in N...</td>\n",
       "      <td>[]</td>\n",
       "      <td>20-12-2015</td>\n",
       "    </tr>\n",
       "    <tr>\n",
       "      <th>TestData_06306</th>\n",
       "      <td>Former New York City mayor Rudy Giuliani has s...</td>\n",
       "      <td>[]</td>\n",
       "      <td>28-07-2016</td>\n",
       "    </tr>\n",
       "    <tr>\n",
       "      <th>TestData_06083</th>\n",
       "      <td>John Cantlie, the British journalist who has b...</td>\n",
       "      <td>[]</td>\n",
       "      <td>13-07-2016</td>\n",
       "    </tr>\n",
       "    <tr>\n",
       "      <th>TestData_05896</th>\n",
       "      <td>Lawyers for the companies that manufactured an...</td>\n",
       "      <td>[]</td>\n",
       "      <td>20-06-2016</td>\n",
       "    </tr>\n",
       "  </tbody>\n",
       "</table>\n",
       "</div>"
      ],
      "text/plain": [
       "                                                         bodyText topics  \\\n",
       "TestData_03241  A special British police unit was put on stand...     []   \n",
       "TestData_04088  The youngest convict in a fatal gang-rape in N...     []   \n",
       "TestData_06306  Former New York City mayor Rudy Giuliani has s...     []   \n",
       "TestData_06083  John Cantlie, the British journalist who has b...     []   \n",
       "TestData_05896  Lawyers for the companies that manufactured an...     []   \n",
       "\n",
       "               webPublicationDate  \n",
       "TestData_03241         15-11-2015  \n",
       "TestData_04088         20-12-2015  \n",
       "TestData_06306         28-07-2016  \n",
       "TestData_06083         13-07-2016  \n",
       "TestData_05896         20-06-2016  "
      ]
     },
     "execution_count": 82,
     "metadata": {},
     "output_type": "execute_result"
    }
   ],
   "source": [
    "test_df.sample(5)"
   ]
  },
  {
   "cell_type": "code",
   "execution_count": 89,
   "metadata": {
    "collapsed": true
   },
   "outputs": [],
   "source": [
    "test_ix = 'TestData_03241'"
   ]
  },
  {
   "cell_type": "code",
   "execution_count": 90,
   "metadata": {},
   "outputs": [
    {
     "data": {
      "text/plain": [
       "london                1.0\n",
       "metropolitanpolice    1.0\n",
       "police                1.0\n",
       "uksecurity            1.0\n",
       "Name: TestData_03241, dtype: float64"
      ]
     },
     "execution_count": 90,
     "metadata": {},
     "output_type": "execute_result"
    }
   ],
   "source": [
    "q = test_sub_df.ix[test_ix]\n",
    "q[q>0]"
   ]
  },
  {
   "cell_type": "code",
   "execution_count": 91,
   "metadata": {},
   "outputs": [
    {
     "data": {
      "text/plain": [
       "ukcrime    1\n",
       "Name: TestData_04088, dtype: int64"
      ]
     },
     "execution_count": 91,
     "metadata": {},
     "output_type": "execute_result"
    }
   ],
   "source": [
    "q = top_submission.set_index('id').ix[test_ix]\n",
    "q[q>0]"
   ]
  },
  {
   "cell_type": "code",
   "execution_count": 92,
   "metadata": {},
   "outputs": [
    {
     "data": {
      "text/plain": [
       "humanrights    1\n",
       "india          1\n",
       "protest        1\n",
       "ukcrime        1\n",
       "Name: TestData_04088, dtype: int64"
      ]
     },
     "execution_count": 92,
     "metadata": {},
     "output_type": "execute_result"
    }
   ],
   "source": [
    "q = some_sub.set_index('id').ix[test_ix]\n",
    "q[q>0]"
   ]
  },
  {
   "cell_type": "code",
   "execution_count": 62,
   "metadata": {},
   "outputs": [
    {
     "data": {
      "text/plain": [
       "humanrights    1\n",
       "Name: TestData_02924, dtype: int64"
      ]
     },
     "execution_count": 62,
     "metadata": {},
     "output_type": "execute_result"
    }
   ],
   "source": [
    "q = wrong_index_lstm_sub.set_index('id').ix[test_ix]\n",
    "q[q>0]"
   ]
  },
  {
   "cell_type": "code",
   "execution_count": null,
   "metadata": {
    "collapsed": true
   },
   "outputs": [],
   "source": [
    "Counter-terrorism policy\n",
    " \n",
    "Foreign policy\n",
    " \n",
    "Defence policy\n",
    " \n",
    "Islamic State\n",
    " \n",
    "Syria\n",
    " \n",
    "news"
   ]
  },
  {
   "cell_type": "code",
   "execution_count": 83,
   "metadata": {
    "collapsed": true
   },
   "outputs": [],
   "source": [
    "s = trainingY.sum()\n",
    "unseen_topics = s[s.isnull()].index"
   ]
  },
  {
   "cell_type": "code",
   "execution_count": 85,
   "metadata": {
    "scrolled": true
   },
   "outputs": [
    {
     "data": {
      "text/plain": [
       "{'activism',\n",
       " 'bastilledaytruckattack',\n",
       " 'berlinchristmasmarketattack',\n",
       " 'brusselsattacks',\n",
       " 'charliehebdoattack',\n",
       " 'francetrainattack',\n",
       " 'munichshooting',\n",
       " 'orlandoterrorattack',\n",
       " 'parisattacks',\n",
       " 'peaceandreconciliation',\n",
       " 'sanbernardinoshooting',\n",
       " 'tunisiaattack2015',\n",
       " 'turkeycoupattempt',\n",
       " 'zikavirus'}"
      ]
     },
     "execution_count": 85,
     "metadata": {},
     "output_type": "execute_result"
    }
   ],
   "source": [
    "set(topics).intersection(unseen_topics)"
   ]
  },
  {
   "cell_type": "code",
   "execution_count": 170,
   "metadata": {
    "scrolled": true
   },
   "outputs": [
    {
     "name": "stdout",
     "output_type": "stream",
     "text": [
      "activism\n",
      "afghanistan\n",
      "aid\n",
      "algerianhostagecrisis\n",
      "alqaida\n",
      "alshabaab\n",
      "antiwar\n",
      "arabandmiddleeastprotests\n",
      "armstrade\n",
      "australianguncontrol\n",
      "australiansecurityandcounterterrorism\n",
      "bastilledaytruckattack\n",
      "belgium\n",
      "berlinchristmasmarketattack\n",
      "bigdata\n",
      "biometrics\n",
      "bokoharam\n",
      "bostonmarathonbombing\n",
      "britisharmy\n",
      "brusselsattacks\n",
      "cameroon\n",
      "carers\n",
      "charliehebdoattack\n",
      "chemicalweapons\n",
      "clusterbombs\n",
      "cobra\n",
      "conflictanddevelopment\n",
      "controversy\n",
      "criminaljustice\n",
      "cybercrime\n",
      "cyberwar\n",
      "darknet\n",
      "dataprotection\n",
      "debate\n",
      "defence\n",
      "deflation\n",
      "drones\n",
      "drugs\n",
      "drugspolicy\n",
      "drugstrade\n",
      "earthquakes\n",
      "ebola\n",
      "economy\n",
      "egypt\n",
      "encryption\n",
      "energy\n",
      "espionage\n",
      "ethics\n",
      "europeanarrestwarrant\n",
      "europeancourtofhumanrights\n",
      "events\n",
      "extradition\n",
      "famine\n",
      "farright\n",
      "firefighters\n",
      "forensicscience\n",
      "france\n",
      "francetrainattack\n",
      "freedomofspeech\n",
      "genevaconventions\n",
      "germany\n",
      "guncrime\n",
      "hacking\n",
      "hashtags\n",
      "helicoptercrashes\n",
      "humanitarianresponse\n",
      "humanrights\n",
      "humanrightsact\n",
      "humantrafficking\n",
      "immigration\n",
      "india\n",
      "indonesia\n",
      "internallydisplacedpeople\n",
      "internationalcourtofjustice\n",
      "internationalcriminaljustice\n",
      "internetsafety\n",
      "iraq\n",
      "isis\n",
      "israel\n",
      "jordan\n",
      "jubilee\n",
      "judiciary\n",
      "july7\n",
      "justiceandsecurity\n",
      "kenya\n",
      "knifecrime\n",
      "lebanon\n",
      "libya\n",
      "localgovernment\n",
      "logistics\n",
      "london\n",
      "londonriots\n",
      "malaysia\n",
      "mali\n",
      "malware\n",
      "metropolitanpolice\n",
      "middleeastpeacetalks\n",
      "migration\n",
      "military\n",
      "ministryofdefence\n",
      "morocco\n",
      "mrsa\n",
      "mumbaiterrorattacks\n",
      "munichshooting\n",
      "naturaldisasters\n",
      "nigeria\n",
      "nuclearweapons\n",
      "occupy\n",
      "organisedcrime\n",
      "orlandoterrorattack\n",
      "osamabinladen\n",
      "paris\n",
      "parisattacks\n",
      "peaceandreconciliation\n",
      "philippines\n",
      "piracy\n",
      "planecrashes\n",
      "police\n",
      "protest\n",
      "refugees\n",
      "religion\n",
      "retirementage\n",
      "rio20earthsummit\n",
      "royalairforce\n",
      "royalnavy\n",
      "russia\n",
      "sanbernardinoshooting\n",
      "saudiarabia\n",
      "september11\n",
      "slavery\n",
      "somalia\n",
      "southafrica\n",
      "southchinasea\n",
      "stopandsearch\n",
      "surveillance\n",
      "sydneysiege\n",
      "syria\n",
      "taliban\n",
      "terrorism\n",
      "thailand\n",
      "torture\n",
      "traincrashes\n",
      "transport\n",
      "tunisiaattack2015\n",
      "turkey\n",
      "turkeycoupattempt\n",
      "ukcrime\n",
      "uksecurity\n",
      "uksupremecourt\n",
      "undercoverpoliceandpolicing\n",
      "unitednations\n",
      "usguncontrol\n",
      "values\n",
      "warcrimes\n",
      "warreporting\n",
      "weaponstechnology\n",
      "womeninbusiness\n",
      "woolwichattack\n",
      "worldmigration\n",
      "zikavirus\n"
     ]
    }
   ],
   "source": [
    "for i in topics:\n",
    "    print i"
   ]
  },
  {
   "cell_type": "code",
   "execution_count": 263,
   "metadata": {},
   "outputs": [
    {
     "name": "stderr",
     "output_type": "stream",
     "text": [
      "/home/avsolatorio/ml-ai/local/lib/python2.7/site-packages/sklearn/utils/validation.py:395: DeprecationWarning: Passing 1d arrays as data is deprecated in 0.17 and will raise ValueError in 0.19. Reshape your data either using X.reshape(-1, 1) if your data has a single feature or X.reshape(1, -1) if it contains a single sample.\n",
      "  DeprecationWarning)\n"
     ]
    },
    {
     "data": {
      "text/plain": [
       "0.3445929"
      ]
     },
     "execution_count": 263,
     "metadata": {},
     "output_type": "execute_result"
    }
   ],
   "source": [
    "cosine_similarity(wvmodel['zika'], np.vstack(test_wvec.dropna())).max()"
   ]
  },
  {
   "cell_type": "code",
   "execution_count": 259,
   "metadata": {},
   "outputs": [
    {
     "name": "stderr",
     "output_type": "stream",
     "text": [
      "/home/avsolatorio/ml-ai/local/lib/python2.7/site-packages/sklearn/utils/validation.py:395: DeprecationWarning: Passing 1d arrays as data is deprecated in 0.17 and will raise ValueError in 0.19. Reshape your data either using X.reshape(-1, 1) if your data has a single feature or X.reshape(1, -1) if it contains a single sample.\n",
      "  DeprecationWarning)\n"
     ]
    },
    {
     "data": {
      "text/plain": [
       "0.38107796869050226"
      ]
     },
     "execution_count": 259,
     "metadata": {},
     "output_type": "execute_result"
    }
   ],
   "source": [
    "cosine_similarity(fsmodel['zika'], np.vstack(test_fvec.dropna())).max()"
   ]
  },
  {
   "cell_type": "code",
   "execution_count": 251,
   "metadata": {},
   "outputs": [
    {
     "data": {
      "text/plain": [
       "bodyText              The World Health Organisation has convened an ...\n",
       "topics                                                               []\n",
       "webPublicationDate                                           28-01-2016\n",
       "Name: TestData_04490, dtype: object"
      ]
     },
     "execution_count": 251,
     "metadata": {},
     "output_type": "execute_result"
    }
   ],
   "source": [
    "test_df.ix[4488 + 1]"
   ]
  },
  {
   "cell_type": "code",
   "execution_count": 257,
   "metadata": {},
   "outputs": [
    {
     "data": {
      "text/plain": [
       "bodyText              The United Nations security council has called...\n",
       "topics                                                               []\n",
       "webPublicationDate                                           17-09-2016\n",
       "Name: TestData_06730, dtype: object"
      ]
     },
     "execution_count": 257,
     "metadata": {},
     "output_type": "execute_result"
    }
   ],
   "source": [
    "test_df.ix[6727 + 2]"
   ]
  },
  {
   "cell_type": "code",
   "execution_count": 253,
   "metadata": {},
   "outputs": [
    {
     "data": {
      "text/plain": [
       "bodyText              We are deeply concerned that the counter-terro...\n",
       "topics                                                               []\n",
       "webPublicationDate                                           02-02-2015\n",
       "Name: TestData_00360, dtype: object"
      ]
     },
     "execution_count": 253,
     "metadata": {},
     "output_type": "execute_result"
    }
   ],
   "source": [
    "test_df.ix[359]"
   ]
  },
  {
   "cell_type": "code",
   "execution_count": 270,
   "metadata": {},
   "outputs": [
    {
     "data": {
      "text/plain": [
       "drugstrade    1.0\n",
       "Name: TestData_04490, dtype: float64"
      ]
     },
     "execution_count": 270,
     "metadata": {},
     "output_type": "execute_result"
    }
   ],
   "source": [
    "q = test_sub_df.iloc[4488 + 1]\n",
    "q[q > 0]"
   ]
  },
  {
   "cell_type": "code",
   "execution_count": null,
   "metadata": {
    "collapsed": true
   },
   "outputs": [],
   "source": []
  }
 ],
 "metadata": {
  "kernelspec": {
   "display_name": "Python 2",
   "language": "python",
   "name": "python2"
  },
  "language_info": {
   "codemirror_mode": {
    "name": "ipython",
    "version": 2
   },
   "file_extension": ".py",
   "mimetype": "text/x-python",
   "name": "python",
   "nbconvert_exporter": "python",
   "pygments_lexer": "ipython2",
   "version": "2.7.12"
  }
 },
 "nbformat": 4,
 "nbformat_minor": 2
}
