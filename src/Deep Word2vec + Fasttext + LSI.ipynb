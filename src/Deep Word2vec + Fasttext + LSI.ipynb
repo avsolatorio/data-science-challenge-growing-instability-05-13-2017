{
 "cells": [
  {
   "cell_type": "code",
   "execution_count": 1,
   "metadata": {},
   "outputs": [
    {
     "name": "stderr",
     "output_type": "stream",
     "text": [
      "Using TensorFlow backend.\n"
     ]
    }
   ],
   "source": [
    "from growing_instability_lib import *"
   ]
  },
  {
   "cell_type": "code",
   "execution_count": 2,
   "metadata": {},
   "outputs": [
    {
     "data": {
      "text/plain": [
       "160"
      ]
     },
     "execution_count": 2,
     "metadata": {},
     "output_type": "execute_result"
    }
   ],
   "source": [
    "sample_sub = pd.read_csv('../data/sampleSubmission.csv')\n",
    "topics = sorted(set(sample_sub.columns.difference(['id'])))\n",
    "\n",
    "topic2actual = {}\n",
    "for i in sample_sub.columns:\n",
    "    if 'id' == i:\n",
    "        continue\n",
    "    topic2actual[i] = segment(i)\n",
    "    \n",
    "target_columns = sorted(topics)\n",
    "len(topics)"
   ]
  },
  {
   "cell_type": "code",
   "execution_count": 3,
   "metadata": {},
   "outputs": [
    {
     "name": "stdout",
     "output_type": "stream",
     "text": [
      "CPU times: user 10.3 s, sys: 3.88 s, total: 14.1 s\n",
      "Wall time: 17.4 s\n"
     ]
    }
   ],
   "source": [
    "%%time\n",
    "wvec_trainingX = pd.read_hdf('training_data_wv_fs_lsi_no_stopwords.hdf', 'wvec_trainingX')\n",
    "fvec_trainingX = pd.read_hdf('training_data_wv_fs_lsi_no_stopwords.hdf', 'fvec_trainingX')\n",
    "\n",
    "tfidf_wvec_trainingX = pd.read_hdf('training_data_wv_fs_lsi_no_stopwords.hdf', 'tfidf_wvec_trainingX')\n",
    "tfidf_fvec_trainingX = pd.read_hdf('training_data_wv_fs_lsi_no_stopwords.hdf', 'tfidf_fvec_trainingX')\n",
    "tfidf_lsi_trainingX = pd.read_hdf('training_data_wv_fs_lsi_no_stopwords.hdf', 'tfidf_lsi_trainingX')\n",
    "\n",
    "word2idx_trainingX = pd.read_hdf('training_data_wv_fs_lsi_no_stopwords.hdf', 'word2idx_trainingX')\n",
    "_word2idx = pd.read_hdf('training_data_wv_fs_lsi_no_stopwords.hdf', '_word2idx')\n",
    "trainingY = pd.read_hdf('training_data_wv_fs_lsi_no_stopwords.hdf', 'trainingY')"
   ]
  },
  {
   "cell_type": "code",
   "execution_count": 4,
   "metadata": {
    "collapsed": true
   },
   "outputs": [],
   "source": [
    "# https://192.168.1.25:9999/notebooks/kaggle/data-science-challenge-growing-instability-05-13-2017/src/Topic%20Modeling%20and%20Clustering.ipynb\n",
    "train_test_df = pd.read_hdf('train_test_df.hdf', 'train_test_df')"
   ]
  },
  {
   "cell_type": "code",
   "execution_count": 33,
   "metadata": {
    "collapsed": true
   },
   "outputs": [],
   "source": [
    "def transform_topics(df, topics):\n",
    "    topics = sorted(topics)\n",
    "#     v = np.zeros(shape=(df.shape[0], len(topics)))\n",
    "    v = []\n",
    "    for ix, tp in enumerate(df.topics):\n",
    "        tt = []\n",
    "        for t in tp:\n",
    "            tt.append(topics.index(t))\n",
    "#             v[ix][topics.index(t)] = 1\n",
    "        v.append(tt)\n",
    "\n",
    "    return pd.Series(v, index=df.index)"
   ]
  },
  {
   "cell_type": "code",
   "execution_count": 34,
   "metadata": {},
   "outputs": [],
   "source": [
    "train_test_word_indices, train_test_wvec, train_test_fvec, train_test_tfidf_wvec, train_test_tfidf_fvec, train_test_tfidf_lsi = extract_features_for(\n",
    ")\n",
    "\n",
    "train_test_y = transform_topics(train_test_df, topics)"
   ]
  },
  {
   "cell_type": "code",
   "execution_count": 26,
   "metadata": {},
   "outputs": [
    {
     "name": "stdout",
     "output_type": "stream",
     "text": [
      "CPU times: user 11 s, sys: 288 ms, total: 11.3 s\n",
      "Wall time: 11.2 s\n"
     ]
    }
   ],
   "source": [
    "%%time\n",
    "ind2word = {j:i for i, j in _word2idx.iteritems()}\n",
    "ind2class = dict(enumerate(topics))\n",
    "class2ind = {j: i for i, j in ind2class.items()}\n",
    "\n",
    "num_samples = trainingY.shape[0]\n",
    "\n",
    "# ---------------------------------\n",
    "training_X = word2idx_trainingX.head(num_samples)\n",
    "training_Y = pd.DataFrame(zip(*np.where(trainingY.head(num_samples) == 1)), columns=['iloc', 'topics'])\n",
    "\n",
    "training_WV = wvec_trainingX.head(num_samples)\n",
    "training_FS = fvec_trainingX.head(num_samples)\n",
    "\n",
    "training_tfidf_WV = tfidf_wvec_trainingX.head(num_samples)\n",
    "training_tfidf_FS = tfidf_fvec_trainingX.head(num_samples)\n",
    "training_tfidf_LSI = tfidf_lsi_trainingX.head(num_samples)\n",
    "# ---------------------------------\n",
    "\n",
    "\n",
    "# ---------------------------------\n",
    "training_Y = training_Y.groupby('iloc')['topics'].apply(list)\n",
    "training_Y.index = trainingY.head(num_samples).index\n",
    "\n",
    "indices = sorted(training_Y.index[training_Y.index.str.contains('^201[0-9]')])\n",
    "# np.random.shuffle(indices)\n",
    "indices = pd.Index(indices)\n",
    "# ---------------------------------\n",
    "\n",
    "\n",
    "# ---------------------------------\n",
    "training_X = training_X.ix[indices]\n",
    "training_Y = training_Y.ix[indices]\n",
    "\n",
    "training_WV = training_WV.ix[indices]\n",
    "training_FS = training_FS.ix[indices]\n",
    "\n",
    "training_tfidf_WV = training_tfidf_WV.ix[indices]\n",
    "training_tfidf_FS = training_tfidf_FS.ix[indices]\n",
    "training_tfidf_LSI = training_tfidf_LSI.ix[indices]\n",
    "# ---------------------------------"
   ]
  },
  {
   "cell_type": "code",
   "execution_count": 27,
   "metadata": {},
   "outputs": [
    {
     "name": "stdout",
     "output_type": "stream",
     "text": [
      "CPU times: user 0 ns, sys: 0 ns, total: 0 ns\n",
      "Wall time: 9.06 µs\n"
     ]
    }
   ],
   "source": [
    "%%time\n",
    "wv_sc = StandardScaler()\n",
    "fs_sc = StandardScaler()\n",
    "\n",
    "tfidf_wv_sc = StandardScaler()\n",
    "tfidf_fs_sc = StandardScaler()\n",
    "tfidf_lsi_sc = StandardScaler()"
   ]
  },
  {
   "cell_type": "code",
   "execution_count": 163,
   "metadata": {
    "scrolled": true
   },
   "outputs": [
    {
     "name": "stdout",
     "output_type": "stream",
     "text": [
      "CPU times: user 2.7 s, sys: 268 ms, total: 2.97 s\n",
      "Wall time: 2.95 s\n"
     ]
    }
   ],
   "source": [
    "%%time\n",
    "\n",
    "from keras.preprocessing import sequence\n",
    "maxlen = 500\n",
    "\n",
    "\n",
    "def build_target(y, size):\n",
    "    e = np.zeros(size)\n",
    "    e[y] = 1\n",
    "    return e\n",
    "\n",
    "\n",
    "def build_input_output_data(X, WV, FS, TWV, TFS, TLSI, Y, maxlen):\n",
    "    x = sequence.pad_sequences(X, maxlen=maxlen)\n",
    "    y = np.vstack(Y.map(lambda x: build_target(x, len(topics))))\n",
    "\n",
    "    wv = np.vstack(WV)\n",
    "    fs = np.vstack(FS)\n",
    "\n",
    "    twv = np.vstack(TWV)\n",
    "    tfs = np.vstack(TFS)\n",
    "    tlsi = np.vstack(TLSI)\n",
    "\n",
    "    return x, wv, fs, twv, tfs, tlsi, y\n",
    "\n",
    "\n",
    "# ---------------------------------\n",
    "train_ix = training_Y.index.str.contains('^201[0-4]')\n",
    "val_ix = training_Y.index.str.contains('^2014[b]')\n",
    "# ---------------------------------\n",
    "\n",
    "\n",
    "# ---------------------------------\n",
    "x_train, wv_train, fs_train, tfidf_wv_train, tfidf_fs_train, tfidf_lsi_train, y_train = build_input_output_data(\n",
    "    training_X.ix[train_ix],\n",
    "\n",
    "    training_WV.ix[train_ix],\n",
    "    training_FS.ix[train_ix],\n",
    "\n",
    "    training_tfidf_WV.ix[train_ix],\n",
    "    training_tfidf_FS.ix[train_ix],\n",
    "    training_tfidf_LSI.ix[train_ix],\n",
    "\n",
    "    training_Y.ix[train_ix],\n",
    "    maxlen=maxlen\n",
    ")\n",
    "# ---------------------------------\n",
    "\n",
    "\n",
    "# ---------------------------------\n",
    "x_val, wv_val, fs_val, tfidf_wv_val, tfidf_fs_val, tfidf_lsi_val, y_val = build_input_output_data(\n",
    "    training_X.ix[val_ix],\n",
    "\n",
    "    training_WV.ix[val_ix],\n",
    "    training_FS.ix[val_ix],\n",
    "\n",
    "    training_tfidf_WV.ix[val_ix],\n",
    "    training_tfidf_FS.ix[val_ix],\n",
    "    training_tfidf_LSI.ix[val_ix],\n",
    "\n",
    "    training_Y.ix[val_ix],\n",
    "    maxlen=maxlen\n",
    ")\n",
    "# ---------------------------------"
   ]
  },
  {
   "cell_type": "code",
   "execution_count": 164,
   "metadata": {},
   "outputs": [],
   "source": [
    "# ---------------------------------\n",
    "train_test_x_train, train_test_wv_train, train_test_fs_train, train_test_tfidf_wv_train, train_test_tfidf_fs_train, train_test_tfidf_lsi_train, train_test_y_train = build_input_output_data(\n",
    "    train_test_word_indices,\n",
    "\n",
    "    train_test_wvec,\n",
    "    train_test_fvec,\n",
    "\n",
    "    train_test_tfidf_wvec,\n",
    "    train_test_tfidf_fvec,\n",
    "    train_test_tfidf_lsi,\n",
    "\n",
    "    train_test_y,\n",
    "    maxlen=maxlen\n",
    ")\n",
    "# ---------------------------------"
   ]
  },
  {
   "cell_type": "code",
   "execution_count": 170,
   "metadata": {},
   "outputs": [],
   "source": [
    "def upsample(x, N=10):\n",
    "    return np.vstack([x for i in xrange(N)])"
   ]
  },
  {
   "cell_type": "code",
   "execution_count": 171,
   "metadata": {},
   "outputs": [],
   "source": [
    "x_train = np.vstack([x_train, upsample(train_test_x_train)])\n",
    "\n",
    "wv_train = np.vstack([wv_train, upsample(train_test_wv_train)])\n",
    "fs_train = np.vstack([fs_train, upsample(train_test_fs_train)])\n",
    "\n",
    "tfidf_wv_train = np.vstack([tfidf_wv_train, upsample(train_test_tfidf_wv_train)])\n",
    "tfidf_fs_train = np.vstack([tfidf_fs_train, upsample(train_test_tfidf_fs_train)])\n",
    "tfidf_lsi_train = np.vstack([tfidf_lsi_train, upsample(train_test_tfidf_lsi_train)])\n",
    "\n",
    "y_train = np.vstack([y_train, upsample(train_test_y_train)])"
   ]
  },
  {
   "cell_type": "code",
   "execution_count": 172,
   "metadata": {
    "collapsed": true
   },
   "outputs": [],
   "source": [
    "# ---------------------------------\n",
    "wv_train = wv_sc.fit_transform(wv_train)\n",
    "fs_train = fs_sc.fit_transform(fs_train)\n",
    "\n",
    "tfidf_wv_train = tfidf_wv_sc.fit_transform(tfidf_wv_train)\n",
    "tfidf_fs_train = tfidf_fs_sc.fit_transform(tfidf_fs_train)\n",
    "tfidf_lsi_train = tfidf_lsi_sc.fit_transform(tfidf_lsi_train)\n",
    "# ---------------------------------\n",
    "\n",
    "\n",
    "# ---------------------------------\n",
    "wv_val = wv_sc.transform(wv_val)\n",
    "fs_val = fs_sc.transform(fs_val)\n",
    "\n",
    "tfidf_wv_val = tfidf_wv_sc.transform(tfidf_wv_val)\n",
    "tfidf_fs_val = tfidf_fs_sc.transform(tfidf_fs_val)\n",
    "tfidf_lsi_val = tfidf_lsi_sc.transform(tfidf_lsi_val)\n",
    "# ---------------------------------"
   ]
  },
  {
   "cell_type": "code",
   "execution_count": 173,
   "metadata": {},
   "outputs": [
    {
     "data": {
      "text/plain": [
       "((94731,), (9424,))"
      ]
     },
     "execution_count": 173,
     "metadata": {},
     "output_type": "execute_result"
    }
   ],
   "source": [
    "training_Y.shape, training_Y.ix[training_Y.index.str.contains('^2014[b]')].shape"
   ]
  },
  {
   "cell_type": "code",
   "execution_count": null,
   "metadata": {
    "collapsed": true
   },
   "outputs": [],
   "source": []
  },
  {
   "cell_type": "code",
   "execution_count": 174,
   "metadata": {
    "collapsed": true
   },
   "outputs": [],
   "source": [
    "import tensorflow as K\n",
    "import keras.backend as KB\n",
    "\n",
    "\n",
    "def f1_micro(y_true, y_pred):\n",
    "    TP = K.metrics.true_positives(y_true, K.round(y_pred))\n",
    "    FP = K.metrics.false_positives(y_true, K.round(y_pred))\n",
    "    FN = K.metrics.false_negatives(y_true, K.round(y_pred))\n",
    "    \n",
    "    p = K.reduce_sum(TP) / (K.reduce_sum(TP) + K.reduce_sum(FP))\n",
    "    r = K.reduce_sum(TP) / (K.reduce_sum(TP) + K.reduce_sum(FN))\n",
    "    \n",
    "    return (2.0 * p * r) / (p + r)\n",
    "\n",
    "\n",
    "def f1_score(y_true, y_pred):\n",
    "\n",
    "    # Count positive samples.\n",
    "    c1 = KB.sum(KB.round(KB.clip(y_true * y_pred, 0, 1)))\n",
    "    c2 = KB.sum(KB.round(KB.clip(y_pred, 0, 1)))\n",
    "    c3 = KB.sum(KB.round(KB.clip(y_true, 0, 1)))\n",
    "\n",
    "    # If there are no true samples, fix the F1 score at 0.\n",
    "    if c3 == 0:\n",
    "        return 0\n",
    "\n",
    "    # How many selected items are relevant?\n",
    "    precision = c1 / c2\n",
    "\n",
    "    # How many relevant items are selected?\n",
    "    recall = c1 / c3\n",
    "\n",
    "    # Calculate f1_score\n",
    "    f1_score = 2 * (precision * recall) / (precision + recall)\n",
    "    return f1_score"
   ]
  },
  {
   "cell_type": "code",
   "execution_count": 175,
   "metadata": {
    "collapsed": true,
    "scrolled": true
   },
   "outputs": [],
   "source": [
    "from keras.layers import Input, Embedding, LSTM, Dense, Dropout, Convolution1D, MaxPooling1D, Flatten\n",
    "from keras.models import Model\n",
    "import itertools as it\n",
    "\n",
    "\n",
    "def build_deep_input_stack(input_node):\n",
    "    x = Dense(128, activation='relu')(input_node)\n",
    "    x = Dropout(0.3)(x)\n",
    "    x = Dense(256, activation='relu')(input_node)\n",
    "    x = Dropout(0.3)(x)\n",
    "    x = Dense(512, activation='relu')(x)\n",
    "    x = Dropout(0.3)(x)\n",
    "    return x\n",
    "\n",
    "\n",
    "def entangle_inputs(input_nodes=[]):\n",
    "    assert(len(input_nodes) > 1)\n",
    "    \n",
    "    entangled_inputs = []\n",
    "\n",
    "    for n1, n2 in it.combinations(input_nodes, 2):\n",
    "        entangled_inputs.append(\n",
    "            keras.layers.dot([n1, n2], 1, normalize=True)\n",
    "        )\n",
    "    \n",
    "    return entangled_inputs\n",
    "\n",
    "\n",
    "wv_input = Input(shape=(300,), name='wv_input')\n",
    "fs_input = Input(shape=(300,), name='fs_input')\n",
    "\n",
    "tfidf_wv_input = Input(shape=(300,), name='tfidf_wv_input')\n",
    "tfidf_fs_input = Input(shape=(300,), name='tfidf_fs_input')\n",
    "tfidf_lsi_input = Input(shape=(300,), name='tfidf_lsi_input')\n",
    "\n",
    "\n",
    "wv_x = build_deep_input_stack(wv_input)\n",
    "fs_x = build_deep_input_stack(fs_input)\n",
    "tfidf_wv_x = build_deep_input_stack(tfidf_wv_input)\n",
    "tfidf_fs_x = build_deep_input_stack(tfidf_fs_input)\n",
    "tfidf_lsi_x = build_deep_input_stack(tfidf_wv_input)\n",
    "\n",
    "stacked_inputs_x = [wv_x, fs_x, tfidf_wv_x, tfidf_fs_x, tfidf_lsi_x]\n",
    "entangled_inputs_x = entangle_inputs(stacked_inputs_x)\n",
    "\n",
    "x = keras.layers.concatenate(stacked_inputs_x + entangled_inputs_x)\n",
    "\n",
    "# We stack a deep densely-connected network on top\n",
    "x = Dense(128, activation='relu')(x)\n",
    "x = Dropout(0.3)(x)\n",
    "x = Dense(256, activation='relu')(x)\n",
    "x = Dropout(0.3)(x)\n",
    "x = Dense(256, activation='relu')(x)\n",
    "x = Dropout(0.3)(x)\n",
    "x = Dense(128, activation='relu')(x)\n",
    "x = Dropout(0.3)(x)\n",
    "\n",
    "# And finally we add the main logistic regression layer\n",
    "main_output = Dense(len(class2ind), activation='sigmoid', name='main_output')(x)\n",
    "\n",
    "model = Model(\n",
    "    inputs=[\n",
    "        wv_input,\n",
    "        fs_input,\n",
    "        tfidf_wv_input,\n",
    "        tfidf_fs_input,\n",
    "        tfidf_lsi_input,\n",
    "    ],\n",
    "    outputs=[main_output]\n",
    ")"
   ]
  },
  {
   "cell_type": "code",
   "execution_count": 176,
   "metadata": {},
   "outputs": [
    {
     "data": {
      "text/plain": [
       "[<tf.Tensor 'dot_21/ExpandDims:0' shape=(?, 1) dtype=float32>,\n",
       " <tf.Tensor 'dot_22/ExpandDims:0' shape=(?, 1) dtype=float32>,\n",
       " <tf.Tensor 'dot_23/ExpandDims:0' shape=(?, 1) dtype=float32>,\n",
       " <tf.Tensor 'dot_24/ExpandDims:0' shape=(?, 1) dtype=float32>,\n",
       " <tf.Tensor 'dot_25/ExpandDims:0' shape=(?, 1) dtype=float32>,\n",
       " <tf.Tensor 'dot_26/ExpandDims:0' shape=(?, 1) dtype=float32>,\n",
       " <tf.Tensor 'dot_27/ExpandDims:0' shape=(?, 1) dtype=float32>,\n",
       " <tf.Tensor 'dot_28/ExpandDims:0' shape=(?, 1) dtype=float32>,\n",
       " <tf.Tensor 'dot_29/ExpandDims:0' shape=(?, 1) dtype=float32>,\n",
       " <tf.Tensor 'dot_30/ExpandDims:0' shape=(?, 1) dtype=float32>]"
      ]
     },
     "execution_count": 176,
     "metadata": {},
     "output_type": "execute_result"
    }
   ],
   "source": [
    "entangled_inputs_x"
   ]
  },
  {
   "cell_type": "code",
   "execution_count": 177,
   "metadata": {
    "scrolled": true
   },
   "outputs": [
    {
     "name": "stdout",
     "output_type": "stream",
     "text": [
      "____________________________________________________________________________________________________\n",
      "Layer (type)                     Output Shape          Param #     Connected to                     \n",
      "====================================================================================================\n",
      "wv_input (InputLayer)            (None, 300)           0                                            \n",
      "____________________________________________________________________________________________________\n",
      "fs_input (InputLayer)            (None, 300)           0                                            \n",
      "____________________________________________________________________________________________________\n",
      "tfidf_wv_input (InputLayer)      (None, 300)           0                                            \n",
      "____________________________________________________________________________________________________\n",
      "tfidf_fs_input (InputLayer)      (None, 300)           0                                            \n",
      "____________________________________________________________________________________________________\n",
      "dense_34 (Dense)                 (None, 256)           77056                                        \n",
      "____________________________________________________________________________________________________\n",
      "dense_37 (Dense)                 (None, 256)           77056                                        \n",
      "____________________________________________________________________________________________________\n",
      "dense_40 (Dense)                 (None, 256)           77056                                        \n",
      "____________________________________________________________________________________________________\n",
      "dense_43 (Dense)                 (None, 256)           77056                                        \n",
      "____________________________________________________________________________________________________\n",
      "dense_46 (Dense)                 (None, 256)           77056                                        \n",
      "____________________________________________________________________________________________________\n",
      "dropout_34 (Dropout)             (None, 256)           0                                            \n",
      "____________________________________________________________________________________________________\n",
      "dropout_37 (Dropout)             (None, 256)           0                                            \n",
      "____________________________________________________________________________________________________\n",
      "dropout_40 (Dropout)             (None, 256)           0                                            \n",
      "____________________________________________________________________________________________________\n",
      "dropout_43 (Dropout)             (None, 256)           0                                            \n",
      "____________________________________________________________________________________________________\n",
      "dropout_46 (Dropout)             (None, 256)           0                                            \n",
      "____________________________________________________________________________________________________\n",
      "dense_35 (Dense)                 (None, 512)           131584                                       \n",
      "____________________________________________________________________________________________________\n",
      "dense_38 (Dense)                 (None, 512)           131584                                       \n",
      "____________________________________________________________________________________________________\n",
      "dense_41 (Dense)                 (None, 512)           131584                                       \n",
      "____________________________________________________________________________________________________\n",
      "dense_44 (Dense)                 (None, 512)           131584                                       \n",
      "____________________________________________________________________________________________________\n",
      "dense_47 (Dense)                 (None, 512)           131584                                       \n",
      "____________________________________________________________________________________________________\n",
      "dropout_35 (Dropout)             (None, 512)           0                                            \n",
      "____________________________________________________________________________________________________\n",
      "dropout_38 (Dropout)             (None, 512)           0                                            \n",
      "____________________________________________________________________________________________________\n",
      "dropout_41 (Dropout)             (None, 512)           0                                            \n",
      "____________________________________________________________________________________________________\n",
      "dropout_44 (Dropout)             (None, 512)           0                                            \n",
      "____________________________________________________________________________________________________\n",
      "dropout_47 (Dropout)             (None, 512)           0                                            \n",
      "____________________________________________________________________________________________________\n",
      "dot_21 (Dot)                     (None, 1)             0                                            \n",
      "____________________________________________________________________________________________________\n",
      "dot_22 (Dot)                     (None, 1)             0                                            \n",
      "____________________________________________________________________________________________________\n",
      "dot_23 (Dot)                     (None, 1)             0                                            \n",
      "____________________________________________________________________________________________________\n",
      "dot_24 (Dot)                     (None, 1)             0                                            \n",
      "____________________________________________________________________________________________________\n",
      "dot_25 (Dot)                     (None, 1)             0                                            \n",
      "____________________________________________________________________________________________________\n",
      "dot_26 (Dot)                     (None, 1)             0                                            \n",
      "____________________________________________________________________________________________________\n",
      "dot_27 (Dot)                     (None, 1)             0                                            \n",
      "____________________________________________________________________________________________________\n",
      "dot_28 (Dot)                     (None, 1)             0                                            \n",
      "____________________________________________________________________________________________________\n",
      "dot_29 (Dot)                     (None, 1)             0                                            \n",
      "____________________________________________________________________________________________________\n",
      "dot_30 (Dot)                     (None, 1)             0                                            \n",
      "____________________________________________________________________________________________________\n",
      "concatenate_3 (Concatenate)      (None, 2570)          0                                            \n",
      "____________________________________________________________________________________________________\n",
      "dense_48 (Dense)                 (None, 128)           329088                                       \n",
      "____________________________________________________________________________________________________\n",
      "dropout_48 (Dropout)             (None, 128)           0                                            \n",
      "____________________________________________________________________________________________________\n",
      "dense_49 (Dense)                 (None, 256)           33024                                        \n",
      "____________________________________________________________________________________________________\n",
      "dropout_49 (Dropout)             (None, 256)           0                                            \n",
      "____________________________________________________________________________________________________\n",
      "dense_50 (Dense)                 (None, 256)           65792                                        \n",
      "____________________________________________________________________________________________________\n",
      "dropout_50 (Dropout)             (None, 256)           0                                            \n",
      "____________________________________________________________________________________________________\n",
      "dense_51 (Dense)                 (None, 128)           32896                                        \n",
      "____________________________________________________________________________________________________\n",
      "dropout_51 (Dropout)             (None, 128)           0                                            \n",
      "____________________________________________________________________________________________________\n",
      "main_output (Dense)              (None, 160)           20640                                        \n",
      "====================================================================================================\n",
      "Total params: 1,524,640\n",
      "Trainable params: 1,524,640\n",
      "Non-trainable params: 0\n",
      "____________________________________________________________________________________________________\n"
     ]
    }
   ],
   "source": [
    "model.compile(\n",
    "    optimizer='adam',\n",
    "    loss={'main_output': 'categorical_crossentropy'},\n",
    "    loss_weights={'main_output': 1.},\n",
    "    metrics=['accuracy', f1_micro]\n",
    ")\n",
    "\n",
    "model.summary()"
   ]
  },
  {
   "cell_type": "code",
   "execution_count": 178,
   "metadata": {
    "collapsed": true
   },
   "outputs": [],
   "source": [
    "# from keras.callbacks import EarlyStopping\n",
    "# early_stopping = EarlyStopping(monitor='val_loss', patience=2)\n",
    "# model.fit(X, y, validation_split=0.2, callbacks=[early_stopping])"
   ]
  },
  {
   "cell_type": "code",
   "execution_count": 179,
   "metadata": {
    "collapsed": true
   },
   "outputs": [],
   "source": [
    "def build_training_inputs(wv, fs, tfidf_wv, tfidf_fs, tfidf_lsi):\n",
    "    training_inputs = {\n",
    "        'wv_input': wv,\n",
    "        'fs_input': fs,\n",
    "        'tfidf_wv_input': tfidf_wv,\n",
    "        'tfidf_fs_input': tfidf_fs,\n",
    "        'tfidf_lsi_input': tfidf_lsi,\n",
    "    }\n",
    "    \n",
    "    return training_inputs\n",
    "    \n",
    "\n",
    "training_inputs = build_training_inputs(\n",
    "    wv_train,\n",
    "    fs_train,\n",
    "    tfidf_wv_train,\n",
    "    tfidf_fs_train,\n",
    "    tfidf_lsi_train,\n",
    ")\n",
    "\n",
    "training_outputs = {\n",
    "    'main_output': y_train,\n",
    "}\n",
    "\n",
    "# train_test_shape = train_test_df.shape[0]\n",
    "# train_test_training_inputs = build_training_inputs(\n",
    "#     wv_train[-train_test_shape:],\n",
    "#     fs_train[-train_test_shape:],\n",
    "#     tfidf_wv_train[-train_test_shape:],\n",
    "#     tfidf_fs_train[-train_test_shape:],\n",
    "#     tfidf_lsi_train[-train_test_shape:],\n",
    "# )\n",
    "\n",
    "# train_test_training_outputs = {\n",
    "#     'main_output': y_train[-train_test_shape:],\n",
    "# }\n",
    "\n",
    "\n",
    "validation_data=(\n",
    "    build_training_inputs(\n",
    "        wv_val,\n",
    "        fs_val,\n",
    "        tfidf_wv_val,\n",
    "        tfidf_fs_val,\n",
    "        tfidf_lsi_val,\n",
    "    ),\n",
    "    {\n",
    "        'main_output': y_val,\n",
    "    }\n",
    ")"
   ]
  },
  {
   "cell_type": "code",
   "execution_count": null,
   "metadata": {},
   "outputs": [],
   "source": []
  },
  {
   "cell_type": "code",
   "execution_count": 182,
   "metadata": {
    "scrolled": true
   },
   "outputs": [
    {
     "name": "stdout",
     "output_type": "stream",
     "text": [
      "Train on 95811 samples, validate on 9424 samples\n",
      "Epoch 1/90\n",
      "95811/95811 [==============================] - 2s - loss: 1.8976 - acc: 0.6866 - f1_micro: 0.5215 - val_loss: 1.5759 - val_acc: 0.7536 - val_f1_micro: 0.5221\n",
      "Epoch 2/90\n",
      "95811/95811 [==============================] - 2s - loss: 1.8957 - acc: 0.6852 - f1_micro: 0.5227 - val_loss: 1.5661 - val_acc: 0.7551 - val_f1_micro: 0.5232\n",
      "Epoch 3/90\n",
      "95811/95811 [==============================] - 2s - loss: 1.8942 - acc: 0.6866 - f1_micro: 0.5238 - val_loss: 1.5655 - val_acc: 0.7606 - val_f1_micro: 0.5243\n",
      "Epoch 4/90\n",
      "95811/95811 [==============================] - 2s - loss: 1.8908 - acc: 0.6882 - f1_micro: 0.5248 - val_loss: 1.5716 - val_acc: 0.7550 - val_f1_micro: 0.5254\n",
      "Epoch 5/90\n",
      "95811/95811 [==============================] - 2s - loss: 1.8863 - acc: 0.6894 - f1_micro: 0.5259 - val_loss: 1.5785 - val_acc: 0.7486 - val_f1_micro: 0.5264\n",
      "Epoch 6/90\n",
      "95811/95811 [==============================] - 2s - loss: 1.8905 - acc: 0.6873 - f1_micro: 0.5270 - val_loss: 1.5660 - val_acc: 0.7461 - val_f1_micro: 0.5275\n",
      "Epoch 7/90\n",
      "95811/95811 [==============================] - 2s - loss: 1.8795 - acc: 0.6892 - f1_micro: 0.5280 - val_loss: 1.5510 - val_acc: 0.7513 - val_f1_micro: 0.5285\n",
      "Epoch 8/90\n",
      "95811/95811 [==============================] - 2s - loss: 1.8798 - acc: 0.6893 - f1_micro: 0.5291 - val_loss: 1.5628 - val_acc: 0.7492 - val_f1_micro: 0.5296\n",
      "Epoch 9/90\n",
      "95811/95811 [==============================] - 2s - loss: 1.8808 - acc: 0.6905 - f1_micro: 0.5301 - val_loss: 1.5568 - val_acc: 0.7490 - val_f1_micro: 0.5306\n",
      "Epoch 10/90\n",
      "95811/95811 [==============================] - 2s - loss: 1.8766 - acc: 0.6882 - f1_micro: 0.5311 - val_loss: 1.5524 - val_acc: 0.7581 - val_f1_micro: 0.5317\n",
      "Epoch 11/90\n",
      "95811/95811 [==============================] - 2s - loss: 1.8783 - acc: 0.6895 - f1_micro: 0.5321 - val_loss: 1.5539 - val_acc: 0.7629 - val_f1_micro: 0.5326\n",
      "Epoch 12/90\n",
      "95811/95811 [==============================] - 2s - loss: 1.8758 - acc: 0.6894 - f1_micro: 0.5331 - val_loss: 1.5540 - val_acc: 0.7536 - val_f1_micro: 0.5336\n",
      "Epoch 13/90\n",
      "95811/95811 [==============================] - 2s - loss: 1.8724 - acc: 0.6890 - f1_micro: 0.5341 - val_loss: 1.5461 - val_acc: 0.7554 - val_f1_micro: 0.5346\n",
      "Epoch 14/90\n",
      "95811/95811 [==============================] - 2s - loss: 1.8687 - acc: 0.6910 - f1_micro: 0.5351 - val_loss: 1.5399 - val_acc: 0.7550 - val_f1_micro: 0.5355\n",
      "Epoch 15/90\n",
      "95811/95811 [==============================] - 2s - loss: 1.8648 - acc: 0.6909 - f1_micro: 0.5360 - val_loss: 1.5465 - val_acc: 0.7550 - val_f1_micro: 0.5365\n",
      "Epoch 16/90\n",
      "95811/95811 [==============================] - 2s - loss: 1.8594 - acc: 0.6917 - f1_micro: 0.5369 - val_loss: 1.5347 - val_acc: 0.7541 - val_f1_micro: 0.5374\n",
      "Epoch 17/90\n",
      "95811/95811 [==============================] - 2s - loss: 1.8564 - acc: 0.6903 - f1_micro: 0.5379 - val_loss: 1.5406 - val_acc: 0.7585 - val_f1_micro: 0.5383\n",
      "Epoch 18/90\n",
      "95811/95811 [==============================] - 2s - loss: 1.8504 - acc: 0.6940 - f1_micro: 0.5388 - val_loss: 1.5289 - val_acc: 0.7506 - val_f1_micro: 0.5393\n",
      "Epoch 19/90\n",
      "95811/95811 [==============================] - 2s - loss: 1.8548 - acc: 0.6905 - f1_micro: 0.5397 - val_loss: 1.5277 - val_acc: 0.7642 - val_f1_micro: 0.5402\n",
      "Epoch 20/90\n",
      "95811/95811 [==============================] - 2s - loss: 1.8525 - acc: 0.6931 - f1_micro: 0.5407 - val_loss: 1.5274 - val_acc: 0.7601 - val_f1_micro: 0.5411\n",
      "Epoch 21/90\n",
      "95811/95811 [==============================] - 2s - loss: 1.8513 - acc: 0.6918 - f1_micro: 0.5416 - val_loss: 1.5272 - val_acc: 0.7490 - val_f1_micro: 0.5421\n",
      "Epoch 22/90\n",
      "95811/95811 [==============================] - 2s - loss: 1.8452 - acc: 0.6922 - f1_micro: 0.5425 - val_loss: 1.5187 - val_acc: 0.7606 - val_f1_micro: 0.5430\n",
      "Epoch 23/90\n",
      "95811/95811 [==============================] - 2s - loss: 1.8426 - acc: 0.6933 - f1_micro: 0.5434 - val_loss: 1.5158 - val_acc: 0.7551 - val_f1_micro: 0.5439\n",
      "Epoch 24/90\n",
      "95811/95811 [==============================] - 2s - loss: 1.8427 - acc: 0.6929 - f1_micro: 0.5443 - val_loss: 1.5166 - val_acc: 0.7572 - val_f1_micro: 0.5448\n",
      "Epoch 25/90\n",
      "95811/95811 [==============================] - 2s - loss: 1.8352 - acc: 0.6936 - f1_micro: 0.5452 - val_loss: 1.5057 - val_acc: 0.7529 - val_f1_micro: 0.5457\n",
      "Epoch 26/90\n",
      "95811/95811 [==============================] - 2s - loss: 1.8420 - acc: 0.6937 - f1_micro: 0.5461 - val_loss: 1.5061 - val_acc: 0.7584 - val_f1_micro: 0.5466\n",
      "Epoch 27/90\n",
      "95811/95811 [==============================] - 2s - loss: 1.8354 - acc: 0.6945 - f1_micro: 0.5470 - val_loss: 1.5078 - val_acc: 0.7635 - val_f1_micro: 0.5474\n",
      "Epoch 28/90\n",
      "95811/95811 [==============================] - 2s - loss: 1.8301 - acc: 0.6954 - f1_micro: 0.5478 - val_loss: 1.5091 - val_acc: 0.7641 - val_f1_micro: 0.5483\n",
      "Epoch 29/90\n",
      "95811/95811 [==============================] - 2s - loss: 1.8310 - acc: 0.6955 - f1_micro: 0.5487 - val_loss: 1.5117 - val_acc: 0.7558 - val_f1_micro: 0.5492\n",
      "Epoch 30/90\n",
      "95811/95811 [==============================] - 2s - loss: 1.8297 - acc: 0.6964 - f1_micro: 0.5496 - val_loss: 1.5004 - val_acc: 0.7566 - val_f1_micro: 0.5501\n",
      "Epoch 31/90\n",
      "95811/95811 [==============================] - 2s - loss: 1.8318 - acc: 0.6962 - f1_micro: 0.5505 - val_loss: 1.4989 - val_acc: 0.7615 - val_f1_micro: 0.5509\n",
      "Epoch 32/90\n",
      "95811/95811 [==============================] - 2s - loss: 1.8273 - acc: 0.6956 - f1_micro: 0.5513 - val_loss: 1.5049 - val_acc: 0.7610 - val_f1_micro: 0.5517\n",
      "Epoch 33/90\n",
      "95811/95811 [==============================] - 2s - loss: 1.8199 - acc: 0.6959 - f1_micro: 0.5521 - val_loss: 1.4975 - val_acc: 0.7469 - val_f1_micro: 0.5526\n",
      "Epoch 34/90\n",
      "95811/95811 [==============================] - 2s - loss: 1.8160 - acc: 0.6964 - f1_micro: 0.5530 - val_loss: 1.4949 - val_acc: 0.7593 - val_f1_micro: 0.5534\n",
      "Epoch 35/90\n",
      "95811/95811 [==============================] - 2s - loss: 1.8198 - acc: 0.6952 - f1_micro: 0.5538 - val_loss: 1.4941 - val_acc: 0.7631 - val_f1_micro: 0.5542\n",
      "Epoch 36/90\n",
      "95811/95811 [==============================] - 2s - loss: 1.8181 - acc: 0.6969 - f1_micro: 0.5546 - val_loss: 1.4853 - val_acc: 0.7554 - val_f1_micro: 0.5550\n",
      "Epoch 37/90\n",
      "95811/95811 [==============================] - 2s - loss: 1.8124 - acc: 0.6955 - f1_micro: 0.5554 - val_loss: 1.4923 - val_acc: 0.7644 - val_f1_micro: 0.5558\n",
      "Epoch 38/90\n",
      "95811/95811 [==============================] - 2s - loss: 1.8130 - acc: 0.6973 - f1_micro: 0.5562 - val_loss: 1.4839 - val_acc: 0.7590 - val_f1_micro: 0.5566\n",
      "Epoch 39/90\n",
      "95811/95811 [==============================] - 2s - loss: 1.8098 - acc: 0.6981 - f1_micro: 0.5570 - val_loss: 1.4878 - val_acc: 0.7608 - val_f1_micro: 0.5574\n",
      "Epoch 40/90\n",
      "95811/95811 [==============================] - 2s - loss: 1.8091 - acc: 0.6964 - f1_micro: 0.5578 - val_loss: 1.4862 - val_acc: 0.7530 - val_f1_micro: 0.5582\n",
      "Epoch 41/90\n",
      "95811/95811 [==============================] - 2s - loss: 1.8059 - acc: 0.6970 - f1_micro: 0.5585 - val_loss: 1.4832 - val_acc: 0.7690 - val_f1_micro: 0.5589\n",
      "Epoch 42/90\n",
      "95811/95811 [==============================] - 2s - loss: 1.8091 - acc: 0.6977 - f1_micro: 0.5593 - val_loss: 1.4782 - val_acc: 0.7676 - val_f1_micro: 0.5597\n",
      "Epoch 43/90\n",
      "95811/95811 [==============================] - 2s - loss: 1.8047 - acc: 0.7010 - f1_micro: 0.5600 - val_loss: 1.4738 - val_acc: 0.7695 - val_f1_micro: 0.5604\n",
      "Epoch 44/90\n",
      "95811/95811 [==============================] - 2s - loss: 1.7981 - acc: 0.7014 - f1_micro: 0.5608 - val_loss: 1.4732 - val_acc: 0.7597 - val_f1_micro: 0.5612\n",
      "Epoch 45/90\n",
      "95811/95811 [==============================] - 2s - loss: 1.7963 - acc: 0.6997 - f1_micro: 0.5615 - val_loss: 1.4723 - val_acc: 0.7623 - val_f1_micro: 0.5619\n",
      "Epoch 46/90\n",
      "95811/95811 [==============================] - 2s - loss: 1.8016 - acc: 0.6999 - f1_micro: 0.5623 - val_loss: 1.4725 - val_acc: 0.7703 - val_f1_micro: 0.5626\n",
      "Epoch 47/90\n",
      "95811/95811 [==============================] - 2s - loss: 1.7953 - acc: 0.6971 - f1_micro: 0.5630 - val_loss: 1.4635 - val_acc: 0.7637 - val_f1_micro: 0.5633\n",
      "Epoch 48/90\n"
     ]
    },
    {
     "name": "stdout",
     "output_type": "stream",
     "text": [
      "95811/95811 [==============================] - 2s - loss: 1.7934 - acc: 0.6982 - f1_micro: 0.5637 - val_loss: 1.4674 - val_acc: 0.7603 - val_f1_micro: 0.5640\n",
      "Epoch 49/90\n",
      "95811/95811 [==============================] - 2s - loss: 1.7979 - acc: 0.7001 - f1_micro: 0.5643 - val_loss: 1.4657 - val_acc: 0.7567 - val_f1_micro: 0.5647\n",
      "Epoch 50/90\n",
      "95811/95811 [==============================] - 2s - loss: 1.7926 - acc: 0.7003 - f1_micro: 0.5650 - val_loss: 1.4621 - val_acc: 0.7716 - val_f1_micro: 0.5654\n",
      "Epoch 51/90\n",
      "95811/95811 [==============================] - 2s - loss: 1.7922 - acc: 0.6995 - f1_micro: 0.5657 - val_loss: 1.4616 - val_acc: 0.7644 - val_f1_micro: 0.5660\n",
      "Epoch 52/90\n",
      "95811/95811 [==============================] - 2s - loss: 1.7886 - acc: 0.6993 - f1_micro: 0.5664 - val_loss: 1.4619 - val_acc: 0.7621 - val_f1_micro: 0.5667\n",
      "Epoch 53/90\n",
      "95811/95811 [==============================] - 2s - loss: 1.7856 - acc: 0.7006 - f1_micro: 0.5670 - val_loss: 1.4624 - val_acc: 0.7614 - val_f1_micro: 0.5673\n",
      "Epoch 54/90\n",
      "95811/95811 [==============================] - 2s - loss: 1.7899 - acc: 0.6990 - f1_micro: 0.5677 - val_loss: 1.4584 - val_acc: 0.7587 - val_f1_micro: 0.5680\n",
      "Epoch 55/90\n",
      "95811/95811 [==============================] - 2s - loss: 1.7822 - acc: 0.7023 - f1_micro: 0.5683 - val_loss: 1.4590 - val_acc: 0.7559 - val_f1_micro: 0.5687\n",
      "Epoch 56/90\n",
      "95811/95811 [==============================] - 2s - loss: 1.7816 - acc: 0.6999 - f1_micro: 0.5690 - val_loss: 1.4521 - val_acc: 0.7706 - val_f1_micro: 0.5693\n",
      "Epoch 57/90\n",
      "95811/95811 [==============================] - 2s - loss: 1.7801 - acc: 0.7001 - f1_micro: 0.5696 - val_loss: 1.4557 - val_acc: 0.7544 - val_f1_micro: 0.5700\n",
      "Epoch 58/90\n",
      "95811/95811 [==============================] - 2s - loss: 1.7793 - acc: 0.6990 - f1_micro: 0.5703 - val_loss: 1.4551 - val_acc: 0.7573 - val_f1_micro: 0.5706\n",
      "Epoch 59/90\n",
      "95811/95811 [==============================] - 2s - loss: 1.7807 - acc: 0.7031 - f1_micro: 0.5709 - val_loss: 1.4576 - val_acc: 0.7555 - val_f1_micro: 0.5713\n",
      "Epoch 60/90\n",
      "95811/95811 [==============================] - 2s - loss: 1.7742 - acc: 0.7010 - f1_micro: 0.5716 - val_loss: 1.4461 - val_acc: 0.7532 - val_f1_micro: 0.5719\n",
      "Epoch 61/90\n",
      "95811/95811 [==============================] - 2s - loss: 1.7748 - acc: 0.7015 - f1_micro: 0.5721 - val_loss: 1.4457 - val_acc: 0.7573 - val_f1_micro: 0.5724\n",
      "Epoch 62/90\n",
      "95811/95811 [==============================] - 2s - loss: 1.7706 - acc: 0.7020 - f1_micro: 0.5728 - val_loss: 1.4438 - val_acc: 0.7513 - val_f1_micro: 0.5731\n",
      "Epoch 63/90\n",
      "95811/95811 [==============================] - 2s - loss: 1.7773 - acc: 0.7009 - f1_micro: 0.5734 - val_loss: 1.4457 - val_acc: 0.7553 - val_f1_micro: 0.5737\n",
      "Epoch 64/90\n",
      "95811/95811 [==============================] - 2s - loss: 1.7718 - acc: 0.7025 - f1_micro: 0.5740 - val_loss: 1.4485 - val_acc: 0.7639 - val_f1_micro: 0.5743\n",
      "Epoch 65/90\n",
      "95811/95811 [==============================] - 2s - loss: 1.7669 - acc: 0.7034 - f1_micro: 0.5746 - val_loss: 1.4398 - val_acc: 0.7586 - val_f1_micro: 0.5749\n",
      "Epoch 66/90\n",
      "95811/95811 [==============================] - 2s - loss: 1.7619 - acc: 0.7036 - f1_micro: 0.5752 - val_loss: 1.4379 - val_acc: 0.7589 - val_f1_micro: 0.5755\n",
      "Epoch 67/90\n",
      "95811/95811 [==============================] - 2s - loss: 1.7663 - acc: 0.7025 - f1_micro: 0.5758 - val_loss: 1.4386 - val_acc: 0.7601 - val_f1_micro: 0.5761\n",
      "Epoch 68/90\n",
      "95811/95811 [==============================] - 2s - loss: 1.7679 - acc: 0.7025 - f1_micro: 0.5764 - val_loss: 1.4438 - val_acc: 0.7528 - val_f1_micro: 0.5767\n",
      "Epoch 69/90\n",
      "95811/95811 [==============================] - 2s - loss: 1.7581 - acc: 0.7034 - f1_micro: 0.5770 - val_loss: 1.4402 - val_acc: 0.7679 - val_f1_micro: 0.5773\n",
      "Epoch 70/90\n",
      "95811/95811 [==============================] - 2s - loss: 1.7604 - acc: 0.7041 - f1_micro: 0.5776 - val_loss: 1.4413 - val_acc: 0.7572 - val_f1_micro: 0.5779\n",
      "Epoch 71/90\n",
      "95811/95811 [==============================] - 2s - loss: 1.7613 - acc: 0.7044 - f1_micro: 0.5782 - val_loss: 1.4412 - val_acc: 0.7590 - val_f1_micro: 0.5785\n",
      "Epoch 72/90\n",
      "95811/95811 [==============================] - 2s - loss: 1.7563 - acc: 0.7038 - f1_micro: 0.5788 - val_loss: 1.4381 - val_acc: 0.7615 - val_f1_micro: 0.5791\n",
      "Epoch 73/90\n",
      "95811/95811 [==============================] - 2s - loss: 1.7622 - acc: 0.7025 - f1_micro: 0.5793 - val_loss: 1.4335 - val_acc: 0.7586 - val_f1_micro: 0.5796\n",
      "Epoch 74/90\n",
      "95811/95811 [==============================] - 2s - loss: 1.7563 - acc: 0.7018 - f1_micro: 0.5799 - val_loss: 1.4283 - val_acc: 0.7604 - val_f1_micro: 0.5802\n",
      "Epoch 75/90\n",
      "95811/95811 [==============================] - 2s - loss: 1.7534 - acc: 0.7042 - f1_micro: 0.5805 - val_loss: 1.4306 - val_acc: 0.7696 - val_f1_micro: 0.5807\n",
      "Epoch 76/90\n",
      "95811/95811 [==============================] - 2s - loss: 1.7514 - acc: 0.7020 - f1_micro: 0.5810 - val_loss: 1.4258 - val_acc: 0.7663 - val_f1_micro: 0.5813\n",
      "Epoch 77/90\n",
      "95811/95811 [==============================] - 2s - loss: 1.7509 - acc: 0.7042 - f1_micro: 0.5816 - val_loss: 1.4234 - val_acc: 0.7631 - val_f1_micro: 0.5819\n",
      "Epoch 78/90\n",
      "95811/95811 [==============================] - 2s - loss: 1.7521 - acc: 0.7050 - f1_micro: 0.5822 - val_loss: 1.4253 - val_acc: 0.7657 - val_f1_micro: 0.5825\n",
      "Epoch 79/90\n",
      "95811/95811 [==============================] - 2s - loss: 1.7485 - acc: 0.7039 - f1_micro: 0.5827 - val_loss: 1.4267 - val_acc: 0.7714 - val_f1_micro: 0.5830\n",
      "Epoch 80/90\n",
      "95811/95811 [==============================] - 2s - loss: 1.7540 - acc: 0.7052 - f1_micro: 0.5833 - val_loss: 1.4218 - val_acc: 0.7558 - val_f1_micro: 0.5836\n",
      "Epoch 81/90\n",
      "95811/95811 [==============================] - 2s - loss: 1.7427 - acc: 0.7058 - f1_micro: 0.5839 - val_loss: 1.4195 - val_acc: 0.7666 - val_f1_micro: 0.5841\n",
      "Epoch 82/90\n",
      "95811/95811 [==============================] - 2s - loss: 1.7493 - acc: 0.7046 - f1_micro: 0.5844 - val_loss: 1.4227 - val_acc: 0.7650 - val_f1_micro: 0.5847\n",
      "Epoch 83/90\n",
      "95811/95811 [==============================] - 2s - loss: 1.7434 - acc: 0.7059 - f1_micro: 0.5849 - val_loss: 1.4178 - val_acc: 0.7627 - val_f1_micro: 0.5852\n",
      "Epoch 84/90\n",
      "95811/95811 [==============================] - 2s - loss: 1.7460 - acc: 0.7053 - f1_micro: 0.5855 - val_loss: 1.4211 - val_acc: 0.7703 - val_f1_micro: 0.5858\n",
      "Epoch 85/90\n",
      "95811/95811 [==============================] - 2s - loss: 1.7397 - acc: 0.7078 - f1_micro: 0.5860 - val_loss: 1.4177 - val_acc: 0.7683 - val_f1_micro: 0.5863\n",
      "Epoch 86/90\n",
      "95811/95811 [==============================] - 2s - loss: 1.7450 - acc: 0.7029 - f1_micro: 0.5865 - val_loss: 1.4199 - val_acc: 0.7728 - val_f1_micro: 0.5868\n",
      "Epoch 87/90\n",
      "95811/95811 [==============================] - 2s - loss: 1.7386 - acc: 0.7056 - f1_micro: 0.5870 - val_loss: 1.4151 - val_acc: 0.7653 - val_f1_micro: 0.5873\n",
      "Epoch 88/90\n",
      "95811/95811 [==============================] - 2s - loss: 1.7462 - acc: 0.7047 - f1_micro: 0.5876 - val_loss: 1.4131 - val_acc: 0.7606 - val_f1_micro: 0.5878\n",
      "Epoch 89/90\n",
      "95811/95811 [==============================] - 2s - loss: 1.7375 - acc: 0.7077 - f1_micro: 0.5881 - val_loss: 1.4075 - val_acc: 0.7695 - val_f1_micro: 0.5884\n",
      "Epoch 90/90\n",
      "95811/95811 [==============================] - 2s - loss: 1.7367 - acc: 0.7069 - f1_micro: 0.5886 - val_loss: 1.4146 - val_acc: 0.7645 - val_f1_micro: 0.5889\n",
      "CPU times: user 2min 49s, sys: 33.3 s, total: 3min 23s\n",
      "Wall time: 3min 28s\n"
     ]
    }
   ],
   "source": [
    "%%time\n",
    "# And trained it via:\n",
    "batch_size = 2000\n",
    "epochs = 90\n",
    "\n",
    "hist = model.fit(\n",
    "    training_inputs,\n",
    "    training_outputs,\n",
    "    epochs=epochs,\n",
    "    batch_size=batch_size,\n",
    "    validation_split=0.2,\n",
    "    validation_data=validation_data,\n",
    ")"
   ]
  },
  {
   "cell_type": "code",
   "execution_count": 145,
   "metadata": {
    "scrolled": true
   },
   "outputs": [
    {
     "name": "stdout",
     "output_type": "stream",
     "text": [
      "Train on 108 samples, validate on 9424 samples\n",
      "Epoch 1/50\n",
      "108/108 [==============================] - 1s - loss: 1.7074 - acc: 0.5648 - f1_micro: 0.6506 - val_loss: 2.1372 - val_acc: 0.6802 - val_f1_micro: 0.6506\n",
      "Epoch 2/50\n",
      "108/108 [==============================] - 1s - loss: 1.5713 - acc: 0.6389 - f1_micro: 0.6505 - val_loss: 4.1755 - val_acc: 0.5296 - val_f1_micro: 0.6504\n",
      "Epoch 3/50\n",
      "108/108 [==============================] - 1s - loss: 1.1813 - acc: 0.6944 - f1_micro: 0.6504 - val_loss: 6.7545 - val_acc: 0.3860 - val_f1_micro: 0.6503\n",
      "Epoch 4/50\n",
      "108/108 [==============================] - 1s - loss: 1.3393 - acc: 0.7130 - f1_micro: 0.6502 - val_loss: 7.7298 - val_acc: 0.3157 - val_f1_micro: 0.6501\n",
      "Epoch 5/50\n",
      "108/108 [==============================] - 1s - loss: 1.5010 - acc: 0.7315 - f1_micro: 0.6500 - val_loss: 8.3409 - val_acc: 0.2914 - val_f1_micro: 0.6499\n",
      "Epoch 6/50\n",
      "108/108 [==============================] - 1s - loss: 1.0754 - acc: 0.7037 - f1_micro: 0.6498 - val_loss: 9.2978 - val_acc: 0.2610 - val_f1_micro: 0.6497\n",
      "Epoch 7/50\n",
      "108/108 [==============================] - 1s - loss: 0.8351 - acc: 0.6852 - f1_micro: 0.6495 - val_loss: 9.6676 - val_acc: 0.2530 - val_f1_micro: 0.6494\n",
      "Epoch 8/50\n",
      "108/108 [==============================] - 1s - loss: 1.5081 - acc: 0.7037 - f1_micro: 0.6493 - val_loss: 11.1132 - val_acc: 0.2254 - val_f1_micro: 0.6492\n",
      "Epoch 9/50\n",
      "108/108 [==============================] - 1s - loss: 0.6802 - acc: 0.7778 - f1_micro: 0.6491 - val_loss: 11.6394 - val_acc: 0.2118 - val_f1_micro: 0.6490\n",
      "Epoch 10/50\n",
      "108/108 [==============================] - 1s - loss: 0.9032 - acc: 0.6481 - f1_micro: 0.6489 - val_loss: 11.9591 - val_acc: 0.2065 - val_f1_micro: 0.6488\n",
      "Epoch 11/50\n",
      "108/108 [==============================] - 1s - loss: 1.3838 - acc: 0.7500 - f1_micro: 0.6486 - val_loss: 11.8947 - val_acc: 0.1994 - val_f1_micro: 0.6485\n",
      "Epoch 12/50\n",
      "108/108 [==============================] - 1s - loss: 1.2547 - acc: 0.7037 - f1_micro: 0.6484 - val_loss: 13.0715 - val_acc: 0.1803 - val_f1_micro: 0.6483\n",
      "Epoch 13/50\n",
      "108/108 [==============================] - 1s - loss: 1.0468 - acc: 0.7685 - f1_micro: 0.6482 - val_loss: 13.6589 - val_acc: 0.1737 - val_f1_micro: 0.6481\n",
      "Epoch 14/50\n",
      "108/108 [==============================] - 1s - loss: 1.6276 - acc: 0.7037 - f1_micro: 0.6480 - val_loss: 14.6833 - val_acc: 0.1487 - val_f1_micro: 0.6479\n",
      "Epoch 15/50\n",
      "108/108 [==============================] - 1s - loss: 1.0889 - acc: 0.7500 - f1_micro: 0.6477 - val_loss: 15.3162 - val_acc: 0.1431 - val_f1_micro: 0.6476\n",
      "Epoch 16/50\n",
      "108/108 [==============================] - 1s - loss: 0.8651 - acc: 0.7407 - f1_micro: 0.6475 - val_loss: 16.0182 - val_acc: 0.1359 - val_f1_micro: 0.6474\n",
      "Epoch 17/50\n",
      "108/108 [==============================] - 1s - loss: 0.8541 - acc: 0.7685 - f1_micro: 0.6472 - val_loss: 16.2056 - val_acc: 0.1383 - val_f1_micro: 0.6471\n",
      "Epoch 18/50\n",
      "108/108 [==============================] - 1s - loss: 0.6665 - acc: 0.7870 - f1_micro: 0.6470 - val_loss: 16.1823 - val_acc: 0.1384 - val_f1_micro: 0.6469\n",
      "Epoch 19/50\n",
      "108/108 [==============================] - 1s - loss: 0.8815 - acc: 0.7407 - f1_micro: 0.6467 - val_loss: 15.8971 - val_acc: 0.1476 - val_f1_micro: 0.6466\n",
      "Epoch 20/50\n",
      "108/108 [==============================] - 1s - loss: 0.5023 - acc: 0.7593 - f1_micro: 0.6465 - val_loss: 15.0993 - val_acc: 0.1602 - val_f1_micro: 0.6463\n",
      "Epoch 21/50\n",
      "108/108 [==============================] - 1s - loss: 0.8603 - acc: 0.7685 - f1_micro: 0.6462 - val_loss: 14.5737 - val_acc: 0.1769 - val_f1_micro: 0.6461\n",
      "Epoch 22/50\n",
      "108/108 [==============================] - 1s - loss: 1.3660 - acc: 0.7037 - f1_micro: 0.6460 - val_loss: 15.3497 - val_acc: 0.1631 - val_f1_micro: 0.6459\n",
      "Epoch 23/50\n",
      "108/108 [==============================] - 1s - loss: 0.8034 - acc: 0.7407 - f1_micro: 0.6457 - val_loss: 17.2438 - val_acc: 0.1266 - val_f1_micro: 0.6456\n",
      "Epoch 24/50\n",
      "108/108 [==============================] - 1s - loss: 0.8079 - acc: 0.6759 - f1_micro: 0.6455 - val_loss: 17.6773 - val_acc: 0.1187 - val_f1_micro: 0.6453\n",
      "Epoch 25/50\n",
      "108/108 [==============================] - 1s - loss: 0.7572 - acc: 0.7130 - f1_micro: 0.6452 - val_loss: 17.4838 - val_acc: 0.1257 - val_f1_micro: 0.6451\n",
      "Epoch 26/50\n",
      "108/108 [==============================] - 1s - loss: 0.8873 - acc: 0.7315 - f1_micro: 0.6449 - val_loss: 17.3460 - val_acc: 0.1278 - val_f1_micro: 0.6448\n",
      "Epoch 27/50\n",
      "108/108 [==============================] - 1s - loss: 0.7305 - acc: 0.6759 - f1_micro: 0.6447 - val_loss: 17.3295 - val_acc: 0.1287 - val_f1_micro: 0.6445\n",
      "Epoch 28/50\n",
      "108/108 [==============================] - 1s - loss: 0.4340 - acc: 0.8148 - f1_micro: 0.6444 - val_loss: 17.3920 - val_acc: 0.1277 - val_f1_micro: 0.6443\n",
      "Epoch 29/50\n",
      "108/108 [==============================] - 1s - loss: 0.6333 - acc: 0.7407 - f1_micro: 0.6441 - val_loss: 17.2918 - val_acc: 0.1316 - val_f1_micro: 0.6440\n",
      "Epoch 30/50\n",
      "108/108 [==============================] - 1s - loss: 0.6467 - acc: 0.7685 - f1_micro: 0.6439 - val_loss: 17.4408 - val_acc: 0.1366 - val_f1_micro: 0.6438\n",
      "Epoch 31/50\n",
      "108/108 [==============================] - 1s - loss: 0.8965 - acc: 0.7500 - f1_micro: 0.6436 - val_loss: 17.7386 - val_acc: 0.1362 - val_f1_micro: 0.6435\n",
      "Epoch 32/50\n",
      "108/108 [==============================] - 1s - loss: 0.8185 - acc: 0.7130 - f1_micro: 0.6434 - val_loss: 17.3837 - val_acc: 0.1425 - val_f1_micro: 0.6433\n",
      "Epoch 33/50\n",
      "108/108 [==============================] - 1s - loss: 0.4582 - acc: 0.7593 - f1_micro: 0.6431 - val_loss: 17.3976 - val_acc: 0.1435 - val_f1_micro: 0.6430\n",
      "Epoch 34/50\n",
      "108/108 [==============================] - 1s - loss: 0.5910 - acc: 0.7685 - f1_micro: 0.6429 - val_loss: 17.5298 - val_acc: 0.1451 - val_f1_micro: 0.6428\n",
      "Epoch 35/50\n",
      "108/108 [==============================] - 1s - loss: 0.7462 - acc: 0.7593 - f1_micro: 0.6427 - val_loss: 17.4568 - val_acc: 0.1440 - val_f1_micro: 0.6426\n",
      "Epoch 36/50\n",
      "108/108 [==============================] - 1s - loss: 0.9149 - acc: 0.7500 - f1_micro: 0.6424 - val_loss: 17.2960 - val_acc: 0.1475 - val_f1_micro: 0.6423\n",
      "Epoch 37/50\n",
      "108/108 [==============================] - 1s - loss: 0.6433 - acc: 0.7963 - f1_micro: 0.6422 - val_loss: 17.4164 - val_acc: 0.1447 - val_f1_micro: 0.6421\n",
      "Epoch 38/50\n",
      "108/108 [==============================] - 1s - loss: 0.6234 - acc: 0.7593 - f1_micro: 0.6420 - val_loss: 17.8398 - val_acc: 0.1347 - val_f1_micro: 0.6418\n",
      "Epoch 39/50\n",
      "108/108 [==============================] - 1s - loss: 0.6250 - acc: 0.8056 - f1_micro: 0.6417 - val_loss: 17.7297 - val_acc: 0.1361 - val_f1_micro: 0.6416\n",
      "Epoch 40/50\n",
      "108/108 [==============================] - 1s - loss: 0.7250 - acc: 0.7963 - f1_micro: 0.6415 - val_loss: 17.7574 - val_acc: 0.1378 - val_f1_micro: 0.6413\n",
      "Epoch 41/50\n",
      "108/108 [==============================] - 1s - loss: 0.7279 - acc: 0.8056 - f1_micro: 0.6412 - val_loss: 18.0313 - val_acc: 0.1331 - val_f1_micro: 0.6411\n",
      "Epoch 42/50\n",
      "108/108 [==============================] - 1s - loss: 0.3987 - acc: 0.8426 - f1_micro: 0.6410 - val_loss: 18.1055 - val_acc: 0.1320 - val_f1_micro: 0.6409\n",
      "Epoch 43/50\n",
      "108/108 [==============================] - 1s - loss: 0.3813 - acc: 0.8148 - f1_micro: 0.6407 - val_loss: 18.2347 - val_acc: 0.1310 - val_f1_micro: 0.6406\n",
      "Epoch 44/50\n",
      "108/108 [==============================] - 1s - loss: 0.3973 - acc: 0.8148 - f1_micro: 0.6405 - val_loss: 18.1722 - val_acc: 0.1319 - val_f1_micro: 0.6403\n",
      "Epoch 45/50\n",
      "108/108 [==============================] - 1s - loss: 0.7932 - acc: 0.8148 - f1_micro: 0.6402 - val_loss: 18.2923 - val_acc: 0.1296 - val_f1_micro: 0.6401\n",
      "Epoch 46/50\n",
      "108/108 [==============================] - 1s - loss: 0.3775 - acc: 0.8611 - f1_micro: 0.6400 - val_loss: 18.6513 - val_acc: 0.1250 - val_f1_micro: 0.6398\n",
      "Epoch 47/50\n",
      "108/108 [==============================] - 1s - loss: 0.3972 - acc: 0.7870 - f1_micro: 0.6397 - val_loss: 19.2229 - val_acc: 0.1056 - val_f1_micro: 0.6396\n",
      "Epoch 48/50\n",
      "108/108 [==============================] - 1s - loss: 0.7910 - acc: 0.7500 - f1_micro: 0.6395 - val_loss: 19.5905 - val_acc: 0.0997 - val_f1_micro: 0.6393\n",
      "Epoch 49/50\n"
     ]
    },
    {
     "name": "stdout",
     "output_type": "stream",
     "text": [
      "108/108 [==============================] - 1s - loss: 0.8908 - acc: 0.7593 - f1_micro: 0.6392 - val_loss: 20.0579 - val_acc: 0.0861 - val_f1_micro: 0.6390\n",
      "Epoch 50/50\n",
      "108/108 [==============================] - 1s - loss: 0.4392 - acc: 0.7870 - f1_micro: 0.6389 - val_loss: 20.1758 - val_acc: 0.0811 - val_f1_micro: 0.6388\n",
      "CPU times: user 1min 54s, sys: 8.77 s, total: 2min 3s\n",
      "Wall time: 59.7 s\n"
     ]
    }
   ],
   "source": [
    "%%time\n",
    "# And trained it via:\n",
    "batch_size = 10\n",
    "epochs = 50\n",
    "\n",
    "hist = model.fit(\n",
    "    train_test_training_inputs,\n",
    "    train_test_training_outputs,\n",
    "    epochs=epochs,\n",
    "    batch_size=batch_size,\n",
    "    validation_split=0.2,\n",
    "    validation_data=validation_data,\n",
    ")"
   ]
  },
  {
   "cell_type": "code",
   "execution_count": 53,
   "metadata": {},
   "outputs": [
    {
     "data": {
      "text/plain": [
       "0.63482992056972509"
      ]
     },
     "execution_count": 53,
     "metadata": {},
     "output_type": "execute_result"
    }
   ],
   "source": [
    "hist.history['f1_micro'][-1]"
   ]
  },
  {
   "cell_type": "code",
   "execution_count": 132,
   "metadata": {
    "collapsed": true,
    "scrolled": true
   },
   "outputs": [],
   "source": [
    "# %%time\n",
    "# log_history_file = 'lstm-word2vec-fasttext-lsi.epoch.csv'\n",
    "# model_name = 'models/tfidf-wv-fs-lsi-2010-2014-data_cat-crossentropy-2014-b-val-sc_tfidf_wv_fs_lsi.model'\n",
    "# batch_size = 1200\n",
    "# epochs = 5\n",
    "# total_epochs = 100\n",
    "\n",
    "# for i in xrange(0, total_epochs // epochs):\n",
    "#     hist = model.fit(\n",
    "#         training_inputs,\n",
    "#         training_outputs,\n",
    "#         epochs=epochs,\n",
    "#         batch_size=batch_size,\n",
    "#         validation_split=0.2,\n",
    "#         validation_data=validation_data,\n",
    "#     )\n",
    "\n",
    "#     model.save(model_name.format(i))\n",
    "#     print\n",
    "#     print('Done with epoch: {}'.format((i + 1) * epochs))\n",
    "#     with open(log_history_file, 'a') as fl:\n",
    "#         fl.write(model_name + '\\n')\n",
    "#         fl.write('Epoch {}\\n'.format((i + 1) * epochs))\n",
    "#         fl.write('{}\\n'.format(datetime.now()))\n",
    "#         fl.write('\\n'.join(['{}: {}'.format(k, v[0]) for k, v in hist.history.items()]))\n",
    "#         fl.write('\\n\\n')\n",
    "#     print"
   ]
  },
  {
   "cell_type": "code",
   "execution_count": 133,
   "metadata": {
    "collapsed": true,
    "scrolled": true
   },
   "outputs": [],
   "source": [
    "# %%time\n",
    "# total_epochs = 100\n",
    "# for j in xrange(i, i + (total_epochs // epochs)):\n",
    "#     hist = model.fit(\n",
    "#         training_inputs,\n",
    "#         training_outputs,\n",
    "#         epochs=epochs,\n",
    "#         batch_size=batch_size,\n",
    "#         validation_split=0.2,\n",
    "#         validation_data=validation_data,\n",
    "#     )\n",
    "\n",
    "#     model.save(model_name.format(i))\n",
    "#     print\n",
    "#     print('Done with epoch: {}'.format((j + 1) * epochs))\n",
    "#     with open(log_history_file, 'a') as fl:\n",
    "#         fl.write(model_name + '\\n')\n",
    "#         fl.write('Epoch {}\\n'.format((j + 1) * epochs))\n",
    "#         fl.write('{}\\n'.format(datetime.now()))\n",
    "#         fl.write('\\n'.join(['{}: {}'.format(k, v[0]) for k, v in hist.history.items()]))\n",
    "#         fl.write('\\n\\n')\n",
    "#     print"
   ]
  },
  {
   "cell_type": "code",
   "execution_count": 103,
   "metadata": {
    "collapsed": true
   },
   "outputs": [],
   "source": [
    "# model = keras.models.load_model(\n",
    "#     'models/lstm-word2vec-fasttext_2010-2014-data_categorical-crossentropy-2014-b-val-standard_scaled_wv_fs.model',\n",
    "#     custom_objects={'f1_micro': f1_micro}\n",
    "# )"
   ]
  },
  {
   "cell_type": "code",
   "execution_count": null,
   "metadata": {
    "collapsed": true
   },
   "outputs": [],
   "source": [
    "train_test_wv_train"
   ]
  },
  {
   "cell_type": "code",
   "execution_count": 104,
   "metadata": {
    "collapsed": true
   },
   "outputs": [],
   "source": [
    "i = j"
   ]
  },
  {
   "cell_type": "code",
   "execution_count": 183,
   "metadata": {
    "collapsed": true
   },
   "outputs": [],
   "source": [
    "g = model.predict(\n",
    "    build_training_inputs(\n",
    "        wv_train,\n",
    "        fs_train,\n",
    "        tfidf_wv_train,\n",
    "        tfidf_fs_train,\n",
    "        tfidf_lsi_train,\n",
    "    )\n",
    ")"
   ]
  },
  {
   "cell_type": "code",
   "execution_count": 93,
   "metadata": {},
   "outputs": [
    {
     "data": {
      "text/plain": [
       "(94839, 160)"
      ]
     },
     "execution_count": 93,
     "metadata": {},
     "output_type": "execute_result"
    }
   ],
   "source": [
    "g.shape"
   ]
  },
  {
   "cell_type": "code",
   "execution_count": 56,
   "metadata": {
    "collapsed": true
   },
   "outputs": [],
   "source": [
    "from sklearn.metrics import f1_score as sk_f1_score"
   ]
  },
  {
   "cell_type": "code",
   "execution_count": null,
   "metadata": {},
   "outputs": [],
   "source": []
  },
  {
   "cell_type": "code",
   "execution_count": 206,
   "metadata": {
    "scrolled": true
   },
   "outputs": [
    {
     "name": "stdout",
     "output_type": "stream",
     "text": [
      "CPU times: user 736 ms, sys: 68 ms, total: 804 ms\n",
      "Wall time: 801 ms\n",
      "CPU times: user 744 ms, sys: 60 ms, total: 804 ms\n",
      "Wall time: 797 ms\n",
      "CPU times: user 724 ms, sys: 76 ms, total: 800 ms\n",
      "Wall time: 796 ms\n",
      "CPU times: user 744 ms, sys: 60 ms, total: 804 ms\n",
      "Wall time: 797 ms\n",
      "CPU times: user 712 ms, sys: 84 ms, total: 796 ms\n",
      "Wall time: 794 ms\n",
      "CPU times: user 736 ms, sys: 64 ms, total: 800 ms\n",
      "Wall time: 797 ms\n",
      "CPU times: user 732 ms, sys: 68 ms, total: 800 ms\n",
      "Wall time: 796 ms\n",
      "CPU times: user 732 ms, sys: 68 ms, total: 800 ms\n",
      "Wall time: 795 ms\n",
      "CPU times: user 724 ms, sys: 76 ms, total: 800 ms\n",
      "Wall time: 795 ms\n",
      "CPU times: user 728 ms, sys: 68 ms, total: 796 ms\n",
      "Wall time: 792 ms\n",
      "CPU times: user 756 ms, sys: 44 ms, total: 800 ms\n",
      "Wall time: 795 ms\n",
      "CPU times: user 740 ms, sys: 60 ms, total: 800 ms\n",
      "Wall time: 795 ms\n",
      "CPU times: user 716 ms, sys: 80 ms, total: 796 ms\n",
      "Wall time: 793 ms\n",
      "CPU times: user 732 ms, sys: 64 ms, total: 796 ms\n",
      "Wall time: 791 ms\n",
      "CPU times: user 736 ms, sys: 64 ms, total: 800 ms\n",
      "Wall time: 796 ms\n",
      "CPU times: user 748 ms, sys: 48 ms, total: 796 ms\n",
      "Wall time: 795 ms\n",
      "CPU times: user 724 ms, sys: 72 ms, total: 796 ms\n",
      "Wall time: 793 ms\n",
      "CPU times: user 760 ms, sys: 40 ms, total: 800 ms\n",
      "Wall time: 793 ms\n",
      "CPU times: user 736 ms, sys: 72 ms, total: 808 ms\n",
      "Wall time: 807 ms\n",
      "CPU times: user 744 ms, sys: 52 ms, total: 796 ms\n",
      "Wall time: 793 ms\n",
      "CPU times: user 748 ms, sys: 48 ms, total: 796 ms\n",
      "Wall time: 790 ms\n",
      "CPU times: user 704 ms, sys: 88 ms, total: 792 ms\n",
      "Wall time: 789 ms\n",
      "CPU times: user 748 ms, sys: 48 ms, total: 796 ms\n",
      "Wall time: 791 ms\n",
      "CPU times: user 736 ms, sys: 60 ms, total: 796 ms\n",
      "Wall time: 789 ms\n",
      "CPU times: user 728 ms, sys: 68 ms, total: 796 ms\n",
      "Wall time: 789 ms\n",
      "CPU times: user 744 ms, sys: 48 ms, total: 792 ms\n",
      "Wall time: 789 ms\n",
      "CPU times: user 732 ms, sys: 64 ms, total: 796 ms\n",
      "Wall time: 789 ms\n",
      "CPU times: user 732 ms, sys: 64 ms, total: 796 ms\n",
      "Wall time: 791 ms\n",
      "CPU times: user 744 ms, sys: 48 ms, total: 792 ms\n",
      "Wall time: 789 ms\n",
      "CPU times: user 720 ms, sys: 72 ms, total: 792 ms\n",
      "Wall time: 788 ms\n",
      "CPU times: user 728 ms, sys: 68 ms, total: 796 ms\n",
      "Wall time: 791 ms\n",
      "CPU times: user 728 ms, sys: 64 ms, total: 792 ms\n",
      "Wall time: 787 ms\n",
      "CPU times: user 736 ms, sys: 60 ms, total: 796 ms\n",
      "Wall time: 788 ms\n",
      "CPU times: user 716 ms, sys: 76 ms, total: 792 ms\n",
      "Wall time: 788 ms\n",
      "CPU times: user 708 ms, sys: 84 ms, total: 792 ms\n",
      "Wall time: 788 ms\n",
      "CPU times: user 744 ms, sys: 48 ms, total: 792 ms\n",
      "Wall time: 789 ms\n",
      "CPU times: user 740 ms, sys: 52 ms, total: 792 ms\n",
      "Wall time: 787 ms\n",
      "CPU times: user 712 ms, sys: 76 ms, total: 788 ms\n",
      "Wall time: 787 ms\n",
      "CPU times: user 740 ms, sys: 52 ms, total: 792 ms\n",
      "Wall time: 788 ms\n",
      "CPU times: user 720 ms, sys: 68 ms, total: 788 ms\n",
      "Wall time: 784 ms\n",
      "CPU times: user 740 ms, sys: 52 ms, total: 792 ms\n",
      "Wall time: 787 ms\n",
      "CPU times: user 30.1 s, sys: 2.6 s, total: 32.7 s\n",
      "Wall time: 32.5 s\n"
     ]
    }
   ],
   "source": [
    "%%time\n",
    "dt = 0.01\n",
    "s = 0.1\n",
    "e = 0.5\n",
    "th = np.arange(s, e + dt, dt)\n",
    "mean_fscores = []\n",
    "for t in th:\n",
    "#     fscores = []\n",
    "#     for ix in range(g.shape[0]):\n",
    "#         y_a = y_train[ix]\n",
    "#         y_p = 1.0 * (g[ix] > t)\n",
    "#         fscores.append(sk_f1_score(y_a, y_p))\n",
    "#     mean_fscores.append(np.mean(fscores))\n",
    "    %time mean_fscores.append((t, sk_f1_score(y_train, 1.0 * (g > t), average='micro')))"
   ]
  },
  {
   "cell_type": "code",
   "execution_count": 207,
   "metadata": {
    "scrolled": true
   },
   "outputs": [
    {
     "data": {
      "text/plain": [
       "(0.29999999999999993, 0.85829214880680638)"
      ]
     },
     "execution_count": 207,
     "metadata": {},
     "output_type": "execute_result"
    }
   ],
   "source": [
    "thresh, thresh_score = sorted(mean_fscores, key=lambda x: x[1], reverse=True)[0]\n",
    "thresh, thresh_score"
   ]
  },
  {
   "cell_type": "code",
   "execution_count": null,
   "metadata": {
    "scrolled": true
   },
   "outputs": [],
   "source": []
  },
  {
   "cell_type": "code",
   "execution_count": 141,
   "metadata": {
    "scrolled": true
   },
   "outputs": [
    {
     "data": {
      "text/plain": [
       "u'When Angela Merkel addressed a press conference in Berlin yesterday morning, only hours after the attack on the Christmas market and not far distant from it, she was unflinching. She took head-on the hardest question of how the country would feel if the perpetrator turned out to be one of the million refugees to whom she had offered protection not much more than a year ago. It would be hard to bear, she said \\u2013 in one version of a German phrase that has been variously translated as \\u201cparticularly repugnant\\u201d and \\u201csickening\\u201d \\u2013 if it were a refugee. It would be an insult to all those who had helped refugees and all those who needed Germany\\u2019s protection. And that was it. Christmas markets are as much a part of German national life as the 14 July festivities are French (in Nice nearly 100 people died in a similar attack). That makes Monday\\u2019s attack seem like an unmistakable act of terror, apparently motivated by jihadism. It may well turn out to be someone who had come to the country as an asylum seeker. But Merkel\\u2019s appeal at that subdued press conference was for the country to distinguish between terrorists and refugees, and to keep faith with her version of what it is to be German. \\u201cWe will find strength for the life we want to live in Germany \\u2013 free, united and open.\\u201d In one sense, everything the chancellor said was intensely political. She faces elections next September, and her fate is a preoccupation for all of Europe. Yet there is a difference between conveying a potent political message and politicking; and not so much as a zephyr of politicking appeared to ruffle the trademark Merkel demeanour \\u2013 reassuringly impassive as a dumpling, as always. There was no overt concession to those colleagues who fear that her refugee policy, the subject of so much criticism on the right, is likely to eat savagely into her \\u2013 and their \\u2013 majority. Nothing explicitly betrayed the challenge she will face from her partners in government, the Bavarian Christian Social Union (CSU), who are ramping up the pressure on her. There was certainly no nod in the direction of the far right\\u2019s charge that the casualties of Monday night\\u2019s attack were \\u201cMerkel\\u2019s dead\\u201d. Merkel has established herself as the best and strongest voice of the values of a liberal Europe, and her steadfastness under pressure \\u2013 at least her rhetorical steadfastness, for her policies have been modified to accommodate some of her critics\\u2019 concerns \\u2013 is a beacon in a continent that is increasingly inward turning, nativist and afraid. And every time she stands up for what postwar Europe represents, she consolidates Germany\\u2019s rebirth. When in her summer press conference, on 31 August last year, as thousands of refugees trekked northwards into Hungary, she told the world \\u201cWe can do it\\u201d, and when a few days later she announced that no one would be stopped from seeking asylum, and when a few days after that she posed for a selfie with one of the refugees from the first train to draw into Munich station, for millions of people around the world she reset the image of her country. Only months earlier, the Greeks had portrayed Merkel in a stormtrooper helmet. In September she seemed to banish the faint but lingering stench of 20th-century history for good. In its place came what Merkel called Germany\\u2019s \\u201cfriendly, beautiful face\\u201d. It has not been an easy 15 months, and Merkel has been forced into making concessions to her critics. But that merely makes her calm, mostly endorsed by other politicians, the more admirable yesterday. As important, it was reflected in the actions of authority everywhere \\u2013 in, for example, how quickly the police acknowledged they had picked up the wrong person. How tempting it must have been to hang on to the appearance of having speedily apprehended at least one of the perpetrators, and how attractive to the security forces who had, after all, failed in the most devastating way imaginable to try to redeem themselves. It was there in the strong clear message that there would always be soft targets that could not be protected, and in the refusal to panic and shut down the hundreds of other Christmas fairs across the country. Of course security will be tighter; understandably some cities are erecting concrete blocks at the entrance to their shopping areas. Naturally there will be a more visible police presence. Yet out of the bloody carnage of violence and hate of Berlin on the Monday before Christmas comes the enviable impression of a country that is true to the values of liberal Europe.'"
      ]
     },
     "execution_count": 141,
     "metadata": {},
     "output_type": "execute_result"
    }
   ],
   "source": [
    "train_test_df.iloc[ix].bodyText"
   ]
  },
  {
   "cell_type": "code",
   "execution_count": 156,
   "metadata": {},
   "outputs": [
    {
     "data": {
      "text/plain": [
       "'munichshooting'"
      ]
     },
     "execution_count": 156,
     "metadata": {},
     "output_type": "execute_result"
    }
   ],
   "source": [
    "topics[103]"
   ]
  },
  {
   "cell_type": "code",
   "execution_count": 204,
   "metadata": {
    "scrolled": true
   },
   "outputs": [
    {
     "data": {
      "text/plain": [
       "<matplotlib.axes._subplots.AxesSubplot at 0x7f08dd112f10>"
      ]
     },
     "execution_count": 204,
     "metadata": {},
     "output_type": "execute_result"
    },
    {
     "data": {
      "image/png": "[encoded data removed]",
      "text/plain": [
       "<matplotlib.figure.Figure at 0x7f08dd123610>"
      ]
     },
     "metadata": {},
     "output_type": "display_data"
    }
   ],
   "source": [
    "%matplotlib inline\n",
    "ix = 125\n",
    "sd = -0\n",
    "pd.Series(g[sd:][ix]).plot()"
   ]
  },
  {
   "cell_type": "code",
   "execution_count": 205,
   "metadata": {
    "scrolled": true
   },
   "outputs": [
    {
     "data": {
      "text/plain": [
       "((array([78]),), (array([78]),))"
      ]
     },
     "execution_count": 205,
     "metadata": {},
     "output_type": "execute_result"
    }
   ],
   "source": [
    "# thresh = 0.5\n",
    "np.where(y_train[sd:][ix] == 1), np.where(g[sd:][ix] > thresh)"
   ]
  },
  {
   "cell_type": "code",
   "execution_count": 13,
   "metadata": {
    "collapsed": true
   },
   "outputs": [],
   "source": [
    "from gensim.models.tfidfmodel import TfidfModel\n",
    "from gensim.models.lsimodel import LsiModel\n",
    "from gensim.corpora import Dictionary"
   ]
  },
  {
   "cell_type": "code",
   "execution_count": 14,
   "metadata": {
    "collapsed": true
   },
   "outputs": [],
   "source": [
    "dictionary = TfidfModel.load('corpus/train_body_data-with_labels_False-retain_special_chars_False.with_test_data.csv.dictionary')\n",
    "tfidf = TfidfModel.load('corpus/train_body_data-with_labels_False-retain_special_chars_False.with_test_data.csv.tfidf')\n",
    "lsi = LsiModel.load('corpus/train_body_data-with_labels_False-retain_special_chars_False.with_test_data.csv.lsi')"
   ]
  },
  {
   "cell_type": "code",
   "execution_count": 15,
   "metadata": {
    "collapsed": true
   },
   "outputs": [],
   "source": [
    "wvmodel = Word2Vec.load('corpus/train_body_data-with_labels_False-retain_special_chars_False.with_test_data.csv.w2v.model')"
   ]
  },
  {
   "cell_type": "code",
   "execution_count": 16,
   "metadata": {
    "collapsed": true
   },
   "outputs": [],
   "source": [
    "fsmodel = fasttext.load_model('corpus/train_body_data-with_labels_False-retain_special_chars_False.with_test_data.csv.fasttext.model.bin')"
   ]
  },
  {
   "cell_type": "code",
   "execution_count": 17,
   "metadata": {
    "collapsed": true
   },
   "outputs": [],
   "source": [
    "def transform_tfidf_word2vec(tokens, stopwords=[]):\n",
    "#     global wvmodel\n",
    "#     global tfidf\n",
    "    # This requires wvmodel to be present in the namespace.\n",
    "    wv_feature_vec = tokens.map(\n",
    "        lambda x: [w for w in x.split() if (w not in stopwords and w in wvmodel.wv.vocab)]\n",
    "    ).map(\n",
    "        lambda x: tfidf[dictionary.doc2bow(x)]\n",
    "    ).map(\n",
    "        lambda x: np.array([wvmodel[dictionary.id2token[id]] * w for id, w in x]).mean(axis=0) if len(x) > 0 else np.nan\n",
    "    )\n",
    "\n",
    "    return wv_feature_vec\n",
    "\n",
    "\n",
    "def transform_tfidf_fasttext(tokens, stopwords=[]):\n",
    "#     global fsmodel\n",
    "#     global tfidf\n",
    "    # This requires wvmodel to be present in the namespace.\n",
    "    fs_feature_vec = tokens.map(\n",
    "        lambda x: [w for w in x.split() if (w not in stopwords)]\n",
    "    ).map(\n",
    "        lambda x: tfidf[dictionary.doc2bow(x)]\n",
    "    ).map(\n",
    "        lambda x: np.array([np.array(fsmodel[dictionary.id2token[id]]) * w for id, w in x]).mean(axis=0) if len(x) > 0 else np.nan\n",
    "    )\n",
    "\n",
    "    return fs_feature_vec\n",
    "\n",
    "\n",
    "def build_lsi_vector(l):\n",
    "    v = np.zeros(lsi.num_topics)\n",
    "    \n",
    "    for ix, vv in lsi[tfidf[dictionary.doc2bow(l)]]:\n",
    "        v[ix] = vv\n",
    "        \n",
    "    return v\n",
    "\n",
    "\n",
    "def transform_tfidf_lsi(tokens, stopwords=[]):\n",
    "#     global fsmodel\n",
    "#     global tfidf\n",
    "    # This requires wvmodel to be present in the namespace.\n",
    "    lsi_feature_vec = tokens.map(\n",
    "        lambda x: [w for w in x.split() if (w not in stopwords)]\n",
    "    ).map(\n",
    "        lambda x: build_lsi_vector(x) if len(x) > 0 else np.nan\n",
    "    )\n",
    "\n",
    "    return lsi_feature_vec\n",
    "\n",
    "\n",
    "def transform_fasttext(tokens, stopwords=[]):\n",
    "    global fsmodel\n",
    "    # This requires fsmodel to be present in the namespace.\n",
    "    fs_feature_vec = tokens.map(\n",
    "        lambda x: [w for w in x.split() if (w not in stopwords)]\n",
    "    ).map(lambda x: np.array([fsmodel[w] for w in x]).mean(axis=0) if len(x) > 0 else np.nan)\n",
    "\n",
    "    return fs_feature_vec\n",
    "\n",
    "\n",
    "def transform_unsupervised_sentiment_neuron(tokens, stopwords=[]):\n",
    "    # This requires fsmodel to be present in the namespace.\n",
    "    \n",
    "    usn_feature_vec = usnmodel.transform(tokens)\n",
    "\n",
    "    # usn_feature_vec = tokens.map(\n",
    "    #     lambda x: [w for w in x.split() if (w not in stopwords)]\n",
    "    # ).map(lambda x: np.array([usnmodel[w] for w in x]).mean(axis=0) if len(x) > 0 else np.nan)\n",
    "\n",
    "    return usn_feature_vec\n",
    "\n",
    "\n",
    "def transform_word2vec(tokens, stopwords=[]):\n",
    "    global wvmodel\n",
    "    # This requires wvmodel to be present in the namespace.\n",
    "    wv_feature_vec = tokens.map(\n",
    "        lambda x: [w for w in x.split() if (w not in stopwords and w in wvmodel.wv.vocab)]\n",
    "    ).map(lambda x: np.array([wvmodel[w] for w in x]).mean(axis=0) if len(x) > 0 else np.nan)\n",
    "\n",
    "    return wv_feature_vec\n",
    "\n",
    "\n",
    "def parallel_generate_word_vectors(samp, transformer, stopwords, batch, num_proc):\n",
    "    with Parallel(n_jobs=num_proc) as parallel:\n",
    "        dataset = []\n",
    "        is_break = False\n",
    "        i = 0\n",
    "\n",
    "        while not is_break:\n",
    "            payload = []\n",
    "\n",
    "            for j in xrange(num_proc):\n",
    "                t_df = samp[(i + j) * batch: (i + 1 + j) * batch]\n",
    "\n",
    "                if t_df.empty:\n",
    "                    is_break = True\n",
    "                    continue\n",
    "\n",
    "                payload.append(\n",
    "                    delayed(transformer)(\n",
    "                        t_df, stopwords\n",
    "                    )\n",
    "                )\n",
    "\n",
    "            print('Current batch in main thread: {}'.format((i + j) * batch))\n",
    "\n",
    "            if payload:\n",
    "                results = parallel(payload)\n",
    "                dataset.extend(results)\n",
    "                i += num_proc\n",
    "\n",
    "    return pd.concat(dataset)\n"
   ]
  },
  {
   "cell_type": "code",
   "execution_count": 18,
   "metadata": {
    "collapsed": true
   },
   "outputs": [],
   "source": [
    "def get_classes(pred, scale_param=0.75, min_thresh=0.05, thresh = 0.5):\n",
    "#     mx = pred.mean() + 3 * pred.std()\n",
    "    return np.where(pred > thresh)[0]  "
   ]
  },
  {
   "cell_type": "code",
   "execution_count": 19,
   "metadata": {
    "collapsed": true
   },
   "outputs": [],
   "source": [
    "def word2idx_transform(word, _word2idx):\n",
    "    return _word2idx.get(word, 0)\n"
   ]
  },
  {
   "cell_type": "code",
   "execution_count": 20,
   "metadata": {
    "collapsed": true
   },
   "outputs": [],
   "source": [
    "def extract_features_for(df, min_batch=2000, stopwords=[], num_proc=7):\n",
    "    df_tokens = transform_text(df)\n",
    "    \n",
    "    batch = min(df_tokens.shape[0] / num_proc, min_batch)\n",
    "\n",
    "    print('Computing fs features...')\n",
    "    fvec = parallel_generate_word_vectors(df_tokens, transform_fasttext, stopwords=stopwords, batch=batch, num_proc=num_proc)\n",
    "\n",
    "    print('Computing wv features...')\n",
    "    wvec = parallel_generate_word_vectors(df_tokens, transform_word2vec, stopwords=stopwords, batch=batch, num_proc=num_proc)\n",
    "\n",
    "    print('Mapping word indices...')\n",
    "    word_indices = df_tokens.map(lambda x: [word2idx_transform(i, _word2idx) for i in x.split()])\n",
    "\n",
    "    print('Computing tfidf fs features...')\n",
    "    tfidf_fvec = parallel_generate_word_vectors(df_tokens, transform_tfidf_fasttext, stopwords=stopwords, batch=batch, num_proc=num_proc)\n",
    "\n",
    "    print('Computing tfidf wv features...')\n",
    "    tfidf_wvec = parallel_generate_word_vectors(df_tokens, transform_tfidf_word2vec, stopwords=stopwords, batch=batch, num_proc=num_proc)\n",
    "\n",
    "    print('Computing tfidf lsi features...')\n",
    "    tfidf_lsi = parallel_generate_word_vectors(df_tokens, transform_tfidf_lsi, stopwords=stopwords, batch=batch, num_proc=num_proc)\n",
    "    \n",
    "    return word_indices, wvec, fvec, tfidf_wvec, tfidf_fvec, tfidf_lsi"
   ]
  },
  {
   "cell_type": "code",
   "execution_count": 208,
   "metadata": {
    "collapsed": true
   },
   "outputs": [],
   "source": [
    "with open('../data/TestData.json') as fl:\n",
    "    data = json.load(fl)\n",
    "    test_df = pd.DataFrame(data['TestData']).T\n",
    "    del(data)"
   ]
  },
  {
   "cell_type": "code",
   "execution_count": 209,
   "metadata": {
    "scrolled": true
   },
   "outputs": [
    {
     "name": "stdout",
     "output_type": "stream",
     "text": [
      "Computing fs features...\n",
      "Current batch in main thread: 6498\n",
      "Current batch in main thread: 14079\n",
      "Computing wv features...\n",
      "Current batch in main thread: 6498\n",
      "Current batch in main thread: 14079\n",
      "Mapping word indices...\n",
      "Computing tfidf fs features...\n",
      "Current batch in main thread: 6498\n",
      "Current batch in main thread: 14079\n",
      "Computing tfidf wv features...\n",
      "Current batch in main thread: 6498\n",
      "Current batch in main thread: 14079\n",
      "Computing tfidf lsi features...\n",
      "Current batch in main thread: 6498\n",
      "Current batch in main thread: 14079\n",
      "CPU times: user 48.4 s, sys: 8.48 s, total: 56.8 s\n",
      "Wall time: 3min 24s\n"
     ]
    }
   ],
   "source": [
    "%%time\n",
    "test_word_indices,test_wvec, test_fvec, test_tfidf_wvec, test_tfidf_fvec, test_tfidf_lsi = extract_features_for(\n",
    "    test_df\n",
    ")"
   ]
  },
  {
   "cell_type": "code",
   "execution_count": 210,
   "metadata": {
    "collapsed": true
   },
   "outputs": [],
   "source": [
    "assert(np.all(test_wvec[test_wvec.isnull()].index == test_fvec[test_fvec.isnull()].index))\n",
    "test_null_index = test_wvec[test_wvec.isnull()].index.union(test_fvec[test_fvec.isnull()].index)"
   ]
  },
  {
   "cell_type": "code",
   "execution_count": 211,
   "metadata": {},
   "outputs": [
    {
     "data": {
      "text/plain": [
       "Index([u'TestData_02543', u'TestData_05012', u'TestData_05830'], dtype='object')"
      ]
     },
     "execution_count": 211,
     "metadata": {},
     "output_type": "execute_result"
    }
   ],
   "source": [
    "test_null_index"
   ]
  },
  {
   "cell_type": "code",
   "execution_count": null,
   "metadata": {
    "collapsed": true,
    "scrolled": true
   },
   "outputs": [],
   "source": []
  },
  {
   "cell_type": "code",
   "execution_count": 212,
   "metadata": {
    "scrolled": true
   },
   "outputs": [
    {
     "name": "stdout",
     "output_type": "stream",
     "text": [
      "CPU times: user 376 ms, sys: 20 ms, total: 396 ms\n",
      "Wall time: 398 ms\n"
     ]
    }
   ],
   "source": [
    "%%time\n",
    "valid_test_index = test_word_indices.index.difference(test_null_index)\n",
    "x_test = test_word_indices.ix[valid_test_index]  # .map(lambda x: [top_token2ind.get(i, 0) for i in x])\n",
    "\n",
    "x_test = sequence.pad_sequences(x_test, maxlen=maxlen)\n",
    "\n",
    "wv_test = np.vstack(test_wvec.ix[valid_test_index])\n",
    "fs_test = np.vstack(test_fvec.ix[valid_test_index])\n",
    "\n",
    "tfidf_wv_test = np.vstack(test_tfidf_wvec.ix[valid_test_index])\n",
    "tfidf_fs_test = np.vstack(test_tfidf_fvec.ix[valid_test_index])\n",
    "tfidf_lsi_test = np.vstack(test_tfidf_lsi.ix[valid_test_index])\n",
    "\n",
    "wv_test = wv_sc.transform(wv_test)\n",
    "fs_test = fs_sc.transform(fs_test)\n",
    "\n",
    "tfidf_wv_test = tfidf_wv_sc.transform(tfidf_wv_test)\n",
    "tfidf_fs_test = tfidf_fs_sc.transform(tfidf_fs_test)\n",
    "tfidf_lsi_test = tfidf_lsi_sc.transform(tfidf_lsi_test)\n",
    "\n",
    "test_inputs = build_training_inputs(\n",
    "    wv_test,\n",
    "    fs_test,\n",
    "    tfidf_wv_test,\n",
    "    tfidf_fs_test,\n",
    "    tfidf_lsi_test,\n",
    ")"
   ]
  },
  {
   "cell_type": "code",
   "execution_count": 213,
   "metadata": {
    "collapsed": true
   },
   "outputs": [],
   "source": [
    "test_probas = model.predict(test_inputs, batch_size=batch_size)"
   ]
  },
  {
   "cell_type": "code",
   "execution_count": 214,
   "metadata": {
    "collapsed": true
   },
   "outputs": [],
   "source": [
    "main_test_probas = test_probas"
   ]
  },
  {
   "cell_type": "code",
   "execution_count": 215,
   "metadata": {},
   "outputs": [
    {
     "data": {
      "text/plain": [
       "array([[  3.67204970e-24,   3.70700917e-07,   7.42611039e-09, ...,\n",
       "          4.76228113e-10,   1.50495470e-17,   9.21997638e-19],\n",
       "       [  1.59448010e-10,   1.13273687e-04,   9.50560207e-06, ...,\n",
       "          9.37573645e-07,   1.65912991e-06,   1.09357727e-12],\n",
       "       [  5.17869525e-17,   2.08538908e-10,   1.23832553e-08, ...,\n",
       "          2.23054908e-08,   3.73598097e-11,   2.50362312e-13],\n",
       "       ..., \n",
       "       [  2.87162738e-10,   3.02710384e-03,   3.23739946e-01, ...,\n",
       "          5.24030108e-09,   2.29539792e-03,   1.83238971e-12],\n",
       "       [  7.28911864e-09,   1.35673685e-02,   1.29257911e-03, ...,\n",
       "          2.75470757e-06,   4.80451490e-06,   2.00738089e-11],\n",
       "       [  2.01001975e-12,   8.72656819e-05,   9.84139275e-04, ...,\n",
       "          7.82961529e-10,   5.51105384e-09,   4.55626137e-15]], dtype=float32)"
      ]
     },
     "execution_count": 215,
     "metadata": {},
     "output_type": "execute_result"
    }
   ],
   "source": [
    "main_test_probas"
   ]
  },
  {
   "cell_type": "code",
   "execution_count": 216,
   "metadata": {},
   "outputs": [
    {
     "data": {
      "text/plain": [
       "[2542, 5011, 5829]"
      ]
     },
     "execution_count": 216,
     "metadata": {},
     "output_type": "execute_result"
    }
   ],
   "source": [
    "skip_index = [int(s.split('_')[1]) - 1 for s in test_null_index]  # Subtract 1 since test index starts at 1 while enumerate starts at 0\n",
    "skip_index"
   ]
  },
  {
   "cell_type": "code",
   "execution_count": 217,
   "metadata": {},
   "outputs": [
    {
     "data": {
      "text/plain": [
       "((7578, 160), (7581, 3))"
      ]
     },
     "execution_count": 217,
     "metadata": {},
     "output_type": "execute_result"
    }
   ],
   "source": [
    "main_test_probas.shape, test_df.shape"
   ]
  },
  {
   "cell_type": "code",
   "execution_count": 219,
   "metadata": {},
   "outputs": [
    {
     "name": "stdout",
     "output_type": "stream",
     "text": [
      "CPU times: user 32 ms, sys: 0 ns, total: 32 ms\n",
      "Wall time: 32.2 ms\n"
     ]
    }
   ],
   "source": [
    "%%time\n",
    "# valid_test_feature_vec found below!\n",
    "# thresh = 0.375\n",
    "test_values = np.zeros([main_test_probas.shape[0], len(topics)])\n",
    "for ix, pred in enumerate(main_test_probas):\n",
    "    for v in get_classes(pred, thresh=thresh):\n",
    "        test_values[ix][v] = 1\n",
    "\n",
    "test_sub_df = pd.DataFrame(\n",
    "    test_values,\n",
    "    index=test_df.ix[test_df.index.difference(test_null_index)].index,\n",
    "    columns=topics\n",
    ")\n",
    "\n",
    "null_test_df = pd.DataFrame(\n",
    "    np.zeros((len(test_null_index), len(topics))),\n",
    "    index=test_null_index,\n",
    "    columns=topics\n",
    ")\n",
    "\n",
    "test_sub_df = test_sub_df.append(null_test_df)\n",
    "test_sub_df = test_sub_df.sort_index()"
   ]
  },
  {
   "cell_type": "code",
   "execution_count": 104,
   "metadata": {
    "collapsed": true
   },
   "outputs": [],
   "source": [
    "# 9627 (0.5), 14297 (0.3)"
   ]
  },
  {
   "cell_type": "code",
   "execution_count": 117,
   "metadata": {
    "scrolled": true
   },
   "outputs": [
    {
     "data": {
      "text/plain": [
       "14663.0"
      ]
     },
     "execution_count": 117,
     "metadata": {},
     "output_type": "execute_result"
    }
   ],
   "source": [
    "test_sub_df.sum().sum()"
   ]
  },
  {
   "cell_type": "code",
   "execution_count": 220,
   "metadata": {
    "scrolled": true
   },
   "outputs": [
    {
     "data": {
      "text/plain": [
       "12488.0"
      ]
     },
     "execution_count": 220,
     "metadata": {},
     "output_type": "execute_result"
    }
   ],
   "source": [
    "test_sub_df.sum().sum()"
   ]
  },
  {
   "cell_type": "code",
   "execution_count": 119,
   "metadata": {
    "scrolled": true
   },
   "outputs": [
    {
     "data": {
      "text/plain": [
       "(0.375, 10524.0)"
      ]
     },
     "execution_count": 119,
     "metadata": {},
     "output_type": "execute_result"
    }
   ],
   "source": [
    "thresh, test_sub_df.sum().sum()"
   ]
  },
  {
   "cell_type": "code",
   "execution_count": 73,
   "metadata": {
    "scrolled": true
   },
   "outputs": [
    {
     "data": {
      "text/plain": [
       "13897.0"
      ]
     },
     "execution_count": 73,
     "metadata": {},
     "output_type": "execute_result"
    }
   ],
   "source": [
    "test_sub_df.sum().sum()"
   ]
  },
  {
   "cell_type": "code",
   "execution_count": 109,
   "metadata": {
    "scrolled": true
   },
   "outputs": [
    {
     "data": {
      "text/plain": [
       "12489.0"
      ]
     },
     "execution_count": 109,
     "metadata": {},
     "output_type": "execute_result"
    }
   ],
   "source": [
    "test_sub_df.sum().sum()"
   ]
  },
  {
   "cell_type": "code",
   "execution_count": 133,
   "metadata": {},
   "outputs": [
    {
     "data": {
      "text/plain": [
       "count    7581.000000\n",
       "mean      882.691070\n",
       "std       621.585386\n",
       "min         0.000000\n",
       "25%       552.000000\n",
       "50%       770.000000\n",
       "75%      1026.000000\n",
       "max      8171.000000\n",
       "Name: bodyText, dtype: float64"
      ]
     },
     "execution_count": 133,
     "metadata": {},
     "output_type": "execute_result"
    }
   ],
   "source": [
    "test_word_indices.map(len).describe()"
   ]
  },
  {
   "cell_type": "code",
   "execution_count": 134,
   "metadata": {},
   "outputs": [
    {
     "data": {
      "text/plain": [
       "1382.0"
      ]
     },
     "execution_count": 134,
     "metadata": {},
     "output_type": "execute_result"
    }
   ],
   "source": [
    "test_word_indices.map(len).quantile(0.9)"
   ]
  },
  {
   "cell_type": "code",
   "execution_count": 130,
   "metadata": {},
   "outputs": [
    {
     "data": {
      "text/plain": [
       "1223"
      ]
     },
     "execution_count": 130,
     "metadata": {},
     "output_type": "execute_result"
    }
   ],
   "source": [
    "len(test_df.ix['TestData_04490'].bodyText.split())"
   ]
  },
  {
   "cell_type": "code",
   "execution_count": 221,
   "metadata": {},
   "outputs": [
    {
     "data": {
      "text/plain": [
       "activism                                    0.0\n",
       "afghanistan                               111.0\n",
       "aid                                        78.0\n",
       "algerianhostagecrisis                      10.0\n",
       "alqaida                                   101.0\n",
       "alshabaab                                  38.0\n",
       "antiwar                                     0.0\n",
       "arabandmiddleeastprotests                 321.0\n",
       "armstrade                                  77.0\n",
       "australianguncontrol                        0.0\n",
       "australiansecurityandcounterterrorism      84.0\n",
       "bastilledaytruckattack                     27.0\n",
       "belgium                                     9.0\n",
       "berlinchristmasmarketattack                40.0\n",
       "bigdata                                     7.0\n",
       "biometrics                                  0.0\n",
       "bokoharam                                  41.0\n",
       "bostonmarathonbombing                      61.0\n",
       "britisharmy                                 2.0\n",
       "brusselsattacks                            98.0\n",
       "cameroon                                    2.0\n",
       "carers                                      1.0\n",
       "charliehebdoattack                         82.0\n",
       "chemicalweapons                            17.0\n",
       "clusterbombs                                4.0\n",
       "cobra                                       0.0\n",
       "conflictanddevelopment                     43.0\n",
       "controversy                                 3.0\n",
       "criminaljustice                            28.0\n",
       "cybercrime                                 81.0\n",
       "                                          ...  \n",
       "somalia                                    44.0\n",
       "southafrica                                41.0\n",
       "southchinasea                               3.0\n",
       "stopandsearch                               2.0\n",
       "surveillance                              151.0\n",
       "sydneysiege                                41.0\n",
       "syria                                    1476.0\n",
       "taliban                                    57.0\n",
       "terrorism                                 280.0\n",
       "thailand                                   35.0\n",
       "torture                                    15.0\n",
       "traincrashes                                4.0\n",
       "transport                                  93.0\n",
       "tunisiaattack2015                          79.0\n",
       "turkey                                    202.0\n",
       "turkeycoupattempt                          46.0\n",
       "ukcrime                                   309.0\n",
       "uksecurity                                538.0\n",
       "uksupremecourt                             10.0\n",
       "undercoverpoliceandpolicing                 4.0\n",
       "unitednations                             187.0\n",
       "usguncontrol                              259.0\n",
       "values                                      0.0\n",
       "warcrimes                                  18.0\n",
       "warreporting                                4.0\n",
       "weaponstechnology                           3.0\n",
       "womeninbusiness                             1.0\n",
       "woolwichattack                             17.0\n",
       "worldmigration                              6.0\n",
       "zikavirus                                   3.0\n",
       "dtype: float64"
      ]
     },
     "execution_count": 221,
     "metadata": {},
     "output_type": "execute_result"
    }
   ],
   "source": [
    "test_sub_df.sum()"
   ]
  },
  {
   "cell_type": "code",
   "execution_count": 222,
   "metadata": {},
   "outputs": [
    {
     "name": "stdout",
     "output_type": "stream",
     "text": [
      "95811/95811 [==============================] - 2s - loss: 1.7367 - acc: 0.7069 - f1_micro: 0.5886 - val_loss: 1.4146 - val_acc: 0.7645 - val_f1_micro: 0.5889\n"
     ]
    }
   ],
   "source": [
    "print '95811/95811 [==============================] - 2s - loss: 1.7367 - acc: 0.7069 - f1_micro: 0.5886 - val_loss: 1.4146 - val_acc: 0.7645 - val_f1_micro: 0.5889'"
   ]
  },
  {
   "cell_type": "code",
   "execution_count": 223,
   "metadata": {
    "collapsed": true
   },
   "outputs": [],
   "source": [
    "sub_filename = 'tfidf_wv_300-fs_300-lsi_300-deep_stack_net-epochs_260-f1_0.5886-data_2010_2014_test_augmented_10_upsample-val_data_2014-thresh_{}-with_sc_wv_fs_lsi.csv'.format(thresh)"
   ]
  },
  {
   "cell_type": "code",
   "execution_count": 224,
   "metadata": {
    "collapsed": true,
    "scrolled": true
   },
   "outputs": [],
   "source": [
    "test_sub_df.astype(int).reset_index().rename(\n",
    "    columns={'index': 'id'}\n",
    ").sort_values('id').to_csv(\n",
    "    sub_filename, \n",
    "    index=False\n",
    ")"
   ]
  },
  {
   "cell_type": "code",
   "execution_count": 225,
   "metadata": {},
   "outputs": [
    {
     "data": {
      "text/plain": [
       "(7581, 160)"
      ]
     },
     "execution_count": 225,
     "metadata": {},
     "output_type": "execute_result"
    }
   ],
   "source": [
    "test_sub_df.shape"
   ]
  },
  {
   "cell_type": "code",
   "execution_count": null,
   "metadata": {
    "collapsed": true
   },
   "outputs": [],
   "source": [
    "TestData_04490\tThe World Health Organisation has convened an ...\t[]\t28-01-2016\n",
    "TestData_04550\tSpraying pesticides will fail to deal with the...\t[]\t02-02-2016\n",
    "TestData_05683\tViolent protests at Trump rally in California ...\t[]\t03-06-2016\n",
    "TestData_05869\tLast weekend, we saw the darkest side of human...\t[]\t17-06-2016\n",
    "TestData_06148\tAs dusk falls over Copacabana beach, Ubira San...\t[]\t16-07-2016\n",
    "TestData_06291\tIt is 3pm and yet another patient is brought t...\t[]\t27-07-2016\n",
    "TestData_06610\tHuddled around their hives, beekeepers around ...\t[]\t04-09-2016\n",
    "TestData_06708\tA United Nations high-level panel on access to...\t[]\t14-09-2016\n",
    "TestData_07263\tWHO: Zika virus is no longer a world threat Th...\t[]\t19-11-2016\n",
    "TestData_07478\t1 World Health Organisation declares a public ...\t[]\t18-12-2016"
   ]
  },
  {
   "cell_type": "code",
   "execution_count": 82,
   "metadata": {},
   "outputs": [
    {
     "data": {
      "text/plain": [
       "guncrime        1.0\n",
       "usguncontrol    1.0\n",
       "Name: TestData_05869, dtype: float64"
      ]
     },
     "execution_count": 82,
     "metadata": {},
     "output_type": "execute_result"
    }
   ],
   "source": [
    "ix = 5868\n",
    "test_sub_df.iloc[ix][test_sub_df.iloc[ix] == 1]"
   ]
  },
  {
   "cell_type": "code",
   "execution_count": 111,
   "metadata": {},
   "outputs": [
    {
     "name": "stdout",
     "output_type": "stream",
     "text": [
      "CPU times: user 36 ms, sys: 0 ns, total: 36 ms\n",
      "Wall time: 32.6 ms\n"
     ]
    }
   ],
   "source": [
    "# %%time\n",
    "# adjust_index = 0\n",
    "# # valid_test_feature_vec found below!\n",
    "# test_values = np.zeros([test_df.shape[0], len(topics)])\n",
    "# for ix, pred in enumerate(main_test_probas):\n",
    "#     if ix in skip_index:\n",
    "#         test_values[ix] = np.nan\n",
    "#         # Increment adjust index so that we have the correct index for other samples\n",
    "#         adjust_index += 1\n",
    "#         continue\n",
    "\n",
    "#     for v in get_classes(pred, thresh=0.05):\n",
    "#         test_values[ix + adjust_index][v] = 1\n",
    "\n",
    "# test_sub_df = pd.DataFrame(test_values, columns=sorted(topics), index=test_df.index)\n",
    "\n",
    "# q = test_sub_df.sum(axis=1)\n",
    "# assert(len(q[q.isnull()].index.difference(test_null_index)) == 0)\n",
    "\n",
    "# test_sub_df = test_sub_df.fillna(0)\n",
    "\n",
    "# # for i in test_feature_vec[test_feature_vec.isnull()].index:\n",
    "# #     test_sub_df.ix[i] = np.zeros(len(topics))"
   ]
  },
  {
   "cell_type": "code",
   "execution_count": 40,
   "metadata": {},
   "outputs": [
    {
     "data": {
      "text/plain": [
       "TestData_02543    0.0\n",
       "TestData_05012    0.0\n",
       "TestData_05830    0.0\n",
       "dtype: float64"
      ]
     },
     "execution_count": 40,
     "metadata": {},
     "output_type": "execute_result"
    }
   ],
   "source": [
    "test_sub_df.ix[test_null_index].sum(axis=1)"
   ]
  },
  {
   "cell_type": "code",
   "execution_count": 41,
   "metadata": {},
   "outputs": [
    {
     "data": {
      "text/plain": [
       "11656.0"
      ]
     },
     "execution_count": 41,
     "metadata": {},
     "output_type": "execute_result"
    }
   ],
   "source": [
    "test_sub_df.sum().sum()"
   ]
  },
  {
   "cell_type": "code",
   "execution_count": 124,
   "metadata": {
    "collapsed": true
   },
   "outputs": [],
   "source": [
    "test_sub_df.astype(int).reset_index().rename(\n",
    "    columns={'index': 'id'}\n",
    ").sort_values('id').to_csv(\n",
    "    'lstm_300-word2vec_300-fasttext_300-maxlen_500-dense_64_64_64-cat_cross-epoch_210-batch_size_750-val_main_output_f1_micro_0.5760-main_output_f1_micro_0.5751-main_output_loss_0.9143-data_2010_2013-val_data_2014-thresh_0.05.csv', \n",
    "    index=False\n",
    ")"
   ]
  },
  {
   "cell_type": "code",
   "execution_count": 86,
   "metadata": {},
   "outputs": [
    {
     "data": {
      "text/plain": [
       "Series([], Name: zikavirus, dtype: float64)"
      ]
     },
     "execution_count": 86,
     "metadata": {},
     "output_type": "execute_result"
    }
   ],
   "source": [
    "e = test_sub_df['zikavirus']\n",
    "e[e==1]"
   ]
  },
  {
   "cell_type": "code",
   "execution_count": 87,
   "metadata": {},
   "outputs": [
    {
     "data": {
      "text/plain": [
       "14328"
      ]
     },
     "execution_count": 87,
     "metadata": {},
     "output_type": "execute_result"
    }
   ],
   "source": [
    "top_submission = pd.read_csv('basic_nn_submission_0.649_accuracy_multi_class.csv')\n",
    "top_submission.set_index('id').sum().sum()"
   ]
  },
  {
   "cell_type": "code",
   "execution_count": 88,
   "metadata": {},
   "outputs": [
    {
     "data": {
      "text/plain": [
       "9280"
      ]
     },
     "execution_count": 88,
     "metadata": {},
     "output_type": "execute_result"
    }
   ],
   "source": [
    "wrong_index_lstm_sub = pd.read_csv('lstm.2014b_training_700_maxlen_64cell_100epochs_0.0025_threshold.csv')\n",
    "wrong_index_lstm_sub.set_index('id').sum().sum()"
   ]
  },
  {
   "cell_type": "code",
   "execution_count": 89,
   "metadata": {},
   "outputs": [
    {
     "data": {
      "text/plain": [
       "34952"
      ]
     },
     "execution_count": 89,
     "metadata": {},
     "output_type": "execute_result"
    }
   ],
   "source": [
    "some_sub = pd.read_csv('basic_nn_submission_full_training_data_0.9958_validation_accuracy_binary_crossentropy.csv')\n",
    "some_sub.set_index('id').sum().sum()"
   ]
  },
  {
   "cell_type": "code",
   "execution_count": 90,
   "metadata": {},
   "outputs": [
    {
     "name": "stdout",
     "output_type": "stream",
     "text": [
      "(2197, 160)\n",
      "(3957, 160)\n",
      "(12, 160)\n",
      "(1503, 160)\n"
     ]
    }
   ],
   "source": [
    "print top_submission.set_index('id')[top_submission.set_index('id').sum(axis=1) == 0].shape\n",
    "\n",
    "print wrong_index_lstm_sub.set_index('id')[wrong_index_lstm_sub.set_index('id').sum(axis=1) == 0].shape\n",
    "\n",
    "print some_sub.set_index('id')[some_sub.set_index('id').sum(axis=1) == 0].shape\n",
    "\n",
    "print test_sub_df[test_sub_df.sum(axis=1) == 0].shape"
   ]
  },
  {
   "cell_type": "code",
   "execution_count": 106,
   "metadata": {
    "scrolled": true
   },
   "outputs": [
    {
     "data": {
      "text/plain": [
       "TestData_00011     0\n",
       "TestData_00012     0\n",
       "TestData_00015     0\n",
       "TestData_00027     3\n",
       "TestData_00029     0\n",
       "TestData_00038     1\n",
       "TestData_00042     5\n",
       "TestData_00053     4\n",
       "TestData_00056     1\n",
       "TestData_00060     1\n",
       "TestData_00066     0\n",
       "TestData_00085     0\n",
       "TestData_00087     1\n",
       "TestData_00090     0\n",
       "TestData_00092     0\n",
       "TestData_00107     3\n",
       "TestData_00111     0\n",
       "TestData_00114     0\n",
       "TestData_00115     1\n",
       "TestData_00118     0\n",
       "TestData_00119     0\n",
       "TestData_00121     0\n",
       "TestData_00123     0\n",
       "TestData_00125     0\n",
       "TestData_00127     0\n",
       "TestData_00128     1\n",
       "TestData_00139     1\n",
       "TestData_00140     1\n",
       "TestData_00144     0\n",
       "TestData_00147     2\n",
       "                  ..\n",
       "TestData_07445     0\n",
       "TestData_07456     3\n",
       "TestData_07461     1\n",
       "TestData_07462     4\n",
       "TestData_07465     0\n",
       "TestData_07468     0\n",
       "TestData_07471     1\n",
       "TestData_07475     0\n",
       "TestData_07486    10\n",
       "TestData_07495     1\n",
       "TestData_07509     0\n",
       "TestData_07514     3\n",
       "TestData_07515     1\n",
       "TestData_07523     0\n",
       "TestData_07533     2\n",
       "TestData_07534     2\n",
       "TestData_07542     1\n",
       "TestData_07544     2\n",
       "TestData_07545     0\n",
       "TestData_07552     2\n",
       "TestData_07556     5\n",
       "TestData_07563     1\n",
       "TestData_07565     0\n",
       "TestData_07566     0\n",
       "TestData_07569     0\n",
       "TestData_07571     3\n",
       "TestData_07572     1\n",
       "TestData_07579     6\n",
       "TestData_07580     2\n",
       "TestData_07581     3\n",
       "dtype: int64"
      ]
     },
     "execution_count": 106,
     "metadata": {},
     "output_type": "execute_result"
    }
   ],
   "source": [
    "top_submission.set_index('id').ix[q[q == 0].index].sum(axis=1)"
   ]
  },
  {
   "cell_type": "code",
   "execution_count": 91,
   "metadata": {},
   "outputs": [
    {
     "data": {
      "text/plain": [
       "(1222,)"
      ]
     },
     "execution_count": 91,
     "metadata": {},
     "output_type": "execute_result"
    }
   ],
   "source": [
    "q = test_sub_df.sum(axis=1)\n",
    "q[q==0].shape"
   ]
  },
  {
   "cell_type": "code",
   "execution_count": 92,
   "metadata": {},
   "outputs": [
    {
     "data": {
      "text/plain": [
       "count    7581.000000\n",
       "mean        2.160929\n",
       "std         1.739411\n",
       "min         0.000000\n",
       "25%         1.000000\n",
       "50%         2.000000\n",
       "75%         3.000000\n",
       "max        13.000000\n",
       "dtype: float64"
      ]
     },
     "execution_count": 92,
     "metadata": {},
     "output_type": "execute_result"
    }
   ],
   "source": [
    "q.describe()"
   ]
  },
  {
   "cell_type": "code",
   "execution_count": 157,
   "metadata": {
    "collapsed": true
   },
   "outputs": [],
   "source": [
    "q = trainingY.sum(axis=1)"
   ]
  },
  {
   "cell_type": "code",
   "execution_count": 158,
   "metadata": {},
   "outputs": [
    {
     "data": {
      "text/plain": [
       "count    236286.000000\n",
       "mean          1.392787\n",
       "std           0.762577\n",
       "min           1.000000\n",
       "25%           1.000000\n",
       "50%           1.000000\n",
       "75%           2.000000\n",
       "max          15.000000\n",
       "dtype: float64"
      ]
     },
     "execution_count": 158,
     "metadata": {},
     "output_type": "execute_result"
    }
   ],
   "source": [
    "q.describe()"
   ]
  },
  {
   "cell_type": "code",
   "execution_count": 82,
   "metadata": {},
   "outputs": [
    {
     "data": {
      "text/html": [
       "<div>\n",
       "<table border=\"1\" class=\"dataframe\">\n",
       "  <thead>\n",
       "    <tr style=\"text-align: right;\">\n",
       "      <th></th>\n",
       "      <th>bodyText</th>\n",
       "      <th>topics</th>\n",
       "      <th>webPublicationDate</th>\n",
       "    </tr>\n",
       "  </thead>\n",
       "  <tbody>\n",
       "    <tr>\n",
       "      <th>TestData_03241</th>\n",
       "      <td>A special British police unit was put on stand...</td>\n",
       "      <td>[]</td>\n",
       "      <td>15-11-2015</td>\n",
       "    </tr>\n",
       "    <tr>\n",
       "      <th>TestData_04088</th>\n",
       "      <td>The youngest convict in a fatal gang-rape in N...</td>\n",
       "      <td>[]</td>\n",
       "      <td>20-12-2015</td>\n",
       "    </tr>\n",
       "    <tr>\n",
       "      <th>TestData_06306</th>\n",
       "      <td>Former New York City mayor Rudy Giuliani has s...</td>\n",
       "      <td>[]</td>\n",
       "      <td>28-07-2016</td>\n",
       "    </tr>\n",
       "    <tr>\n",
       "      <th>TestData_06083</th>\n",
       "      <td>John Cantlie, the British journalist who has b...</td>\n",
       "      <td>[]</td>\n",
       "      <td>13-07-2016</td>\n",
       "    </tr>\n",
       "    <tr>\n",
       "      <th>TestData_05896</th>\n",
       "      <td>Lawyers for the companies that manufactured an...</td>\n",
       "      <td>[]</td>\n",
       "      <td>20-06-2016</td>\n",
       "    </tr>\n",
       "  </tbody>\n",
       "</table>\n",
       "</div>"
      ],
      "text/plain": [
       "                                                         bodyText topics  \\\n",
       "TestData_03241  A special British police unit was put on stand...     []   \n",
       "TestData_04088  The youngest convict in a fatal gang-rape in N...     []   \n",
       "TestData_06306  Former New York City mayor Rudy Giuliani has s...     []   \n",
       "TestData_06083  John Cantlie, the British journalist who has b...     []   \n",
       "TestData_05896  Lawyers for the companies that manufactured an...     []   \n",
       "\n",
       "               webPublicationDate  \n",
       "TestData_03241         15-11-2015  \n",
       "TestData_04088         20-12-2015  \n",
       "TestData_06306         28-07-2016  \n",
       "TestData_06083         13-07-2016  \n",
       "TestData_05896         20-06-2016  "
      ]
     },
     "execution_count": 82,
     "metadata": {},
     "output_type": "execute_result"
    }
   ],
   "source": [
    "test_df.sample(5)"
   ]
  },
  {
   "cell_type": "code",
   "execution_count": 89,
   "metadata": {
    "collapsed": true
   },
   "outputs": [],
   "source": [
    "test_ix = 'TestData_03241'"
   ]
  },
  {
   "cell_type": "code",
   "execution_count": 90,
   "metadata": {},
   "outputs": [
    {
     "data": {
      "text/plain": [
       "london                1.0\n",
       "metropolitanpolice    1.0\n",
       "police                1.0\n",
       "uksecurity            1.0\n",
       "Name: TestData_03241, dtype: float64"
      ]
     },
     "execution_count": 90,
     "metadata": {},
     "output_type": "execute_result"
    }
   ],
   "source": [
    "q = test_sub_df.ix[test_ix]\n",
    "q[q>0]"
   ]
  },
  {
   "cell_type": "code",
   "execution_count": 91,
   "metadata": {},
   "outputs": [
    {
     "data": {
      "text/plain": [
       "ukcrime    1\n",
       "Name: TestData_04088, dtype: int64"
      ]
     },
     "execution_count": 91,
     "metadata": {},
     "output_type": "execute_result"
    }
   ],
   "source": [
    "q = top_submission.set_index('id').ix[test_ix]\n",
    "q[q>0]"
   ]
  },
  {
   "cell_type": "code",
   "execution_count": 92,
   "metadata": {},
   "outputs": [
    {
     "data": {
      "text/plain": [
       "humanrights    1\n",
       "india          1\n",
       "protest        1\n",
       "ukcrime        1\n",
       "Name: TestData_04088, dtype: int64"
      ]
     },
     "execution_count": 92,
     "metadata": {},
     "output_type": "execute_result"
    }
   ],
   "source": [
    "q = some_sub.set_index('id').ix[test_ix]\n",
    "q[q>0]"
   ]
  },
  {
   "cell_type": "code",
   "execution_count": 62,
   "metadata": {},
   "outputs": [
    {
     "data": {
      "text/plain": [
       "humanrights    1\n",
       "Name: TestData_02924, dtype: int64"
      ]
     },
     "execution_count": 62,
     "metadata": {},
     "output_type": "execute_result"
    }
   ],
   "source": [
    "q = wrong_index_lstm_sub.set_index('id').ix[test_ix]\n",
    "q[q>0]"
   ]
  },
  {
   "cell_type": "code",
   "execution_count": null,
   "metadata": {
    "collapsed": true
   },
   "outputs": [],
   "source": [
    "Counter-terrorism policy\n",
    " \n",
    "Foreign policy\n",
    " \n",
    "Defence policy\n",
    " \n",
    "Islamic State\n",
    " \n",
    "Syria\n",
    " \n",
    "news"
   ]
  },
  {
   "cell_type": "code",
   "execution_count": 83,
   "metadata": {
    "collapsed": true
   },
   "outputs": [],
   "source": [
    "s = trainingY.sum()\n",
    "unseen_topics = s[s.isnull()].index"
   ]
  },
  {
   "cell_type": "code",
   "execution_count": 85,
   "metadata": {
    "scrolled": true
   },
   "outputs": [
    {
     "data": {
      "text/plain": [
       "{'activism',\n",
       " 'bastilledaytruckattack',\n",
       " 'berlinchristmasmarketattack',\n",
       " 'brusselsattacks',\n",
       " 'charliehebdoattack',\n",
       " 'francetrainattack',\n",
       " 'munichshooting',\n",
       " 'orlandoterrorattack',\n",
       " 'parisattacks',\n",
       " 'peaceandreconciliation',\n",
       " 'sanbernardinoshooting',\n",
       " 'tunisiaattack2015',\n",
       " 'turkeycoupattempt',\n",
       " 'zikavirus'}"
      ]
     },
     "execution_count": 85,
     "metadata": {},
     "output_type": "execute_result"
    }
   ],
   "source": [
    "set(topics).intersection(unseen_topics)"
   ]
  },
  {
   "cell_type": "code",
   "execution_count": 170,
   "metadata": {
    "scrolled": true
   },
   "outputs": [
    {
     "name": "stdout",
     "output_type": "stream",
     "text": [
      "activism\n",
      "afghanistan\n",
      "aid\n",
      "algerianhostagecrisis\n",
      "alqaida\n",
      "alshabaab\n",
      "antiwar\n",
      "arabandmiddleeastprotests\n",
      "armstrade\n",
      "australianguncontrol\n",
      "australiansecurityandcounterterrorism\n",
      "bastilledaytruckattack\n",
      "belgium\n",
      "berlinchristmasmarketattack\n",
      "bigdata\n",
      "biometrics\n",
      "bokoharam\n",
      "bostonmarathonbombing\n",
      "britisharmy\n",
      "brusselsattacks\n",
      "cameroon\n",
      "carers\n",
      "charliehebdoattack\n",
      "chemicalweapons\n",
      "clusterbombs\n",
      "cobra\n",
      "conflictanddevelopment\n",
      "controversy\n",
      "criminaljustice\n",
      "cybercrime\n",
      "cyberwar\n",
      "darknet\n",
      "dataprotection\n",
      "debate\n",
      "defence\n",
      "deflation\n",
      "drones\n",
      "drugs\n",
      "drugspolicy\n",
      "drugstrade\n",
      "earthquakes\n",
      "ebola\n",
      "economy\n",
      "egypt\n",
      "encryption\n",
      "energy\n",
      "espionage\n",
      "ethics\n",
      "europeanarrestwarrant\n",
      "europeancourtofhumanrights\n",
      "events\n",
      "extradition\n",
      "famine\n",
      "farright\n",
      "firefighters\n",
      "forensicscience\n",
      "france\n",
      "francetrainattack\n",
      "freedomofspeech\n",
      "genevaconventions\n",
      "germany\n",
      "guncrime\n",
      "hacking\n",
      "hashtags\n",
      "helicoptercrashes\n",
      "humanitarianresponse\n",
      "humanrights\n",
      "humanrightsact\n",
      "humantrafficking\n",
      "immigration\n",
      "india\n",
      "indonesia\n",
      "internallydisplacedpeople\n",
      "internationalcourtofjustice\n",
      "internationalcriminaljustice\n",
      "internetsafety\n",
      "iraq\n",
      "isis\n",
      "israel\n",
      "jordan\n",
      "jubilee\n",
      "judiciary\n",
      "july7\n",
      "justiceandsecurity\n",
      "kenya\n",
      "knifecrime\n",
      "lebanon\n",
      "libya\n",
      "localgovernment\n",
      "logistics\n",
      "london\n",
      "londonriots\n",
      "malaysia\n",
      "mali\n",
      "malware\n",
      "metropolitanpolice\n",
      "middleeastpeacetalks\n",
      "migration\n",
      "military\n",
      "ministryofdefence\n",
      "morocco\n",
      "mrsa\n",
      "mumbaiterrorattacks\n",
      "munichshooting\n",
      "naturaldisasters\n",
      "nigeria\n",
      "nuclearweapons\n",
      "occupy\n",
      "organisedcrime\n",
      "orlandoterrorattack\n",
      "osamabinladen\n",
      "paris\n",
      "parisattacks\n",
      "peaceandreconciliation\n",
      "philippines\n",
      "piracy\n",
      "planecrashes\n",
      "police\n",
      "protest\n",
      "refugees\n",
      "religion\n",
      "retirementage\n",
      "rio20earthsummit\n",
      "royalairforce\n",
      "royalnavy\n",
      "russia\n",
      "sanbernardinoshooting\n",
      "saudiarabia\n",
      "september11\n",
      "slavery\n",
      "somalia\n",
      "southafrica\n",
      "southchinasea\n",
      "stopandsearch\n",
      "surveillance\n",
      "sydneysiege\n",
      "syria\n",
      "taliban\n",
      "terrorism\n",
      "thailand\n",
      "torture\n",
      "traincrashes\n",
      "transport\n",
      "tunisiaattack2015\n",
      "turkey\n",
      "turkeycoupattempt\n",
      "ukcrime\n",
      "uksecurity\n",
      "uksupremecourt\n",
      "undercoverpoliceandpolicing\n",
      "unitednations\n",
      "usguncontrol\n",
      "values\n",
      "warcrimes\n",
      "warreporting\n",
      "weaponstechnology\n",
      "womeninbusiness\n",
      "woolwichattack\n",
      "worldmigration\n",
      "zikavirus\n"
     ]
    }
   ],
   "source": [
    "for i in topics:\n",
    "    print i"
   ]
  },
  {
   "cell_type": "code",
   "execution_count": 263,
   "metadata": {},
   "outputs": [
    {
     "name": "stderr",
     "output_type": "stream",
     "text": [
      "/home/avsolatorio/ml-ai/local/lib/python2.7/site-packages/sklearn/utils/validation.py:395: DeprecationWarning: Passing 1d arrays as data is deprecated in 0.17 and will raise ValueError in 0.19. Reshape your data either using X.reshape(-1, 1) if your data has a single feature or X.reshape(1, -1) if it contains a single sample.\n",
      "  DeprecationWarning)\n"
     ]
    },
    {
     "data": {
      "text/plain": [
       "0.3445929"
      ]
     },
     "execution_count": 263,
     "metadata": {},
     "output_type": "execute_result"
    }
   ],
   "source": [
    "cosine_similarity(wvmodel['zika'], np.vstack(test_wvec.dropna())).max()"
   ]
  },
  {
   "cell_type": "code",
   "execution_count": 259,
   "metadata": {},
   "outputs": [
    {
     "name": "stderr",
     "output_type": "stream",
     "text": [
      "/home/avsolatorio/ml-ai/local/lib/python2.7/site-packages/sklearn/utils/validation.py:395: DeprecationWarning: Passing 1d arrays as data is deprecated in 0.17 and will raise ValueError in 0.19. Reshape your data either using X.reshape(-1, 1) if your data has a single feature or X.reshape(1, -1) if it contains a single sample.\n",
      "  DeprecationWarning)\n"
     ]
    },
    {
     "data": {
      "text/plain": [
       "0.38107796869050226"
      ]
     },
     "execution_count": 259,
     "metadata": {},
     "output_type": "execute_result"
    }
   ],
   "source": [
    "cosine_similarity(fsmodel['zika'], np.vstack(test_fvec.dropna())).max()"
   ]
  },
  {
   "cell_type": "code",
   "execution_count": 251,
   "metadata": {},
   "outputs": [
    {
     "data": {
      "text/plain": [
       "bodyText              The World Health Organisation has convened an ...\n",
       "topics                                                               []\n",
       "webPublicationDate                                           28-01-2016\n",
       "Name: TestData_04490, dtype: object"
      ]
     },
     "execution_count": 251,
     "metadata": {},
     "output_type": "execute_result"
    }
   ],
   "source": [
    "test_df.ix[4488 + 1]"
   ]
  },
  {
   "cell_type": "code",
   "execution_count": 257,
   "metadata": {},
   "outputs": [
    {
     "data": {
      "text/plain": [
       "bodyText              The United Nations security council has called...\n",
       "topics                                                               []\n",
       "webPublicationDate                                           17-09-2016\n",
       "Name: TestData_06730, dtype: object"
      ]
     },
     "execution_count": 257,
     "metadata": {},
     "output_type": "execute_result"
    }
   ],
   "source": [
    "test_df.ix[6727 + 2]"
   ]
  },
  {
   "cell_type": "code",
   "execution_count": 253,
   "metadata": {},
   "outputs": [
    {
     "data": {
      "text/plain": [
       "bodyText              We are deeply concerned that the counter-terro...\n",
       "topics                                                               []\n",
       "webPublicationDate                                           02-02-2015\n",
       "Name: TestData_00360, dtype: object"
      ]
     },
     "execution_count": 253,
     "metadata": {},
     "output_type": "execute_result"
    }
   ],
   "source": [
    "test_df.ix[359]"
   ]
  },
  {
   "cell_type": "code",
   "execution_count": 270,
   "metadata": {},
   "outputs": [
    {
     "data": {
      "text/plain": [
       "drugstrade    1.0\n",
       "Name: TestData_04490, dtype: float64"
      ]
     },
     "execution_count": 270,
     "metadata": {},
     "output_type": "execute_result"
    }
   ],
   "source": [
    "q = test_sub_df.iloc[4488 + 1]\n",
    "q[q > 0]"
   ]
  },
  {
   "cell_type": "code",
   "execution_count": null,
   "metadata": {
    "collapsed": true
   },
   "outputs": [],
   "source": []
  }
 ],
 "metadata": {
  "kernelspec": {
   "display_name": "Python 2",
   "language": "python",
   "name": "python2"
  },
  "language_info": {
   "codemirror_mode": {
    "name": "ipython",
    "version": 2
   },
   "file_extension": ".py",
   "mimetype": "text/x-python",
   "name": "python",
   "nbconvert_exporter": "python",
   "pygments_lexer": "ipython2",
   "version": "2.7.12"
  }
 },
 "nbformat": 4,
 "nbformat_minor": 2
}
