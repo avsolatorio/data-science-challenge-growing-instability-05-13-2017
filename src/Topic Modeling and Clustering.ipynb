{
 "cells": [
  {
   "cell_type": "code",
   "execution_count": 1,
   "metadata": {
    "collapsed": true
   },
   "outputs": [],
   "source": [
    "import warnings; warnings.filterwarnings('ignore')"
   ]
  },
  {
   "cell_type": "code",
   "execution_count": 2,
   "metadata": {},
   "outputs": [
    {
     "name": "stderr",
     "output_type": "stream",
     "text": [
      "Using TensorFlow backend.\n"
     ]
    }
   ],
   "source": [
    "from growing_instability_lib import *"
   ]
  },
  {
   "cell_type": "code",
   "execution_count": 3,
   "metadata": {},
   "outputs": [
    {
     "data": {
      "text/plain": [
       "160"
      ]
     },
     "execution_count": 3,
     "metadata": {},
     "output_type": "execute_result"
    }
   ],
   "source": [
    "sample_sub = pd.read_csv('../data/sampleSubmission.csv')\n",
    "topics = sorted(set(sample_sub.columns.difference(['id'])))\n",
    "\n",
    "topic2actual = {}\n",
    "for i in sample_sub.columns:\n",
    "    if 'id' == i:\n",
    "        continue\n",
    "    topic2actual[i] = segment(i)\n",
    "    \n",
    "target_columns = sorted(topics)\n",
    "len(topics)"
   ]
  },
  {
   "cell_type": "code",
   "execution_count": 4,
   "metadata": {
    "collapsed": true
   },
   "outputs": [],
   "source": [
    "from gensim.models.tfidfmodel import TfidfModel\n",
    "from gensim.models.lsimodel import LsiModel\n",
    "from gensim.corpora import Dictionary\n",
    "\n",
    "dictionary = TfidfModel.load('corpus/train_body_data-with_labels_False-retain_special_chars_False.with_test_data.csv.dictionary')\n",
    "tfidf = TfidfModel.load('corpus/train_body_data-with_labels_False-retain_special_chars_False.with_test_data.csv.tfidf')\n",
    "lsi = LsiModel.load('corpus/train_body_data-with_labels_False-retain_special_chars_False.with_test_data.csv.lsi')"
   ]
  },
  {
   "cell_type": "code",
   "execution_count": 5,
   "metadata": {
    "collapsed": true
   },
   "outputs": [],
   "source": [
    "wvmodel = Word2Vec.load('corpus/train_body_data-with_labels_False-retain_special_chars_False.with_test_data.csv.w2v.model')"
   ]
  },
  {
   "cell_type": "code",
   "execution_count": 6,
   "metadata": {
    "collapsed": true
   },
   "outputs": [],
   "source": [
    "fsmodel = fasttext.load_model('corpus/train_body_data-with_labels_False-retain_special_chars_False.with_test_data.csv.fasttext.model.bin')"
   ]
  },
  {
   "cell_type": "code",
   "execution_count": 7,
   "metadata": {
    "scrolled": true
   },
   "outputs": [
    {
     "data": {
      "text/plain": [
       "{'activism': ['activism'],\n",
       " 'afghanistan': ['afghanistan'],\n",
       " 'aid': ['aid'],\n",
       " 'algerianhostagecrisis': ['algerian', 'hostage', 'crisis'],\n",
       " 'alqaida': ['al', 'qaida'],\n",
       " 'alshabaab': ['al', 'shaba', 'ab'],\n",
       " 'antiwar': ['antiwar'],\n",
       " 'arabandmiddleeastprotests': ['arab', 'and', 'middle', 'east', 'protests'],\n",
       " 'armstrade': ['arms', 'trade'],\n",
       " 'australianguncontrol': ['australian', 'gun', 'control'],\n",
       " 'australiansecurityandcounterterrorism': ['australian',\n",
       "  'security',\n",
       "  'and',\n",
       "  'counterterrorism'],\n",
       " 'bastilledaytruckattack': ['bastille', 'day', 'truck', 'attack'],\n",
       " 'belgium': ['belgium'],\n",
       " 'berlinchristmasmarketattack': ['berlin', 'christmas', 'market', 'attack'],\n",
       " 'bigdata': ['big', 'data'],\n",
       " 'biometrics': ['biometrics'],\n",
       " 'bokoharam': ['boko', 'haram'],\n",
       " 'bostonmarathonbombing': ['boston', 'marathon', 'bombing'],\n",
       " 'britisharmy': ['british', 'army'],\n",
       " 'brusselsattacks': ['brussels', 'attacks'],\n",
       " 'cameroon': ['cameroon'],\n",
       " 'carers': ['carers'],\n",
       " 'charliehebdoattack': ['charlie', 'hebdo', 'attack'],\n",
       " 'chemicalweapons': ['chemical', 'weapons'],\n",
       " 'clusterbombs': ['cluster', 'bombs'],\n",
       " 'cobra': ['cobra'],\n",
       " 'conflictanddevelopment': ['conflict', 'and', 'development'],\n",
       " 'controversy': ['controversy'],\n",
       " 'criminaljustice': ['criminal', 'justice'],\n",
       " 'cybercrime': ['cybercrime'],\n",
       " 'cyberwar': ['cyberwar'],\n",
       " 'darknet': ['darknet'],\n",
       " 'dataprotection': ['data', 'protection'],\n",
       " 'debate': ['debate'],\n",
       " 'defence': ['defence'],\n",
       " 'deflation': ['deflation'],\n",
       " 'drones': ['drones'],\n",
       " 'drugs': ['drugs'],\n",
       " 'drugspolicy': ['drugs', 'policy'],\n",
       " 'drugstrade': ['drugs', 'trade'],\n",
       " 'earthquakes': ['earthquakes'],\n",
       " 'ebola': ['ebola'],\n",
       " 'economy': ['economy'],\n",
       " 'egypt': ['egypt'],\n",
       " 'encryption': ['encryption'],\n",
       " 'energy': ['energy'],\n",
       " 'espionage': ['espionage'],\n",
       " 'ethics': ['ethics'],\n",
       " 'europeanarrestwarrant': ['european', 'arrest', 'warrant'],\n",
       " 'europeancourtofhumanrights': ['european', 'court', 'of', 'human', 'rights'],\n",
       " 'events': ['events'],\n",
       " 'extradition': ['extradition'],\n",
       " 'famine': ['famine'],\n",
       " 'farright': ['far', 'right'],\n",
       " 'firefighters': ['firefighters'],\n",
       " 'forensicscience': ['forensic', 'science'],\n",
       " 'france': ['france'],\n",
       " 'francetrainattack': ['france', 'train', 'attack'],\n",
       " 'freedomofspeech': ['freedom', 'of', 'speech'],\n",
       " 'genevaconventions': ['geneva', 'conventions'],\n",
       " 'germany': ['germany'],\n",
       " 'guncrime': ['gun', 'crime'],\n",
       " 'hacking': ['hacking'],\n",
       " 'hashtags': ['hash', 'tags'],\n",
       " 'helicoptercrashes': ['helicopter', 'crashes'],\n",
       " 'humanitarianresponse': ['humanitarian', 'response'],\n",
       " 'humanrights': ['human', 'rights'],\n",
       " 'humanrightsact': ['human', 'rights', 'act'],\n",
       " 'humantrafficking': ['human', 'trafficking'],\n",
       " 'immigration': ['immigration'],\n",
       " 'india': ['india'],\n",
       " 'indonesia': ['indonesia'],\n",
       " 'internallydisplacedpeople': ['internally', 'displaced', 'people'],\n",
       " 'internationalcourtofjustice': ['international', 'court', 'of', 'justice'],\n",
       " 'internationalcriminaljustice': ['international', 'criminal', 'justice'],\n",
       " 'internetsafety': ['internet', 'safety'],\n",
       " 'iraq': ['iraq'],\n",
       " 'isis': ['isis'],\n",
       " 'israel': ['israel'],\n",
       " 'jordan': ['jordan'],\n",
       " 'jubilee': ['jubilee'],\n",
       " 'judiciary': ['judiciary'],\n",
       " 'july7': ['july', '7'],\n",
       " 'justiceandsecurity': ['justice', 'and', 'security'],\n",
       " 'kenya': ['kenya'],\n",
       " 'knifecrime': ['knife', 'crime'],\n",
       " 'lebanon': ['lebanon'],\n",
       " 'libya': ['libya'],\n",
       " 'localgovernment': ['local', 'government'],\n",
       " 'logistics': ['logistics'],\n",
       " 'london': ['london'],\n",
       " 'londonriots': ['london', 'riots'],\n",
       " 'malaysia': ['malaysia'],\n",
       " 'mali': ['mali'],\n",
       " 'malware': ['malware'],\n",
       " 'metropolitanpolice': ['metropolitan', 'police'],\n",
       " 'middleeastpeacetalks': ['middle', 'east', 'peace', 'talks'],\n",
       " 'migration': ['migration'],\n",
       " 'military': ['military'],\n",
       " 'ministryofdefence': ['ministry', 'of', 'defence'],\n",
       " 'morocco': ['morocco'],\n",
       " 'mrsa': ['mrsa'],\n",
       " 'mumbaiterrorattacks': ['mumbai', 'terror', 'attacks'],\n",
       " 'munichshooting': ['munich', 'shooting'],\n",
       " 'naturaldisasters': ['natural', 'disasters'],\n",
       " 'nigeria': ['nigeria'],\n",
       " 'nuclearweapons': ['nuclear', 'weapons'],\n",
       " 'occupy': ['occupy'],\n",
       " 'organisedcrime': ['organised', 'crime'],\n",
       " 'orlandoterrorattack': ['orlando', 'terror', 'attack'],\n",
       " 'osamabinladen': ['osama', 'bin', 'laden'],\n",
       " 'paris': ['paris'],\n",
       " 'parisattacks': ['paris', 'attacks'],\n",
       " 'peaceandreconciliation': ['peace', 'and', 'reconciliation'],\n",
       " 'philippines': ['philippines'],\n",
       " 'piracy': ['piracy'],\n",
       " 'planecrashes': ['plane', 'crashes'],\n",
       " 'police': ['police'],\n",
       " 'protest': ['protest'],\n",
       " 'refugees': ['refugees'],\n",
       " 'religion': ['religion'],\n",
       " 'retirementage': ['retirement', 'age'],\n",
       " 'rio20earthsummit': ['rio20', 'earth', 'summit'],\n",
       " 'royalairforce': ['royal', 'air', 'force'],\n",
       " 'royalnavy': ['royal', 'navy'],\n",
       " 'russia': ['russia'],\n",
       " 'sanbernardinoshooting': ['san', 'bernardino', 'shooting'],\n",
       " 'saudiarabia': ['saudi', 'arabia'],\n",
       " 'september11': ['september', '11'],\n",
       " 'slavery': ['slavery'],\n",
       " 'somalia': ['somalia'],\n",
       " 'southafrica': ['south', 'africa'],\n",
       " 'southchinasea': ['south', 'china', 'sea'],\n",
       " 'stopandsearch': ['stop', 'and', 'search'],\n",
       " 'surveillance': ['surveillance'],\n",
       " 'sydneysiege': ['sydney', 'siege'],\n",
       " 'syria': ['syria'],\n",
       " 'taliban': ['taliban'],\n",
       " 'terrorism': ['terrorism'],\n",
       " 'thailand': ['thailand'],\n",
       " 'torture': ['torture'],\n",
       " 'traincrashes': ['train', 'crashes'],\n",
       " 'transport': ['transport'],\n",
       " 'tunisiaattack2015': ['tunisia', 'attack', '2015'],\n",
       " 'turkey': ['turkey'],\n",
       " 'turkeycoupattempt': ['turkey', 'coup', 'attempt'],\n",
       " 'ukcrime': ['uk', 'crime'],\n",
       " 'uksecurity': ['uk', 'security'],\n",
       " 'uksupremecourt': ['uk', 'supreme', 'court'],\n",
       " 'undercoverpoliceandpolicing': ['undercover', 'police', 'and', 'policing'],\n",
       " 'unitednations': ['united', 'nations'],\n",
       " 'usguncontrol': ['us', 'gun', 'control'],\n",
       " 'values': ['values'],\n",
       " 'warcrimes': ['war', 'crimes'],\n",
       " 'warreporting': ['war', 'reporting'],\n",
       " 'weaponstechnology': ['weapons', 'technology'],\n",
       " 'womeninbusiness': ['women', 'in', 'business'],\n",
       " 'woolwichattack': ['woolwich', 'attack'],\n",
       " 'worldmigration': ['world', 'migration'],\n",
       " 'zikavirus': ['zika', 'virus']}"
      ]
     },
     "execution_count": 7,
     "metadata": {},
     "output_type": "execute_result"
    }
   ],
   "source": [
    "topic2actual"
   ]
  },
  {
   "cell_type": "code",
   "execution_count": 8,
   "metadata": {
    "collapsed": true
   },
   "outputs": [],
   "source": [
    "# manual_topics = {\n",
    "#     'alshabaab': ['al', 'shabaab'],\n",
    "# #     'earthquakes': ['earthquake'],\n",
    "# #     'firefighters': ['firefighter'],\n",
    "#     'rio20earthsummit': ['rio', '20', 'earth', 'summit'],\n",
    "#     'zikavirus': ['zika']\n",
    "# }\n",
    "\n",
    "# topic2actual.update(manual_topics)"
   ]
  },
  {
   "cell_type": "code",
   "execution_count": 9,
   "metadata": {},
   "outputs": [
    {
     "data": {
      "text/plain": [
       "[(u'qaida', 0.7521548271179199),\n",
       " (u'shabab', 0.750149667263031),\n",
       " (u'aqim', 0.7214016914367676),\n",
       " (u'islamist', 0.7179936170578003),\n",
       " (u'boko', 0.7109889388084412),\n",
       " (u'qaeda', 0.7079288363456726),\n",
       " (u'nusra', 0.6980888843536377),\n",
       " (u'taliban', 0.6857478022575378),\n",
       " (u'somalia', 0.6842936873435974),\n",
       " (u'militants', 0.6828135251998901)]"
      ]
     },
     "execution_count": 9,
     "metadata": {},
     "output_type": "execute_result"
    }
   ],
   "source": [
    "wvmodel.most_similar('shabaab')"
   ]
  },
  {
   "cell_type": "markdown",
   "metadata": {},
   "source": [
    "# Perform exploratory unsupervised discovery of unseen topics"
   ]
  },
  {
   "cell_type": "code",
   "execution_count": 10,
   "metadata": {},
   "outputs": [
    {
     "name": "stdout",
     "output_type": "stream",
     "text": [
      "CPU times: user 1.46 s, sys: 712 ms, total: 2.17 s\n",
      "Wall time: 2.6 s\n"
     ]
    }
   ],
   "source": [
    "%%time\n",
    "# wvec_trainingX = pd.read_hdf('training_data_wv_fs_lsi_no_stopwords.hdf', 'wvec_trainingX')\n",
    "# fvec_trainingX = pd.read_hdf('training_data_wv_fs_lsi_no_stopwords.hdf', 'fvec_trainingX')\n",
    "\n",
    "# tfidf_wvec_trainingX = pd.read_hdf('training_data_wv_fs_lsi_no_stopwords.hdf', 'tfidf_wvec_trainingX')\n",
    "# tfidf_fvec_trainingX = pd.read_hdf('training_data_wv_fs_lsi_no_stopwords.hdf', 'tfidf_fvec_trainingX')\n",
    "# tfidf_lsi_trainingX = pd.read_hdf('training_data_wv_fs_lsi_no_stopwords.hdf', 'tfidf_lsi_trainingX')\n",
    "\n",
    "# word2idx_trainingX = pd.read_hdf('training_data_wv_fs_lsi_no_stopwords.hdf', 'word2idx_trainingX')\n",
    "_word2idx = pd.read_hdf('training_data_wv_fs_lsi_no_stopwords.hdf', '_word2idx')\n",
    "trainingY = pd.read_hdf('training_data_wv_fs_lsi_no_stopwords.hdf', 'trainingY')"
   ]
  },
  {
   "cell_type": "code",
   "execution_count": 11,
   "metadata": {},
   "outputs": [
    {
     "data": {
      "text/plain": [
       "activism                     NaN\n",
       "afghanistan              10032.0\n",
       "aid                       1891.0\n",
       "algerianhostagecrisis       58.0\n",
       "alqaida                   3194.0\n",
       "dtype: float64"
      ]
     },
     "execution_count": 11,
     "metadata": {},
     "output_type": "execute_result"
    }
   ],
   "source": [
    "training_topics_freq = trainingY.sum()\n",
    "training_topics_freq.head()"
   ]
  },
  {
   "cell_type": "code",
   "execution_count": 12,
   "metadata": {
    "collapsed": true
   },
   "outputs": [],
   "source": [
    "unseen_topics = set(topics).intersection(training_topics_freq.ix[training_topics_freq.isnull()].index)"
   ]
  },
  {
   "cell_type": "code",
   "execution_count": 13,
   "metadata": {},
   "outputs": [
    {
     "data": {
      "text/plain": [
       "{'activism',\n",
       " 'bastilledaytruckattack',\n",
       " 'berlinchristmasmarketattack',\n",
       " 'brusselsattacks',\n",
       " 'charliehebdoattack',\n",
       " 'francetrainattack',\n",
       " 'munichshooting',\n",
       " 'orlandoterrorattack',\n",
       " 'parisattacks',\n",
       " 'peaceandreconciliation',\n",
       " 'sanbernardinoshooting',\n",
       " 'tunisiaattack2015',\n",
       " 'turkeycoupattempt',\n",
       " 'zikavirus'}"
      ]
     },
     "execution_count": 13,
     "metadata": {},
     "output_type": "execute_result"
    }
   ],
   "source": [
    "unseen_topics"
   ]
  },
  {
   "cell_type": "code",
   "execution_count": 14,
   "metadata": {
    "collapsed": true
   },
   "outputs": [],
   "source": [
    "ind2word = {j:i for i, j in _word2idx.iteritems()}\n",
    "ind2class = dict(enumerate(topics))\n",
    "class2ind = {j: i for i, j in ind2class.items()}"
   ]
  },
  {
   "cell_type": "markdown",
   "metadata": {},
   "source": [
    "## Use idf only in tfidf weighted vectors"
   ]
  },
  {
   "cell_type": "code",
   "execution_count": 17,
   "metadata": {
    "collapsed": true
   },
   "outputs": [],
   "source": [
    "_fsmodel_cache = {}\n",
    "def get_fsvec(word):\n",
    "    if word in _fsmodel_cache:\n",
    "        fv = _fsmodel_cache[word]\n",
    "    else:\n",
    "        fv = fsmodel[word]\n",
    "        _fsmodel_cache[word] = fv\n",
    "\n",
    "    return fv"
   ]
  },
  {
   "cell_type": "code",
   "execution_count": 18,
   "metadata": {
    "collapsed": true
   },
   "outputs": [],
   "source": [
    "def transform_tfidf_word2vec(tokens, stopwords=[], trim=True):\n",
    "#     global wvmodel\n",
    "#     global tfidf\n",
    "    # This requires wvmodel to be present in the namespace.\n",
    "    wv_feature_vec = tokens.map(\n",
    "        lambda x: [w for w in x.split() if (w not in stopwords and w in wvmodel.wv.vocab)]\n",
    "    )\n",
    "    \n",
    "    if trim:\n",
    "        wv_feature_vec = wv_feature_vec.map(\n",
    "        lambda x: filter(lambda s: s[1] > 0.1, sorted(tfidf[dictionary.doc2bow(x)], key=lambda y: y[1], reverse=True))\n",
    "        )\n",
    "    else:\n",
    "        wv_feature_vec = wv_feature_vec.map(\n",
    "        lambda x: tfidf[dictionary.doc2bow(x)]\n",
    "        )\n",
    "        \n",
    "    wv_feature_vec = wv_feature_vec.map(\n",
    "        lambda x: np.array([wvmodel[dictionary.id2token[id]] * w for id, w in x]).mean(axis=0) if len(x) > 0 else np.nan\n",
    "    )\n",
    "\n",
    "    return wv_feature_vec\n",
    "\n",
    "\n",
    "def transform_tfidf_fasttext(tokens, stopwords=[], trim=True):\n",
    "#     global fsmodel\n",
    "#     global tfidf\n",
    "    # This requires wvmodel to be present in the namespace.\n",
    "    fs_feature_vec = tokens.map(\n",
    "        lambda x: [w for w in x.split() if (w not in stopwords)]\n",
    "    )\n",
    "    \n",
    "    if trim:\n",
    "        fs_feature_vec = fs_feature_vec.map(\n",
    "        lambda x: filter(lambda s: s[1] > 0.1, sorted(tfidf[dictionary.doc2bow(x)], key=lambda y: y[1], reverse=True))\n",
    "        )\n",
    "    else:\n",
    "        fs_feature_vec = fs_feature_vec.map(\n",
    "        lambda x: tfidf[dictionary.doc2bow(x)]\n",
    "        )\n",
    "        \n",
    "    fs_feature_vec = fs_feature_vec.map(\n",
    "        lambda x: np.array([np.array(get_fsvec(dictionary.id2token[id])) * w for id, w in x]).mean(axis=0) if len(x) > 0 else np.nan\n",
    "    )\n",
    "\n",
    "    return fs_feature_vec\n",
    "\n",
    "\n",
    "def build_lsi_vector(x, trim=True):\n",
    "    v = np.zeros(lsi.num_topics)\n",
    "    if trim:\n",
    "        corpus = filter(lambda s: s[1] > 0.1, sorted(tfidf[dictionary.doc2bow(x)], key=lambda y: y[1], reverse=True))\n",
    "    else:\n",
    "        corpus = tfidf[dictionary.doc2bow(x)]\n",
    "\n",
    "    for ix, vv in lsi[corpus]:\n",
    "        v[ix] = vv\n",
    "\n",
    "    return v\n",
    "\n",
    "\n",
    "def transform_tfidf_lsi(tokens, stopwords=[], trim=True):\n",
    "#     global fsmodel\n",
    "#     global tfidf\n",
    "    # This requires wvmodel to be present in the namespace.\n",
    "    lsi_feature_vec = tokens.map(\n",
    "        lambda x: [w for w in x.split() if (w not in stopwords)]\n",
    "    ).map(\n",
    "        lambda x: build_lsi_vector(x, trim) if len(x) > 0 else np.nan\n",
    "    )\n",
    "\n",
    "    return lsi_feature_vec\n",
    "\n",
    "\n",
    "def transform_fasttext(tokens, stopwords=[]):\n",
    "    global fsmodel\n",
    "    # This requires fsmodel to be present in the namespace.\n",
    "    fs_feature_vec = tokens.map(\n",
    "        lambda x: [w for w in x.split() if (w not in stopwords)]\n",
    "    ).map(lambda x: np.array([get_fsvec(w) for w in x]).mean(axis=0) if len(x) > 0 else np.nan)\n",
    "\n",
    "    return fs_feature_vec\n",
    "\n",
    "\n",
    "def transform_word2vec(tokens, stopwords=[]):\n",
    "    global wvmodel\n",
    "    # This requires wvmodel to be present in the namespace.\n",
    "    wv_feature_vec = tokens.map(\n",
    "        lambda x: [w for w in x.split() if (w not in stopwords and w in wvmodel.wv.vocab)]\n",
    "    ).map(lambda x: np.array([wvmodel[w] for w in x]).mean(axis=0) if len(x) > 0 else np.nan)\n",
    "\n",
    "    return wv_feature_vec\n",
    "\n",
    "\n",
    "def parallel_generate_word_vectors(samp, transformer, stopwords, batch, num_proc):\n",
    "    with Parallel(n_jobs=num_proc) as parallel:\n",
    "        dataset = []\n",
    "        is_break = False\n",
    "        i = 0\n",
    "\n",
    "        while not is_break:\n",
    "            payload = []\n",
    "\n",
    "            for j in xrange(num_proc):\n",
    "                t_df = samp[(i + j) * batch: (i + 1 + j) * batch]\n",
    "\n",
    "                if t_df.empty:\n",
    "                    is_break = True\n",
    "                    continue\n",
    "\n",
    "                payload.append(\n",
    "                    delayed(transformer)(\n",
    "                        t_df, stopwords\n",
    "                    )\n",
    "                )\n",
    "\n",
    "            print('Current batch in main thread: {}'.format((i + j) * batch))\n",
    "\n",
    "            if payload:\n",
    "                results = parallel(payload)\n",
    "                dataset.extend(results)\n",
    "                i += num_proc\n",
    "\n",
    "    return pd.concat(dataset)"
   ]
  },
  {
   "cell_type": "code",
   "execution_count": null,
   "metadata": {
    "collapsed": true
   },
   "outputs": [],
   "source": []
  },
  {
   "cell_type": "code",
   "execution_count": 19,
   "metadata": {
    "collapsed": true
   },
   "outputs": [],
   "source": [
    "def word2idx_transform(word, _word2idx):\n",
    "    return _word2idx.get(word, 0)\n",
    "\n",
    "def extract_features_for(df, min_batch=2000, stopwords=[], num_proc=7):\n",
    "    df_tokens = transform_text(df)\n",
    "    \n",
    "    batch = min(df_tokens.shape[0] / num_proc, min_batch)\n",
    "\n",
    "    print('Computing fs features...')\n",
    "    fvec = parallel_generate_word_vectors(df_tokens, transform_fasttext, stopwords=stopwords, batch=batch, num_proc=num_proc)\n",
    "\n",
    "    print('Computing wv features...')\n",
    "    wvec = parallel_generate_word_vectors(df_tokens, transform_word2vec, stopwords=stopwords, batch=batch, num_proc=num_proc)\n",
    "\n",
    "    print('Mapping word indices...')\n",
    "#     word_indices = []\n",
    "    word_indices = df_tokens.map(lambda x: [word2idx_transform(i, _word2idx) for i in x.split()])\n",
    "\n",
    "    print('Computing tfidf fs features...')\n",
    "    tfidf_fvec = parallel_generate_word_vectors(df_tokens, transform_tfidf_fasttext, stopwords=stopwords, batch=batch, num_proc=num_proc)\n",
    "\n",
    "    print('Computing tfidf wv features...')\n",
    "    tfidf_wvec = parallel_generate_word_vectors(df_tokens, transform_tfidf_word2vec, stopwords=stopwords, batch=batch, num_proc=num_proc)\n",
    "\n",
    "    print('Computing tfidf lsi features...')\n",
    "    tfidf_lsi = parallel_generate_word_vectors(df_tokens, transform_tfidf_lsi, stopwords=stopwords, batch=batch, num_proc=num_proc)\n",
    "    \n",
    "    return word_indices, wvec, fvec, tfidf_wvec, tfidf_fvec, tfidf_lsi"
   ]
  },
  {
   "cell_type": "code",
   "execution_count": 20,
   "metadata": {
    "collapsed": true
   },
   "outputs": [],
   "source": [
    "with open('../data/TestData.json') as fl:\n",
    "    data = json.load(fl)\n",
    "    test_df = pd.DataFrame(data['TestData']).T\n",
    "    del(data)"
   ]
  },
  {
   "cell_type": "code",
   "execution_count": null,
   "metadata": {
    "collapsed": true
   },
   "outputs": [],
   "source": [
    "'munichshooting': [array([6268, 6254, 6231, 6267, 6232]),\n",
    "  array([4031, 6268, 6231, 2129, 6254]),\n",
    "  array([6239, 6254, 6249, 6231, 6253])],"
   ]
  },
  {
   "cell_type": "code",
   "execution_count": null,
   "metadata": {
    "collapsed": true
   },
   "outputs": [],
   "source": []
  },
  {
   "cell_type": "code",
   "execution_count": 21,
   "metadata": {
    "collapsed": true
   },
   "outputs": [],
   "source": [
    "test_transformed_text = transform_text(test_df)"
   ]
  },
  {
   "cell_type": "code",
   "execution_count": 22,
   "metadata": {
    "scrolled": true
   },
   "outputs": [
    {
     "name": "stdout",
     "output_type": "stream",
     "text": [
      "Computing fs features...\n",
      "Current batch in main thread: 6498\n",
      "Current batch in main thread: 14079\n",
      "Computing wv features...\n",
      "Current batch in main thread: 6498\n",
      "Current batch in main thread: 14079\n",
      "Mapping word indices...\n",
      "Computing tfidf fs features...\n",
      "Current batch in main thread: 6498\n",
      "Current batch in main thread: 14079\n",
      "Computing tfidf wv features...\n",
      "Current batch in main thread: 6498\n",
      "Current batch in main thread: 14079\n",
      "Computing tfidf lsi features...\n",
      "Current batch in main thread: 6498\n",
      "Current batch in main thread: 14079\n",
      "CPU times: user 40.9 s, sys: 3.24 s, total: 44.2 s\n",
      "Wall time: 1min 6s\n"
     ]
    }
   ],
   "source": [
    "%%time\n",
    "test_word_indices,test_wvec, test_fvec, test_tfidf_wvec, test_tfidf_fvec, test_tfidf_lsi = extract_features_for(\n",
    "    test_df\n",
    ")"
   ]
  },
  {
   "cell_type": "code",
   "execution_count": 23,
   "metadata": {
    "collapsed": true
   },
   "outputs": [],
   "source": [
    "def filter_stopwords(x, stopwords=['and', 'day', 'of', 'in']):\n",
    "    return [i for i in x if i not in stopwords]\n",
    "\n",
    "tpa = pd.DataFrame(topic2actual.items(), columns=['topics', 'actual'])\n",
    "\n",
    "tpa['wv'] = transform_word2vec(tpa.actual.map(lambda x: ' '.join(filter_stopwords(x))))\n",
    "tpa['fs'] = transform_fasttext(tpa.actual.map(lambda x: ' '.join(filter_stopwords(x))))\n",
    "\n",
    "tpa['tk'] = tpa.actual.map(lambda x: [word2idx_transform(i, _word2idx) for i in x])\n",
    "\n",
    "tpa['tfidf_wv'] = transform_tfidf_word2vec(tpa.actual.map(lambda x: ' '.join(filter_stopwords(x))), trim=False)\n",
    "tpa['tfidf_fs'] = transform_tfidf_fasttext(tpa.actual.map(lambda x: ' '.join(filter_stopwords(x))), trim=False)\n",
    "tpa['tfidf_lsi'] = transform_tfidf_lsi(tpa.actual.map(lambda x: ' '.join(filter_stopwords(x))), trim=False)\n",
    "\n",
    "unseen_topics2vec = tpa[tpa.topics.isin(unseen_topics)]\n",
    "unseen_topics2vec = unseen_topics2vec.set_index('topics')\n",
    "unseen_topics2vec = unseen_topics2vec.ix[sorted(unseen_topics)]\n",
    "\n",
    "all_topics2vec = tpa[tpa.topics.isin(topics)]\n",
    "all_topics2vec = all_topics2vec.set_index('topics')\n",
    "all_topics2vec = all_topics2vec.ix[sorted(topics)]"
   ]
  },
  {
   "cell_type": "code",
   "execution_count": 24,
   "metadata": {},
   "outputs": [
    {
     "name": "stdout",
     "output_type": "stream",
     "text": [
      "3\n",
      "3\n",
      "3\n",
      "3\n",
      "3\n"
     ]
    }
   ],
   "source": [
    "null_index = test_wvec[test_wvec.isnull()].index\n",
    "if any(null_index):\n",
    "    test_wvec.ix[null_index] = [[0] * wvmodel.vector_size] * 3\n",
    "print(len(null_index))\n",
    "    \n",
    "null_index = test_fvec[test_fvec.isnull()].index\n",
    "if any(null_index):\n",
    "    test_fvec.ix[null_index] = [[0] * fsmodel.dim] * 3\n",
    "print(len(null_index))\n",
    "\n",
    "null_index = test_tfidf_wvec[test_tfidf_wvec.isnull()].index\n",
    "if any(null_index):\n",
    "    test_tfidf_wvec.ix[null_index] = [[0] * wvmodel.vector_size] * 3\n",
    "print(len(null_index))\n",
    "    \n",
    "null_index = test_tfidf_fvec[test_tfidf_fvec.isnull()].index\n",
    "if any(null_index):\n",
    "    test_tfidf_fvec.ix[null_index] = [[0] * fsmodel.dim] * 3\n",
    "print(len(null_index))\n",
    "    \n",
    "null_index = test_tfidf_lsi[test_tfidf_lsi.isnull()].index\n",
    "if any(null_index):\n",
    "    test_tfidf_lsi.ix[null_index] = [[0] * lsi.num_topics] * 3\n",
    "print(len(null_index))\n"
   ]
  },
  {
   "cell_type": "code",
   "execution_count": 25,
   "metadata": {
    "collapsed": true
   },
   "outputs": [],
   "source": [
    "unsupervised_unseen_topic_detection = {\n",
    "    'tfidf_wvec': [test_tfidf_wvec, unseen_topics2vec.tfidf_wv],\n",
    "    'tfidf_fvec': [test_tfidf_fvec, unseen_topics2vec.tfidf_fs],\n",
    "    'tfidf_lsi': [test_tfidf_lsi, unseen_topics2vec.tfidf_lsi],\n",
    "#     'tk': \n",
    "}\n",
    "\n",
    "unsupervised_all_topic_detection = {\n",
    "    'tfidf_wvec': [test_tfidf_wvec, all_topics2vec.tfidf_wv],\n",
    "    'tfidf_fvec': [test_tfidf_fvec, all_topics2vec.tfidf_fs],\n",
    "    'tfidf_lsi': [test_tfidf_lsi, all_topics2vec.tfidf_lsi],\n",
    "#     'tk': \n",
    "}"
   ]
  },
  {
   "cell_type": "code",
   "execution_count": 26,
   "metadata": {
    "collapsed": true
   },
   "outputs": [],
   "source": [
    "# N = 10\n",
    "# unseen_topics_rank = {}\n",
    "\n",
    "# for key, (tstvec, tpvec) in unsupervised_unseen_topic_detection.items():\n",
    "#     sim = cosine_similarity(\n",
    "#         np.vstack(tstvec),\n",
    "#         np.vstack(tpvec),\n",
    "#     )\n",
    "\n",
    "#     for i, t in enumerate(unseen_topics2vec.index):\n",
    "#         idx = sim[:, i].argsort()[::-1][:N]\n",
    "#         v = sim[:, i][idx]\n",
    "\n",
    "#         unseen_topics_rank.setdefault(t, []).append(idx)"
   ]
  },
  {
   "cell_type": "code",
   "execution_count": 27,
   "metadata": {
    "collapsed": true
   },
   "outputs": [],
   "source": [
    "N = 10\n",
    "topics_rank = {}\n",
    "test_max_class_df = pd.DataFrame()\n",
    "test_max_score_df = pd.DataFrame()\n",
    "test_max_class_score_df = pd.DataFrame()\n",
    "\n",
    "for key, (tstvec, tpvec) in unsupervised_unseen_topic_detection.items():\n",
    "    sim = cosine_similarity(\n",
    "        np.vstack(tstvec),\n",
    "        np.vstack(tpvec),\n",
    "    )\n",
    "\n",
    "#     for i, t in enumerate(all_topics2vec.index):\n",
    "#         idx = sim[:, i].argsort()[::-1][:N]\n",
    "#         v = sim[:, i][idx]\n",
    "\n",
    "#         topics_rank.setdefault(t, []).append(idx)\n",
    "    test_max_class_score_df[key] = pd.Series(zip(tpvec.index[sim.argmax(axis=1)], sim.max(axis=1)), index=tstvec.index)\n",
    "    test_max_score_df[key] = pd.Series(sim.max(axis=1), index=tstvec.index)\n",
    "    test_max_class_df[key] = pd.Series(tpvec.index[sim.argmax(axis=1)], index=tstvec.index)\n"
   ]
  },
  {
   "cell_type": "code",
   "execution_count": 28,
   "metadata": {
    "collapsed": true,
    "scrolled": true
   },
   "outputs": [],
   "source": [
    "# cosine_similarity(test_tfidf_wvec.iloc[4489], np.vstack(all_topics2vec.tfidf_wv))"
   ]
  },
  {
   "cell_type": "code",
   "execution_count": 29,
   "metadata": {
    "collapsed": true
   },
   "outputs": [],
   "source": [
    "sc = StandardScaler()"
   ]
  },
  {
   "cell_type": "code",
   "execution_count": 30,
   "metadata": {
    "collapsed": true,
    "scrolled": true
   },
   "outputs": [],
   "source": [
    "# test_max_score_df_normed = pd.DataFrame(sc.fit_transform(test_max_score_df), columns=test_max_score_df.columns, index=test_max_score_df.index)\n",
    "test_max_score_df_normed = test_max_score_df"
   ]
  },
  {
   "cell_type": "code",
   "execution_count": 31,
   "metadata": {
    "collapsed": true
   },
   "outputs": [],
   "source": [
    "from collections import Counter"
   ]
  },
  {
   "cell_type": "code",
   "execution_count": 305,
   "metadata": {
    "collapsed": true,
    "scrolled": true
   },
   "outputs": [],
   "source": [
    "g = test_max_score_df_normed.max(axis=1)\n",
    "g = g[g > 0.65]\n",
    "w = test_max_class_df.ix[g.index]"
   ]
  },
  {
   "cell_type": "code",
   "execution_count": null,
   "metadata": {
    "collapsed": true
   },
   "outputs": [],
   "source": []
  },
  {
   "cell_type": "code",
   "execution_count": 306,
   "metadata": {
    "collapsed": true,
    "scrolled": true
   },
   "outputs": [],
   "source": [
    "sh = pd.DataFrame()\n",
    "q = w[w.apply(lambda x: min(x) == max(x), 1)]\n",
    "# q = w[w.apply(lambda x: len(set(x)) <= 2, 1)]\n",
    "sh['class'] = q.apply(max, 1)\n",
    "# sh['class'] = q.apply(lambda x: Counter(x).most_common()[0][0], 1)\n",
    "sh['scores'] = g"
   ]
  },
  {
   "cell_type": "code",
   "execution_count": 307,
   "metadata": {
    "collapsed": true,
    "scrolled": true
   },
   "outputs": [],
   "source": [
    "sh = sh.sort_values(['class', 'scores'])\n",
    "sh['order'] = sh.index.str.replace('TestData_', '').map(int)"
   ]
  },
  {
   "cell_type": "code",
   "execution_count": 308,
   "metadata": {
    "collapsed": true
   },
   "outputs": [],
   "source": [
    "# for topic, group in sh.groupby('class'):\n",
    "#     group = group.sort_values(['scores'], ascending=False)[:20]\n",
    "#     print topic, group['order'].median(), group['order'].quantile(0.25), group['order'].quantile(0.75), group.shape[0]"
   ]
  },
  {
   "cell_type": "code",
   "execution_count": 309,
   "metadata": {
    "collapsed": true
   },
   "outputs": [],
   "source": [
    "def keyword_match(group, topic, min_weight=4.85):\n",
    "    def get_top_token_count(x):\n",
    "        q = [\n",
    "            (tfidf.idfs[dictionary.token2id[i]], i) for i in set(\n",
    "                tpa[tpa.topics == topic].actual.values[0]\n",
    "            ) if tfidf.idfs[dictionary.token2id[i]] > min_weight\n",
    "        ]\n",
    "        \n",
    "        c = 0\n",
    "        if q:\n",
    "            c = x.count(sorted(q)[-1][1])\n",
    "        \n",
    "        return c\n",
    "    \n",
    "    return test_transformed_text.ix[group.index].str.split().map(\n",
    "#         lambda x: sum(\n",
    "#             [tfidf.idfs[dictionary.token2id[i]] for i in set(\n",
    "#                 tpa[tpa.topics == topic].actual.values[0]\n",
    "#             ).intersection(x)]\n",
    "#         )\n",
    "        get_top_token_count\n",
    "    )"
   ]
  },
  {
   "cell_type": "code",
   "execution_count": 310,
   "metadata": {},
   "outputs": [
    {
     "data": {
      "text/plain": [
       "0"
      ]
     },
     "execution_count": 310,
     "metadata": {},
     "output_type": "execute_result"
    }
   ],
   "source": [
    "l = [3, 2, 6, 4, 7, 3]\n",
    "l.count(0)"
   ]
  },
  {
   "cell_type": "code",
   "execution_count": 311,
   "metadata": {},
   "outputs": [
    {
     "name": "stdout",
     "output_type": "stream",
     "text": [
      "(4.835135466946886, 'train')\n",
      "(7.835391568174351, 'reconciliation')\n",
      "(6.900672593783962, 'munich')\n",
      "(11.662759885031802, 'hebdo')\n",
      "(6.1978518843233195, 'berlin')\n",
      "(12.589050198848792, 'bernardino')\n",
      "(8.329532383735154, 'activism')\n",
      "(6.742743260587802, 'coup')\n",
      "(10.63824573631232, 'bastille')\n",
      "(4.86092117192136, 'paris')\n",
      "(8.664578943450694, 'tunisia')\n",
      "(15.662759885031802, 'zika')\n",
      "(6.307693021487954, 'brussels')\n",
      "(8.809601273361073, 'orlando')\n"
     ]
    }
   ],
   "source": [
    "for t in unseen_topics:\n",
    "    print sorted([(tfidf.idfs[dictionary.token2id[i]], i) for i in set(tpa[tpa.topics == t].actual.values[0])])[-1]"
   ]
  },
  {
   "cell_type": "code",
   "execution_count": 312,
   "metadata": {},
   "outputs": [
    {
     "data": {
      "text/plain": [
       "TestData_04490    18\n",
       "TestData_07478     3\n",
       "TestData_04550     4\n",
       "TestData_06610     5\n",
       "TestData_07263     2\n",
       "Name: bodyText, dtype: int64"
      ]
     },
     "execution_count": 312,
     "metadata": {},
     "output_type": "execute_result"
    }
   ],
   "source": [
    "keyword_match(group, topic)"
   ]
  },
  {
   "cell_type": "code",
   "execution_count": 345,
   "metadata": {},
   "outputs": [
    {
     "name": "stdout",
     "output_type": "stream",
     "text": [
      "bastilledaytruckattack 6106.8 6619.0\n",
      "berlinchristmasmarketattack 5966.8 7531.2\n",
      "brusselsattacks 2207.6 5822.4\n",
      "charliehebdoattack 66.5 4203.4\n",
      "francetrainattack nan nan\n",
      "francetrainattack 0\n",
      "munichshooting 5614.9 6268.3\n",
      "orlandoterrorattack 5736.0 5871.2\n",
      "parisattacks 2449.0 6132.5\n",
      "peaceandreconciliation 4\n",
      "sanbernardinoshooting 3790.5 5079.0\n",
      "tunisiaattack2015 819.0 4821.0\n",
      "turkeycoupattempt 5442.0 7143.0\n",
      "zikavirus 4508.0 7217.6\n",
      "zikavirus 4\n"
     ]
    }
   ],
   "source": [
    "N = 100\n",
    "min_N = 5\n",
    "max_N = 15\n",
    "train_test_data = {}\n",
    "inferred_topic_indices = []\n",
    "for topic, group in sh.groupby('class'):\n",
    "    group = group.copy()\n",
    "    group = group.sort_values(['scores'], ascending=False)[:N]\n",
    "\n",
    "    if group.shape[0] < min_N:\n",
    "        # Very small sample won't have a bog effect anyway.\n",
    "        train_test_data[topic] = sorted(group.index)\n",
    "        print topic, group.shape[0]\n",
    "    else:\n",
    "\n",
    "        keyword_weight = keyword_match(group, topic)\n",
    "        group['kw'] = keyword_weight\n",
    "        group = group[group.kw > 0]        \n",
    "\n",
    "        minb = group['order'].quantile(0.1)\n",
    "        maxb = group['order'].quantile(0.9)\n",
    "\n",
    "        print topic, minb, maxb\n",
    "        if group.shape[0] < min_N:\n",
    "            train_test_data[topic] = sorted(group.index)\n",
    "            print topic, group.shape[0]\n",
    "        else:\n",
    "            group = group[group.order.between(minb, maxb)]\n",
    "            \n",
    "        #     train_test_data[topic] = sorted(group.index)\n",
    "            train_test_data[topic] = sorted(group.sort_values('kw', ascending=False)[:max_N].index)\n",
    "\n",
    "    inferred_topic_indices.extend(train_test_data[topic])\n",
    "\n",
    "train_test_df = test_df.ix[inferred_topic_indices].copy()\n"
   ]
  },
  {
   "cell_type": "code",
   "execution_count": 346,
   "metadata": {},
   "outputs": [
    {
     "data": {
      "text/html": [
       "<div>\n",
       "<table border=\"1\" class=\"dataframe\">\n",
       "  <thead>\n",
       "    <tr style=\"text-align: right;\">\n",
       "      <th></th>\n",
       "      <th>class</th>\n",
       "      <th>scores</th>\n",
       "      <th>order</th>\n",
       "      <th>kw</th>\n",
       "    </tr>\n",
       "  </thead>\n",
       "  <tbody>\n",
       "    <tr>\n",
       "      <th>TestData_04490</th>\n",
       "      <td>zikavirus</td>\n",
       "      <td>0.997918</td>\n",
       "      <td>4490</td>\n",
       "      <td>18</td>\n",
       "    </tr>\n",
       "    <tr>\n",
       "      <th>TestData_07478</th>\n",
       "      <td>zikavirus</td>\n",
       "      <td>0.900109</td>\n",
       "      <td>7478</td>\n",
       "      <td>3</td>\n",
       "    </tr>\n",
       "    <tr>\n",
       "      <th>TestData_04550</th>\n",
       "      <td>zikavirus</td>\n",
       "      <td>0.873176</td>\n",
       "      <td>4550</td>\n",
       "      <td>4</td>\n",
       "    </tr>\n",
       "    <tr>\n",
       "      <th>TestData_06610</th>\n",
       "      <td>zikavirus</td>\n",
       "      <td>0.681341</td>\n",
       "      <td>6610</td>\n",
       "      <td>5</td>\n",
       "    </tr>\n",
       "  </tbody>\n",
       "</table>\n",
       "</div>"
      ],
      "text/plain": [
       "                    class    scores  order  kw\n",
       "TestData_04490  zikavirus  0.997918   4490  18\n",
       "TestData_07478  zikavirus  0.900109   7478   3\n",
       "TestData_04550  zikavirus  0.873176   4550   4\n",
       "TestData_06610  zikavirus  0.681341   6610   5"
      ]
     },
     "execution_count": 346,
     "metadata": {},
     "output_type": "execute_result"
    }
   ],
   "source": [
    "group"
   ]
  },
  {
   "cell_type": "code",
   "execution_count": 347,
   "metadata": {
    "scrolled": true
   },
   "outputs": [
    {
     "data": {
      "text/html": [
       "<div>\n",
       "<table border=\"1\" class=\"dataframe\">\n",
       "  <thead>\n",
       "    <tr style=\"text-align: right;\">\n",
       "      <th></th>\n",
       "      <th>class</th>\n",
       "      <th>scores</th>\n",
       "      <th>order</th>\n",
       "    </tr>\n",
       "  </thead>\n",
       "  <tbody>\n",
       "    <tr>\n",
       "      <th>TestData_02767</th>\n",
       "      <td>turkeycoupattempt</td>\n",
       "      <td>0.651322</td>\n",
       "      <td>2767</td>\n",
       "    </tr>\n",
       "    <tr>\n",
       "      <th>TestData_04933</th>\n",
       "      <td>turkeycoupattempt</td>\n",
       "      <td>0.652083</td>\n",
       "      <td>4933</td>\n",
       "    </tr>\n",
       "    <tr>\n",
       "      <th>TestData_04648</th>\n",
       "      <td>turkeycoupattempt</td>\n",
       "      <td>0.654511</td>\n",
       "      <td>4648</td>\n",
       "    </tr>\n",
       "    <tr>\n",
       "      <th>TestData_04363</th>\n",
       "      <td>turkeycoupattempt</td>\n",
       "      <td>0.656561</td>\n",
       "      <td>4363</td>\n",
       "    </tr>\n",
       "    <tr>\n",
       "      <th>TestData_01986</th>\n",
       "      <td>turkeycoupattempt</td>\n",
       "      <td>0.661199</td>\n",
       "      <td>1986</td>\n",
       "    </tr>\n",
       "    <tr>\n",
       "      <th>TestData_01932</th>\n",
       "      <td>turkeycoupattempt</td>\n",
       "      <td>0.661573</td>\n",
       "      <td>1932</td>\n",
       "    </tr>\n",
       "    <tr>\n",
       "      <th>TestData_06149</th>\n",
       "      <td>turkeycoupattempt</td>\n",
       "      <td>0.661752</td>\n",
       "      <td>6149</td>\n",
       "    </tr>\n",
       "    <tr>\n",
       "      <th>TestData_05076</th>\n",
       "      <td>turkeycoupattempt</td>\n",
       "      <td>0.663739</td>\n",
       "      <td>5076</td>\n",
       "    </tr>\n",
       "    <tr>\n",
       "      <th>TestData_04448</th>\n",
       "      <td>turkeycoupattempt</td>\n",
       "      <td>0.663858</td>\n",
       "      <td>4448</td>\n",
       "    </tr>\n",
       "    <tr>\n",
       "      <th>TestData_02202</th>\n",
       "      <td>turkeycoupattempt</td>\n",
       "      <td>0.665919</td>\n",
       "      <td>2202</td>\n",
       "    </tr>\n",
       "    <tr>\n",
       "      <th>TestData_06537</th>\n",
       "      <td>turkeycoupattempt</td>\n",
       "      <td>0.666025</td>\n",
       "      <td>6537</td>\n",
       "    </tr>\n",
       "    <tr>\n",
       "      <th>TestData_00032</th>\n",
       "      <td>turkeycoupattempt</td>\n",
       "      <td>0.667570</td>\n",
       "      <td>32</td>\n",
       "    </tr>\n",
       "    <tr>\n",
       "      <th>TestData_02457</th>\n",
       "      <td>turkeycoupattempt</td>\n",
       "      <td>0.668084</td>\n",
       "      <td>2457</td>\n",
       "    </tr>\n",
       "    <tr>\n",
       "      <th>TestData_05247</th>\n",
       "      <td>turkeycoupattempt</td>\n",
       "      <td>0.668761</td>\n",
       "      <td>5247</td>\n",
       "    </tr>\n",
       "    <tr>\n",
       "      <th>TestData_01962</th>\n",
       "      <td>turkeycoupattempt</td>\n",
       "      <td>0.669906</td>\n",
       "      <td>1962</td>\n",
       "    </tr>\n",
       "    <tr>\n",
       "      <th>TestData_01973</th>\n",
       "      <td>turkeycoupattempt</td>\n",
       "      <td>0.670625</td>\n",
       "      <td>1973</td>\n",
       "    </tr>\n",
       "    <tr>\n",
       "      <th>TestData_07581</th>\n",
       "      <td>turkeycoupattempt</td>\n",
       "      <td>0.672271</td>\n",
       "      <td>7581</td>\n",
       "    </tr>\n",
       "    <tr>\n",
       "      <th>TestData_03571</th>\n",
       "      <td>turkeycoupattempt</td>\n",
       "      <td>0.672810</td>\n",
       "      <td>3571</td>\n",
       "    </tr>\n",
       "    <tr>\n",
       "      <th>TestData_02012</th>\n",
       "      <td>turkeycoupattempt</td>\n",
       "      <td>0.674430</td>\n",
       "      <td>2012</td>\n",
       "    </tr>\n",
       "    <tr>\n",
       "      <th>TestData_03031</th>\n",
       "      <td>turkeycoupattempt</td>\n",
       "      <td>0.675420</td>\n",
       "      <td>3031</td>\n",
       "    </tr>\n",
       "    <tr>\n",
       "      <th>TestData_05955</th>\n",
       "      <td>turkeycoupattempt</td>\n",
       "      <td>0.678859</td>\n",
       "      <td>5955</td>\n",
       "    </tr>\n",
       "    <tr>\n",
       "      <th>TestData_03594</th>\n",
       "      <td>turkeycoupattempt</td>\n",
       "      <td>0.679470</td>\n",
       "      <td>3594</td>\n",
       "    </tr>\n",
       "    <tr>\n",
       "      <th>TestData_03609</th>\n",
       "      <td>turkeycoupattempt</td>\n",
       "      <td>0.680880</td>\n",
       "      <td>3609</td>\n",
       "    </tr>\n",
       "    <tr>\n",
       "      <th>TestData_03192</th>\n",
       "      <td>turkeycoupattempt</td>\n",
       "      <td>0.681019</td>\n",
       "      <td>3192</td>\n",
       "    </tr>\n",
       "    <tr>\n",
       "      <th>TestData_02175</th>\n",
       "      <td>turkeycoupattempt</td>\n",
       "      <td>0.681309</td>\n",
       "      <td>2175</td>\n",
       "    </tr>\n",
       "    <tr>\n",
       "      <th>TestData_04697</th>\n",
       "      <td>turkeycoupattempt</td>\n",
       "      <td>0.685539</td>\n",
       "      <td>4697</td>\n",
       "    </tr>\n",
       "    <tr>\n",
       "      <th>TestData_04313</th>\n",
       "      <td>turkeycoupattempt</td>\n",
       "      <td>0.686753</td>\n",
       "      <td>4313</td>\n",
       "    </tr>\n",
       "    <tr>\n",
       "      <th>TestData_03572</th>\n",
       "      <td>turkeycoupattempt</td>\n",
       "      <td>0.687048</td>\n",
       "      <td>3572</td>\n",
       "    </tr>\n",
       "    <tr>\n",
       "      <th>TestData_02014</th>\n",
       "      <td>turkeycoupattempt</td>\n",
       "      <td>0.690355</td>\n",
       "      <td>2014</td>\n",
       "    </tr>\n",
       "    <tr>\n",
       "      <th>TestData_01983</th>\n",
       "      <td>turkeycoupattempt</td>\n",
       "      <td>0.690815</td>\n",
       "      <td>1983</td>\n",
       "    </tr>\n",
       "    <tr>\n",
       "      <th>...</th>\n",
       "      <td>...</td>\n",
       "      <td>...</td>\n",
       "      <td>...</td>\n",
       "    </tr>\n",
       "    <tr>\n",
       "      <th>TestData_02370</th>\n",
       "      <td>turkeycoupattempt</td>\n",
       "      <td>0.933104</td>\n",
       "      <td>2370</td>\n",
       "    </tr>\n",
       "    <tr>\n",
       "      <th>TestData_07457</th>\n",
       "      <td>turkeycoupattempt</td>\n",
       "      <td>0.933152</td>\n",
       "      <td>7457</td>\n",
       "    </tr>\n",
       "    <tr>\n",
       "      <th>TestData_04134</th>\n",
       "      <td>turkeycoupattempt</td>\n",
       "      <td>0.939808</td>\n",
       "      <td>4134</td>\n",
       "    </tr>\n",
       "    <tr>\n",
       "      <th>TestData_04811</th>\n",
       "      <td>turkeycoupattempt</td>\n",
       "      <td>0.944611</td>\n",
       "      <td>4811</td>\n",
       "    </tr>\n",
       "    <tr>\n",
       "      <th>TestData_06244</th>\n",
       "      <td>turkeycoupattempt</td>\n",
       "      <td>0.944996</td>\n",
       "      <td>6244</td>\n",
       "    </tr>\n",
       "    <tr>\n",
       "      <th>TestData_05165</th>\n",
       "      <td>turkeycoupattempt</td>\n",
       "      <td>0.947686</td>\n",
       "      <td>5165</td>\n",
       "    </tr>\n",
       "    <tr>\n",
       "      <th>TestData_04710</th>\n",
       "      <td>turkeycoupattempt</td>\n",
       "      <td>0.947850</td>\n",
       "      <td>4710</td>\n",
       "    </tr>\n",
       "    <tr>\n",
       "      <th>TestData_03017</th>\n",
       "      <td>turkeycoupattempt</td>\n",
       "      <td>0.950106</td>\n",
       "      <td>3017</td>\n",
       "    </tr>\n",
       "    <tr>\n",
       "      <th>TestData_04702</th>\n",
       "      <td>turkeycoupattempt</td>\n",
       "      <td>0.950117</td>\n",
       "      <td>4702</td>\n",
       "    </tr>\n",
       "    <tr>\n",
       "      <th>TestData_04909</th>\n",
       "      <td>turkeycoupattempt</td>\n",
       "      <td>0.950935</td>\n",
       "      <td>4909</td>\n",
       "    </tr>\n",
       "    <tr>\n",
       "      <th>TestData_01428</th>\n",
       "      <td>turkeycoupattempt</td>\n",
       "      <td>0.953551</td>\n",
       "      <td>1428</td>\n",
       "    </tr>\n",
       "    <tr>\n",
       "      <th>TestData_07429</th>\n",
       "      <td>turkeycoupattempt</td>\n",
       "      <td>0.953710</td>\n",
       "      <td>7429</td>\n",
       "    </tr>\n",
       "    <tr>\n",
       "      <th>TestData_06546</th>\n",
       "      <td>turkeycoupattempt</td>\n",
       "      <td>0.954964</td>\n",
       "      <td>6546</td>\n",
       "    </tr>\n",
       "    <tr>\n",
       "      <th>TestData_06128</th>\n",
       "      <td>turkeycoupattempt</td>\n",
       "      <td>0.957335</td>\n",
       "      <td>6128</td>\n",
       "    </tr>\n",
       "    <tr>\n",
       "      <th>TestData_02168</th>\n",
       "      <td>turkeycoupattempt</td>\n",
       "      <td>0.962532</td>\n",
       "      <td>2168</td>\n",
       "    </tr>\n",
       "    <tr>\n",
       "      <th>TestData_04913</th>\n",
       "      <td>turkeycoupattempt</td>\n",
       "      <td>0.965028</td>\n",
       "      <td>4913</td>\n",
       "    </tr>\n",
       "    <tr>\n",
       "      <th>TestData_03016</th>\n",
       "      <td>turkeycoupattempt</td>\n",
       "      <td>0.966509</td>\n",
       "      <td>3016</td>\n",
       "    </tr>\n",
       "    <tr>\n",
       "      <th>TestData_06145</th>\n",
       "      <td>turkeycoupattempt</td>\n",
       "      <td>0.972406</td>\n",
       "      <td>6145</td>\n",
       "    </tr>\n",
       "    <tr>\n",
       "      <th>TestData_02010</th>\n",
       "      <td>turkeycoupattempt</td>\n",
       "      <td>0.976206</td>\n",
       "      <td>2010</td>\n",
       "    </tr>\n",
       "    <tr>\n",
       "      <th>TestData_07169</th>\n",
       "      <td>turkeycoupattempt</td>\n",
       "      <td>0.979999</td>\n",
       "      <td>7169</td>\n",
       "    </tr>\n",
       "    <tr>\n",
       "      <th>TestData_04911</th>\n",
       "      <td>turkeycoupattempt</td>\n",
       "      <td>0.982437</td>\n",
       "      <td>4911</td>\n",
       "    </tr>\n",
       "    <tr>\n",
       "      <th>TestData_04842</th>\n",
       "      <td>turkeycoupattempt</td>\n",
       "      <td>0.982884</td>\n",
       "      <td>4842</td>\n",
       "    </tr>\n",
       "    <tr>\n",
       "      <th>TestData_04333</th>\n",
       "      <td>turkeycoupattempt</td>\n",
       "      <td>0.985674</td>\n",
       "      <td>4333</td>\n",
       "    </tr>\n",
       "    <tr>\n",
       "      <th>TestData_02791</th>\n",
       "      <td>turkeycoupattempt</td>\n",
       "      <td>0.985775</td>\n",
       "      <td>2791</td>\n",
       "    </tr>\n",
       "    <tr>\n",
       "      <th>TestData_06199</th>\n",
       "      <td>turkeycoupattempt</td>\n",
       "      <td>0.987259</td>\n",
       "      <td>6199</td>\n",
       "    </tr>\n",
       "    <tr>\n",
       "      <th>TestData_06164</th>\n",
       "      <td>turkeycoupattempt</td>\n",
       "      <td>0.991575</td>\n",
       "      <td>6164</td>\n",
       "    </tr>\n",
       "    <tr>\n",
       "      <th>TestData_06213</th>\n",
       "      <td>turkeycoupattempt</td>\n",
       "      <td>0.991663</td>\n",
       "      <td>6213</td>\n",
       "    </tr>\n",
       "    <tr>\n",
       "      <th>TestData_06178</th>\n",
       "      <td>turkeycoupattempt</td>\n",
       "      <td>0.992676</td>\n",
       "      <td>6178</td>\n",
       "    </tr>\n",
       "    <tr>\n",
       "      <th>TestData_06245</th>\n",
       "      <td>turkeycoupattempt</td>\n",
       "      <td>0.992728</td>\n",
       "      <td>6245</td>\n",
       "    </tr>\n",
       "    <tr>\n",
       "      <th>TestData_06348</th>\n",
       "      <td>turkeycoupattempt</td>\n",
       "      <td>0.995602</td>\n",
       "      <td>6348</td>\n",
       "    </tr>\n",
       "  </tbody>\n",
       "</table>\n",
       "<p>154 rows × 3 columns</p>\n",
       "</div>"
      ],
      "text/plain": [
       "                            class    scores  order\n",
       "TestData_02767  turkeycoupattempt  0.651322   2767\n",
       "TestData_04933  turkeycoupattempt  0.652083   4933\n",
       "TestData_04648  turkeycoupattempt  0.654511   4648\n",
       "TestData_04363  turkeycoupattempt  0.656561   4363\n",
       "TestData_01986  turkeycoupattempt  0.661199   1986\n",
       "TestData_01932  turkeycoupattempt  0.661573   1932\n",
       "TestData_06149  turkeycoupattempt  0.661752   6149\n",
       "TestData_05076  turkeycoupattempt  0.663739   5076\n",
       "TestData_04448  turkeycoupattempt  0.663858   4448\n",
       "TestData_02202  turkeycoupattempt  0.665919   2202\n",
       "TestData_06537  turkeycoupattempt  0.666025   6537\n",
       "TestData_00032  turkeycoupattempt  0.667570     32\n",
       "TestData_02457  turkeycoupattempt  0.668084   2457\n",
       "TestData_05247  turkeycoupattempt  0.668761   5247\n",
       "TestData_01962  turkeycoupattempt  0.669906   1962\n",
       "TestData_01973  turkeycoupattempt  0.670625   1973\n",
       "TestData_07581  turkeycoupattempt  0.672271   7581\n",
       "TestData_03571  turkeycoupattempt  0.672810   3571\n",
       "TestData_02012  turkeycoupattempt  0.674430   2012\n",
       "TestData_03031  turkeycoupattempt  0.675420   3031\n",
       "TestData_05955  turkeycoupattempt  0.678859   5955\n",
       "TestData_03594  turkeycoupattempt  0.679470   3594\n",
       "TestData_03609  turkeycoupattempt  0.680880   3609\n",
       "TestData_03192  turkeycoupattempt  0.681019   3192\n",
       "TestData_02175  turkeycoupattempt  0.681309   2175\n",
       "TestData_04697  turkeycoupattempt  0.685539   4697\n",
       "TestData_04313  turkeycoupattempt  0.686753   4313\n",
       "TestData_03572  turkeycoupattempt  0.687048   3572\n",
       "TestData_02014  turkeycoupattempt  0.690355   2014\n",
       "TestData_01983  turkeycoupattempt  0.690815   1983\n",
       "...                           ...       ...    ...\n",
       "TestData_02370  turkeycoupattempt  0.933104   2370\n",
       "TestData_07457  turkeycoupattempt  0.933152   7457\n",
       "TestData_04134  turkeycoupattempt  0.939808   4134\n",
       "TestData_04811  turkeycoupattempt  0.944611   4811\n",
       "TestData_06244  turkeycoupattempt  0.944996   6244\n",
       "TestData_05165  turkeycoupattempt  0.947686   5165\n",
       "TestData_04710  turkeycoupattempt  0.947850   4710\n",
       "TestData_03017  turkeycoupattempt  0.950106   3017\n",
       "TestData_04702  turkeycoupattempt  0.950117   4702\n",
       "TestData_04909  turkeycoupattempt  0.950935   4909\n",
       "TestData_01428  turkeycoupattempt  0.953551   1428\n",
       "TestData_07429  turkeycoupattempt  0.953710   7429\n",
       "TestData_06546  turkeycoupattempt  0.954964   6546\n",
       "TestData_06128  turkeycoupattempt  0.957335   6128\n",
       "TestData_02168  turkeycoupattempt  0.962532   2168\n",
       "TestData_04913  turkeycoupattempt  0.965028   4913\n",
       "TestData_03016  turkeycoupattempt  0.966509   3016\n",
       "TestData_06145  turkeycoupattempt  0.972406   6145\n",
       "TestData_02010  turkeycoupattempt  0.976206   2010\n",
       "TestData_07169  turkeycoupattempt  0.979999   7169\n",
       "TestData_04911  turkeycoupattempt  0.982437   4911\n",
       "TestData_04842  turkeycoupattempt  0.982884   4842\n",
       "TestData_04333  turkeycoupattempt  0.985674   4333\n",
       "TestData_02791  turkeycoupattempt  0.985775   2791\n",
       "TestData_06199  turkeycoupattempt  0.987259   6199\n",
       "TestData_06164  turkeycoupattempt  0.991575   6164\n",
       "TestData_06213  turkeycoupattempt  0.991663   6213\n",
       "TestData_06178  turkeycoupattempt  0.992676   6178\n",
       "TestData_06245  turkeycoupattempt  0.992728   6245\n",
       "TestData_06348  turkeycoupattempt  0.995602   6348\n",
       "\n",
       "[154 rows x 3 columns]"
      ]
     },
     "execution_count": 347,
     "metadata": {},
     "output_type": "execute_result"
    }
   ],
   "source": [
    "sh[sh['class'] == 'turkeycoupattempt']"
   ]
  },
  {
   "cell_type": "code",
   "execution_count": 348,
   "metadata": {
    "scrolled": true
   },
   "outputs": [
    {
     "data": {
      "text/plain": [
       "{'bastilledaytruckattack': [u'TestData_06107',\n",
       "  u'TestData_06122',\n",
       "  u'TestData_06126',\n",
       "  u'TestData_06155',\n",
       "  u'TestData_06158',\n",
       "  u'TestData_06171',\n",
       "  u'TestData_06397'],\n",
       " 'berlinchristmasmarketattack': [u'TestData_07490',\n",
       "  u'TestData_07504',\n",
       "  u'TestData_07514',\n",
       "  u'TestData_07515',\n",
       "  u'TestData_07522'],\n",
       " 'brusselsattacks': [u'TestData_03280',\n",
       "  u'TestData_03349',\n",
       "  u'TestData_03498',\n",
       "  u'TestData_03514',\n",
       "  u'TestData_03555',\n",
       "  u'TestData_03564',\n",
       "  u'TestData_04285',\n",
       "  u'TestData_05025',\n",
       "  u'TestData_05027',\n",
       "  u'TestData_05029',\n",
       "  u'TestData_05041',\n",
       "  u'TestData_05103',\n",
       "  u'TestData_05126',\n",
       "  u'TestData_05324',\n",
       "  u'TestData_05717'],\n",
       " 'charliehebdoattack': [u'TestData_00072',\n",
       "  u'TestData_00077',\n",
       "  u'TestData_00121',\n",
       "  u'TestData_00156',\n",
       "  u'TestData_00172',\n",
       "  u'TestData_00185',\n",
       "  u'TestData_00193',\n",
       "  u'TestData_00249',\n",
       "  u'TestData_00480',\n",
       "  u'TestData_01147',\n",
       "  u'TestData_01162',\n",
       "  u'TestData_01329',\n",
       "  u'TestData_02540',\n",
       "  u'TestData_03260',\n",
       "  u'TestData_04189'],\n",
       " 'francetrainattack': [],\n",
       " 'munichshooting': [u'TestData_06232',\n",
       "  u'TestData_06233',\n",
       "  u'TestData_06237',\n",
       "  u'TestData_06240',\n",
       "  u'TestData_06255',\n",
       "  u'TestData_06268'],\n",
       " 'orlandoterrorattack': [u'TestData_05740',\n",
       "  u'TestData_05744',\n",
       "  u'TestData_05764',\n",
       "  u'TestData_05774',\n",
       "  u'TestData_05777',\n",
       "  u'TestData_05794',\n",
       "  u'TestData_05800',\n",
       "  u'TestData_05813',\n",
       "  u'TestData_05844'],\n",
       " 'parisattacks': [u'TestData_03268',\n",
       "  u'TestData_03286',\n",
       "  u'TestData_03303',\n",
       "  u'TestData_03310',\n",
       "  u'TestData_03320',\n",
       "  u'TestData_03361',\n",
       "  u'TestData_03438',\n",
       "  u'TestData_03484',\n",
       "  u'TestData_03523',\n",
       "  u'TestData_03524',\n",
       "  u'TestData_03844',\n",
       "  u'TestData_04160',\n",
       "  u'TestData_04959',\n",
       "  u'TestData_05053',\n",
       "  u'TestData_05079'],\n",
       " 'peaceandreconciliation': [u'TestData_01140',\n",
       "  u'TestData_05706',\n",
       "  u'TestData_06230',\n",
       "  u'TestData_06912'],\n",
       " 'sanbernardinoshooting': [u'TestData_03811',\n",
       "  u'TestData_03812',\n",
       "  u'TestData_03820',\n",
       "  u'TestData_03821',\n",
       "  u'TestData_03847',\n",
       "  u'TestData_03856',\n",
       "  u'TestData_03868',\n",
       "  u'TestData_03869',\n",
       "  u'TestData_03885',\n",
       "  u'TestData_03945',\n",
       "  u'TestData_04198',\n",
       "  u'TestData_04751'],\n",
       " 'tunisiaattack2015': [u'TestData_00835',\n",
       "  u'TestData_00837',\n",
       "  u'TestData_01641',\n",
       "  u'TestData_01644',\n",
       "  u'TestData_01663',\n",
       "  u'TestData_01676',\n",
       "  u'TestData_01677',\n",
       "  u'TestData_01682',\n",
       "  u'TestData_01693',\n",
       "  u'TestData_01701',\n",
       "  u'TestData_01771',\n",
       "  u'TestData_01835',\n",
       "  u'TestData_01836',\n",
       "  u'TestData_02037',\n",
       "  u'TestData_02180'],\n",
       " 'turkeycoupattempt': [u'TestData_06103',\n",
       "  u'TestData_06145',\n",
       "  u'TestData_06163',\n",
       "  u'TestData_06164',\n",
       "  u'TestData_06178',\n",
       "  u'TestData_06211',\n",
       "  u'TestData_06212',\n",
       "  u'TestData_06213',\n",
       "  u'TestData_06244',\n",
       "  u'TestData_06245',\n",
       "  u'TestData_06280',\n",
       "  u'TestData_06348',\n",
       "  u'TestData_06392',\n",
       "  u'TestData_06546',\n",
       "  u'TestData_07143'],\n",
       " 'zikavirus': [u'TestData_04490',\n",
       "  u'TestData_04550',\n",
       "  u'TestData_06610',\n",
       "  u'TestData_07478']}"
      ]
     },
     "execution_count": 348,
     "metadata": {},
     "output_type": "execute_result"
    }
   ],
   "source": [
    "train_test_data"
   ]
  },
  {
   "cell_type": "code",
   "execution_count": 333,
   "metadata": {},
   "outputs": [],
   "source": [
    "# train_test_df.ix['TestData_06110']['topics'] = []"
   ]
  },
  {
   "cell_type": "code",
   "execution_count": 350,
   "metadata": {},
   "outputs": [
    {
     "data": {
      "text/plain": [
       "(122, 3)"
      ]
     },
     "execution_count": 350,
     "metadata": {},
     "output_type": "execute_result"
    }
   ],
   "source": [
    "train_test_df.shape"
   ]
  },
  {
   "cell_type": "code",
   "execution_count": 351,
   "metadata": {
    "collapsed": true,
    "scrolled": true
   },
   "outputs": [],
   "source": [
    "for topic, idxs in train_test_data.items():\n",
    "    for idx in idxs:\n",
    "        train_test_df.ix[idx]['topics'] = [topic]"
   ]
  },
  {
   "cell_type": "code",
   "execution_count": 352,
   "metadata": {
    "collapsed": true
   },
   "outputs": [],
   "source": [
    "train_test_df.to_hdf('train_test_df_3.hdf', 'train_test_df')"
   ]
  },
  {
   "cell_type": "code",
   "execution_count": 246,
   "metadata": {
    "scrolled": true
   },
   "outputs": [
    {
     "data": {
      "text/html": [
       "<div>\n",
       "<table border=\"1\" class=\"dataframe\">\n",
       "  <thead>\n",
       "    <tr style=\"text-align: right;\">\n",
       "      <th></th>\n",
       "      <th>bodyText</th>\n",
       "      <th>topics</th>\n",
       "      <th>webPublicationDate</th>\n",
       "    </tr>\n",
       "  </thead>\n",
       "  <tbody>\n",
       "    <tr>\n",
       "      <th>TestData_06126</th>\n",
       "      <td>Details have emerged of a motorcyclist who cha...</td>\n",
       "      <td>[bastilledaytruckattack]</td>\n",
       "      <td>15-07-2016</td>\n",
       "    </tr>\n",
       "    <tr>\n",
       "      <th>TestData_06155</th>\n",
       "      <td>Eighty-five people are still in hospital follo...</td>\n",
       "      <td>[bastilledaytruckattack]</td>\n",
       "      <td>17-07-2016</td>\n",
       "    </tr>\n",
       "    <tr>\n",
       "      <th>TestData_06158</th>\n",
       "      <td>The Tunisian delivery driver who killed 84 peo...</td>\n",
       "      <td>[bastilledaytruckattack]</td>\n",
       "      <td>17-07-2016</td>\n",
       "    </tr>\n",
       "    <tr>\n",
       "      <th>TestData_07514</th>\n",
       "      <td>Police forces across Britain are reviewing the...</td>\n",
       "      <td>[berlinchristmasmarketattack]</td>\n",
       "      <td>21-12-2016</td>\n",
       "    </tr>\n",
       "    <tr>\n",
       "      <th>TestData_07522</th>\n",
       "      <td>A hunt is under way in Germany for an armed at...</td>\n",
       "      <td>[berlinchristmasmarketattack]</td>\n",
       "      <td>21-12-2016</td>\n",
       "    </tr>\n",
       "    <tr>\n",
       "      <th>TestData_05027</th>\n",
       "      <td>British people are advised not to travel to Br...</td>\n",
       "      <td>[brusselsattacks]</td>\n",
       "      <td>22-03-2016</td>\n",
       "    </tr>\n",
       "    <tr>\n",
       "      <th>TestData_05028</th>\n",
       "      <td>Ukip has been criticised by David Cameron and ...</td>\n",
       "      <td>[brusselsattacks]</td>\n",
       "      <td>22-03-2016</td>\n",
       "    </tr>\n",
       "    <tr>\n",
       "      <th>TestData_05029</th>\n",
       "      <td>Islamic State has claimed responsibility for t...</td>\n",
       "      <td>[brusselsattacks]</td>\n",
       "      <td>22-03-2016</td>\n",
       "    </tr>\n",
       "    <tr>\n",
       "      <th>TestData_05041</th>\n",
       "      <td>A massive manhunt is under way in Belgium as p...</td>\n",
       "      <td>[brusselsattacks]</td>\n",
       "      <td>23-03-2016</td>\n",
       "    </tr>\n",
       "    <tr>\n",
       "      <th>TestData_05051</th>\n",
       "      <td>The aftermath of the horrific terrorist attack...</td>\n",
       "      <td>[brusselsattacks]</td>\n",
       "      <td>23-03-2016</td>\n",
       "    </tr>\n",
       "    <tr>\n",
       "      <th>TestData_05078</th>\n",
       "      <td>How would Brexit affect the threat to the UK f...</td>\n",
       "      <td>[brusselsattacks]</td>\n",
       "      <td>24-03-2016</td>\n",
       "    </tr>\n",
       "    <tr>\n",
       "      <th>TestData_05081</th>\n",
       "      <td>European justice and home affairs ministers wi...</td>\n",
       "      <td>[brusselsattacks]</td>\n",
       "      <td>24-03-2016</td>\n",
       "    </tr>\n",
       "    <tr>\n",
       "      <th>TestData_05103</th>\n",
       "      <td>The bodies were still lying amid the rubble: s...</td>\n",
       "      <td>[brusselsattacks]</td>\n",
       "      <td>25-03-2016</td>\n",
       "    </tr>\n",
       "    <tr>\n",
       "      <th>TestData_05126</th>\n",
       "      <td>The coverage has been extensive, of course. On...</td>\n",
       "      <td>[brusselsattacks]</td>\n",
       "      <td>26-03-2016</td>\n",
       "    </tr>\n",
       "    <tr>\n",
       "      <th>TestData_00156</th>\n",
       "      <td>Myriam Francois-Cerrah: The magazine drifts in...</td>\n",
       "      <td>[charliehebdoattack]</td>\n",
       "      <td>13-01-2015</td>\n",
       "    </tr>\n",
       "    <tr>\n",
       "      <th>TestData_00172</th>\n",
       "      <td>Western governments have played the major role...</td>\n",
       "      <td>[charliehebdoattack]</td>\n",
       "      <td>14-01-2015</td>\n",
       "    </tr>\n",
       "    <tr>\n",
       "      <th>TestData_00185</th>\n",
       "      <td>Charlie is everywhere in Paris right now. Spra...</td>\n",
       "      <td>[charliehebdoattack]</td>\n",
       "      <td>14-01-2015</td>\n",
       "    </tr>\n",
       "    <tr>\n",
       "      <th>TestData_00189</th>\n",
       "      <td>A Charlie Hebdo poster was burned in the Phili...</td>\n",
       "      <td>[charliehebdoattack]</td>\n",
       "      <td>14-01-2015</td>\n",
       "    </tr>\n",
       "    <tr>\n",
       "      <th>TestData_00193</th>\n",
       "      <td>The National Union of Journalists has done muc...</td>\n",
       "      <td>[charliehebdoattack]</td>\n",
       "      <td>15-01-2015</td>\n",
       "    </tr>\n",
       "    <tr>\n",
       "      <th>TestData_00249</th>\n",
       "      <td>Two decisions were key to the Guardian’s cover...</td>\n",
       "      <td>[charliehebdoattack]</td>\n",
       "      <td>19-01-2015</td>\n",
       "    </tr>\n",
       "    <tr>\n",
       "      <th>TestData_00480</th>\n",
       "      <td>The gunman shot dead by police after a double ...</td>\n",
       "      <td>[charliehebdoattack]</td>\n",
       "      <td>15-02-2015</td>\n",
       "    </tr>\n",
       "    <tr>\n",
       "      <th>TestData_01147</th>\n",
       "      <td>If you thought that the debate following the C...</td>\n",
       "      <td>[charliehebdoattack]</td>\n",
       "      <td>29-04-2015</td>\n",
       "    </tr>\n",
       "    <tr>\n",
       "      <th>TestData_01162</th>\n",
       "      <td>The issues raised by guarantees of free speech...</td>\n",
       "      <td>[charliehebdoattack]</td>\n",
       "      <td>30-04-2015</td>\n",
       "    </tr>\n",
       "    <tr>\n",
       "      <th>TestData_01329</th>\n",
       "      <td>Through a chink in the wall of heavily armed, ...</td>\n",
       "      <td>[charliehebdoattack]</td>\n",
       "      <td>24-05-2015</td>\n",
       "    </tr>\n",
       "    <tr>\n",
       "      <th>TestData_02264</th>\n",
       "      <td>The gunman who was overpowered by three US cit...</td>\n",
       "      <td>[francetrainattack]</td>\n",
       "      <td>22-08-2015</td>\n",
       "    </tr>\n",
       "    <tr>\n",
       "      <th>TestData_02282</th>\n",
       "      <td>Three young American tourists and a Briton who...</td>\n",
       "      <td>[francetrainattack]</td>\n",
       "      <td>24-08-2015</td>\n",
       "    </tr>\n",
       "    <tr>\n",
       "      <th>TestData_06237</th>\n",
       "      <td>A teenager with German-Iranian citizenship has...</td>\n",
       "      <td>[munichshooting]</td>\n",
       "      <td>23-07-2016</td>\n",
       "    </tr>\n",
       "    <tr>\n",
       "      <th>TestData_06255</th>\n",
       "      <td>German police have arrested a 16-year-old Afgh...</td>\n",
       "      <td>[munichshooting]</td>\n",
       "      <td>24-07-2016</td>\n",
       "    </tr>\n",
       "    <tr>\n",
       "      <th>TestData_05734</th>\n",
       "      <td>What happened A gunman killed 50 people and le...</td>\n",
       "      <td>[orlandoterrorattack]</td>\n",
       "      <td>12-06-2016</td>\n",
       "    </tr>\n",
       "    <tr>\n",
       "      <th>TestData_05735</th>\n",
       "      <td>Barack Obama on Sunday condemned an “act of te...</td>\n",
       "      <td>[orlandoterrorattack]</td>\n",
       "      <td>12-06-2016</td>\n",
       "    </tr>\n",
       "    <tr>\n",
       "      <th>...</th>\n",
       "      <td>...</td>\n",
       "      <td>...</td>\n",
       "      <td>...</td>\n",
       "    </tr>\n",
       "    <tr>\n",
       "      <th>TestData_05053</th>\n",
       "      <td>Two of the suicide bombers who blew themselves...</td>\n",
       "      <td>[parisattacks]</td>\n",
       "      <td>23-03-2016</td>\n",
       "    </tr>\n",
       "    <tr>\n",
       "      <th>TestData_05054</th>\n",
       "      <td>All three suspected suicide bombers in the Bru...</td>\n",
       "      <td>[parisattacks]</td>\n",
       "      <td>23-03-2016</td>\n",
       "    </tr>\n",
       "    <tr>\n",
       "      <th>TestData_03811</th>\n",
       "      <td>A couple have been killed in a police gun batt...</td>\n",
       "      <td>[sanbernardinoshooting]</td>\n",
       "      <td>03-12-2015</td>\n",
       "    </tr>\n",
       "    <tr>\n",
       "      <th>TestData_03812</th>\n",
       "      <td>Mass shooting events in America happen at an a...</td>\n",
       "      <td>[sanbernardinoshooting]</td>\n",
       "      <td>03-12-2015</td>\n",
       "    </tr>\n",
       "    <tr>\n",
       "      <th>TestData_03820</th>\n",
       "      <td>There is a certain pattern to mass shootings i...</td>\n",
       "      <td>[sanbernardinoshooting]</td>\n",
       "      <td>03-12-2015</td>\n",
       "    </tr>\n",
       "    <tr>\n",
       "      <th>TestData_03821</th>\n",
       "      <td>Barack Obama urged states to play their part i...</td>\n",
       "      <td>[sanbernardinoshooting]</td>\n",
       "      <td>03-12-2015</td>\n",
       "    </tr>\n",
       "    <tr>\n",
       "      <th>TestData_03847</th>\n",
       "      <td>The first police officer to arrive at the scen...</td>\n",
       "      <td>[sanbernardinoshooting]</td>\n",
       "      <td>04-12-2015</td>\n",
       "    </tr>\n",
       "    <tr>\n",
       "      <th>TestData_03856</th>\n",
       "      <td>Tributes to some of the 14 people killed in We...</td>\n",
       "      <td>[sanbernardinoshooting]</td>\n",
       "      <td>04-12-2015</td>\n",
       "    </tr>\n",
       "    <tr>\n",
       "      <th>TestData_03868</th>\n",
       "      <td>The New York Times has used its first front-pa...</td>\n",
       "      <td>[sanbernardinoshooting]</td>\n",
       "      <td>05-12-2015</td>\n",
       "    </tr>\n",
       "    <tr>\n",
       "      <th>TestData_03945</th>\n",
       "      <td>Julianne Moore and Amy Schumer joined activist...</td>\n",
       "      <td>[sanbernardinoshooting]</td>\n",
       "      <td>09-12-2015</td>\n",
       "    </tr>\n",
       "    <tr>\n",
       "      <th>TestData_04198</th>\n",
       "      <td>The Inland Regional Center in San Bernardino h...</td>\n",
       "      <td>[sanbernardinoshooting]</td>\n",
       "      <td>04-01-2016</td>\n",
       "    </tr>\n",
       "    <tr>\n",
       "      <th>TestData_01675</th>\n",
       "      <td>The blood and tears spilled on the beach at So...</td>\n",
       "      <td>[tunisiaattack2015]</td>\n",
       "      <td>28-06-2015</td>\n",
       "    </tr>\n",
       "    <tr>\n",
       "      <th>TestData_01677</th>\n",
       "      <td>Tunisian security officials will brief Europea...</td>\n",
       "      <td>[tunisiaattack2015]</td>\n",
       "      <td>28-06-2015</td>\n",
       "    </tr>\n",
       "    <tr>\n",
       "      <th>TestData_01678</th>\n",
       "      <td>Small clusters of European tourists watched fr...</td>\n",
       "      <td>[tunisiaattack2015]</td>\n",
       "      <td>28-06-2015</td>\n",
       "    </tr>\n",
       "    <tr>\n",
       "      <th>TestData_01682</th>\n",
       "      <td>Paragliders sail overhead, children frolic in ...</td>\n",
       "      <td>[tunisiaattack2015]</td>\n",
       "      <td>28-06-2015</td>\n",
       "    </tr>\n",
       "    <tr>\n",
       "      <th>TestData_01692</th>\n",
       "      <td>David Cameron said he could only imagine the “...</td>\n",
       "      <td>[tunisiaattack2015]</td>\n",
       "      <td>29-06-2015</td>\n",
       "    </tr>\n",
       "    <tr>\n",
       "      <th>TestData_01693</th>\n",
       "      <td>Four Britons seriously injured in Friday’s ter...</td>\n",
       "      <td>[tunisiaattack2015]</td>\n",
       "      <td>29-06-2015</td>\n",
       "    </tr>\n",
       "    <tr>\n",
       "      <th>TestData_01701</th>\n",
       "      <td>Thousands of tourists who were on holiday in T...</td>\n",
       "      <td>[tunisiaattack2015]</td>\n",
       "      <td>29-06-2015</td>\n",
       "    </tr>\n",
       "    <tr>\n",
       "      <th>TestData_01708</th>\n",
       "      <td>When we use the dismissive term “cheap PR stun...</td>\n",
       "      <td>[tunisiaattack2015]</td>\n",
       "      <td>29-06-2015</td>\n",
       "    </tr>\n",
       "    <tr>\n",
       "      <th>TestData_01725</th>\n",
       "      <td>The spread of Islamic State into the “ungovern...</td>\n",
       "      <td>[tunisiaattack2015]</td>\n",
       "      <td>30-06-2015</td>\n",
       "    </tr>\n",
       "    <tr>\n",
       "      <th>TestData_01771</th>\n",
       "      <td>Tunisia’s president, Beji Caid Essebsi, has de...</td>\n",
       "      <td>[tunisiaattack2015]</td>\n",
       "      <td>04-07-2015</td>\n",
       "    </tr>\n",
       "    <tr>\n",
       "      <th>TestData_05442</th>\n",
       "      <td>Can Dündar appears in good spirits for a man f...</td>\n",
       "      <td>[turkeycoupattempt]</td>\n",
       "      <td>02-05-2016</td>\n",
       "    </tr>\n",
       "    <tr>\n",
       "      <th>TestData_05477</th>\n",
       "      <td>A visa-free travel deal between the EU and Tur...</td>\n",
       "      <td>[turkeycoupattempt]</td>\n",
       "      <td>06-05-2016</td>\n",
       "    </tr>\n",
       "    <tr>\n",
       "      <th>TestData_05712</th>\n",
       "      <td>Any chance Turkey could join the EU by 2020, a...</td>\n",
       "      <td>[turkeycoupattempt]</td>\n",
       "      <td>08-06-2016</td>\n",
       "    </tr>\n",
       "    <tr>\n",
       "      <th>TestData_05945</th>\n",
       "      <td>Even tough guys have to say sorry sometimes, a...</td>\n",
       "      <td>[turkeycoupattempt]</td>\n",
       "      <td>28-06-2016</td>\n",
       "    </tr>\n",
       "    <tr>\n",
       "      <th>TestData_06103</th>\n",
       "      <td>The attempted coup in Turkey threatens to dang...</td>\n",
       "      <td>[turkeycoupattempt]</td>\n",
       "      <td>15-07-2016</td>\n",
       "    </tr>\n",
       "    <tr>\n",
       "      <th>TestData_06128</th>\n",
       "      <td>News of an attempted military coup in Turkey, ...</td>\n",
       "      <td>[turkeycoupattempt]</td>\n",
       "      <td>15-07-2016</td>\n",
       "    </tr>\n",
       "    <tr>\n",
       "      <th>TestData_06145</th>\n",
       "      <td>Recep Tayyip Erdoğan is a man of choleric disp...</td>\n",
       "      <td>[turkeycoupattempt]</td>\n",
       "      <td>16-07-2016</td>\n",
       "    </tr>\n",
       "    <tr>\n",
       "      <th>TestData_04490</th>\n",
       "      <td>The World Health Organisation has convened an ...</td>\n",
       "      <td>[zikavirus]</td>\n",
       "      <td>28-01-2016</td>\n",
       "    </tr>\n",
       "    <tr>\n",
       "      <th>TestData_04550</th>\n",
       "      <td>Spraying pesticides will fail to deal with the...</td>\n",
       "      <td>[zikavirus]</td>\n",
       "      <td>02-02-2016</td>\n",
       "    </tr>\n",
       "  </tbody>\n",
       "</table>\n",
       "<p>69 rows × 3 columns</p>\n",
       "</div>"
      ],
      "text/plain": [
       "                                                         bodyText  \\\n",
       "TestData_06126  Details have emerged of a motorcyclist who cha...   \n",
       "TestData_06155  Eighty-five people are still in hospital follo...   \n",
       "TestData_06158  The Tunisian delivery driver who killed 84 peo...   \n",
       "TestData_07514  Police forces across Britain are reviewing the...   \n",
       "TestData_07522  A hunt is under way in Germany for an armed at...   \n",
       "TestData_05027  British people are advised not to travel to Br...   \n",
       "TestData_05028  Ukip has been criticised by David Cameron and ...   \n",
       "TestData_05029  Islamic State has claimed responsibility for t...   \n",
       "TestData_05041  A massive manhunt is under way in Belgium as p...   \n",
       "TestData_05051  The aftermath of the horrific terrorist attack...   \n",
       "TestData_05078  How would Brexit affect the threat to the UK f...   \n",
       "TestData_05081  European justice and home affairs ministers wi...   \n",
       "TestData_05103  The bodies were still lying amid the rubble: s...   \n",
       "TestData_05126  The coverage has been extensive, of course. On...   \n",
       "TestData_00156  Myriam Francois-Cerrah: The magazine drifts in...   \n",
       "TestData_00172  Western governments have played the major role...   \n",
       "TestData_00185  Charlie is everywhere in Paris right now. Spra...   \n",
       "TestData_00189  A Charlie Hebdo poster was burned in the Phili...   \n",
       "TestData_00193  The National Union of Journalists has done muc...   \n",
       "TestData_00249  Two decisions were key to the Guardian’s cover...   \n",
       "TestData_00480  The gunman shot dead by police after a double ...   \n",
       "TestData_01147  If you thought that the debate following the C...   \n",
       "TestData_01162  The issues raised by guarantees of free speech...   \n",
       "TestData_01329  Through a chink in the wall of heavily armed, ...   \n",
       "TestData_02264  The gunman who was overpowered by three US cit...   \n",
       "TestData_02282  Three young American tourists and a Briton who...   \n",
       "TestData_06237  A teenager with German-Iranian citizenship has...   \n",
       "TestData_06255  German police have arrested a 16-year-old Afgh...   \n",
       "TestData_05734  What happened A gunman killed 50 people and le...   \n",
       "TestData_05735  Barack Obama on Sunday condemned an “act of te...   \n",
       "...                                                           ...   \n",
       "TestData_05053  Two of the suicide bombers who blew themselves...   \n",
       "TestData_05054  All three suspected suicide bombers in the Bru...   \n",
       "TestData_03811  A couple have been killed in a police gun batt...   \n",
       "TestData_03812  Mass shooting events in America happen at an a...   \n",
       "TestData_03820  There is a certain pattern to mass shootings i...   \n",
       "TestData_03821  Barack Obama urged states to play their part i...   \n",
       "TestData_03847  The first police officer to arrive at the scen...   \n",
       "TestData_03856  Tributes to some of the 14 people killed in We...   \n",
       "TestData_03868  The New York Times has used its first front-pa...   \n",
       "TestData_03945  Julianne Moore and Amy Schumer joined activist...   \n",
       "TestData_04198  The Inland Regional Center in San Bernardino h...   \n",
       "TestData_01675  The blood and tears spilled on the beach at So...   \n",
       "TestData_01677  Tunisian security officials will brief Europea...   \n",
       "TestData_01678  Small clusters of European tourists watched fr...   \n",
       "TestData_01682  Paragliders sail overhead, children frolic in ...   \n",
       "TestData_01692  David Cameron said he could only imagine the “...   \n",
       "TestData_01693  Four Britons seriously injured in Friday’s ter...   \n",
       "TestData_01701  Thousands of tourists who were on holiday in T...   \n",
       "TestData_01708  When we use the dismissive term “cheap PR stun...   \n",
       "TestData_01725  The spread of Islamic State into the “ungovern...   \n",
       "TestData_01771  Tunisia’s president, Beji Caid Essebsi, has de...   \n",
       "TestData_05442  Can Dündar appears in good spirits for a man f...   \n",
       "TestData_05477  A visa-free travel deal between the EU and Tur...   \n",
       "TestData_05712  Any chance Turkey could join the EU by 2020, a...   \n",
       "TestData_05945  Even tough guys have to say sorry sometimes, a...   \n",
       "TestData_06103  The attempted coup in Turkey threatens to dang...   \n",
       "TestData_06128  News of an attempted military coup in Turkey, ...   \n",
       "TestData_06145  Recep Tayyip Erdoğan is a man of choleric disp...   \n",
       "TestData_04490  The World Health Organisation has convened an ...   \n",
       "TestData_04550  Spraying pesticides will fail to deal with the...   \n",
       "\n",
       "                                       topics webPublicationDate  \n",
       "TestData_06126       [bastilledaytruckattack]         15-07-2016  \n",
       "TestData_06155       [bastilledaytruckattack]         17-07-2016  \n",
       "TestData_06158       [bastilledaytruckattack]         17-07-2016  \n",
       "TestData_07514  [berlinchristmasmarketattack]         21-12-2016  \n",
       "TestData_07522  [berlinchristmasmarketattack]         21-12-2016  \n",
       "TestData_05027              [brusselsattacks]         22-03-2016  \n",
       "TestData_05028              [brusselsattacks]         22-03-2016  \n",
       "TestData_05029              [brusselsattacks]         22-03-2016  \n",
       "TestData_05041              [brusselsattacks]         23-03-2016  \n",
       "TestData_05051              [brusselsattacks]         23-03-2016  \n",
       "TestData_05078              [brusselsattacks]         24-03-2016  \n",
       "TestData_05081              [brusselsattacks]         24-03-2016  \n",
       "TestData_05103              [brusselsattacks]         25-03-2016  \n",
       "TestData_05126              [brusselsattacks]         26-03-2016  \n",
       "TestData_00156           [charliehebdoattack]         13-01-2015  \n",
       "TestData_00172           [charliehebdoattack]         14-01-2015  \n",
       "TestData_00185           [charliehebdoattack]         14-01-2015  \n",
       "TestData_00189           [charliehebdoattack]         14-01-2015  \n",
       "TestData_00193           [charliehebdoattack]         15-01-2015  \n",
       "TestData_00249           [charliehebdoattack]         19-01-2015  \n",
       "TestData_00480           [charliehebdoattack]         15-02-2015  \n",
       "TestData_01147           [charliehebdoattack]         29-04-2015  \n",
       "TestData_01162           [charliehebdoattack]         30-04-2015  \n",
       "TestData_01329           [charliehebdoattack]         24-05-2015  \n",
       "TestData_02264            [francetrainattack]         22-08-2015  \n",
       "TestData_02282            [francetrainattack]         24-08-2015  \n",
       "TestData_06237               [munichshooting]         23-07-2016  \n",
       "TestData_06255               [munichshooting]         24-07-2016  \n",
       "TestData_05734          [orlandoterrorattack]         12-06-2016  \n",
       "TestData_05735          [orlandoterrorattack]         12-06-2016  \n",
       "...                                       ...                ...  \n",
       "TestData_05053                 [parisattacks]         23-03-2016  \n",
       "TestData_05054                 [parisattacks]         23-03-2016  \n",
       "TestData_03811        [sanbernardinoshooting]         03-12-2015  \n",
       "TestData_03812        [sanbernardinoshooting]         03-12-2015  \n",
       "TestData_03820        [sanbernardinoshooting]         03-12-2015  \n",
       "TestData_03821        [sanbernardinoshooting]         03-12-2015  \n",
       "TestData_03847        [sanbernardinoshooting]         04-12-2015  \n",
       "TestData_03856        [sanbernardinoshooting]         04-12-2015  \n",
       "TestData_03868        [sanbernardinoshooting]         05-12-2015  \n",
       "TestData_03945        [sanbernardinoshooting]         09-12-2015  \n",
       "TestData_04198        [sanbernardinoshooting]         04-01-2016  \n",
       "TestData_01675            [tunisiaattack2015]         28-06-2015  \n",
       "TestData_01677            [tunisiaattack2015]         28-06-2015  \n",
       "TestData_01678            [tunisiaattack2015]         28-06-2015  \n",
       "TestData_01682            [tunisiaattack2015]         28-06-2015  \n",
       "TestData_01692            [tunisiaattack2015]         29-06-2015  \n",
       "TestData_01693            [tunisiaattack2015]         29-06-2015  \n",
       "TestData_01701            [tunisiaattack2015]         29-06-2015  \n",
       "TestData_01708            [tunisiaattack2015]         29-06-2015  \n",
       "TestData_01725            [tunisiaattack2015]         30-06-2015  \n",
       "TestData_01771            [tunisiaattack2015]         04-07-2015  \n",
       "TestData_05442            [turkeycoupattempt]         02-05-2016  \n",
       "TestData_05477            [turkeycoupattempt]         06-05-2016  \n",
       "TestData_05712            [turkeycoupattempt]         08-06-2016  \n",
       "TestData_05945            [turkeycoupattempt]         28-06-2016  \n",
       "TestData_06103            [turkeycoupattempt]         15-07-2016  \n",
       "TestData_06128            [turkeycoupattempt]         15-07-2016  \n",
       "TestData_06145            [turkeycoupattempt]         16-07-2016  \n",
       "TestData_04490                    [zikavirus]         28-01-2016  \n",
       "TestData_04550                    [zikavirus]         02-02-2016  \n",
       "\n",
       "[69 rows x 3 columns]"
      ]
     },
     "execution_count": 246,
     "metadata": {},
     "output_type": "execute_result"
    }
   ],
   "source": [
    "train_test_df"
   ]
  },
  {
   "cell_type": "markdown",
   "metadata": {},
   "source": [
    "## Use 7512 for Berlin Christmas market attack / Germany / Paris attacks / Brussels attacks / France / analysis"
   ]
  },
  {
   "cell_type": "code",
   "execution_count": 343,
   "metadata": {
    "scrolled": false
   },
   "outputs": [
    {
     "data": {
      "text/plain": [
       "u'Tunisia is a small country relative to its north African neighbours but the significance of last week\\u2019s dreadful terrorist attack on the Bardo museum in central Tunis, which killed 23 people, including one Briton, is huge. This atrocious act reflected all the varied strains and tensions fuelling one of the most momentous struggles of the modern era \\u2013 the battle for the heart of Islam. As is frequently noted, Tunisia is the birthplace and home of the Arab Spring, that great, spontaneous uprising against dictatorship and repression that began in late 2010 and spread across the Arab world. In Egypt, Libya, Syria, Yemen and Bahrain, the rule of unelected, abusive regimes was challenged as never before, but only in Tunisia did democracy take lasting root. Elections held after the ignominious collapse of the Ben Ali presidency in 2011 have seen power shared and swapped in exemplary fashion between secular-minded parties and the moderate Islamist movement, Ennahda. That favourite canard of hardline Salafists, that western-style democracy is incompatible with Islamic values, is given the lie by Tunisia\\u2019s experience. Sadly, this made it a target. Despite shortcomings, Tunisia has broadly maintained its post-revolution adherence to street politics and social and religious tolerance. The gathering of thousands of angry citizens outside the museum immediately after the attack to demonstrate their revulsion was an eloquent and heartening statement of the Muslim majority view. The fact that Islamic State (Isis) quickly claimed responsibility, without providing evidence, is further proof of its significance in a furious, region-wide propaganda battle. Hailing the two gunmen as \\u201cknights of the caliphate\\u201d, Isis celebrated \\u201ca blessed invasion of one of the dens of infidels and vice in Muslim Tunisia\\u201d. Few Tunisians, Muslim or otherwise, would recognise this absurd description of a world-famous museum. Nor is it certain that the killers came from Isis or belonged to the like-minded, home-grown extremist network known as Ansar al-Sharia. Both were local men from a working-class Tunis neighbourhood. Although nine alleged accomplices have been arrested, it is possible this was a \\u201clone wolf\\u201d operation similar to the recent attacks in Paris and Copenhagen. Such unanswered questions raise the issue of the radicalisation of young Muslims. It is estimated that 5,000 Tunisians have joined the fight against the Assad regime in Syria since 2011. While many have been killed, 500 of these battle-hardened jihadis have brought their radical ideas back home. Some may have been previously recruited by Isis in Syria and Iraq with the aim of spreading the Isis brand across north Africa. Further complicating this phenomenon is the pernicious impact on Tunisia\\u2019s security and stability of the collapse of governance in neighbouring Libya, following Muammar Gaddafi\\u2019s fall. As with other Arab countries, notably Egypt, the fallout from Libya\\u2019s multi-factional civil war, both in terms of ideology and the cross-border penetration of men and arms, is increasingly troubling for Tunisia. Yet Egypt, its elected Muslim Brotherhood government illegally overthrown, is again ruled by a barely disguised military dictatorship that does not hesitate to meet brutality with unfettered brutality. Tunisia is still trying to uphold democratic values. One fear is that hard-won freedoms may be sacrificed in the name of security. It would be a tragedy if, thanks to extremists, the country were to return to the 1990s when tens of thousands of Ennahda supporters were persecuted by the regime. Like other western leaders, David Cameron condemned the attack. \\u201cWe will not let terrorists undermine democracy,\\u201d he tweeted. But his swift pledge to step up intelligence, policing and security collaboration has been heard before. Britain\\u2019s slipshod record of cooperation with Turkey over itinerant, would-be British jihadis does not inspire confidence. Downing Street sound-bites do not cut it. It would be good to see concrete measures to help Tunisia, including its vital tourist industry, led perhaps by the EU, which should in any case be doing much more to address security, economic, and mass migration issues on Europe\\u2019s southern flank. Tunisia\\u2019s jasmine revolution is rightly viewed as a success story. That success is now imperilled. Tunisia is an echo chamber for a wider struggle that could shape our world for generations to come.'"
      ]
     },
     "execution_count": 343,
     "metadata": {},
     "output_type": "execute_result"
    }
   ],
   "source": [
    "test_df.iloc[834].bodyText # 19"
   ]
  },
  {
   "cell_type": "code",
   "execution_count": 284,
   "metadata": {},
   "outputs": [
    {
     "name": "stdout",
     "output_type": "stream",
     "text": [
      "activism [(2265, 0.5), (4471, 0.5), (152, 0.5), (5445, 0.5), (6796, 0.5)]\n",
      "bastilledaytruckattack [(6128, 0.80000000000000004), (6098, 0.69999999999999996), (6121, 0.69999999999999996), (6105, 0.69999999999999996), (6126, 0.69999999999999996)]\n",
      "berlinchristmasmarketattack [(3681, 0.80000000000000004), (7491, 0.80000000000000004), (7521, 0.69999999999999996), (7503, 0.69999999999999996), (7489, 0.69999999999999996)]\n",
      "brusselsattacks [(5125, 0.80000000000000004), (5019, 0.80000000000000004), (5046, 0.80000000000000004), (3515, 0.80000000000000004), (5102, 0.69999999999999996)]\n",
      "charliehebdoattack [(71, 0.90000000000000002), (4276, 0.90000000000000002), (60, 0.90000000000000002), (4188, 0.90000000000000002), (120, 0.90000000000000002)]\n",
      "francetrainattack [(3514, 0.69999999999999996), (1246, 0.69999999999999996), (3198, 0.69999999999999996), (2263, 0.69999999999999996), (6256, 0.69999999999999996)]\n",
      "munichshooting [(6267, 0.80000000000000004), (6231, 0.80000000000000004), (6236, 0.69999999999999996), (6318, 0.69999999999999996), (4178, 0.69999999999999996)]\n",
      "orlandoterrorattack [(5758, 0.80000000000000004), (5734, 0.69999999999999996), (5885, 0.69999999999999996), (5861, 0.69999999999999996), (5759, 0.69999999999999996)]\n",
      "parisattacks [(6118, 0.80000000000000004), (3514, 0.80000000000000004), (3458, 0.80000000000000004), (3232, 0.80000000000000004), (3186, 0.69999999999999996)]\n",
      "peaceandreconciliation [(1139, 0.59999999999999998), (5705, 0.59999999999999998), (6229, 0.59999999999999998), (6799, 0.59999999999999998), (6853, 0.59999999999999998)]\n",
      "sanbernardinoshooting [(3820, 0.80000000000000004), (3846, 0.80000000000000004), (3811, 0.69999999999999996), (3855, 0.69999999999999996), (7, 0.69999999999999996)]\n",
      "tunisiaattack2015 [(834, 0.80000000000000004), (1700, 0.80000000000000004), (5950, 0.69999999999999996), (1834, 0.69999999999999996), (4161, 0.69999999999999996)]\n",
      "turkeycoupattempt [(6212, 0.80000000000000004), (6102, 0.80000000000000004), (6162, 0.80000000000000004), (6177, 0.80000000000000004), (6347, 0.80000000000000004)]\n",
      "zikavirus [(4489, 0.90000000000000002), (4549, 0.59999999999999998), (6609, 0.59999999999999998), (5682, 0.59999999999999998), (7262, 0.5)]\n"
     ]
    }
   ],
   "source": [
    "# 'tfidf_wvec': [test_tfidf_wvec, unseen_topics2vec.tfidf_wv],\n",
    "# 'tfidf_fvec': [test_tfidf_fvec, unseen_topics2vec.tfidf_fs],\n",
    "# 'tfidf_lsi': [test_tfidf_lsi, unseen_topics2vec.tfidf_lsi],\n",
    "\n",
    "sim = cosine_similarity(\n",
    "    np.vstack(test_tfidf_wvec),\n",
    "    np.vstack(unseen_topics2vec.tfidf_wv),\n",
    ")\n",
    "N = 5\n",
    "for i, t in enumerate(unseen_topics2vec.index):\n",
    "    idx = sim[:, i].argsort()[::-1][:N]\n",
    "    v = sim[:, i][idx]\n",
    "    print unseen_topics2vec.index[i], zip(idx[:N], np.round(v[:N], 1))\n"
   ]
  },
  {
   "cell_type": "code",
   "execution_count": 272,
   "metadata": {},
   "outputs": [
    {
     "data": {
      "text/plain": [
       "array([ 0.85859394,  0.57481531,  0.56485035,  0.55066684,  0.5251468 ,\n",
       "        0.45473479,  0.44471953,  0.44246537,  0.42221175,  0.42088665,\n",
       "        0.4148486 ,  0.41344707,  0.4058871 ,  0.40490635,  0.39717574,\n",
       "        0.39518468,  0.39454976,  0.3910347 ,  0.38950969,  0.38351464])"
      ]
     },
     "execution_count": 272,
     "metadata": {},
     "output_type": "execute_result"
    }
   ],
   "source": [
    "v"
   ]
  },
  {
   "cell_type": "code",
   "execution_count": 125,
   "metadata": {
    "scrolled": true
   },
   "outputs": [
    {
     "data": {
      "text/plain": [
       "tfidf_fvec    zikavirus\n",
       "tfidf_wvec    zikavirus\n",
       "tfidf_lsi         ebola\n",
       "Name: TestData_04490, dtype: object"
      ]
     },
     "execution_count": 125,
     "metadata": {},
     "output_type": "execute_result"
    }
   ],
   "source": [
    "test_max_class_df.ix['TestData_04490']"
   ]
  },
  {
   "cell_type": "code",
   "execution_count": 262,
   "metadata": {},
   "outputs": [
    {
     "data": {
      "text/plain": [
       "'ebola'"
      ]
     },
     "execution_count": 262,
     "metadata": {},
     "output_type": "execute_result"
    }
   ],
   "source": [
    "tpvec.index[41]"
   ]
  },
  {
   "cell_type": "code",
   "execution_count": 126,
   "metadata": {
    "scrolled": true
   },
   "outputs": [
    {
     "data": {
      "text/plain": [
       "tfidf_fvec    zikavirus\n",
       "tfidf_wvec    zikavirus\n",
       "tfidf_lsi         ebola\n",
       "Name: TestData_04490, dtype: object"
      ]
     },
     "execution_count": 126,
     "metadata": {},
     "output_type": "execute_result"
    }
   ],
   "source": [
    "test_max_class_df.iloc[4489]"
   ]
  },
  {
   "cell_type": "code",
   "execution_count": 78,
   "metadata": {
    "scrolled": true
   },
   "outputs": [
    {
     "data": {
      "text/plain": [
       "tfidf_fvec    zikavirus\n",
       "tfidf_wvec    zikavirus\n",
       "tfidf_lsi         ebola\n",
       "Name: TestData_04490, dtype: object"
      ]
     },
     "execution_count": 78,
     "metadata": {},
     "output_type": "execute_result"
    }
   ],
   "source": [
    "test_max_class_df.iloc[4489]"
   ]
  },
  {
   "cell_type": "code",
   "execution_count": 222,
   "metadata": {},
   "outputs": [
    {
     "data": {
      "text/plain": [
       "array([151, 134,  29, ...,  72, 136, 136])"
      ]
     },
     "execution_count": 222,
     "metadata": {},
     "output_type": "execute_result"
    }
   ],
   "source": [
    "sim.argmax(axis=1)"
   ]
  },
  {
   "cell_type": "code",
   "execution_count": 216,
   "metadata": {},
   "outputs": [
    {
     "data": {
      "text/plain": [
       "Counter({0: 14,\n",
       "         1: 38,\n",
       "         2: 15,\n",
       "         3: 12,\n",
       "         4: 27,\n",
       "         5: 35,\n",
       "         6: 5,\n",
       "         7: 9,\n",
       "         8: 8,\n",
       "         9: 32,\n",
       "         10: 85,\n",
       "         11: 201,\n",
       "         12: 6,\n",
       "         13: 16,\n",
       "         14: 15,\n",
       "         15: 2,\n",
       "         16: 10,\n",
       "         17: 8,\n",
       "         18: 12,\n",
       "         19: 38,\n",
       "         20: 7,\n",
       "         21: 16,\n",
       "         22: 70,\n",
       "         23: 11,\n",
       "         24: 20,\n",
       "         25: 8,\n",
       "         26: 17,\n",
       "         27: 44,\n",
       "         28: 31,\n",
       "         29: 18,\n",
       "         30: 5,\n",
       "         31: 3,\n",
       "         32: 47,\n",
       "         33: 30,\n",
       "         34: 8,\n",
       "         35: 9,\n",
       "         36: 32,\n",
       "         37: 68,\n",
       "         38: 1,\n",
       "         39: 3,\n",
       "         40: 27,\n",
       "         41: 38,\n",
       "         42: 11,\n",
       "         43: 56,\n",
       "         44: 38,\n",
       "         45: 19,\n",
       "         46: 17,\n",
       "         47: 5,\n",
       "         48: 69,\n",
       "         49: 15,\n",
       "         50: 28,\n",
       "         51: 2,\n",
       "         52: 8,\n",
       "         53: 254,\n",
       "         54: 17,\n",
       "         55: 25,\n",
       "         56: 124,\n",
       "         57: 26,\n",
       "         58: 34,\n",
       "         59: 8,\n",
       "         60: 83,\n",
       "         61: 15,\n",
       "         62: 8,\n",
       "         63: 32,\n",
       "         64: 31,\n",
       "         65: 67,\n",
       "         66: 11,\n",
       "         67: 41,\n",
       "         68: 12,\n",
       "         69: 29,\n",
       "         70: 44,\n",
       "         71: 5,\n",
       "         72: 64,\n",
       "         73: 104,\n",
       "         74: 11,\n",
       "         75: 18,\n",
       "         76: 38,\n",
       "         77: 714,\n",
       "         78: 144,\n",
       "         80: 4,\n",
       "         81: 12,\n",
       "         82: 21,\n",
       "         83: 23,\n",
       "         84: 11,\n",
       "         85: 5,\n",
       "         86: 10,\n",
       "         87: 73,\n",
       "         88: 21,\n",
       "         89: 2,\n",
       "         90: 44,\n",
       "         91: 5,\n",
       "         92: 5,\n",
       "         94: 26,\n",
       "         95: 98,\n",
       "         96: 5,\n",
       "         97: 15,\n",
       "         98: 30,\n",
       "         99: 1,\n",
       "         100: 17,\n",
       "         101: 25,\n",
       "         102: 7,\n",
       "         103: 11,\n",
       "         104: 59,\n",
       "         105: 9,\n",
       "         106: 102,\n",
       "         108: 10,\n",
       "         109: 142,\n",
       "         110: 4,\n",
       "         111: 99,\n",
       "         112: 191,\n",
       "         113: 30,\n",
       "         114: 5,\n",
       "         115: 14,\n",
       "         116: 85,\n",
       "         117: 368,\n",
       "         118: 9,\n",
       "         119: 123,\n",
       "         120: 182,\n",
       "         121: 4,\n",
       "         122: 16,\n",
       "         123: 2,\n",
       "         124: 10,\n",
       "         125: 144,\n",
       "         126: 185,\n",
       "         127: 178,\n",
       "         128: 12,\n",
       "         129: 41,\n",
       "         130: 15,\n",
       "         131: 34,\n",
       "         132: 50,\n",
       "         133: 14,\n",
       "         134: 55,\n",
       "         135: 47,\n",
       "         136: 619,\n",
       "         137: 23,\n",
       "         138: 120,\n",
       "         139: 7,\n",
       "         140: 11,\n",
       "         141: 25,\n",
       "         142: 42,\n",
       "         143: 29,\n",
       "         144: 44,\n",
       "         145: 118,\n",
       "         146: 4,\n",
       "         147: 32,\n",
       "         148: 7,\n",
       "         149: 46,\n",
       "         150: 14,\n",
       "         151: 177,\n",
       "         152: 31,\n",
       "         153: 14,\n",
       "         154: 85,\n",
       "         155: 2,\n",
       "         156: 55,\n",
       "         157: 20,\n",
       "         158: 9,\n",
       "         159: 9})"
      ]
     },
     "execution_count": 216,
     "metadata": {},
     "output_type": "execute_result"
    }
   ],
   "source": [
    "Counter(sim.argmax(axis=1))"
   ]
  },
  {
   "cell_type": "code",
   "execution_count": 221,
   "metadata": {},
   "outputs": [
    {
     "data": {
      "text/plain": [
       "(array([11]),)"
      ]
     },
     "execution_count": 221,
     "metadata": {},
     "output_type": "execute_result"
    }
   ],
   "source": [
    "np.where(all_topics2vec.index.str.contains('bastille'))"
   ]
  },
  {
   "cell_type": "code",
   "execution_count": 259,
   "metadata": {},
   "outputs": [
    {
     "data": {
      "text/plain": [
       "7.202270959611463"
      ]
     },
     "execution_count": 259,
     "metadata": {},
     "output_type": "execute_result"
    }
   ],
   "source": [
    "tfidf.idfs[dictionary.token2id['virus']]"
   ]
  },
  {
   "cell_type": "code",
   "execution_count": 168,
   "metadata": {
    "collapsed": true
   },
   "outputs": [],
   "source": [
    "test_doc_tokens = pd.DataFrame({k: {dictionary.id2token[t]: c for t, c in dictionary.doc2bow(i)} for k, i in zip(test_transformed_text.index, test_transformed_text.str.split())})"
   ]
  },
  {
   "cell_type": "code",
   "execution_count": 178,
   "metadata": {
    "collapsed": true,
    "scrolled": true
   },
   "outputs": [],
   "source": [
    "test_doc_tokens = test_doc_tokens.T"
   ]
  },
  {
   "cell_type": "code",
   "execution_count": 217,
   "metadata": {
    "scrolled": true
   },
   "outputs": [
    {
     "data": {
      "text/plain": [
       "(10, 84860)"
      ]
     },
     "execution_count": 217,
     "metadata": {},
     "output_type": "execute_result"
    }
   ],
   "source": [
    "test_doc_tokens[test_doc_tokens.zika > 0].shape"
   ]
  },
  {
   "cell_type": "code",
   "execution_count": null,
   "metadata": {
    "collapsed": true
   },
   "outputs": [],
   "source": []
  },
  {
   "cell_type": "code",
   "execution_count": null,
   "metadata": {
    "collapsed": true
   },
   "outputs": [],
   "source": [
    "def score_topic_doc_match(doc_tokens, topic_tokens):\n",
    "    "
   ]
  },
  {
   "cell_type": "code",
   "execution_count": 84,
   "metadata": {
    "scrolled": true
   },
   "outputs": [
    {
     "data": {
      "text/plain": [
       "{'activism': [array([6796, 5937,  396, 4906, 4471]),\n",
       "  array([6796, 6624, 4906,  396, 2265]),\n",
       "  array([7182, 4421,  170, 3121, 4062])],\n",
       " 'bastilledaytruckattack': [array([6128,   78, 3188, 6135, 3210]),\n",
       "  array([6128,   78, 3220, 3188, 3210]),\n",
       "  array([5142, 3187, 3182, 4340, 7481])],\n",
       " 'berlinchristmasmarketattack': [array([7491, 6818, 3681, 7489, 6267]),\n",
       "  array([7491, 6267, 7489, 3681, 6818]),\n",
       "  array([7489, 3681, 7535, 4253, 7513])],\n",
       " 'brusselsattacks': [array([3300, 5008, 4458, 5080, 7056]),\n",
       "  array([3300, 5008, 3554, 5019, 5028]),\n",
       "  array([2062, 3620, 5028, 5113, 5052])],\n",
       " 'charliehebdoattack': [array([3124,   45,   67, 4198,   49]),\n",
       "  array([3124,   45,   49, 4198, 2539]),\n",
       "  array([3182, 4198, 3873, 2062, 4961])],\n",
       " 'francetrainattack': [array([3514, 2263, 5028, 5475, 6636]),\n",
       "  array([3514, 2263, 5028, 5475, 1246]),\n",
       "  array([6118, 3200, 7210, 2263, 3649])],\n",
       " 'munichshooting': [array([6268, 6254, 6231, 6267, 6232]),\n",
       "  array([4031, 6268, 6231, 2129, 6254]),\n",
       "  array([6239, 6254, 6249, 6231, 6253])],\n",
       " 'orlandoterrorattack': [array([5839, 5885, 5733, 5758, 5737]),\n",
       "  array([5839, 5885, 1901, 5758, 5760]),\n",
       "  array([2062, 3182, 3873, 3763, 5004])],\n",
       " 'parisattacks': [array([3514, 3267, 5257, 7210, 3200]),\n",
       "  array([3514, 3267, 7210, 5257, 3319]),\n",
       "  array([7210, 5399, 4975, 5257, 6118])],\n",
       " 'peaceandreconciliation': [array([6853, 2813, 1314, 2993, 7580]),\n",
       "  array([6853, 2993, 2813, 1314, 1139]),\n",
       "  array([2993, 2813, 1314, 6853, 6911])],\n",
       " 'sanbernardinoshooting': [array([4057,  588, 4069, 3810, 4222]),\n",
       "  array([3846, 3810, 4057, 4069, 1167]),\n",
       "  array([3944, 4761, 3769, 4007, 6302])],\n",
       " 'tunisiaattack2015': [array([ 805, 1668, 1643,  889, 5950]),\n",
       "  array([ 805, 1668, 1643, 5950,  889]),\n",
       "  array([ 805, 2094, 1668, 1839, 2241])],\n",
       " 'turkeycoupattempt': [array([6163, 6102, 6177, 6211, 6244]),\n",
       "  array([6163, 6177, 6102, 6211, 6244]),\n",
       "  array([6163, 6177, 7168, 6545, 6244])],\n",
       " 'zikavirus': [array([4489, 7543, 4760, 4549,  749]),\n",
       "  array([4489, 7543, 6609, 4760, 4549]),\n",
       "  array([7543, 4489,  950, 4760,  691])]}"
      ]
     },
     "execution_count": 84,
     "metadata": {},
     "output_type": "execute_result"
    }
   ],
   "source": [
    "unseen_topics_rank"
   ]
  },
  {
   "cell_type": "code",
   "execution_count": 319,
   "metadata": {
    "scrolled": false
   },
   "outputs": [
    {
     "data": {
      "text/plain": [
       "u'French police have tweeted a picture of the third man they believe carried out the bomb attack on the Stade de France last week, and appealed for help in identifying him. The Police Nationale released the image on Sunday evening, nine days after the bombings, which were part of a series of simultaneous attacks across the French capital that killed 130 people. It followed police raids in which three people suspected of involvement in the attacks were killed. The man\\u2019s image was accompanied by a message that read: \\u201cThis individual is the third dead perpetrator of one of the attacks carried out on 13 November at the Stade de France.\\u201d In Belgium, the prime minister, Charles Michel, said the terror alert would remain at the country\\u2019s highest level for a sustained \\u201cserious and imminent\\u201d threat against the capital, Brussels. Michel said that, like the weekend, authorities fear a Paris-like attack, \\u201ceven perhaps at several locations\\u201d. He said that consequently schools and the subway system in the city would not open.'"
      ]
     },
     "execution_count": 319,
     "metadata": {},
     "output_type": "execute_result"
    }
   ],
   "source": [
    "test_df.iloc[3514].bodyText # 19"
   ]
  },
  {
   "cell_type": "code",
   "execution_count": 253,
   "metadata": {
    "scrolled": true
   },
   "outputs": [
    {
     "data": {
      "text/plain": [
       "u'Violent protests at Trump rally in California With the tenor of the general election campaign now clearly defined, Hillary Clinton delivered a stinging rebuke to Donald Trump\\u2019s claim to understand international affairs on Thursday. Trump, meanwhile, described Clinton\\u2019s clear-headed foreign policy address \\u2013 in which she described him as too unstable to be trusted with nuclear launch codes and warned he would take the country down a \\u201ctruly dangerous path\\u201d \\u2013 as \\u201cpathetic\\u201d and said she should be in jail. Violence later erupted at a Trump rally in California. Reports from San Jose described anti-Trump demonstrators chasing \\u2013 and in some cases punching and attacking \\u2013 departing Trump supporters, some of whom appeared intent on provoking and fighting. Riot police were deployed to control the crowd. The mayor of San Jose, Sam Liccardo, blamed Trump. \\u201cWe don\\u2019t appreciate [anyone] utilizing campaign tactics of demagoguery,\\u201d he said. Meanwhile, Trump has stepped up his race-tinged attacks against the judge in a court case over Trump University, accusing Gonzalo Curiel of a \\u201cconflict of interest\\u201d because of his Mexican heritage. Protesters attack Trump supporters after San Jose speech striking back at Clinton Philadelphia faces lawsuit over water testing The city is facing legal action over water test practices that may lead to underestimates of lead levels in municipal water supplies. Following a Guardian investigation that showed how 33 cities across 17 states have used problematic testing methods, the Philadelphia water department, accused by some experts of having water testing \\u201cworse than Flint\\u201d, is now facing a class action lawsuit. \\u201cThe kind of construction the city is carrying out creates the perfect storm for lead pipe corrosion,\\u201d claims attorney Steve Berman. \\u201cYet the city has decided to conceal this growing health hazard from its own citizens.\\u201d Philadelphia water department faces class action lawsuit over water testing Missing Japanese boy found Six days after his parents left him at the edge of a bear-inhabited forest as punishment for throwing stones at cars and people, seven-year-old Yamato Tanooka has been found. Tanooka was located by chance by military personnel in a hut on one of its exercise areas, three miles from where he is believed to have gone missing. A doctor who examined him after his ordeal in Hokkaido, Japan\\u2019s northernmost island, said: \\u201cHe was incredibly calm considering he had been missing for seven days. He didn\\u2019t panic at all.\\u201d After being reunited, his father \\u2013 who acknowledges he took disciplinary action too far \\u2013 said he\\u2019d apologised for creating \\u201csuch an awful memory for him\\u201d. Yamato Tanooka: missing Japanese boy found alive after six nights in forest Prince\\u2019s medical report confirms drug overdose The Midwest medical examiner\\u2019s office has found that the 57-year-old singer, found dead at his suburban Minneapolis compound on 21 April, was killed by an overdose of Fentanyl, a powerful synthetic opiate. The fatal dose was self-administered, medical examiner A Quinn Strobl confirmed. The report provided few further details and did not describe how Prince obtained Fentanyl, a quick-acting painkiller used by anesthesiologists and often associated with overdose deaths among long-term users of opiate drugs. Investigators are still looking into whether the singer had a prescription drug problem, but friends and family members have expressed surprise at this outcome: they say Prince avoided alcohol and drugs and maintained a healthy lifestyle. Tests confirm Prince died of opioid overdose, says medical examiner Universe expanding faster than thought New measurements taken by the Hubble space telescope suggest the universe is expanding 9% faster than previously thought. The finding, announced by Nasa and the European Space Agency, was made by using the telescope to measure the distance to stars in 19 galaxies beyond the Milky Way. The discovery could test part of Albert Einstein\\u2019s theory of relativity and raises new questions about the amount and characteristics of dark matter in the universe. Physicist and lead author Adam Riess said: \\u201cThe ends are not quite meeting in the middle and we want to know why.\\u201d Universe is expanding up to 9% faster than we thought, say scientists Five soldiers dead in Texas as floods intensify An army tactical vehicle carrying a dozen soldiers has overturned in flood conditions at Fort Hood in Texas. Five soldiers were confirmed dead, four were still missing and three were rescued after floods caused by extreme rains washed their light medium tactical vehicle from a low-water crossing and overturned it. The army has not released the names of the dead because it is still notifying relatives. Rain and flooding in the region are expected to worsen through Saturday, with up to 10 inches of rain pushing rivers and other waterways up over already record levels. Three soldiers dead and six missing after army truck overturns in Texas creek Judge chastised for \\u2018complete disregard for the law\\u2019 More than 100 defense attorneys have joined a complaint about the high-handed behavior of Las Vegas judge Conrad Hafen, whose courtroom antics have included placing public defender Zohra Bakhtary in handcuffs \\u201cto teach her a lesson\\u201d. The complaint claims that Judge Hafen\\u2019s mercurial rulings have on several occasions deprived people of proper defense hearings and resulted in unnecessary jail time. Judge who handcuffed public defender to teach a \\u2018lesson\\u2019 gets own chastising Muslim, gay and devout Torontonian Samra Habib describes how she once felt she had no right to call herself a Muslim because she\\u2019s queer and doesn\\u2019t wear a hijab. Though she did not attend a mosque, she maintained a private relationship with Allah, she writes. Then she found Toronto\\u2019s Unity mosque, one of a handful of prayer spaces that welcome queer Muslims. Founder El-Farouk Khaki says the notion of an inclusive mosque space that\\u2019s gender-equal and queer-affirming has fired up people\\u2019s imagination. \\u201cEverybody is welcome. People are embraced in the fullness of their authenticity\\u201d. Queer and going to the mosque: \\u2018I\\u2019ve never felt more Muslim than I do now\\u2019 US cyclist to skip Olympics over Zika fears Tejay van Garderen has withdrawn from the Rio games over concern that the mosquito-borne Zika virus could pose problems for his pregnant wife. This comes after Australian tennis player Nick Kyrgios also said he would not attend. Van Garderen competed in the road race at the 2012 Olympics. \\u201cAlthough the risks associated with the Zika virus can be minimal and precautions can be taken, my wife Jessica is pregnant, and I don\\u2019t want to risk bringing anything back that could potentially have an effect,\\u201d Van Garderen explained. USA cyclist Tejay van Garderen withdraws from Olympics over Zika virus And another thing \\u2026 A group of four young Canadians who front a clothing and entertainment company called High on Life are wanted by authorities in Wyoming after images on social media showed them going off trail and splashing in a hot spring in Yellowstone national park. This comes after a series of stunts the group has staged across a string of \\u201cnational treasures\\u201d including wake-boarding on the Bonneville Salt Flats and swinging on a rope from Corona Arch in Utah. Getting \\u2018High on Life\\u2019 lands Canadian men in hot water for Yellowstone stunt'"
      ]
     },
     "execution_count": 253,
     "metadata": {},
     "output_type": "execute_result"
    }
   ],
   "source": [
    "test_df[test_df.bodyText.str.contains('Zika')].bodyText.iloc[2]"
   ]
  },
  {
   "cell_type": "code",
   "execution_count": 245,
   "metadata": {},
   "outputs": [
    {
     "name": "stderr",
     "output_type": "stream",
     "text": [
      "/home/avsolatorio/ml-ai/local/lib/python2.7/site-packages/sklearn/utils/validation.py:395: DeprecationWarning: Passing 1d arrays as data is deprecated in 0.17 and will raise ValueError in 0.19. Reshape your data either using X.reshape(-1, 1) if your data has a single feature or X.reshape(1, -1) if it contains a single sample.\n",
      "  DeprecationWarning)\n"
     ]
    }
   ],
   "source": [
    "ssim = cosine_similarity(\n",
    "    np.vstack(test_tfdifwvec)[4489],\n",
    "    np.vstack(test_tfdifwvec),\n",
    ")"
   ]
  },
  {
   "cell_type": "code",
   "execution_count": 250,
   "metadata": {},
   "outputs": [
    {
     "data": {
      "text/plain": [
       "array([4489, 7543, 4760, 4881,  471, 5557,  373,  824, 4456, 4549,  352,\n",
       "        469,  749, 1906, 1092, 6609, 2255,  950, 2888, 1512])"
      ]
     },
     "execution_count": 250,
     "metadata": {},
     "output_type": "execute_result"
    }
   ],
   "source": [
    "ssim.argsort()[0][::-1][:20]"
   ]
  },
  {
   "cell_type": "code",
   "execution_count": 252,
   "metadata": {},
   "outputs": [
    {
     "data": {
      "text/plain": [
       "['activism',\n",
       " 'afghanistan',\n",
       " 'aid',\n",
       " 'algerianhostagecrisis',\n",
       " 'alqaida',\n",
       " 'alshabaab',\n",
       " 'antiwar',\n",
       " 'arabandmiddleeastprotests',\n",
       " 'armstrade',\n",
       " 'australianguncontrol',\n",
       " 'australiansecurityandcounterterrorism',\n",
       " 'bastilledaytruckattack',\n",
       " 'belgium',\n",
       " 'berlinchristmasmarketattack',\n",
       " 'bigdata',\n",
       " 'biometrics',\n",
       " 'bokoharam',\n",
       " 'bostonmarathonbombing',\n",
       " 'britisharmy',\n",
       " 'brusselsattacks',\n",
       " 'cameroon',\n",
       " 'carers',\n",
       " 'charliehebdoattack',\n",
       " 'chemicalweapons',\n",
       " 'clusterbombs',\n",
       " 'cobra',\n",
       " 'conflictanddevelopment',\n",
       " 'controversy',\n",
       " 'criminaljustice',\n",
       " 'cybercrime',\n",
       " 'cyberwar',\n",
       " 'darknet',\n",
       " 'dataprotection',\n",
       " 'debate',\n",
       " 'defence',\n",
       " 'deflation',\n",
       " 'drones',\n",
       " 'drugs',\n",
       " 'drugspolicy',\n",
       " 'drugstrade',\n",
       " 'earthquakes',\n",
       " 'ebola',\n",
       " 'economy',\n",
       " 'egypt',\n",
       " 'encryption',\n",
       " 'energy',\n",
       " 'espionage',\n",
       " 'ethics',\n",
       " 'europeanarrestwarrant',\n",
       " 'europeancourtofhumanrights',\n",
       " 'events',\n",
       " 'extradition',\n",
       " 'famine',\n",
       " 'farright',\n",
       " 'firefighters',\n",
       " 'forensicscience',\n",
       " 'france',\n",
       " 'francetrainattack',\n",
       " 'freedomofspeech',\n",
       " 'genevaconventions',\n",
       " 'germany',\n",
       " 'guncrime',\n",
       " 'hacking',\n",
       " 'hashtags',\n",
       " 'helicoptercrashes',\n",
       " 'humanitarianresponse',\n",
       " 'humanrights',\n",
       " 'humanrightsact',\n",
       " 'humantrafficking',\n",
       " 'immigration',\n",
       " 'india',\n",
       " 'indonesia',\n",
       " 'internallydisplacedpeople',\n",
       " 'internationalcourtofjustice',\n",
       " 'internationalcriminaljustice',\n",
       " 'internetsafety',\n",
       " 'iraq',\n",
       " 'isis',\n",
       " 'israel',\n",
       " 'jordan',\n",
       " 'jubilee',\n",
       " 'judiciary',\n",
       " 'july7',\n",
       " 'justiceandsecurity',\n",
       " 'kenya',\n",
       " 'knifecrime',\n",
       " 'lebanon',\n",
       " 'libya',\n",
       " 'localgovernment',\n",
       " 'logistics',\n",
       " 'london',\n",
       " 'londonriots',\n",
       " 'malaysia',\n",
       " 'mali',\n",
       " 'malware',\n",
       " 'metropolitanpolice',\n",
       " 'middleeastpeacetalks',\n",
       " 'migration',\n",
       " 'military',\n",
       " 'ministryofdefence',\n",
       " 'morocco',\n",
       " 'mrsa',\n",
       " 'mumbaiterrorattacks',\n",
       " 'munichshooting',\n",
       " 'naturaldisasters',\n",
       " 'nigeria',\n",
       " 'nuclearweapons',\n",
       " 'occupy',\n",
       " 'organisedcrime',\n",
       " 'orlandoterrorattack',\n",
       " 'osamabinladen',\n",
       " 'paris',\n",
       " 'parisattacks',\n",
       " 'peaceandreconciliation',\n",
       " 'philippines',\n",
       " 'piracy',\n",
       " 'planecrashes',\n",
       " 'police',\n",
       " 'protest',\n",
       " 'refugees',\n",
       " 'religion',\n",
       " 'retirementage',\n",
       " 'rio20earthsummit',\n",
       " 'royalairforce',\n",
       " 'royalnavy',\n",
       " 'russia',\n",
       " 'sanbernardinoshooting',\n",
       " 'saudiarabia',\n",
       " 'september11',\n",
       " 'slavery',\n",
       " 'somalia',\n",
       " 'southafrica',\n",
       " 'southchinasea',\n",
       " 'stopandsearch',\n",
       " 'surveillance',\n",
       " 'sydneysiege',\n",
       " 'syria',\n",
       " 'taliban',\n",
       " 'terrorism',\n",
       " 'thailand',\n",
       " 'torture',\n",
       " 'traincrashes',\n",
       " 'transport',\n",
       " 'tunisiaattack2015',\n",
       " 'turkey',\n",
       " 'turkeycoupattempt',\n",
       " 'ukcrime',\n",
       " 'uksecurity',\n",
       " 'uksupremecourt',\n",
       " 'undercoverpoliceandpolicing',\n",
       " 'unitednations',\n",
       " 'usguncontrol',\n",
       " 'values',\n",
       " 'warcrimes',\n",
       " 'warreporting',\n",
       " 'weaponstechnology',\n",
       " 'womeninbusiness',\n",
       " 'woolwichattack',\n",
       " 'worldmigration',\n",
       " 'zikavirus']"
      ]
     },
     "execution_count": 252,
     "metadata": {},
     "output_type": "execute_result"
    }
   ],
   "source": [
    "topics"
   ]
  },
  {
   "cell_type": "code",
   "execution_count": null,
   "metadata": {
    "collapsed": true
   },
   "outputs": [],
   "source": []
  }
 ],
 "metadata": {
  "kernelspec": {
   "display_name": "Python 2",
   "language": "python",
   "name": "python2"
  },
  "language_info": {
   "codemirror_mode": {
    "name": "ipython",
    "version": 2
   },
   "file_extension": ".py",
   "mimetype": "text/x-python",
   "name": "python",
   "nbconvert_exporter": "python",
   "pygments_lexer": "ipython2",
   "version": "2.7.12"
  }
 },
 "nbformat": 4,
 "nbformat_minor": 2
}
