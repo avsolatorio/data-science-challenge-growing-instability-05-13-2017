{
 "cells": [
  {
   "cell_type": "code",
   "execution_count": 1,
   "metadata": {
    "collapsed": true
   },
   "outputs": [],
   "source": [
    "import warnings; warnings.filterwarnings('ignore')"
   ]
  },
  {
   "cell_type": "code",
   "execution_count": 2,
   "metadata": {},
   "outputs": [
    {
     "name": "stderr",
     "output_type": "stream",
     "text": [
      "Using TensorFlow backend.\n"
     ]
    }
   ],
   "source": [
    "from growing_instability_lib import *"
   ]
  },
  {
   "cell_type": "code",
   "execution_count": 3,
   "metadata": {},
   "outputs": [
    {
     "data": {
      "text/plain": [
       "160"
      ]
     },
     "execution_count": 3,
     "metadata": {},
     "output_type": "execute_result"
    }
   ],
   "source": [
    "sample_sub = pd.read_csv('../data/sampleSubmission.csv')\n",
    "topics = sorted(set(sample_sub.columns.difference(['id'])))\n",
    "\n",
    "topic2actual = {}\n",
    "for i in sample_sub.columns:\n",
    "    if 'id' == i:\n",
    "        continue\n",
    "    topic2actual[i] = segment(i)\n",
    "    \n",
    "target_columns = sorted(topics)\n",
    "len(topics)"
   ]
  },
  {
   "cell_type": "code",
   "execution_count": null,
   "metadata": {
    "collapsed": true
   },
   "outputs": [],
   "source": []
  },
  {
   "cell_type": "code",
   "execution_count": 4,
   "metadata": {
    "collapsed": true
   },
   "outputs": [],
   "source": [
    "wvmodel = Word2Vec.load('corpus/train_body_data-with_labels_False-retain_special_chars_False.with_test_data.csv.w2v.model')"
   ]
  },
  {
   "cell_type": "code",
   "execution_count": 16,
   "metadata": {
    "collapsed": true
   },
   "outputs": [],
   "source": [
    "fsmodel = fasttext.load_model('corpus/train_body_data-with_labels_False-retain_special_chars_False.with_test_data.csv.fasttext.model.bin')"
   ]
  },
  {
   "cell_type": "code",
   "execution_count": 5,
   "metadata": {
    "scrolled": true
   },
   "outputs": [
    {
     "data": {
      "text/plain": [
       "{'activism': ['activism'],\n",
       " 'afghanistan': ['afghanistan'],\n",
       " 'aid': ['aid'],\n",
       " 'algerianhostagecrisis': ['algerian', 'hostage', 'crisis'],\n",
       " 'alqaida': ['al', 'qaida'],\n",
       " 'alshabaab': ['al', 'shaba', 'ab'],\n",
       " 'antiwar': ['antiwar'],\n",
       " 'arabandmiddleeastprotests': ['arab', 'and', 'middle', 'east', 'protests'],\n",
       " 'armstrade': ['arms', 'trade'],\n",
       " 'australianguncontrol': ['australian', 'gun', 'control'],\n",
       " 'australiansecurityandcounterterrorism': ['australian',\n",
       "  'security',\n",
       "  'and',\n",
       "  'counterterrorism'],\n",
       " 'bastilledaytruckattack': ['bastille', 'day', 'truck', 'attack'],\n",
       " 'belgium': ['belgium'],\n",
       " 'berlinchristmasmarketattack': ['berlin', 'christmas', 'market', 'attack'],\n",
       " 'bigdata': ['big', 'data'],\n",
       " 'biometrics': ['biometrics'],\n",
       " 'bokoharam': ['boko', 'haram'],\n",
       " 'bostonmarathonbombing': ['boston', 'marathon', 'bombing'],\n",
       " 'britisharmy': ['british', 'army'],\n",
       " 'brusselsattacks': ['brussels', 'attacks'],\n",
       " 'cameroon': ['cameroon'],\n",
       " 'carers': ['carers'],\n",
       " 'charliehebdoattack': ['charlie', 'hebdo', 'attack'],\n",
       " 'chemicalweapons': ['chemical', 'weapons'],\n",
       " 'clusterbombs': ['cluster', 'bombs'],\n",
       " 'cobra': ['cobra'],\n",
       " 'conflictanddevelopment': ['conflict', 'and', 'development'],\n",
       " 'controversy': ['controversy'],\n",
       " 'criminaljustice': ['criminal', 'justice'],\n",
       " 'cybercrime': ['cybercrime'],\n",
       " 'cyberwar': ['cyberwar'],\n",
       " 'darknet': ['darknet'],\n",
       " 'dataprotection': ['data', 'protection'],\n",
       " 'debate': ['debate'],\n",
       " 'defence': ['defence'],\n",
       " 'deflation': ['deflation'],\n",
       " 'drones': ['drones'],\n",
       " 'drugs': ['drugs'],\n",
       " 'drugspolicy': ['drugs', 'policy'],\n",
       " 'drugstrade': ['drugs', 'trade'],\n",
       " 'earthquakes': ['earthquakes'],\n",
       " 'ebola': ['ebola'],\n",
       " 'economy': ['economy'],\n",
       " 'egypt': ['egypt'],\n",
       " 'encryption': ['encryption'],\n",
       " 'energy': ['energy'],\n",
       " 'espionage': ['espionage'],\n",
       " 'ethics': ['ethics'],\n",
       " 'europeanarrestwarrant': ['european', 'arrest', 'warrant'],\n",
       " 'europeancourtofhumanrights': ['european', 'court', 'of', 'human', 'rights'],\n",
       " 'events': ['events'],\n",
       " 'extradition': ['extradition'],\n",
       " 'famine': ['famine'],\n",
       " 'farright': ['far', 'right'],\n",
       " 'firefighters': ['firefighters'],\n",
       " 'forensicscience': ['forensic', 'science'],\n",
       " 'france': ['france'],\n",
       " 'francetrainattack': ['france', 'train', 'attack'],\n",
       " 'freedomofspeech': ['freedom', 'of', 'speech'],\n",
       " 'genevaconventions': ['geneva', 'conventions'],\n",
       " 'germany': ['germany'],\n",
       " 'guncrime': ['gun', 'crime'],\n",
       " 'hacking': ['hacking'],\n",
       " 'hashtags': ['hash', 'tags'],\n",
       " 'helicoptercrashes': ['helicopter', 'crashes'],\n",
       " 'humanitarianresponse': ['humanitarian', 'response'],\n",
       " 'humanrights': ['human', 'rights'],\n",
       " 'humanrightsact': ['human', 'rights', 'act'],\n",
       " 'humantrafficking': ['human', 'trafficking'],\n",
       " 'immigration': ['immigration'],\n",
       " 'india': ['india'],\n",
       " 'indonesia': ['indonesia'],\n",
       " 'internallydisplacedpeople': ['internally', 'displaced', 'people'],\n",
       " 'internationalcourtofjustice': ['international', 'court', 'of', 'justice'],\n",
       " 'internationalcriminaljustice': ['international', 'criminal', 'justice'],\n",
       " 'internetsafety': ['internet', 'safety'],\n",
       " 'iraq': ['iraq'],\n",
       " 'isis': ['isis'],\n",
       " 'israel': ['israel'],\n",
       " 'jordan': ['jordan'],\n",
       " 'jubilee': ['jubilee'],\n",
       " 'judiciary': ['judiciary'],\n",
       " 'july7': ['july', '7'],\n",
       " 'justiceandsecurity': ['justice', 'and', 'security'],\n",
       " 'kenya': ['kenya'],\n",
       " 'knifecrime': ['knife', 'crime'],\n",
       " 'lebanon': ['lebanon'],\n",
       " 'libya': ['libya'],\n",
       " 'localgovernment': ['local', 'government'],\n",
       " 'logistics': ['logistics'],\n",
       " 'london': ['london'],\n",
       " 'londonriots': ['london', 'riots'],\n",
       " 'malaysia': ['malaysia'],\n",
       " 'mali': ['mali'],\n",
       " 'malware': ['malware'],\n",
       " 'metropolitanpolice': ['metropolitan', 'police'],\n",
       " 'middleeastpeacetalks': ['middle', 'east', 'peace', 'talks'],\n",
       " 'migration': ['migration'],\n",
       " 'military': ['military'],\n",
       " 'ministryofdefence': ['ministry', 'of', 'defence'],\n",
       " 'morocco': ['morocco'],\n",
       " 'mrsa': ['mrsa'],\n",
       " 'mumbaiterrorattacks': ['mumbai', 'terror', 'attacks'],\n",
       " 'munichshooting': ['munich', 'shooting'],\n",
       " 'naturaldisasters': ['natural', 'disasters'],\n",
       " 'nigeria': ['nigeria'],\n",
       " 'nuclearweapons': ['nuclear', 'weapons'],\n",
       " 'occupy': ['occupy'],\n",
       " 'organisedcrime': ['organised', 'crime'],\n",
       " 'orlandoterrorattack': ['orlando', 'terror', 'attack'],\n",
       " 'osamabinladen': ['osama', 'bin', 'laden'],\n",
       " 'paris': ['paris'],\n",
       " 'parisattacks': ['paris', 'attacks'],\n",
       " 'peaceandreconciliation': ['peace', 'and', 'reconciliation'],\n",
       " 'philippines': ['philippines'],\n",
       " 'piracy': ['piracy'],\n",
       " 'planecrashes': ['plane', 'crashes'],\n",
       " 'police': ['police'],\n",
       " 'protest': ['protest'],\n",
       " 'refugees': ['refugees'],\n",
       " 'religion': ['religion'],\n",
       " 'retirementage': ['retirement', 'age'],\n",
       " 'rio20earthsummit': ['rio20', 'earth', 'summit'],\n",
       " 'royalairforce': ['royal', 'air', 'force'],\n",
       " 'royalnavy': ['royal', 'navy'],\n",
       " 'russia': ['russia'],\n",
       " 'sanbernardinoshooting': ['san', 'bernardino', 'shooting'],\n",
       " 'saudiarabia': ['saudi', 'arabia'],\n",
       " 'september11': ['september', '11'],\n",
       " 'slavery': ['slavery'],\n",
       " 'somalia': ['somalia'],\n",
       " 'southafrica': ['south', 'africa'],\n",
       " 'southchinasea': ['south', 'china', 'sea'],\n",
       " 'stopandsearch': ['stop', 'and', 'search'],\n",
       " 'surveillance': ['surveillance'],\n",
       " 'sydneysiege': ['sydney', 'siege'],\n",
       " 'syria': ['syria'],\n",
       " 'taliban': ['taliban'],\n",
       " 'terrorism': ['terrorism'],\n",
       " 'thailand': ['thailand'],\n",
       " 'torture': ['torture'],\n",
       " 'traincrashes': ['train', 'crashes'],\n",
       " 'transport': ['transport'],\n",
       " 'tunisiaattack2015': ['tunisia', 'attack', '2015'],\n",
       " 'turkey': ['turkey'],\n",
       " 'turkeycoupattempt': ['turkey', 'coup', 'attempt'],\n",
       " 'ukcrime': ['uk', 'crime'],\n",
       " 'uksecurity': ['uk', 'security'],\n",
       " 'uksupremecourt': ['uk', 'supreme', 'court'],\n",
       " 'undercoverpoliceandpolicing': ['undercover', 'police', 'and', 'policing'],\n",
       " 'unitednations': ['united', 'nations'],\n",
       " 'usguncontrol': ['us', 'gun', 'control'],\n",
       " 'values': ['values'],\n",
       " 'warcrimes': ['war', 'crimes'],\n",
       " 'warreporting': ['war', 'reporting'],\n",
       " 'weaponstechnology': ['weapons', 'technology'],\n",
       " 'womeninbusiness': ['women', 'in', 'business'],\n",
       " 'woolwichattack': ['woolwich', 'attack'],\n",
       " 'worldmigration': ['world', 'migration'],\n",
       " 'zikavirus': ['zika', 'virus']}"
      ]
     },
     "execution_count": 5,
     "metadata": {},
     "output_type": "execute_result"
    }
   ],
   "source": [
    "topic2actual"
   ]
  },
  {
   "cell_type": "markdown",
   "metadata": {},
   "source": [
    "# Perform exploratory unsupervised discovery of unseen topics"
   ]
  },
  {
   "cell_type": "code",
   "execution_count": 6,
   "metadata": {
    "collapsed": true
   },
   "outputs": [],
   "source": [
    "trainingY = pd.read_hdf('training_data_wv_fs_no_stopwords.hdf', 'trainingY')"
   ]
  },
  {
   "cell_type": "code",
   "execution_count": 8,
   "metadata": {},
   "outputs": [
    {
     "data": {
      "text/plain": [
       "activism                     NaN\n",
       "afghanistan              10032.0\n",
       "aid                       1891.0\n",
       "algerianhostagecrisis       58.0\n",
       "alqaida                   3194.0\n",
       "dtype: float64"
      ]
     },
     "execution_count": 8,
     "metadata": {},
     "output_type": "execute_result"
    }
   ],
   "source": [
    "training_topics_freq = trainingY.sum()\n",
    "training_topics_freq.head()"
   ]
  },
  {
   "cell_type": "code",
   "execution_count": 9,
   "metadata": {
    "collapsed": true
   },
   "outputs": [],
   "source": [
    "unseen_topics = set(topics).intersection(training_topics_freq.ix[training_topics_freq.isnull()].index)"
   ]
  },
  {
   "cell_type": "code",
   "execution_count": 11,
   "metadata": {},
   "outputs": [
    {
     "data": {
      "text/plain": [
       "{'activism',\n",
       " 'bastilledaytruckattack',\n",
       " 'berlinchristmasmarketattack',\n",
       " 'brusselsattacks',\n",
       " 'charliehebdoattack',\n",
       " 'francetrainattack',\n",
       " 'munichshooting',\n",
       " 'orlandoterrorattack',\n",
       " 'parisattacks',\n",
       " 'peaceandreconciliation',\n",
       " 'sanbernardinoshooting',\n",
       " 'tunisiaattack2015',\n",
       " 'turkeycoupattempt',\n",
       " 'zikavirus'}"
      ]
     },
     "execution_count": 11,
     "metadata": {},
     "output_type": "execute_result"
    }
   ],
   "source": [
    "unseen_topics"
   ]
  },
  {
   "cell_type": "code",
   "execution_count": 181,
   "metadata": {
    "collapsed": true
   },
   "outputs": [],
   "source": [
    "def transform_tfidf_word2vec(tokens, stopwords=[]):\n",
    "    global wvmodel\n",
    "    global tfidf\n",
    "    # This requires wvmodel to be present in the namespace.\n",
    "    wv_feature_vec = tokens.map(\n",
    "        lambda x: [w for w in x.split() if (w not in stopwords and w in wvmodel.wv.vocab)]\n",
    "    ).map(\n",
    "        lambda x: tfidf[dictionary.doc2bow(x)]\n",
    "    ).map(\n",
    "        lambda x: np.array([wvmodel[dictionary.id2token[id]] * w for id, w in x]).mean(axis=0) if len(x) > 0 else np.nan\n",
    "    )\n",
    "\n",
    "    return wv_feature_vec\n",
    "\n",
    "\n",
    "def transform_fasttext(tokens, stopwords=[]):\n",
    "    global fsmodel\n",
    "    # This requires fsmodel to be present in the namespace.\n",
    "    fs_feature_vec = tokens.map(\n",
    "        lambda x: [w for w in x.split() if (w not in stopwords)]\n",
    "    ).map(lambda x: np.array([fsmodel[w] for w in x]).mean(axis=0) if len(x) > 0 else np.nan)\n",
    "\n",
    "    return fs_feature_vec\n",
    "\n",
    "\n",
    "def transform_word2vec(tokens, stopwords=[]):\n",
    "    global wvmodel\n",
    "    # This requires wvmodel to be present in the namespace.\n",
    "    wv_feature_vec = tokens.map(\n",
    "        lambda x: [w for w in x.split() if (w not in stopwords and w in wvmodel.wv.vocab)]\n",
    "    ).map(lambda x: np.array([wvmodel[w] for w in x]).mean(axis=0) if len(x) > 0 else np.nan)\n",
    "\n",
    "    return wv_feature_vec\n",
    "\n",
    "\n",
    "def parallel_generate_word_vectors(samp, transformer, stopwords, batch, num_proc):\n",
    "    with Parallel(n_jobs=num_proc) as parallel:\n",
    "        dataset = []\n",
    "        is_break = False\n",
    "        i = 0\n",
    "\n",
    "        while not is_break:\n",
    "            payload = []\n",
    "\n",
    "            for j in xrange(num_proc):\n",
    "                t_df = samp[(i + j) * batch: (i + 1 + j) * batch]\n",
    "\n",
    "                if t_df.empty:\n",
    "                    is_break = True\n",
    "                    continue\n",
    "\n",
    "                payload.append(\n",
    "                    delayed(transformer)(\n",
    "                        t_df, stopwords\n",
    "                    )\n",
    "                )\n",
    "\n",
    "            print('Current batch in main thread: {}'.format((i + j) * batch))\n",
    "\n",
    "            if payload:\n",
    "                results = parallel(payload)\n",
    "                dataset.extend(results)\n",
    "                i += num_proc\n",
    "\n",
    "    return pd.concat(dataset)\n",
    "\n",
    "\n",
    "def extract_features_for(df, min_batch=2000, stopwords=[], num_proc=7):\n",
    "    df_tokens = transform_text(df)\n",
    "    \n",
    "    batch = min(df_tokens.shape[0] / num_proc, min_batch)\n",
    "\n",
    "    print('Computing fs features...')\n",
    "    fvec = parallel_generate_word_vectors(df_tokens, transform_fasttext, stopwords=stopwords, batch=batch, num_proc=num_proc)\n",
    "\n",
    "    print('Computing wv features...')\n",
    "    wvec = parallel_generate_word_vectors(df_tokens, transform_word2vec, stopwords=stopwords, batch=batch, num_proc=num_proc)\n",
    "\n",
    "    return wvec, fvec"
   ]
  },
  {
   "cell_type": "code",
   "execution_count": 12,
   "metadata": {
    "collapsed": true
   },
   "outputs": [],
   "source": [
    "with open('../data/TestData.json') as fl:\n",
    "    data = json.load(fl)\n",
    "    test_df = pd.DataFrame(data['TestData']).T\n",
    "    del(data)"
   ]
  },
  {
   "cell_type": "code",
   "execution_count": 132,
   "metadata": {
    "collapsed": true
   },
   "outputs": [],
   "source": [
    "test_transformed_text = transform_text(test_df)"
   ]
  },
  {
   "cell_type": "code",
   "execution_count": 18,
   "metadata": {
    "scrolled": true
   },
   "outputs": [
    {
     "name": "stdout",
     "output_type": "stream",
     "text": [
      "Computing fs features...\n",
      "Current batch in main thread: 6498\n",
      "Current batch in main thread: 14079\n",
      "Computing wv features...\n",
      "Current batch in main thread: 6498\n",
      "Current batch in main thread: 14079\n",
      "CPU times: user 4.14 s, sys: 440 ms, total: 4.58 s\n",
      "Wall time: 48.6 s\n"
     ]
    }
   ],
   "source": [
    "%%time\n",
    "test_wvec, test_fvec = extract_features_for(test_df)"
   ]
  },
  {
   "cell_type": "code",
   "execution_count": 90,
   "metadata": {
    "collapsed": true
   },
   "outputs": [],
   "source": [
    "tpa = pd.DataFrame(topic2actual.items(), columns=['topics', 'actual'])\n",
    "tpa['wv'] = transform_word2vec(tpa.actual.map(lambda x: ' '.join(x)))\n",
    "tpa['fs'] = transform_fasttext(tpa.actual.map(lambda x: ' '.join(x)))\n",
    "unseen_topics2vec = tpa[tpa.topics.isin(unseen_topics)]\n",
    "unseen_topics2vec = unseen_topics2vec.set_index('topics')"
   ]
  },
  {
   "cell_type": "code",
   "execution_count": 91,
   "metadata": {
    "collapsed": true
   },
   "outputs": [],
   "source": [
    "null_index = test_wvec[test_wvec.isnull()].index\n",
    "if any(null_index):\n",
    "    test_wvec.ix[null_index] = [[0] * wvmodel.vector_size] * 3\n",
    "    \n",
    "null_index = test_fvec[test_fvec.isnull()].index\n",
    "if any(null_index):\n",
    "    test_fvec.ix[null_index] = [[0] * fsmodel.dim] * 3"
   ]
  },
  {
   "cell_type": "code",
   "execution_count": 92,
   "metadata": {
    "scrolled": true
   },
   "outputs": [
    {
     "name": "stdout",
     "output_type": "stream",
     "text": [
      "CPU times: user 28 ms, sys: 4 ms, total: 32 ms\n",
      "Wall time: 29.9 ms\n"
     ]
    }
   ],
   "source": [
    "%%time\n",
    "sim = cosine_similarity(\n",
    "    np.vstack(test_fvec),\n",
    "    np.vstack(unseen_topics2vec.fs),\n",
    ")\n",
    "\n",
    "for i, j in enumerate(sim.argmax(axis=0)):\n",
    "    print i, unseen_topics2vec.index[i], j"
   ]
  },
  {
   "cell_type": "code",
   "execution_count": 93,
   "metadata": {},
   "outputs": [
    {
     "name": "stdout",
     "output_type": "stream",
     "text": [
      "0 berlinchristmasmarketattack 7489\n",
      "1 munichshooting 6254\n",
      "2 bastilledaytruckattack 78\n",
      "3 brusselsattacks 518\n",
      "4 activism 396\n",
      "5 peaceandreconciliation 6853\n",
      "6 parisattacks 5204\n",
      "7 orlandoterrorattack 518\n",
      "8 francetrainattack 3187\n",
      "9 zikavirus 4489\n",
      "10 charliehebdoattack 45\n",
      "11 turkeycoupattempt 3585\n",
      "12 sanbernardinoshooting 2958\n",
      "13 tunisiaattack2015 518\n"
     ]
    }
   ],
   "source": [
    "for i, j in enumerate(sim.argmax(axis=0)):\n",
    "    print i, unseen_topics2vec.index[i], j"
   ]
  },
  {
   "cell_type": "code",
   "execution_count": 154,
   "metadata": {
    "collapsed": true,
    "scrolled": true
   },
   "outputs": [],
   "source": [
    "from gensim.corpora import Dictionary\n",
    "from gensim.models import tfidfmodel\n",
    "from gensim.similarities import MatrixSimilarity"
   ]
  },
  {
   "cell_type": "code",
   "execution_count": 133,
   "metadata": {},
   "outputs": [
    {
     "name": "stdout",
     "output_type": "stream",
     "text": [
      "CPU times: user 4.33 s, sys: 56 ms, total: 4.39 s\n",
      "Wall time: 4.36 s\n"
     ]
    }
   ],
   "source": [
    "%%time\n",
    "dictionary = Dictionary(test_transformed_text.str.split())\n",
    "dictionary.id2token = {j: i for i, j in dictionary.token2id.items()}\n",
    "\n",
    "%%time\n",
    "corpus = [dictionary.doc2bow(i) for i in test_transformed_text.str.split()]\n",
    "\n",
    "%%time\n",
    "tfidf = tfidfmodel.TfidfModel(corpus)"
   ]
  },
  {
   "cell_type": "code",
   "execution_count": 138,
   "metadata": {},
   "outputs": [
    {
     "name": "stdout",
     "output_type": "stream",
     "text": [
      "CPU times: user 3.32 s, sys: 112 ms, total: 3.43 s\n",
      "Wall time: 3.38 s\n"
     ]
    }
   ],
   "source": [
    "%%time\n",
    "corpus = [dictionary.doc2bow(i) for i in test_transformed_text.str.split()]"
   ]
  },
  {
   "cell_type": "code",
   "execution_count": 139,
   "metadata": {},
   "outputs": [
    {
     "name": "stdout",
     "output_type": "stream",
     "text": [
      "CPU times: user 428 ms, sys: 24 ms, total: 452 ms\n",
      "Wall time: 391 ms\n"
     ]
    }
   ],
   "source": [
    "%%time\n",
    "tfidf = tfidfmodel.TfidfModel(corpus)"
   ]
  },
  {
   "cell_type": "code",
   "execution_count": 184,
   "metadata": {},
   "outputs": [
    {
     "name": "stdout",
     "output_type": "stream",
     "text": [
      "CPU times: user 15.4 s, sys: 352 ms, total: 15.8 s\n",
      "Wall time: 18.9 s\n"
     ]
    }
   ],
   "source": [
    "%%time\n",
    "test_tfdifwvec = transform_tfidf_word2vec(test_transformed_text)\n",
    "\n",
    "null_index = test_tfdifwvec[test_tfdifwvec.isnull()].index\n",
    "if any(null_index):\n",
    "    test_tfdifwvec.ix[null_index] = [[0] * wvmodel.vector_size] * 3"
   ]
  },
  {
   "cell_type": "code",
   "execution_count": 195,
   "metadata": {
    "scrolled": true
   },
   "outputs": [
    {
     "name": "stdout",
     "output_type": "stream",
     "text": [
      "0 berlinchristmasmarketattack 7489\n",
      "1 munichshooting 2129\n",
      "2 bastilledaytruckattack 6128\n",
      "3 brusselsattacks 3300\n",
      "4 activism 6796\n",
      "5 peaceandreconciliation 6853\n",
      "6 parisattacks 3514\n",
      "7 orlandoterrorattack 5885\n",
      "8 francetrainattack 1246\n",
      "9 zikavirus 4489\n",
      "10 charliehebdoattack 45\n",
      "11 turkeycoupattempt 6163\n",
      "12 sanbernardinoshooting 1167\n",
      "13 tunisiaattack2015 805\n",
      "CPU times: user 80 ms, sys: 36 ms, total: 116 ms\n",
      "Wall time: 269 ms\n"
     ]
    }
   ],
   "source": [
    "%%time\n",
    "sim = cosine_similarity(\n",
    "    np.vstack(test_tfdifwvec),\n",
    "    np.vstack(transform_tfidf_word2vec(unseen_topics2vec.actual.map(lambda x: ' '.join(x)))),\n",
    ")\n",
    "\n",
    "for i, j in enumerate(sim.argmax(axis=0)):\n",
    "    print i, unseen_topics2vec.index[i], j"
   ]
  },
  {
   "cell_type": "code",
   "execution_count": 241,
   "metadata": {},
   "outputs": [
    {
     "data": {
      "text/plain": [
       "array([7489, 3681, 7491, 6267, 4253, 2487, 7490, 7513, 2441, 6818, 6820,\n",
       "       6892, 7503, 7521, 7535, 3233, 4159, 4166, 7493, 7544, 4183, 6297,\n",
       "       1032, 7574, 3473, 1121, 6268, 7494, 1757, 7549, 6223, 4178, 6592,\n",
       "       6319, 7148, 4031, 5159, 7497, 4117,   16, 4122, 4264, 5068, 7515,\n",
       "       6275, 5279, 5561, 3066,  492, 2297])"
      ]
     },
     "execution_count": 241,
     "metadata": {},
     "output_type": "execute_result"
    }
   ],
   "source": [
    "sim[:, 0].argsort()[::-1][:50]"
   ]
  },
  {
   "cell_type": "code",
   "execution_count": 240,
   "metadata": {},
   "outputs": [
    {
     "data": {
      "text/plain": [
       "array([ 0.6800879 ,  0.68005754,  0.67043153,  0.66684164,  0.66186854,\n",
       "        0.64642356,  0.64510033,  0.64174383,  0.64172735,  0.63701938,\n",
       "        0.6367818 ,  0.6356611 ,  0.63448659,  0.63333548,  0.63300472,\n",
       "        0.63291737,  0.63180659,  0.62803853,  0.62801635,  0.62676484,\n",
       "        0.62635928,  0.62551549,  0.62338105,  0.62269482,  0.62196284,\n",
       "        0.62180046,  0.62167733,  0.62059868,  0.61993994,  0.61847115,\n",
       "        0.61727401,  0.6170171 ,  0.61660353,  0.61580356,  0.61552269,\n",
       "        0.61528071,  0.61422024,  0.61406879,  0.61374389,  0.61350205,\n",
       "        0.61338447,  0.61201894,  0.61177827,  0.611455  ,  0.61139836,\n",
       "        0.61095171,  0.61090377,  0.6105257 ,  0.61028394,  0.61000594])"
      ]
     },
     "execution_count": 240,
     "metadata": {},
     "output_type": "execute_result"
    }
   ],
   "source": [
    "sim[:, 0][sim[:, 0].argsort()[::-1][:50]]"
   ]
  },
  {
   "cell_type": "code",
   "execution_count": 254,
   "metadata": {
    "scrolled": true
   },
   "outputs": [
    {
     "data": {
      "text/plain": [
       "u'Berlin police are investigating a \\u201cpresumed terrorist attack\\u201d after at least 12 people were killed and about 50 injured when a truck ploughed into a Christmas market in the city on Monday evening. They are interrogating a suspect \\u2013 thought to be the driver \\u2013 who was arrested 2km from the scene and are working on the assumption the black Scania articulated truck was deliberately driven into the busy market in Breitscheidplatz. The truck had a runup of about 80 metres before crashing into market stalls and shoppers outside Kaiser Wilhelm memorial church, at about 8pm. A man found in the truck was ruled out by police as the driver at the time of the attack. He died as a result of the crash and was later identified as a Polish citizen. The Polish delivery company that owned the vehicle said it lost touch with the driver at 4pm local time after it left the country for Berlin. Owner Ariel Zurawki said he feared the vehicle, driven by his cousin, might have been hijacked. He told the Polish news outlet TVN24: \\u201cThey must have done something to my driver.\\u201d Doctors treating patients at the scene and in clinics across Berlin reported a high number of fractures and internal injuries \\u2013 including bleeding and damaged organs. One doctor said operations would be going on through the night with many of the injured in a life-threatening state so off-duty doctors across Berlin were being brought in. A witness told the Guardian the truck hit the market at speed. \\u201cIt was not an accident. The truck was going 40mph. It was in the middle of a square, there are main roads either side, [where it could have come from]. But it showed no sign of slowing down,\\u201d said Emma Rushton, a British tourist. She said it crashed into a stall only a few feet from where she and her friend were standing. \\u201cWe heard a massive bang. About eight to 10 feet in front of us was where the lorry ploughed through. It ploughed through the stall where we bought our mulled wine. \\u201cIt ploughed through people and the wooden huts, it tore the lights down. Everything went dark, it was black and there was screaming. It was awful,\\u201d she said. Rushton said they did not know if the incident was over once the truck stopped, so they stayed still. \\u201cThe people in the huts were under it but they were pulled out and they were fine. We didn\\u2019t know if something else was coming. \\u201cWe walked where the lorry had ploughed through and saw injured people and blood. We saw 10 to 12 people.\\u201d Another witness, Mike Fox, told the Associated Press that the truck missed him by about three metres as it drove into the market, tearing through tables and market stalls. \\u201cIt was definitely deliberate,\\u201d said the tourist from Birmingham. He said he helped people who appeared to have broken limbs and that others were trapped under Christmas stands. The incident was reminiscent of the Nice truck attack in July, when a Tunisian-born French resident, Mohamed Lahouaiej-Bouhlel, drove a 19-tonne vehicle down the city\\u2019s Promenade des Anglais into a crowd that had gathered for a Bastille Day firework display, killing 86 people and injuring hundreds. French authorities said that Lahouaiej-Bouhlel had been inspired by Isis propaganda but no evidence had been found that Isis orchestrated the attack. The German interior minister, Thomas de Maizi\\xe8re, said in the hours after the attack the evidence had not yet made it clear that it was deliberate, though it was likely to have been one. \\u201cWe don\\u2019t yet have anything conclusive regarding the circumstances and the course of events ... I don\\u2019t want to use the word \\u2018attack\\u2019 yet although a lot points to that,\\u201d he told ARD public television. The US president-elect, Donald Trump, said it was a terror attack and blamed \\u201cIslamist terrorists\\u201d. He said: \\u201cOur hearts and prayers are with the loved ones of the victims of today\\u2019s horrifying terror attack in Berlin. Innocent civilians were murdered in the streets as they prepared to celebrate the Christmas holiday. \\u201cIsis and other Islamist terrorists continually slaughter Christians in their communities and places of worship as part of their global jihad. These terrorists and their regional and worldwide networks must be eradicated from the face of the Earth, a mission we will carry out with all freedom-loving partners.\\u201d Trump did not cite evidence to back his claims, which were made before Berlin police made their statement. . The incident in Breitscheidplatz, one of Berlin\\u2019s busiest shopping areas, comes less than a month after the US state department called for caution in markets and other public places, saying extremist groups including Islamic State and al-Qaida were focusing \\u201con the upcoming holiday season and associated events\\u201d. A German government spokesman said Angela Merkel, the German chancellor, was being briefed by De Maizi\\xe8re, and Berlin\\u2019s mayor, Michael M\\xfcller. De Maizi\\xe8re told reporters: \\u201cMy thoughts are with the relatives of the victims and those injured in this terrible incident. I am in constant contact with the security forces in Berlin and have offered them every possible assistance from the federal police.\\u201d Wolfgang Bosbach, an MP with the Christian Democratic Union, Merkel\\u2019s party, said: \\u201cAlthough there is a host of unanswered questions, indications are it was a deliberate attack, carried out not just with the greatest brutality and disastrous consequences but also with a deliberate symbolism. Just a few days before Christmas, in the middle of the German capital and amidst happy, peaceful people. The message is clear: no matter where, no matter how, we can pounce at any time.\\u201d M\\xfcller said: \\u201cWhat we\\u2019re seeing here is dramatic and a shock to us all. We hope that our fears that this is an attack won\\u2019t prove true. Our thoughts are with the families of the injured and dead.\\u201d The White House said the incident \\u201cappears to have been a terrorist attack\\u201d. Its national security council spokesman, Ned Price, said the US condemned the attack \\u201cin the strongest terms\\u201d. The US interior ministry also issued a heightened warning for its citizens throughout Europe. The lorry is believed to have been loaded with steel when it left for Berlin, which \\u2013 according to transport experts \\u2013 would have made it more deadly. Police called the scene \\u201cdevastating\\u201d and said they had considered that Christmas markets were at risk of being targeted by terrorists for some time. Officers said the lorry came from the direction of Budapester Strasse, over the pavement, before coming to a halt by a Christmas tree in front of the church. Known locally as the jagged tooth, the church was bombed in the second world war, and left more or less in its ruined state as a memorial to the victims of the war. It is one of the most popular tourist sites in Berlin, and very close to the Berlin zoo. Police cleared the area and volunteers set up an information point for relatives looking for news of missing loved ones. The Christmas market was cleared and a police spokesman said there were concerns the crash might have caused a gas leak. Morgenpost newspaper posted a photograph online, showing damaged tables and stalls, and footage of a truck at the scene and police officers investigating. Sven Gerling, a spokesman for the Berlin fire service, said: \\u201cAt about 8pm, we saw a tragic accident happen here on Breitscheidplatz. A lorry drove through the crowds of people. There are many people injured, many seriously injured ... People have been killed. \\u201cWe are at the scene with a large number of vehicles, the police are too. We are now going to ascertain the deaths, and look after the many injured. There are several resuscitations still going on. We are trying to save a number of lives.\\u201d'"
      ]
     },
     "execution_count": 254,
     "metadata": {},
     "output_type": "execute_result"
    }
   ],
   "source": [
    "test_df.iloc[7490].bodyText"
   ]
  },
  {
   "cell_type": "code",
   "execution_count": 253,
   "metadata": {
    "scrolled": true
   },
   "outputs": [
    {
     "data": {
      "text/plain": [
       "u'Violent protests at Trump rally in California With the tenor of the general election campaign now clearly defined, Hillary Clinton delivered a stinging rebuke to Donald Trump\\u2019s claim to understand international affairs on Thursday. Trump, meanwhile, described Clinton\\u2019s clear-headed foreign policy address \\u2013 in which she described him as too unstable to be trusted with nuclear launch codes and warned he would take the country down a \\u201ctruly dangerous path\\u201d \\u2013 as \\u201cpathetic\\u201d and said she should be in jail. Violence later erupted at a Trump rally in California. Reports from San Jose described anti-Trump demonstrators chasing \\u2013 and in some cases punching and attacking \\u2013 departing Trump supporters, some of whom appeared intent on provoking and fighting. Riot police were deployed to control the crowd. The mayor of San Jose, Sam Liccardo, blamed Trump. \\u201cWe don\\u2019t appreciate [anyone] utilizing campaign tactics of demagoguery,\\u201d he said. Meanwhile, Trump has stepped up his race-tinged attacks against the judge in a court case over Trump University, accusing Gonzalo Curiel of a \\u201cconflict of interest\\u201d because of his Mexican heritage. Protesters attack Trump supporters after San Jose speech striking back at Clinton Philadelphia faces lawsuit over water testing The city is facing legal action over water test practices that may lead to underestimates of lead levels in municipal water supplies. Following a Guardian investigation that showed how 33 cities across 17 states have used problematic testing methods, the Philadelphia water department, accused by some experts of having water testing \\u201cworse than Flint\\u201d, is now facing a class action lawsuit. \\u201cThe kind of construction the city is carrying out creates the perfect storm for lead pipe corrosion,\\u201d claims attorney Steve Berman. \\u201cYet the city has decided to conceal this growing health hazard from its own citizens.\\u201d Philadelphia water department faces class action lawsuit over water testing Missing Japanese boy found Six days after his parents left him at the edge of a bear-inhabited forest as punishment for throwing stones at cars and people, seven-year-old Yamato Tanooka has been found. Tanooka was located by chance by military personnel in a hut on one of its exercise areas, three miles from where he is believed to have gone missing. A doctor who examined him after his ordeal in Hokkaido, Japan\\u2019s northernmost island, said: \\u201cHe was incredibly calm considering he had been missing for seven days. He didn\\u2019t panic at all.\\u201d After being reunited, his father \\u2013 who acknowledges he took disciplinary action too far \\u2013 said he\\u2019d apologised for creating \\u201csuch an awful memory for him\\u201d. Yamato Tanooka: missing Japanese boy found alive after six nights in forest Prince\\u2019s medical report confirms drug overdose The Midwest medical examiner\\u2019s office has found that the 57-year-old singer, found dead at his suburban Minneapolis compound on 21 April, was killed by an overdose of Fentanyl, a powerful synthetic opiate. The fatal dose was self-administered, medical examiner A Quinn Strobl confirmed. The report provided few further details and did not describe how Prince obtained Fentanyl, a quick-acting painkiller used by anesthesiologists and often associated with overdose deaths among long-term users of opiate drugs. Investigators are still looking into whether the singer had a prescription drug problem, but friends and family members have expressed surprise at this outcome: they say Prince avoided alcohol and drugs and maintained a healthy lifestyle. Tests confirm Prince died of opioid overdose, says medical examiner Universe expanding faster than thought New measurements taken by the Hubble space telescope suggest the universe is expanding 9% faster than previously thought. The finding, announced by Nasa and the European Space Agency, was made by using the telescope to measure the distance to stars in 19 galaxies beyond the Milky Way. The discovery could test part of Albert Einstein\\u2019s theory of relativity and raises new questions about the amount and characteristics of dark matter in the universe. Physicist and lead author Adam Riess said: \\u201cThe ends are not quite meeting in the middle and we want to know why.\\u201d Universe is expanding up to 9% faster than we thought, say scientists Five soldiers dead in Texas as floods intensify An army tactical vehicle carrying a dozen soldiers has overturned in flood conditions at Fort Hood in Texas. Five soldiers were confirmed dead, four were still missing and three were rescued after floods caused by extreme rains washed their light medium tactical vehicle from a low-water crossing and overturned it. The army has not released the names of the dead because it is still notifying relatives. Rain and flooding in the region are expected to worsen through Saturday, with up to 10 inches of rain pushing rivers and other waterways up over already record levels. Three soldiers dead and six missing after army truck overturns in Texas creek Judge chastised for \\u2018complete disregard for the law\\u2019 More than 100 defense attorneys have joined a complaint about the high-handed behavior of Las Vegas judge Conrad Hafen, whose courtroom antics have included placing public defender Zohra Bakhtary in handcuffs \\u201cto teach her a lesson\\u201d. The complaint claims that Judge Hafen\\u2019s mercurial rulings have on several occasions deprived people of proper defense hearings and resulted in unnecessary jail time. Judge who handcuffed public defender to teach a \\u2018lesson\\u2019 gets own chastising Muslim, gay and devout Torontonian Samra Habib describes how she once felt she had no right to call herself a Muslim because she\\u2019s queer and doesn\\u2019t wear a hijab. Though she did not attend a mosque, she maintained a private relationship with Allah, she writes. Then she found Toronto\\u2019s Unity mosque, one of a handful of prayer spaces that welcome queer Muslims. Founder El-Farouk Khaki says the notion of an inclusive mosque space that\\u2019s gender-equal and queer-affirming has fired up people\\u2019s imagination. \\u201cEverybody is welcome. People are embraced in the fullness of their authenticity\\u201d. Queer and going to the mosque: \\u2018I\\u2019ve never felt more Muslim than I do now\\u2019 US cyclist to skip Olympics over Zika fears Tejay van Garderen has withdrawn from the Rio games over concern that the mosquito-borne Zika virus could pose problems for his pregnant wife. This comes after Australian tennis player Nick Kyrgios also said he would not attend. Van Garderen competed in the road race at the 2012 Olympics. \\u201cAlthough the risks associated with the Zika virus can be minimal and precautions can be taken, my wife Jessica is pregnant, and I don\\u2019t want to risk bringing anything back that could potentially have an effect,\\u201d Van Garderen explained. USA cyclist Tejay van Garderen withdraws from Olympics over Zika virus And another thing \\u2026 A group of four young Canadians who front a clothing and entertainment company called High on Life are wanted by authorities in Wyoming after images on social media showed them going off trail and splashing in a hot spring in Yellowstone national park. This comes after a series of stunts the group has staged across a string of \\u201cnational treasures\\u201d including wake-boarding on the Bonneville Salt Flats and swinging on a rope from Corona Arch in Utah. Getting \\u2018High on Life\\u2019 lands Canadian men in hot water for Yellowstone stunt'"
      ]
     },
     "execution_count": 253,
     "metadata": {},
     "output_type": "execute_result"
    }
   ],
   "source": [
    "test_df[test_df.bodyText.str.contains('Zika')].bodyText.iloc[2]"
   ]
  },
  {
   "cell_type": "code",
   "execution_count": 245,
   "metadata": {},
   "outputs": [
    {
     "name": "stderr",
     "output_type": "stream",
     "text": [
      "/home/avsolatorio/ml-ai/local/lib/python2.7/site-packages/sklearn/utils/validation.py:395: DeprecationWarning: Passing 1d arrays as data is deprecated in 0.17 and will raise ValueError in 0.19. Reshape your data either using X.reshape(-1, 1) if your data has a single feature or X.reshape(1, -1) if it contains a single sample.\n",
      "  DeprecationWarning)\n"
     ]
    }
   ],
   "source": [
    "ssim = cosine_similarity(\n",
    "    np.vstack(test_tfdifwvec)[4489],\n",
    "    np.vstack(test_tfdifwvec),\n",
    ")"
   ]
  },
  {
   "cell_type": "code",
   "execution_count": 250,
   "metadata": {},
   "outputs": [
    {
     "data": {
      "text/plain": [
       "array([4489, 7543, 4760, 4881,  471, 5557,  373,  824, 4456, 4549,  352,\n",
       "        469,  749, 1906, 1092, 6609, 2255,  950, 2888, 1512])"
      ]
     },
     "execution_count": 250,
     "metadata": {},
     "output_type": "execute_result"
    }
   ],
   "source": [
    "ssim.argsort()[0][::-1][:20]"
   ]
  },
  {
   "cell_type": "code",
   "execution_count": 252,
   "metadata": {},
   "outputs": [
    {
     "data": {
      "text/plain": [
       "['activism',\n",
       " 'afghanistan',\n",
       " 'aid',\n",
       " 'algerianhostagecrisis',\n",
       " 'alqaida',\n",
       " 'alshabaab',\n",
       " 'antiwar',\n",
       " 'arabandmiddleeastprotests',\n",
       " 'armstrade',\n",
       " 'australianguncontrol',\n",
       " 'australiansecurityandcounterterrorism',\n",
       " 'bastilledaytruckattack',\n",
       " 'belgium',\n",
       " 'berlinchristmasmarketattack',\n",
       " 'bigdata',\n",
       " 'biometrics',\n",
       " 'bokoharam',\n",
       " 'bostonmarathonbombing',\n",
       " 'britisharmy',\n",
       " 'brusselsattacks',\n",
       " 'cameroon',\n",
       " 'carers',\n",
       " 'charliehebdoattack',\n",
       " 'chemicalweapons',\n",
       " 'clusterbombs',\n",
       " 'cobra',\n",
       " 'conflictanddevelopment',\n",
       " 'controversy',\n",
       " 'criminaljustice',\n",
       " 'cybercrime',\n",
       " 'cyberwar',\n",
       " 'darknet',\n",
       " 'dataprotection',\n",
       " 'debate',\n",
       " 'defence',\n",
       " 'deflation',\n",
       " 'drones',\n",
       " 'drugs',\n",
       " 'drugspolicy',\n",
       " 'drugstrade',\n",
       " 'earthquakes',\n",
       " 'ebola',\n",
       " 'economy',\n",
       " 'egypt',\n",
       " 'encryption',\n",
       " 'energy',\n",
       " 'espionage',\n",
       " 'ethics',\n",
       " 'europeanarrestwarrant',\n",
       " 'europeancourtofhumanrights',\n",
       " 'events',\n",
       " 'extradition',\n",
       " 'famine',\n",
       " 'farright',\n",
       " 'firefighters',\n",
       " 'forensicscience',\n",
       " 'france',\n",
       " 'francetrainattack',\n",
       " 'freedomofspeech',\n",
       " 'genevaconventions',\n",
       " 'germany',\n",
       " 'guncrime',\n",
       " 'hacking',\n",
       " 'hashtags',\n",
       " 'helicoptercrashes',\n",
       " 'humanitarianresponse',\n",
       " 'humanrights',\n",
       " 'humanrightsact',\n",
       " 'humantrafficking',\n",
       " 'immigration',\n",
       " 'india',\n",
       " 'indonesia',\n",
       " 'internallydisplacedpeople',\n",
       " 'internationalcourtofjustice',\n",
       " 'internationalcriminaljustice',\n",
       " 'internetsafety',\n",
       " 'iraq',\n",
       " 'isis',\n",
       " 'israel',\n",
       " 'jordan',\n",
       " 'jubilee',\n",
       " 'judiciary',\n",
       " 'july7',\n",
       " 'justiceandsecurity',\n",
       " 'kenya',\n",
       " 'knifecrime',\n",
       " 'lebanon',\n",
       " 'libya',\n",
       " 'localgovernment',\n",
       " 'logistics',\n",
       " 'london',\n",
       " 'londonriots',\n",
       " 'malaysia',\n",
       " 'mali',\n",
       " 'malware',\n",
       " 'metropolitanpolice',\n",
       " 'middleeastpeacetalks',\n",
       " 'migration',\n",
       " 'military',\n",
       " 'ministryofdefence',\n",
       " 'morocco',\n",
       " 'mrsa',\n",
       " 'mumbaiterrorattacks',\n",
       " 'munichshooting',\n",
       " 'naturaldisasters',\n",
       " 'nigeria',\n",
       " 'nuclearweapons',\n",
       " 'occupy',\n",
       " 'organisedcrime',\n",
       " 'orlandoterrorattack',\n",
       " 'osamabinladen',\n",
       " 'paris',\n",
       " 'parisattacks',\n",
       " 'peaceandreconciliation',\n",
       " 'philippines',\n",
       " 'piracy',\n",
       " 'planecrashes',\n",
       " 'police',\n",
       " 'protest',\n",
       " 'refugees',\n",
       " 'religion',\n",
       " 'retirementage',\n",
       " 'rio20earthsummit',\n",
       " 'royalairforce',\n",
       " 'royalnavy',\n",
       " 'russia',\n",
       " 'sanbernardinoshooting',\n",
       " 'saudiarabia',\n",
       " 'september11',\n",
       " 'slavery',\n",
       " 'somalia',\n",
       " 'southafrica',\n",
       " 'southchinasea',\n",
       " 'stopandsearch',\n",
       " 'surveillance',\n",
       " 'sydneysiege',\n",
       " 'syria',\n",
       " 'taliban',\n",
       " 'terrorism',\n",
       " 'thailand',\n",
       " 'torture',\n",
       " 'traincrashes',\n",
       " 'transport',\n",
       " 'tunisiaattack2015',\n",
       " 'turkey',\n",
       " 'turkeycoupattempt',\n",
       " 'ukcrime',\n",
       " 'uksecurity',\n",
       " 'uksupremecourt',\n",
       " 'undercoverpoliceandpolicing',\n",
       " 'unitednations',\n",
       " 'usguncontrol',\n",
       " 'values',\n",
       " 'warcrimes',\n",
       " 'warreporting',\n",
       " 'weaponstechnology',\n",
       " 'womeninbusiness',\n",
       " 'woolwichattack',\n",
       " 'worldmigration',\n",
       " 'zikavirus']"
      ]
     },
     "execution_count": 252,
     "metadata": {},
     "output_type": "execute_result"
    }
   ],
   "source": [
    "topics"
   ]
  },
  {
   "cell_type": "code",
   "execution_count": null,
   "metadata": {
    "collapsed": true
   },
   "outputs": [],
   "source": []
  }
 ],
 "metadata": {
  "kernelspec": {
   "display_name": "Python 2",
   "language": "python",
   "name": "python2"
  },
  "language_info": {
   "codemirror_mode": {
    "name": "ipython",
    "version": 2
   },
   "file_extension": ".py",
   "mimetype": "text/x-python",
   "name": "python",
   "nbconvert_exporter": "python",
   "pygments_lexer": "ipython2",
   "version": "2.7.12"
  }
 },
 "nbformat": 4,
 "nbformat_minor": 2
}
