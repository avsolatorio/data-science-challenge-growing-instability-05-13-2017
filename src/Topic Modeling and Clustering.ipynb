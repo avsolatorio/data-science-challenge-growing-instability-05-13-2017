{
 "cells": [
  {
   "cell_type": "code",
   "execution_count": 2,
   "metadata": {
    "collapsed": true
   },
   "outputs": [],
   "source": [
    "import warnings; warnings.filterwarnings('ignore')"
   ]
  },
  {
   "cell_type": "code",
   "execution_count": 3,
   "metadata": {},
   "outputs": [
    {
     "name": "stderr",
     "output_type": "stream",
     "text": [
      "Using TensorFlow backend.\n"
     ]
    }
   ],
   "source": [
    "from growing_instability_lib import *"
   ]
  },
  {
   "cell_type": "code",
   "execution_count": 4,
   "metadata": {},
   "outputs": [
    {
     "data": {
      "text/plain": [
       "160"
      ]
     },
     "execution_count": 4,
     "metadata": {},
     "output_type": "execute_result"
    }
   ],
   "source": [
    "sample_sub = pd.read_csv('../data/sampleSubmission.csv')\n",
    "topics = sorted(set(sample_sub.columns.difference(['id'])))\n",
    "\n",
    "topic2actual = {}\n",
    "for i in sample_sub.columns:\n",
    "    if 'id' == i:\n",
    "        continue\n",
    "    topic2actual[i] = segment(i)\n",
    "    \n",
    "target_columns = sorted(topics)\n",
    "len(topics)"
   ]
  },
  {
   "cell_type": "code",
   "execution_count": null,
   "metadata": {
    "collapsed": true
   },
   "outputs": [],
   "source": []
  },
  {
   "cell_type": "code",
   "execution_count": 5,
   "metadata": {
    "collapsed": true
   },
   "outputs": [],
   "source": [
    "from gensim.models.tfidfmodel import TfidfModel\n",
    "from gensim.models.lsimodel import LsiModel\n",
    "from gensim.corpora import Dictionary\n",
    "\n",
    "dictionary = TfidfModel.load('corpus/train_body_data-with_labels_False-retain_special_chars_False.with_test_data.csv.dictionary')\n",
    "tfidf = TfidfModel.load('corpus/train_body_data-with_labels_False-retain_special_chars_False.with_test_data.csv.tfidf')\n",
    "lsi = LsiModel.load('corpus/train_body_data-with_labels_False-retain_special_chars_False.with_test_data.csv.lsi')"
   ]
  },
  {
   "cell_type": "code",
   "execution_count": 6,
   "metadata": {
    "collapsed": true
   },
   "outputs": [],
   "source": [
    "wvmodel = Word2Vec.load('corpus/train_body_data-with_labels_False-retain_special_chars_False.with_test_data.csv.w2v.model')"
   ]
  },
  {
   "cell_type": "code",
   "execution_count": 7,
   "metadata": {
    "collapsed": true
   },
   "outputs": [],
   "source": [
    "fsmodel = fasttext.load_model('corpus/train_body_data-with_labels_False-retain_special_chars_False.with_test_data.csv.fasttext.model.bin')"
   ]
  },
  {
   "cell_type": "code",
   "execution_count": 8,
   "metadata": {
    "scrolled": true
   },
   "outputs": [
    {
     "data": {
      "text/plain": [
       "{'activism': ['activism'],\n",
       " 'afghanistan': ['afghanistan'],\n",
       " 'aid': ['aid'],\n",
       " 'algerianhostagecrisis': ['algerian', 'hostage', 'crisis'],\n",
       " 'alqaida': ['al', 'qaida'],\n",
       " 'alshabaab': ['al', 'shaba', 'ab'],\n",
       " 'antiwar': ['antiwar'],\n",
       " 'arabandmiddleeastprotests': ['arab', 'and', 'middle', 'east', 'protests'],\n",
       " 'armstrade': ['arms', 'trade'],\n",
       " 'australianguncontrol': ['australian', 'gun', 'control'],\n",
       " 'australiansecurityandcounterterrorism': ['australian',\n",
       "  'security',\n",
       "  'and',\n",
       "  'counterterrorism'],\n",
       " 'bastilledaytruckattack': ['bastille', 'day', 'truck', 'attack'],\n",
       " 'belgium': ['belgium'],\n",
       " 'berlinchristmasmarketattack': ['berlin', 'christmas', 'market', 'attack'],\n",
       " 'bigdata': ['big', 'data'],\n",
       " 'biometrics': ['biometrics'],\n",
       " 'bokoharam': ['boko', 'haram'],\n",
       " 'bostonmarathonbombing': ['boston', 'marathon', 'bombing'],\n",
       " 'britisharmy': ['british', 'army'],\n",
       " 'brusselsattacks': ['brussels', 'attacks'],\n",
       " 'cameroon': ['cameroon'],\n",
       " 'carers': ['carers'],\n",
       " 'charliehebdoattack': ['charlie', 'hebdo', 'attack'],\n",
       " 'chemicalweapons': ['chemical', 'weapons'],\n",
       " 'clusterbombs': ['cluster', 'bombs'],\n",
       " 'cobra': ['cobra'],\n",
       " 'conflictanddevelopment': ['conflict', 'and', 'development'],\n",
       " 'controversy': ['controversy'],\n",
       " 'criminaljustice': ['criminal', 'justice'],\n",
       " 'cybercrime': ['cybercrime'],\n",
       " 'cyberwar': ['cyberwar'],\n",
       " 'darknet': ['darknet'],\n",
       " 'dataprotection': ['data', 'protection'],\n",
       " 'debate': ['debate'],\n",
       " 'defence': ['defence'],\n",
       " 'deflation': ['deflation'],\n",
       " 'drones': ['drones'],\n",
       " 'drugs': ['drugs'],\n",
       " 'drugspolicy': ['drugs', 'policy'],\n",
       " 'drugstrade': ['drugs', 'trade'],\n",
       " 'earthquakes': ['earthquakes'],\n",
       " 'ebola': ['ebola'],\n",
       " 'economy': ['economy'],\n",
       " 'egypt': ['egypt'],\n",
       " 'encryption': ['encryption'],\n",
       " 'energy': ['energy'],\n",
       " 'espionage': ['espionage'],\n",
       " 'ethics': ['ethics'],\n",
       " 'europeanarrestwarrant': ['european', 'arrest', 'warrant'],\n",
       " 'europeancourtofhumanrights': ['european', 'court', 'of', 'human', 'rights'],\n",
       " 'events': ['events'],\n",
       " 'extradition': ['extradition'],\n",
       " 'famine': ['famine'],\n",
       " 'farright': ['far', 'right'],\n",
       " 'firefighters': ['firefighters'],\n",
       " 'forensicscience': ['forensic', 'science'],\n",
       " 'france': ['france'],\n",
       " 'francetrainattack': ['france', 'train', 'attack'],\n",
       " 'freedomofspeech': ['freedom', 'of', 'speech'],\n",
       " 'genevaconventions': ['geneva', 'conventions'],\n",
       " 'germany': ['germany'],\n",
       " 'guncrime': ['gun', 'crime'],\n",
       " 'hacking': ['hacking'],\n",
       " 'hashtags': ['hash', 'tags'],\n",
       " 'helicoptercrashes': ['helicopter', 'crashes'],\n",
       " 'humanitarianresponse': ['humanitarian', 'response'],\n",
       " 'humanrights': ['human', 'rights'],\n",
       " 'humanrightsact': ['human', 'rights', 'act'],\n",
       " 'humantrafficking': ['human', 'trafficking'],\n",
       " 'immigration': ['immigration'],\n",
       " 'india': ['india'],\n",
       " 'indonesia': ['indonesia'],\n",
       " 'internallydisplacedpeople': ['internally', 'displaced', 'people'],\n",
       " 'internationalcourtofjustice': ['international', 'court', 'of', 'justice'],\n",
       " 'internationalcriminaljustice': ['international', 'criminal', 'justice'],\n",
       " 'internetsafety': ['internet', 'safety'],\n",
       " 'iraq': ['iraq'],\n",
       " 'isis': ['isis'],\n",
       " 'israel': ['israel'],\n",
       " 'jordan': ['jordan'],\n",
       " 'jubilee': ['jubilee'],\n",
       " 'judiciary': ['judiciary'],\n",
       " 'july7': ['july', '7'],\n",
       " 'justiceandsecurity': ['justice', 'and', 'security'],\n",
       " 'kenya': ['kenya'],\n",
       " 'knifecrime': ['knife', 'crime'],\n",
       " 'lebanon': ['lebanon'],\n",
       " 'libya': ['libya'],\n",
       " 'localgovernment': ['local', 'government'],\n",
       " 'logistics': ['logistics'],\n",
       " 'london': ['london'],\n",
       " 'londonriots': ['london', 'riots'],\n",
       " 'malaysia': ['malaysia'],\n",
       " 'mali': ['mali'],\n",
       " 'malware': ['malware'],\n",
       " 'metropolitanpolice': ['metropolitan', 'police'],\n",
       " 'middleeastpeacetalks': ['middle', 'east', 'peace', 'talks'],\n",
       " 'migration': ['migration'],\n",
       " 'military': ['military'],\n",
       " 'ministryofdefence': ['ministry', 'of', 'defence'],\n",
       " 'morocco': ['morocco'],\n",
       " 'mrsa': ['mrsa'],\n",
       " 'mumbaiterrorattacks': ['mumbai', 'terror', 'attacks'],\n",
       " 'munichshooting': ['munich', 'shooting'],\n",
       " 'naturaldisasters': ['natural', 'disasters'],\n",
       " 'nigeria': ['nigeria'],\n",
       " 'nuclearweapons': ['nuclear', 'weapons'],\n",
       " 'occupy': ['occupy'],\n",
       " 'organisedcrime': ['organised', 'crime'],\n",
       " 'orlandoterrorattack': ['orlando', 'terror', 'attack'],\n",
       " 'osamabinladen': ['osama', 'bin', 'laden'],\n",
       " 'paris': ['paris'],\n",
       " 'parisattacks': ['paris', 'attacks'],\n",
       " 'peaceandreconciliation': ['peace', 'and', 'reconciliation'],\n",
       " 'philippines': ['philippines'],\n",
       " 'piracy': ['piracy'],\n",
       " 'planecrashes': ['plane', 'crashes'],\n",
       " 'police': ['police'],\n",
       " 'protest': ['protest'],\n",
       " 'refugees': ['refugees'],\n",
       " 'religion': ['religion'],\n",
       " 'retirementage': ['retirement', 'age'],\n",
       " 'rio20earthsummit': ['rio20', 'earth', 'summit'],\n",
       " 'royalairforce': ['royal', 'air', 'force'],\n",
       " 'royalnavy': ['royal', 'navy'],\n",
       " 'russia': ['russia'],\n",
       " 'sanbernardinoshooting': ['san', 'bernardino', 'shooting'],\n",
       " 'saudiarabia': ['saudi', 'arabia'],\n",
       " 'september11': ['september', '11'],\n",
       " 'slavery': ['slavery'],\n",
       " 'somalia': ['somalia'],\n",
       " 'southafrica': ['south', 'africa'],\n",
       " 'southchinasea': ['south', 'china', 'sea'],\n",
       " 'stopandsearch': ['stop', 'and', 'search'],\n",
       " 'surveillance': ['surveillance'],\n",
       " 'sydneysiege': ['sydney', 'siege'],\n",
       " 'syria': ['syria'],\n",
       " 'taliban': ['taliban'],\n",
       " 'terrorism': ['terrorism'],\n",
       " 'thailand': ['thailand'],\n",
       " 'torture': ['torture'],\n",
       " 'traincrashes': ['train', 'crashes'],\n",
       " 'transport': ['transport'],\n",
       " 'tunisiaattack2015': ['tunisia', 'attack', '2015'],\n",
       " 'turkey': ['turkey'],\n",
       " 'turkeycoupattempt': ['turkey', 'coup', 'attempt'],\n",
       " 'ukcrime': ['uk', 'crime'],\n",
       " 'uksecurity': ['uk', 'security'],\n",
       " 'uksupremecourt': ['uk', 'supreme', 'court'],\n",
       " 'undercoverpoliceandpolicing': ['undercover', 'police', 'and', 'policing'],\n",
       " 'unitednations': ['united', 'nations'],\n",
       " 'usguncontrol': ['us', 'gun', 'control'],\n",
       " 'values': ['values'],\n",
       " 'warcrimes': ['war', 'crimes'],\n",
       " 'warreporting': ['war', 'reporting'],\n",
       " 'weaponstechnology': ['weapons', 'technology'],\n",
       " 'womeninbusiness': ['women', 'in', 'business'],\n",
       " 'woolwichattack': ['woolwich', 'attack'],\n",
       " 'worldmigration': ['world', 'migration'],\n",
       " 'zikavirus': ['zika', 'virus']}"
      ]
     },
     "execution_count": 8,
     "metadata": {},
     "output_type": "execute_result"
    }
   ],
   "source": [
    "topic2actual"
   ]
  },
  {
   "cell_type": "code",
   "execution_count": 9,
   "metadata": {
    "collapsed": true
   },
   "outputs": [],
   "source": [
    "manual_topics = {\n",
    "    'alshabaab': ['al', 'shabaab'],\n",
    "#     'earthquakes': ['earthquake'],\n",
    "#     'firefighters': ['firefighter'],\n",
    "    'rio20earthsummit': ['rio', '20', 'earth', 'summit'],\n",
    "    'zikavirus': ['zika']\n",
    "}\n",
    "\n",
    "topic2actual.update(manual_topics)"
   ]
  },
  {
   "cell_type": "code",
   "execution_count": 10,
   "metadata": {},
   "outputs": [
    {
     "data": {
      "text/plain": [
       "[(u'qaida', 0.7521548271179199),\n",
       " (u'shabab', 0.750149667263031),\n",
       " (u'aqim', 0.7214016914367676),\n",
       " (u'islamist', 0.7179936170578003),\n",
       " (u'boko', 0.7109889388084412),\n",
       " (u'qaeda', 0.7079288363456726),\n",
       " (u'nusra', 0.6980888843536377),\n",
       " (u'taliban', 0.6857478022575378),\n",
       " (u'somalia', 0.6842936873435974),\n",
       " (u'militants', 0.6828135251998901)]"
      ]
     },
     "execution_count": 10,
     "metadata": {},
     "output_type": "execute_result"
    }
   ],
   "source": [
    "wvmodel.most_similar('shabaab')"
   ]
  },
  {
   "cell_type": "markdown",
   "metadata": {},
   "source": [
    "# Perform exploratory unsupervised discovery of unseen topics"
   ]
  },
  {
   "cell_type": "code",
   "execution_count": 11,
   "metadata": {},
   "outputs": [
    {
     "name": "stdout",
     "output_type": "stream",
     "text": [
      "CPU times: user 1.44 s, sys: 516 ms, total: 1.96 s\n",
      "Wall time: 2.41 s\n"
     ]
    }
   ],
   "source": [
    "%%time\n",
    "# wvec_trainingX = pd.read_hdf('training_data_wv_fs_lsi_no_stopwords.hdf', 'wvec_trainingX')\n",
    "# fvec_trainingX = pd.read_hdf('training_data_wv_fs_lsi_no_stopwords.hdf', 'fvec_trainingX')\n",
    "\n",
    "# tfidf_wvec_trainingX = pd.read_hdf('training_data_wv_fs_lsi_no_stopwords.hdf', 'tfidf_wvec_trainingX')\n",
    "# tfidf_fvec_trainingX = pd.read_hdf('training_data_wv_fs_lsi_no_stopwords.hdf', 'tfidf_fvec_trainingX')\n",
    "# tfidf_lsi_trainingX = pd.read_hdf('training_data_wv_fs_lsi_no_stopwords.hdf', 'tfidf_lsi_trainingX')\n",
    "\n",
    "# word2idx_trainingX = pd.read_hdf('training_data_wv_fs_lsi_no_stopwords.hdf', 'word2idx_trainingX')\n",
    "_word2idx = pd.read_hdf('training_data_wv_fs_lsi_no_stopwords.hdf', '_word2idx')\n",
    "trainingY = pd.read_hdf('training_data_wv_fs_lsi_no_stopwords.hdf', 'trainingY')"
   ]
  },
  {
   "cell_type": "code",
   "execution_count": 12,
   "metadata": {},
   "outputs": [
    {
     "data": {
      "text/plain": [
       "activism                     NaN\n",
       "afghanistan              10032.0\n",
       "aid                       1891.0\n",
       "algerianhostagecrisis       58.0\n",
       "alqaida                   3194.0\n",
       "dtype: float64"
      ]
     },
     "execution_count": 12,
     "metadata": {},
     "output_type": "execute_result"
    }
   ],
   "source": [
    "training_topics_freq = trainingY.sum()\n",
    "training_topics_freq.head()"
   ]
  },
  {
   "cell_type": "code",
   "execution_count": 13,
   "metadata": {
    "collapsed": true
   },
   "outputs": [],
   "source": [
    "unseen_topics = set(topics).intersection(training_topics_freq.ix[training_topics_freq.isnull()].index)"
   ]
  },
  {
   "cell_type": "code",
   "execution_count": 14,
   "metadata": {},
   "outputs": [
    {
     "data": {
      "text/plain": [
       "{'activism',\n",
       " 'bastilledaytruckattack',\n",
       " 'berlinchristmasmarketattack',\n",
       " 'brusselsattacks',\n",
       " 'charliehebdoattack',\n",
       " 'francetrainattack',\n",
       " 'munichshooting',\n",
       " 'orlandoterrorattack',\n",
       " 'parisattacks',\n",
       " 'peaceandreconciliation',\n",
       " 'sanbernardinoshooting',\n",
       " 'tunisiaattack2015',\n",
       " 'turkeycoupattempt',\n",
       " 'zikavirus'}"
      ]
     },
     "execution_count": 14,
     "metadata": {},
     "output_type": "execute_result"
    }
   ],
   "source": [
    "unseen_topics"
   ]
  },
  {
   "cell_type": "code",
   "execution_count": 15,
   "metadata": {
    "collapsed": true
   },
   "outputs": [],
   "source": [
    "ind2word = {j:i for i, j in _word2idx.iteritems()}\n",
    "ind2class = dict(enumerate(topics))\n",
    "class2ind = {j: i for i, j in ind2class.items()}"
   ]
  },
  {
   "cell_type": "markdown",
   "metadata": {},
   "source": [
    "## Use idf only in tfidf weighted vectors"
   ]
  },
  {
   "cell_type": "code",
   "execution_count": 202,
   "metadata": {
    "collapsed": true
   },
   "outputs": [],
   "source": [
    "def transform_tfidf_word2vec(tokens, stopwords=[], trim=True):\n",
    "#     global wvmodel\n",
    "#     global tfidf\n",
    "    # This requires wvmodel to be present in the namespace.\n",
    "    wv_feature_vec = tokens.map(\n",
    "        lambda x: [w for w in x.split() if (w not in stopwords and w in wvmodel.wv.vocab)]\n",
    "    )\n",
    "    \n",
    "    if trim:\n",
    "        wv_feature_vec = wv_feature_vec.map(\n",
    "        lambda x: filter(lambda s: s[1] > 0.1, sorted(tfidf[dictionary.doc2bow(x)], key=lambda y: y[1], reverse=True))\n",
    "        )\n",
    "    else:\n",
    "        wv_feature_vec = wv_feature_vec.map(\n",
    "        lambda x: tfidf[dictionary.doc2bow(x)]\n",
    "        )\n",
    "        \n",
    "    wv_feature_vec = wv_feature_vec.map(\n",
    "        lambda x: np.array([wvmodel[dictionary.id2token[id]] * w for id, w in x]).mean(axis=0) if len(x) > 0 else np.nan\n",
    "    )\n",
    "\n",
    "    return wv_feature_vec\n",
    "\n",
    "\n",
    "def transform_tfidf_fasttext(tokens, stopwords=[], trim=True):\n",
    "#     global fsmodel\n",
    "#     global tfidf\n",
    "    # This requires wvmodel to be present in the namespace.\n",
    "    fs_feature_vec = tokens.map(\n",
    "        lambda x: [w for w in x.split() if (w not in stopwords)]\n",
    "    )\n",
    "    \n",
    "    if trim:\n",
    "        fs_feature_vec = fs_feature_vec.map(\n",
    "        lambda x: filter(lambda s: s[1] > 0.1, sorted(tfidf[dictionary.doc2bow(x)], key=lambda y: y[1], reverse=True))\n",
    "        )\n",
    "    else:\n",
    "        fs_feature_vec = fs_feature_vec.map(\n",
    "        lambda x: tfidf[dictionary.doc2bow(x)]\n",
    "        )\n",
    "        \n",
    "    fs_feature_vec = fs_feature_vec.map(\n",
    "        lambda x: np.array([np.array(fsmodel[dictionary.id2token[id]]) * w for id, w in x]).mean(axis=0) if len(x) > 0 else np.nan\n",
    "    )\n",
    "\n",
    "    return fs_feature_vec\n",
    "\n",
    "\n",
    "def build_lsi_vector(x, trim=True):\n",
    "    v = np.zeros(lsi.num_topics)\n",
    "    if trim:\n",
    "        corpus = filter(lambda s: s[1] > 0.1, sorted(tfidf[dictionary.doc2bow(x)], key=lambda y: y[1], reverse=True))\n",
    "    else:\n",
    "        corpus = tfidf[dictionary.doc2bow(x)]\n",
    "\n",
    "    for ix, vv in lsi[corpus]:\n",
    "        v[ix] = vv\n",
    "\n",
    "    return v\n",
    "\n",
    "\n",
    "def transform_tfidf_lsi(tokens, stopwords=[], trim=True):\n",
    "#     global fsmodel\n",
    "#     global tfidf\n",
    "    # This requires wvmodel to be present in the namespace.\n",
    "    lsi_feature_vec = tokens.map(\n",
    "        lambda x: [w for w in x.split() if (w not in stopwords)]\n",
    "    ).map(\n",
    "        lambda x: build_lsi_vector(x, trim) if len(x) > 0 else np.nan\n",
    "    )\n",
    "\n",
    "    return lsi_feature_vec\n",
    "\n",
    "\n",
    "def transform_fasttext(tokens, stopwords=[]):\n",
    "    global fsmodel\n",
    "    # This requires fsmodel to be present in the namespace.\n",
    "    fs_feature_vec = tokens.map(\n",
    "        lambda x: [w for w in x.split() if (w not in stopwords)]\n",
    "    ).map(lambda x: np.array([fsmodel[w] for w in x]).mean(axis=0) if len(x) > 0 else np.nan)\n",
    "\n",
    "    return fs_feature_vec\n",
    "\n",
    "\n",
    "def transform_word2vec(tokens, stopwords=[]):\n",
    "    global wvmodel\n",
    "    # This requires wvmodel to be present in the namespace.\n",
    "    wv_feature_vec = tokens.map(\n",
    "        lambda x: [w for w in x.split() if (w not in stopwords and w in wvmodel.wv.vocab)]\n",
    "    ).map(lambda x: np.array([wvmodel[w] for w in x]).mean(axis=0) if len(x) > 0 else np.nan)\n",
    "\n",
    "    return wv_feature_vec\n",
    "\n",
    "\n",
    "def parallel_generate_word_vectors(samp, transformer, stopwords, batch, num_proc):\n",
    "    with Parallel(n_jobs=num_proc) as parallel:\n",
    "        dataset = []\n",
    "        is_break = False\n",
    "        i = 0\n",
    "\n",
    "        while not is_break:\n",
    "            payload = []\n",
    "\n",
    "            for j in xrange(num_proc):\n",
    "                t_df = samp[(i + j) * batch: (i + 1 + j) * batch]\n",
    "\n",
    "                if t_df.empty:\n",
    "                    is_break = True\n",
    "                    continue\n",
    "\n",
    "                payload.append(\n",
    "                    delayed(transformer)(\n",
    "                        t_df, stopwords\n",
    "                    )\n",
    "                )\n",
    "\n",
    "            print('Current batch in main thread: {}'.format((i + j) * batch))\n",
    "\n",
    "            if payload:\n",
    "                results = parallel(payload)\n",
    "                dataset.extend(results)\n",
    "                i += num_proc\n",
    "\n",
    "    return pd.concat(dataset)"
   ]
  },
  {
   "cell_type": "code",
   "execution_count": null,
   "metadata": {
    "collapsed": true
   },
   "outputs": [],
   "source": []
  },
  {
   "cell_type": "code",
   "execution_count": 198,
   "metadata": {
    "collapsed": true
   },
   "outputs": [],
   "source": [
    "def word2idx_transform(word, _word2idx):\n",
    "    return _word2idx.get(word, 0)\n",
    "\n",
    "def extract_features_for(df, min_batch=2000, stopwords=[], num_proc=7):\n",
    "    df_tokens = transform_text(df)\n",
    "    \n",
    "    batch = min(df_tokens.shape[0] / num_proc, min_batch)\n",
    "\n",
    "    print('Computing fs features...')\n",
    "    fvec = parallel_generate_word_vectors(df_tokens, transform_fasttext, stopwords=stopwords, batch=batch, num_proc=num_proc)\n",
    "\n",
    "    print('Computing wv features...')\n",
    "    wvec = parallel_generate_word_vectors(df_tokens, transform_word2vec, stopwords=stopwords, batch=batch, num_proc=num_proc)\n",
    "\n",
    "    print('Mapping word indices...')\n",
    "#     word_indices = []\n",
    "    word_indices = df_tokens.map(lambda x: [word2idx_transform(i, _word2idx) for i in x.split()])\n",
    "\n",
    "    print('Computing tfidf fs features...')\n",
    "    tfidf_fvec = parallel_generate_word_vectors(df_tokens, transform_tfidf_fasttext, stopwords=stopwords, batch=batch, num_proc=num_proc)\n",
    "\n",
    "    print('Computing tfidf wv features...')\n",
    "    tfidf_wvec = parallel_generate_word_vectors(df_tokens, transform_tfidf_word2vec, stopwords=stopwords, batch=batch, num_proc=num_proc)\n",
    "\n",
    "    print('Computing tfidf lsi features...')\n",
    "    tfidf_lsi = parallel_generate_word_vectors(df_tokens, transform_tfidf_lsi, stopwords=stopwords, batch=batch, num_proc=num_proc)\n",
    "    \n",
    "    return word_indices, wvec, fvec, tfidf_wvec, tfidf_fvec, tfidf_lsi"
   ]
  },
  {
   "cell_type": "code",
   "execution_count": 64,
   "metadata": {
    "collapsed": true
   },
   "outputs": [],
   "source": [
    "with open('../data/TestData.json') as fl:\n",
    "    data = json.load(fl)\n",
    "    test_df = pd.DataFrame(data['TestData']).T\n",
    "    del(data)"
   ]
  },
  {
   "cell_type": "code",
   "execution_count": 65,
   "metadata": {},
   "outputs": [
    {
     "data": {
      "text/plain": [
       "u'mean'"
      ]
     },
     "execution_count": 65,
     "metadata": {},
     "output_type": "execute_result"
    }
   ],
   "source": [
    "dictionary.id2token[855]"
   ]
  },
  {
   "cell_type": "code",
   "execution_count": 69,
   "metadata": {
    "scrolled": true
   },
   "outputs": [
    {
     "data": {
      "text/plain": [
       "u'Eagles of Death Metal will return to Paris and Europe to complete their postponed tour dates, which were put on hold after the terrorist attack at the Bataclan theatre in November while the band was on stage. The group play the Olympia theatre in Paris on 16 February and will tour Europe throughout February and March. Eagles of Death Metal co-founder and frontman Jesse Hughes said that not returning to finish their set \\u201cwas never an option\\u201d and that he and the band have been overwhelmed by the response from Parisians. He added: \\u201cThe people of Paris have always been incredible to us, and our feeling of love towards this beautiful city and its people has been reinforced a million times over this past month. \\u201cWe look forward to coming back in February and continuing our mission to bring rock\\u2019n\\u2019roll to the world.\\u201d In an interview with Vice, the band had vowed to return to Paris and also spoke about the attack on 13 November, during which 89 people were killed at the Paris venue. \\u201cBecause I was there when it went silent for a minute. Our friends went there to see rock\\u2019n\\u2019roll and died. I want to go back there and live,\\u201d Hughes said. Since the attack the band joined U2 on stage in Paris, though not playing their own headline show. During the Vice interview the group revealed they were encouraging other groups to cover their song I Love You All The Time. All of the publishing income from the recordings is being donated to the Sweet Stuff Foundation, which helps families and victims of the Paris terrorist attacks. The tour dates are: February 2016 13 - Debaser Media \\u2013 Stockholm 14 - Sentrum Scene \\u2013 Oslo, Norway 16 - Olympia \\u2013 Paris 18 - Tonhalle \\u2013 Munich 19 - Tvornica Kulture \\u2013 Zagreb, Croatia 20 - Akvarium \\u2013 Budapest, Hungry 22 - Arena \\u2013 Vienna 23 - Komplex \\u2013 Zurich 24 - Le Splendid \\u2013 Lille, France 25 - Forest Club \\u2013 Brussels 27 - New Age \\u2013 Treviso, Italy 28 - 10100 \\u2013 Turin, Italy 29 - Orion \\u2013 Rome March 2016 02 - La Paloma \\u2013 Nimes, France 03 - Apolo \\u2013 Barcelona, Spain 04 - Joy Eslava \\u2013 Madrid, Spain 05 - Coliseum \\u2013 Lisbon, Portugal August 2016 09 - Mega Club \\u2013 Katowice, Poland 11 - Amager Bio \\u2013 Copenhagen, Denmark 15 - Aladin \\u2013 Bremen, Germany 16 - Live Music Hall \\u2013 Cologne, Germany'"
      ]
     },
     "execution_count": 69,
     "metadata": {},
     "output_type": "execute_result"
    }
   ],
   "source": [
    "test_df.iloc[4031].bodyText"
   ]
  },
  {
   "cell_type": "code",
   "execution_count": null,
   "metadata": {
    "collapsed": true
   },
   "outputs": [],
   "source": [
    "'munichshooting': [array([6268, 6254, 6231, 6267, 6232]),\n",
    "  array([4031, 6268, 6231, 2129, 6254]),\n",
    "  array([6239, 6254, 6249, 6231, 6253])],"
   ]
  },
  {
   "cell_type": "code",
   "execution_count": 70,
   "metadata": {
    "scrolled": true
   },
   "outputs": [
    {
     "data": {
      "text/plain": [
       "[(u'gun', 0.47908648197935094),\n",
       " (u'firearms', 0.2621729058503798),\n",
       " (u'winnenden', 0.2381904582652168),\n",
       " (u'licenceholder', 0.15530949071104125),\n",
       " (u'kretschmerat', 0.15530949071104125),\n",
       " (u'psychological', 0.14207107160859914),\n",
       " (u'guns', 0.14149380242237303),\n",
       " (u'ownership', 0.13582370062322838),\n",
       " (u'emsdetten', 0.1314301443662301),\n",
       " (u'evaluation', 0.12106822170844278),\n",
       " (u'killings', 0.10994652147059226),\n",
       " (u'million', 0.10765912658638307),\n",
       " (u'erfurt', 0.1055917199333589),\n",
       " (u'automatic', 0.10469765726514944),\n",
       " (u'munich', 0.10396684514878873),\n",
       " (u'german', 0.10382804571058689),\n",
       " (u'germany', 0.1014591683608061),\n",
       " (u'legally', 0.10033452905366966),\n",
       " (u'acquisition', 0.09964990839489031),\n",
       " (u'safes', 0.09517284131025369),\n",
       " (u'controls', 0.09391237500199509),\n",
       " (u'regulations', 0.09354134610662412),\n",
       " (u'registered', 0.09172409244983849),\n",
       " (u'licence', 0.08797275674703604),\n",
       " (u'reforms', 0.08658069106129357),\n",
       " (u'glock', 0.08642191094617076),\n",
       " (u'9mm', 0.08498510781797099),\n",
       " (u'shooting', 0.08443987179597494),\n",
       " (u'weapons', 0.08080495346547072),\n",
       " (u'chequered', 0.07414820056566777),\n",
       " (u'school', 0.07088420157125495),\n",
       " (u'2009', 0.0705468181178194),\n",
       " (u'massacres', 0.07027808043186062),\n",
       " (u'homicide', 0.06979762693824972),\n",
       " (u'lax', 0.0697727004161422),\n",
       " (u'swaths', 0.06966945093279862),\n",
       " (u'highest', 0.06921608531735624),\n",
       " (u'shooter', 0.06906974241158069),\n",
       " (u'gunman', 0.06680607845001986),\n",
       " (u'enacted', 0.0665408789831409),\n",
       " (u'pistol', 0.06581081151820616),\n",
       " (u'faction', 0.064893792763033),\n",
       " (u'rules', 0.06427782491929111),\n",
       " (u'capita', 0.06414168570308106),\n",
       " (u'shootings', 0.0637890752829202),\n",
       " (u'stringent', 0.06332534282481449),\n",
       " (u'erratic', 0.06300231829378876),\n",
       " (u'statistic', 0.06294460432426303),\n",
       " (u'hunters', 0.06282132860571606),\n",
       " (u'undergone', 0.06276456533269462),\n",
       " (u'calibre', 0.06195698564586531),\n",
       " (u'govern', 0.06060528307239899),\n",
       " (u'licensed', 0.05909753833733303),\n",
       " (u'1956', 0.05816161847170299),\n",
       " (u'17', 0.05788142351626188),\n",
       " (u'restrict', 0.05774211603101775),\n",
       " (u'liability', 0.057403161096043105),\n",
       " (u'per', 0.057401105142716534),\n",
       " (u'died', 0.05700215258844971),\n",
       " (u'committing', 0.05650772149108993),\n",
       " (u'instrumental', 0.05628233261809697),\n",
       " (u'massacre', 0.05603687267395373),\n",
       " (u'applicants', 0.055799128405053994),\n",
       " (u'amongst', 0.054794004414885425),\n",
       " (u'people', 0.05434587376297355),\n",
       " (u'storage', 0.05429827128752249),\n",
       " (u'revised', 0.05392603443982185),\n",
       " (u'murders', 0.053638288730147046),\n",
       " (u'compulsory', 0.052778953273494036),\n",
       " (u'country', 0.05248139722556029),\n",
       " (u'1930s', 0.05246975292740887),\n",
       " (u'obtain', 0.05244613425554786),\n",
       " (u'checks', 0.05178736748967016),\n",
       " (u'waited', 0.051694188168081655),\n",
       " (u'hunting', 0.04978464493703435),\n",
       " (u'weapon', 0.049659389053952285),\n",
       " (u'strict', 0.04940229595721174),\n",
       " (u'citizen', 0.04902617416636479),\n",
       " (u'mexico', 0.04818887626447009),\n",
       " (u'restrictions', 0.04810717470099375),\n",
       " (u'legitimate', 0.04784470481400492),\n",
       " (u'method', 0.047675535375989835),\n",
       " (u'kind', 0.04758344670023448),\n",
       " (u'privately', 0.047384490900507246),\n",
       " (u'dramatically', 0.04729495113800247),\n",
       " (u'relaxed', 0.047064001889157075),\n",
       " (u'height', 0.046664230866101906),\n",
       " (u'forcing', 0.046427269720078754),\n",
       " (u'possession', 0.04601296680460609),\n",
       " (u'register', 0.04544046633031822),\n",
       " (u'types', 0.043724929320392396),\n",
       " (u'hurt', 0.043194607884967554),\n",
       " (u'federal', 0.04267866966744847),\n",
       " (u'suicide', 0.04257625049950864),\n",
       " (u'adults', 0.042526753517931705),\n",
       " (u'deaths', 0.04246402050227729),\n",
       " (u'creation', 0.04217399638989612),\n",
       " (u'1970s', 0.04190459989543558),\n",
       " (u'insurance', 0.04093468768089342),\n",
       " (u'young', 0.0399342315844759),\n",
       " (u'russia', 0.03973801565136361),\n",
       " (u'carrying', 0.03972886016093462),\n",
       " (u'involving', 0.03967799171285706),\n",
       " (u'legislation', 0.03920513705346401),\n",
       " (u'seen', 0.039043017544615505),\n",
       " (u'citizens', 0.03898755846462073),\n",
       " (u'drink', 0.03875558646443845),\n",
       " (u'ban', 0.038711685099956504),\n",
       " (u'tim', 0.03871144698944821),\n",
       " (u'semi', 0.03868457404820044),\n",
       " (u'although', 0.03837995186982976),\n",
       " (u'regime', 0.037779212751909756),\n",
       " (u'die', 0.037408208242180926),\n",
       " (u'widely', 0.03718329976670957),\n",
       " (u'failing', 0.03708814144058493),\n",
       " (u'clubs', 0.03681916294448845),\n",
       " (u'allowing', 0.03678660229121531),\n",
       " (u'31', 0.03678181631317523),\n",
       " (u'driving', 0.036699588226656796),\n",
       " (u'owned', 0.036353351346718056),\n",
       " (u'owner', 0.03603938388630035),\n",
       " (u'2011', 0.03594335428537232),\n",
       " (u'vast', 0.03580124669163475),\n",
       " (u'spot', 0.03575271554855458),\n",
       " (u'sale', 0.035672128798084686),\n",
       " (u'until', 0.03553354872542564),\n",
       " (u'expensive', 0.035411725004512694),\n",
       " (u'sports', 0.03498469854622809),\n",
       " (u'behaviour', 0.03489751473764765),\n",
       " (u'homes', 0.03487490751287162),\n",
       " (u'2002', 0.034681580777070196),\n",
       " (u'drop', 0.03455154923544494),\n",
       " (u'wait', 0.03454960081600422),\n",
       " (u'receive', 0.034357140001273684),\n",
       " (u'fully', 0.034336901859118196),\n",
       " (u'violence', 0.03425474387325622),\n",
       " (u'carry', 0.034254111859015626),\n",
       " (u'army', 0.034240059040462394),\n",
       " (u'students', 0.03421405403629441),\n",
       " (u'caught', 0.03409040020484998),\n",
       " (u'2006', 0.03402739466936244),\n",
       " (u'required', 0.03377548490953649),\n",
       " (u'carried', 0.033722094421476216),\n",
       " (u'showing', 0.033482970187444665),\n",
       " (u'every', 0.03344058710873153),\n",
       " (u'where', 0.03338801107416012),\n",
       " (u'pass', 0.033322995058310045),\n",
       " (u'africa', 0.03316462596246564),\n",
       " (u'fourth', 0.033155482418243155),\n",
       " (u'traditional', 0.032685802287451625),\n",
       " (u'any', 0.03256303365095924),\n",
       " (u'uk', 0.03243138922451548),\n",
       " (u'2000', 0.03199075329294668),\n",
       " (u'authorities', 0.031482097043284946),\n",
       " (u'double', 0.03141825493305996),\n",
       " (u'killed', 0.031161340542959794),\n",
       " (u'were', 0.0311204306679219),\n",
       " (u'common', 0.030895153972512253),\n",
       " (u'numbers', 0.030859140288096852),\n",
       " (u'test', 0.030488757578251008),\n",
       " (u'union', 0.0296404859472335),\n",
       " (u'response', 0.02961076329034018),\n",
       " (u'year', 0.02908615547024909),\n",
       " (u'modern', 0.02888687182934068),\n",
       " (u'hands', 0.0286655394821035),\n",
       " (u'allowed', 0.028400850303248897),\n",
       " (u'red', 0.028291403300018957),\n",
       " (u'13', 0.027875378926511516),\n",
       " (u'own', 0.027858671381971015),\n",
       " (u'reason', 0.027171599686957603),\n",
       " (u'especially', 0.027042269343717003),\n",
       " (u'16', 0.026921780491522284),\n",
       " (u'40', 0.026650541270709663),\n",
       " (u'18', 0.02598636251586864),\n",
       " (u'private', 0.025762235279285985),\n",
       " (u'example', 0.025682963571120803),\n",
       " (u'saw', 0.025603125393119854),\n",
       " (u'25', 0.025530593684370138),\n",
       " (u'age', 0.02514710121212973),\n",
       " (u'european', 0.025116524137247957),\n",
       " (u'members', 0.024874289504564773),\n",
       " (u'post', 0.024851451145244407),\n",
       " (u'using', 0.024806514046147827),\n",
       " (u'difficult', 0.024338994507038775),\n",
       " (u'large', 0.024279892569880043),\n",
       " (u'anyone', 0.024211009647233463),\n",
       " (u'still', 0.024167672783896185),\n",
       " (u'history', 0.02404213936854854),\n",
       " (u'love', 0.02371836323674131),\n",
       " (u'major', 0.02354311388490335),\n",
       " (u'world', 0.023037200411865928),\n",
       " (u'war', 0.022913731382901956),\n",
       " (u'himself', 0.022819973668819132),\n",
       " (u'south', 0.022773835908414367),\n",
       " (u'political', 0.022307278426075074),\n",
       " (u'seems', 0.021964784522325847),\n",
       " (u'us', 0.020371705309033164),\n",
       " (u'5', 0.020249992557968007),\n",
       " (u'4', 0.019540505996979055),\n",
       " (u'each', 0.01893049400145319),\n",
       " (u'most', 0.018535712751999507),\n",
       " (u'former', 0.018478326653399),\n",
       " (u'must', 0.018449576302538972),\n",
       " (u'making', 0.018442087099176073),\n",
       " (u'again', 0.018278290025625525),\n",
       " (u'used', 0.018083260358335497),\n",
       " (u'his', 0.017045459179907435),\n",
       " (u'without', 0.016957778031272824),\n",
       " (u'five', 0.016836653053838427),\n",
       " (u'out', 0.016645651819065445),\n",
       " (u'or', 0.01584159366649975),\n",
       " (u'right', 0.015524949993829147),\n",
       " (u'under', 0.014320218605146599),\n",
       " (u'old', 0.013897122926388637),\n",
       " (u'go', 0.013525483213512596),\n",
       " (u'through', 0.012851241568792677),\n",
       " (u'than', 0.012688668002366382),\n",
       " (u'are', 0.012667489679025003),\n",
       " (u'those', 0.01239151970224573),\n",
       " (u'would', 0.011894948339919272),\n",
       " (u'three', 0.011666030651740496),\n",
       " (u'had', 0.011301329261416079),\n",
       " (u'well', 0.011065488514943921),\n",
       " (u'then', 0.011007761367542413),\n",
       " (u'being', 0.010011248505517717),\n",
       " (u'more', 0.009436887574781354),\n",
       " (u'like', 0.009213639358726778),\n",
       " (u'been', 0.00902783021114947),\n",
       " (u'other', 0.008557569054606817),\n",
       " (u'have', 0.008439354817004124),\n",
       " (u'now', 0.008285028998514786),\n",
       " (u'two', 0.00789072950586602),\n",
       " (u'over', 0.0074171517061738905),\n",
       " (u'also', 0.007280330177144438),\n",
       " (u'at', 0.00723888878366846),\n",
       " (u'after', 0.006942939024420176),\n",
       " (u'as', 0.006347494350228607),\n",
       " (u'in', 0.00631186097384328),\n",
       " (u'when', 0.005763884330851829),\n",
       " (u'about', 0.005679665478633056),\n",
       " (u'by', 0.005309503848673264),\n",
       " (u'all', 0.0052237173817966725),\n",
       " (u'has', 0.005169608411412774),\n",
       " (u'there', 0.0050723745638636885),\n",
       " (u'their', 0.00481246868076492),\n",
       " (u'one', 0.00451553279711062),\n",
       " (u'who', 0.004295118931889163),\n",
       " (u'not', 0.004268854736256983),\n",
       " (u'which', 0.004080591634101654),\n",
       " (u'but', 0.004071440202880136),\n",
       " (u'for', 0.003950045328612427),\n",
       " (u'it', 0.0035965971987666676),\n",
       " (u'with', 0.003461406827298184),\n",
       " (u'is', 0.0032383659089272533),\n",
       " (u'a', 0.002921478213966773),\n",
       " (u'of', 0.002550384963189449),\n",
       " (u'the', 0.002540266859852607),\n",
       " (u'from', 0.0020696621183802825),\n",
       " (u'and', 0.002052737247125003),\n",
       " (u's', 0.001857026074186086),\n",
       " (u'to', 0.0017045775961233133),\n",
       " (u'on', 0.0017004105667435137),\n",
       " (u'that', 0.0010217192431406618)]"
      ]
     },
     "execution_count": 70,
     "metadata": {},
     "output_type": "execute_result"
    }
   ],
   "source": [
    "[(dictionary.id2token[i], j) for i, j in sorted(tfidf[dictionary.doc2bow(test_transformed_text.iloc[6239].split())], key=lambda x: x[1], reverse=True)]"
   ]
  },
  {
   "cell_type": "code",
   "execution_count": null,
   "metadata": {
    "collapsed": true
   },
   "outputs": [],
   "source": []
  },
  {
   "cell_type": "code",
   "execution_count": 19,
   "metadata": {
    "collapsed": true
   },
   "outputs": [],
   "source": [
    "test_transformed_text = transform_text(test_df)"
   ]
  },
  {
   "cell_type": "code",
   "execution_count": 73,
   "metadata": {
    "scrolled": true
   },
   "outputs": [
    {
     "name": "stdout",
     "output_type": "stream",
     "text": [
      "Computing fs features...\n",
      "Current batch in main thread: 6498\n",
      "Current batch in main thread: 14079\n",
      "Computing wv features...\n",
      "Current batch in main thread: 6498\n",
      "Current batch in main thread: 14079\n",
      "Mapping word indices...\n",
      "Computing tfidf fs features...\n",
      "Current batch in main thread: 6498\n",
      "Current batch in main thread: 14079\n",
      "Computing tfidf wv features...\n",
      "Current batch in main thread: 6498\n",
      "Current batch in main thread: 14079\n",
      "Computing tfidf lsi features...\n",
      "Current batch in main thread: 6498\n",
      "Current batch in main thread: 14079\n",
      "CPU times: user 40.2 s, sys: 1.53 s, total: 41.7 s\n",
      "Wall time: 1min 29s\n"
     ]
    }
   ],
   "source": [
    "%%time\n",
    "test_word_indices,test_wvec, test_fvec, test_tfidf_wvec, test_tfidf_fvec, test_tfidf_lsi = extract_features_for(\n",
    "    test_df\n",
    ")"
   ]
  },
  {
   "cell_type": "code",
   "execution_count": 203,
   "metadata": {},
   "outputs": [],
   "source": [
    "def filter_stopwords(x, stopwords=['and', 'day', 'of', 'in']):\n",
    "    return [i for i in x if i not in stopwords]\n",
    "\n",
    "tpa = pd.DataFrame(topic2actual.items(), columns=['topics', 'actual'])\n",
    "\n",
    "tpa['wv'] = transform_word2vec(tpa.actual.map(lambda x: ' '.join(filter_stopwords(x))))\n",
    "tpa['fs'] = transform_fasttext(tpa.actual.map(lambda x: ' '.join(filter_stopwords(x))))\n",
    "\n",
    "tpa['tk'] = tpa.actual.map(lambda x: [word2idx_transform(i, _word2idx) for i in x])\n",
    "\n",
    "tpa['tfidf_wv'] = transform_tfidf_word2vec(tpa.actual.map(lambda x: ' '.join(filter_stopwords(x))), trim=False)\n",
    "tpa['tfidf_fs'] = transform_tfidf_fasttext(tpa.actual.map(lambda x: ' '.join(filter_stopwords(x))), trim=False)\n",
    "tpa['tfidf_lsi'] = transform_tfidf_lsi(tpa.actual.map(lambda x: ' '.join(filter_stopwords(x))), trim=False)\n",
    "\n",
    "unseen_topics2vec = tpa[tpa.topics.isin(unseen_topics)]\n",
    "unseen_topics2vec = unseen_topics2vec.set_index('topics')\n",
    "unseen_topics2vec = unseen_topics2vec.ix[sorted(unseen_topics)]\n",
    "\n",
    "all_topics2vec = tpa[tpa.topics.isin(topics)]\n",
    "all_topics2vec = all_topics2vec.set_index('topics')\n",
    "all_topics2vec = all_topics2vec.ix[sorted(topics)]"
   ]
  },
  {
   "cell_type": "code",
   "execution_count": 204,
   "metadata": {},
   "outputs": [
    {
     "name": "stdout",
     "output_type": "stream",
     "text": [
      "0\n",
      "0\n",
      "0\n",
      "0\n",
      "0\n"
     ]
    }
   ],
   "source": [
    "null_index = test_wvec[test_wvec.isnull()].index\n",
    "if any(null_index):\n",
    "    test_wvec.ix[null_index] = [[0] * wvmodel.vector_size] * 3\n",
    "print(len(null_index))\n",
    "    \n",
    "null_index = test_fvec[test_fvec.isnull()].index\n",
    "if any(null_index):\n",
    "    test_fvec.ix[null_index] = [[0] * fsmodel.dim] * 3\n",
    "print(len(null_index))\n",
    "\n",
    "null_index = test_tfidf_wvec[test_tfidf_wvec.isnull()].index\n",
    "if any(null_index):\n",
    "    test_tfidf_wvec.ix[null_index] = [[0] * wvmodel.vector_size] * 3\n",
    "print(len(null_index))\n",
    "    \n",
    "null_index = test_tfidf_fvec[test_tfidf_fvec.isnull()].index\n",
    "if any(null_index):\n",
    "    test_tfidf_fvec.ix[null_index] = [[0] * fsmodel.dim] * 3\n",
    "print(len(null_index))\n",
    "    \n",
    "null_index = test_tfidf_lsi[test_tfidf_lsi.isnull()].index\n",
    "if any(null_index):\n",
    "    test_tfidf_lsi.ix[null_index] = [[0] * lsi.num_topics] * 3\n",
    "print(len(null_index))\n"
   ]
  },
  {
   "cell_type": "code",
   "execution_count": 205,
   "metadata": {
    "collapsed": true
   },
   "outputs": [],
   "source": [
    "unsupervised_unseen_topic_detection = {\n",
    "    'tfidf_wvec': [test_tfidf_wvec, unseen_topics2vec.tfidf_wv],\n",
    "    'tfidf_fvec': [test_tfidf_fvec, unseen_topics2vec.tfidf_fs],\n",
    "    'tfidf_lsi': [test_tfidf_lsi, unseen_topics2vec.tfidf_lsi],\n",
    "#     'tk': \n",
    "}\n",
    "\n",
    "unsupervised_all_topic_detection = {\n",
    "    'tfidf_wvec': [test_tfidf_wvec, all_topics2vec.tfidf_wv],\n",
    "    'tfidf_fvec': [test_tfidf_fvec, all_topics2vec.tfidf_fs],\n",
    "    'tfidf_lsi': [test_tfidf_lsi, all_topics2vec.tfidf_lsi],\n",
    "#     'tk': \n",
    "}"
   ]
  },
  {
   "cell_type": "code",
   "execution_count": 252,
   "metadata": {
    "collapsed": true
   },
   "outputs": [],
   "source": [
    "# N = 10\n",
    "# unseen_topics_rank = {}\n",
    "\n",
    "# for key, (tstvec, tpvec) in unsupervised_unseen_topic_detection.items():\n",
    "#     sim = cosine_similarity(\n",
    "#         np.vstack(tstvec),\n",
    "#         np.vstack(tpvec),\n",
    "#     )\n",
    "\n",
    "#     for i, t in enumerate(unseen_topics2vec.index):\n",
    "#         idx = sim[:, i].argsort()[::-1][:N]\n",
    "#         v = sim[:, i][idx]\n",
    "\n",
    "#         unseen_topics_rank.setdefault(t, []).append(idx)"
   ]
  },
  {
   "cell_type": "code",
   "execution_count": 215,
   "metadata": {
    "collapsed": true
   },
   "outputs": [],
   "source": [
    "N = 10\n",
    "topics_rank = {}\n",
    "test_max_class_df = pd.DataFrame()\n",
    "test_max_score_df = pd.DataFrame()\n",
    "test_max_class_score_df = pd.DataFrame()\n",
    "\n",
    "for key, (tstvec, tpvec) in unsupervised_unseen_topic_detection.items():\n",
    "    sim = cosine_similarity(\n",
    "        np.vstack(tstvec),\n",
    "        np.vstack(tpvec),\n",
    "    )\n",
    "\n",
    "#     for i, t in enumerate(all_topics2vec.index):\n",
    "#         idx = sim[:, i].argsort()[::-1][:N]\n",
    "#         v = sim[:, i][idx]\n",
    "\n",
    "#         topics_rank.setdefault(t, []).append(idx)\n",
    "    test_max_class_score_df[key] = pd.Series(zip(tpvec.index[sim.argmax(axis=1)], sim.max(axis=1)), index=tstvec.index)\n",
    "    test_max_score_df[key] = pd.Series(sim.max(axis=1), index=tstvec.index)\n",
    "    test_max_class_df[key] = pd.Series(tpvec.index[sim.argmax(axis=1)], index=tstvec.index)\n"
   ]
  },
  {
   "cell_type": "code",
   "execution_count": 207,
   "metadata": {
    "scrolled": true
   },
   "outputs": [],
   "source": [
    "# cosine_similarity(test_tfidf_wvec.iloc[4489], np.vstack(all_topics2vec.tfidf_wv))"
   ]
  },
  {
   "cell_type": "code",
   "execution_count": 208,
   "metadata": {},
   "outputs": [],
   "source": [
    "sc = StandardScaler()"
   ]
  },
  {
   "cell_type": "code",
   "execution_count": 216,
   "metadata": {
    "scrolled": true
   },
   "outputs": [],
   "source": [
    "# test_max_score_df_normed = pd.DataFrame(sc.fit_transform(test_max_score_df), columns=test_max_score_df.columns, index=test_max_score_df.index)\n",
    "test_max_score_df_normed = test_max_score_df"
   ]
  },
  {
   "cell_type": "code",
   "execution_count": null,
   "metadata": {
    "collapsed": true
   },
   "outputs": [],
   "source": []
  },
  {
   "cell_type": "code",
   "execution_count": 239,
   "metadata": {
    "scrolled": true
   },
   "outputs": [],
   "source": [
    "g = test_max_score_df_normed.max(axis=1)\n",
    "g = g[g > 0.6]\n",
    "w = test_max_class_df.ix[g.index]"
   ]
  },
  {
   "cell_type": "code",
   "execution_count": 240,
   "metadata": {
    "scrolled": true
   },
   "outputs": [
    {
     "data": {
      "text/plain": [
       "TestData_00006    0.719141\n",
       "TestData_00007    0.829392\n",
       "TestData_00008    0.757273\n",
       "TestData_00009    0.618126\n",
       "TestData_00014    0.612950\n",
       "TestData_00016    0.621031\n",
       "TestData_00018    0.632733\n",
       "TestData_00022    0.672172\n",
       "TestData_00024    0.663084\n",
       "TestData_00029    0.667131\n",
       "TestData_00030    0.665910\n",
       "TestData_00032    0.667570\n",
       "TestData_00035    0.818714\n",
       "TestData_00036    0.774036\n",
       "TestData_00037    0.630042\n",
       "TestData_00038    0.649132\n",
       "TestData_00039    0.640741\n",
       "TestData_00040    0.653708\n",
       "TestData_00042    0.730308\n",
       "TestData_00044    0.784936\n",
       "TestData_00046    0.891608\n",
       "TestData_00047    0.886960\n",
       "TestData_00050    0.849932\n",
       "TestData_00051    0.859087\n",
       "TestData_00053    0.699846\n",
       "TestData_00054    0.610185\n",
       "TestData_00055    0.729341\n",
       "TestData_00056    0.781060\n",
       "TestData_00057    0.735029\n",
       "TestData_00058    0.791485\n",
       "                    ...   \n",
       "TestData_07520    0.657297\n",
       "TestData_07521    0.727538\n",
       "TestData_07522    0.811195\n",
       "TestData_07523    0.630735\n",
       "TestData_07525    0.636060\n",
       "TestData_07527    0.784651\n",
       "TestData_07532    0.621272\n",
       "TestData_07535    0.817495\n",
       "TestData_07536    0.801271\n",
       "TestData_07537    0.614733\n",
       "TestData_07539    0.610916\n",
       "TestData_07543    0.793165\n",
       "TestData_07545    0.685988\n",
       "TestData_07546    0.661673\n",
       "TestData_07547    0.613077\n",
       "TestData_07550    0.625532\n",
       "TestData_07554    0.608309\n",
       "TestData_07556    0.715150\n",
       "TestData_07558    0.741265\n",
       "TestData_07560    0.808750\n",
       "TestData_07561    0.614199\n",
       "TestData_07563    0.600159\n",
       "TestData_07571    0.617492\n",
       "TestData_07572    0.604554\n",
       "TestData_07575    0.751011\n",
       "TestData_07576    0.606646\n",
       "TestData_07577    0.600931\n",
       "TestData_07578    0.711398\n",
       "TestData_07580    0.692217\n",
       "TestData_07581    0.672271\n",
       "dtype: float64"
      ]
     },
     "execution_count": 240,
     "metadata": {},
     "output_type": "execute_result"
    }
   ],
   "source": [
    "g"
   ]
  },
  {
   "cell_type": "code",
   "execution_count": 326,
   "metadata": {
    "collapsed": true
   },
   "outputs": [],
   "source": [
    "from collections import Counter"
   ]
  },
  {
   "cell_type": "code",
   "execution_count": 339,
   "metadata": {
    "scrolled": true
   },
   "outputs": [],
   "source": [
    "sh = pd.DataFrame()\n",
    "q = w[w.apply(lambda x: min(x) == max(x), 1)]\n",
    "# q = w[w.apply(lambda x: len(set(x)) <= 2, 1)]\n",
    "sh['class'] = q.apply(max, 1)\n",
    "# sh['class'] = q.apply(lambda x: Counter(x).most_common()[0][0], 1)\n",
    "sh['scores'] = g"
   ]
  },
  {
   "cell_type": "code",
   "execution_count": 340,
   "metadata": {
    "scrolled": true
   },
   "outputs": [],
   "source": [
    "sh = sh.sort_values(['class', 'scores'])\n",
    "sh['order'] = sh.index.str.replace('TestData_', '').map(int)"
   ]
  },
  {
   "cell_type": "code",
   "execution_count": 243,
   "metadata": {},
   "outputs": [
    {
     "name": "stdout",
     "output_type": "stream",
     "text": [
      "bastilledaytruckattack 6140.5 6110.75 6167.75 10\n",
      "berlinchristmasmarketattack 7514.5 7493.5 7537.75 10\n",
      "brusselsattacks 5046.0 5027.5 5120.25 10\n",
      "charliehebdoattack 659.5 129.75 1287.25 10\n",
      "francetrainattack 2263.5 1086.5 2973.5 10\n",
      "munichshooting 6235.0 5993.5 6251.25 10\n",
      "orlandoterrorattack 3820.0 1769.5 5610.0 10\n",
      "parisattacks 5015.0 3487.25 5266.5 10\n",
      "peaceandreconciliation 5968.0 4840.75 6551.25 10\n",
      "sanbernardinoshooting 3834.0 3811.25 3865.0 10\n",
      "tunisiaattack2015 1682.0 1038.75 1835.75 10\n",
      "turkeycoupattempt 6171.0 4859.25 6209.5 10\n",
      "zikavirus 4550.0 4520.0 5580.0 3\n"
     ]
    }
   ],
   "source": [
    "for topic, group in sh.groupby('class'):\n",
    "    group = group.sort_values(['scores'], ascending=False)[:10]\n",
    "    print topic, group['order'].median(), group['order'].quantile(0.25), group['order'].quantile(0.75), group.shape[0]"
   ]
  },
  {
   "cell_type": "code",
   "execution_count": 244,
   "metadata": {},
   "outputs": [
    {
     "name": "stdout",
     "output_type": "stream",
     "text": [
      "bastilledaytruckattack 6124.0 4970.75 6204.5 20\n",
      "berlinchristmasmarketattack 7490.0 4120.5 7518.5 15\n",
      "brusselsattacks 5035.0 4653.0 5175.5 20\n",
      "charliehebdoattack 217.0 75.75 2720.0 20\n",
      "francetrainattack 2743.0 1382.0 5497.0 20\n",
      "munichshooting 6240.0 5914.0 6256.0 17\n",
      "orlandoterrorattack 3875.0 2185.75 5362.0 20\n",
      "parisattacks 3532.0 3242.25 5091.0 20\n",
      "peaceandreconciliation 5706.0 4840.0 6625.0 17\n",
      "sanbernardinoshooting 3834.0 3494.5 4759.0 20\n",
      "tunisiaattack2015 1672.0 836.5 1787.0 20\n",
      "turkeycoupattempt 6136.5 4003.75 6221.0 20\n",
      "zikavirus 4550.0 4520.0 5580.0 3\n"
     ]
    }
   ],
   "source": [
    "for topic, group in sh.groupby('class'):\n",
    "    group = group.sort_values(['scores'], ascending=False)[:20]\n",
    "    print topic, group['order'].median(), group['order'].quantile(0.25), group['order'].quantile(0.75), group.shape[0]"
   ]
  },
  {
   "cell_type": "code",
   "execution_count": 310,
   "metadata": {
    "collapsed": true
   },
   "outputs": [],
   "source": [
    "def keyword_match(group, topic):\n",
    "    test_transformed_text.ix[group.index].str.split().map(\n",
    "        lambda x: sum(\n",
    "            [tfidf.idfs[dictionary.token2id[i]] for i in set(\n",
    "                tpa[tpa.topics == topic].actual.values[0]\n",
    "            ).intersection(x)]\n",
    "        )\n",
    "    )"
   ]
  },
  {
   "cell_type": "code",
   "execution_count": 341,
   "metadata": {},
   "outputs": [],
   "source": [
    "N = 100\n",
    "min_N = 5\n",
    "train_test_data = {}\n",
    "for topic, group in sh.groupby('class'):\n",
    "    group = group.sort_values(['scores'], ascending=False)[:N]\n",
    "\n",
    "\n",
    "#     if group.shape[0] < min_N:\n",
    "#         train_test_data[topic] = sorted(group.index)\n",
    "#         print topic, group.shape[0]\n",
    "#         continue\n",
    "\n",
    "#     minb = group['order'].quantile(0.25)\n",
    "#     maxb = group['order'].quantile(0.75)\n",
    "    \n",
    "    keyword_weight = keyword_match(group, topic)\n",
    "    group['kw'] = keyword_weight\n",
    "\n",
    "#     group = group[group.order.between(minb, maxb)]\n",
    "#     print topic, group.shape[0]\n",
    "\n",
    "#     train_test_data[topic] = sorted(group.index)\n",
    "    train_test_data[topic] = sorted(group.sort_values('kw', ascending=False)[:8].index)"
   ]
  },
  {
   "cell_type": "code",
   "execution_count": 308,
   "metadata": {},
   "outputs": [
    {
     "data": {
      "text/plain": [
       "{'zika'}"
      ]
     },
     "execution_count": 308,
     "metadata": {},
     "output_type": "execute_result"
    }
   ],
   "source": [
    "set(tpa[tpa.topics == topic].actual.values[0])"
   ]
  },
  {
   "cell_type": "code",
   "execution_count": 309,
   "metadata": {},
   "outputs": [
    {
     "data": {
      "text/plain": [
       "TestData_04490    15.66276\n",
       "TestData_04550    15.66276\n",
       "TestData_06610    15.66276\n",
       "Name: bodyText, dtype: float64"
      ]
     },
     "execution_count": 309,
     "metadata": {},
     "output_type": "execute_result"
    }
   ],
   "source": []
  },
  {
   "cell_type": "code",
   "execution_count": 254,
   "metadata": {},
   "outputs": [
    {
     "data": {
      "text/html": [
       "<div>\n",
       "<table border=\"1\" class=\"dataframe\">\n",
       "  <thead>\n",
       "    <tr style=\"text-align: right;\">\n",
       "      <th></th>\n",
       "      <th>class</th>\n",
       "      <th>scores</th>\n",
       "      <th>order</th>\n",
       "    </tr>\n",
       "  </thead>\n",
       "  <tbody>\n",
       "    <tr>\n",
       "      <th>TestData_01999</th>\n",
       "      <td>berlinchristmasmarketattack</td>\n",
       "      <td>0.602871</td>\n",
       "      <td>1999</td>\n",
       "    </tr>\n",
       "    <tr>\n",
       "      <th>TestData_07346</th>\n",
       "      <td>berlinchristmasmarketattack</td>\n",
       "      <td>0.610108</td>\n",
       "      <td>7346</td>\n",
       "    </tr>\n",
       "    <tr>\n",
       "      <th>TestData_03028</th>\n",
       "      <td>berlinchristmasmarketattack</td>\n",
       "      <td>0.625340</td>\n",
       "      <td>3028</td>\n",
       "    </tr>\n",
       "    <tr>\n",
       "      <th>TestData_04118</th>\n",
       "      <td>berlinchristmasmarketattack</td>\n",
       "      <td>0.630178</td>\n",
       "      <td>4118</td>\n",
       "    </tr>\n",
       "    <tr>\n",
       "      <th>TestData_04123</th>\n",
       "      <td>berlinchristmasmarketattack</td>\n",
       "      <td>0.667375</td>\n",
       "      <td>4123</td>\n",
       "    </tr>\n",
       "    <tr>\n",
       "      <th>TestData_07515</th>\n",
       "      <td>berlinchristmasmarketattack</td>\n",
       "      <td>0.678086</td>\n",
       "      <td>7515</td>\n",
       "    </tr>\n",
       "    <tr>\n",
       "      <th>TestData_07545</th>\n",
       "      <td>berlinchristmasmarketattack</td>\n",
       "      <td>0.685988</td>\n",
       "      <td>7545</td>\n",
       "    </tr>\n",
       "    <tr>\n",
       "      <th>TestData_04254</th>\n",
       "      <td>berlinchristmasmarketattack</td>\n",
       "      <td>0.695285</td>\n",
       "      <td>4254</td>\n",
       "    </tr>\n",
       "    <tr>\n",
       "      <th>TestData_07558</th>\n",
       "      <td>berlinchristmasmarketattack</td>\n",
       "      <td>0.741265</td>\n",
       "      <td>7558</td>\n",
       "    </tr>\n",
       "    <tr>\n",
       "      <th>TestData_07514</th>\n",
       "      <td>berlinchristmasmarketattack</td>\n",
       "      <td>0.789414</td>\n",
       "      <td>7514</td>\n",
       "    </tr>\n",
       "    <tr>\n",
       "      <th>TestData_07543</th>\n",
       "      <td>berlinchristmasmarketattack</td>\n",
       "      <td>0.793165</td>\n",
       "      <td>7543</td>\n",
       "    </tr>\n",
       "    <tr>\n",
       "      <th>TestData_07522</th>\n",
       "      <td>berlinchristmasmarketattack</td>\n",
       "      <td>0.811195</td>\n",
       "      <td>7522</td>\n",
       "    </tr>\n",
       "    <tr>\n",
       "      <th>TestData_07504</th>\n",
       "      <td>berlinchristmasmarketattack</td>\n",
       "      <td>0.816788</td>\n",
       "      <td>7504</td>\n",
       "    </tr>\n",
       "    <tr>\n",
       "      <th>TestData_07490</th>\n",
       "      <td>berlinchristmasmarketattack</td>\n",
       "      <td>0.882159</td>\n",
       "      <td>7490</td>\n",
       "    </tr>\n",
       "    <tr>\n",
       "      <th>TestData_03682</th>\n",
       "      <td>berlinchristmasmarketattack</td>\n",
       "      <td>0.919258</td>\n",
       "      <td>3682</td>\n",
       "    </tr>\n",
       "  </tbody>\n",
       "</table>\n",
       "</div>"
      ],
      "text/plain": [
       "                                      class    scores  order\n",
       "TestData_01999  berlinchristmasmarketattack  0.602871   1999\n",
       "TestData_07346  berlinchristmasmarketattack  0.610108   7346\n",
       "TestData_03028  berlinchristmasmarketattack  0.625340   3028\n",
       "TestData_04118  berlinchristmasmarketattack  0.630178   4118\n",
       "TestData_04123  berlinchristmasmarketattack  0.667375   4123\n",
       "TestData_07515  berlinchristmasmarketattack  0.678086   7515\n",
       "TestData_07545  berlinchristmasmarketattack  0.685988   7545\n",
       "TestData_04254  berlinchristmasmarketattack  0.695285   4254\n",
       "TestData_07558  berlinchristmasmarketattack  0.741265   7558\n",
       "TestData_07514  berlinchristmasmarketattack  0.789414   7514\n",
       "TestData_07543  berlinchristmasmarketattack  0.793165   7543\n",
       "TestData_07522  berlinchristmasmarketattack  0.811195   7522\n",
       "TestData_07504  berlinchristmasmarketattack  0.816788   7504\n",
       "TestData_07490  berlinchristmasmarketattack  0.882159   7490\n",
       "TestData_03682  berlinchristmasmarketattack  0.919258   3682"
      ]
     },
     "execution_count": 254,
     "metadata": {},
     "output_type": "execute_result"
    }
   ],
   "source": [
    "sh[sh['class'] == 'berlinchristmasmarketattack']"
   ]
  },
  {
   "cell_type": "code",
   "execution_count": 252,
   "metadata": {
    "scrolled": true
   },
   "outputs": [
    {
     "data": {
      "text/plain": [
       "{'bastilledaytruckattack': [u'TestData_05261',\n",
       "  u'TestData_06106',\n",
       "  u'TestData_06107',\n",
       "  u'TestData_06110',\n",
       "  u'TestData_06122',\n",
       "  u'TestData_06126',\n",
       "  u'TestData_06141',\n",
       "  u'TestData_06155',\n",
       "  u'TestData_06158',\n",
       "  u'TestData_06171'],\n",
       " 'berlinchristmasmarketattack': [u'TestData_04123',\n",
       "  u'TestData_04254',\n",
       "  u'TestData_07346',\n",
       "  u'TestData_07490',\n",
       "  u'TestData_07504',\n",
       "  u'TestData_07514',\n",
       "  u'TestData_07515'],\n",
       " 'brusselsattacks': [u'TestData_05019',\n",
       "  u'TestData_05025',\n",
       "  u'TestData_05027',\n",
       "  u'TestData_05028',\n",
       "  u'TestData_05029',\n",
       "  u'TestData_05041',\n",
       "  u'TestData_05051',\n",
       "  u'TestData_05078',\n",
       "  u'TestData_05103',\n",
       "  u'TestData_05126'],\n",
       " 'charliehebdoattack': [u'TestData_00077',\n",
       "  u'TestData_00121',\n",
       "  u'TestData_00156',\n",
       "  u'TestData_00172',\n",
       "  u'TestData_00185',\n",
       "  u'TestData_00249',\n",
       "  u'TestData_01147',\n",
       "  u'TestData_01162',\n",
       "  u'TestData_01329',\n",
       "  u'TestData_02540'],\n",
       " 'francetrainattack': [u'TestData_01427',\n",
       "  u'TestData_01640',\n",
       "  u'TestData_02263',\n",
       "  u'TestData_02264',\n",
       "  u'TestData_02282',\n",
       "  u'TestData_03204',\n",
       "  u'TestData_03570',\n",
       "  u'TestData_03910',\n",
       "  u'TestData_04083',\n",
       "  u'TestData_05476'],\n",
       " 'munichshooting': [u'TestData_05914',\n",
       "  u'TestData_06232',\n",
       "  u'TestData_06233',\n",
       "  u'TestData_06237',\n",
       "  u'TestData_06240',\n",
       "  u'TestData_06250',\n",
       "  u'TestData_06254',\n",
       "  u'TestData_06255',\n",
       "  u'TestData_06256'],\n",
       " 'orlandoterrorattack': [u'TestData_02278',\n",
       "  u'TestData_02416',\n",
       "  u'TestData_03764',\n",
       "  u'TestData_03843',\n",
       "  u'TestData_03874',\n",
       "  u'TestData_03876',\n",
       "  u'TestData_04091',\n",
       "  u'TestData_05013',\n",
       "  u'TestData_05163',\n",
       "  u'TestData_05238'],\n",
       " 'parisattacks': [u'TestData_03244',\n",
       "  u'TestData_03399',\n",
       "  u'TestData_03409',\n",
       "  u'TestData_03478',\n",
       "  u'TestData_03515',\n",
       "  u'TestData_03549',\n",
       "  u'TestData_03844',\n",
       "  u'TestData_04459',\n",
       "  u'TestData_04977',\n",
       "  u'TestData_05053'],\n",
       " 'peaceandreconciliation': [u'TestData_04840',\n",
       "  u'TestData_04843',\n",
       "  u'TestData_04873',\n",
       "  u'TestData_04907',\n",
       "  u'TestData_05706',\n",
       "  u'TestData_06230',\n",
       "  u'TestData_06330',\n",
       "  u'TestData_06579',\n",
       "  u'TestData_06625'],\n",
       " 'sanbernardinoshooting': [u'TestData_03768',\n",
       "  u'TestData_03811',\n",
       "  u'TestData_03812',\n",
       "  u'TestData_03820',\n",
       "  u'TestData_03821',\n",
       "  u'TestData_03847',\n",
       "  u'TestData_03856',\n",
       "  u'TestData_03868',\n",
       "  u'TestData_04198',\n",
       "  u'TestData_04751'],\n",
       " 'tunisiaattack2015': [u'TestData_00837',\n",
       "  u'TestData_00890',\n",
       "  u'TestData_01644',\n",
       "  u'TestData_01663',\n",
       "  u'TestData_01669',\n",
       "  u'TestData_01675',\n",
       "  u'TestData_01682',\n",
       "  u'TestData_01693',\n",
       "  u'TestData_01701',\n",
       "  u'TestData_01771'],\n",
       " 'turkeycoupattempt': [u'TestData_04333',\n",
       "  u'TestData_04842',\n",
       "  u'TestData_04911',\n",
       "  u'TestData_04913',\n",
       "  u'TestData_06128',\n",
       "  u'TestData_06145',\n",
       "  u'TestData_06164',\n",
       "  u'TestData_06178',\n",
       "  u'TestData_06199',\n",
       "  u'TestData_06213'],\n",
       " 'zikavirus': [u'TestData_04490', u'TestData_04550', u'TestData_06610']}"
      ]
     },
     "execution_count": 252,
     "metadata": {},
     "output_type": "execute_result"
    }
   ],
   "source": [
    "train_test_data"
   ]
  },
  {
   "cell_type": "code",
   "execution_count": 323,
   "metadata": {
    "scrolled": true
   },
   "outputs": [
    {
     "data": {
      "text/plain": [
       "{'bastilledaytruckattack': [u'TestData_01662',\n",
       "  u'TestData_06106',\n",
       "  u'TestData_06107',\n",
       "  u'TestData_06122',\n",
       "  u'TestData_06126',\n",
       "  u'TestData_06155',\n",
       "  u'TestData_06158',\n",
       "  u'TestData_06171'],\n",
       " 'berlinchristmasmarketattack': [u'TestData_03682',\n",
       "  u'TestData_04254',\n",
       "  u'TestData_07490',\n",
       "  u'TestData_07504',\n",
       "  u'TestData_07514',\n",
       "  u'TestData_07522',\n",
       "  u'TestData_07543',\n",
       "  u'TestData_07558'],\n",
       " 'brusselsattacks': [u'TestData_05025',\n",
       "  u'TestData_05027',\n",
       "  u'TestData_05029',\n",
       "  u'TestData_05041',\n",
       "  u'TestData_05103',\n",
       "  u'TestData_05126',\n",
       "  u'TestData_05324',\n",
       "  u'TestData_07513'],\n",
       " 'charliehebdoattack': [u'TestData_00047',\n",
       "  u'TestData_00072',\n",
       "  u'TestData_00121',\n",
       "  u'TestData_00156',\n",
       "  u'TestData_00172',\n",
       "  u'TestData_01147',\n",
       "  u'TestData_01162',\n",
       "  u'TestData_04189'],\n",
       " 'francetrainattack': [u'TestData_00058',\n",
       "  u'TestData_01033',\n",
       "  u'TestData_01247',\n",
       "  u'TestData_02263',\n",
       "  u'TestData_02264',\n",
       "  u'TestData_02282',\n",
       "  u'TestData_03204',\n",
       "  u'TestData_05476'],\n",
       " 'munichshooting': [u'TestData_04175',\n",
       "  u'TestData_05914',\n",
       "  u'TestData_06232',\n",
       "  u'TestData_06237',\n",
       "  u'TestData_06240',\n",
       "  u'TestData_06255',\n",
       "  u'TestData_06268',\n",
       "  u'TestData_06269'],\n",
       " 'orlandoterrorattack': [u'TestData_00359',\n",
       "  u'TestData_01723',\n",
       "  u'TestData_03764',\n",
       "  u'TestData_03876',\n",
       "  u'TestData_05238',\n",
       "  u'TestData_05734',\n",
       "  u'TestData_06582',\n",
       "  u'TestData_07302'],\n",
       " 'parisattacks': [u'TestData_03244',\n",
       "  u'TestData_03409',\n",
       "  u'TestData_03478',\n",
       "  u'TestData_03515',\n",
       "  u'TestData_04977',\n",
       "  u'TestData_05287',\n",
       "  u'TestData_05400',\n",
       "  u'TestData_07211'],\n",
       " 'peaceandreconciliation': [u'TestData_01140',\n",
       "  u'TestData_04678',\n",
       "  u'TestData_04840',\n",
       "  u'TestData_04843',\n",
       "  u'TestData_05706',\n",
       "  u'TestData_06230',\n",
       "  u'TestData_06800',\n",
       "  u'TestData_06912'],\n",
       " 'sanbernardinoshooting': [u'TestData_02674',\n",
       "  u'TestData_03768',\n",
       "  u'TestData_03811',\n",
       "  u'TestData_03812',\n",
       "  u'TestData_03821',\n",
       "  u'TestData_03847',\n",
       "  u'TestData_03856',\n",
       "  u'TestData_06810'],\n",
       " 'tunisiaattack2015': [u'TestData_00799',\n",
       "  u'TestData_00835',\n",
       "  u'TestData_01644',\n",
       "  u'TestData_01663',\n",
       "  u'TestData_01701',\n",
       "  u'TestData_01835',\n",
       "  u'TestData_01836',\n",
       "  u'TestData_05951'],\n",
       " 'turkeycoupattempt': [u'TestData_02791',\n",
       "  u'TestData_04333',\n",
       "  u'TestData_06164',\n",
       "  u'TestData_06178',\n",
       "  u'TestData_06199',\n",
       "  u'TestData_06213',\n",
       "  u'TestData_06245',\n",
       "  u'TestData_06348'],\n",
       " 'zikavirus': [u'TestData_04490', u'TestData_04550', u'TestData_06610']}"
      ]
     },
     "execution_count": 323,
     "metadata": {},
     "output_type": "execute_result"
    }
   ],
   "source": [
    "train_test_data"
   ]
  },
  {
   "cell_type": "code",
   "execution_count": 342,
   "metadata": {
    "scrolled": true
   },
   "outputs": [
    {
     "data": {
      "text/plain": [
       "{'bastilledaytruckattack': [u'TestData_01662',\n",
       "  u'TestData_06106',\n",
       "  u'TestData_06107',\n",
       "  u'TestData_06122',\n",
       "  u'TestData_06126',\n",
       "  u'TestData_06155',\n",
       "  u'TestData_06158',\n",
       "  u'TestData_06171'],\n",
       " 'berlinchristmasmarketattack': [u'TestData_03682',\n",
       "  u'TestData_04254',\n",
       "  u'TestData_07490',\n",
       "  u'TestData_07504',\n",
       "  u'TestData_07514',\n",
       "  u'TestData_07522',\n",
       "  u'TestData_07543',\n",
       "  u'TestData_07558'],\n",
       " 'brusselsattacks': [u'TestData_05025',\n",
       "  u'TestData_05027',\n",
       "  u'TestData_05029',\n",
       "  u'TestData_05041',\n",
       "  u'TestData_05103',\n",
       "  u'TestData_05126',\n",
       "  u'TestData_05324',\n",
       "  u'TestData_07513'],\n",
       " 'charliehebdoattack': [u'TestData_00047',\n",
       "  u'TestData_00072',\n",
       "  u'TestData_00121',\n",
       "  u'TestData_00156',\n",
       "  u'TestData_00172',\n",
       "  u'TestData_01147',\n",
       "  u'TestData_01162',\n",
       "  u'TestData_04189'],\n",
       " 'francetrainattack': [u'TestData_00058',\n",
       "  u'TestData_01033',\n",
       "  u'TestData_01247',\n",
       "  u'TestData_02263',\n",
       "  u'TestData_02264',\n",
       "  u'TestData_02282',\n",
       "  u'TestData_03204',\n",
       "  u'TestData_05476'],\n",
       " 'munichshooting': [u'TestData_04175',\n",
       "  u'TestData_05914',\n",
       "  u'TestData_06232',\n",
       "  u'TestData_06237',\n",
       "  u'TestData_06240',\n",
       "  u'TestData_06255',\n",
       "  u'TestData_06268',\n",
       "  u'TestData_06269'],\n",
       " 'orlandoterrorattack': [u'TestData_00359',\n",
       "  u'TestData_01723',\n",
       "  u'TestData_03764',\n",
       "  u'TestData_03876',\n",
       "  u'TestData_05238',\n",
       "  u'TestData_05734',\n",
       "  u'TestData_06582',\n",
       "  u'TestData_07302'],\n",
       " 'parisattacks': [u'TestData_03244',\n",
       "  u'TestData_03409',\n",
       "  u'TestData_03478',\n",
       "  u'TestData_03515',\n",
       "  u'TestData_04977',\n",
       "  u'TestData_05287',\n",
       "  u'TestData_05400',\n",
       "  u'TestData_07211'],\n",
       " 'peaceandreconciliation': [u'TestData_01140',\n",
       "  u'TestData_04678',\n",
       "  u'TestData_04840',\n",
       "  u'TestData_04843',\n",
       "  u'TestData_05706',\n",
       "  u'TestData_06230',\n",
       "  u'TestData_06800',\n",
       "  u'TestData_06912'],\n",
       " 'sanbernardinoshooting': [u'TestData_02674',\n",
       "  u'TestData_03768',\n",
       "  u'TestData_03811',\n",
       "  u'TestData_03812',\n",
       "  u'TestData_03821',\n",
       "  u'TestData_03847',\n",
       "  u'TestData_03856',\n",
       "  u'TestData_06810'],\n",
       " 'tunisiaattack2015': [u'TestData_00799',\n",
       "  u'TestData_00835',\n",
       "  u'TestData_01644',\n",
       "  u'TestData_01663',\n",
       "  u'TestData_01701',\n",
       "  u'TestData_01835',\n",
       "  u'TestData_01836',\n",
       "  u'TestData_05951'],\n",
       " 'turkeycoupattempt': [u'TestData_02791',\n",
       "  u'TestData_04333',\n",
       "  u'TestData_06164',\n",
       "  u'TestData_06178',\n",
       "  u'TestData_06199',\n",
       "  u'TestData_06213',\n",
       "  u'TestData_06245',\n",
       "  u'TestData_06348'],\n",
       " 'zikavirus': [u'TestData_04490', u'TestData_04550', u'TestData_06610']}"
      ]
     },
     "execution_count": 342,
     "metadata": {},
     "output_type": "execute_result"
    }
   ],
   "source": [
    "train_test_data"
   ]
  },
  {
   "cell_type": "code",
   "execution_count": null,
   "metadata": {
    "collapsed": true
   },
   "outputs": [],
   "source": []
  },
  {
   "cell_type": "markdown",
   "metadata": {},
   "source": [
    "## Use 7512 for Berlin Christmas market attack / Germany / Paris attacks / Brussels attacks / France / analysis"
   ]
  },
  {
   "cell_type": "code",
   "execution_count": 277,
   "metadata": {},
   "outputs": [
    {
     "data": {
      "text/plain": [
       "u'Four days after 129 people were killed and 352 wounded in gun and bomb attacks in Paris, people around the world are trying to come to terms with what happened. Vigils and events have taken place in a show of solidarity with France. French Muslim leaders gathered outside the Bataclan concert hall on Sunday to honour the 89 people who died there; on Monday France held a minute\\u2019s silence at noon, joined by many people in Britain; and events have been held around the world to remember the victims. But how have the terrorist attacks affected you? If you\\u2019re Muslim, we want to hear your thoughts on how the Paris attacks have impacted you and your community. Fill in the form below - you do not have to answer every question - and we\\u2019ll use a selection of responses in our reporting.'"
      ]
     },
     "execution_count": 277,
     "metadata": {},
     "output_type": "execute_result"
    }
   ],
   "source": [
    "test_df.iloc[3398].bodyText # 19"
   ]
  },
  {
   "cell_type": "code",
   "execution_count": 284,
   "metadata": {},
   "outputs": [
    {
     "name": "stdout",
     "output_type": "stream",
     "text": [
      "activism [(2265, 0.5), (4471, 0.5), (152, 0.5), (5445, 0.5), (6796, 0.5)]\n",
      "bastilledaytruckattack [(6128, 0.80000000000000004), (6098, 0.69999999999999996), (6121, 0.69999999999999996), (6105, 0.69999999999999996), (6126, 0.69999999999999996)]\n",
      "berlinchristmasmarketattack [(3681, 0.80000000000000004), (7491, 0.80000000000000004), (7521, 0.69999999999999996), (7503, 0.69999999999999996), (7489, 0.69999999999999996)]\n",
      "brusselsattacks [(5125, 0.80000000000000004), (5019, 0.80000000000000004), (5046, 0.80000000000000004), (3515, 0.80000000000000004), (5102, 0.69999999999999996)]\n",
      "charliehebdoattack [(71, 0.90000000000000002), (4276, 0.90000000000000002), (60, 0.90000000000000002), (4188, 0.90000000000000002), (120, 0.90000000000000002)]\n",
      "francetrainattack [(3514, 0.69999999999999996), (1246, 0.69999999999999996), (3198, 0.69999999999999996), (2263, 0.69999999999999996), (6256, 0.69999999999999996)]\n",
      "munichshooting [(6267, 0.80000000000000004), (6231, 0.80000000000000004), (6236, 0.69999999999999996), (6318, 0.69999999999999996), (4178, 0.69999999999999996)]\n",
      "orlandoterrorattack [(5758, 0.80000000000000004), (5734, 0.69999999999999996), (5885, 0.69999999999999996), (5861, 0.69999999999999996), (5759, 0.69999999999999996)]\n",
      "parisattacks [(6118, 0.80000000000000004), (3514, 0.80000000000000004), (3458, 0.80000000000000004), (3232, 0.80000000000000004), (3186, 0.69999999999999996)]\n",
      "peaceandreconciliation [(1139, 0.59999999999999998), (5705, 0.59999999999999998), (6229, 0.59999999999999998), (6799, 0.59999999999999998), (6853, 0.59999999999999998)]\n",
      "sanbernardinoshooting [(3820, 0.80000000000000004), (3846, 0.80000000000000004), (3811, 0.69999999999999996), (3855, 0.69999999999999996), (7, 0.69999999999999996)]\n",
      "tunisiaattack2015 [(834, 0.80000000000000004), (1700, 0.80000000000000004), (5950, 0.69999999999999996), (1834, 0.69999999999999996), (4161, 0.69999999999999996)]\n",
      "turkeycoupattempt [(6212, 0.80000000000000004), (6102, 0.80000000000000004), (6162, 0.80000000000000004), (6177, 0.80000000000000004), (6347, 0.80000000000000004)]\n",
      "zikavirus [(4489, 0.90000000000000002), (4549, 0.59999999999999998), (6609, 0.59999999999999998), (5682, 0.59999999999999998), (7262, 0.5)]\n"
     ]
    }
   ],
   "source": [
    "# 'tfidf_wvec': [test_tfidf_wvec, unseen_topics2vec.tfidf_wv],\n",
    "# 'tfidf_fvec': [test_tfidf_fvec, unseen_topics2vec.tfidf_fs],\n",
    "# 'tfidf_lsi': [test_tfidf_lsi, unseen_topics2vec.tfidf_lsi],\n",
    "\n",
    "sim = cosine_similarity(\n",
    "    np.vstack(test_tfidf_wvec),\n",
    "    np.vstack(unseen_topics2vec.tfidf_wv),\n",
    ")\n",
    "N = 5\n",
    "for i, t in enumerate(unseen_topics2vec.index):\n",
    "    idx = sim[:, i].argsort()[::-1][:N]\n",
    "    v = sim[:, i][idx]\n",
    "    print unseen_topics2vec.index[i], zip(idx[:N], np.round(v[:N], 1))\n"
   ]
  },
  {
   "cell_type": "code",
   "execution_count": 272,
   "metadata": {},
   "outputs": [
    {
     "data": {
      "text/plain": [
       "array([ 0.85859394,  0.57481531,  0.56485035,  0.55066684,  0.5251468 ,\n",
       "        0.45473479,  0.44471953,  0.44246537,  0.42221175,  0.42088665,\n",
       "        0.4148486 ,  0.41344707,  0.4058871 ,  0.40490635,  0.39717574,\n",
       "        0.39518468,  0.39454976,  0.3910347 ,  0.38950969,  0.38351464])"
      ]
     },
     "execution_count": 272,
     "metadata": {},
     "output_type": "execute_result"
    }
   ],
   "source": [
    "v"
   ]
  },
  {
   "cell_type": "code",
   "execution_count": 125,
   "metadata": {
    "scrolled": true
   },
   "outputs": [
    {
     "data": {
      "text/plain": [
       "tfidf_fvec    zikavirus\n",
       "tfidf_wvec    zikavirus\n",
       "tfidf_lsi         ebola\n",
       "Name: TestData_04490, dtype: object"
      ]
     },
     "execution_count": 125,
     "metadata": {},
     "output_type": "execute_result"
    }
   ],
   "source": [
    "test_max_class_df.ix['TestData_04490']"
   ]
  },
  {
   "cell_type": "code",
   "execution_count": 262,
   "metadata": {},
   "outputs": [
    {
     "data": {
      "text/plain": [
       "'ebola'"
      ]
     },
     "execution_count": 262,
     "metadata": {},
     "output_type": "execute_result"
    }
   ],
   "source": [
    "tpvec.index[41]"
   ]
  },
  {
   "cell_type": "code",
   "execution_count": 126,
   "metadata": {
    "scrolled": true
   },
   "outputs": [
    {
     "data": {
      "text/plain": [
       "tfidf_fvec    zikavirus\n",
       "tfidf_wvec    zikavirus\n",
       "tfidf_lsi         ebola\n",
       "Name: TestData_04490, dtype: object"
      ]
     },
     "execution_count": 126,
     "metadata": {},
     "output_type": "execute_result"
    }
   ],
   "source": [
    "test_max_class_df.iloc[4489]"
   ]
  },
  {
   "cell_type": "code",
   "execution_count": 78,
   "metadata": {
    "scrolled": true
   },
   "outputs": [
    {
     "data": {
      "text/plain": [
       "tfidf_fvec    zikavirus\n",
       "tfidf_wvec    zikavirus\n",
       "tfidf_lsi         ebola\n",
       "Name: TestData_04490, dtype: object"
      ]
     },
     "execution_count": 78,
     "metadata": {},
     "output_type": "execute_result"
    }
   ],
   "source": [
    "test_max_class_df.iloc[4489]"
   ]
  },
  {
   "cell_type": "code",
   "execution_count": 222,
   "metadata": {},
   "outputs": [
    {
     "data": {
      "text/plain": [
       "array([151, 134,  29, ...,  72, 136, 136])"
      ]
     },
     "execution_count": 222,
     "metadata": {},
     "output_type": "execute_result"
    }
   ],
   "source": [
    "sim.argmax(axis=1)"
   ]
  },
  {
   "cell_type": "code",
   "execution_count": 216,
   "metadata": {},
   "outputs": [
    {
     "data": {
      "text/plain": [
       "Counter({0: 14,\n",
       "         1: 38,\n",
       "         2: 15,\n",
       "         3: 12,\n",
       "         4: 27,\n",
       "         5: 35,\n",
       "         6: 5,\n",
       "         7: 9,\n",
       "         8: 8,\n",
       "         9: 32,\n",
       "         10: 85,\n",
       "         11: 201,\n",
       "         12: 6,\n",
       "         13: 16,\n",
       "         14: 15,\n",
       "         15: 2,\n",
       "         16: 10,\n",
       "         17: 8,\n",
       "         18: 12,\n",
       "         19: 38,\n",
       "         20: 7,\n",
       "         21: 16,\n",
       "         22: 70,\n",
       "         23: 11,\n",
       "         24: 20,\n",
       "         25: 8,\n",
       "         26: 17,\n",
       "         27: 44,\n",
       "         28: 31,\n",
       "         29: 18,\n",
       "         30: 5,\n",
       "         31: 3,\n",
       "         32: 47,\n",
       "         33: 30,\n",
       "         34: 8,\n",
       "         35: 9,\n",
       "         36: 32,\n",
       "         37: 68,\n",
       "         38: 1,\n",
       "         39: 3,\n",
       "         40: 27,\n",
       "         41: 38,\n",
       "         42: 11,\n",
       "         43: 56,\n",
       "         44: 38,\n",
       "         45: 19,\n",
       "         46: 17,\n",
       "         47: 5,\n",
       "         48: 69,\n",
       "         49: 15,\n",
       "         50: 28,\n",
       "         51: 2,\n",
       "         52: 8,\n",
       "         53: 254,\n",
       "         54: 17,\n",
       "         55: 25,\n",
       "         56: 124,\n",
       "         57: 26,\n",
       "         58: 34,\n",
       "         59: 8,\n",
       "         60: 83,\n",
       "         61: 15,\n",
       "         62: 8,\n",
       "         63: 32,\n",
       "         64: 31,\n",
       "         65: 67,\n",
       "         66: 11,\n",
       "         67: 41,\n",
       "         68: 12,\n",
       "         69: 29,\n",
       "         70: 44,\n",
       "         71: 5,\n",
       "         72: 64,\n",
       "         73: 104,\n",
       "         74: 11,\n",
       "         75: 18,\n",
       "         76: 38,\n",
       "         77: 714,\n",
       "         78: 144,\n",
       "         80: 4,\n",
       "         81: 12,\n",
       "         82: 21,\n",
       "         83: 23,\n",
       "         84: 11,\n",
       "         85: 5,\n",
       "         86: 10,\n",
       "         87: 73,\n",
       "         88: 21,\n",
       "         89: 2,\n",
       "         90: 44,\n",
       "         91: 5,\n",
       "         92: 5,\n",
       "         94: 26,\n",
       "         95: 98,\n",
       "         96: 5,\n",
       "         97: 15,\n",
       "         98: 30,\n",
       "         99: 1,\n",
       "         100: 17,\n",
       "         101: 25,\n",
       "         102: 7,\n",
       "         103: 11,\n",
       "         104: 59,\n",
       "         105: 9,\n",
       "         106: 102,\n",
       "         108: 10,\n",
       "         109: 142,\n",
       "         110: 4,\n",
       "         111: 99,\n",
       "         112: 191,\n",
       "         113: 30,\n",
       "         114: 5,\n",
       "         115: 14,\n",
       "         116: 85,\n",
       "         117: 368,\n",
       "         118: 9,\n",
       "         119: 123,\n",
       "         120: 182,\n",
       "         121: 4,\n",
       "         122: 16,\n",
       "         123: 2,\n",
       "         124: 10,\n",
       "         125: 144,\n",
       "         126: 185,\n",
       "         127: 178,\n",
       "         128: 12,\n",
       "         129: 41,\n",
       "         130: 15,\n",
       "         131: 34,\n",
       "         132: 50,\n",
       "         133: 14,\n",
       "         134: 55,\n",
       "         135: 47,\n",
       "         136: 619,\n",
       "         137: 23,\n",
       "         138: 120,\n",
       "         139: 7,\n",
       "         140: 11,\n",
       "         141: 25,\n",
       "         142: 42,\n",
       "         143: 29,\n",
       "         144: 44,\n",
       "         145: 118,\n",
       "         146: 4,\n",
       "         147: 32,\n",
       "         148: 7,\n",
       "         149: 46,\n",
       "         150: 14,\n",
       "         151: 177,\n",
       "         152: 31,\n",
       "         153: 14,\n",
       "         154: 85,\n",
       "         155: 2,\n",
       "         156: 55,\n",
       "         157: 20,\n",
       "         158: 9,\n",
       "         159: 9})"
      ]
     },
     "execution_count": 216,
     "metadata": {},
     "output_type": "execute_result"
    }
   ],
   "source": [
    "Counter(sim.argmax(axis=1))"
   ]
  },
  {
   "cell_type": "code",
   "execution_count": 221,
   "metadata": {},
   "outputs": [
    {
     "data": {
      "text/plain": [
       "(array([11]),)"
      ]
     },
     "execution_count": 221,
     "metadata": {},
     "output_type": "execute_result"
    }
   ],
   "source": [
    "np.where(all_topics2vec.index.str.contains('bastille'))"
   ]
  },
  {
   "cell_type": "code",
   "execution_count": 259,
   "metadata": {},
   "outputs": [
    {
     "data": {
      "text/plain": [
       "7.202270959611463"
      ]
     },
     "execution_count": 259,
     "metadata": {},
     "output_type": "execute_result"
    }
   ],
   "source": [
    "tfidf.idfs[dictionary.token2id['virus']]"
   ]
  },
  {
   "cell_type": "code",
   "execution_count": 168,
   "metadata": {
    "collapsed": true
   },
   "outputs": [],
   "source": [
    "test_doc_tokens = pd.DataFrame({k: {dictionary.id2token[t]: c for t, c in dictionary.doc2bow(i)} for k, i in zip(test_transformed_text.index, test_transformed_text.str.split())})"
   ]
  },
  {
   "cell_type": "code",
   "execution_count": 178,
   "metadata": {
    "collapsed": true,
    "scrolled": true
   },
   "outputs": [],
   "source": [
    "test_doc_tokens = test_doc_tokens.T"
   ]
  },
  {
   "cell_type": "code",
   "execution_count": 217,
   "metadata": {
    "scrolled": true
   },
   "outputs": [
    {
     "data": {
      "text/plain": [
       "(10, 84860)"
      ]
     },
     "execution_count": 217,
     "metadata": {},
     "output_type": "execute_result"
    }
   ],
   "source": [
    "test_doc_tokens[test_doc_tokens.zika > 0].shape"
   ]
  },
  {
   "cell_type": "code",
   "execution_count": null,
   "metadata": {
    "collapsed": true
   },
   "outputs": [],
   "source": []
  },
  {
   "cell_type": "code",
   "execution_count": null,
   "metadata": {
    "collapsed": true
   },
   "outputs": [],
   "source": [
    "def score_topic_doc_match(doc_tokens, topic_tokens):\n",
    "    "
   ]
  },
  {
   "cell_type": "code",
   "execution_count": 84,
   "metadata": {
    "scrolled": true
   },
   "outputs": [
    {
     "data": {
      "text/plain": [
       "{'activism': [array([6796, 5937,  396, 4906, 4471]),\n",
       "  array([6796, 6624, 4906,  396, 2265]),\n",
       "  array([7182, 4421,  170, 3121, 4062])],\n",
       " 'bastilledaytruckattack': [array([6128,   78, 3188, 6135, 3210]),\n",
       "  array([6128,   78, 3220, 3188, 3210]),\n",
       "  array([5142, 3187, 3182, 4340, 7481])],\n",
       " 'berlinchristmasmarketattack': [array([7491, 6818, 3681, 7489, 6267]),\n",
       "  array([7491, 6267, 7489, 3681, 6818]),\n",
       "  array([7489, 3681, 7535, 4253, 7513])],\n",
       " 'brusselsattacks': [array([3300, 5008, 4458, 5080, 7056]),\n",
       "  array([3300, 5008, 3554, 5019, 5028]),\n",
       "  array([2062, 3620, 5028, 5113, 5052])],\n",
       " 'charliehebdoattack': [array([3124,   45,   67, 4198,   49]),\n",
       "  array([3124,   45,   49, 4198, 2539]),\n",
       "  array([3182, 4198, 3873, 2062, 4961])],\n",
       " 'francetrainattack': [array([3514, 2263, 5028, 5475, 6636]),\n",
       "  array([3514, 2263, 5028, 5475, 1246]),\n",
       "  array([6118, 3200, 7210, 2263, 3649])],\n",
       " 'munichshooting': [array([6268, 6254, 6231, 6267, 6232]),\n",
       "  array([4031, 6268, 6231, 2129, 6254]),\n",
       "  array([6239, 6254, 6249, 6231, 6253])],\n",
       " 'orlandoterrorattack': [array([5839, 5885, 5733, 5758, 5737]),\n",
       "  array([5839, 5885, 1901, 5758, 5760]),\n",
       "  array([2062, 3182, 3873, 3763, 5004])],\n",
       " 'parisattacks': [array([3514, 3267, 5257, 7210, 3200]),\n",
       "  array([3514, 3267, 7210, 5257, 3319]),\n",
       "  array([7210, 5399, 4975, 5257, 6118])],\n",
       " 'peaceandreconciliation': [array([6853, 2813, 1314, 2993, 7580]),\n",
       "  array([6853, 2993, 2813, 1314, 1139]),\n",
       "  array([2993, 2813, 1314, 6853, 6911])],\n",
       " 'sanbernardinoshooting': [array([4057,  588, 4069, 3810, 4222]),\n",
       "  array([3846, 3810, 4057, 4069, 1167]),\n",
       "  array([3944, 4761, 3769, 4007, 6302])],\n",
       " 'tunisiaattack2015': [array([ 805, 1668, 1643,  889, 5950]),\n",
       "  array([ 805, 1668, 1643, 5950,  889]),\n",
       "  array([ 805, 2094, 1668, 1839, 2241])],\n",
       " 'turkeycoupattempt': [array([6163, 6102, 6177, 6211, 6244]),\n",
       "  array([6163, 6177, 6102, 6211, 6244]),\n",
       "  array([6163, 6177, 7168, 6545, 6244])],\n",
       " 'zikavirus': [array([4489, 7543, 4760, 4549,  749]),\n",
       "  array([4489, 7543, 6609, 4760, 4549]),\n",
       "  array([7543, 4489,  950, 4760,  691])]}"
      ]
     },
     "execution_count": 84,
     "metadata": {},
     "output_type": "execute_result"
    }
   ],
   "source": [
    "unseen_topics_rank"
   ]
  },
  {
   "cell_type": "code",
   "execution_count": 319,
   "metadata": {
    "scrolled": false
   },
   "outputs": [
    {
     "data": {
      "text/plain": [
       "u'French police have tweeted a picture of the third man they believe carried out the bomb attack on the Stade de France last week, and appealed for help in identifying him. The Police Nationale released the image on Sunday evening, nine days after the bombings, which were part of a series of simultaneous attacks across the French capital that killed 130 people. It followed police raids in which three people suspected of involvement in the attacks were killed. The man\\u2019s image was accompanied by a message that read: \\u201cThis individual is the third dead perpetrator of one of the attacks carried out on 13 November at the Stade de France.\\u201d In Belgium, the prime minister, Charles Michel, said the terror alert would remain at the country\\u2019s highest level for a sustained \\u201cserious and imminent\\u201d threat against the capital, Brussels. Michel said that, like the weekend, authorities fear a Paris-like attack, \\u201ceven perhaps at several locations\\u201d. He said that consequently schools and the subway system in the city would not open.'"
      ]
     },
     "execution_count": 319,
     "metadata": {},
     "output_type": "execute_result"
    }
   ],
   "source": [
    "test_df.iloc[3514].bodyText # 19"
   ]
  },
  {
   "cell_type": "code",
   "execution_count": 253,
   "metadata": {
    "scrolled": true
   },
   "outputs": [
    {
     "data": {
      "text/plain": [
       "u'Violent protests at Trump rally in California With the tenor of the general election campaign now clearly defined, Hillary Clinton delivered a stinging rebuke to Donald Trump\\u2019s claim to understand international affairs on Thursday. Trump, meanwhile, described Clinton\\u2019s clear-headed foreign policy address \\u2013 in which she described him as too unstable to be trusted with nuclear launch codes and warned he would take the country down a \\u201ctruly dangerous path\\u201d \\u2013 as \\u201cpathetic\\u201d and said she should be in jail. Violence later erupted at a Trump rally in California. Reports from San Jose described anti-Trump demonstrators chasing \\u2013 and in some cases punching and attacking \\u2013 departing Trump supporters, some of whom appeared intent on provoking and fighting. Riot police were deployed to control the crowd. The mayor of San Jose, Sam Liccardo, blamed Trump. \\u201cWe don\\u2019t appreciate [anyone] utilizing campaign tactics of demagoguery,\\u201d he said. Meanwhile, Trump has stepped up his race-tinged attacks against the judge in a court case over Trump University, accusing Gonzalo Curiel of a \\u201cconflict of interest\\u201d because of his Mexican heritage. Protesters attack Trump supporters after San Jose speech striking back at Clinton Philadelphia faces lawsuit over water testing The city is facing legal action over water test practices that may lead to underestimates of lead levels in municipal water supplies. Following a Guardian investigation that showed how 33 cities across 17 states have used problematic testing methods, the Philadelphia water department, accused by some experts of having water testing \\u201cworse than Flint\\u201d, is now facing a class action lawsuit. \\u201cThe kind of construction the city is carrying out creates the perfect storm for lead pipe corrosion,\\u201d claims attorney Steve Berman. \\u201cYet the city has decided to conceal this growing health hazard from its own citizens.\\u201d Philadelphia water department faces class action lawsuit over water testing Missing Japanese boy found Six days after his parents left him at the edge of a bear-inhabited forest as punishment for throwing stones at cars and people, seven-year-old Yamato Tanooka has been found. Tanooka was located by chance by military personnel in a hut on one of its exercise areas, three miles from where he is believed to have gone missing. A doctor who examined him after his ordeal in Hokkaido, Japan\\u2019s northernmost island, said: \\u201cHe was incredibly calm considering he had been missing for seven days. He didn\\u2019t panic at all.\\u201d After being reunited, his father \\u2013 who acknowledges he took disciplinary action too far \\u2013 said he\\u2019d apologised for creating \\u201csuch an awful memory for him\\u201d. Yamato Tanooka: missing Japanese boy found alive after six nights in forest Prince\\u2019s medical report confirms drug overdose The Midwest medical examiner\\u2019s office has found that the 57-year-old singer, found dead at his suburban Minneapolis compound on 21 April, was killed by an overdose of Fentanyl, a powerful synthetic opiate. The fatal dose was self-administered, medical examiner A Quinn Strobl confirmed. The report provided few further details and did not describe how Prince obtained Fentanyl, a quick-acting painkiller used by anesthesiologists and often associated with overdose deaths among long-term users of opiate drugs. Investigators are still looking into whether the singer had a prescription drug problem, but friends and family members have expressed surprise at this outcome: they say Prince avoided alcohol and drugs and maintained a healthy lifestyle. Tests confirm Prince died of opioid overdose, says medical examiner Universe expanding faster than thought New measurements taken by the Hubble space telescope suggest the universe is expanding 9% faster than previously thought. The finding, announced by Nasa and the European Space Agency, was made by using the telescope to measure the distance to stars in 19 galaxies beyond the Milky Way. The discovery could test part of Albert Einstein\\u2019s theory of relativity and raises new questions about the amount and characteristics of dark matter in the universe. Physicist and lead author Adam Riess said: \\u201cThe ends are not quite meeting in the middle and we want to know why.\\u201d Universe is expanding up to 9% faster than we thought, say scientists Five soldiers dead in Texas as floods intensify An army tactical vehicle carrying a dozen soldiers has overturned in flood conditions at Fort Hood in Texas. Five soldiers were confirmed dead, four were still missing and three were rescued after floods caused by extreme rains washed their light medium tactical vehicle from a low-water crossing and overturned it. The army has not released the names of the dead because it is still notifying relatives. Rain and flooding in the region are expected to worsen through Saturday, with up to 10 inches of rain pushing rivers and other waterways up over already record levels. Three soldiers dead and six missing after army truck overturns in Texas creek Judge chastised for \\u2018complete disregard for the law\\u2019 More than 100 defense attorneys have joined a complaint about the high-handed behavior of Las Vegas judge Conrad Hafen, whose courtroom antics have included placing public defender Zohra Bakhtary in handcuffs \\u201cto teach her a lesson\\u201d. The complaint claims that Judge Hafen\\u2019s mercurial rulings have on several occasions deprived people of proper defense hearings and resulted in unnecessary jail time. Judge who handcuffed public defender to teach a \\u2018lesson\\u2019 gets own chastising Muslim, gay and devout Torontonian Samra Habib describes how she once felt she had no right to call herself a Muslim because she\\u2019s queer and doesn\\u2019t wear a hijab. Though she did not attend a mosque, she maintained a private relationship with Allah, she writes. Then she found Toronto\\u2019s Unity mosque, one of a handful of prayer spaces that welcome queer Muslims. Founder El-Farouk Khaki says the notion of an inclusive mosque space that\\u2019s gender-equal and queer-affirming has fired up people\\u2019s imagination. \\u201cEverybody is welcome. People are embraced in the fullness of their authenticity\\u201d. Queer and going to the mosque: \\u2018I\\u2019ve never felt more Muslim than I do now\\u2019 US cyclist to skip Olympics over Zika fears Tejay van Garderen has withdrawn from the Rio games over concern that the mosquito-borne Zika virus could pose problems for his pregnant wife. This comes after Australian tennis player Nick Kyrgios also said he would not attend. Van Garderen competed in the road race at the 2012 Olympics. \\u201cAlthough the risks associated with the Zika virus can be minimal and precautions can be taken, my wife Jessica is pregnant, and I don\\u2019t want to risk bringing anything back that could potentially have an effect,\\u201d Van Garderen explained. USA cyclist Tejay van Garderen withdraws from Olympics over Zika virus And another thing \\u2026 A group of four young Canadians who front a clothing and entertainment company called High on Life are wanted by authorities in Wyoming after images on social media showed them going off trail and splashing in a hot spring in Yellowstone national park. This comes after a series of stunts the group has staged across a string of \\u201cnational treasures\\u201d including wake-boarding on the Bonneville Salt Flats and swinging on a rope from Corona Arch in Utah. Getting \\u2018High on Life\\u2019 lands Canadian men in hot water for Yellowstone stunt'"
      ]
     },
     "execution_count": 253,
     "metadata": {},
     "output_type": "execute_result"
    }
   ],
   "source": [
    "test_df[test_df.bodyText.str.contains('Zika')].bodyText.iloc[2]"
   ]
  },
  {
   "cell_type": "code",
   "execution_count": 245,
   "metadata": {},
   "outputs": [
    {
     "name": "stderr",
     "output_type": "stream",
     "text": [
      "/home/avsolatorio/ml-ai/local/lib/python2.7/site-packages/sklearn/utils/validation.py:395: DeprecationWarning: Passing 1d arrays as data is deprecated in 0.17 and will raise ValueError in 0.19. Reshape your data either using X.reshape(-1, 1) if your data has a single feature or X.reshape(1, -1) if it contains a single sample.\n",
      "  DeprecationWarning)\n"
     ]
    }
   ],
   "source": [
    "ssim = cosine_similarity(\n",
    "    np.vstack(test_tfdifwvec)[4489],\n",
    "    np.vstack(test_tfdifwvec),\n",
    ")"
   ]
  },
  {
   "cell_type": "code",
   "execution_count": 250,
   "metadata": {},
   "outputs": [
    {
     "data": {
      "text/plain": [
       "array([4489, 7543, 4760, 4881,  471, 5557,  373,  824, 4456, 4549,  352,\n",
       "        469,  749, 1906, 1092, 6609, 2255,  950, 2888, 1512])"
      ]
     },
     "execution_count": 250,
     "metadata": {},
     "output_type": "execute_result"
    }
   ],
   "source": [
    "ssim.argsort()[0][::-1][:20]"
   ]
  },
  {
   "cell_type": "code",
   "execution_count": 252,
   "metadata": {},
   "outputs": [
    {
     "data": {
      "text/plain": [
       "['activism',\n",
       " 'afghanistan',\n",
       " 'aid',\n",
       " 'algerianhostagecrisis',\n",
       " 'alqaida',\n",
       " 'alshabaab',\n",
       " 'antiwar',\n",
       " 'arabandmiddleeastprotests',\n",
       " 'armstrade',\n",
       " 'australianguncontrol',\n",
       " 'australiansecurityandcounterterrorism',\n",
       " 'bastilledaytruckattack',\n",
       " 'belgium',\n",
       " 'berlinchristmasmarketattack',\n",
       " 'bigdata',\n",
       " 'biometrics',\n",
       " 'bokoharam',\n",
       " 'bostonmarathonbombing',\n",
       " 'britisharmy',\n",
       " 'brusselsattacks',\n",
       " 'cameroon',\n",
       " 'carers',\n",
       " 'charliehebdoattack',\n",
       " 'chemicalweapons',\n",
       " 'clusterbombs',\n",
       " 'cobra',\n",
       " 'conflictanddevelopment',\n",
       " 'controversy',\n",
       " 'criminaljustice',\n",
       " 'cybercrime',\n",
       " 'cyberwar',\n",
       " 'darknet',\n",
       " 'dataprotection',\n",
       " 'debate',\n",
       " 'defence',\n",
       " 'deflation',\n",
       " 'drones',\n",
       " 'drugs',\n",
       " 'drugspolicy',\n",
       " 'drugstrade',\n",
       " 'earthquakes',\n",
       " 'ebola',\n",
       " 'economy',\n",
       " 'egypt',\n",
       " 'encryption',\n",
       " 'energy',\n",
       " 'espionage',\n",
       " 'ethics',\n",
       " 'europeanarrestwarrant',\n",
       " 'europeancourtofhumanrights',\n",
       " 'events',\n",
       " 'extradition',\n",
       " 'famine',\n",
       " 'farright',\n",
       " 'firefighters',\n",
       " 'forensicscience',\n",
       " 'france',\n",
       " 'francetrainattack',\n",
       " 'freedomofspeech',\n",
       " 'genevaconventions',\n",
       " 'germany',\n",
       " 'guncrime',\n",
       " 'hacking',\n",
       " 'hashtags',\n",
       " 'helicoptercrashes',\n",
       " 'humanitarianresponse',\n",
       " 'humanrights',\n",
       " 'humanrightsact',\n",
       " 'humantrafficking',\n",
       " 'immigration',\n",
       " 'india',\n",
       " 'indonesia',\n",
       " 'internallydisplacedpeople',\n",
       " 'internationalcourtofjustice',\n",
       " 'internationalcriminaljustice',\n",
       " 'internetsafety',\n",
       " 'iraq',\n",
       " 'isis',\n",
       " 'israel',\n",
       " 'jordan',\n",
       " 'jubilee',\n",
       " 'judiciary',\n",
       " 'july7',\n",
       " 'justiceandsecurity',\n",
       " 'kenya',\n",
       " 'knifecrime',\n",
       " 'lebanon',\n",
       " 'libya',\n",
       " 'localgovernment',\n",
       " 'logistics',\n",
       " 'london',\n",
       " 'londonriots',\n",
       " 'malaysia',\n",
       " 'mali',\n",
       " 'malware',\n",
       " 'metropolitanpolice',\n",
       " 'middleeastpeacetalks',\n",
       " 'migration',\n",
       " 'military',\n",
       " 'ministryofdefence',\n",
       " 'morocco',\n",
       " 'mrsa',\n",
       " 'mumbaiterrorattacks',\n",
       " 'munichshooting',\n",
       " 'naturaldisasters',\n",
       " 'nigeria',\n",
       " 'nuclearweapons',\n",
       " 'occupy',\n",
       " 'organisedcrime',\n",
       " 'orlandoterrorattack',\n",
       " 'osamabinladen',\n",
       " 'paris',\n",
       " 'parisattacks',\n",
       " 'peaceandreconciliation',\n",
       " 'philippines',\n",
       " 'piracy',\n",
       " 'planecrashes',\n",
       " 'police',\n",
       " 'protest',\n",
       " 'refugees',\n",
       " 'religion',\n",
       " 'retirementage',\n",
       " 'rio20earthsummit',\n",
       " 'royalairforce',\n",
       " 'royalnavy',\n",
       " 'russia',\n",
       " 'sanbernardinoshooting',\n",
       " 'saudiarabia',\n",
       " 'september11',\n",
       " 'slavery',\n",
       " 'somalia',\n",
       " 'southafrica',\n",
       " 'southchinasea',\n",
       " 'stopandsearch',\n",
       " 'surveillance',\n",
       " 'sydneysiege',\n",
       " 'syria',\n",
       " 'taliban',\n",
       " 'terrorism',\n",
       " 'thailand',\n",
       " 'torture',\n",
       " 'traincrashes',\n",
       " 'transport',\n",
       " 'tunisiaattack2015',\n",
       " 'turkey',\n",
       " 'turkeycoupattempt',\n",
       " 'ukcrime',\n",
       " 'uksecurity',\n",
       " 'uksupremecourt',\n",
       " 'undercoverpoliceandpolicing',\n",
       " 'unitednations',\n",
       " 'usguncontrol',\n",
       " 'values',\n",
       " 'warcrimes',\n",
       " 'warreporting',\n",
       " 'weaponstechnology',\n",
       " 'womeninbusiness',\n",
       " 'woolwichattack',\n",
       " 'worldmigration',\n",
       " 'zikavirus']"
      ]
     },
     "execution_count": 252,
     "metadata": {},
     "output_type": "execute_result"
    }
   ],
   "source": [
    "topics"
   ]
  },
  {
   "cell_type": "code",
   "execution_count": null,
   "metadata": {
    "collapsed": true
   },
   "outputs": [],
   "source": []
  }
 ],
 "metadata": {
  "kernelspec": {
   "display_name": "Python 2",
   "language": "python",
   "name": "python2"
  },
  "language_info": {
   "codemirror_mode": {
    "name": "ipython",
    "version": 2
   },
   "file_extension": ".py",
   "mimetype": "text/x-python",
   "name": "python",
   "nbconvert_exporter": "python",
   "pygments_lexer": "ipython2",
   "version": "2.7.12"
  }
 },
 "nbformat": 4,
 "nbformat_minor": 2
}
